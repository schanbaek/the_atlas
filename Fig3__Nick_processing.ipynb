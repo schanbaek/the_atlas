{
 "cells": [
  {
   "cell_type": "markdown",
   "metadata": {},
   "source": [
    "# Figure 3. Nick processing\n",
    "---"
   ]
  },
  {
   "cell_type": "code",
   "execution_count": 2,
   "metadata": {},
   "outputs": [
    {
     "name": "stdout",
     "output_type": "stream",
     "text": [
      "Last revised by Seungchan Baek at 2020-12-01.\n"
     ]
    }
   ],
   "source": [
    "import time\n",
    "today = time.strftime('%Y-%m-%d')\n",
    "name = 'Seungchan Baek'\n",
    "print 'Last revised by %s at %s.' % (name, today)"
   ]
  },
  {
   "cell_type": "code",
   "execution_count": 3,
   "metadata": {},
   "outputs": [
    {
     "name": "stdout",
     "output_type": "stream",
     "text": [
      "/casa/bsc/projects/1_DCS/2004_paper_prep\n"
     ]
    }
   ],
   "source": [
    "home = '/casa/bsc/projects/1_DCS/2004_paper_prep/'\n",
    "utilpath = '/casa/bsc/notebooks/'\n",
    "%cd $home"
   ]
  },
  {
   "cell_type": "code",
   "execution_count": 4,
   "metadata": {},
   "outputs": [
    {
     "name": "stdout",
     "output_type": "stream",
     "text": [
      "resultpath: results/201201/\n"
     ]
    }
   ],
   "source": [
    "from __future__ import division\n",
    "import sys; sys.path.append(utilpath)\n",
    "from util import *\n",
    "from basic import gen_result_dir\n",
    "resultpath = gen_result_dir('results/')\n",
    "print 'resultpath:', resultpath"
   ]
  },
  {
   "cell_type": "code",
   "execution_count": 5,
   "metadata": {},
   "outputs": [],
   "source": [
    "import pandas as pd\n",
    "import numpy as np\n",
    "import re\n",
    "import gzip\n",
    "from matplotlib import pyplot as plt\n",
    "from matplotlib import lines, gridspec\n",
    "from scipy.stats import mannwhitneyu, sem, ttest_ind, spearmanr\n",
    "from collections import defaultdict, Counter\n",
    "%matplotlib inline"
   ]
  },
  {
   "cell_type": "code",
   "execution_count": 6,
   "metadata": {},
   "outputs": [],
   "source": [
    "LIBRARIES = [ 'set1', 'set2', 'set3', 'set4', 'set5' ]"
   ]
  },
  {
   "cell_type": "code",
   "execution_count": 7,
   "metadata": {},
   "outputs": [],
   "source": [
    "s1 = pd.read_csv('supplementary/201123_s1__DROSHA_dependency.csv', header=1, index_col=0)\n",
    "s2 = pd.read_csv('supplementary/201123_s2__Construct.csv', header=1, index_col=0).fillna('')\n",
    "s3 = pd.read_csv('supplementary/201123_s3__DROSHA_processing_result.csv', header=1, index_col=0)\n",
    "s5 = pd.read_csv('supplementary/201123_s5__Nick_processing.csv', header=1)\n",
    "#s5 = pd.read_csv('supplementary/201012_s5_pri-structure.csv', header=1, index_col=0)\n",
    "#s6 = pd.read_csv('supplementary/201028_s6_cleavage-patterns.csv', header=1, index_col=0)"
   ]
  },
  {
   "cell_type": "code",
   "execution_count": 8,
   "metadata": {},
   "outputs": [
    {
     "name": "stdout",
     "output_type": "stream",
     "text": [
      "1881 (32, 90)\n"
     ]
    }
   ],
   "source": [
    "preposition = {}\n",
    "for mir in s2.index:\n",
    "    flank5, flank3 = s2.loc[mir,[\"5' flanking segment\",\"3' flanking segment\"]]\n",
    "    if flank5 or flank3:\n",
    "        preposition[mir] = (len(flank5)+1,125-len(flank3))\n",
    "    else:\n",
    "        preposition[mir] = (0,126)\n",
    "print len(preposition), preposition['hsa-mir-142']"
   ]
  },
  {
   "cell_type": "code",
   "execution_count": 9,
   "metadata": {},
   "outputs": [
    {
     "name": "stdout",
     "output_type": "stream",
     "text": [
      "1881\n"
     ]
    }
   ],
   "source": [
    "constseqs = dict(s2['Construct sequence (125 nt)'])\n",
    "print len(constseqs)"
   ]
  },
  {
   "cell_type": "code",
   "execution_count": 10,
   "metadata": {},
   "outputs": [
    {
     "name": "stdout",
     "output_type": "stream",
     "text": [
      "304 257 157 281\n"
     ]
    }
   ],
   "source": [
    "drodep = s1[s1['DROSHA dependency'].apply(lambda x:x.find('DROSHA-dependent')>=0)].index\n",
    "droind = s1[s1['DROSHA dependency'].apply(lambda x:x.find('DROSHA-independent')>=0)].index\n",
    "droko = s1[s1['DROSHA dependency'].apply(lambda x:x.find('DROSHA KO')>=0)].index\n",
    "fclip = s1[s1['DROSHA dependency'].apply(lambda x:x.find('fCLIP')>=0)].index\n",
    "print len(drodep), len(droind), len(droko), len(fclip)"
   ]
  },
  {
   "cell_type": "code",
   "execution_count": 11,
   "metadata": {},
   "outputs": [
    {
     "name": "stdout",
     "output_type": "stream",
     "text": [
      "1816 534 1282\n"
     ]
    }
   ],
   "source": [
    "EFFCUT = 2.5\n",
    "HOMCUT = .25\n",
    "effs = s3['Cleavage Efficiency'].to_dict()\n",
    "homs = s3['Cleavage Homogeneity'].to_dict()\n",
    "dcsmirs = [ m for m in s3.index if effs[m]>=EFFCUT and homs[m]>=HOMCUT ]\n",
    "nodcs = [ m for m in s3.index if m not in dcsmirs ]\n",
    "print len(s3.index), len(dcsmirs), len(nodcs)"
   ]
  },
  {
   "cell_type": "code",
   "execution_count": 12,
   "metadata": {},
   "outputs": [
    {
     "data": {
      "text/html": [
       "<div>\n",
       "<style scoped>\n",
       "    .dataframe tbody tr th:only-of-type {\n",
       "        vertical-align: middle;\n",
       "    }\n",
       "\n",
       "    .dataframe tbody tr th {\n",
       "        vertical-align: top;\n",
       "    }\n",
       "\n",
       "    .dataframe thead th {\n",
       "        text-align: right;\n",
       "    }\n",
       "</style>\n",
       "<table border=\"1\" class=\"dataframe\">\n",
       "  <thead>\n",
       "    <tr style=\"text-align: right;\">\n",
       "      <th></th>\n",
       "      <th>Pri-miRNA</th>\n",
       "      <th>rstart</th>\n",
       "      <th>rend</th>\n",
       "      <th>set1</th>\n",
       "      <th>set2</th>\n",
       "      <th>set3</th>\n",
       "      <th>set4</th>\n",
       "      <th>set5</th>\n",
       "    </tr>\n",
       "  </thead>\n",
       "  <tbody>\n",
       "    <tr>\n",
       "      <th>0</th>\n",
       "      <td>hsa-let-7a-1</td>\n",
       "      <td>1</td>\n",
       "      <td>8</td>\n",
       "      <td>4</td>\n",
       "      <td>4</td>\n",
       "      <td>0</td>\n",
       "      <td>0</td>\n",
       "      <td>0</td>\n",
       "    </tr>\n",
       "  </tbody>\n",
       "</table>\n",
       "</div>"
      ],
      "text/plain": [
       "      Pri-miRNA  rstart  rend  set1  set2  set3  set4  set5\n",
       "0  hsa-let-7a-1       1     8     4     4     0     0     0"
      ]
     },
     "execution_count": 12,
     "metadata": {},
     "output_type": "execute_result"
    }
   ],
   "source": [
    "clvraw = pd.read_csv('supplementary/201012_s4_cleavage-product.csv',header=1,index_col=[0,1,2])\n",
    "clvtbl = pd.DataFrame()\n",
    "for lib in LIBRARIES:\n",
    "    clvtbl[lib] = clvraw[['%s-1'%lib,'%s-2'%lib]].sum(axis=1)\n",
    "clvtbl = clvtbl.reset_index()\n",
    "clvtbl.head(1)"
   ]
  },
  {
   "cell_type": "code",
   "execution_count": 13,
   "metadata": {},
   "outputs": [],
   "source": [
    "START, MID, END = 1, 63, 125\n",
    "clv5f = clvtbl[(clvtbl['rstart']==START)&(clvtbl['rend']<MID)].set_index('Pri-miRNA')\n",
    "clv3f = clvtbl[(clvtbl['rstart']>MID)&(clvtbl['rend']==END)].set_index('Pri-miRNA')\n",
    "clvhn = clvtbl[(clvtbl['rstart']<MID)&(clvtbl['rend']>MID)]\n",
    "clvn5 = clvhn[clvhn['rstart']==START]\n",
    "clvn3 = clvhn[clvhn['rend']==END]\n",
    "clvh = clvhn.drop(clvn5.index).drop(clvn3.index).set_index('Pri-miRNA')\n",
    "clvn5 = clvn5.set_index('Pri-miRNA'); clvn3 = clvn3.set_index('Pri-miRNA')"
   ]
  },
  {
   "cell_type": "code",
   "execution_count": 14,
   "metadata": {},
   "outputs": [],
   "source": [
    "def fill_unfound(tbl):\n",
    "    found = set(tbl.index)\n",
    "    unfound = [ mir for mir in s2.index if mir not in found ]\n",
    "    fill = pd.DataFrame(index=unfound, columns=tbl.columns).fillna(0)\n",
    "    return tbl.append(fill)"
   ]
  },
  {
   "cell_type": "code",
   "execution_count": 15,
   "metadata": {},
   "outputs": [],
   "source": [
    "clvtbl = fill_unfound(clvtbl.set_index('Pri-miRNA'))\n",
    "clv5f = fill_unfound(clv5f)\n",
    "clv3f = fill_unfound(clv3f)\n",
    "clvh = fill_unfound(clvh)\n",
    "clvn5 = fill_unfound(clvn5)\n",
    "clvn3 = fill_unfound(clvn3)"
   ]
  },
  {
   "cell_type": "markdown",
   "metadata": {},
   "source": [
    "---"
   ]
  },
  {
   "cell_type": "markdown",
   "metadata": {},
   "source": [
    "## C. Reproducibility of 5p nick processing"
   ]
  },
  {
   "cell_type": "code",
   "execution_count": 17,
   "metadata": {},
   "outputs": [
    {
     "data": {
      "text/plain": [
       "(31, 88)"
      ]
     },
     "execution_count": 17,
     "metadata": {},
     "output_type": "execute_result"
    }
   ],
   "source": [
    "preposition['hsa-mir-20a']"
   ]
  },
  {
   "cell_type": "code",
   "execution_count": 16,
   "metadata": {},
   "outputs": [
    {
     "data": {
      "text/html": [
       "<div>\n",
       "<style scoped>\n",
       "    .dataframe tbody tr th:only-of-type {\n",
       "        vertical-align: middle;\n",
       "    }\n",
       "\n",
       "    .dataframe tbody tr th {\n",
       "        vertical-align: top;\n",
       "    }\n",
       "\n",
       "    .dataframe thead th {\n",
       "        text-align: right;\n",
       "    }\n",
       "</style>\n",
       "<table border=\"1\" class=\"dataframe\">\n",
       "  <thead>\n",
       "    <tr style=\"text-align: right;\">\n",
       "      <th></th>\n",
       "      <th>index</th>\n",
       "      <th>rend</th>\n",
       "      <th>set1</th>\n",
       "      <th>set2</th>\n",
       "      <th>set3</th>\n",
       "      <th>set4</th>\n",
       "      <th>set5</th>\n",
       "    </tr>\n",
       "    <tr>\n",
       "      <th>rstart</th>\n",
       "      <th></th>\n",
       "      <th></th>\n",
       "      <th></th>\n",
       "      <th></th>\n",
       "      <th></th>\n",
       "      <th></th>\n",
       "      <th></th>\n",
       "    </tr>\n",
       "  </thead>\n",
       "  <tbody>\n",
       "    <tr>\n",
       "      <th>10</th>\n",
       "      <td>hsa-mir-20a</td>\n",
       "      <td>125</td>\n",
       "      <td>2</td>\n",
       "      <td>0</td>\n",
       "      <td>0</td>\n",
       "      <td>0</td>\n",
       "      <td>0</td>\n",
       "    </tr>\n",
       "    <tr>\n",
       "      <th>13</th>\n",
       "      <td>hsa-mir-20a</td>\n",
       "      <td>125</td>\n",
       "      <td>3</td>\n",
       "      <td>0</td>\n",
       "      <td>0</td>\n",
       "      <td>0</td>\n",
       "      <td>0</td>\n",
       "    </tr>\n",
       "    <tr>\n",
       "      <th>16</th>\n",
       "      <td>hsa-mir-20a</td>\n",
       "      <td>125</td>\n",
       "      <td>4</td>\n",
       "      <td>0</td>\n",
       "      <td>0</td>\n",
       "      <td>0</td>\n",
       "      <td>0</td>\n",
       "    </tr>\n",
       "    <tr>\n",
       "      <th>17</th>\n",
       "      <td>hsa-mir-20a</td>\n",
       "      <td>125</td>\n",
       "      <td>4</td>\n",
       "      <td>1</td>\n",
       "      <td>0</td>\n",
       "      <td>0</td>\n",
       "      <td>0</td>\n",
       "    </tr>\n",
       "    <tr>\n",
       "      <th>18</th>\n",
       "      <td>hsa-mir-20a</td>\n",
       "      <td>125</td>\n",
       "      <td>1</td>\n",
       "      <td>0</td>\n",
       "      <td>0</td>\n",
       "      <td>0</td>\n",
       "      <td>0</td>\n",
       "    </tr>\n",
       "    <tr>\n",
       "      <th>20</th>\n",
       "      <td>hsa-mir-20a</td>\n",
       "      <td>125</td>\n",
       "      <td>3</td>\n",
       "      <td>0</td>\n",
       "      <td>0</td>\n",
       "      <td>0</td>\n",
       "      <td>0</td>\n",
       "    </tr>\n",
       "    <tr>\n",
       "      <th>24</th>\n",
       "      <td>hsa-mir-20a</td>\n",
       "      <td>125</td>\n",
       "      <td>1</td>\n",
       "      <td>0</td>\n",
       "      <td>0</td>\n",
       "      <td>0</td>\n",
       "      <td>0</td>\n",
       "    </tr>\n",
       "    <tr>\n",
       "      <th>25</th>\n",
       "      <td>hsa-mir-20a</td>\n",
       "      <td>125</td>\n",
       "      <td>3</td>\n",
       "      <td>1</td>\n",
       "      <td>0</td>\n",
       "      <td>0</td>\n",
       "      <td>0</td>\n",
       "    </tr>\n",
       "    <tr>\n",
       "      <th>27</th>\n",
       "      <td>hsa-mir-20a</td>\n",
       "      <td>125</td>\n",
       "      <td>23</td>\n",
       "      <td>4</td>\n",
       "      <td>0</td>\n",
       "      <td>0</td>\n",
       "      <td>0</td>\n",
       "    </tr>\n",
       "    <tr>\n",
       "      <th>28</th>\n",
       "      <td>hsa-mir-20a</td>\n",
       "      <td>125</td>\n",
       "      <td>18</td>\n",
       "      <td>0</td>\n",
       "      <td>0</td>\n",
       "      <td>0</td>\n",
       "      <td>0</td>\n",
       "    </tr>\n",
       "    <tr>\n",
       "      <th>29</th>\n",
       "      <td>hsa-mir-20a</td>\n",
       "      <td>125</td>\n",
       "      <td>16</td>\n",
       "      <td>1</td>\n",
       "      <td>0</td>\n",
       "      <td>0</td>\n",
       "      <td>0</td>\n",
       "    </tr>\n",
       "    <tr>\n",
       "      <th>30</th>\n",
       "      <td>hsa-mir-20a</td>\n",
       "      <td>125</td>\n",
       "      <td>6</td>\n",
       "      <td>1</td>\n",
       "      <td>0</td>\n",
       "      <td>0</td>\n",
       "      <td>0</td>\n",
       "    </tr>\n",
       "    <tr>\n",
       "      <th>31</th>\n",
       "      <td>hsa-mir-20a</td>\n",
       "      <td>125</td>\n",
       "      <td>93</td>\n",
       "      <td>3</td>\n",
       "      <td>0</td>\n",
       "      <td>0</td>\n",
       "      <td>0</td>\n",
       "    </tr>\n",
       "    <tr>\n",
       "      <th>32</th>\n",
       "      <td>hsa-mir-20a</td>\n",
       "      <td>125</td>\n",
       "      <td>1</td>\n",
       "      <td>0</td>\n",
       "      <td>0</td>\n",
       "      <td>0</td>\n",
       "      <td>0</td>\n",
       "    </tr>\n",
       "    <tr>\n",
       "      <th>34</th>\n",
       "      <td>hsa-mir-20a</td>\n",
       "      <td>125</td>\n",
       "      <td>2</td>\n",
       "      <td>0</td>\n",
       "      <td>0</td>\n",
       "      <td>0</td>\n",
       "      <td>0</td>\n",
       "    </tr>\n",
       "    <tr>\n",
       "      <th>35</th>\n",
       "      <td>hsa-mir-20a</td>\n",
       "      <td>125</td>\n",
       "      <td>2</td>\n",
       "      <td>0</td>\n",
       "      <td>0</td>\n",
       "      <td>0</td>\n",
       "      <td>0</td>\n",
       "    </tr>\n",
       "    <tr>\n",
       "      <th>36</th>\n",
       "      <td>hsa-mir-20a</td>\n",
       "      <td>125</td>\n",
       "      <td>111</td>\n",
       "      <td>11</td>\n",
       "      <td>0</td>\n",
       "      <td>0</td>\n",
       "      <td>0</td>\n",
       "    </tr>\n",
       "    <tr>\n",
       "      <th>37</th>\n",
       "      <td>hsa-mir-20a</td>\n",
       "      <td>125</td>\n",
       "      <td>2</td>\n",
       "      <td>0</td>\n",
       "      <td>0</td>\n",
       "      <td>0</td>\n",
       "      <td>0</td>\n",
       "    </tr>\n",
       "    <tr>\n",
       "      <th>38</th>\n",
       "      <td>hsa-mir-20a</td>\n",
       "      <td>125</td>\n",
       "      <td>5</td>\n",
       "      <td>0</td>\n",
       "      <td>0</td>\n",
       "      <td>0</td>\n",
       "      <td>0</td>\n",
       "    </tr>\n",
       "    <tr>\n",
       "      <th>39</th>\n",
       "      <td>hsa-mir-20a</td>\n",
       "      <td>125</td>\n",
       "      <td>22</td>\n",
       "      <td>0</td>\n",
       "      <td>0</td>\n",
       "      <td>0</td>\n",
       "      <td>0</td>\n",
       "    </tr>\n",
       "    <tr>\n",
       "      <th>40</th>\n",
       "      <td>hsa-mir-20a</td>\n",
       "      <td>125</td>\n",
       "      <td>9</td>\n",
       "      <td>0</td>\n",
       "      <td>0</td>\n",
       "      <td>0</td>\n",
       "      <td>0</td>\n",
       "    </tr>\n",
       "    <tr>\n",
       "      <th>41</th>\n",
       "      <td>hsa-mir-20a</td>\n",
       "      <td>125</td>\n",
       "      <td>4</td>\n",
       "      <td>0</td>\n",
       "      <td>0</td>\n",
       "      <td>0</td>\n",
       "      <td>0</td>\n",
       "    </tr>\n",
       "    <tr>\n",
       "      <th>42</th>\n",
       "      <td>hsa-mir-20a</td>\n",
       "      <td>125</td>\n",
       "      <td>2</td>\n",
       "      <td>0</td>\n",
       "      <td>0</td>\n",
       "      <td>0</td>\n",
       "      <td>0</td>\n",
       "    </tr>\n",
       "    <tr>\n",
       "      <th>54</th>\n",
       "      <td>hsa-mir-20a</td>\n",
       "      <td>125</td>\n",
       "      <td>1</td>\n",
       "      <td>0</td>\n",
       "      <td>0</td>\n",
       "      <td>0</td>\n",
       "      <td>0</td>\n",
       "    </tr>\n",
       "  </tbody>\n",
       "</table>\n",
       "</div>"
      ],
      "text/plain": [
       "              index  rend  set1  set2  set3  set4  set5\n",
       "rstart                                                 \n",
       "10      hsa-mir-20a   125     2     0     0     0     0\n",
       "13      hsa-mir-20a   125     3     0     0     0     0\n",
       "16      hsa-mir-20a   125     4     0     0     0     0\n",
       "17      hsa-mir-20a   125     4     1     0     0     0\n",
       "18      hsa-mir-20a   125     1     0     0     0     0\n",
       "20      hsa-mir-20a   125     3     0     0     0     0\n",
       "24      hsa-mir-20a   125     1     0     0     0     0\n",
       "25      hsa-mir-20a   125     3     1     0     0     0\n",
       "27      hsa-mir-20a   125    23     4     0     0     0\n",
       "28      hsa-mir-20a   125    18     0     0     0     0\n",
       "29      hsa-mir-20a   125    16     1     0     0     0\n",
       "30      hsa-mir-20a   125     6     1     0     0     0\n",
       "31      hsa-mir-20a   125    93     3     0     0     0\n",
       "32      hsa-mir-20a   125     1     0     0     0     0\n",
       "34      hsa-mir-20a   125     2     0     0     0     0\n",
       "35      hsa-mir-20a   125     2     0     0     0     0\n",
       "36      hsa-mir-20a   125   111    11     0     0     0\n",
       "37      hsa-mir-20a   125     2     0     0     0     0\n",
       "38      hsa-mir-20a   125     5     0     0     0     0\n",
       "39      hsa-mir-20a   125    22     0     0     0     0\n",
       "40      hsa-mir-20a   125     9     0     0     0     0\n",
       "41      hsa-mir-20a   125     4     0     0     0     0\n",
       "42      hsa-mir-20a   125     2     0     0     0     0\n",
       "54      hsa-mir-20a   125     1     0     0     0     0"
      ]
     },
     "execution_count": 16,
     "metadata": {},
     "output_type": "execute_result"
    }
   ],
   "source": [
    "mir = 'hsa-mir-20a'\n",
    "unc3 = clvn3.loc[[mir]].reset_index().set_index(['rstart'])\n",
    "unc3"
   ]
  },
  {
   "cell_type": "code",
   "execution_count": 18,
   "metadata": {},
   "outputs": [
    {
     "name": "stdout",
     "output_type": "stream",
     "text": [
      "802 802\n"
     ]
    }
   ],
   "source": [
    "S1, S2 = 'set1','set2'\n",
    "RCUTOFFH, WINDOW = 10, 3\n",
    "nick5, nick3 = {}, {}\n",
    "for mir in s2.index:\n",
    "    ps, pe = preposition[mir]\n",
    "    if ps<1 or pe>125:\n",
    "        continue\n",
    "    unc5 = clvn5.loc[[mir]].reset_index().set_index(['rend'])\n",
    "    unc5 = unc5.reindex(range(pe-WINDOW,pe+WINDOW+1)).sum()\n",
    "    unc3 = clvn3.loc[[mir]].reset_index().set_index(['rstart'])\n",
    "    unc3 = unc3.reindex(range(ps-WINDOW,ps+WINDOW+1)).sum()\n",
    "    hpn = clvh.loc[[mir]]\n",
    "    hpn = hpn[hpn.apply(lambda x: (x['rstart'] in range(ps-WINDOW,ps+WINDOW+1)) and \n",
    "                                  (x['rend'] in range(pe-WINDOW,pe+WINDOW+1)),axis=1)].sum()\n",
    "    if hpn[S1]>=RCUTOFFH and hpn[S2]>=RCUTOFFH:\n",
    "        nick5[mir] = ((unc3[S1]+1)/(hpn[S1]+1),(unc3[S2]+1)/(hpn[S2]+1))\n",
    "        nick3[mir] = ((unc5[S1]+1)/(hpn[S1]+1),(unc5[S2]+1)/(hpn[S2]+1))\n",
    "print len(nick5), len(nick3)"
   ]
  },
  {
   "cell_type": "code",
   "execution_count": 47,
   "metadata": {},
   "outputs": [
    {
     "name": "stdout",
     "output_type": "stream",
     "text": [
      "0.8536304200983681\n"
     ]
    }
   ],
   "source": [
    "tmp = ['hsa-mir-10a','hsa-mir-10b','hsa-mir-20a','hsa-mir-17','hsa-mir-106a','hsa-mir-92a-1']\n",
    "xs, ys = zip(*nick5.values())\n",
    "xs2, ys2 = zip(*[nick5[m] for m in tmp])\n",
    "r = spearmanr(xs, ys)[0]\n",
    "xs = np.log2(xs)\n",
    "ys = np.log2(ys)\n",
    "xs2 = np.log2(xs2)\n",
    "ys2 = np.log2(ys2)\n",
    "print r"
   ]
  },
  {
   "cell_type": "code",
   "execution_count": 49,
   "metadata": {},
   "outputs": [
    {
     "data": {
      "text/plain": [
       "Text(6,-12,u'$R_s$ = 0.85')"
      ]
     },
     "execution_count": 49,
     "metadata": {},
     "output_type": "execute_result"
    },
    {
     "data": {
      "image/png": "[encoded data removed]",
      "text/plain": [
       "<matplotlib.figure.Figure at 0x7f10323f8b10>"
      ]
     },
     "metadata": {},
     "output_type": "display_data"
    }
   ],
   "source": [
    "fig, ax = plt.subplots(1, 1, figsize=(2.5,2.5))\n",
    "ax.scatter(xs, ys, s=7, color='k', alpha=.2, zorder=3, rasterized=True)\n",
    "ax.scatter(xs2, ys2, s=7, color='r', alpha=1, zorder=3, rasterized=True)\n",
    "\n",
    "ax.set_xlabel('log2 (5p nick product / hairpin)\\n[set #1]')\n",
    "ax.set_ylabel('log2 (5p nick product / hairpin)\\n[set #2]')\n",
    "ax.set_yticks([-10,-5,0])\n",
    "ax.set_xlim(-12.5,5.5)\n",
    "ax.set_ylim(-12.5,1.5)\n",
    "ax.axhline(0,color='k',ls='--',lw=1)\n",
    "ax.axvline(0,color='k',ls='--',lw=1)\n",
    "ax.grid(ls='-',lw=.5)\n",
    "ax.text(6,-12,'$R_s$ = %.2f'%r,ha='right')\n",
    "#fig.savefig(resultpath + '201123_f3c__nick5_meta.pdf',dpi=300)"
   ]
  },
  {
   "cell_type": "code",
   "execution_count": 48,
   "metadata": {},
   "outputs": [
    {
     "name": "stdout",
     "output_type": "stream",
     "text": [
      "hsa-mir-10a\t1.72\t-1.63\n",
      "hsa-mir-10b\t4.00\t0.21\n",
      "hsa-mir-20a\t1.27\t-1.66\n",
      "hsa-mir-17\t3.71\t1.31\n",
      "hsa-mir-106a\t4.31\t1.01\n",
      "hsa-mir-92a-1\t1.00\t-2.35\n"
     ]
    }
   ],
   "source": [
    "for mir in tmp:\n",
    "    n1, n2 = nick5[mir]\n",
    "    n1 = np.log2(n1); n2 = np.log2(n2)\n",
    "    #if n1>0 and n2>0:\n",
    "    print '%s\\t%.2f\\t%.2f'%(mir, n1, n2)"
   ]
  },
  {
   "cell_type": "markdown",
   "metadata": {},
   "source": [
    "## D. Reproducibility of 3p nick processing"
   ]
  },
  {
   "cell_type": "code",
   "execution_count": 34,
   "metadata": {},
   "outputs": [
    {
     "name": "stdout",
     "output_type": "stream",
     "text": [
      "0.7990169132785298\n"
     ]
    }
   ],
   "source": [
    "xs, ys = zip(*nick3.values())\n",
    "r = spearmanr(xs, ys)[0]\n",
    "xs = np.log2(xs)\n",
    "ys = np.log2(ys)\n",
    "print r"
   ]
  },
  {
   "cell_type": "code",
   "execution_count": 45,
   "metadata": {},
   "outputs": [
    {
     "data": {
      "image/png": "[encoded data removed]",
      "text/plain": [
       "<matplotlib.figure.Figure at 0x7fef716dddd0>"
      ]
     },
     "metadata": {},
     "output_type": "display_data"
    }
   ],
   "source": [
    "fig, ax = plt.subplots(1, 1, figsize=(2.5,2.5))\n",
    "ax.scatter(xs, ys, s=7, color='k', alpha=.2, zorder=3, rasterized=True)\n",
    "\n",
    "ax.set_xlabel('log2 (3p nick product / hairpin)\\n[set #1]')\n",
    "ax.set_ylabel('log2 (3p nick product / hairpin)\\n[set #2]')\n",
    "ax.set_yticks([-10,-5,0])\n",
    "ax.set_xlim(-15,5.5)\n",
    "ax.set_ylim(-12.5,1.5)\n",
    "ax.axhline(0,color='k',ls='--',lw=1)\n",
    "ax.axvline(0,color='k',ls='--',lw=1)\n",
    "ax.grid(ls='-',lw=.5)\n",
    "ax.text(.5,-12,'$R_s$ = %.2f'%r)\n",
    "fig.savefig(resultpath + '201123_f3d__nick3_meta.pdf',dpi=300)"
   ]
  },
  {
   "cell_type": "code",
   "execution_count": 157,
   "metadata": {},
   "outputs": [
    {
     "name": "stdout",
     "output_type": "stream",
     "text": [
      "hsa-mir-92a-2\t0.65\t-0.85\n",
      "hsa-mir-365b\t0.86\t-2.58\n",
      "hsa-mir-4268\t1.48\t0.24\n",
      "hsa-mir-128-1\t1.87\t-0.49\n",
      "hsa-mir-16-2\t2.12\t-2.72\n"
     ]
    }
   ],
   "source": [
    "for mir in sorted(nick3.keys(),key=lambda x: nick3[x][0]):\n",
    "    n1, n2 = nick3[mir]\n",
    "    n1 = np.log2(n1); n2 = np.log2(n2)\n",
    "    if n1>.5 and n2>-3:\n",
    "        print '%s\\t%.2f\\t%.2f'%(mir, n1, n2)"
   ]
  },
  {
   "cell_type": "markdown",
   "metadata": {},
   "source": [
    "## E. Comparison with fCLIP-seq - 5p nick"
   ]
  },
  {
   "cell_type": "code",
   "execution_count": 36,
   "metadata": {},
   "outputs": [
    {
     "data": {
      "text/html": [
       "<div>\n",
       "<style scoped>\n",
       "    .dataframe tbody tr th:only-of-type {\n",
       "        vertical-align: middle;\n",
       "    }\n",
       "\n",
       "    .dataframe tbody tr th {\n",
       "        vertical-align: top;\n",
       "    }\n",
       "\n",
       "    .dataframe thead th {\n",
       "        text-align: right;\n",
       "    }\n",
       "</style>\n",
       "<table border=\"1\" class=\"dataframe\">\n",
       "  <thead>\n",
       "    <tr style=\"text-align: right;\">\n",
       "      <th></th>\n",
       "      <th>Group5p</th>\n",
       "      <th>Group3p</th>\n",
       "      <th>Overhang</th>\n",
       "      <th>miRBaseOverhang</th>\n",
       "      <th>Contig</th>\n",
       "      <th>Strand</th>\n",
       "      <th>mirBasePosition5p</th>\n",
       "      <th>fCLIPPosition5p</th>\n",
       "    </tr>\n",
       "    <tr>\n",
       "      <th>miRNA</th>\n",
       "      <th></th>\n",
       "      <th></th>\n",
       "      <th></th>\n",
       "      <th></th>\n",
       "      <th></th>\n",
       "      <th></th>\n",
       "      <th></th>\n",
       "      <th></th>\n",
       "    </tr>\n",
       "  </thead>\n",
       "  <tbody>\n",
       "    <tr>\n",
       "      <th>hsa-let-7a-1</th>\n",
       "      <td>Matched site</td>\n",
       "      <td>Matched site</td>\n",
       "      <td>1.0</td>\n",
       "      <td>1.0</td>\n",
       "      <td>chr9</td>\n",
       "      <td>+</td>\n",
       "      <td>94175962.0</td>\n",
       "      <td>94175962</td>\n",
       "    </tr>\n",
       "  </tbody>\n",
       "</table>\n",
       "</div>"
      ],
      "text/plain": [
       "                   Group5p       Group3p  Overhang  miRBaseOverhang Contig  \\\n",
       "miRNA                                                                        \n",
       "hsa-let-7a-1  Matched site  Matched site       1.0              1.0   chr9   \n",
       "\n",
       "             Strand  mirBasePosition5p fCLIPPosition5p  \n",
       "miRNA                                                   \n",
       "hsa-let-7a-1      +         94175962.0        94175962  "
      ]
     },
     "execution_count": 36,
     "metadata": {},
     "output_type": "execute_result"
    }
   ],
   "source": [
    "fclipexcel = pd.ExcelFile('supplementary/Kim_2017_s2.xlsx')\n",
    "fclip293t = fclipexcel.parse('HEK293T_miRBase', index_col=0)\n",
    "both293t = fclip293t[(fclip293t['Group5p']!='Unidentified')&\n",
    "                     (fclip293t['Group3p']!='Unidentified')]\n",
    "both293t.iloc[:1, :8]"
   ]
  },
  {
   "cell_type": "code",
   "execution_count": 37,
   "metadata": {},
   "outputs": [
    {
     "data": {
      "text/html": [
       "<div>\n",
       "<style scoped>\n",
       "    .dataframe tbody tr th:only-of-type {\n",
       "        vertical-align: middle;\n",
       "    }\n",
       "\n",
       "    .dataframe tbody tr th {\n",
       "        vertical-align: top;\n",
       "    }\n",
       "\n",
       "    .dataframe thead th {\n",
       "        text-align: right;\n",
       "    }\n",
       "</style>\n",
       "<table border=\"1\" class=\"dataframe\">\n",
       "  <thead>\n",
       "    <tr style=\"text-align: right;\">\n",
       "      <th></th>\n",
       "      <th>chr</th>\n",
       "      <th>start</th>\n",
       "      <th>end</th>\n",
       "      <th>miRNA</th>\n",
       "      <th>strand</th>\n",
       "    </tr>\n",
       "  </thead>\n",
       "  <tbody>\n",
       "    <tr>\n",
       "      <th>0</th>\n",
       "      <td>chr1</td>\n",
       "      <td>17311</td>\n",
       "      <td>17415</td>\n",
       "      <td>hsa-mir-6859-1</td>\n",
       "      <td>-</td>\n",
       "    </tr>\n",
       "  </tbody>\n",
       "</table>\n",
       "</div>"
      ],
      "text/plain": [
       "    chr  start    end           miRNA strand\n",
       "0  chr1  17311  17415  hsa-mir-6859-1      -"
      ]
     },
     "execution_count": 37,
     "metadata": {},
     "output_type": "execute_result"
    }
   ],
   "source": [
    "bedcols = [ 'chr', 'start', 'end', 'miRNA', 'strand' ]\n",
    "bedfile = 'supplementary/fCLIP/293T/293T_191115_genome-annot_1881-pris_mp1_sp1.bed.gz'\n",
    "ftbl = pd.read_table(gzip.open(bedfile,'rb'),usecols=[0,1,2,15,17],names=bedcols)\n",
    "ftbl['start']=ftbl['start']+1\n",
    "ftbl.head(1)"
   ]
  },
  {
   "cell_type": "code",
   "execution_count": 39,
   "metadata": {},
   "outputs": [
    {
     "name": "stdout",
     "output_type": "stream",
     "text": [
      "181 181\n"
     ]
    }
   ],
   "source": [
    "FCLIPCUT = 5\n",
    "xpos = range(-5,100)\n",
    "tbl5, tbl3 = pd.DataFrame(columns=xpos), pd.DataFrame(columns=xpos)\n",
    "for mir, row in both293t.iterrows():\n",
    "    c5,c3,strand = row[['fCLIPPosition5p','fCLIPPosition3p','Strand']].astype(str)\n",
    "    if c5.find(';')>=0 or c3.find(';')>=0:\n",
    "        continue\n",
    "    c5 = int(c5)\n",
    "    c3 = int(c3)\n",
    "    sub = ftbl[ftbl['miRNA']==mir]\n",
    "    if strand=='+':\n",
    "        premir = sub[(sub['start']==c5)&(sub['end']==c3)]\n",
    "        if len(premir)>=FCLIPCUT:\n",
    "            cut5 = sub[sub['start']==c5]\n",
    "            cut3 = sub[sub['end']==c3]\n",
    "            tbl3.loc[mir] = pd.Series(Counter(cut5['end']-c3))\n",
    "            tbl5.loc[mir] = pd.Series(Counter(c5-cut3['start']))\n",
    "    else:\n",
    "        premir = sub[(sub['start']==c3)&(sub['end']==c5)]\n",
    "        if len(premir)>=FCLIPCUT:\n",
    "            cut5 = sub[sub['end']==c5]\n",
    "            cut3 = sub[sub['start']==c3]\n",
    "            tbl3.loc[mir] = pd.Series(Counter(-cut5['start']+c3))\n",
    "            tbl5.loc[mir] = pd.Series(Counter(cut3['end']-c5))\n",
    "tbl3 = tbl3.fillna(0).sort_index()\n",
    "tbl5 = tbl5.fillna(0).sort_index()\n",
    "print len(tbl3), len(tbl5)"
   ]
  },
  {
   "cell_type": "code",
   "execution_count": 40,
   "metadata": {},
   "outputs": [],
   "source": [
    "tbl3['5nick'] = tbl3[range(3,20)].sum(axis=1)/tbl3[0]\n",
    "tbl5['3nick'] = tbl5[range(3,20)].sum(axis=1)/tbl5[0]"
   ]
  },
  {
   "cell_type": "code",
   "execution_count": 41,
   "metadata": {},
   "outputs": [
    {
     "name": "stdout",
     "output_type": "stream",
     "text": [
      "169\n"
     ]
    }
   ],
   "source": [
    "pscnt = .0002\n",
    "comp5 = {}\n",
    "for mir in tbl3.index:\n",
    "    ps, pe = preposition[mir]\n",
    "    if ps<1 or pe>125 or mir not in set(clvn5.index):\n",
    "        continue\n",
    "    unc3 = clvn3.loc[[mir]].reset_index().set_index(['rstart'])\n",
    "    unc3 = unc3.reindex(range(ps-WINDOW,ps+WINDOW+1)).sum()\n",
    "    hpn = clvh.loc[[mir]]\n",
    "    hpn = hpn[hpn.apply(lambda x: (x['rstart'] in range(ps-WINDOW,ps+WINDOW+1)) and \n",
    "                                  (x['rend'] in range(pe-WINDOW,pe+WINDOW+1)),axis=1)].sum()\n",
    "    if hpn['set1']>=FCLIPCUT:#RCUTOFFH:\n",
    "        comp5[mir] = (np.log2(unc3['set1']/hpn['set1']+pscnt),\n",
    "                      np.log2(tbl3.loc[mir,'5nick']+pscnt))\n",
    "print len(comp5)"
   ]
  },
  {
   "cell_type": "code",
   "execution_count": 42,
   "metadata": {},
   "outputs": [
    {
     "name": "stdout",
     "output_type": "stream",
     "text": [
      "0.16495666226719974 0.03209499268249828\n"
     ]
    }
   ],
   "source": [
    "xs, ys = zip(*comp5.values())\n",
    "r, p = spearmanr(xs,ys)\n",
    "print r, p"
   ]
  },
  {
   "cell_type": "code",
   "execution_count": 50,
   "metadata": {},
   "outputs": [
    {
     "name": "stdout",
     "output_type": "stream",
     "text": [
      "hsa-mir-10b (4.00855292571711, -12.287712379549449)\n",
      "hsa-mir-20a (1.2802267244806578, -10.438046652633881)\n",
      "hsa-mir-17 (3.736293474668332, -10.340586811532525)\n",
      "hsa-mir-92a-1 (0.9967218392989076, -6.6733503692374585)\n"
     ]
    }
   ],
   "source": [
    "for mir in tmp:\n",
    "    if mir in comp5:\n",
    "        print mir,comp5[mir]"
   ]
  },
  {
   "cell_type": "code",
   "execution_count": 194,
   "metadata": {},
   "outputs": [
    {
     "data": {
      "text/plain": [
       "Text(-11,-2,u'N = 169\\n$R_s$ = 0.16\\np = 0.032')"
      ]
     },
     "execution_count": 194,
     "metadata": {},
     "output_type": "execute_result"
    },
    {
     "data": {
      "image/png": "[encoded data removed]",
      "text/plain": [
       "<matplotlib.figure.Figure at 0x7fef71805590>"
      ]
     },
     "metadata": {},
     "output_type": "display_data"
    }
   ],
   "source": [
    "fig, ax = plt.subplots(1, 1, figsize=(2.5,2.5))\n",
    "ax.scatter(xs, ys, s=8, color='k', alpha=.7, zorder=2, rasterized=True)\n",
    "ax.set_xlabel('log2 (5p nick product / hairpin)\\n[in vitro processing, set #1]')\n",
    "ax.set_ylabel('log2 (5p nick product / hairpin)\\n[fCLIP-seq, 293T]')\n",
    "ax.set_xticks(range(-12,5,4))\n",
    "ax.set_yticks(range(-12,-3,4))\n",
    "ax.grid(ls='-',lw=.5)\n",
    "ax.text(-11,-2,'N = %s\\n$R_s$ = %.2f\\np = %.3f'%(len(xs),r,p),va='top',\n",
    "       bbox={'pad':.2,'color':'#bababa','alpha':.5,'boxstyle':'round','lw':0})\n",
    "#fig.savefig(resultpath + '201117_f3__nick5_fcilp.pdf',dpi=300)"
   ]
  },
  {
   "cell_type": "code",
   "execution_count": 195,
   "metadata": {},
   "outputs": [
    {
     "name": "stdout",
     "output_type": "stream",
     "text": [
      "hsa-mir-4746\t1.85\t-2.32\t1.85\t0.18\n",
      "hsa-mir-3607\t-4.14\t-3.17\t0.17\t0.04\n",
      "hsa-mir-181b-2\t4.59\t-3.46\t0.00\t0.10\n",
      "hsa-mir-374b\t3.57\t-4.75\t0.00\t0.00\n",
      "hsa-mir-192\t-0.41\t-4.95\t2.45\t0.18\n",
      "hsa-mir-181b-1\t-3.28\t-6.35\t0.83\t0.42\n",
      "hsa-mir-92a-1\t1.00\t-6.67\t3.67\t0.62\n"
     ]
    }
   ],
   "source": [
    "for m in sorted(comp5.keys(),key=lambda x:-comp5[x][1]):\n",
    "    vitro, vivo = comp5[m]\n",
    "    if vitro>-8 and vivo>-8:\n",
    "        print '%s\\t%.2f\\t%.2f\\t%.2f\\t%.2f'%(m, vitro, vivo, effs[m], homs[m])"
   ]
  },
  {
   "cell_type": "markdown",
   "metadata": {},
   "source": [
    "## F. Comparison with fCLIP-seq - 3p nick"
   ]
  },
  {
   "cell_type": "code",
   "execution_count": 51,
   "metadata": {},
   "outputs": [
    {
     "name": "stdout",
     "output_type": "stream",
     "text": [
      "169\n"
     ]
    }
   ],
   "source": [
    "pscnt = .0002\n",
    "comp3 = {}\n",
    "for mir in tbl5.index:\n",
    "    ps, pe = preposition[mir]\n",
    "    if ps<1 or pe>125 or mir not in set(clvn5.index):\n",
    "        continue\n",
    "    unc5 = clvn5.loc[[mir]].reset_index().set_index(['rend'])\n",
    "    unc5 = unc5.reindex(range(pe-WINDOW,pe+WINDOW+1)).sum()\n",
    "    hpn = clvh.loc[[mir]]\n",
    "    hpn = hpn[hpn.apply(lambda x: (x['rstart'] in range(ps-WINDOW,ps+WINDOW+1)) and \n",
    "                                  (x['rend'] in range(pe-WINDOW,pe+WINDOW+1)),axis=1)].sum()\n",
    "    if hpn['set1']>=FCLIPCUT:#RCUTOFFH:\n",
    "        comp3[mir] = (np.log2(unc5['set1']/hpn['set1']+pscnt),\n",
    "                      np.log2(tbl5.loc[mir,'3nick']+pscnt))\n",
    "print len(comp3)"
   ]
  },
  {
   "cell_type": "code",
   "execution_count": 65,
   "metadata": {},
   "outputs": [
    {
     "data": {
      "text/plain": [
       "array([ 0.33162149, -3.02553509])"
      ]
     },
     "execution_count": 65,
     "metadata": {},
     "output_type": "execute_result"
    }
   ],
   "source": [
    "np.log2(nick3['hsa-mir-30c-2'])"
   ]
  },
  {
   "cell_type": "code",
   "execution_count": 60,
   "metadata": {},
   "outputs": [
    {
     "data": {
      "text/plain": [
       "(0.33521298122558285, -12.287712379549449)"
      ]
     },
     "execution_count": 60,
     "metadata": {},
     "output_type": "execute_result"
    }
   ],
   "source": [
    "comp3['hsa-mir-30c-2']"
   ]
  },
  {
   "cell_type": "code",
   "execution_count": 54,
   "metadata": {},
   "outputs": [
    {
     "data": {
      "text/plain": [
       "[u'hsa-mir-449b',\n",
       " u'hsa-mir-1180',\n",
       " u'hsa-mir-107',\n",
       " u'hsa-mir-365b',\n",
       " u'hsa-mir-1249',\n",
       " u'hsa-mir-181b-2',\n",
       " u'hsa-mir-15b',\n",
       " u'hsa-mir-4326',\n",
       " u'hsa-mir-30c-2']"
      ]
     },
     "execution_count": 54,
     "metadata": {},
     "output_type": "execute_result"
    }
   ],
   "source": [
    "[m for m in comp3 if comp3[m][0]>0 and comp3[m][1]<-12]"
   ]
  },
  {
   "cell_type": "code",
   "execution_count": 62,
   "metadata": {},
   "outputs": [
    {
     "name": "stdout",
     "output_type": "stream",
     "text": [
      "-0.06436815701112197 0.4057260711022638\n"
     ]
    }
   ],
   "source": [
    "xs, ys = zip(*comp3.values())\n",
    "r, p = spearmanr(xs,ys)\n",
    "print r, p"
   ]
  },
  {
   "cell_type": "code",
   "execution_count": 64,
   "metadata": {},
   "outputs": [
    {
     "data": {
      "image/png": "[encoded data removed]",
      "text/plain": [
       "<matplotlib.figure.Figure at 0x7f10323ffe90>"
      ]
     },
     "metadata": {},
     "output_type": "display_data"
    }
   ],
   "source": [
    "fig, ax = plt.subplots(1, 1, figsize=(2.5,2.5))\n",
    "ax.scatter(xs, ys, s=8, color='k', alpha=.7, zorder=2, rasterized=True)\n",
    "ax.set_xlabel('log2 (3p nick product / hairpin)\\n[in vitro processing, set #1]')\n",
    "ax.set_ylabel('log2 (3p nick product / hairpin)\\n[fCLIP-seq, 293T]')\n",
    "ax.set_xticks(range(-12,5,4))\n",
    "ax.set_yticks(range(-12,-3,4))\n",
    "ax.grid(ls='-',lw=.5)\n",
    "ax.text(1,-11.5,'N = %s\\n$R_s$ = %.2f\\np = %.3f'%(len(xs),r,p),\n",
    "       bbox={'pad':.2,'color':'#bababa','alpha':.5,'boxstyle':'round','lw':0})\n",
    "fig.savefig(resultpath + '201123_f3g__nick3_fcilp.pdf',dpi=300)"
   ]
  },
  {
   "cell_type": "code",
   "execution_count": 199,
   "metadata": {},
   "outputs": [
    {
     "name": "stdout",
     "output_type": "stream",
     "text": [
      "hsa-mir-128-1\t1.89\t-5.91\t3.85\t0.27\n",
      "hsa-mir-1301\t-0.62\t-4.87\t4.14\t0.32\n",
      "hsa-mir-148b\t-1.62\t-2.58\t2.94\t0.41\n",
      "hsa-mir-16-2\t2.18\t-5.84\t4.20\t0.63\n",
      "hsa-mir-181d\t-1.11\t-3.90\t0.65\t0.13\n",
      "hsa-mir-191\t-0.81\t-5.92\t2.70\t0.36\n",
      "hsa-mir-22\t-1.29\t-5.98\t3.40\t0.54\n",
      "hsa-mir-26b\t0.35\t-5.15\t4.91\t0.69\n"
     ]
    }
   ],
   "source": [
    "for m in sorted(comp3.keys()):\n",
    "    vitro, vivo = comp3[m]\n",
    "    if vitro>-2 and vivo>-6:\n",
    "        print '%s\\t%.2f\\t%.2f\\t%.2f\\t%.2f'%(m, vitro, vivo, effs[m], homs[m])"
   ]
  },
  {
   "cell_type": "code",
   "execution_count": null,
   "metadata": {},
   "outputs": [],
   "source": []
  },
  {
   "cell_type": "code",
   "execution_count": null,
   "metadata": {},
   "outputs": [],
   "source": []
  },
  {
   "cell_type": "code",
   "execution_count": null,
   "metadata": {},
   "outputs": [],
   "source": []
  }
 ],
 "metadata": {
  "kernelspec": {
   "display_name": "Python 2",
   "language": "python",
   "name": "python2"
  },
  "language_info": {
   "codemirror_mode": {
    "name": "ipython",
    "version": 2
   },
   "file_extension": ".py",
   "mimetype": "text/x-python",
   "name": "python",
   "nbconvert_exporter": "python",
   "pygments_lexer": "ipython2",
   "version": "2.7.18"
  }
 },
 "nbformat": 4,
 "nbformat_minor": 2
}
