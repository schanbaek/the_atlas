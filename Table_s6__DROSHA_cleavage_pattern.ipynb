{
 "cells": [
  {
   "cell_type": "markdown",
   "metadata": {},
   "source": [
    "# Supplementary Table 6. DROSHA cleavage patterns\n",
    "1. Library analyzed\n",
    "2. Input\n",
    "3. Cleaved\n",
    "4. Productively cleaved\n",
    "5. Normalized cleavage productivity\n",
    "6. Cleavage site information - chr, 5' CS, 3' CS, strand, relative position from miRBase site, cleavage specificity\n",
    "7. Cleavage imbalance\n",
    "8. Cleavage type\n",
    "9. Build table"
   ]
  },
  {
   "cell_type": "code",
   "execution_count": 1,
   "metadata": {},
   "outputs": [
    {
     "name": "stdout",
     "output_type": "stream",
     "text": [
      "Last revised by Seungchan Baek at 2020-10-13.\n"
     ]
    }
   ],
   "source": [
    "import time\n",
    "today = time.strftime('%Y-%m-%d')\n",
    "name = 'Seungchan Baek'\n",
    "print 'Last revised by %s at %s.' % (name, today)"
   ]
  },
  {
   "cell_type": "code",
   "execution_count": 2,
   "metadata": {},
   "outputs": [
    {
     "name": "stdout",
     "output_type": "stream",
     "text": [
      "/casa/bsc/projects/1_DCS/2004_paper_prep\n"
     ]
    }
   ],
   "source": [
    "home = '/casa/bsc/projects/1_DCS/2004_paper_prep/'\n",
    "%cd $home"
   ]
  },
  {
   "cell_type": "code",
   "execution_count": 3,
   "metadata": {},
   "outputs": [
    {
     "name": "stdout",
     "output_type": "stream",
     "text": [
      "resultpath: results/201013/\n"
     ]
    }
   ],
   "source": [
    "from __future__ import division\n",
    "import sys; sys.path.append('/casa/bsc/notebooks/')\n",
    "from basic import gen_result_dir\n",
    "resultpath = gen_result_dir('results/')\n",
    "print 'resultpath:', resultpath"
   ]
  },
  {
   "cell_type": "code",
   "execution_count": 4,
   "metadata": {},
   "outputs": [],
   "source": [
    "import pandas as pd\n",
    "import numpy as np\n",
    "import re\n",
    "import gzip\n",
    "from matplotlib import pyplot as plt\n",
    "from collections import defaultdict, Counter\n",
    "%matplotlib inline"
   ]
  },
  {
   "cell_type": "code",
   "execution_count": 5,
   "metadata": {},
   "outputs": [],
   "source": [
    "LIBRARIES = [ 'set1', 'set2', 'set3', 'set4', 'set5' ]"
   ]
  },
  {
   "cell_type": "markdown",
   "metadata": {},
   "source": [
    "#### Import supplementary tables"
   ]
  },
  {
   "cell_type": "code",
   "execution_count": 7,
   "metadata": {},
   "outputs": [
    {
     "name": "stdout",
     "output_type": "stream",
     "text": [
      "s1:\t5p mature, 5p sequence, 3p mature, 3p sequence, Note\n",
      "s2:\tChr, Start, End, Strand, Construct sequence, 100way phyloP scores (pre-miRNA -/+ 100nt)\n",
      "s3:\tset1-1, set1-2, set2, set3-1, set3-2, set4, set5-1, set5-2\n",
      "s4:\tPri-miRNA, rstart, rend, pilot-1, pilot-2, set1-1, set1-2, set2-1, set2-2, set3-1, set3-2\n"
     ]
    }
   ],
   "source": [
    "s1 = pd.read_csv('supplementary/201012_s1_pri-info.csv', header=1, index_col=0)\n",
    "s2 = pd.read_csv('supplementary/201012_s2_pri-construct.csv', header=1, index_col=0)\n",
    "s3 = pd.read_csv('supplementary/201012_s3_input.csv', header=1, index_col=0)\n",
    "s4 = pd.read_csv('supplementary/201012_s4_cleavage-product.csv', header=1)\n",
    "print 's1:\\t%s'%', '.join(list(s1.columns))\n",
    "print 's2:\\t%s'%', '.join(list(s2.columns)[:-2])\n",
    "print 's3:\\t%s'%', '.join(list(s3.columns))\n",
    "print 's4:\\t%s'%', '.join(list(s4.columns)[:-4])"
   ]
  },
  {
   "cell_type": "code",
   "execution_count": 8,
   "metadata": {},
   "outputs": [],
   "source": [
    "def get_pre_position(pri):\n",
    "    constructseq = s2.loc[pri, 'Construct sequence'].replace('T','U')\n",
    "    seq5p = s1.loc[pri, '5p sequence']\n",
    "    seq3p = s1.loc[pri, '3p sequence']\n",
    "    if seq5p=='n.a.' or constructseq.find(seq5p)==-1:\n",
    "        prestart = 0\n",
    "    else:\n",
    "        prestart = constructseq.find(seq5p)+1\n",
    "    if seq3p=='n.a.' or constructseq.find(seq3p)==-1:\n",
    "        preend = 0\n",
    "    else:\n",
    "        preend = constructseq.rfind(seq3p)+len(seq3p)\n",
    "    return prestart, preend"
   ]
  },
  {
   "cell_type": "code",
   "execution_count": 9,
   "metadata": {},
   "outputs": [
    {
     "name": "stdout",
     "output_type": "stream",
     "text": [
      "1881\n"
     ]
    }
   ],
   "source": [
    "allpris = s1.index\n",
    "preposition = { pri:get_pre_position(pri) for pri in allpris }\n",
    "print len(preposition)"
   ]
  },
  {
   "cell_type": "markdown",
   "metadata": {},
   "source": [
    "#### Prepare data"
   ]
  },
  {
   "cell_type": "code",
   "execution_count": 10,
   "metadata": {},
   "outputs": [
    {
     "data": {
      "text/html": [
       "<div>\n",
       "<style scoped>\n",
       "    .dataframe tbody tr th:only-of-type {\n",
       "        vertical-align: middle;\n",
       "    }\n",
       "\n",
       "    .dataframe tbody tr th {\n",
       "        vertical-align: top;\n",
       "    }\n",
       "\n",
       "    .dataframe thead th {\n",
       "        text-align: right;\n",
       "    }\n",
       "</style>\n",
       "<table border=\"1\" class=\"dataframe\">\n",
       "  <thead>\n",
       "    <tr style=\"text-align: right;\">\n",
       "      <th></th>\n",
       "      <th>set1</th>\n",
       "      <th>set2</th>\n",
       "      <th>set3</th>\n",
       "      <th>set4</th>\n",
       "      <th>set5</th>\n",
       "    </tr>\n",
       "    <tr>\n",
       "      <th>Pri-miRNA</th>\n",
       "      <th></th>\n",
       "      <th></th>\n",
       "      <th></th>\n",
       "      <th></th>\n",
       "      <th></th>\n",
       "    </tr>\n",
       "  </thead>\n",
       "  <tbody>\n",
       "    <tr>\n",
       "      <th>hsa-let-7a-1</th>\n",
       "      <td>1373</td>\n",
       "      <td>474</td>\n",
       "      <td>0</td>\n",
       "      <td>2</td>\n",
       "      <td>0</td>\n",
       "    </tr>\n",
       "  </tbody>\n",
       "</table>\n",
       "</div>"
      ],
      "text/plain": [
       "              set1  set2  set3  set4  set5\n",
       "Pri-miRNA                                 \n",
       "hsa-let-7a-1  1373   474     0     2     0"
      ]
     },
     "execution_count": 10,
     "metadata": {},
     "output_type": "execute_result"
    }
   ],
   "source": [
    "inpsum = pd.DataFrame()\n",
    "for inp in ['set1','set3','set5']:\n",
    "    inpsum[inp] = s3[['%s-1'%inp,'%s-2'%inp]].sum(axis=1)\n",
    "inpsum['set2'] = s3['set2']\n",
    "inpsum['set4'] = s3['set4'] \n",
    "inpsum = inpsum[LIBRARIES]\n",
    "inpsum.head(1)"
   ]
  },
  {
   "cell_type": "code",
   "execution_count": 11,
   "metadata": {},
   "outputs": [
    {
     "data": {
      "text/html": [
       "<div>\n",
       "<style scoped>\n",
       "    .dataframe tbody tr th:only-of-type {\n",
       "        vertical-align: middle;\n",
       "    }\n",
       "\n",
       "    .dataframe tbody tr th {\n",
       "        vertical-align: top;\n",
       "    }\n",
       "\n",
       "    .dataframe thead th {\n",
       "        text-align: right;\n",
       "    }\n",
       "</style>\n",
       "<table border=\"1\" class=\"dataframe\">\n",
       "  <thead>\n",
       "    <tr style=\"text-align: right;\">\n",
       "      <th></th>\n",
       "      <th>Pri-miRNA</th>\n",
       "      <th>rstart</th>\n",
       "      <th>rend</th>\n",
       "      <th>set1</th>\n",
       "      <th>set2</th>\n",
       "      <th>set3</th>\n",
       "      <th>set4</th>\n",
       "      <th>set5</th>\n",
       "    </tr>\n",
       "  </thead>\n",
       "  <tbody>\n",
       "    <tr>\n",
       "      <th>0</th>\n",
       "      <td>hsa-let-7a-1</td>\n",
       "      <td>1</td>\n",
       "      <td>8</td>\n",
       "      <td>4</td>\n",
       "      <td>4</td>\n",
       "      <td>0</td>\n",
       "      <td>0</td>\n",
       "      <td>0</td>\n",
       "    </tr>\n",
       "  </tbody>\n",
       "</table>\n",
       "</div>"
      ],
      "text/plain": [
       "      Pri-miRNA  rstart  rend  set1  set2  set3  set4  set5\n",
       "0  hsa-let-7a-1       1     8     4     4     0     0     0"
      ]
     },
     "execution_count": 11,
     "metadata": {},
     "output_type": "execute_result"
    }
   ],
   "source": [
    "clvraw = s4.set_index(['Pri-miRNA','rstart','rend'])\n",
    "clvtbl = pd.DataFrame()\n",
    "for lib in LIBRARIES:\n",
    "    clvtbl[lib] = clvraw[['%s-1'%lib,'%s-2'%lib]].sum(axis=1)\n",
    "clvtbl = clvtbl.reset_index()\n",
    "clvtbl.head(1)"
   ]
  },
  {
   "cell_type": "code",
   "execution_count": 12,
   "metadata": {},
   "outputs": [],
   "source": [
    "start, mid, end = 1, 63, 125\n",
    "clv5f = clvtbl[(clvtbl['rstart']==start)&(clvtbl['rend']<mid)].set_index('Pri-miRNA')\n",
    "clv3f = clvtbl[(clvtbl['rstart']>mid)&(clvtbl['rend']==end)].set_index('Pri-miRNA')\n",
    "clvhn = clvtbl[(clvtbl['rstart']<mid)&(clvtbl['rend']>mid)]\n",
    "clvn5 = clvhn[clvhn['rstart']==start]\n",
    "clvn3 = clvhn[clvhn['rend']==end]\n",
    "clvh = clvhn.drop(clvn5.index).drop(clvn3.index).set_index('Pri-miRNA')\n",
    "clvn5 = clvn5.set_index('Pri-miRNA'); clvn3 = clvn3.set_index('Pri-miRNA')"
   ]
  },
  {
   "cell_type": "code",
   "execution_count": 13,
   "metadata": {},
   "outputs": [],
   "source": [
    "def fill_unfound(tbl):\n",
    "    found = set(tbl.index)\n",
    "    unfound = [ mir for mir in allpris if mir not in found ]\n",
    "    fill = pd.DataFrame(index=unfound, columns=tbl.columns).fillna(0)\n",
    "    return tbl.append(fill)"
   ]
  },
  {
   "cell_type": "code",
   "execution_count": 14,
   "metadata": {},
   "outputs": [],
   "source": [
    "clvtbl = fill_unfound(clvtbl.set_index('Pri-miRNA'))\n",
    "clv5f = fill_unfound(clv5f)\n",
    "clv3f = fill_unfound(clv3f)\n",
    "clvh = fill_unfound(clvh)\n",
    "clvn5 = fill_unfound(clvn5)\n",
    "clvn3 = fill_unfound(clvn3)"
   ]
  },
  {
   "cell_type": "markdown",
   "metadata": {},
   "source": [
    "### 1. Library analyzed"
   ]
  },
  {
   "cell_type": "code",
   "execution_count": 15,
   "metadata": {},
   "outputs": [],
   "source": [
    "rcutoff = 30"
   ]
  },
  {
   "cell_type": "code",
   "execution_count": 16,
   "metadata": {
    "scrolled": true
   },
   "outputs": [
    {
     "name": "stdout",
     "output_type": "stream",
     "text": [
      "1819 ['hsa-let-7a-1', 'hsa-let-7a-2', 'hsa-let-7a-3']\n"
     ]
    }
   ],
   "source": [
    "suffinps = list(inpsum[(inpsum>=rcutoff).any(axis=1)].index)\n",
    "print len(suffinps), suffinps[:3]"
   ]
  },
  {
   "cell_type": "code",
   "execution_count": 17,
   "metadata": {},
   "outputs": [],
   "source": [
    "def select_lib(mir, rcutoff):\n",
    "    return max([lib for lib in LIBRARIES if inpsum.loc[mir,lib]>=rcutoff], \n",
    "               key=lambda x: clvtbl.loc[mir,x].sum())"
   ]
  },
  {
   "cell_type": "code",
   "execution_count": 18,
   "metadata": {},
   "outputs": [
    {
     "name": "stdout",
     "output_type": "stream",
     "text": [
      "set1\n"
     ]
    }
   ],
   "source": [
    "sufflibs = { mir:select_lib(mir, rcutoff) for mir in suffinps }\n",
    "print sufflibs['hsa-let-7a-1']"
   ]
  },
  {
   "cell_type": "markdown",
   "metadata": {},
   "source": [
    "### 2. Input count"
   ]
  },
  {
   "cell_type": "code",
   "execution_count": 19,
   "metadata": {},
   "outputs": [
    {
     "name": "stdout",
     "output_type": "stream",
     "text": [
      "1373\n"
     ]
    }
   ],
   "source": [
    "inpcnts = { mir:inpsum.loc[mir,sufflibs[mir]] for mir in suffinps }\n",
    "print inpcnts['hsa-let-7a-1']"
   ]
  },
  {
   "cell_type": "markdown",
   "metadata": {},
   "source": [
    "### 3. Cleavage product counts"
   ]
  },
  {
   "cell_type": "code",
   "execution_count": 20,
   "metadata": {},
   "outputs": [],
   "source": [
    "def get_clv_all(mir, lib):\n",
    "    clv5 = clv5f.loc[mir, lib]\n",
    "    clv3 = clv3f.loc[mir, lib]\n",
    "    return int(round((clv5.sum()+clv3.sum())/2, 0))"
   ]
  },
  {
   "cell_type": "code",
   "execution_count": 21,
   "metadata": {},
   "outputs": [
    {
     "name": "stdout",
     "output_type": "stream",
     "text": [
      "16700\n"
     ]
    }
   ],
   "source": [
    "clvcnts = { mir:get_clv_all(mir,sufflibs[mir]) for mir in suffinps }\n",
    "print clvcnts['hsa-let-7a-1']"
   ]
  },
  {
   "cell_type": "markdown",
   "metadata": {},
   "source": [
    "### 4. Productively/ Inversely cleaved"
   ]
  },
  {
   "cell_type": "code",
   "execution_count": 22,
   "metadata": {},
   "outputs": [],
   "source": [
    "window = 3"
   ]
  },
  {
   "cell_type": "code",
   "execution_count": 23,
   "metadata": {},
   "outputs": [],
   "source": [
    "def get_clv_prod(mir, lib, window):\n",
    "    ps, pe = preposition[mir]\n",
    "    if ps==0 and pe==0:\n",
    "        return -1\n",
    "    clv5 = clv5f.loc[[mir]].reset_index().set_index('rend')[lib]\n",
    "    clv3 = clv3f.loc[[mir]].reset_index().set_index('rstart')[lib]\n",
    "    if ps and pe:\n",
    "        prod5 = clv5.reindex(range(ps-1-window,ps+window)).sum()\n",
    "        prod3 = clv3.reindex(range(pe+1-window,pe+2+window)).sum()\n",
    "        prod = round((prod5+prod3)/2, 0)\n",
    "    elif ps:\n",
    "        prod = clv5.reindex(range(ps-1-window,ps+window)).sum()\n",
    "    else:\n",
    "        prod = clv3.reindex(range(pe+1-window,pe+2+window)).sum()\n",
    "    return int(prod)"
   ]
  },
  {
   "cell_type": "code",
   "execution_count": 24,
   "metadata": {},
   "outputs": [
    {
     "name": "stdout",
     "output_type": "stream",
     "text": [
      "16552\n"
     ]
    }
   ],
   "source": [
    "prodcnts = { mir:get_clv_prod(mir,sufflibs[mir],window) for mir in suffinps }\n",
    "print prodcnts['hsa-let-7a-1']"
   ]
  },
  {
   "cell_type": "code",
   "execution_count": 25,
   "metadata": {},
   "outputs": [],
   "source": [
    "def get_clv_inv(mir, lib, window):\n",
    "    ps, pe = preposition[mir]\n",
    "    if ps==0 and pe==0:\n",
    "        return -1\n",
    "    invs = ps+11\n",
    "    inve = pe-11\n",
    "    clv5 = clv5f.loc[[mir]].reset_index().set_index('rend')[lib]\n",
    "    clv3 = clv3f.loc[[mir]].reset_index().set_index('rstart')[lib]\n",
    "    if ps and pe:\n",
    "        prod5 = clv5.reindex(range(invs-1-window,invs+window)).sum()\n",
    "        prod3 = clv3.reindex(range(inve+1-window,inve+2+window)).sum()\n",
    "        prod = round((prod5+prod3)/2, 0)\n",
    "    elif ps:\n",
    "        prod = clv5.reindex(range(invs-1-window,invs+window)).sum()\n",
    "    else:\n",
    "        prod = clv3.reindex(range(inve+1-window,inve+2+window)).sum()\n",
    "    return int(prod)"
   ]
  },
  {
   "cell_type": "code",
   "execution_count": 26,
   "metadata": {},
   "outputs": [
    {
     "name": "stdout",
     "output_type": "stream",
     "text": [
      "12\n"
     ]
    }
   ],
   "source": [
    "invcnts = { mir:get_clv_inv(mir,sufflibs[mir],window) for mir in suffinps }\n",
    "print invcnts['hsa-let-7a-1']"
   ]
  },
  {
   "cell_type": "markdown",
   "metadata": {},
   "source": [
    "### 5. Normalized cleavage productivity"
   ]
  },
  {
   "cell_type": "code",
   "execution_count": 27,
   "metadata": {},
   "outputs": [],
   "source": [
    "def get_productivity(mir, lib, window):\n",
    "    clv = get_clv_all(mir, lib)\n",
    "    prod = get_clv_prod(mir, lib, window)\n",
    "    if prod<0: return -999\n",
    "    if clv==0: return 0\n",
    "    inp = inpsum[lib][mir]\n",
    "    return (prod/inp)*(prod/clv)"
   ]
  },
  {
   "cell_type": "code",
   "execution_count": 28,
   "metadata": {},
   "outputs": [],
   "source": [
    "## norm\n",
    "norm = 'hsa-mir-6788'\n",
    "norms = { lib:get_productivity(norm, lib, window) for lib in LIBRARIES }"
   ]
  },
  {
   "cell_type": "code",
   "execution_count": 29,
   "metadata": {},
   "outputs": [
    {
     "name": "stdout",
     "output_type": "stream",
     "text": [
      "hsa-mir-144\t4.971\n",
      "hsa-let-7a-1\t5.047\n",
      "hsa-mir-17\t2.610\n",
      "hsa-mir-200a\t2.000\n",
      "hsa-mir-15a\t0.956\n"
     ]
    }
   ],
   "source": [
    "testset = [ 'hsa-mir-144', 'hsa-let-7a-1', 'hsa-mir-17', 'hsa-mir-200a', 'hsa-mir-15a' ]\n",
    "for mir in testset:\n",
    "    prod = get_productivity(mir, sufflibs[mir], window)\n",
    "    print '%s\\t%.3f'%(mir,np.log2(prod/norms[sufflibs[mir]]+1))"
   ]
  },
  {
   "cell_type": "code",
   "execution_count": 30,
   "metadata": {},
   "outputs": [],
   "source": [
    "normprods = {}\n",
    "for mir in suffinps:\n",
    "    lib = select_lib(mir, rcutoff)\n",
    "    prod = get_productivity(mir, lib, window)\n",
    "    if prod>-999:\n",
    "        normprods[mir] = np.log2(prod/norms[lib]+1)"
   ]
  },
  {
   "cell_type": "markdown",
   "metadata": {},
   "source": [
    "### 6. Cleavage site information - chr, 5' CS, 3' CS, strand, relative position from miRBase site, cleavage specificity"
   ]
  },
  {
   "cell_type": "code",
   "execution_count": 32,
   "metadata": {},
   "outputs": [],
   "source": [
    "rcutoff = 30\n",
    "fcutoff = .01"
   ]
  },
  {
   "cell_type": "code",
   "execution_count": 33,
   "metadata": {},
   "outputs": [],
   "source": [
    "def get_frac_5frag(mir):\n",
    "    sub = clv5f.loc[[mir]].set_index('rend')\n",
    "    return (sub/sub.sum())"
   ]
  },
  {
   "cell_type": "code",
   "execution_count": 34,
   "metadata": {},
   "outputs": [],
   "source": [
    "def get_frac_3frag(mir):\n",
    "    sub = clv3f.loc[[mir]].set_index('rstart')\n",
    "    return (sub/sub.sum())"
   ]
  },
  {
   "cell_type": "code",
   "execution_count": 35,
   "metadata": {},
   "outputs": [],
   "source": [
    "def get_frac_hairpin(mir):\n",
    "    sub = clvh.loc[[mir]].set_index(['rstart','rend'])\n",
    "    return (sub/sub.sum())"
   ]
  },
  {
   "cell_type": "code",
   "execution_count": 36,
   "metadata": {},
   "outputs": [],
   "source": [
    "def filter_frac(frac, fcutoff):\n",
    "    return frac[frac>=fcutoff]"
   ]
  },
  {
   "cell_type": "code",
   "execution_count": 37,
   "metadata": {},
   "outputs": [],
   "source": [
    "def add_specificity(row):\n",
    "    row['cleavage specificity'] = np.log2((row['5frag']+row['hairpin']+row['3frag'])/3+1)\n",
    "    return row"
   ]
  },
  {
   "cell_type": "code",
   "execution_count": 38,
   "metadata": {},
   "outputs": [],
   "source": [
    "def add_diff(row):\n",
    "    if row['pstart'] and row['pend']:\n",
    "        row['diff'] = min([row['hstart']-row['pstart'], row['pend']-row['hend']], key=abs)\n",
    "    elif row['pstart']:\n",
    "        row['diff'] = row['hstart'] - row['pstart'] \n",
    "    else:\n",
    "        row['diff'] = row['pend'] - row['hend']\n",
    "    return row"
   ]
  },
  {
   "cell_type": "code",
   "execution_count": 39,
   "metadata": {},
   "outputs": [],
   "source": [
    "def drop_duplicates(sortedtbl):\n",
    "    if len(sortedtbl)<=1:\n",
    "        return sortedtbl\n",
    "    hs = sortedtbl['hstart'].tolist()[0]\n",
    "    he = sortedtbl['hend'].tolist()[0]\n",
    "    sub = sortedtbl.iloc[1:]\n",
    "    sub = sub[(sub['hstart']!=hs)&(sub['hend']!=he)]\n",
    "    return sortedtbl.iloc[:1].append(drop_duplicates(sub))"
   ]
  },
  {
   "cell_type": "code",
   "execution_count": 46,
   "metadata": {},
   "outputs": [],
   "source": [
    "frac5f = { mir:get_frac_5frag(mir) for mir in allpris } \n",
    "frac3f = { mir:get_frac_3frag(mir) for mir in allpris } \n",
    "frachpn = { mir:get_frac_hairpin(mir) for mir in allpris }"
   ]
  },
  {
   "cell_type": "code",
   "execution_count": 111,
   "metadata": {},
   "outputs": [],
   "source": [
    "COLS = [ 'miRNA', 'pstart', 'pend', 'hstart', 'hend', '5frag', '3frag', 'hairpin', \n",
    "         'cleavage specificity', 'diff' ]\n",
    "def get_dcs(mir, rcutoff, fcutoff, lib):\n",
    "    ps, pe = preposition[mir]\n",
    "    clvsites = pd.DataFrame({0:dict(zip(COLS,[mir,ps,pe,1,125,0,0,0,0,99]))}).T[COLS]\n",
    "    clv5, clv3, clvhpn = [ f[mir][lib] if c.loc[mir,lib].sum()>=rcutoff else pd.Series()\n",
    "                           for f,c in zip([frac5f,frac3f,frachpn], [clv5f,clv3f,clvh]) ]\n",
    "    if sum(map(bool, [clv5.to_dict(),clv3.to_dict(),clvhpn.to_dict()]))<2:\n",
    "        return clvsites\n",
    "    clv52 = defaultdict(float); clv52.update(clv5)\n",
    "    clv32 = defaultdict(float); clv32.update(clv3)\n",
    "    clvhpn2 = defaultdict(float); clvhpn2.update(clvhpn)\n",
    "    for c5, frac5 in filter_frac(clv5, fcutoff).items():\n",
    "        for c3, frac3 in filter_frac(clv3, fcutoff).items():\n",
    "            row = dict(zip(COLS,[mir,ps,pe,c5+1,c3-1,frac5,frac3,clvhpn2[(c5+1,c3-1)]]))\n",
    "            clvsites = clvsites.append(row, ignore_index=True)\n",
    "    for (c5,c3), frach in filter_frac(clvhpn, fcutoff).items():\n",
    "        row = dict(zip(COLS,[mir,ps,pe,c5,c3,clv52[c5-1],clv32[c3+1],frach]))\n",
    "        clvsites = clvsites.append(row, ignore_index=True)\n",
    "    cs = clvsites.apply(add_specificity,axis=1).sort_values('cleavage specificity').iloc[::-1]\n",
    "    return drop_duplicates(cs).apply(add_diff,axis=1)"
   ]
  },
  {
   "cell_type": "code",
   "execution_count": 143,
   "metadata": {},
   "outputs": [
    {
     "data": {
      "text/html": [
       "<div>\n",
       "<style scoped>\n",
       "    .dataframe tbody tr th:only-of-type {\n",
       "        vertical-align: middle;\n",
       "    }\n",
       "\n",
       "    .dataframe tbody tr th {\n",
       "        vertical-align: top;\n",
       "    }\n",
       "\n",
       "    .dataframe thead th {\n",
       "        text-align: right;\n",
       "    }\n",
       "</style>\n",
       "<table border=\"1\" class=\"dataframe\">\n",
       "  <thead>\n",
       "    <tr style=\"text-align: right;\">\n",
       "      <th></th>\n",
       "      <th>miRNA</th>\n",
       "      <th>pstart</th>\n",
       "      <th>pend</th>\n",
       "      <th>hstart</th>\n",
       "      <th>hend</th>\n",
       "      <th>5frag</th>\n",
       "      <th>3frag</th>\n",
       "      <th>hairpin</th>\n",
       "      <th>cleavage specificity</th>\n",
       "      <th>diff</th>\n",
       "    </tr>\n",
       "  </thead>\n",
       "  <tbody>\n",
       "    <tr>\n",
       "      <th>7</th>\n",
       "      <td>hsa-let-7a-1</td>\n",
       "      <td>25</td>\n",
       "      <td>96</td>\n",
       "      <td>25</td>\n",
       "      <td>96</td>\n",
       "      <td>0.938918</td>\n",
       "      <td>0.975172</td>\n",
       "      <td>0.733558</td>\n",
       "      <td>0.912688</td>\n",
       "      <td>0</td>\n",
       "    </tr>\n",
       "    <tr>\n",
       "      <th>2</th>\n",
       "      <td>hsa-let-7a-1</td>\n",
       "      <td>25</td>\n",
       "      <td>96</td>\n",
       "      <td>24</td>\n",
       "      <td>97</td>\n",
       "      <td>0.039322</td>\n",
       "      <td>0.012130</td>\n",
       "      <td>0.001686</td>\n",
       "      <td>0.025331</td>\n",
       "      <td>-1</td>\n",
       "    </tr>\n",
       "    <tr>\n",
       "      <th>9</th>\n",
       "      <td>hsa-let-7a-1</td>\n",
       "      <td>25</td>\n",
       "      <td>96</td>\n",
       "      <td>42</td>\n",
       "      <td>80</td>\n",
       "      <td>0.000363</td>\n",
       "      <td>0.000213</td>\n",
       "      <td>0.045531</td>\n",
       "      <td>0.022004</td>\n",
       "      <td>16</td>\n",
       "    </tr>\n",
       "    <tr>\n",
       "      <th>10</th>\n",
       "      <td>hsa-let-7a-1</td>\n",
       "      <td>25</td>\n",
       "      <td>96</td>\n",
       "      <td>43</td>\n",
       "      <td>79</td>\n",
       "      <td>0.000000</td>\n",
       "      <td>0.000213</td>\n",
       "      <td>0.011804</td>\n",
       "      <td>0.005768</td>\n",
       "      <td>17</td>\n",
       "    </tr>\n",
       "    <tr>\n",
       "      <th>0</th>\n",
       "      <td>hsa-let-7a-1</td>\n",
       "      <td>25</td>\n",
       "      <td>96</td>\n",
       "      <td>1</td>\n",
       "      <td>125</td>\n",
       "      <td>0.000000</td>\n",
       "      <td>0.000000</td>\n",
       "      <td>0.000000</td>\n",
       "      <td>0.000000</td>\n",
       "      <td>-24</td>\n",
       "    </tr>\n",
       "  </tbody>\n",
       "</table>\n",
       "</div>"
      ],
      "text/plain": [
       "           miRNA  pstart  pend  hstart  hend     5frag     3frag   hairpin  \\\n",
       "7   hsa-let-7a-1      25    96      25    96  0.938918  0.975172  0.733558   \n",
       "2   hsa-let-7a-1      25    96      24    97  0.039322  0.012130  0.001686   \n",
       "9   hsa-let-7a-1      25    96      42    80  0.000363  0.000213  0.045531   \n",
       "10  hsa-let-7a-1      25    96      43    79  0.000000  0.000213  0.011804   \n",
       "0   hsa-let-7a-1      25    96       1   125  0.000000  0.000000  0.000000   \n",
       "\n",
       "    cleavage specificity  diff  \n",
       "7               0.912688     0  \n",
       "2               0.025331    -1  \n",
       "9               0.022004    16  \n",
       "10              0.005768    17  \n",
       "0               0.000000   -24  "
      ]
     },
     "execution_count": 143,
     "metadata": {},
     "output_type": "execute_result"
    }
   ],
   "source": [
    "get_dcs('hsa-let-7a-1', rcutoff, fcutoff, 'set1').head()"
   ]
  },
  {
   "cell_type": "code",
   "execution_count": 112,
   "metadata": {},
   "outputs": [
    {
     "name": "stdout",
     "output_type": "stream",
     "text": [
      "Tue Jun 23 15:13:34 2020\n",
      "Tue Jun 23 15:35:44 2020\n",
      "# of all sites:\t23341\n",
      "# of miRNAs:\t1819\n"
     ]
    }
   ],
   "source": [
    "print time.ctime()\n",
    "clvall = pd.DataFrame(columns=COLS)\n",
    "for mir in suffinps:\n",
    "    lib = select_lib(mir, rcutoff)\n",
    "    clvall = clvall.append(get_dcs(mir, rcutoff, fcutoff, lib), ignore_index=True)\n",
    "clvall = clvall[COLS]\n",
    "print time.ctime()\n",
    "print '# of all sites:\\t%s' % len(clvall)\n",
    "print '# of miRNAs:\\t%s' % len(set(clvall['miRNA']))"
   ]
  },
  {
   "cell_type": "code",
   "execution_count": 31,
   "metadata": {},
   "outputs": [],
   "source": [
    "#clvall.to_csv('results/200623/200623_cleavage_specificity_MPonly.csv')\n",
    "clvall = pd.read_csv('results/200623/200623_cleavage_specificity_MPonly.csv', index_col=0)"
   ]
  },
  {
   "cell_type": "code",
   "execution_count": 32,
   "metadata": {},
   "outputs": [],
   "source": [
    "def get_clv_info(mir, hstart, hend):\n",
    "    chrom, pstart, pend, strand = s2.loc[mir,['Chr','Start','End','Strand']]\n",
    "    if strand=='+':\n",
    "        clv5 = pstart+hstart-1\n",
    "        clv3 = pstart+hend-1\n",
    "    else:\n",
    "        clv5 = pend-hstart+1\n",
    "        clv3 = pend-hend+1\n",
    "    return chrom, clv5, clv3, strand"
   ]
  },
  {
   "cell_type": "code",
   "execution_count": 33,
   "metadata": {},
   "outputs": [
    {
     "name": "stdout",
     "output_type": "stream",
     "text": [
      "('chr9', 94175962, 94176033, '+')\n"
     ]
    }
   ],
   "source": [
    "print get_clv_info('hsa-let-7a-1', 25, 96)"
   ]
  },
  {
   "cell_type": "markdown",
   "metadata": {},
   "source": [
    "### 7. Cleavage imbalance"
   ]
  },
  {
   "cell_type": "code",
   "execution_count": 34,
   "metadata": {
    "scrolled": true
   },
   "outputs": [
    {
     "name": "stdout",
     "output_type": "stream",
     "text": [
      "0   -0.036254\n",
      "1    0.027192\n",
      "2    0.000150\n",
      "3   -0.000213\n",
      "4    0.000000\n",
      "dtype: float64\n"
     ]
    }
   ],
   "source": [
    "print (clvall['5frag']-clvall['3frag']).head()"
   ]
  },
  {
   "cell_type": "markdown",
   "metadata": {},
   "source": [
    "### 8. Cleavage type"
   ]
  },
  {
   "cell_type": "code",
   "execution_count": 35,
   "metadata": {},
   "outputs": [],
   "source": [
    "window = 3\n",
    "offset = 11\n",
    "procut = 1.4\n",
    "specut = .42\n",
    "altcut = .26\n",
    "imbcut = .2"
   ]
  },
  {
   "cell_type": "code",
   "execution_count": 36,
   "metadata": {},
   "outputs": [
    {
     "name": "stdout",
     "output_type": "stream",
     "text": [
      "1816\n"
     ]
    }
   ],
   "source": [
    "overlap = [ mir for mir in set(clvall['miRNA']) if mir in normprods ]\n",
    "print len(overlap)"
   ]
  },
  {
   "cell_type": "code",
   "execution_count": 37,
   "metadata": {},
   "outputs": [],
   "source": [
    "def get_dcs_all(procut, specut, window):\n",
    "    clvpro = clvall[abs(clvall['diff'])<=window]\n",
    "    clvsig = clvpro[clvpro['cleavage specificity']>=specut]\n",
    "    return [ mir for mir in set(clvsig['miRNA']) if normprods[mir]>=procut ]"
   ]
  },
  {
   "cell_type": "code",
   "execution_count": 38,
   "metadata": {},
   "outputs": [],
   "source": [
    "def get_dcs_multi(procut, specut, altcut, window):\n",
    "    clvpro = clvall[abs(clvall['diff'])<=window]\n",
    "    clvsig = clvpro[clvpro['cleavage specificity']>=specut]\n",
    "    clvcnts = Counter(clvpro[clvpro['cleavage specificity']>=altcut]['miRNA'])\n",
    "    return [ mir for mir in set(clvsig['miRNA']) if normprods[mir]>=procut and clvcnts[mir]>1 ]"
   ]
  },
  {
   "cell_type": "code",
   "execution_count": 39,
   "metadata": {},
   "outputs": [],
   "source": [
    "def get_dcs_single(procut, specut, altcut, window):\n",
    "    dcsmirs = get_dcs_all(procut, specut, window)\n",
    "    multi = get_dcs_multi(procut, specut, altcut, window)\n",
    "    return [ mir for mir in dcsmirs if mir not in multi ]"
   ]
  },
  {
   "cell_type": "code",
   "execution_count": 40,
   "metadata": {},
   "outputs": [],
   "source": [
    "def get_invert(specut, offset, window, mirexc):\n",
    "    clvinv = clvall[abs(clvall['diff']-offset)<=window]\n",
    "    clvsig = clvinv[clvinv['cleavage specificity']>=specut]\n",
    "    return [ mir for mir in set(clvsig['miRNA']) if mir not in mirexc ]"
   ]
  },
  {
   "cell_type": "code",
   "execution_count": 41,
   "metadata": {},
   "outputs": [],
   "source": [
    "def get_nick5(imbcut, window, mirexc):\n",
    "    clvpro = clvall[(abs(clvall['diff'])<=window)&(clvall['3frag']>0)]\n",
    "    clvn5 = clvpro[(clvpro['5frag']-clvpro['3frag'])>=imbcut]\n",
    "    return [ mir for mir in set(clvn5['miRNA']) if mir not in mirexc ]"
   ]
  },
  {
   "cell_type": "code",
   "execution_count": 42,
   "metadata": {},
   "outputs": [],
   "source": [
    "def get_nick3(imbcut, window, mirexc):\n",
    "    clvpro = clvall[(abs(clvall['diff'])<=window)&(clvall['5frag']>0)]\n",
    "    clvn3 = clvpro[(clvpro['3frag']-clvpro['5frag'])>=imbcut]\n",
    "    return [ mir for mir in set(clvn3['miRNA']) if mir not in mirexc ]"
   ]
  },
  {
   "cell_type": "code",
   "execution_count": 43,
   "metadata": {},
   "outputs": [
    {
     "name": "stdout",
     "output_type": "stream",
     "text": [
      "Productive: 512, Unproductive: 1304\n",
      "Single: 445, Multiple: 67, Inverted: 156, Nick: 107, Non-specific: 1041\n",
      "5' nick: 72, 3' nick: 35\n"
     ]
    }
   ],
   "source": [
    "dcsmirs = get_dcs_all(procut, specut, window)\n",
    "single = get_dcs_single(procut, specut, altcut, window)\n",
    "multi = get_dcs_multi(procut, specut, altcut, window)\n",
    "\n",
    "nick5 = get_nick5(imbcut, window, dcsmirs)\n",
    "nick3 = get_nick3(imbcut, window, dcsmirs+nick5)\n",
    "nick = list(set(nick5+nick3))\n",
    "\n",
    "inverted = get_invert(specut, offset, window, dcsmirs+nick)\n",
    "nodcs = [ mir for mir in overlap if mir not in dcsmirs ]\n",
    "nonspec = [ mir for mir in nodcs if mir not in inverted+nick ]\n",
    "\n",
    "print 'Productive: %s, Unproductive: %s' % (len(dcsmirs), len(nodcs))\n",
    "print 'Single: %s, Multiple: %s, Inverted: %s, Nick: %s, Non-specific: %s'\\\n",
    "% (len(single), len(multi), len(inverted), len(nick), len(nonspec))\n",
    "print \"5' nick: %s, 3' nick: %s\" % (len(nick5), len(nick3))"
   ]
  },
  {
   "cell_type": "code",
   "execution_count": 44,
   "metadata": {},
   "outputs": [
    {
     "name": "stdout",
     "output_type": "stream",
     "text": [
      "let-7a-1 in unique: True\n",
      "mir-342 in multiple: True\n",
      "mir-17 in nick5: True\n",
      "mir-15a in nick5: True\n"
     ]
    }
   ],
   "source": [
    "print 'let-7a-1 in unique:', 'hsa-let-7a-1' in single\n",
    "print 'mir-342 in multiple:', 'hsa-mir-342' in multi\n",
    "print 'mir-17 in nick5:', 'hsa-mir-17' in nick5\n",
    "print 'mir-15a in nick5:', 'hsa-mir-15a' in nick5"
   ]
  },
  {
   "cell_type": "code",
   "execution_count": 45,
   "metadata": {},
   "outputs": [
    {
     "name": "stdout",
     "output_type": "stream",
     "text": [
      "1816\n"
     ]
    }
   ],
   "source": [
    "clvtypes = {}\n",
    "clvtypes.update({mir:'single' for mir in single})\n",
    "clvtypes.update({mir:'multiple' for mir in multi})\n",
    "clvtypes.update({mir:'inverted' for mir in inverted})\n",
    "clvtypes.update({mir:'nick5' for mir in nick5})\n",
    "clvtypes.update({mir:'nick3' for mir in nick3})\n",
    "clvtypes.update({mir:'non-specific' for mir in nonspec})\n",
    "print len(clvtypes)"
   ]
  },
  {
   "cell_type": "markdown",
   "metadata": {},
   "source": [
    "#### 9. Build table"
   ]
  },
  {
   "cell_type": "code",
   "execution_count": 46,
   "metadata": {},
   "outputs": [],
   "source": [
    "cols = [ 'Pri-miRNA', 'Library analyzed', 'Input', 'Cleaved', 'Productively cleaved',\n",
    "         'Inversely cleaved','Cleavage Productivity', 'Chr', \"5' cleavage site\", \n",
    "         \"3' cleavage site\",'Strand', 'Relative position from miRBase site', \n",
    "         'Cleavage Specificity', 'Cleavage Imbalance', 'Cleavage type' ]"
   ]
  },
  {
   "cell_type": "code",
   "execution_count": 47,
   "metadata": {},
   "outputs": [
    {
     "name": "stdout",
     "output_type": "stream",
     "text": [
      "1648\n"
     ]
    }
   ],
   "source": [
    "clvpro = clvall[(clvall['diff'].apply(abs)<=window)&(clvall['cleavage specificity']>0)]\n",
    "print len(set(clvpro['miRNA']))"
   ]
  },
  {
   "cell_type": "code",
   "execution_count": 48,
   "metadata": {},
   "outputs": [],
   "source": [
    "tbl = pd.DataFrame(columns=cols)\n",
    "for i, row in clvpro.iterrows():\n",
    "    mir, hs, he, cs, diff = row[['miRNA','hstart','hend','cleavage specificity','diff']]\n",
    "    chrom, cs5, cs3, strand = get_clv_info(mir, hs, he)\n",
    "    imbal = row['5frag'] - row['3frag']\n",
    "    ctype = clvtypes[mir]\n",
    "    tbl = tbl.append(dict(zip(cols,[mir, sufflibs[mir],inpcnts[mir],clvcnts[mir],prodcnts[mir],\n",
    "                                    invcnts[mir],normprods[mir],chrom,cs5,cs3,strand,diff, \n",
    "                                    cs,imbal,ctype])), ignore_index=True)"
   ]
  },
  {
   "cell_type": "code",
   "execution_count": 49,
   "metadata": {},
   "outputs": [],
   "source": [
    "nonpro = [ mir for mir in overlap if mir not in set(clvpro['miRNA']) ]\n",
    "for mir in nonpro:\n",
    "    tbl = tbl.append(dict(zip(cols,[mir,sufflibs[mir],inpcnts[mir],clvcnts[mir],prodcnts[mir], \n",
    "                                    invcnts[mir],normprods[mir],'n.a.',0,0,'n.a.',0,0,0, \n",
    "                                    clvtypes[mir]])), ignore_index=True)"
   ]
  },
  {
   "cell_type": "code",
   "execution_count": 50,
   "metadata": {},
   "outputs": [
    {
     "name": "stdout",
     "output_type": "stream",
     "text": [
      "1816\n"
     ]
    }
   ],
   "source": [
    "tbl = tbl.sort_values('Pri-miRNA').set_index('Pri-miRNA')\n",
    "print len(set(tbl.index))"
   ]
  },
  {
   "cell_type": "code",
   "execution_count": 51,
   "metadata": {},
   "outputs": [],
   "source": [
    "tbl.to_csv('resources/201012_s6_cleavage-patterns.csv')"
   ]
  },
  {
   "cell_type": "code",
   "execution_count": 52,
   "metadata": {},
   "outputs": [],
   "source": [
    "out = open('supplementary/201012_s6_cleavage-patterns.csv', 'wt')\n",
    "description = 'Supplementary Table 6. Cleavage patterns\\n\\n\\n\\n\\n'\n",
    "out.write(description)\n",
    "for l in open('resources/201012_s6_cleavage-patterns.csv', 'rt'):\n",
    "    out.write(l)\n",
    "out.close()"
   ]
  },
  {
   "cell_type": "code",
   "execution_count": null,
   "metadata": {},
   "outputs": [],
   "source": []
  }
 ],
 "metadata": {
  "kernelspec": {
   "display_name": "Python 2",
   "language": "python",
   "name": "python2"
  },
  "language_info": {
   "codemirror_mode": {
    "name": "ipython",
    "version": 2
   },
   "file_extension": ".py",
   "mimetype": "text/x-python",
   "name": "python",
   "nbconvert_exporter": "python",
   "pygments_lexer": "ipython2",
   "version": "2.7.18"
  }
 },
 "nbformat": 4,
 "nbformat_minor": 2
}
