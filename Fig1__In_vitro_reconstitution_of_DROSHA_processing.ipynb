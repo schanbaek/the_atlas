{
 "cells": [
  {
   "cell_type": "markdown",
   "metadata": {},
   "source": [
    "# Figure 1. *In vitro* reconstitution of DROSHA processing\n",
    "---"
   ]
  },
  {
   "cell_type": "code",
   "execution_count": 1,
   "metadata": {},
   "outputs": [
    {
     "name": "stdout",
     "output_type": "stream",
     "text": [
      "Last revised by Seungchan Baek at 2020-11-30.\n"
     ]
    }
   ],
   "source": [
    "import time\n",
    "today = time.strftime('%Y-%m-%d')\n",
    "name = 'Seungchan Baek'\n",
    "print 'Last revised by %s at %s.' % (name, today)"
   ]
  },
  {
   "cell_type": "code",
   "execution_count": 2,
   "metadata": {},
   "outputs": [
    {
     "name": "stdout",
     "output_type": "stream",
     "text": [
      "/casa/bsc/projects/1_DCS/2004_paper_prep\n"
     ]
    }
   ],
   "source": [
    "home = '/casa/bsc/projects/1_DCS/2004_paper_prep/'\n",
    "utilpath = '/casa/bsc/notebooks/'\n",
    "%cd $home"
   ]
  },
  {
   "cell_type": "code",
   "execution_count": 3,
   "metadata": {},
   "outputs": [
    {
     "name": "stdout",
     "output_type": "stream",
     "text": [
      "resultpath: results/201130/\n"
     ]
    }
   ],
   "source": [
    "from __future__ import division\n",
    "import sys; sys.path.append(utilpath)\n",
    "from basic import gen_result_dir\n",
    "from util import *\n",
    "resultpath = gen_result_dir('results/')\n",
    "print 'resultpath:', resultpath"
   ]
  },
  {
   "cell_type": "code",
   "execution_count": 4,
   "metadata": {},
   "outputs": [],
   "source": [
    "import pandas as pd\n",
    "import numpy as np\n",
    "import re\n",
    "import gzip\n",
    "from matplotlib import pyplot as plt\n",
    "from matplotlib import lines, gridspec\n",
    "from collections import defaultdict, Counter\n",
    "from scipy.stats import pearsonr, spearmanr, sem\n",
    "from os import listdir\n",
    "%matplotlib inline"
   ]
  },
  {
   "cell_type": "code",
   "execution_count": 5,
   "metadata": {},
   "outputs": [],
   "source": [
    "PILOT = [ 'pilot-1', 'pilot-2' ]\n",
    "SET1 = [ 'set1-1', 'set1-2' ]\n",
    "LIBRARIES = [ 'set1', 'set2', 'set3', 'set4', 'set5' ]"
   ]
  },
  {
   "cell_type": "code",
   "execution_count": 6,
   "metadata": {},
   "outputs": [],
   "source": [
    "s1 = pd.read_csv('supplementary/201123_s1__DROSHA_dependency.csv', header=1, index_col=0)\n",
    "s2 = pd.read_csv('supplementary/201123_s2__Construct.csv', header=1, index_col=0).fillna('')\n",
    "s3 = pd.read_csv('supplementary/201012_s3_input.csv', header=1, index_col=0)\n",
    "s4 = pd.read_csv('supplementary/201012_s4_cleavage-product.csv', header=1)\n",
    "s5 = pd.read_csv('supplementary/201012_s5_pri-structure.csv', header=1, index_col=0)"
   ]
  },
  {
   "cell_type": "code",
   "execution_count": 7,
   "metadata": {},
   "outputs": [
    {
     "name": "stdout",
     "output_type": "stream",
     "text": [
      "1881 (32, 90)\n"
     ]
    }
   ],
   "source": [
    "preposition = {}\n",
    "for mir in s2.index:\n",
    "    flank5, flank3 = s2.loc[mir,[\"5' flanking segment\",\"3' flanking segment\"]]\n",
    "    if flank5 and flank3:\n",
    "        preposition[mir] = (len(flank5)+1,125-len(flank3))\n",
    "    else:\n",
    "        preposition[mir] = (0,125)\n",
    "print len(preposition), preposition['hsa-mir-142']"
   ]
  },
  {
   "cell_type": "code",
   "execution_count": 8,
   "metadata": {},
   "outputs": [
    {
     "name": "stdout",
     "output_type": "stream",
     "text": [
      "304 257 157 281\n"
     ]
    }
   ],
   "source": [
    "drodep = s1[s1['DROSHA dependency'].apply(lambda x:x.find('DROSHA-dependent')>=0)].index\n",
    "droind = s1[s1['DROSHA dependency'].apply(lambda x:x.find('DROSHA-independent')>=0)].index\n",
    "droko = s1[s1['DROSHA dependency'].apply(lambda x:x.find('DROSHA KO')>=0)].index\n",
    "fclip = s1[s1['DROSHA dependency'].apply(lambda x:x.find('fCLIP')>=0)].index\n",
    "print len(drodep), len(droind), len(droko), len(fclip)"
   ]
  },
  {
   "cell_type": "code",
   "execution_count": 18,
   "metadata": {},
   "outputs": [
    {
     "name": "stdout",
     "output_type": "stream",
     "text": [
      "14\n"
     ]
    }
   ],
   "source": [
    "l = 'hsa-mir-124-1 hsa-mir-125a hsa-mir-128-1 hsa-mir-142 hsa-mir-150 hsa-mir-192 hsa-mir-193b \\\n",
    "hsa-mir-205 hsa-mir-214 hsa-mir-455 hsa-mir-483 hsa-mir-499 hsa-mir-888 hsa-mir-9-1'.split()\n",
    "print len(l)"
   ]
  },
  {
   "cell_type": "code",
   "execution_count": 22,
   "metadata": {},
   "outputs": [
    {
     "name": "stdout",
     "output_type": "stream",
     "text": [
      "1816 534 1282\n"
     ]
    }
   ],
   "source": [
    "EFFCUT = 2.5\n",
    "HOMCUT = .25\n",
    "tmp = pd.read_csv('supplementary/201123_s3__DROSHA_processing_result.csv', header=1, index_col=0)\n",
    "effs = tmp['Cleavage Efficiency'].to_dict()\n",
    "homs = tmp['Cleavage Homogeneity'].to_dict()\n",
    "dcsmirs = [ m for m in tmp.index if effs[m]>=EFFCUT and homs[m]>=HOMCUT ]\n",
    "nodcs = [ m for m in tmp.index if m not in dcsmirs ]\n",
    "print len(tmp.index), len(dcsmirs), len(nodcs)"
   ]
  },
  {
   "cell_type": "code",
   "execution_count": 23,
   "metadata": {},
   "outputs": [
    {
     "data": {
      "text/plain": [
       "['hsa-mir-142', 'hsa-mir-150', 'hsa-mir-205', 'hsa-mir-483', 'hsa-mir-888']"
      ]
     },
     "execution_count": 23,
     "metadata": {},
     "output_type": "execute_result"
    }
   ],
   "source": [
    "[m for m in l if m not in drodep and m in dcsmirs]"
   ]
  },
  {
   "cell_type": "markdown",
   "metadata": {},
   "source": [
    "## S1C. Flanking segments in miRBase hairpin"
   ]
  },
  {
   "cell_type": "code",
   "execution_count": 9,
   "metadata": {},
   "outputs": [],
   "source": [
    "def parse_line(row):\n",
    "    for s in row['attr'].split(';'):\n",
    "        tag, value = s.split('=')\n",
    "        row[tag] = value\n",
    "    return row"
   ]
  },
  {
   "cell_type": "code",
   "execution_count": 10,
   "metadata": {},
   "outputs": [
    {
     "data": {
      "text/html": [
       "<div>\n",
       "<style scoped>\n",
       "    .dataframe tbody tr th:only-of-type {\n",
       "        vertical-align: middle;\n",
       "    }\n",
       "\n",
       "    .dataframe tbody tr th {\n",
       "        vertical-align: top;\n",
       "    }\n",
       "\n",
       "    .dataframe thead th {\n",
       "        text-align: right;\n",
       "    }\n",
       "</style>\n",
       "<table border=\"1\" class=\"dataframe\">\n",
       "  <thead>\n",
       "    <tr style=\"text-align: right;\">\n",
       "      <th></th>\n",
       "      <th>Alias</th>\n",
       "      <th>Derives_from</th>\n",
       "      <th>ID</th>\n",
       "      <th>Name</th>\n",
       "      <th>chr</th>\n",
       "      <th>end</th>\n",
       "      <th>kind</th>\n",
       "      <th>start</th>\n",
       "      <th>strand</th>\n",
       "    </tr>\n",
       "  </thead>\n",
       "  <tbody>\n",
       "    <tr>\n",
       "      <th>0</th>\n",
       "      <td>MI0022705</td>\n",
       "      <td>NaN</td>\n",
       "      <td>MI0022705</td>\n",
       "      <td>hsa-mir-6859-1</td>\n",
       "      <td>chr1</td>\n",
       "      <td>17436</td>\n",
       "      <td>miRNA_primary_transcript</td>\n",
       "      <td>17369</td>\n",
       "      <td>-</td>\n",
       "    </tr>\n",
       "    <tr>\n",
       "      <th>1</th>\n",
       "      <td>MIMAT0027618</td>\n",
       "      <td>MI0022705</td>\n",
       "      <td>MIMAT0027618</td>\n",
       "      <td>hsa-miR-6859-5p</td>\n",
       "      <td>chr1</td>\n",
       "      <td>17431</td>\n",
       "      <td>miRNA</td>\n",
       "      <td>17409</td>\n",
       "      <td>-</td>\n",
       "    </tr>\n",
       "    <tr>\n",
       "      <th>2</th>\n",
       "      <td>MIMAT0027619</td>\n",
       "      <td>MI0022705</td>\n",
       "      <td>MIMAT0027619</td>\n",
       "      <td>hsa-miR-6859-3p</td>\n",
       "      <td>chr1</td>\n",
       "      <td>17391</td>\n",
       "      <td>miRNA</td>\n",
       "      <td>17369</td>\n",
       "      <td>-</td>\n",
       "    </tr>\n",
       "  </tbody>\n",
       "</table>\n",
       "</div>"
      ],
      "text/plain": [
       "          Alias Derives_from            ID             Name   chr    end  \\\n",
       "0     MI0022705          NaN     MI0022705   hsa-mir-6859-1  chr1  17436   \n",
       "1  MIMAT0027618    MI0022705  MIMAT0027618  hsa-miR-6859-5p  chr1  17431   \n",
       "2  MIMAT0027619    MI0022705  MIMAT0027619  hsa-miR-6859-3p  chr1  17391   \n",
       "\n",
       "                       kind  start strand  \n",
       "0  miRNA_primary_transcript  17369      -  \n",
       "1                     miRNA  17409      -  \n",
       "2                     miRNA  17369      -  "
      ]
     },
     "execution_count": 10,
     "metadata": {},
     "output_type": "execute_result"
    }
   ],
   "source": [
    "# miBRase v21 gff file\n",
    "gff = 'supplementary/human_mirbase-v21.gff3'\n",
    "anntbl = pd.read_table(gff, header=12, sep='\\t', usecols=[0,2,3,4,6,8], \n",
    "                       names=['chr','kind','start','end','strand','attr'])\n",
    "anntbl = anntbl.apply(parse_line, axis=1).drop(['attr'], axis=1)\n",
    "anntbl.head(3)"
   ]
  },
  {
   "cell_type": "code",
   "execution_count": 11,
   "metadata": {},
   "outputs": [
    {
     "name": "stdout",
     "output_type": "stream",
     "text": [
      "1881\n"
     ]
    }
   ],
   "source": [
    "annpri = anntbl[anntbl['kind']=='miRNA_primary_transcript'].set_index('Name')\n",
    "annmat = anntbl[anntbl['kind']=='miRNA'].set_index('ID')\n",
    "allpris = sorted(annpri.index)\n",
    "print len(allpris)"
   ]
  },
  {
   "cell_type": "code",
   "execution_count": 12,
   "metadata": {},
   "outputs": [
    {
     "name": "stdout",
     "output_type": "stream",
     "text": [
      "['hsa-let-7a-5p', 'hsa-let-7a-3p']\n"
     ]
    }
   ],
   "source": [
    "# pri-mature matching\n",
    "primat = {}\n",
    "for pri, row in annpri.iterrows():\n",
    "    matureDerives = anntbl[anntbl['Derives_from']==row['ID']]\n",
    "    primat[pri] = matureDerives['Name'].tolist()\n",
    "print primat['hsa-let-7a-1']"
   ]
  },
  {
   "cell_type": "code",
   "execution_count": 13,
   "metadata": {},
   "outputs": [
    {
     "name": "stdout",
     "output_type": "stream",
     "text": [
      "28645\n"
     ]
    }
   ],
   "source": [
    "hpnseqf = 'supplementary/hairpin_mirbase-v21.fa'\n",
    "matseqf = 'supplementary/mature_mirbase-v21.fa'\n",
    "hpnseqs = { s.id:str(s.seq) for s in SeqIO.parse(hpnseqf, 'fasta') }\n",
    "matseqs = { s.id:str(s.seq) for s in SeqIO.parse(matseqf, 'fasta') }\n",
    "print len(hpnseqs)"
   ]
  },
  {
   "cell_type": "code",
   "execution_count": 14,
   "metadata": {},
   "outputs": [],
   "source": [
    "def determine_arm(pri, mat):\n",
    "    preseq = s2.loc[pri,'Pre-miRNA']\n",
    "    matseq = matseqs[mat]\n",
    "    if preseq.startswith(matseq):\n",
    "        return '5p'\n",
    "    else:\n",
    "        return '3p'"
   ]
  },
  {
   "cell_type": "code",
   "execution_count": 15,
   "metadata": {},
   "outputs": [
    {
     "name": "stdout",
     "output_type": "stream",
     "text": [
      "1408 1405\n"
     ]
    }
   ],
   "source": [
    "# miRBase hairpin\n",
    "flank5, flank3 = {}, {}\n",
    "for pri in s1.index:\n",
    "    hpn = hpnseqs[pri]\n",
    "    for mat in primat[pri]:\n",
    "        arm = determine_arm(pri,mat)\n",
    "        if arm=='5p':\n",
    "            flank5[pri] = hpn.find(matseqs[mat])\n",
    "        else:\n",
    "            flank3[pri] = hpn[::-1].find(matseqs[mat][::-1])\n",
    "print len(flank5), len(flank3)"
   ]
  },
  {
   "cell_type": "code",
   "execution_count": 16,
   "metadata": {},
   "outputs": [],
   "source": [
    "xs = np.arange(31)\n",
    "bins = zip(range(31),range(30)+[100])\n",
    "ys1 = [ len([p for p in flank5 if lb<=flank5[p]<=ub]) for lb,ub in bins ]\n",
    "ys2 = [ len([p for p in flank3 if lb<=flank3[p]<=ub]) for lb,ub in bins ]"
   ]
  },
  {
   "cell_type": "code",
   "execution_count": 17,
   "metadata": {
    "scrolled": true
   },
   "outputs": [
    {
     "data": {
      "text/plain": [
       "<matplotlib.legend.Legend at 0x7f851a099210>"
      ]
     },
     "execution_count": 17,
     "metadata": {},
     "output_type": "execute_result"
    },
    {
     "data": {
      "image/png": "[encoded data removed]",
      "text/plain": [
       "<matplotlib.figure.Figure at 0x7f851c19d0d0>"
      ]
     },
     "metadata": {},
     "output_type": "display_data"
    }
   ],
   "source": [
    "fig, ax = plt.subplots(1, 1, figsize=(4,1.8))\n",
    "ax.bar(xs-.2,ys1,fc='#ababab',width=.4,zorder=2,label='5$^\\prime$ flanking segment')\n",
    "ax.bar(xs+.2,ys2,fc='#424242',width=.4,zorder=2,label='3$^\\prime$ flanking segment')\n",
    "\n",
    "ax.set_xlabel('Length (nt)')\n",
    "ax.set_ylabel('Pri-miRNAs')\n",
    "ax.set_xticks(range(0,31,5))\n",
    "ax.set_xticklabels(range(0,30,5)+['$\\geq$30'])\n",
    "ax.yaxis.grid(ls='-',lw=.5)\n",
    "ax.set_xlim(-1.5,31)\n",
    "ax.spines['bottom'].set_bounds(-1,31)\n",
    "ax.legend(handlelength=1.5, handletextpad=.3, loc=(.5,.6))\n",
    "#fig.savefig(resultpath + '201117_s1__flank_mirbase.pdf')"
   ]
  },
  {
   "cell_type": "markdown",
   "metadata": {},
   "source": [
    "## S1D. Conservation of flanking segment"
   ]
  },
  {
   "cell_type": "code",
   "execution_count": 35,
   "metadata": {},
   "outputs": [],
   "source": [
    "def get_phylop_scores(chrom, start, end):\n",
    "    savepath = 'supplementary/phyloP100way'\n",
    "    phystarts = [ int(f.split('.')[0]) for f in listdir('%s/%s'%(savepath,chrom)) \n",
    "                  if f.endswith('.gz') ]\n",
    "    init = sorted([ s for s in phystarts if s<=start ])[-1]\n",
    "    nextst = sorted([ s for s in phystarts if s>start])[0]\n",
    "    rels, rele = start-init, end-init\n",
    "    phys = open('%s/%s/%s.phylop.gz'%(savepath,chrom,init),'rt').read().strip().split('\\n')\n",
    "    if len(phys) <= rels:\n",
    "        if nextst > end:\n",
    "            return ['-']*(end-start+1)\n",
    "        else:\n",
    "            return ['-']*(nextst-start) + get_phylop_scores(chrom, nextst, end)\n",
    "    elif len(phys) > rele:\n",
    "        return map(float, phys[rels:rele+1])\n",
    "    else: # rels < len(phys) <= rele\n",
    "        return map(float, phys[rels:]) + get_phylop_scores(chrom, init+len(phys), end)"
   ]
  },
  {
   "cell_type": "code",
   "execution_count": 60,
   "metadata": {},
   "outputs": [],
   "source": [
    "conserv5, conserv3 = {}, {}\n",
    "for pri in drodep:\n",
    "    chrom, pstart, pend, strand = get_pre_annot(pri)\n",
    "    if strand=='+':\n",
    "        conserv5[pri] = get_phylop_scores(chrom, pstart-50, pstart-1)\n",
    "        conserv3[pri] = get_phylop_scores(chrom, pend+1, pend+50)[::-1]\n",
    "    else:\n",
    "        conserv3[pri] = get_phylop_scores(chrom, pstart-50, pstart-1)\n",
    "        conserv5[pri] = get_phylop_scores(chrom, pend+1, pend+50)[::-1]"
   ]
  },
  {
   "cell_type": "code",
   "execution_count": 63,
   "metadata": {},
   "outputs": [],
   "source": [
    "xs = np.arange(-50,0)\n",
    "ps5 = zip(*[ conserv5[pri] for pri in drodep ])\n",
    "ys5 = [ np.average([p for p in ps if p!='-']) for ps in ps5 ]\n",
    "es5 = [ sem([p for p in ps if p!='-']) for ps in ps5 ]\n",
    "ps3 = zip(*[ conserv3[pri] for pri in drodep ])\n",
    "ys3 = [ np.average([p for p in ps if p!='-']) for ps in ps3 ]\n",
    "es3 = [ sem([p for p in ps if p!='-']) for ps in ps3 ]\n",
    "c5, c3, shade = '#4292c6', '#807dba', '#dddddd'\n",
    "c3, c5, shade = '#c61d21', '#004597', '#dddddd'"
   ]
  },
  {
   "cell_type": "code",
   "execution_count": 64,
   "metadata": {},
   "outputs": [
    {
     "data": {
      "image/png": "[encoded data removed]",
      "text/plain": [
       "<matplotlib.figure.Figure at 0x7f857299cf50>"
      ]
     },
     "metadata": {},
     "output_type": "display_data"
    }
   ],
   "source": [
    "fig, (ax1, ax2) = plt.subplots(1, 2, figsize=(5,1.5), sharey=True)\n",
    "fig.subplots_adjust(wspace=.1)\n",
    "\n",
    "ax1.errorbar(xs, ys5, color=c5, yerr=es5, elinewidth=.8, zorder=2)\n",
    "ax2.errorbar(xs, ys3, color=c3, yerr=es3, elinewidth=.8, zorder=2)\n",
    "ax1.axvspan(-20.5, -.5, color=shade)\n",
    "ax2.axvspan(-25.5, -.5, color=shade)\n",
    "\n",
    "ax1.set_xticks([-1,-20,-40])\n",
    "ax2.set_xticks([-1,-25,-50])\n",
    "\n",
    "for ax in [ax1,ax2]:\n",
    "    ax.yaxis.grid(ls='-',lw=.5)\n",
    "    ax.set_xlim(-52,0)\n",
    "    \n",
    "ax1.set_xlabel('5$^\\prime$ flanking region')\n",
    "ax2.set_xlabel('3$^\\prime$ flanking region')\n",
    "ax1.set_ylabel('phyloP score')\n",
    "ax2.invert_xaxis()\n",
    "ax2.spines['left'].set_visible(False)\n",
    "ax2.tick_params(left='off')\n",
    "fig.savefig(resultpath + '201123_s1__flanking_conservation.pdf')"
   ]
  },
  {
   "cell_type": "markdown",
   "metadata": {},
   "source": [
    "## S1E. Flanking segment of our consruct"
   ]
  },
  {
   "cell_type": "code",
   "execution_count": 88,
   "metadata": {},
   "outputs": [
    {
     "name": "stdout",
     "output_type": "stream",
     "text": [
      "1408 1405\n"
     ]
    }
   ],
   "source": [
    "# ours\n",
    "flank5, flank3 = {}, {}\n",
    "for pri in s1.index:\n",
    "    hpn = s2.loc[pri,'Construct sequence (125 nt)'].replace('T','U')\n",
    "    for mat in primat[pri]:\n",
    "        arm = determine_arm(pri,mat)\n",
    "        if arm=='5p':\n",
    "            flank5[pri] = hpn.find(matseqs[mat])\n",
    "        else:\n",
    "            flank3[pri] = hpn[::-1].find(matseqs[mat][::-1])\n",
    "print len(flank5), len(flank3)"
   ]
  },
  {
   "cell_type": "code",
   "execution_count": 89,
   "metadata": {},
   "outputs": [],
   "source": [
    "xs = np.arange(31)\n",
    "bins = zip(range(31),range(30)+[100])\n",
    "ys1 = [ len([p for p in flank5 if lb<=flank5[p]<=ub]) for lb,ub in bins ]\n",
    "ys2 = [ len([p for p in flank3 if lb<=flank3[p]<=ub]) for lb,ub in bins ]"
   ]
  },
  {
   "cell_type": "code",
   "execution_count": 91,
   "metadata": {
    "scrolled": true
   },
   "outputs": [
    {
     "data": {
      "image/png": "[encoded data removed]",
      "text/plain": [
       "<matplotlib.figure.Figure at 0x7f93acaac050>"
      ]
     },
     "metadata": {},
     "output_type": "display_data"
    }
   ],
   "source": [
    "fig, ax = plt.subplots(1, 1, figsize=(4,1.8))\n",
    "ax.bar(xs-.2,ys1,fc='#ababab',width=.4,zorder=2,label='5$^\\prime$ flanking segment')\n",
    "ax.bar(xs+.2,ys2,fc='#424242',width=.4,zorder=2,label='3$^\\prime$ flanking segment')\n",
    "\n",
    "ax.set_xlabel('Length (nt)')\n",
    "ax.set_ylabel('Pri-miRNAs')\n",
    "ax.set_xticks(range(0,31,5))\n",
    "ax.set_xticklabels(range(0,30,5)+['$\\geq$30'])\n",
    "ax.yaxis.grid(ls='-',lw=.5)\n",
    "ax.legend(handlelength=1.5, handletextpad=.3, loc=(.03,.6))\n",
    "#ax.axvline(13,color='#084594',ls='--',lw=1.3)\n",
    "#ax.axvline(14,color='#4a1486',ls='--',lw=1.3)\n",
    "ax.set_xlim(-1.5,31)\n",
    "ax.spines['bottom'].set_bounds(-1,31)\n",
    "#fig.savefig(resultpath + '201117_s1__flank_ours.pdf')"
   ]
  },
  {
   "cell_type": "markdown",
   "metadata": {},
   "source": [
    "## S1F. Fragment composition"
   ]
  },
  {
   "cell_type": "code",
   "execution_count": 35,
   "metadata": {},
   "outputs": [],
   "source": [
    "START, MID, END = 1, 63, 125\n",
    "DECAY = 4"
   ]
  },
  {
   "cell_type": "code",
   "execution_count": 96,
   "metadata": {},
   "outputs": [],
   "source": [
    "pitbl = s4[['Pri-miRNA','rstart','rend']+PILOT]\n",
    "pi5f = pitbl[(pitbl['rstart']<=START+DECAY)&(pitbl['rend']<MID)]\n",
    "pi3f = pitbl[(pitbl['rstart']>MID)&(pitbl['rend']>=END-DECAY)]\n",
    "pih = pitbl[(pitbl['rstart'].apply(lambda x: START+DECAY<x<MID))&\\\n",
    "            (pitbl['rend'].apply(lambda x: MID<x<END-DECAY))]"
   ]
  },
  {
   "cell_type": "code",
   "execution_count": 98,
   "metadata": {},
   "outputs": [
    {
     "name": "stdout",
     "output_type": "stream",
     "text": [
      "pilot 5f:\t3423624\n",
      "pilot hairpin:\t41500\n",
      "pilot 3f:\t771421\n",
      "pilot else:\t130743\n"
     ]
    }
   ],
   "source": [
    "psum5f = pi5f[PILOT].sum().sum()\n",
    "psumh = pih[PILOT].sum().sum()\n",
    "psum3f = pi3f[PILOT].sum().sum()\n",
    "psumel = pitbl[PILOT].sum().sum()-psum5f-psumh-psum3f\n",
    "print 'pilot 5f:\\t%i'%psum5f\n",
    "print 'pilot hairpin:\\t%i'%psumh\n",
    "print 'pilot 3f:\\t%i'%psum3f\n",
    "print 'pilot else:\\t%i'%psumel"
   ]
  },
  {
   "cell_type": "code",
   "execution_count": 119,
   "metadata": {},
   "outputs": [
    {
     "name": "stdout",
     "output_type": "stream",
     "text": [
      "8\n"
     ]
    }
   ],
   "source": [
    "pimirs = set(pitbl[(pitbl[PILOT]>0).all(axis=1)]['Pri-miRNA'])\n",
    "print len(pimirs)\n",
    "\n",
    "set1tbl = s4[['Pri-miRNA','rstart','rend']+SET1]\n",
    "set1tbl = set1tbl.set_index('Pri-miRNA').loc[pimirs].reset_index()\n",
    "s15f = set1tbl[(set1tbl['rstart']==START)&(set1tbl['rend']<MID)]\n",
    "s13f = set1tbl[(set1tbl['rstart']>MID)&(set1tbl['rend']==END)]\n",
    "s1h = set1tbl[(set1tbl['rstart']<MID)&(set1tbl['rend']>MID)]"
   ]
  },
  {
   "cell_type": "code",
   "execution_count": 120,
   "metadata": {},
   "outputs": [
    {
     "name": "stdout",
     "output_type": "stream",
     "text": [
      "set1 5f:\t170328\n",
      "set1 hairpin:\t70395\n",
      "set1 3f:\t156380\n",
      "set1 else:\t3961\n"
     ]
    }
   ],
   "source": [
    "s1sum5f = s15f[SET1].sum().sum()\n",
    "s1sumh = s1h[SET1].sum().sum()\n",
    "s1sum3f = s13f[SET1].sum().sum()\n",
    "s1sumel = set1tbl[SET1].sum().sum()-s1sum5f-s1sumh-s1sum3f\n",
    "print 'set1 5f:\\t%i'%s1sum5f\n",
    "print 'set1 hairpin:\\t%i'%s1sumh\n",
    "print 'set1 3f:\\t%i'%s1sum3f\n",
    "print 'set1 else:\\t%i'%s1sumel"
   ]
  },
  {
   "cell_type": "code",
   "execution_count": 102,
   "metadata": {},
   "outputs": [
    {
     "name": "stdout",
     "output_type": "stream",
     "text": [
      "set1 5f:\t13529826\n",
      "set1 hairpin:\t7699718\n",
      "set1 3f:\t10436570\n",
      "set1 else:\t975533\n"
     ]
    }
   ],
   "source": [
    "s1sum5f = s15f[SET1].sum().sum()\n",
    "s1sumh = s1h[SET1].sum().sum()\n",
    "s1sum3f = s13f[SET1].sum().sum()\n",
    "s1sumel = set1tbl[SET1].sum().sum()-s1sum5f-s1sumh-s1sum3f\n",
    "print 'set1 5f:\\t%i'%s1sum5f\n",
    "print 'set1 hairpin:\\t%i'%s1sumh\n",
    "print 'set1 3f:\\t%i'%s1sum3f\n",
    "print 'set1 else:\\t%i'%s1sumel"
   ]
  },
  {
   "cell_type": "code",
   "execution_count": 266,
   "metadata": {},
   "outputs": [],
   "source": [
    "ys1 = [ psum5f, psum3f, psumh, psumel ]\n",
    "ys2 = [ s1sum5f, s1sum3f, s1sumh, s1sumel ]\n",
    "ys1 = np.array(ys1)/sum(ys1)*100\n",
    "ys2 = np.array(ys2)/sum(ys2)*100\n",
    "c5, ch, c3, ce = '#6baed6', '#9e9ac8', '#fb6a4a', '#969696'\n",
    "colors = [ c5, ch, c3, ce ]\n",
    "labels = [ '5$^\\prime$ fragment', '3$^\\prime$ fragment', 'Hairpin', 'Others' ]"
   ]
  },
  {
   "cell_type": "code",
   "execution_count": 267,
   "metadata": {},
   "outputs": [
    {
     "data": {
      "image/png": "[encoded data removed]",
      "text/plain": [
       "<matplotlib.figure.Figure at 0x7f932c50bbd0>"
      ]
     },
     "metadata": {},
     "output_type": "display_data"
    }
   ],
   "source": [
    "## color version\n",
    "fig, ax = plt.subplots(1, 1, figsize=(2.2, 2.2))\n",
    "bottom = np.array([0.,0.])\n",
    "for y1, y2, color, label in zip(ys1, ys2, colors, labels):\n",
    "    ax.bar(range(2), [y1, y2], bottom=bottom, width=.65, linewidth=1, edgecolor='white',\n",
    "           color=color, zorder=2, label=label, alpha=.9)\n",
    "    bottom += np.array([y1,y2])\n",
    "    if label not in labels[-1:]:\n",
    "        l = lines.Line2D([.325,.675], bottom, linewidth=.8, color='black', linestyle='--')\n",
    "        l.set_clip_on(False)\n",
    "        ax.add_line(l)\n",
    "\n",
    "ax.set_xlim(-.5, 1.5)\n",
    "ax.set_ylim(0, 101)\n",
    "ax.set_xticks([0,1])\n",
    "ax.set_xticklabels(['Conventional\\nmethod', 'Improved\\nmethod'])\n",
    "ax.set_yticks([0,25,50,75,100])\n",
    "ax.set_yticklabels([0,25,50,75,100])\n",
    "ax.set_ylabel('Fraction (%)')\n",
    "ax.spines['left'].set_bounds(0,100)\n",
    "ax.tick_params(bottom='off')\n",
    "ax.legend(loc=(-.1,1.1), handlelength=1.3, labelspacing=.4, handletextpad=.5, \n",
    "          ncol=2, columnspacing=1)\n",
    "ax.yaxis.grid(ls='-', lw=.5)\n",
    "fig.savefig(resultpath + '201123_s1f__fragment-composition.pdf')"
   ]
  },
  {
   "cell_type": "markdown",
   "metadata": {},
   "source": [
    "## S1G-H. Reproducibility"
   ]
  },
  {
   "cell_type": "code",
   "execution_count": 31,
   "metadata": {},
   "outputs": [
    {
     "data": {
      "text/html": [
       "<div>\n",
       "<style scoped>\n",
       "    .dataframe tbody tr th:only-of-type {\n",
       "        vertical-align: middle;\n",
       "    }\n",
       "\n",
       "    .dataframe tbody tr th {\n",
       "        vertical-align: top;\n",
       "    }\n",
       "\n",
       "    .dataframe thead th {\n",
       "        text-align: right;\n",
       "    }\n",
       "</style>\n",
       "<table border=\"1\" class=\"dataframe\">\n",
       "  <thead>\n",
       "    <tr style=\"text-align: right;\">\n",
       "      <th></th>\n",
       "      <th>set1</th>\n",
       "      <th>set2</th>\n",
       "      <th>set3</th>\n",
       "      <th>set4</th>\n",
       "      <th>set5</th>\n",
       "    </tr>\n",
       "    <tr>\n",
       "      <th>Pri-miRNA</th>\n",
       "      <th></th>\n",
       "      <th></th>\n",
       "      <th></th>\n",
       "      <th></th>\n",
       "      <th></th>\n",
       "    </tr>\n",
       "  </thead>\n",
       "  <tbody>\n",
       "    <tr>\n",
       "      <th>hsa-let-7a-1</th>\n",
       "      <td>1373</td>\n",
       "      <td>474</td>\n",
       "      <td>0</td>\n",
       "      <td>2</td>\n",
       "      <td>0</td>\n",
       "    </tr>\n",
       "  </tbody>\n",
       "</table>\n",
       "</div>"
      ],
      "text/plain": [
       "              set1  set2  set3  set4  set5\n",
       "Pri-miRNA                                 \n",
       "hsa-let-7a-1  1373   474     0     2     0"
      ]
     },
     "execution_count": 31,
     "metadata": {},
     "output_type": "execute_result"
    }
   ],
   "source": [
    "inpsum = pd.DataFrame()\n",
    "for inp in ['set1', 'set3', 'set5']:\n",
    "    rep1 = '%s-1'%inp\n",
    "    rep2 = '%s-2'%inp\n",
    "    inpsum[inp] = s3[[rep1,rep2]].sum(axis=1)\n",
    "inpsum['set2'] = s3['set2']\n",
    "inpsum['set4'] = s3['set4'] \n",
    "inpsum = inpsum[LIBRARIES].astype(int)\n",
    "inpsum.head(1)"
   ]
  },
  {
   "cell_type": "code",
   "execution_count": 146,
   "metadata": {},
   "outputs": [
    {
     "name": "stdout",
     "output_type": "stream",
     "text": [
      "1645\n"
     ]
    }
   ],
   "source": [
    "synexcel = pd.ExcelFile('supplementary/synthesis_log.xlsx')\n",
    "syn1mirs = synexcel.parse('1st')[0].tolist()\n",
    "inpsub = inpsum.reindex(syn1mirs).dropna()\n",
    "print len(inpsub)"
   ]
  },
  {
   "cell_type": "code",
   "execution_count": 268,
   "metadata": {},
   "outputs": [],
   "source": [
    "color, ecolor = '#969696', '#545454'\n",
    "lw = .7\n",
    "alpha = .6\n",
    "s = 5\n",
    "rep1, rep2 = 'set1', 'set2'\n",
    "xs = np.log2(inpsub[r1]+1)\n",
    "ys = np.log2(inpsub[r2]+1)\n",
    "xmin, xmax = 0, 13\n",
    "ymin, ymax = 0, 13"
   ]
  },
  {
   "cell_type": "code",
   "execution_count": 270,
   "metadata": {},
   "outputs": [
    {
     "data": {
      "image/png": "[encoded data removed]",
      "text/plain": [
       "<matplotlib.figure.Figure at 0x7f932caf6810>"
      ]
     },
     "metadata": {},
     "output_type": "display_data"
    }
   ],
   "source": [
    "## reproducibility between replicates\n",
    "fig, ax = plt.subplots(1, 1, figsize=(2.5,2.5))\n",
    "ax.scatter(xs, ys, s=10, color='k', lw=0, alpha=.1, zorder=2, rasterized=True)\n",
    "\n",
    "ax.set_xticks(range(xmin, xmax, 4))\n",
    "ax.set_yticks(range(ymin, ymax, 4))\n",
    "ax.set_xlim(xmin-.4, xmax+.4)\n",
    "ax.set_ylim(ymin-.4, ymax+.4)\n",
    "ax.set_xlabel('Set #1', fontsize=11)\n",
    "ax.set_ylabel('Set #2', fontsize=11)\n",
    "ax.spines['bottom'].set_bounds(0, xmax)\n",
    "ax.spines['left'].set_bounds(0, ymax)\n",
    "r = spearmanr(xs, ys)[0]\n",
    "ax.text(xmax, ymin+.5, '$R_s$ = %.2f'%r, fontsize=11, ha='right')\n",
    "\n",
    "squ = plt.Rectangle((-.1,-.1), xmax+.1, ymax+.1, fc='w'); ax.add_patch(squ)\n",
    "ax.grid(clip_path=squ, ls='-', lw=.5)\n",
    "ax.set_title('log2 (Initial substrates + 1)', fontsize=11)\n",
    "fig.savefig(resultpath + '201123_s1g_reproducibility_input.pdf',dpi=300)"
   ]
  },
  {
   "cell_type": "code",
   "execution_count": 32,
   "metadata": {},
   "outputs": [
    {
     "data": {
      "text/html": [
       "<div>\n",
       "<style scoped>\n",
       "    .dataframe tbody tr th:only-of-type {\n",
       "        vertical-align: middle;\n",
       "    }\n",
       "\n",
       "    .dataframe tbody tr th {\n",
       "        vertical-align: top;\n",
       "    }\n",
       "\n",
       "    .dataframe thead th {\n",
       "        text-align: right;\n",
       "    }\n",
       "</style>\n",
       "<table border=\"1\" class=\"dataframe\">\n",
       "  <thead>\n",
       "    <tr style=\"text-align: right;\">\n",
       "      <th></th>\n",
       "      <th>Pri-miRNA</th>\n",
       "      <th>rstart</th>\n",
       "      <th>rend</th>\n",
       "      <th>set1</th>\n",
       "      <th>set2</th>\n",
       "      <th>set3</th>\n",
       "      <th>set4</th>\n",
       "      <th>set5</th>\n",
       "    </tr>\n",
       "  </thead>\n",
       "  <tbody>\n",
       "    <tr>\n",
       "      <th>0</th>\n",
       "      <td>hsa-let-7a-1</td>\n",
       "      <td>1</td>\n",
       "      <td>8</td>\n",
       "      <td>4</td>\n",
       "      <td>4</td>\n",
       "      <td>0</td>\n",
       "      <td>0</td>\n",
       "      <td>0</td>\n",
       "    </tr>\n",
       "  </tbody>\n",
       "</table>\n",
       "</div>"
      ],
      "text/plain": [
       "      Pri-miRNA  rstart  rend  set1  set2  set3  set4  set5\n",
       "0  hsa-let-7a-1       1     8     4     4     0     0     0"
      ]
     },
     "execution_count": 32,
     "metadata": {},
     "output_type": "execute_result"
    }
   ],
   "source": [
    "clvsum = pd.DataFrame()\n",
    "for lib in LIBRARIES:\n",
    "    rep1 = '%s-1'%lib\n",
    "    rep2 = '%s-2'%lib\n",
    "    clvsum[lib] = s4.set_index(['Pri-miRNA','rstart','rend'])[[rep1,rep2]].sum(axis=1)\n",
    "clvsum = clvsum.reset_index()\n",
    "clvsum.head(1)"
   ]
  },
  {
   "cell_type": "code",
   "execution_count": 36,
   "metadata": {},
   "outputs": [],
   "source": [
    "clv5f = clvsum[(clvsum['rstart']==START)&(clvsum['rend']<MID)].set_index('Pri-miRNA')\n",
    "clv3f = clvsum[(clvsum['rstart']>MID)&(clvsum['rend']==END)].set_index('Pri-miRNA')\n",
    "clvhn = clvsum[(clvsum['rstart']<MID)&(clvsum['rend']>MID)]\n",
    "clvn5 = clvhn[clvhn['rstart']==START]\n",
    "clvn3 = clvhn[clvhn['rend']==END]\n",
    "clvh = clvhn.drop(clvn5.index).drop(clvn3.index).set_index('Pri-miRNA')\n",
    "clvn5 = clvn5.set_index('Pri-miRNA'); clvn3 = clvn3.set_index('Pri-miRNA')"
   ]
  },
  {
   "cell_type": "code",
   "execution_count": 273,
   "metadata": {},
   "outputs": [],
   "source": [
    "## reproducibility between replicates\n",
    "syn1clv = [ mir for mir in syn1mirs if all([mir in l.index for l in [clv5f,clv3f,clvh]]) ]\n",
    "xs5 = [ np.log2(clv5f.loc[mir,r1].sum()+1) for mir in syn1clv ]\n",
    "ys5 = [ np.log2(clv5f.loc[mir,r2].sum()+1) for mir in syn1clv ]\n",
    "xs3 = [ np.log2(clv3f.loc[mir,r1].sum()+1) for mir in syn1clv ]\n",
    "ys3 = [ np.log2(clv3f.loc[mir,r2].sum()+1) for mir in syn1clv ]\n",
    "xsh = [ np.log2(clvh.loc[mir,r1].sum()+1) for mir in syn1clv ]\n",
    "ysh = [ np.log2(clvh.loc[mir,r2].sum()+1) for mir in syn1clv ]\n",
    "r5 = spearmanr(xs5, ys5)[0]\n",
    "r3 = spearmanr(xs3, ys3)[0]\n",
    "rh = spearmanr(xsh, ysh)[0]\n",
    "xmin, xmax = 2, 17\n",
    "ymin, ymax = 0, 14"
   ]
  },
  {
   "cell_type": "code",
   "execution_count": 274,
   "metadata": {},
   "outputs": [
    {
     "data": {
      "image/png": "[encoded data removed]",
      "text/plain": [
       "<matplotlib.figure.Figure at 0x7f934a0b4410>"
      ]
     },
     "metadata": {},
     "output_type": "display_data"
    }
   ],
   "source": [
    "fig, ax = plt.subplots(1, 1, figsize=(2.5,2.5))\n",
    "ax.scatter(xs5,ys5,s=10,facecolor='None',edgecolor='k',lw=.8,alpha=.05,marker='o',\n",
    "           label='5F',zorder=2,rasterized=True)\n",
    "ax.scatter(xs3,ys3,s=10,facecolor='None',edgecolor='k',lw=.8,alpha=.05,marker='^',\n",
    "           label='3F',zorder=2,rasterized=True)\n",
    "ax.scatter(xsh,ysh,s=10,facecolor='None',edgecolor='k',lw=.8,alpha=.05,marker='s',\n",
    "           label='H',zorder=2,rasterized=True)\n",
    "\n",
    "ax.set_xticks(range(xmin, xmax, 4))\n",
    "ax.set_yticks(range(ymin, ymax, 4))\n",
    "ax.set_xlim(xmin-.4, xmax+.4)\n",
    "ax.set_ylim(ymin-.4, ymax+.4)\n",
    "ax.set_xlabel('Set #1', fontsize=11)\n",
    "ax.set_ylabel('Set #2', fontsize=11)\n",
    "\n",
    "ax.spines['bottom'].set_bounds(xmin, xmax)\n",
    "ax.spines['left'].set_bounds(ymin, ymax)\n",
    "ax.set_title('log2 (Cleavage products + 1)', fontsize=11)\n",
    "ax.text(14.5,.5,'$R_{s,5F}$ = %.2f\\n$R_{s,H}$  = %.2f\\n$R_{s,3F}$ = %.2f'%(r5,rh,r3))\n",
    "leg = ax.legend(loc='upper left', handletextpad=.1, markerscale=2)\n",
    "for lh in leg.legendHandles:\n",
    "    lh.set_alpha(1)\n",
    "squ = plt.Rectangle((-.1,-.1), xmax+.1, ymax+.1, fc='w'); ax.add_patch(squ)\n",
    "ax.grid(clip_path=squ, ls='-', lw=.5)\n",
    "fig.savefig(resultpath + '201123_s1h_reproducibility_clv.pdf',dpi=300)"
   ]
  },
  {
   "cell_type": "markdown",
   "metadata": {},
   "source": [
    "--- \n",
    "## 1D. Processing examples"
   ]
  },
  {
   "cell_type": "code",
   "execution_count": 41,
   "metadata": {},
   "outputs": [],
   "source": [
    "EX = 'hsa-mir-125a'"
   ]
  },
  {
   "cell_type": "code",
   "execution_count": 164,
   "metadata": {},
   "outputs": [
    {
     "data": {
      "text/html": [
       "<div>\n",
       "<style scoped>\n",
       "    .dataframe tbody tr th:only-of-type {\n",
       "        vertical-align: middle;\n",
       "    }\n",
       "\n",
       "    .dataframe tbody tr th {\n",
       "        vertical-align: top;\n",
       "    }\n",
       "\n",
       "    .dataframe thead th {\n",
       "        text-align: right;\n",
       "    }\n",
       "</style>\n",
       "<table border=\"1\" class=\"dataframe\">\n",
       "  <thead>\n",
       "    <tr style=\"text-align: right;\">\n",
       "      <th></th>\n",
       "      <th>miRNA</th>\n",
       "      <th>start</th>\n",
       "      <th>end</th>\n",
       "      <th>strand</th>\n",
       "      <th>293T</th>\n",
       "    </tr>\n",
       "  </thead>\n",
       "  <tbody>\n",
       "    <tr>\n",
       "      <th>0</th>\n",
       "      <td>hsa-let-7a-1</td>\n",
       "      <td>94175819</td>\n",
       "      <td>94175961</td>\n",
       "      <td>+</td>\n",
       "      <td>1</td>\n",
       "    </tr>\n",
       "  </tbody>\n",
       "</table>\n",
       "</div>"
      ],
      "text/plain": [
       "          miRNA     start       end strand  293T\n",
       "0  hsa-let-7a-1  94175819  94175961      +     1"
      ]
     },
     "execution_count": 164,
     "metadata": {},
     "output_type": "execute_result"
    }
   ],
   "source": [
    "bedcols = [ 'chr', 'start', 'end', 'rname', 'miRNA', 'strand' ]\n",
    "bedfile = 'supplementary/fCLIP/293T/293T_191115_genome-annot_1881-pris_mp1_sp1.bed.gz'\n",
    "ftmp = pd.read_table(gzip.open(bedfile,'rb'),usecols=[0,1,2,3,15,17],names=bedcols)\n",
    "ftmp['start']=ftmp['start']+1\n",
    "ftbl = pd.DataFrame()\n",
    "ftbl['293T'] = ftmp.groupby(['miRNA','start','end','strand']).size()\n",
    "ftbl = ftbl.reset_index()\n",
    "ftbl.head(1)"
   ]
  },
  {
   "cell_type": "code",
   "execution_count": 260,
   "metadata": {},
   "outputs": [],
   "source": [
    "ps, pe = get_pre_annot(EX)[1:3]\n",
    "fsub = ftbl[(ftbl['miRNA']==EX)&((ftbl['end']-ftbl['start'])>=40)]\n",
    "fsub5 = fsub[fsub['start'].apply(lambda x: x in range(ps-100,ps-35))].sort_values('end')\n",
    "fsubh1 = fsub[(fsub['end']==pe)].sort_values('start')\n",
    "fsubh2 = fsub[(fsub['start']==ps)&(fsub['end']!=pe)].sort_values('end',ascending=False)\n",
    "fsub3 = fsub[fsub['end'].apply(lambda x: x in range(pe+35,pe+100))].sort_values('start')\n",
    "c = '#bcbddc'"
   ]
  },
  {
   "cell_type": "code",
   "execution_count": 261,
   "metadata": {
    "scrolled": true
   },
   "outputs": [
    {
     "name": "stdout",
     "output_type": "stream",
     "text": [
      "2252\n"
     ]
    },
    {
     "data": {
      "image/png": "[encoded data removed]",
      "text/plain": [
       "<matplotlib.figure.Figure at 0x7f932c69c7d0>"
      ]
     },
     "metadata": {},
     "output_type": "display_data"
    }
   ],
   "source": [
    "fig, ax = plt.subplots(1, 1, figsize=(5,1.5))\n",
    "bottom = 0\n",
    "for mir,row in fsub5.iterrows():\n",
    "    rs,re,cnt = row[['start','end','293T']]\n",
    "    rs = rs-ps; re = re-ps\n",
    "    sq = plt.Rectangle([rs,bottom],re-rs+1,cnt,fc=c); ax.add_patch(sq); bottom+=cnt\n",
    "    \n",
    "for mir,row in fsubh2[::-1].append(fsubh1).iterrows():\n",
    "    rs,re,cnt = row[['start','end','293T']]\n",
    "    rs = rs-ps; re = re-ps\n",
    "    sq = plt.Rectangle([rs,bottom],re-rs,cnt,fc=c); ax.add_patch(sq); bottom+=cnt\n",
    "    \n",
    "for mir,row in fsub3.iterrows():\n",
    "    rs,re,cnt = row[['start','end','293T']]\n",
    "    rs = rs-ps; re = re-ps\n",
    "    sq = plt.Rectangle([rs-1,bottom],re-rs+1,cnt,fc=c); ax.add_patch(sq); bottom+=cnt\n",
    "    \n",
    "ax.set_xlim(-15, 70)\n",
    "ax.set_ylim(0,bottom)\n",
    "ax.invert_yaxis()\n",
    "ax.spines['left'].set_visible(False)\n",
    "ax.spines['bottom'].set_visible(False)\n",
    "ax.set_xticks([])\n",
    "ax.set_yticks([])\n",
    "print bottom\n",
    "fig.savefig(resultpath + '201124_f1d__mir125a_fCLIP.pdf')"
   ]
  },
  {
   "cell_type": "code",
   "execution_count": 42,
   "metadata": {},
   "outputs": [],
   "source": [
    "ps, pe = preposition[EX]\n",
    "clvtbl = clvsum.set_index('Pri-miRNA')\n",
    "isub = clvtbl.loc[EX]\n",
    "isub5 = isub[(isub['rstart']==START)&(isub['rend']<MID)].sort_values('rend')\n",
    "isubh1 = isub[(isub['rstart']<MID)&(isub['rend']==pe)].sort_values('rstart')\n",
    "isubh2 = isub[(isub['rstart']==ps)&(isub['rend']!=pe)].sort_values('rend')\n",
    "isub3 = isub[(isub['rend']==END)&(isub['rstart']>MID)].sort_values('rstart')\n",
    "c = '#ababab'"
   ]
  },
  {
   "cell_type": "code",
   "execution_count": 263,
   "metadata": {
    "scrolled": true
   },
   "outputs": [
    {
     "name": "stdout",
     "output_type": "stream",
     "text": [
      "67652\n"
     ]
    },
    {
     "data": {
      "image/png": "[encoded data removed]",
      "text/plain": [
       "<matplotlib.figure.Figure at 0x7f932c4c2350>"
      ]
     },
     "metadata": {},
     "output_type": "display_data"
    }
   ],
   "source": [
    "fig, ax = plt.subplots(1, 1, figsize=(5,1.5))\n",
    "bottom = 0\n",
    "for mir,row in isub5.iterrows():\n",
    "    rs,re,cnt = row[['rstart','rend','set1']]\n",
    "    rs = rs-ps; re = re-ps\n",
    "    sq = plt.Rectangle([rs,bottom],re-rs+1,cnt,fc=c); ax.add_patch(sq); bottom+=cnt\n",
    "    \n",
    "for mir,row in isubh2.append(isubh1).iterrows():\n",
    "    rs,re,cnt = row[['rstart','rend','set1']]\n",
    "    rs = rs-ps; re = re-ps\n",
    "    sq = plt.Rectangle([rs,bottom],re-rs,cnt,fc=c); ax.add_patch(sq); bottom+=cnt\n",
    "    \n",
    "for mir,row in isub3.iterrows():\n",
    "    rs,re,cnt = row[['rstart','rend','set1']]\n",
    "    rs = rs-ps; re = re-ps\n",
    "    sq = plt.Rectangle([rs-1,bottom],re-rs+1,cnt,fc=c); ax.add_patch(sq); bottom+=cnt\n",
    "    \n",
    "ax.set_xlim(-15, 70)\n",
    "ax.set_ylim(0,bottom)\n",
    "ax.invert_yaxis()\n",
    "ax.spines['left'].set_visible(False)\n",
    "ax.spines['bottom'].set_visible(False)\n",
    "ax.set_xticks([])\n",
    "ax.set_yticks([])\n",
    "print bottom\n",
    "fig.savefig(resultpath + '201124_f1d__mir125a_IVP.pdf')"
   ]
  },
  {
   "cell_type": "markdown",
   "metadata": {},
   "source": [
    "## 1E. Global cleavage site"
   ]
  },
  {
   "cell_type": "code",
   "execution_count": 25,
   "metadata": {},
   "outputs": [],
   "source": [
    "RCUTOFF = 30\n",
    "WINDOW = 3"
   ]
  },
  {
   "cell_type": "code",
   "execution_count": 26,
   "metadata": {},
   "outputs": [],
   "source": [
    "def fill_unfound(tbl):\n",
    "    found = set(tbl.index)\n",
    "    unfound = [ mir for mir in allpris if mir not in found ]\n",
    "    fill = pd.DataFrame(index=unfound, columns=tbl.columns).fillna(0)\n",
    "    return tbl.append(fill)"
   ]
  },
  {
   "cell_type": "code",
   "execution_count": 27,
   "metadata": {},
   "outputs": [],
   "source": [
    "def get_frac_5frag(mir):\n",
    "    sub = clv5f.loc[[mir]].set_index('rend')\n",
    "    return (sub/sub.sum())"
   ]
  },
  {
   "cell_type": "code",
   "execution_count": 28,
   "metadata": {},
   "outputs": [],
   "source": [
    "def get_frac_3frag(mir):\n",
    "    sub = clv3f.loc[[mir]].set_index('rstart')\n",
    "    return (sub/sub.sum())"
   ]
  },
  {
   "cell_type": "code",
   "execution_count": 29,
   "metadata": {},
   "outputs": [],
   "source": [
    "def get_frac_hairpin(mir):\n",
    "    sub = clvh.loc[[mir]].set_index(['rstart','rend'])\n",
    "    return (sub/sub.sum())"
   ]
  },
  {
   "cell_type": "code",
   "execution_count": 37,
   "metadata": {},
   "outputs": [],
   "source": [
    "clv5f = fill_unfound(clv5f)\n",
    "clv3f = fill_unfound(clv3f)\n",
    "clvh = fill_unfound(clvh)\n",
    "clvn5 = fill_unfound(clvn5)\n",
    "clvn3 = fill_unfound(clvn3)"
   ]
  },
  {
   "cell_type": "code",
   "execution_count": 38,
   "metadata": {},
   "outputs": [],
   "source": [
    "frac5f = { mir:get_frac_5frag(mir) for mir in allpris } \n",
    "frac3f = { mir:get_frac_3frag(mir) for mir in allpris } \n",
    "frachpn = { mir:get_frac_hairpin(mir) for mir in allpris }"
   ]
  },
  {
   "cell_type": "code",
   "execution_count": 254,
   "metadata": {
    "scrolled": true
   },
   "outputs": [],
   "source": [
    "tbl5 = pd.DataFrame(columns=range(-WINDOW,WINDOW+1))\n",
    "tbl3 = pd.DataFrame(columns=range(-WINDOW,WINDOW+1))\n",
    "for mir in sorted(allpris):\n",
    "    lib = max(LIBRARIES, key=lambda x: clvtbl.loc[mir,x].sum())\n",
    "    if any([t.loc[mir,lib].sum()<=RCUTOFF for t in [clv5f,clv3f]]):\n",
    "        continue\n",
    "    ps, pe = preposition[mir] \n",
    "    xs5 = np.arange(ps-WINDOW-1,ps+WINDOW)\n",
    "    f5 = frac5f[mir].reindex(xs5).fillna(0)[lib]\n",
    "    f5.index = range(-WINDOW,WINDOW+1)\n",
    "    tbl5.loc[mir] = f5\n",
    "    xs3 = np.arange(pe-WINDOW+1,pe+WINDOW+2)\n",
    "    f3 = frac3f[mir].reindex(xs3).fillna(0)[lib]\n",
    "    f3.index = range(-WINDOW,WINDOW+1)\n",
    "    tbl3.loc[mir] = f3"
   ]
  },
  {
   "cell_type": "code",
   "execution_count": 43,
   "metadata": {
    "scrolled": true
   },
   "outputs": [],
   "source": [
    "tbl5 = pd.DataFrame(columns=range(-WINDOW,WINDOW+1))\n",
    "for mir in sorted(allpris):\n",
    "    lib = max(LIBRARIES, key=lambda x: clvtbl.loc[mir,x].sum())\n",
    "    if clv5f.loc[mir,lib].sum()<=RCUTOFF:\n",
    "        continue\n",
    "    ps, pe = preposition[mir] \n",
    "    xs5 = np.arange(ps-WINDOW-1,ps+WINDOW)\n",
    "    f5 = frac5f[mir].reindex(xs5).fillna(0)[lib]\n",
    "    f5.index = range(-WINDOW,WINDOW+1)\n",
    "    tbl5.loc[mir] = f5"
   ]
  },
  {
   "cell_type": "code",
   "execution_count": 47,
   "metadata": {},
   "outputs": [
    {
     "data": {
      "text/html": [
       "<div>\n",
       "<style scoped>\n",
       "    .dataframe tbody tr th:only-of-type {\n",
       "        vertical-align: middle;\n",
       "    }\n",
       "\n",
       "    .dataframe tbody tr th {\n",
       "        vertical-align: top;\n",
       "    }\n",
       "\n",
       "    .dataframe thead th {\n",
       "        text-align: right;\n",
       "    }\n",
       "</style>\n",
       "<table border=\"1\" class=\"dataframe\">\n",
       "  <thead>\n",
       "    <tr style=\"text-align: right;\">\n",
       "      <th></th>\n",
       "      <th>-3</th>\n",
       "      <th>-2</th>\n",
       "      <th>-1</th>\n",
       "      <th>0</th>\n",
       "      <th>1</th>\n",
       "      <th>2</th>\n",
       "      <th>3</th>\n",
       "    </tr>\n",
       "    <tr>\n",
       "      <th>Pri-miRNA</th>\n",
       "      <th></th>\n",
       "      <th></th>\n",
       "      <th></th>\n",
       "      <th></th>\n",
       "      <th></th>\n",
       "      <th></th>\n",
       "      <th></th>\n",
       "    </tr>\n",
       "  </thead>\n",
       "  <tbody>\n",
       "    <tr>\n",
       "      <th>hsa-let-7a-1</th>\n",
       "      <td>0.003005</td>\n",
       "      <td>0.007564</td>\n",
       "      <td>0.039322</td>\n",
       "      <td>0.938918</td>\n",
       "      <td>0.002435</td>\n",
       "      <td>0.000000</td>\n",
       "      <td>0.000000</td>\n",
       "    </tr>\n",
       "    <tr>\n",
       "      <th>hsa-let-7a-2</th>\n",
       "      <td>0.001620</td>\n",
       "      <td>0.003177</td>\n",
       "      <td>0.175804</td>\n",
       "      <td>0.760777</td>\n",
       "      <td>0.000187</td>\n",
       "      <td>0.000062</td>\n",
       "      <td>0.000125</td>\n",
       "    </tr>\n",
       "    <tr>\n",
       "      <th>hsa-let-7a-3</th>\n",
       "      <td>0.004471</td>\n",
       "      <td>0.034787</td>\n",
       "      <td>0.054526</td>\n",
       "      <td>0.741330</td>\n",
       "      <td>0.001854</td>\n",
       "      <td>0.004689</td>\n",
       "      <td>0.000000</td>\n",
       "    </tr>\n",
       "    <tr>\n",
       "      <th>hsa-let-7b</th>\n",
       "      <td>0.002518</td>\n",
       "      <td>0.003684</td>\n",
       "      <td>0.019220</td>\n",
       "      <td>0.894013</td>\n",
       "      <td>0.000246</td>\n",
       "      <td>0.000246</td>\n",
       "      <td>0.000061</td>\n",
       "    </tr>\n",
       "    <tr>\n",
       "      <th>hsa-let-7c</th>\n",
       "      <td>0.003240</td>\n",
       "      <td>0.002700</td>\n",
       "      <td>0.011206</td>\n",
       "      <td>0.201296</td>\n",
       "      <td>0.001080</td>\n",
       "      <td>0.002700</td>\n",
       "      <td>0.001755</td>\n",
       "    </tr>\n",
       "  </tbody>\n",
       "</table>\n",
       "</div>"
      ],
      "text/plain": [
       "                    -3        -2        -1         0         1         2  \\\n",
       "Pri-miRNA                                                                  \n",
       "hsa-let-7a-1  0.003005  0.007564  0.039322  0.938918  0.002435  0.000000   \n",
       "hsa-let-7a-2  0.001620  0.003177  0.175804  0.760777  0.000187  0.000062   \n",
       "hsa-let-7a-3  0.004471  0.034787  0.054526  0.741330  0.001854  0.004689   \n",
       "hsa-let-7b    0.002518  0.003684  0.019220  0.894013  0.000246  0.000246   \n",
       "hsa-let-7c    0.003240  0.002700  0.011206  0.201296  0.001080  0.002700   \n",
       "\n",
       "                     3  \n",
       "Pri-miRNA               \n",
       "hsa-let-7a-1  0.000000  \n",
       "hsa-let-7a-2  0.000125  \n",
       "hsa-let-7a-3  0.000000  \n",
       "hsa-let-7b    0.000061  \n",
       "hsa-let-7c    0.001755  "
      ]
     },
     "execution_count": 47,
     "metadata": {},
     "output_type": "execute_result"
    }
   ],
   "source": [
    "cano5.head()"
   ]
  },
  {
   "cell_type": "code",
   "execution_count": 53,
   "metadata": {},
   "outputs": [
    {
     "data": {
      "text/plain": [
       "298"
      ]
     },
     "execution_count": 53,
     "metadata": {},
     "output_type": "execute_result"
    }
   ],
   "source": [
    "len([m for m in drodep if m in tbl5.index])"
   ]
  },
  {
   "cell_type": "code",
   "execution_count": 48,
   "metadata": {},
   "outputs": [
    {
     "name": "stdout",
     "output_type": "stream",
     "text": [
      "296 257\n"
     ]
    }
   ],
   "source": [
    "cano5 = tbl5.reindex(drodep)\n",
    "cano5 = cano5[(cano5>0).any(axis=1)]\n",
    "nonc5 = tbl5.reindex(droind)\n",
    "nocn5 = nonc5[(nonc5>0).any(axis=1)]\n",
    "print len(cano5), len(nonc5)"
   ]
  },
  {
   "cell_type": "code",
   "execution_count": 45,
   "metadata": {},
   "outputs": [],
   "source": [
    "xs = np.arange(-WINDOW,WINDOW+1)\n",
    "ys1 = cano5.mean()*100\n",
    "ys2 = nonc5.mean()*100"
   ]
  },
  {
   "cell_type": "code",
   "execution_count": 57,
   "metadata": {},
   "outputs": [
    {
     "data": {
      "image/png": "[encoded data removed]",
      "text/plain": [
       "<matplotlib.figure.Figure at 0x7f857284b9d0>"
      ]
     },
     "metadata": {},
     "output_type": "display_data"
    }
   ],
   "source": [
    "fig, ax = plt.subplots(1, 1, figsize=(2.5,2))\n",
    "ax.errorbar(xs,ys1,ms=6,marker='o',mec='w',color='#01665e',zorder=3,mew=.8,\n",
    "            label='DROSHA-dependent')\n",
    "ax.errorbar(xs,ys2,ms=6,marker='o',mec='w',color='#424242',zorder=2,mew=.8,\n",
    "            label='DROSHA-independent')\n",
    "ax.set_xlabel('Cleavage position\\n(0: 5$^\\prime$ end of 5p miRNAs)',fontsize=11)\n",
    "ax.set_xticks(xs)\n",
    "ax.set_ylabel('Cleavage ratio (%)',fontsize=11)\n",
    "ax.yaxis.grid(ls='-',lw=.5)\n",
    "ax.legend(handlelength=1.3,loc=(.05,1.05))\n",
    "fig.savefig(resultpath + '201130_f1e__specificity_v2.pdf')#,dpi=300)"
   ]
  },
  {
   "cell_type": "code",
   "execution_count": 58,
   "metadata": {},
   "outputs": [
    {
     "data": {
      "text/plain": [
       "'results/201130/'"
      ]
     },
     "execution_count": 58,
     "metadata": {},
     "output_type": "execute_result"
    }
   ],
   "source": [
    "resultpath"
   ]
  },
  {
   "cell_type": "code",
   "execution_count": null,
   "metadata": {},
   "outputs": [],
   "source": []
  }
 ],
 "metadata": {
  "kernelspec": {
   "display_name": "Python 2",
   "language": "python",
   "name": "python2"
  },
  "language_info": {
   "codemirror_mode": {
    "name": "ipython",
    "version": 2
   },
   "file_extension": ".py",
   "mimetype": "text/x-python",
   "name": "python",
   "nbconvert_exporter": "python",
   "pygments_lexer": "ipython2",
   "version": "2.7.18"
  }
 },
 "nbformat": 4,
 "nbformat_minor": 2
}
