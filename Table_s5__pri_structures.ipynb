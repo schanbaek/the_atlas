{
 "cells": [
  {
   "cell_type": "markdown",
   "metadata": {},
   "source": [
    "# Supplementary Table 5. Pri-miRNA structures\n",
    "1. structure information (ct format)  \n",
    "2. symbolized structure (M-match, S-symmetric IL, A-asymmetric IL/bulge, F-flanking segment, X-internal stem loop) "
   ]
  },
  {
   "cell_type": "code",
   "execution_count": 1,
   "metadata": {},
   "outputs": [
    {
     "name": "stdout",
     "output_type": "stream",
     "text": [
      "Last revised by Seungchan Baek at 2020-10-13.\n"
     ]
    }
   ],
   "source": [
    "import time\n",
    "today = time.strftime('%Y-%m-%d')\n",
    "name = 'Seungchan Baek'\n",
    "print 'Last revised by %s at %s.' % (name, today)"
   ]
  },
  {
   "cell_type": "code",
   "execution_count": 2,
   "metadata": {},
   "outputs": [
    {
     "name": "stdout",
     "output_type": "stream",
     "text": [
      "/casa/bsc/projects/1_DCS/2004_paper_prep\n"
     ]
    }
   ],
   "source": [
    "home = '/casa/bsc/projects/1_DCS/2004_paper_prep/'\n",
    "%cd $home"
   ]
  },
  {
   "cell_type": "code",
   "execution_count": 3,
   "metadata": {},
   "outputs": [],
   "source": [
    "from __future__ import division\n",
    "import pandas as pd\n",
    "import sys; sys.path.append('/casa/bsc/notebooks/')\n",
    "from util import *"
   ]
  },
  {
   "cell_type": "code",
   "execution_count": 4,
   "metadata": {},
   "outputs": [
    {
     "name": "stdout",
     "output_type": "stream",
     "text": [
      "1881\n"
     ]
    }
   ],
   "source": [
    "s1 = pd.read_csv('supplementary/201012_s1_pri-info.csv', header=1, index_col=0)\n",
    "s2 = pd.read_csv('supplementary/201012_s2_pri-construct.csv', header=1, index_col=0)\n",
    "allpris = s1.index\n",
    "print len(allpris)"
   ]
  },
  {
   "cell_type": "markdown",
   "metadata": {},
   "source": [
    "### 1. structure information (ct format)"
   ]
  },
  {
   "cell_type": "code",
   "execution_count": 5,
   "metadata": {},
   "outputs": [],
   "source": [
    "def get_ct_info(mir):\n",
    "    ct = 'supplementary/structures/%s.ct' % mir\n",
    "    lines = open(ct, 'rt').read().split('\\n')[1:-1]\n",
    "    ctinfo = [ tuple(map(int, l.strip().split()[4:6][::-1])) for l in lines ]\n",
    "    return ctinfo"
   ]
  },
  {
   "cell_type": "code",
   "execution_count": 6,
   "metadata": {},
   "outputs": [],
   "source": [
    "tbl = pd.DataFrame(columns=range(1,126), index=allpris)\n",
    "for pri in allpris:\n",
    "    tbl.loc[pri] = dict(get_ct_info(pri))"
   ]
  },
  {
   "cell_type": "markdown",
   "metadata": {},
   "source": [
    "#### 2. symbolized structure"
   ]
  },
  {
   "cell_type": "code",
   "execution_count": 7,
   "metadata": {},
   "outputs": [],
   "source": [
    "def get_sym_str(mir):\n",
    "    c5, c3 = get_pre_annot(mir)[1:3]\n",
    "    ps, pe, strand = s2.loc[mir, ['Start','End','Strand']]\n",
    "    if strand=='+':\n",
    "        ps, pe = c5-ps+1, c3-ps+1\n",
    "    else:\n",
    "        ps, pe = pe-c3+1, pe-c5+1\n",
    "    stinfo = [ p for p in get_ct_info(mir) if p[1]>0 ] \n",
    "    ls = [ (m,n) for i,(m,n) in enumerate(stinfo[:-1]) if stinfo[i+1]==(n,m) and m>ps and n<pe ]\n",
    "    if not ls:\n",
    "        return 'F'*125\n",
    "    loopst, loopen = min(ls, key=lambda (x,y):abs(120-x-y))\n",
    "    stemst, stemen = [ (i,p) for i,p in stinfo if i<loopst and p>loopen ][0]\n",
    "    pairs = [ (i,p) for i,p in stinfo if stemst<=i<=loopst and loopen<=p<=stemen ]\n",
    "    pairs = pairs + [ (p,i) for i,p in pairs ][::-1]\n",
    "    symst = ''\n",
    "    for (l5,l3), (u5,u3) in zip(pairs[:-1],pairs[1:]):\n",
    "        if l5==loopst: symst += 'M'+'L'*(loopen-loopst-1)\n",
    "        elif u5-l5==1: symst += 'M'\n",
    "        else:\n",
    "            symmet = min(u5-l5-1, l3-u3-1)\n",
    "            symst += 'M' + (u5-l5-1-symmet)*'A' + symmet*'S'\n",
    "    symst = 'F'*(stemst-1) + symst + 'M' + 'F'*(125-stemen)\n",
    "    return symst"
   ]
  },
  {
   "cell_type": "code",
   "execution_count": 8,
   "metadata": {},
   "outputs": [],
   "source": [
    "for pri in allpris:\n",
    "    tbl.loc[pri, 'symbolized structure'] = get_sym_str(pri)"
   ]
  },
  {
   "cell_type": "code",
   "execution_count": 9,
   "metadata": {},
   "outputs": [],
   "source": [
    "tbl.to_csv('resources/201012_s5_pri-structure.csv')"
   ]
  },
  {
   "cell_type": "code",
   "execution_count": 10,
   "metadata": {},
   "outputs": [],
   "source": [
    "out = open('supplementary/201012_s5_pri-structure.csv', 'wt')\n",
    "description = 'Supplementary Table 5. Pri-miRNA secondary structure\\n\\n\\n\\n\\n'\n",
    "out.write(description)\n",
    "for l in open('resources/201012_s5_pri-structure.csv', 'rt'):\n",
    "    out.write(l)\n",
    "out.close()"
   ]
  },
  {
   "cell_type": "code",
   "execution_count": null,
   "metadata": {},
   "outputs": [],
   "source": []
  }
 ],
 "metadata": {
  "kernelspec": {
   "display_name": "Python 2",
   "language": "python",
   "name": "python2"
  },
  "language_info": {
   "codemirror_mode": {
    "name": "ipython",
    "version": 2
   },
   "file_extension": ".py",
   "mimetype": "text/x-python",
   "name": "python",
   "nbconvert_exporter": "python",
   "pygments_lexer": "ipython2",
   "version": "2.7.18"
  }
 },
 "nbformat": 4,
 "nbformat_minor": 2
}
