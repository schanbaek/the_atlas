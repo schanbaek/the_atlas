{
 "cells": [
  {
   "cell_type": "markdown",
   "metadata": {},
   "source": [
    "# Figure 7. Global effect of SRSF3\n",
    "---"
   ]
  },
  {
   "cell_type": "code",
   "execution_count": 1,
   "metadata": {},
   "outputs": [
    {
     "name": "stdout",
     "output_type": "stream",
     "text": [
      "Last revised by Seungchan Baek at 2021-01-21.\n"
     ]
    }
   ],
   "source": [
    "import time\n",
    "today = time.strftime('%Y-%m-%d')\n",
    "name = 'Seungchan Baek'\n",
    "print 'Last revised by %s at %s.' % (name, today)"
   ]
  },
  {
   "cell_type": "code",
   "execution_count": 2,
   "metadata": {},
   "outputs": [
    {
     "name": "stdout",
     "output_type": "stream",
     "text": [
      "/casa/bsc/projects/1_DCS/2004_paper_prep\n"
     ]
    }
   ],
   "source": [
    "home = '/casa/bsc/projects/1_DCS/2004_paper_prep/'\n",
    "utilpath = '/casa/bsc/notebooks/'\n",
    "%cd $home"
   ]
  },
  {
   "cell_type": "code",
   "execution_count": 3,
   "metadata": {},
   "outputs": [
    {
     "name": "stdout",
     "output_type": "stream",
     "text": [
      "resultpath: results/210121/\n"
     ]
    }
   ],
   "source": [
    "from __future__ import division\n",
    "import sys; sys.path.append(utilpath)\n",
    "from util import *\n",
    "from basic import gen_result_dir\n",
    "resultpath = gen_result_dir('results/')\n",
    "print 'resultpath:', resultpath"
   ]
  },
  {
   "cell_type": "code",
   "execution_count": 4,
   "metadata": {},
   "outputs": [],
   "source": [
    "import pandas as pd\n",
    "import numpy as np\n",
    "import re\n",
    "from scipy import stats as st\n",
    "from matplotlib import pyplot as plt\n",
    "from matplotlib import lines, gridspec, colors\n",
    "from collections import defaultdict, Counter\n",
    "from scipy.stats import sem, ttest_ind, mannwhitneyu, spearmanr, pearsonr\n",
    "from scipy import stats as st\n",
    "from sequtil import nmer\n",
    "import seaborn as sns\n",
    "%matplotlib inline"
   ]
  },
  {
   "cell_type": "code",
   "execution_count": 5,
   "metadata": {},
   "outputs": [],
   "source": [
    "LIBRARIES = [ 'set1', 'set2', 'set3', 'set4', 'set5' ]"
   ]
  },
  {
   "cell_type": "code",
   "execution_count": 6,
   "metadata": {},
   "outputs": [],
   "source": [
    "s1 = pd.read_csv('supplementary/TableS1__Previously_identified_DROSHA-dependence.csv', \n",
    "                 header=1, index_col=0)\n",
    "s2 = pd.read_csv('supplementary/TableS2__Oligonucleotides_used_in_this_study.csv', \n",
    "                 header=1, index_col=0).fillna('')\n",
    "s3 = pd.read_csv('supplementary/TableS3__In_vitro_processing_results_Microprocessor-only.csv',\n",
    "                 header=1, index_col=0)\n",
    "s4 = pd.read_csv('supplementary/TableS4__Cis-acting_elements_of_human_pri-miRNAs.csv', \n",
    "                 header=1, index_col=0)\n",
    "s5 = pd.read_csv('supplementary/TableS5__In_vitro_processing_results_SRSF3.csv', \n",
    "                 header=1, index_col=0)"
   ]
  },
  {
   "cell_type": "code",
   "execution_count": 7,
   "metadata": {},
   "outputs": [
    {
     "name": "stdout",
     "output_type": "stream",
     "text": [
      "1881 (32, 90)\n"
     ]
    }
   ],
   "source": [
    "preposition = {}\n",
    "for mir in s2.index:\n",
    "    flank5, flank3 = s2.loc[mir,[\"5' flanking segment\",\"3' flanking segment\"]]\n",
    "    if flank5 or flank3:\n",
    "        preposition[mir] = (len(flank5)+1,125-len(flank3))\n",
    "    else:\n",
    "        preposition[mir] = (0,126)\n",
    "print len(preposition), preposition['hsa-mir-142']"
   ]
  },
  {
   "cell_type": "code",
   "execution_count": 8,
   "metadata": {},
   "outputs": [
    {
     "name": "stdout",
     "output_type": "stream",
     "text": [
      "311 257 503\n"
     ]
    }
   ],
   "source": [
    "drodep = s1[s1['DROSHA dependency'].apply(lambda x:x.find('DROSHA-dependent')>=0)].index\n",
    "droind = s1[s1['DROSHA dependency'].apply(lambda x:x.find('DROSHA-independent')>=0)].index\n",
    "dbmirs = s1[s1['MirGeneDB']=='Annotated'].index\n",
    "print len(drodep), len(droind), len(dbmirs)"
   ]
  },
  {
   "cell_type": "code",
   "execution_count": 9,
   "metadata": {},
   "outputs": [
    {
     "name": "stdout",
     "output_type": "stream",
     "text": [
      "1881\n"
     ]
    }
   ],
   "source": [
    "constseqs = dict(s2['Construct sequence (125 nt)'])\n",
    "print len(constseqs)"
   ]
  },
  {
   "cell_type": "code",
   "execution_count": 10,
   "metadata": {},
   "outputs": [
    {
     "name": "stdout",
     "output_type": "stream",
     "text": [
      "1816 560 1256\n"
     ]
    }
   ],
   "source": [
    "EFFCUT = 1.5\n",
    "HOMCUT = .25\n",
    "effsmp = s3['Cleavage Efficiency'].to_dict()\n",
    "homsmp = s3['Cleavage Homogeneity'].to_dict()\n",
    "dcsmirsmp = [ m for m in s3.index if effsmp[m]>=EFFCUT and homsmp[m]>=HOMCUT ]\n",
    "nodcsmp = [ m for m in s3.index if m not in dcsmirsmp ]\n",
    "print len(s3.index), len(dcsmirsmp), len(nodcsmp)"
   ]
  },
  {
   "cell_type": "code",
   "execution_count": 11,
   "metadata": {
    "scrolled": false
   },
   "outputs": [
    {
     "name": "stdout",
     "output_type": "stream",
     "text": [
      "1812 747 1065\n"
     ]
    }
   ],
   "source": [
    "effs = s5['Cleavage Efficiency'].to_dict()\n",
    "homs = s5['Cleavage Homogeneity'].to_dict()\n",
    "dcsmirs = [ m for m in s5.index if effs[m]>=EFFCUT and homs[m]>=HOMCUT ]\n",
    "nodcs = [ m for m in s5.index if m not in dcsmirs ]\n",
    "print len(s5.index), len(dcsmirs), len(nodcs)"
   ]
  },
  {
   "cell_type": "code",
   "execution_count": 15,
   "metadata": {
    "scrolled": true
   },
   "outputs": [
    {
     "name": "stdout",
     "output_type": "stream",
     "text": [
      "560 (25, 96)\n"
     ]
    }
   ],
   "source": [
    "majorcsmp = {}\n",
    "for mir in dcsmirsmp:\n",
    "    c5, c3 = s3.loc[[mir],[\"5' cleavage site\",\"3' cleavage site\"]].iloc[0]\n",
    "    majorcsmp[mir] = (int(c5),int(c3))\n",
    "print len(majorcsmp), majorcsmp['hsa-let-7a-1']"
   ]
  },
  {
   "cell_type": "code",
   "execution_count": 16,
   "metadata": {
    "scrolled": true
   },
   "outputs": [
    {
     "name": "stdout",
     "output_type": "stream",
     "text": [
      "747 (25, 96)\n"
     ]
    }
   ],
   "source": [
    "majorcs = {}\n",
    "for mir in dcsmirs:\n",
    "    c5, c3 = s5.loc[[mir],[\"5' cleavage site\",\"3' cleavage site\"]].iloc[0]\n",
    "    majorcs[mir] = (int(c5),int(c3))\n",
    "print len(majorcs), majorcs['hsa-let-7a-1']"
   ]
  },
  {
   "cell_type": "markdown",
   "metadata": {},
   "source": [
    "---"
   ]
  },
  {
   "cell_type": "markdown",
   "metadata": {},
   "source": [
    "## A. Global change induced by SRSF3"
   ]
  },
  {
   "cell_type": "code",
   "execution_count": 12,
   "metadata": {},
   "outputs": [],
   "source": [
    "def get_2d_density(data, xmin, xmax, ymin, ymax):\n",
    "    x, y = zip(*data)\n",
    "    xx, yy = np.mgrid[xmin:xmax:100j, ymin:ymax:100j]\n",
    "    positions = np.vstack([xx.ravel(), yy.ravel()])\n",
    "    values = np.vstack([x, y])\n",
    "    kernel = st.gaussian_kde(values)\n",
    "    f = np.reshape(kernel(positions).T, xx.shape)\n",
    "    return xx, yy, f"
   ]
  },
  {
   "cell_type": "code",
   "execution_count": 13,
   "metadata": {},
   "outputs": [
    {
     "name": "stdout",
     "output_type": "stream",
     "text": [
      "1800\n"
     ]
    }
   ],
   "source": [
    "overlap = [ m for m in effs if m in effsmp ]\n",
    "data1 = [ (effsmp[m],homsmp[m]) for m in overlap ]\n",
    "data2 = [ (effs[m],homs[m]) for m in overlap ]\n",
    "xmin, xmax = -2, 10\n",
    "ymin, ymax = -.25, 1.1\n",
    "xs1,ys1,f1 = get_2d_density(data1, xmin, xmax, ymin, ymax)\n",
    "xs2,ys2,f2 = get_2d_density(data2, xmin, xmax, ymin, ymax)\n",
    "blk = custom_cmap(['white','black'])\n",
    "red = custom_cmap(['white','#de2d26'])\n",
    "print len(overlap)"
   ]
  },
  {
   "cell_type": "code",
   "execution_count": 14,
   "metadata": {},
   "outputs": [
    {
     "data": {
      "text/plain": [
       "Text(5.6,0.12,u'N = 1800')"
      ]
     },
     "execution_count": 14,
     "metadata": {},
     "output_type": "execute_result"
    },
    {
     "data": {
      "image/png": "[encoded data removed]",
      "text/plain": [
       "<matplotlib.figure.Figure at 0x7f255ecef7d0>"
      ]
     },
     "metadata": {},
     "output_type": "display_data"
    }
   ],
   "source": [
    "fig, ax = plt.subplots(1, 1, figsize=(2.4,2.5))\n",
    "ax.contourf(xs1,ys1,f1,levels=[.05,.15,.3,1,4],cmap=blk,alpha=.5,\n",
    "            norm=colors.LogNorm(vmin=0.02, vmax=1),zorder=3)\n",
    "ax.contour(xs1,ys1,f1,levels=[.05,.15,.3,1,4],cmap=blk,linestyles='-',linewidths=1.3,\n",
    "          norm=colors.LogNorm(vmin=0.02, vmax=1),zorder=3)\n",
    "ax.contourf(xs2,ys2,f2,levels=[.05,.15,.3,1,4],cmap=red,alpha=.5,\n",
    "            norm=colors.LogNorm(vmin=0.02, vmax=1),zorder=3)\n",
    "ax.contour(xs2,ys2,f2,levels=[.05,.15,.3,1,4],cmap=red,linestyles='-',linewidths=1.3,\n",
    "          norm=colors.LogNorm(vmin=0.02, vmax=1), zorder=3)\n",
    "ax.axhline(.25,color='k',ls='--',lw=1,zorder=3)\n",
    "ax.axvline(1.5,color='k',ls='--',lw=1,zorder=3)\n",
    "\n",
    "ax.set_xticks(np.arange(-2,8,2))\n",
    "ax.set_yticks(np.arange(-.25,1.1,.25))\n",
    "ax.set_xlim(-2.5,7.5)\n",
    "ax.set_ylim(-.25,1.05)\n",
    "ax.set_xlabel('Cleavage efficiency', fontsize=11)\n",
    "ax.set_ylabel('Cleavage homogeneity', fontsize=11)\n",
    "ax.bar([-10],[0],color='grey',label='MP',alpha=.5)\n",
    "ax.bar([-10],[0],color='#de2d26',label='MP+SRSF3',alpha=.5)\n",
    "ax.grid(ls='-',lw=.5)\n",
    "ax.legend(loc=(.55,.02),handlelength=1,framealpha=1,handletextpad=.4)\n",
    "ax.text(5.6,.12,'N = %s'%len(overlap))\n",
    "#fig.savefig(resultpath+'210112_f7a__global_change.pdf',dpi=300)"
   ]
  },
  {
   "cell_type": "markdown",
   "metadata": {},
   "source": [
    "## B. SRSF3-dependent miRNAs"
   ]
  },
  {
   "cell_type": "code",
   "execution_count": 17,
   "metadata": {},
   "outputs": [
    {
     "name": "stdout",
     "output_type": "stream",
     "text": [
      "[557, 201, 1042] [0.30944444 0.11166667 0.57888889]\n"
     ]
    }
   ],
   "source": [
    "mirls = [ [m for m in overlap if m in dcsmirsmp],\n",
    "          [m for m in overlap if m not in dcsmirsmp and m in dcsmirs],\n",
    "          [m for m in overlap if m in nodcs and m in nodcsmp] ]\n",
    "data = map(len,mirls)\n",
    "print data, np.array(data)/sum(data)\n",
    "colors = '#5291bd #78c679 #bcbcbc'.split()"
   ]
  },
  {
   "cell_type": "code",
   "execution_count": 23,
   "metadata": {},
   "outputs": [
    {
     "data": {
      "image/png": "[encoded data removed]",
      "text/plain": [
       "<matplotlib.figure.Figure at 0x7fb7336b9e50>"
      ]
     },
     "metadata": {},
     "output_type": "display_data"
    }
   ],
   "source": [
    "fig, ax = plt.subplots(1, 1, figsize=(.6,2.5))\n",
    "bottom = 0\n",
    "for ml,c in zip(mirls,colors)[::-1]:\n",
    "    ax.bar([0],[len(ml)],bottom=bottom,color=c,edgecolor='w',lw=1.5)\n",
    "    bottom+=len(ml)\n",
    "ax.axis('off')\n",
    "fig.savefig(resultpath + '210112_f7b__fraction_drodep.pdf')"
   ]
  },
  {
   "cell_type": "markdown",
   "metadata": {},
   "source": [
    "## C-D. Conservation and expression"
   ]
  },
  {
   "cell_type": "code",
   "execution_count": 18,
   "metadata": {},
   "outputs": [],
   "source": [
    "def get_phylop_scores(chrom, start, end):\n",
    "    phystarts = [ int(f.split('.')[0]) for f in listdir('%s/phyloP100way/%s'%(supplpath, chrom)) \n",
    "                  if f.endswith('.gz') ]\n",
    "    init = sorted([ s for s in phystarts if s<=start ])[-1]\n",
    "    if start<max(phystarts):\n",
    "        nextst = sorted([ s for s in phystarts if s>start])[0]\n",
    "    else: nextst = end\n",
    "    rels, rele = start-init, end-init\n",
    "    phys = open('supplementary/phyloP100way/%s/%s.phylop.gz'%(chrom,init),\n",
    "                'rt').read().strip().split('\\n')\n",
    "    if len(phys) <= rels:\n",
    "        if nextst >= end:\n",
    "            return ['-']*(end-start+1)\n",
    "        else:\n",
    "            return ['-']*(nextst-start) + get_phylop_scores(chrom, nextst, end)\n",
    "    elif len(phys) > rele:\n",
    "        return map(float, phys[rels:rele+1])\n",
    "    else: # rels < len(phys) <= rele\n",
    "        return map(float, phys[rels:]) + get_phylop_scores(chrom, init+len(phys), end)"
   ]
  },
  {
   "cell_type": "code",
   "execution_count": 19,
   "metadata": {},
   "outputs": [],
   "source": [
    "def get_mature_conserv(pri):\n",
    "    mats = primat[pri]\n",
    "    matcons = []\n",
    "    for mat in mats:\n",
    "        ch, st, en = annmat.loc[mat,['chr','start','end']]\n",
    "        cons = [ c for c in get_phylop_scores(ch, st, en) if c!='-' ]\n",
    "        if cons:\n",
    "            matcons.append(np.average(cons))\n",
    "    if matcons:\n",
    "        return max(matcons)\n",
    "    return -999"
   ]
  },
  {
   "cell_type": "code",
   "execution_count": 20,
   "metadata": {},
   "outputs": [
    {
     "name": "stdout",
     "output_type": "stream",
     "text": [
      "['MIMAT0000510']\n"
     ]
    }
   ],
   "source": [
    "primat = {}\n",
    "for pri, row in annpri.iterrows():\n",
    "    matureDerives = anntbl[anntbl['Derives_from']==row['ID']]\n",
    "    primat[pri] = matureDerives['ID'].tolist()\n",
    "print primat['hsa-mir-320a']"
   ]
  },
  {
   "cell_type": "code",
   "execution_count": 21,
   "metadata": {},
   "outputs": [],
   "source": [
    "matcons = { p:get_mature_conserv(p) for p in overlap }"
   ]
  },
  {
   "cell_type": "code",
   "execution_count": 22,
   "metadata": {},
   "outputs": [
    {
     "name": "stdout",
     "output_type": "stream",
     "text": [
      "[557, 201, 1039]\n"
     ]
    }
   ],
   "source": [
    "mirls = [ [m for m in overlap if m in dcsmirsmp],\n",
    "          [m for m in overlap if m not in dcsmirsmp and m in dcsmirs],\n",
    "          [m for m in overlap if m in nodcs and m in nodcsmp] ]\n",
    "bins = np.arange(-2.1,8.11,.2)\n",
    "data = [ [matcons[m] for m in ml if matcons[m]>-999] for ml in mirls ]\n",
    "data = [ [c if c<8 else 8 for c in cs] for cs in data ]\n",
    "\n",
    "xs = np.arange(-2,8.1,.2)\n",
    "colors = '#5291bd #78c679 #848484'.split()\n",
    "print map(len,data)"
   ]
  },
  {
   "cell_type": "code",
   "execution_count": 23,
   "metadata": {},
   "outputs": [
    {
     "data": {
      "image/png": "[encoded data removed]",
      "text/plain": [
       "<matplotlib.figure.Figure at 0x7f255ed9b6d0>"
      ]
     },
     "metadata": {},
     "output_type": "display_data"
    }
   ],
   "source": [
    "fig, ax = plt.subplots(1, 1, figsize=(1.7,1))\n",
    "for ds,c in zip(data,colors):\n",
    "    vs, ts = np.histogram(ds,bins=bins)\n",
    "    ax.plot(xs, vs.cumsum()/vs.sum(), color=c, zorder=2)\n",
    "ax.spines['left'].set_bounds(0,1)\n",
    "ax.set_yticks([0,.5,1])\n",
    "ax.set_xlabel('Mean phyloP score')\n",
    "ax.set_ylabel('Cumulative\\nfraction')\n",
    "ax.grid(ls='-',lw=.5)\n",
    "#fig.savefig(resultpath+'210112_f7c_phylop.pdf')#,dpi=300)"
   ]
  },
  {
   "cell_type": "code",
   "execution_count": 24,
   "metadata": {},
   "outputs": [
    {
     "data": {
      "text/html": [
       "<div>\n",
       "<style scoped>\n",
       "    .dataframe tbody tr th:only-of-type {\n",
       "        vertical-align: middle;\n",
       "    }\n",
       "\n",
       "    .dataframe tbody tr th {\n",
       "        vertical-align: top;\n",
       "    }\n",
       "\n",
       "    .dataframe thead th {\n",
       "        text-align: right;\n",
       "    }\n",
       "</style>\n",
       "<table border=\"1\" class=\"dataframe\">\n",
       "  <thead>\n",
       "    <tr style=\"text-align: right;\">\n",
       "      <th></th>\n",
       "      <th>hela</th>\n",
       "      <th>u2os</th>\n",
       "      <th>143b</th>\n",
       "      <th>a549</th>\n",
       "      <th>h520</th>\n",
       "      <th>sw480</th>\n",
       "      <th>dld2</th>\n",
       "      <th>mcf7</th>\n",
       "      <th>mda_mb_231</th>\n",
       "    </tr>\n",
       "  </thead>\n",
       "  <tbody>\n",
       "    <tr>\n",
       "      <th>hsa-let-7a-2-3p</th>\n",
       "      <td>12.545263</td>\n",
       "      <td>0.583895</td>\n",
       "      <td>21.269240</td>\n",
       "      <td>2.183532</td>\n",
       "      <td>17.478615</td>\n",
       "      <td>0.543691</td>\n",
       "      <td>0.898365</td>\n",
       "      <td>0.000000</td>\n",
       "      <td>13.678274</td>\n",
       "    </tr>\n",
       "    <tr>\n",
       "      <th>hsa-let-7a-3p</th>\n",
       "      <td>227.795572</td>\n",
       "      <td>65.104319</td>\n",
       "      <td>90.707052</td>\n",
       "      <td>67.689494</td>\n",
       "      <td>56.805499</td>\n",
       "      <td>56.271974</td>\n",
       "      <td>187.309041</td>\n",
       "      <td>44.519413</td>\n",
       "      <td>77.966159</td>\n",
       "    </tr>\n",
       "  </tbody>\n",
       "</table>\n",
       "</div>"
      ],
      "text/plain": [
       "                       hela       u2os       143b       a549       h520  \\\n",
       "hsa-let-7a-2-3p   12.545263   0.583895  21.269240   2.183532  17.478615   \n",
       "hsa-let-7a-3p    227.795572  65.104319  90.707052  67.689494  56.805499   \n",
       "\n",
       "                     sw480        dld2       mcf7  mda_mb_231  \n",
       "hsa-let-7a-2-3p   0.543691    0.898365   0.000000   13.678274  \n",
       "hsa-let-7a-3p    56.271974  187.309041  44.519413   77.966159  "
      ]
     },
     "execution_count": 24,
     "metadata": {},
     "output_type": "execute_result"
    }
   ],
   "source": [
    "exptbl = pd.read_table('/casa/bsc/projects/resources/fromHD/\\\n",
    "190509_fromHD_rpm_human-cell_truseq.txt',index_col=0)\n",
    "exptbl.head(2)"
   ]
  },
  {
   "cell_type": "code",
   "execution_count": 25,
   "metadata": {},
   "outputs": [],
   "source": [
    "def get_mature_exp(pri):\n",
    "    mats = primat[pri]\n",
    "    matexp = []\n",
    "    for mat in mats:\n",
    "        matname = annmat.loc[mat,'Name']\n",
    "        if matname in exptbl.index:\n",
    "            matexp.append(np.average(exptbl.loc[matname]))\n",
    "    if matexp:\n",
    "        return max(matexp)\n",
    "    return 0\n",
    "    #return -999"
   ]
  },
  {
   "cell_type": "code",
   "execution_count": 26,
   "metadata": {},
   "outputs": [],
   "source": [
    "matexp = { p:get_mature_exp(p) for p in overlap }"
   ]
  },
  {
   "cell_type": "code",
   "execution_count": 27,
   "metadata": {},
   "outputs": [],
   "source": [
    "mirls = [ [m for m in overlap if m in dcsmirsmp],\n",
    "          [m for m in overlap if m not in dcsmirsmp and m in dcsmirs],\n",
    "          [m for m in overlap if m in nodcs and m in nodcsmp] ]\n",
    "data = [ [matexp[m] for m in ml if matexp[m]>-999] for ml in mirls ]\n",
    "data = [ [c if c<10000 else 10000 for c in cs] for cs in data ]\n",
    "bins = np.arange(-20,10021,40)\n",
    "xs = np.arange(0,10001,40)\n",
    "colors = '#5291bd #78c679 #848484'.split()"
   ]
  },
  {
   "cell_type": "code",
   "execution_count": 28,
   "metadata": {},
   "outputs": [
    {
     "data": {
      "image/png": "[encoded data removed]",
      "text/plain": [
       "<matplotlib.figure.Figure at 0x7f255fa30d10>"
      ]
     },
     "metadata": {},
     "output_type": "display_data"
    }
   ],
   "source": [
    "fig, ax = plt.subplots(1, 1, figsize=(1.7,1))\n",
    "for ds,c in zip(data,colors):\n",
    "    vs, ts = np.histogram(ds,bins=bins)\n",
    "    ax.plot(xs, vs.cumsum()/vs.sum(), color=c, zorder=2)\n",
    "ax.spines['left'].set_bounds(.57,1)\n",
    "ax.spines['bottom'].set_bounds(0,10000)\n",
    "ax.set_xlabel('Mean RPM in 9 cell lines\\n(Mayr and Bartel, 2009)')\n",
    "ax.set_ylabel('Cumulative\\nfraction')\n",
    "ax.set_xticks(range(0,10001,5000))\n",
    "ax.set_yticks([.6,.8,1])\n",
    "ax.grid(ls='-',lw=.5)\n",
    "#fig.savefig(resultpath+'210112_f7d__rpm.pdf')#,dpi=300)"
   ]
  },
  {
   "cell_type": "markdown",
   "metadata": {},
   "source": [
    "## E-H. Nick and inverse processing"
   ]
  },
  {
   "cell_type": "code",
   "execution_count": 33,
   "metadata": {},
   "outputs": [
    {
     "name": "stdout",
     "output_type": "stream",
     "text": [
      "-0.38615654600417915 6.5787505582657865e-37\n",
      "[('hsa-mir-17', -8.993868496509595, 1.2745487452397675), ('hsa-mir-10b', -4.482263317932566, 1.508277606953981), ('hsa-mir-20a', -5.590629417281033, 4.445992700095547), ('hsa-mir-29a', -5.459821889334257, 3.0935825087971516), ('hsa-mir-10a', -5.48416014111619, 2.55278880050421)]\n"
     ]
    }
   ],
   "source": [
    "## 5p-nick\n",
    "ps = .0002\n",
    "ms = [ m for m in overlap if m in s3['5p nick processing'].dropna().index \n",
    "       and m in s5['5p nick processing'].dropna().index ]\n",
    "mssub = [ 'hsa-mir-17','hsa-mir-10b','hsa-mir-20a','hsa-mir-29a','hsa-mir-10a' ]\n",
    "\n",
    "nick5mp = s3.reindex(ms)['5p nick processing']+ps\n",
    "nick5sr = s5.reindex(ms)['5p nick processing']+ps\n",
    "\n",
    "xs = np.log2(nick5sr/nick5mp)\n",
    "ys = [ effs[m]-effsmp[m] for m in ms ]\n",
    "xssub = np.log2(nick5sr[mssub]/nick5mp[mssub])\n",
    "yssub = [ effs[m]-effsmp[m] for m in mssub ]\n",
    "r, p = spearmanr(xs,ys)\n",
    "\n",
    "print r, p\n",
    "print zip(mssub,xssub,yssub)"
   ]
  },
  {
   "cell_type": "code",
   "execution_count": 34,
   "metadata": {},
   "outputs": [
    {
     "data": {
      "text/plain": [
       "Text(-9,-1.6,u'n = 1000\\n$R_s$ = -0.39')"
      ]
     },
     "execution_count": 34,
     "metadata": {},
     "output_type": "execute_result"
    },
    {
     "data": {
      "image/png": "[encoded data removed]",
      "text/plain": [
       "<matplotlib.figure.Figure at 0x7f255f8c8d50>"
      ]
     },
     "metadata": {},
     "output_type": "display_data"
    }
   ],
   "source": [
    "fig, ax = plt.subplots(1, 1, figsize=(2.5,2.5))\n",
    "sns.regplot(x=xs, y=ys, color='#848484',                            \n",
    "        scatter_kws={'s':5,'alpha':.5,'zorder':2,'rasterized':True,'facecolor':'None','lw':.8},\n",
    "        line_kws={'ls':'--','lw':1.5,'color':'k'}, ci=95)\n",
    "ax.scatter(xssub,yssub,s=7,color='k',zorder=3,rasterized=True, facecolor='None',lw=1)\n",
    "ax.axhline(0,color='k',ls='--',lw=.8)\n",
    "ax.axvline(0,color='k',ls='--',lw=.8)\n",
    "\n",
    "ax.set_xlim(-9.5,5)\n",
    "ax.set_ylim(-2,7)\n",
    "ax.set_xlabel('log2 fold change of\\n5p-nick processing\\n(+/$\\minus$ SRSF3)')\n",
    "ax.set_ylabel('$\\Delta$Cleavage efficiency\\n(+/$\\minus$ SRSF3)')\n",
    "ax.grid(ls='-',lw=.5)\n",
    "ax.text(-9,-1.6,'n = %s\\n$R_s$ = %.2f'%(len(xs),r))\n",
    "#fig.savefig(resultpath + '210112_f7f__productive_change_5p.pdf',dpi=300)"
   ]
  },
  {
   "cell_type": "code",
   "execution_count": 31,
   "metadata": {},
   "outputs": [
    {
     "name": "stdout",
     "output_type": "stream",
     "text": [
      "-0.5415862936275108 2.6980507490974354e-77 1000\n",
      "[('hsa-mir-142', -3.9625412567873095, 3.0111900619582532), ('hsa-let-7c', -6.137476163859865, 4.632083793405517), ('hsa-mir-30b', -5.130769860859959, 1.960535789275288), ('hsa-mir-122', -8.643380201114546, 3.9014745501370616), ('hsa-mir-147b', -9.477369426847744, 4.1844941627531815)]\n"
     ]
    }
   ],
   "source": [
    "## inverse \n",
    "ps = .0002\n",
    "ms = [ m for m in overlap if m in s3['Inverted processing'].dropna().index \n",
    "       and m in s5['Inverted processing'].dropna().index ]\n",
    "mssub = [ 'hsa-mir-142','hsa-let-7c','hsa-mir-30b','hsa-mir-122','hsa-mir-147b' ]\n",
    "\n",
    "invmp = s3.reindex(ms)['Inverted processing']+ps\n",
    "invsr = s5.reindex(ms)['Inverted processing']+ps\n",
    "\n",
    "xs = np.log2(invsr/invmp)\n",
    "ys = [ effs[m]-effsmp[m] for m in ms ]\n",
    "xssub = np.log2(invsr[mssub]/invmp[mssub])\n",
    "yssub = [ effs[m]-effsmp[m] for m in mssub ]\n",
    "r, p = spearmanr(xs,ys)\n",
    "\n",
    "print r, p, len(ms)\n",
    "print zip(mssub,xssub,yssub)"
   ]
  },
  {
   "cell_type": "code",
   "execution_count": 32,
   "metadata": {},
   "outputs": [
    {
     "data": {
      "text/plain": [
       "Text(2,5.7,u'n = 1000\\n$R_s$ = -0.54')"
      ]
     },
     "execution_count": 32,
     "metadata": {},
     "output_type": "execute_result"
    },
    {
     "data": {
      "image/png": "[encoded data removed]",
      "text/plain": [
       "<matplotlib.figure.Figure at 0x7f255f7db590>"
      ]
     },
     "metadata": {},
     "output_type": "display_data"
    }
   ],
   "source": [
    "fig, ax = plt.subplots(1, 1, figsize=(2.5,2.5))\n",
    "sns.regplot(x=xs, y=ys, color='#848484',                            \n",
    "        scatter_kws={'s':5,'alpha':.5,'zorder':2,'rasterized':True,'facecolor':'None','lw':.8},\n",
    "        line_kws={'ls':'--','lw':1.5,'color':'k'}, ci=95)\n",
    "ax.scatter(xssub,yssub,s=7,color='k',zorder=3,rasterized=True, facecolor='None',lw=1)\n",
    "\n",
    "ax.axhline(0,color='k',ls='--',lw=.8)\n",
    "ax.axvline(0,color='k',ls='--',lw=.8)\n",
    "ax.set_xlim(-10,7.5)\n",
    "ax.set_ylim(-2,7)\n",
    "ax.set_xlabel('log2 fold change of\\ninverse processing\\n(+/$\\minus$ SRSF3)')\n",
    "ax.set_ylabel('$\\Delta$Cleavage efficiency\\n(+/$\\minus$ SRSF3)')\n",
    "ax.grid(ls='-',lw=.5)\n",
    "ax.text(2,5.7,'n = %s\\n$R_s$ = %.2f'%(len(xs),r))\n",
    "#fig.savefig(resultpath + '210112_f7h__productive_change_inv.pdf',dpi=300)"
   ]
  },
  {
   "cell_type": "code",
   "execution_count": 46,
   "metadata": {},
   "outputs": [
    {
     "name": "stdout",
     "output_type": "stream",
     "text": [
      "-0.16047731299934895 3.4157717513219187e-07\n",
      "[('hsa-mir-16-2', -3.82856526884623, 5.920675417495879), ('hsa-mir-128-1', -1.5116823640515122, 8.154447404330554), ('hsa-mir-30c-2', -0.9163805154521716, 5.086594031619381)]\n"
     ]
    }
   ],
   "source": [
    "## 3p-nick\n",
    "ps = .0002\n",
    "ms = [ m for m in overlap if m in s3['3p nick processing'].dropna().index \n",
    "       and m in s7['3p nick processing'].dropna().index ]\n",
    "mssub = [ 'hsa-mir-16-2','hsa-mir-128-1','hsa-mir-30c-2' ]\n",
    "\n",
    "nick3mp = s3.reindex(ms)['3p nick processing']+ps\n",
    "nick3sr = s7.reindex(ms)['3p nick processing']+ps\n",
    "\n",
    "xs = np.log2(nick3sr/nick3mp)\n",
    "ys = [ effs[m]-effsmp[m] for m in ms ]\n",
    "xssub = np.log2(nick3sr[mssub]/nick3mp[mssub])\n",
    "yssub = [ effs[m]-effsmp[m] for m in mssub ]\n",
    "r, p = spearmanr(xs,ys)\n",
    "\n",
    "print r, p\n",
    "print zip(mssub,xssub,yssub)"
   ]
  },
  {
   "cell_type": "code",
   "execution_count": 123,
   "metadata": {},
   "outputs": [
    {
     "data": {
      "text/plain": [
       "Text(-6.3,-4,u'N = 950\\n$R_s$ = -0.18')"
      ]
     },
     "execution_count": 123,
     "metadata": {},
     "output_type": "execute_result"
    },
    {
     "data": {
      "image/png": "[encoded data removed]",
      "text/plain": [
       "<matplotlib.figure.Figure at 0x7fbb7854f290>"
      ]
     },
     "metadata": {},
     "output_type": "display_data"
    }
   ],
   "source": [
    "fig, ax = plt.subplots(1, 1, figsize=(2.5,2.5))\n",
    "sns.regplot(x=xs, y=ys, color='#848484',                            \n",
    "        scatter_kws={'s':5,'alpha':.5,'zorder':2,'rasterized':True,'facecolor':'None','lw':.8},\n",
    "        line_kws={'ls':'--','lw':1.5,'color':'k'}, ci=95)\n",
    "ax.scatter(xssub,yssub,s=7,color='k',zorder=3,rasterized=True, facecolor='None',lw=1)\n",
    "ax.axhline(0,color='k',ls='--',lw=.8)\n",
    "ax.axvline(0,color='k',ls='--',lw=.8)\n",
    "\n",
    "ax.set_xlim(-7,7)\n",
    "ax.set_ylim(-5,13.5)\n",
    "ax.set_xlabel('log2 fold change of\\n3p-nick processing\\n(+/- SRSF3)')\n",
    "ax.set_ylabel('$\\Delta$Cleavage efficiency\\n(+/- SRSF3)')\n",
    "ax.grid(ls='-',lw=.5)\n",
    "ax.text(-6.3,-4,'N = %s\\n$R_s$ = %.2f'%(len(xs),r))\n",
    "#fig.savefig(resultpath + '201215_s7__productive_change_3p.pdf',dpi=300)"
   ]
  },
  {
   "cell_type": "markdown",
   "metadata": {},
   "source": [
    "## I. Cleavage site comparison with fCLIP-seq"
   ]
  },
  {
   "cell_type": "code",
   "execution_count": 35,
   "metadata": {},
   "outputs": [
    {
     "name": "stdout",
     "output_type": "stream",
     "text": [
      "281\n"
     ]
    }
   ],
   "source": [
    "fclipexcel = pd.ExcelFile('supplementary/Kim_2017_s2.xlsx')\n",
    "fclip293t = fclipexcel.parse('HEK293T_miRBase', index_col=0)\n",
    "fcliphela = fclipexcel.parse('HeLa_miRBase', index_col=0)\n",
    "both293t = fclip293t[(fclip293t['Group5p']!='Unidentified')\n",
    "                     &(fclip293t['Group3p']!='Unidentified')]\n",
    "bothhela = fcliphela[(fcliphela['Group5p']!='Unidentified')\n",
    "                     &(fcliphela['Group3p']!='Unidentified')]\n",
    "fclip = [ mir for mir in s2.index if mir in both293t.index or mir in bothhela.index ]\n",
    "print len(fclip)"
   ]
  },
  {
   "cell_type": "code",
   "execution_count": 36,
   "metadata": {},
   "outputs": [
    {
     "name": "stdout",
     "output_type": "stream",
     "text": [
      "281\n"
     ]
    }
   ],
   "source": [
    "fclsites = {}\n",
    "for mir in fclip:   \n",
    "    if mir in both293t.index:\n",
    "        fcl5cs = map(int, str(both293t.loc[mir, 'fCLIPPosition5p']).split(';'))\n",
    "    elif mir in bothhela.index:\n",
    "        fcl5cs = map(int, str(bothhela.loc[mir, 'fCLIPPosition5p']).split(';'))\n",
    "    else:\n",
    "        continue\n",
    "    fclsites[mir] = set(fcl5cs)\n",
    "print len(fclsites)"
   ]
  },
  {
   "cell_type": "code",
   "execution_count": 37,
   "metadata": {},
   "outputs": [
    {
     "name": "stdout",
     "output_type": "stream",
     "text": [
      "set([94175962])\n"
     ]
    }
   ],
   "source": [
    "mpsites = {}\n",
    "for mir in dcsmirsmp:\n",
    "    c5, c3 = s3.loc[mir,[\"5' cleavage site\",\"3' cleavage site\"]]\n",
    "    clv = [c5]\n",
    "    cs, ce, strand = s2.loc[mir,['Start','End','Strand']]    \n",
    "    if strand=='+':\n",
    "        mpsites[mir] = set([int(cs+c-1) for c in clv])\n",
    "    else:\n",
    "        mpsites[mir] = set([int(ce-c+1) for c in clv])\n",
    "print mpsites['hsa-let-7a-1']"
   ]
  },
  {
   "cell_type": "code",
   "execution_count": 39,
   "metadata": {},
   "outputs": [
    {
     "name": "stdout",
     "output_type": "stream",
     "text": [
      "set([94175962])\n"
     ]
    }
   ],
   "source": [
    "srsites = {}\n",
    "for mir in dcsmirs:\n",
    "    c5, c3 = s5.loc[mir,[\"5' cleavage site\",\"3' cleavage site\"]]\n",
    "    clv = [c5]\n",
    "    cs, ce, strand = s2.loc[mir,['Start','End','Strand']]\n",
    "    if strand=='+':\n",
    "        srsites[mir] = set([int(cs+c-1) for c in clv])\n",
    "    else:\n",
    "        srsites[mir] = set([int(ce-c+1) for c in clv])\n",
    "print srsites['hsa-let-7a-1']"
   ]
  },
  {
   "cell_type": "code",
   "execution_count": 43,
   "metadata": {},
   "outputs": [
    {
     "name": "stdout",
     "output_type": "stream",
     "text": [
      "272\n",
      "[[82, 21, 169], [40, 12, 220]]\n"
     ]
    }
   ],
   "source": [
    "fclip2 = [m for m in fclip if m in overlap]\n",
    "print len(fclip2)\n",
    "mls = [ dcsmirsmp, dcsmirs ]\n",
    "data = []\n",
    "for ml,sites in zip(mls,[mpsites,srsites]):\n",
    "    ys = []\n",
    "    ys.append(len([m for m in fclip2 if m not in ml]))\n",
    "    ys.append(len([m for m in fclip2 if m in ml and not(sites[m]<=fclsites[m])]))\n",
    "    ys.append(len([m for m in fclip2 if m in ml and sites[m]<=fclsites[m]]))\n",
    "    data.append(ys)\n",
    "print data"
   ]
  },
  {
   "cell_type": "code",
   "execution_count": 41,
   "metadata": {},
   "outputs": [
    {
     "name": "stdout",
     "output_type": "stream",
     "text": [
      "[0.30147059 0.07720588 0.62132353] [0.14705882 0.04411765 0.80882353]\n"
     ]
    }
   ],
   "source": [
    "ys1 = np.array(data[0])/len(fclip2)\n",
    "ys2 = np.array(data[1])/len(fclip2)\n",
    "colors = [ '#ababab','#757575','#242424' ]\n",
    "print ys1,ys2"
   ]
  },
  {
   "cell_type": "code",
   "execution_count": 42,
   "metadata": {},
   "outputs": [
    {
     "data": {
      "text/plain": [
       "(-0.5, 1.5, 0.0, 1.05)"
      ]
     },
     "execution_count": 42,
     "metadata": {},
     "output_type": "execute_result"
    },
    {
     "data": {
      "image/png": "[encoded data removed]",
      "text/plain": [
       "<matplotlib.figure.Figure at 0x7f25b870a090>"
      ]
     },
     "metadata": {},
     "output_type": "display_data"
    }
   ],
   "source": [
    "## color version\n",
    "fig, ax = plt.subplots(1, 1, figsize=(2,2.2))\n",
    "bottom = np.array([0.,0.])\n",
    "for y1, y2, color in zip(ys1, ys2, colors):\n",
    "    ax.bar(range(2), [y1, y2], bottom=bottom, width=.4, linewidth=1, edgecolor='white',\n",
    "           color=color, zorder=2, alpha=.9)\n",
    "    bottom += np.array([y1,y2])\n",
    "    l = lines.Line2D([.2,.8], bottom, linewidth=.8, color='black', linestyle='--')\n",
    "    l.set_clip_on(False)\n",
    "    ax.add_line(l)\n",
    "\n",
    "ax.set_xlim(-.5, 1.5)\n",
    "ax.set_xticks([0,1])\n",
    "ax.tick_params(bottom='off')\n",
    "ax.axis('off')\n",
    "#fig.savefig(resultpath + '210112_f7i__fclip.pdf')"
   ]
  },
  {
   "cell_type": "markdown",
   "metadata": {},
   "source": [
    "## J. SRSF3 responsive element"
   ]
  },
  {
   "cell_type": "code",
   "execution_count": 44,
   "metadata": {},
   "outputs": [],
   "source": [
    "def find_cnnc(mir, cnnc):\n",
    "    if mir in dcsmirs:\n",
    "        pe = majorcs[mir][1]\n",
    "    else:\n",
    "        pe = preposition[mir][1]\n",
    "    cnncseq = constseqs[mir][pe+14:pe+22]\n",
    "    return bool(re.search(cnnc, cnncseq))"
   ]
  },
  {
   "cell_type": "code",
   "execution_count": 45,
   "metadata": {},
   "outputs": [
    {
     "name": "stdout",
     "output_type": "stream",
     "text": [
      "201\n"
     ]
    }
   ],
   "source": [
    "rescue = [m for m in overlap if m in dcsmirs and m in nodcsmp]\n",
    "print len(rescue)"
   ]
  },
  {
   "cell_type": "code",
   "execution_count": 47,
   "metadata": {},
   "outputs": [
    {
     "name": "stdout",
     "output_type": "stream",
     "text": [
      "140 47 14\n"
     ]
    }
   ],
   "source": [
    "rescnnc = [ m for m in rescue if find_cnnc(m,'C..C') ]\n",
    "rescnnd = [ m for m in rescue if find_cnnc(m,'C..[^C]|[^C]..C') and m not in rescnnc ]\n",
    "rest = [ m for m in rescue if m not in rescnnc+rescnnd ]\n",
    "print len(rescnnc), len(rescnnd), len(rest)"
   ]
  },
  {
   "cell_type": "code",
   "execution_count": 48,
   "metadata": {},
   "outputs": [],
   "source": [
    "mirls = [ rescnnc, rescnnd, rest ]\n",
    "yse = [[ effs[m]-effsmp[m] for m in ml ] for ml in mirls]\n",
    "ysh = [[ homs[m]-homsmp[m] for m in ml ] for ml in mirls]\n",
    "\n",
    "cs = [ '#ababab','#6baed6','#9e9ac8','#fd8d3c' ]\n",
    "labels = [ 'CNNC\\n(%s)'%len(mirls[0]),'CNND\\nor DNNC\\n(%s)'%len(mirls[1]),\n",
    "           'Rest\\n(%s)'%len(mirls[2])]"
   ]
  },
  {
   "cell_type": "code",
   "execution_count": 49,
   "metadata": {},
   "outputs": [
    {
     "name": "stdout",
     "output_type": "stream",
     "text": [
      "0.04584570699707166\n",
      "0.6048198864710412\n",
      "0.0009759845838598174\n",
      "0.04085563841014155\n"
     ]
    }
   ],
   "source": [
    "print mannwhitneyu(yse[0],yse[1],alternative='greater')[1]\n",
    "print mannwhitneyu(yse[1],yse[2],alternative='greater')[1]\n",
    "print mannwhitneyu(ysh[0],ysh[1],alternative='greater')[1]\n",
    "print mannwhitneyu(ysh[1],ysh[2],alternative='greater')[1]"
   ]
  },
  {
   "cell_type": "code",
   "execution_count": 50,
   "metadata": {},
   "outputs": [
    {
     "data": {
      "image/png": "[encoded data removed]",
      "text/plain": [
       "<matplotlib.figure.Figure at 0x7f25b875a7d0>"
      ]
     },
     "metadata": {},
     "output_type": "display_data"
    }
   ],
   "source": [
    "fig, ax1 = plt.subplots(1, 1, figsize=(2.7,2.1)); ax2 = ax1.twinx()\n",
    "for ax,c,ys,off in zip([ax1,ax2],['#807dba','#fb6a4a'],[yse,ysh],[-.2,.2]):\n",
    "    bp = ax.boxplot(ys[:2], widths=.3, sym='', boxprops={'linewidth':1.3}, patch_artist=True,\n",
    "                capprops={'linewidth':1.3}, medianprops={'linewidth':1.3,'color':'k'},\n",
    "                whiskerprops={'linewidth':1.3}, positions=np.arange(1,3)+off, whis=1,zorder=2)\n",
    "    for box in bp['boxes']:\n",
    "        box.set_facecolor(c)\n",
    "        box.set_zorder(2)\n",
    "\n",
    "xs1 = np.random.uniform(2.7,2.9,len(yse[2]))\n",
    "ax1.scatter(np.array(xs1), sorted(yse[2]),s=5,edgecolor='#6a51a3',facecolor='None',lw=1.3,\n",
    "           zorder=2)\n",
    "xs2 = np.random.uniform(3.1,3.3,len(yse[2]))\n",
    "ax2.scatter(np.array(xs2), sorted(ysh[2]),s=5,edgecolor='#fb6a4a',facecolor='None',lw=1.3,\n",
    "           zorder=2)\n",
    "ax1.axhline(0,color='k',lw=1,ls='--',zorder=3)\n",
    "\n",
    "ax1.set_ylabel('$\\Delta$Cleavage efficiency', color='#6a51a3')\n",
    "fig.text(1.07,.5,'$\\Delta$Cleavage homogeneity',rotation=270,va='center',\n",
    "        ha='center',fontsize=11,color='#fb6a4a')\n",
    "ax1.set_xticks(range(1,1+len(mirls)))\n",
    "ax1.set_xticklabels(labels)\n",
    "ax1.set_xlim(.45,3.5)\n",
    "ax1.set_ylim(-.5,7)\n",
    "ax2.set_ylim(-.055,.77)\n",
    "ax2.set_yticks([0,.3,.6])\n",
    "ax2.spines['right'].set_visible(True)\n",
    "ax1.yaxis.grid(ls='-',lw=.5)\n",
    "#fig.savefig(resultpath + '210112_f7j__cnnc.pdf')"
   ]
  },
  {
   "cell_type": "markdown",
   "metadata": {},
   "source": [
    "## Suppl 6A. Cleavage homogeneity"
   ]
  },
  {
   "cell_type": "code",
   "execution_count": 226,
   "metadata": {},
   "outputs": [
    {
     "data": {
      "image/png": "[encoded data removed]",
      "text/plain": [
       "<matplotlib.figure.Figure at 0x7fb720145190>"
      ]
     },
     "metadata": {},
     "output_type": "display_data"
    }
   ],
   "source": [
    "fig, ax = plt.subplots(1, 1, figsize=(2.5,2.5))\n",
    "xs = [ homsmp[m] for m in overlap ]\n",
    "ys = [ homs[m] for m in overlap ]\n",
    "sub = ['hsa-mir-142','hsa-mir-101-2','hsa-let-7d']\n",
    "xssub = [ homsmp[m] for m in sub ]\n",
    "yssub = [ homs[m] for m in sub ]\n",
    "\n",
    "ax.scatter(xs,ys,s=7,color='#969696',zorder=2,rasterized=True,alpha=.5,facecolor='None',lw=1)\n",
    "ax.scatter(xssub,yssub,s=15,color='k',zorder=2,rasterized=True,facecolor='None',lw=1)\n",
    "ax.set_xticks(np.arange(0,1.1,.25)); ax.set_xticks(np.arange(0,1.1,.25))\n",
    "ax.set_xlabel('Cleavage homogeneity\\n[ MP ]')\n",
    "ax.set_ylabel('Cleavage homogeneity\\n[ MP+SRSF3]')\n",
    "ax.grid(ls='-',lw=.5)\n",
    "ax.spines['bottom'].set_bounds(0,1)\n",
    "ax.spines['left'].set_bounds(0,1)\n",
    "ax.plot([0,1],[0,1],'k--')\n",
    "ax.set_xlim(-.04,1.02)\n",
    "ax.set_ylim(-.04,1.02)\n",
    "ax.set_yticks(np.arange(0,1.1,.25))\n",
    "ax.text(1,.02,'N = %s'%len(xs),ha='right')\n",
    "fig.savefig(resultpath + '210112_s6a__homogeneity.pdf',dpi=300)"
   ]
  },
  {
   "cell_type": "markdown",
   "metadata": {},
   "source": [
    "## Discussion"
   ]
  },
  {
   "cell_type": "markdown",
   "metadata": {},
   "source": [
    "#### Relaxed cutoffs"
   ]
  },
  {
   "cell_type": "code",
   "execution_count": 52,
   "metadata": {},
   "outputs": [],
   "source": [
    "REL_ECUT = .75\n",
    "REL_HCUT = .1"
   ]
  },
  {
   "cell_type": "code",
   "execution_count": 55,
   "metadata": {},
   "outputs": [
    {
     "name": "stdout",
     "output_type": "stream",
     "text": [
      "[302, 254, 1244]\n"
     ]
    }
   ],
   "source": [
    "mirls = [ [m for m in overlap if m in drodep], \n",
    "          [m for m in overlap if m in droind],\n",
    "          [m for m in overlap if m not in list(drodep)+list(droind)] ]\n",
    "xsl = [ [effs[m] for m in ml] for ml in mirls ]\n",
    "ysl = [ [homs[m] for m in ml] for ml in mirls ]\n",
    "fcolors = [ '#1b9e77', '#666666', '#cbcbcb' ]\n",
    "ecolors = [ '#018571', '#353535','#bababa' ]\n",
    "labels = [ 'DRO-dep.', 'DRO-ind.', 'Not yet determined' ]\n",
    "sizes = [ 10, 10, 6 ]\n",
    "zs = [ 4, 3, 2 ]\n",
    "xmin, xmax, xo = 0, 7, .15\n",
    "ymin, ymax, yo = 0, 1, .03\n",
    "xcut, ycut = REL_ECUT, REL_HCUT\n",
    "shade = '#a1d99b'\n",
    "print map(len,mirls)"
   ]
  },
  {
   "cell_type": "code",
   "execution_count": 56,
   "metadata": {
    "scrolled": true
   },
   "outputs": [
    {
     "data": {
      "image/png": "[encoded data removed]",
      "text/plain": [
       "<matplotlib.figure.Figure at 0x7f25b8412850>"
      ]
     },
     "metadata": {},
     "output_type": "display_data"
    }
   ],
   "source": [
    "fig, ax = plt.subplots(1, 1, figsize=(2.5,2.5))\n",
    "for xs,ys,fc,ec,label,s,z in zip(xsl,ysl,fcolors,ecolors,labels,sizes,zs):\n",
    "    xs,ys = zip(*[ (x,y) for x,y in zip(xs,ys) if xmin<=x<xmax and ymin<=y<ymax])\n",
    "    ax.scatter(xs, ys, s=s, color=fc, edgecolor=ec, lw=.5, zorder=z, label=label, alpha=.9,\n",
    "              rasterized=True)\n",
    "ax.plot([xmin-xo,xmax],[ycut,ycut],'k--',zorder=2)\n",
    "ax.plot([xcut,xcut],[ymin-yo,ymax],'k--',zorder=4)\n",
    "\n",
    "ax.set_xlabel('Cleavage efficiency',fontsize=11)\n",
    "ax.set_ylabel('Cleavage homogeneity',fontsize=11)\n",
    "ax.set_xticks(range(xmin,xmax+1))\n",
    "ax.set_xticks(np.arange(xmin,xmax+xo,.5),minor=True)\n",
    "ax.set_yticks(np.arange(ymin,ymax+yo,.25))\n",
    "ax.set_xlim(xmin-xo, xmax+xo)\n",
    "ax.set_ylim(ymin-yo, ymax+yo)\n",
    "ax.spines['bottom'].set_bounds(xmin, xmax)\n",
    "ax.spines['left'].set_bounds(ymin, ymax)\n",
    "leg = ax.legend(loc=(-.3,1.05), handletextpad=-.1, ncol=3, columnspacing=.05)\n",
    "for handle in leg.legendHandles:\n",
    "    handle.set_sizes([30])\n",
    "\n",
    "gr = plt.Rectangle((xmin-xo/4,ymin-yo/4), xmax+xo/4, ymax+yo/4, fc='w'); ax.add_patch(gr)\n",
    "ax.grid(ls='-', lw=.5, clip_path=gr)\n",
    "#fig.savefig(resultpath + '210118_cleavage_pattern_srsf3.pdf',dpi=300)"
   ]
  },
  {
   "cell_type": "markdown",
   "metadata": {},
   "source": [
    "#### Conservation across mammals"
   ]
  },
  {
   "cell_type": "code",
   "execution_count": 66,
   "metadata": {},
   "outputs": [],
   "source": [
    "excel = pd.ExcelFile('supplementary/Fang_2015_s3.xlsx')\n",
    "fangtbl = excel.parse('Human',header=2,index_col=0)"
   ]
  },
  {
   "cell_type": "code",
   "execution_count": 67,
   "metadata": {},
   "outputs": [],
   "source": [
    "mirfams = {}\n",
    "mid = ''\n",
    "for l in open('/casa/bsc/databases/miRNA/miFam.dat','rt'):\n",
    "    if l.startswith('ID'):\n",
    "        mid = l.split()[1]\n",
    "        mirfams[mid] = []\n",
    "    elif l.startswith('MI') and 'hsa' in l and mid:\n",
    "        mirfams[mid].append(l.split()[2])"
   ]
  },
  {
   "cell_type": "code",
   "execution_count": 68,
   "metadata": {},
   "outputs": [
    {
     "name": "stdout",
     "output_type": "stream",
     "text": [
      "366\n"
     ]
    }
   ],
   "source": [
    "mamcons = []\n",
    "for fam in fangtbl['Family'].tolist():\n",
    "    if fam in mirfams:\n",
    "        mamcons = mamcons+mirfams[fam]\n",
    "print len(set(mamcons))"
   ]
  },
  {
   "cell_type": "code",
   "execution_count": 69,
   "metadata": {},
   "outputs": [],
   "source": [
    "def get_conserved(mirl):\n",
    "    return [m for m in mamcons if m in mirl]"
   ]
  },
  {
   "cell_type": "markdown",
   "metadata": {},
   "source": [
    "#### ERH/SAFB-dependence"
   ]
  },
  {
   "cell_type": "code",
   "execution_count": 51,
   "metadata": {
    "scrolled": true
   },
   "outputs": [],
   "source": [
    "erh = pd.ExcelFile('supplementary/Kwon_2020_s1.xlsx')\n",
    "erhtbl = erh.parse('Merged',index_col=0,header=6)\n",
    "\n",
    "ERHCUT, SAFBCUT = 400, 50\n",
    "FCCUT = -.5\n",
    "\n",
    "def is_dependent(mir, s, rcut, fcut):\n",
    "    return (mir in erhtbl[(erhtbl['baseMean_%s'%s]>=rcut)&(erhtbl['log2FC_%s'%s]<=fcut)].index)\n",
    "\n",
    "def is_sufficient(mir, s, rcut, fcut):\n",
    "    return (mir in erhtbl[(erhtbl['baseMean_%s'%s]>=rcut)].index)\n",
    "\n",
    "def get_suffs(mirl):\n",
    "    return [ m for m in mirl if is_sufficient(m,'siERH',ERHCUT,FCCUT) or\n",
    "                                is_sufficient(m,'SAFB_DKO_293T',SAFBCUT,FCCUT) or \n",
    "                                is_sufficient(m,'SAFB_DKO_Ramos',SAFBCUT,FCCUT) ]\n",
    "def get_depends(mirl):\n",
    "    return [ m for m in mirl if is_dependent(m,'siERH',ERHCUT,FCCUT) or\n",
    "                                is_dependent(m,'SAFB_DKO_293T',SAFBCUT,FCCUT) or \n",
    "                                is_dependent(m,'SAFB_DKO_Ramos',SAFBCUT,FCCUT) ]"
   ]
  },
  {
   "cell_type": "markdown",
   "metadata": {},
   "source": [
    "#### Classification - stringent cutoffs"
   ]
  },
  {
   "cell_type": "code",
   "execution_count": 70,
   "metadata": {},
   "outputs": [
    {
     "name": "stdout",
     "output_type": "stream",
     "text": [
      "758 1042\n"
     ]
    }
   ],
   "source": [
    "productive = [ m for m in overlap if m in dcsmirs or m in dcsmirsmp ]\n",
    "failed = [ m for m in overlap if m not in productive ]\n",
    "print len(productive), len(failed)"
   ]
  },
  {
   "cell_type": "code",
   "execution_count": 73,
   "metadata": {},
   "outputs": [
    {
     "data": {
      "text/plain": [
       "Counter({'DROSHA-dependent, verified by DROSHA KO': 2,\n",
       "         'DROSHA-dependent, verified by DROSHA KO, fCLIP-seq': 8,\n",
       "         'DROSHA-dependent, verified by fCLIP-seq': 31,\n",
       "         'DROSHA-independent, Capped miRNA': 11,\n",
       "         'DROSHA-independent, Mirtron': 234,\n",
       "         'DROSHA-independent, SnoRNA-derived miRNA': 6,\n",
       "         'DROSHA-independent, tRNA-related miRNA': 1,\n",
       "         'Not yet determined': 749})"
      ]
     },
     "execution_count": 73,
     "metadata": {},
     "output_type": "execute_result"
    }
   ],
   "source": [
    "Counter(s1.reindex(failed)['DROSHA dependency'])"
   ]
  },
  {
   "cell_type": "code",
   "execution_count": 79,
   "metadata": {},
   "outputs": [
    {
     "name": "stdout",
     "output_type": "stream",
     "text": [
      "41\n",
      "26 15\n",
      "19\n"
     ]
    }
   ],
   "source": [
    "faildep = [ m for m in failed if m in drodep ]\n",
    "print len(faildep)\n",
    "print len(get_suffs(faildep)), len(faildep)-len(get_suffs(faildep))\n",
    "print len(get_depends(faildep))"
   ]
  },
  {
   "cell_type": "code",
   "execution_count": 82,
   "metadata": {},
   "outputs": [
    {
     "name": "stdout",
     "output_type": "stream",
     "text": [
      "749\n",
      "29 27\n"
     ]
    }
   ],
   "source": [
    "failunk = [ m for m in failed if s1.loc[m,'DROSHA dependency']=='Not yet determined']\n",
    "print len(failunk)\n",
    "print len([m for m in failunk if m in dbmirs]), len(get_conserved(failunk))"
   ]
  },
  {
   "cell_type": "markdown",
   "metadata": {},
   "source": [
    "#### Classification - relaxed cutoffs"
   ]
  },
  {
   "cell_type": "code",
   "execution_count": 74,
   "metadata": {},
   "outputs": [
    {
     "name": "stdout",
     "output_type": "stream",
     "text": [
      "907 893\n"
     ]
    }
   ],
   "source": [
    "dcsmirsmpr = [ m for m in overlap if effsmp[m]>=REL_ECUT and homsmp[m]>=REL_HCUT ] \n",
    "dcsmirsr = [ m for m in overlap if effs[m]>=REL_ECUT and homs[m]>=REL_HCUT ] \n",
    "productiver = [ m for m in overlap if m in dcsmirsr or m in dcsmirsmpr ]\n",
    "failedr = [ m for m in overlap if m not in productiver ]\n",
    "print len(productiver), len(failedr)"
   ]
  },
  {
   "cell_type": "code",
   "execution_count": 75,
   "metadata": {},
   "outputs": [
    {
     "data": {
      "text/plain": [
       "Counter({'DROSHA-dependent, verified by DROSHA KO': 1,\n",
       "         'DROSHA-dependent, verified by DROSHA KO, fCLIP-seq': 5,\n",
       "         'DROSHA-dependent, verified by fCLIP-seq': 16,\n",
       "         'DROSHA-independent, Capped miRNA': 9,\n",
       "         'DROSHA-independent, Mirtron': 213,\n",
       "         'DROSHA-independent, SnoRNA-derived miRNA': 5,\n",
       "         'DROSHA-independent, tRNA-related miRNA': 1,\n",
       "         'Not yet determined': 643})"
      ]
     },
     "execution_count": 75,
     "metadata": {},
     "output_type": "execute_result"
    }
   ],
   "source": [
    "Counter(s1.reindex(failedr)['DROSHA dependency'])"
   ]
  },
  {
   "cell_type": "code",
   "execution_count": 80,
   "metadata": {},
   "outputs": [
    {
     "name": "stdout",
     "output_type": "stream",
     "text": [
      "22\n",
      "12 10\n",
      "11\n"
     ]
    }
   ],
   "source": [
    "failrdep = [ m for m in failedr if m in drodep ]\n",
    "print len(failrdep)\n",
    "print len(get_suffs(failrdep)), len(failrdep)-len(get_suffs(failrdep))\n",
    "print len(get_depends(failrdep))"
   ]
  },
  {
   "cell_type": "code",
   "execution_count": 83,
   "metadata": {},
   "outputs": [
    {
     "name": "stdout",
     "output_type": "stream",
     "text": [
      "643\n",
      "16 20\n"
     ]
    }
   ],
   "source": [
    "failrunk = [ m for m in failedr if s1.loc[m,'DROSHA dependency']=='Not yet determined']\n",
    "print len(failrunk)\n",
    "print len([m for m in failrunk if m in dbmirs]), len(get_conserved(failrunk))"
   ]
  },
  {
   "cell_type": "markdown",
   "metadata": {},
   "source": [
    "#### Mirtrons"
   ]
  },
  {
   "cell_type": "code",
   "execution_count": 57,
   "metadata": {},
   "outputs": [
    {
     "name": "stdout",
     "output_type": "stream",
     "text": [
      "[236, 1564]\n"
     ]
    }
   ],
   "source": [
    "mirtrons = s1[s1['DROSHA dependency'].apply(lambda x:x.find('Mirtron')>=0)].index\n",
    "mirls = [ [m for m in overlap if m in mirtrons], \n",
    "          [m for m in overlap if m not in mirtrons] ]\n",
    "xsl = [ [effs[m] for m in ml] for ml in mirls ]\n",
    "ysl = [ [homs[m] for m in ml] for ml in mirls ]\n",
    "fcolors = [ '#dfc27d', '#cbcbcb' ]\n",
    "ecolors = [ '#a6611a','#bababa' ]\n",
    "labels = [ 'Mirtrons (%s)'%len(mirls[0]), 'The rest (%s)'%len(mirls[1]) ]\n",
    "sizes = [ 12, 5 ]\n",
    "zs = [ 3,2 ]\n",
    "xmin, xmax, xo = 0, 8, .15\n",
    "ymin, ymax, yo = 0, 1, .03\n",
    "xcut, ycut = 1.5, .25\n",
    "shade = '#a1d99b'\n",
    "print map(len,mirls)"
   ]
  },
  {
   "cell_type": "code",
   "execution_count": 58,
   "metadata": {
    "scrolled": true
   },
   "outputs": [
    {
     "data": {
      "image/png": "[encoded data removed]",
      "text/plain": [
       "<matplotlib.figure.Figure at 0x7f25b86e9550>"
      ]
     },
     "metadata": {},
     "output_type": "display_data"
    }
   ],
   "source": [
    "fig, ax = plt.subplots(1, 1, figsize=(2.5,2.5))\n",
    "for xs,ys,fc,ec,label,s,z in zip(xsl,ysl,fcolors,ecolors,labels,sizes,zs):\n",
    "    xs,ys = zip(*[ (x,y) for x,y in zip(xs,ys) if xmin<=x<xmax and ymin<=y<ymax])\n",
    "    ax.scatter(xs, ys, s=s, color=fc, edgecolor=ec, lw=1.5, zorder=z, label=label, alpha=.9,\n",
    "              rasterized=True)\n",
    "ax.plot([xmin-xo,xmax],[ycut,ycut],'k--',zorder=2)\n",
    "ax.plot([xcut,xcut],[ymin-yo,ymax],'k--',zorder=2)\n",
    "\n",
    "ax.set_xlabel('Cleavage efficiency',fontsize=11)\n",
    "ax.set_ylabel('Cleavage homogeneity',fontsize=11)\n",
    "ax.set_xticks(range(xmin,xmax+1))\n",
    "ax.set_xticks(np.arange(xmin,xmax+xo,.5),minor=True)\n",
    "ax.set_yticks(np.arange(ymin,ymax+yo,.25))\n",
    "ax.set_xlim(xmin-xo, xmax+xo)\n",
    "ax.set_ylim(ymin-yo, ymax+yo)\n",
    "ax.spines['bottom'].set_bounds(xmin, xmax)\n",
    "ax.spines['left'].set_bounds(ymin, ymax)\n",
    "leg = ax.legend(loc=(-.2,1.05), handletextpad=-.1, ncol=3, columnspacing=.05)\n",
    "for handle in leg.legendHandles:\n",
    "    handle.set_sizes([30])\n",
    "\n",
    "gr = plt.Rectangle((xmin-xo/4,ymin-yo/4), xmax+xo/4, ymax+yo/4, fc='w'); ax.add_patch(gr)\n",
    "ax.grid(ls='-', lw=.5, clip_path=gr)\n",
    "#fig.savefig(resultpath + '210114_cleavage_pattern_srsf3.pdf',dpi=300)"
   ]
  },
  {
   "cell_type": "markdown",
   "metadata": {},
   "source": [
    "#### miRBase v22"
   ]
  },
  {
   "cell_type": "code",
   "execution_count": 60,
   "metadata": {},
   "outputs": [
    {
     "data": {
      "text/html": [
       "<div>\n",
       "<style scoped>\n",
       "    .dataframe tbody tr th:only-of-type {\n",
       "        vertical-align: middle;\n",
       "    }\n",
       "\n",
       "    .dataframe tbody tr th {\n",
       "        vertical-align: top;\n",
       "    }\n",
       "\n",
       "    .dataframe thead th {\n",
       "        text-align: right;\n",
       "    }\n",
       "</style>\n",
       "<table border=\"1\" class=\"dataframe\">\n",
       "  <thead>\n",
       "    <tr style=\"text-align: right;\">\n",
       "      <th></th>\n",
       "      <th>Alias</th>\n",
       "      <th>Derives_from</th>\n",
       "      <th>ID</th>\n",
       "      <th>Name</th>\n",
       "      <th>chr</th>\n",
       "      <th>end</th>\n",
       "      <th>kind</th>\n",
       "      <th>start</th>\n",
       "      <th>strand</th>\n",
       "    </tr>\n",
       "  </thead>\n",
       "  <tbody>\n",
       "    <tr>\n",
       "      <th>0</th>\n",
       "      <td>MI0022705</td>\n",
       "      <td>NaN</td>\n",
       "      <td>MI0022705</td>\n",
       "      <td>hsa-mir-6859-1</td>\n",
       "      <td>chr1</td>\n",
       "      <td>17436</td>\n",
       "      <td>miRNA_primary_transcript</td>\n",
       "      <td>17369</td>\n",
       "      <td>-</td>\n",
       "    </tr>\n",
       "    <tr>\n",
       "      <th>1</th>\n",
       "      <td>MIMAT0027618</td>\n",
       "      <td>MI0022705</td>\n",
       "      <td>MIMAT0027618</td>\n",
       "      <td>hsa-miR-6859-5p</td>\n",
       "      <td>chr1</td>\n",
       "      <td>17431</td>\n",
       "      <td>miRNA</td>\n",
       "      <td>17409</td>\n",
       "      <td>-</td>\n",
       "    </tr>\n",
       "    <tr>\n",
       "      <th>2</th>\n",
       "      <td>MIMAT0027619</td>\n",
       "      <td>MI0022705</td>\n",
       "      <td>MIMAT0027619</td>\n",
       "      <td>hsa-miR-6859-3p</td>\n",
       "      <td>chr1</td>\n",
       "      <td>17391</td>\n",
       "      <td>miRNA</td>\n",
       "      <td>17369</td>\n",
       "      <td>-</td>\n",
       "    </tr>\n",
       "  </tbody>\n",
       "</table>\n",
       "</div>"
      ],
      "text/plain": [
       "          Alias Derives_from            ID             Name   chr    end  \\\n",
       "0     MI0022705          NaN     MI0022705   hsa-mir-6859-1  chr1  17436   \n",
       "1  MIMAT0027618    MI0022705  MIMAT0027618  hsa-miR-6859-5p  chr1  17431   \n",
       "2  MIMAT0027619    MI0022705  MIMAT0027619  hsa-miR-6859-3p  chr1  17391   \n",
       "\n",
       "                       kind  start strand  \n",
       "0  miRNA_primary_transcript  17369      -  \n",
       "1                     miRNA  17409      -  \n",
       "2                     miRNA  17369      -  "
      ]
     },
     "execution_count": 60,
     "metadata": {},
     "output_type": "execute_result"
    }
   ],
   "source": [
    "# miBRase v22 gff file\n",
    "gff = 'supplementary/human_mirbase-v22.gff3'\n",
    "anntbl = pd.read_table(gff, header=12, sep='\\t', usecols=[0,2,3,4,6,8], \n",
    "                       names=['chr','kind','start','end','strand','attr'])\n",
    "anntbl = anntbl.apply(parse_line, axis=1).drop(['attr'], axis=1)\n",
    "anntbl.head(3)"
   ]
  },
  {
   "cell_type": "code",
   "execution_count": 61,
   "metadata": {},
   "outputs": [
    {
     "name": "stdout",
     "output_type": "stream",
     "text": [
      "1913\n"
     ]
    }
   ],
   "source": [
    "annpri = anntbl[anntbl['kind']=='miRNA_primary_transcript'].set_index('Name')\n",
    "annmat = anntbl[anntbl['kind']=='miRNA'].set_index('ID')\n",
    "all22 = sorted(list(set(annpri.index)))\n",
    "print len(all22)"
   ]
  },
  {
   "cell_type": "code",
   "execution_count": 64,
   "metadata": {},
   "outputs": [
    {
     "name": "stdout",
     "output_type": "stream",
     "text": [
      "63 31\n",
      "28\n",
      "['hsa-mir-3591']\n"
     ]
    }
   ],
   "source": [
    "added = [ m for m in all22 if m not in s1.index ]\n",
    "dropd = [ m for m in s1.index if m not in all22 ]\n",
    "print len(added), len(dropd)\n",
    "print len([m for m in dropd if m in overlap])\n",
    "print [m for m in dropd if m in overlap and m in dcsmirs+dcsmirsmp]"
   ]
  },
  {
   "cell_type": "markdown",
   "metadata": {},
   "source": [
    "#### Alternative processing"
   ]
  },
  {
   "cell_type": "code",
   "execution_count": 85,
   "metadata": {},
   "outputs": [
    {
     "name": "stdout",
     "output_type": "stream",
     "text": [
      "44 57\n",
      "85\n"
     ]
    }
   ],
   "source": [
    "altmp = [m for m in dcsmirsmp if s3.loc[m,'Cleavage ratio of alternative site']>=HOMCUT]\n",
    "alt = [m for m in dcsmirs if s5.loc[m,'Cleavage ratio of alternative site']>=HOMCUT]\n",
    "print len(altmp), len(alt)\n",
    "print len([m for m in productive if m in altmp or m in alt])"
   ]
  },
  {
   "cell_type": "markdown",
   "metadata": {},
   "source": [
    "#### Change by SRSF3"
   ]
  },
  {
   "cell_type": "code",
   "execution_count": 86,
   "metadata": {},
   "outputs": [
    {
     "name": "stdout",
     "output_type": "stream",
     "text": [
      "0.1848244912905954 0.9352973498839969\n"
     ]
    }
   ],
   "source": [
    "nulleffs = [effs[m]-effsmp[m] for m in overlap if m in droind]\n",
    "nullhoms = [abs(homs[m]-homsmp[m]) for m in overlap if m in droind]\n",
    "ecut = np.percentile(nulleffs,99)\n",
    "hcut = np.percentile(nullhoms,99)\n",
    "print hcut,ecut"
   ]
  },
  {
   "cell_type": "code",
   "execution_count": 87,
   "metadata": {},
   "outputs": [
    {
     "name": "stdout",
     "output_type": "stream",
     "text": [
      "302\n",
      "253\n"
     ]
    }
   ],
   "source": [
    "ovdep = [ m for m in overlap if m in drodep ]\n",
    "print len(ovdep)\n",
    "print len([m for m in ovdep if effs[m]-effsmp[m]>ecut or abs(homs[m]-homsmp[m])>hcut])"
   ]
  },
  {
   "cell_type": "code",
   "execution_count": null,
   "metadata": {},
   "outputs": [],
   "source": []
  }
 ],
 "metadata": {
  "kernelspec": {
   "display_name": "Python 2",
   "language": "python",
   "name": "python2"
  },
  "language_info": {
   "codemirror_mode": {
    "name": "ipython",
    "version": 2
   },
   "file_extension": ".py",
   "mimetype": "text/x-python",
   "name": "python",
   "nbconvert_exporter": "python",
   "pygments_lexer": "ipython2",
   "version": "2.7.18"
  }
 },
 "nbformat": 4,
 "nbformat_minor": 2
}
