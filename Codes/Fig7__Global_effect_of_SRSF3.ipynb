{
 "cells": [
  {
   "cell_type": "markdown",
   "metadata": {},
   "source": [
    "# Figure 5. Global effect of SRSF3\n",
    "---"
   ]
  },
  {
   "cell_type": "code",
   "execution_count": 1,
   "metadata": {},
   "outputs": [
    {
     "name": "stdout",
     "output_type": "stream",
     "text": [
      "Last revised by Seungchan Baek at 2020-11-30.\n"
     ]
    }
   ],
   "source": [
    "import time\n",
    "today = time.strftime('%Y-%m-%d')\n",
    "name = 'Seungchan Baek'\n",
    "print 'Last revised by %s at %s.' % (name, today)"
   ]
  },
  {
   "cell_type": "code",
   "execution_count": 2,
   "metadata": {},
   "outputs": [
    {
     "name": "stdout",
     "output_type": "stream",
     "text": [
      "/casa/bsc/projects/1_DCS/2004_paper_prep\n"
     ]
    }
   ],
   "source": [
    "home = '/casa/bsc/projects/1_DCS/2004_paper_prep/'\n",
    "utilpath = '/casa/bsc/notebooks/'\n",
    "%cd $home"
   ]
  },
  {
   "cell_type": "code",
   "execution_count": 3,
   "metadata": {},
   "outputs": [
    {
     "name": "stdout",
     "output_type": "stream",
     "text": [
      "resultpath: results/201130/\n"
     ]
    }
   ],
   "source": [
    "from __future__ import division\n",
    "import sys; sys.path.append(utilpath)\n",
    "from util import *\n",
    "from basic import gen_result_dir\n",
    "resultpath = gen_result_dir('results/')\n",
    "print 'resultpath:', resultpath"
   ]
  },
  {
   "cell_type": "code",
   "execution_count": 111,
   "metadata": {},
   "outputs": [],
   "source": [
    "import pandas as pd\n",
    "import numpy as np\n",
    "import re\n",
    "from scipy import stats as st\n",
    "from matplotlib import pyplot as plt\n",
    "from matplotlib import lines, gridspec, colors\n",
    "from collections import defaultdict, Counter\n",
    "from sklearn.cluster import AgglomerativeClustering\n",
    "from scipy.stats import sem, ttest_ind, mannwhitneyu, spearmanr, pearsonr\n",
    "from scipy import stats as st\n",
    "from sequtil import nmer\n",
    "import statsmodels.api as sm\n",
    "%matplotlib inline"
   ]
  },
  {
   "cell_type": "code",
   "execution_count": 5,
   "metadata": {},
   "outputs": [],
   "source": [
    "LIBRARIES = [ 'set1', 'set2', 'set3', 'set4', 'set5' ]"
   ]
  },
  {
   "cell_type": "code",
   "execution_count": 6,
   "metadata": {},
   "outputs": [],
   "source": [
    "s1 = pd.read_csv('supplementary/201123_s1__DROSHA_dependency.csv', header=1, index_col=0)\n",
    "s2 = pd.read_csv('supplementary/201123_s2__Construct.csv', header=1, index_col=0).fillna('')\n",
    "s3 = pd.read_csv('supplementary/201123_s3__DROSHA_processing_result.csv', header=1, index_col=0)\n",
    "s4 = pd.read_csv('supplementary/201123_s4__MiRNA_features.csv', header=1, index_col=0)\n",
    "s5 = pd.read_csv('supplementary/201123_s5__Nick_processing.csv', header=1, index_col=0)\n",
    "s6 = pd.read_csv('supplementary/201123_s6__Inverted_processing.csv', header=1, index_col=0)\n",
    "s7 = pd.read_csv('supplementary/201123_s7__DROSHA_processing_with_SRSF3.csv',\n",
    "                 header=1, index_col=0)"
   ]
  },
  {
   "cell_type": "code",
   "execution_count": 7,
   "metadata": {},
   "outputs": [
    {
     "name": "stdout",
     "output_type": "stream",
     "text": [
      "1881 (32, 90)\n"
     ]
    }
   ],
   "source": [
    "preposition = {}\n",
    "for mir in s2.index:\n",
    "    flank5, flank3 = s2.loc[mir,[\"5' flanking segment\",\"3' flanking segment\"]]\n",
    "    if flank5 or flank3:\n",
    "        preposition[mir] = (len(flank5)+1,125-len(flank3))\n",
    "    else:\n",
    "        preposition[mir] = (0,126)\n",
    "print len(preposition), preposition['hsa-mir-142']"
   ]
  },
  {
   "cell_type": "code",
   "execution_count": 8,
   "metadata": {},
   "outputs": [
    {
     "name": "stdout",
     "output_type": "stream",
     "text": [
      "304 257 157 281 503\n"
     ]
    }
   ],
   "source": [
    "drodep = s1[s1['DROSHA dependency'].apply(lambda x:x.find('DROSHA-dependent')>=0)].index\n",
    "droind = s1[s1['DROSHA dependency'].apply(lambda x:x.find('DROSHA-independent')>=0)].index\n",
    "droko = s1[s1['DROSHA dependency'].apply(lambda x:x.find('DROSHA KO')>=0)].index\n",
    "fclip = s1[s1['DROSHA dependency'].apply(lambda x:x.find('fCLIP')>=0)].index\n",
    "dbmirs = s1[s1['MirGeneDB']=='Annotated'].index\n",
    "print len(drodep), len(droind), len(droko), len(fclip), len(dbmirs)"
   ]
  },
  {
   "cell_type": "code",
   "execution_count": 9,
   "metadata": {},
   "outputs": [
    {
     "name": "stdout",
     "output_type": "stream",
     "text": [
      "1881\n"
     ]
    }
   ],
   "source": [
    "constseqs = dict(s2['Construct sequence (125 nt)'])\n",
    "print len(constseqs)"
   ]
  },
  {
   "cell_type": "code",
   "execution_count": 18,
   "metadata": {},
   "outputs": [
    {
     "name": "stdout",
     "output_type": "stream",
     "text": [
      "1816 534 1282\n"
     ]
    }
   ],
   "source": [
    "EFFCUT = 2.5\n",
    "HOMCUT = .25\n",
    "effsmp = s3['Cleavage Efficiency'].to_dict()\n",
    "homsmp = s3['Cleavage Homogeneity'].to_dict()\n",
    "dcsmirsmp = [ m for m in s3.index if effsmp[m]>=EFFCUT and homsmp[m]>=HOMCUT ]\n",
    "nodcsmp = [ m for m in s3.index if m not in dcsmirsmp ]\n",
    "print len(s3.index), len(dcsmirsmp), len(nodcsmp)"
   ]
  },
  {
   "cell_type": "code",
   "execution_count": 19,
   "metadata": {
    "scrolled": true
   },
   "outputs": [
    {
     "name": "stdout",
     "output_type": "stream",
     "text": [
      "1812 749 1063\n"
     ]
    }
   ],
   "source": [
    "effs = s7['Cleavage Efficiency'].to_dict()\n",
    "homs = s7['Cleavage Homogeneity'].to_dict()\n",
    "dcsmirs = [ m for m in s7.index if effs[m]>=EFFCUT and homs[m]>=HOMCUT ]\n",
    "nodcs = [ m for m in s7.index if m not in dcsmirs ]\n",
    "print len(s7.index), len(dcsmirs), len(nodcs)"
   ]
  },
  {
   "cell_type": "code",
   "execution_count": 205,
   "metadata": {},
   "outputs": [
    {
     "data": {
      "text/html": [
       "<div>\n",
       "<style scoped>\n",
       "    .dataframe tbody tr th:only-of-type {\n",
       "        vertical-align: middle;\n",
       "    }\n",
       "\n",
       "    .dataframe tbody tr th {\n",
       "        vertical-align: top;\n",
       "    }\n",
       "\n",
       "    .dataframe thead th {\n",
       "        text-align: right;\n",
       "    }\n",
       "</style>\n",
       "<table border=\"1\" class=\"dataframe\">\n",
       "  <thead>\n",
       "    <tr style=\"text-align: right;\">\n",
       "      <th></th>\n",
       "      <th>Cleavage Efficiency</th>\n",
       "      <th>Cleavage Homogeneity</th>\n",
       "      <th>5' miRBase site</th>\n",
       "      <th>3' miRBase site</th>\n",
       "      <th>5' cleavage site</th>\n",
       "      <th>3' cleavage site</th>\n",
       "      <th>5' alternative site</th>\n",
       "      <th>3' alternative site</th>\n",
       "      <th>Cleavage ratio of alternative site</th>\n",
       "      <th>5p nick processing</th>\n",
       "      <th>3p nick processing</th>\n",
       "      <th>Inverted processing</th>\n",
       "    </tr>\n",
       "    <tr>\n",
       "      <th>Pri-miRNA</th>\n",
       "      <th></th>\n",
       "      <th></th>\n",
       "      <th></th>\n",
       "      <th></th>\n",
       "      <th></th>\n",
       "      <th></th>\n",
       "      <th></th>\n",
       "      <th></th>\n",
       "      <th></th>\n",
       "      <th></th>\n",
       "      <th></th>\n",
       "      <th></th>\n",
       "    </tr>\n",
       "  </thead>\n",
       "  <tbody>\n",
       "    <tr>\n",
       "      <th>hsa-mir-101-2</th>\n",
       "      <td>11.146716</td>\n",
       "      <td>0.486255</td>\n",
       "      <td>32</td>\n",
       "      <td>88</td>\n",
       "      <td>32.0</td>\n",
       "      <td>88.0</td>\n",
       "      <td>31.0</td>\n",
       "      <td>89.0</td>\n",
       "      <td>0.418423</td>\n",
       "      <td>0.680473</td>\n",
       "      <td>0.112426</td>\n",
       "      <td>0.002959</td>\n",
       "    </tr>\n",
       "    <tr>\n",
       "      <th>hsa-mir-105-1</th>\n",
       "      <td>9.118391</td>\n",
       "      <td>0.403809</td>\n",
       "      <td>32</td>\n",
       "      <td>91</td>\n",
       "      <td>35.0</td>\n",
       "      <td>88.0</td>\n",
       "      <td>32.0</td>\n",
       "      <td>90.0</td>\n",
       "      <td>0.311059</td>\n",
       "      <td>0.277573</td>\n",
       "      <td>0.025005</td>\n",
       "      <td>0.003489</td>\n",
       "    </tr>\n",
       "    <tr>\n",
       "      <th>hsa-mir-1267</th>\n",
       "      <td>10.286651</td>\n",
       "      <td>0.538567</td>\n",
       "      <td>35</td>\n",
       "      <td>88</td>\n",
       "      <td>36.0</td>\n",
       "      <td>87.0</td>\n",
       "      <td>35.0</td>\n",
       "      <td>88.0</td>\n",
       "      <td>0.277677</td>\n",
       "      <td>0.010039</td>\n",
       "      <td>0.005625</td>\n",
       "      <td>0.031415</td>\n",
       "    </tr>\n",
       "    <tr>\n",
       "      <th>hsa-mir-1284</th>\n",
       "      <td>8.749062</td>\n",
       "      <td>0.461223</td>\n",
       "      <td>31</td>\n",
       "      <td>92</td>\n",
       "      <td>32.0</td>\n",
       "      <td>91.0</td>\n",
       "      <td>31.0</td>\n",
       "      <td>92.0</td>\n",
       "      <td>0.351590</td>\n",
       "      <td>0.212996</td>\n",
       "      <td>0.379061</td>\n",
       "      <td>0.003610</td>\n",
       "    </tr>\n",
       "    <tr>\n",
       "      <th>hsa-mir-1285-1</th>\n",
       "      <td>8.468313</td>\n",
       "      <td>0.288089</td>\n",
       "      <td>31</td>\n",
       "      <td>91</td>\n",
       "      <td>32.0</td>\n",
       "      <td>91.0</td>\n",
       "      <td>31.0</td>\n",
       "      <td>92.0</td>\n",
       "      <td>0.284421</td>\n",
       "      <td>0.001883</td>\n",
       "      <td>0.001674</td>\n",
       "      <td>0.021339</td>\n",
       "    </tr>\n",
       "    <tr>\n",
       "      <th>hsa-mir-1303</th>\n",
       "      <td>14.053040</td>\n",
       "      <td>0.397783</td>\n",
       "      <td>31</td>\n",
       "      <td>90</td>\n",
       "      <td>31.0</td>\n",
       "      <td>90.0</td>\n",
       "      <td>32.0</td>\n",
       "      <td>89.0</td>\n",
       "      <td>0.272460</td>\n",
       "      <td>0.001192</td>\n",
       "      <td>0.017878</td>\n",
       "      <td>0.005959</td>\n",
       "    </tr>\n",
       "    <tr>\n",
       "      <th>hsa-mir-1305</th>\n",
       "      <td>9.533964</td>\n",
       "      <td>0.404525</td>\n",
       "      <td>32</td>\n",
       "      <td>89</td>\n",
       "      <td>32.0</td>\n",
       "      <td>89.0</td>\n",
       "      <td>30.0</td>\n",
       "      <td>91.0</td>\n",
       "      <td>0.334187</td>\n",
       "      <td>0.006868</td>\n",
       "      <td>0.020147</td>\n",
       "      <td>0.001374</td>\n",
       "    </tr>\n",
       "    <tr>\n",
       "      <th>hsa-mir-152</th>\n",
       "      <td>10.100217</td>\n",
       "      <td>0.420164</td>\n",
       "      <td>32</td>\n",
       "      <td>90</td>\n",
       "      <td>31.0</td>\n",
       "      <td>91.0</td>\n",
       "      <td>32.0</td>\n",
       "      <td>90.0</td>\n",
       "      <td>0.368831</td>\n",
       "      <td>0.003660</td>\n",
       "      <td>0.000915</td>\n",
       "      <td>0.015006</td>\n",
       "    </tr>\n",
       "    <tr>\n",
       "      <th>hsa-mir-2681</th>\n",
       "      <td>10.878789</td>\n",
       "      <td>0.529542</td>\n",
       "      <td>31</td>\n",
       "      <td>91</td>\n",
       "      <td>31.0</td>\n",
       "      <td>91.0</td>\n",
       "      <td>32.0</td>\n",
       "      <td>90.0</td>\n",
       "      <td>0.285007</td>\n",
       "      <td>0.000997</td>\n",
       "      <td>0.017942</td>\n",
       "      <td>0.458261</td>\n",
       "    </tr>\n",
       "    <tr>\n",
       "      <th>hsa-mir-27a</th>\n",
       "      <td>11.110773</td>\n",
       "      <td>0.509294</td>\n",
       "      <td>31</td>\n",
       "      <td>92</td>\n",
       "      <td>31.0</td>\n",
       "      <td>92.0</td>\n",
       "      <td>32.0</td>\n",
       "      <td>91.0</td>\n",
       "      <td>0.277195</td>\n",
       "      <td>0.035463</td>\n",
       "      <td>0.078839</td>\n",
       "      <td>0.020223</td>\n",
       "    </tr>\n",
       "    <tr>\n",
       "      <th>hsa-mir-296</th>\n",
       "      <td>10.257131</td>\n",
       "      <td>0.473384</td>\n",
       "      <td>34</td>\n",
       "      <td>89</td>\n",
       "      <td>33.0</td>\n",
       "      <td>90.0</td>\n",
       "      <td>34.0</td>\n",
       "      <td>89.0</td>\n",
       "      <td>0.339624</td>\n",
       "      <td>0.075647</td>\n",
       "      <td>0.129962</td>\n",
       "      <td>0.004740</td>\n",
       "    </tr>\n",
       "    <tr>\n",
       "      <th>hsa-mir-3115</th>\n",
       "      <td>9.585521</td>\n",
       "      <td>0.401972</td>\n",
       "      <td>31</td>\n",
       "      <td>90</td>\n",
       "      <td>30.0</td>\n",
       "      <td>91.0</td>\n",
       "      <td>31.0</td>\n",
       "      <td>90.0</td>\n",
       "      <td>0.281312</td>\n",
       "      <td>1.531293</td>\n",
       "      <td>0.211405</td>\n",
       "      <td>0.030598</td>\n",
       "    </tr>\n",
       "    <tr>\n",
       "      <th>hsa-mir-3122</th>\n",
       "      <td>9.882348</td>\n",
       "      <td>0.357176</td>\n",
       "      <td>32</td>\n",
       "      <td>88</td>\n",
       "      <td>32.0</td>\n",
       "      <td>88.0</td>\n",
       "      <td>35.0</td>\n",
       "      <td>85.0</td>\n",
       "      <td>0.259342</td>\n",
       "      <td>0.013557</td>\n",
       "      <td>0.029300</td>\n",
       "      <td>0.016327</td>\n",
       "    </tr>\n",
       "    <tr>\n",
       "      <th>hsa-mir-3128</th>\n",
       "      <td>12.393259</td>\n",
       "      <td>0.288329</td>\n",
       "      <td>32</td>\n",
       "      <td>91</td>\n",
       "      <td>34.0</td>\n",
       "      <td>89.0</td>\n",
       "      <td>32.0</td>\n",
       "      <td>91.0</td>\n",
       "      <td>0.276092</td>\n",
       "      <td>0.000925</td>\n",
       "      <td>0.000749</td>\n",
       "      <td>0.054025</td>\n",
       "    </tr>\n",
       "    <tr>\n",
       "      <th>hsa-mir-3129</th>\n",
       "      <td>8.065621</td>\n",
       "      <td>0.363383</td>\n",
       "      <td>31</td>\n",
       "      <td>90</td>\n",
       "      <td>31.0</td>\n",
       "      <td>92.0</td>\n",
       "      <td>33.0</td>\n",
       "      <td>90.0</td>\n",
       "      <td>0.279744</td>\n",
       "      <td>0.016797</td>\n",
       "      <td>0.001350</td>\n",
       "      <td>0.014697</td>\n",
       "    </tr>\n",
       "    <tr>\n",
       "      <th>hsa-mir-3132</th>\n",
       "      <td>9.870412</td>\n",
       "      <td>0.472673</td>\n",
       "      <td>30</td>\n",
       "      <td>92</td>\n",
       "      <td>30.0</td>\n",
       "      <td>92.0</td>\n",
       "      <td>29.0</td>\n",
       "      <td>93.0</td>\n",
       "      <td>0.362975</td>\n",
       "      <td>0.051887</td>\n",
       "      <td>0.015723</td>\n",
       "      <td>0.004717</td>\n",
       "    </tr>\n",
       "    <tr>\n",
       "      <th>hsa-mir-3133</th>\n",
       "      <td>10.292462</td>\n",
       "      <td>0.370663</td>\n",
       "      <td>30</td>\n",
       "      <td>91</td>\n",
       "      <td>31.0</td>\n",
       "      <td>90.0</td>\n",
       "      <td>30.0</td>\n",
       "      <td>91.0</td>\n",
       "      <td>0.275229</td>\n",
       "      <td>0.028846</td>\n",
       "      <td>0.014423</td>\n",
       "      <td>0.221154</td>\n",
       "    </tr>\n",
       "    <tr>\n",
       "      <th>hsa-mir-3138</th>\n",
       "      <td>10.238588</td>\n",
       "      <td>0.330894</td>\n",
       "      <td>33</td>\n",
       "      <td>90</td>\n",
       "      <td>32.0</td>\n",
       "      <td>91.0</td>\n",
       "      <td>31.0</td>\n",
       "      <td>92.0</td>\n",
       "      <td>0.251197</td>\n",
       "      <td>0.003057</td>\n",
       "      <td>0.031217</td>\n",
       "      <td>0.293704</td>\n",
       "    </tr>\n",
       "    <tr>\n",
       "      <th>hsa-mir-3144</th>\n",
       "      <td>11.414009</td>\n",
       "      <td>0.459027</td>\n",
       "      <td>32</td>\n",
       "      <td>88</td>\n",
       "      <td>32.0</td>\n",
       "      <td>88.0</td>\n",
       "      <td>31.0</td>\n",
       "      <td>89.0</td>\n",
       "      <td>0.271546</td>\n",
       "      <td>0.012308</td>\n",
       "      <td>0.024615</td>\n",
       "      <td>1.389231</td>\n",
       "    </tr>\n",
       "    <tr>\n",
       "      <th>hsa-mir-3152</th>\n",
       "      <td>9.432947</td>\n",
       "      <td>0.346996</td>\n",
       "      <td>33</td>\n",
       "      <td>88</td>\n",
       "      <td>33.0</td>\n",
       "      <td>88.0</td>\n",
       "      <td>34.0</td>\n",
       "      <td>87.0</td>\n",
       "      <td>0.297979</td>\n",
       "      <td>0.003175</td>\n",
       "      <td>0.009524</td>\n",
       "      <td>0.208889</td>\n",
       "    </tr>\n",
       "    <tr>\n",
       "      <th>hsa-mir-3164</th>\n",
       "      <td>10.087025</td>\n",
       "      <td>0.554459</td>\n",
       "      <td>28</td>\n",
       "      <td>93</td>\n",
       "      <td>28.0</td>\n",
       "      <td>93.0</td>\n",
       "      <td>27.0</td>\n",
       "      <td>94.0</td>\n",
       "      <td>0.306149</td>\n",
       "      <td>0.006094</td>\n",
       "      <td>0.007618</td>\n",
       "      <td>0.047740</td>\n",
       "    </tr>\n",
       "    <tr>\n",
       "      <th>hsa-mir-3173</th>\n",
       "      <td>9.520906</td>\n",
       "      <td>0.493513</td>\n",
       "      <td>32</td>\n",
       "      <td>91</td>\n",
       "      <td>32.0</td>\n",
       "      <td>93.0</td>\n",
       "      <td>34.0</td>\n",
       "      <td>91.0</td>\n",
       "      <td>0.263819</td>\n",
       "      <td>0.057807</td>\n",
       "      <td>0.002828</td>\n",
       "      <td>0.057964</td>\n",
       "    </tr>\n",
       "    <tr>\n",
       "      <th>hsa-mir-3194</th>\n",
       "      <td>8.460883</td>\n",
       "      <td>0.355914</td>\n",
       "      <td>33</td>\n",
       "      <td>89</td>\n",
       "      <td>32.0</td>\n",
       "      <td>90.0</td>\n",
       "      <td>33.0</td>\n",
       "      <td>89.0</td>\n",
       "      <td>0.261364</td>\n",
       "      <td>0.020209</td>\n",
       "      <td>0.267275</td>\n",
       "      <td>0.711995</td>\n",
       "    </tr>\n",
       "    <tr>\n",
       "      <th>hsa-mir-342</th>\n",
       "      <td>11.148155</td>\n",
       "      <td>0.454730</td>\n",
       "      <td>28</td>\n",
       "      <td>92</td>\n",
       "      <td>29.0</td>\n",
       "      <td>93.0</td>\n",
       "      <td>28.0</td>\n",
       "      <td>94.0</td>\n",
       "      <td>0.340464</td>\n",
       "      <td>0.005243</td>\n",
       "      <td>0.001498</td>\n",
       "      <td>0.001498</td>\n",
       "    </tr>\n",
       "    <tr>\n",
       "      <th>hsa-mir-3618</th>\n",
       "      <td>7.375637</td>\n",
       "      <td>0.415887</td>\n",
       "      <td>33</td>\n",
       "      <td>88</td>\n",
       "      <td>32.0</td>\n",
       "      <td>89.0</td>\n",
       "      <td>30.0</td>\n",
       "      <td>91.0</td>\n",
       "      <td>0.311389</td>\n",
       "      <td>0.042087</td>\n",
       "      <td>0.022609</td>\n",
       "      <td>0.011478</td>\n",
       "    </tr>\n",
       "    <tr>\n",
       "      <th>hsa-mir-3659</th>\n",
       "      <td>10.337426</td>\n",
       "      <td>0.475507</td>\n",
       "      <td>32</td>\n",
       "      <td>88</td>\n",
       "      <td>29.0</td>\n",
       "      <td>91.0</td>\n",
       "      <td>31.0</td>\n",
       "      <td>89.0</td>\n",
       "      <td>0.342948</td>\n",
       "      <td>0.009527</td>\n",
       "      <td>0.080158</td>\n",
       "      <td>0.005585</td>\n",
       "    </tr>\n",
       "    <tr>\n",
       "      <th>hsa-mir-3667</th>\n",
       "      <td>14.491198</td>\n",
       "      <td>0.388370</td>\n",
       "      <td>33</td>\n",
       "      <td>90</td>\n",
       "      <td>33.0</td>\n",
       "      <td>92.0</td>\n",
       "      <td>35.0</td>\n",
       "      <td>90.0</td>\n",
       "      <td>0.256027</td>\n",
       "      <td>0.003593</td>\n",
       "      <td>0.004619</td>\n",
       "      <td>0.007442</td>\n",
       "    </tr>\n",
       "    <tr>\n",
       "      <th>hsa-mir-3672</th>\n",
       "      <td>10.636520</td>\n",
       "      <td>0.368714</td>\n",
       "      <td>33</td>\n",
       "      <td>88</td>\n",
       "      <td>32.0</td>\n",
       "      <td>89.0</td>\n",
       "      <td>33.0</td>\n",
       "      <td>88.0</td>\n",
       "      <td>0.251362</td>\n",
       "      <td>0.000978</td>\n",
       "      <td>0.006843</td>\n",
       "      <td>0.003910</td>\n",
       "    </tr>\n",
       "    <tr>\n",
       "      <th>hsa-mir-3681</th>\n",
       "      <td>9.905565</td>\n",
       "      <td>0.333938</td>\n",
       "      <td>32</td>\n",
       "      <td>89</td>\n",
       "      <td>32.0</td>\n",
       "      <td>89.0</td>\n",
       "      <td>35.0</td>\n",
       "      <td>86.0</td>\n",
       "      <td>0.280224</td>\n",
       "      <td>0.018417</td>\n",
       "      <td>0.017540</td>\n",
       "      <td>0.493971</td>\n",
       "    </tr>\n",
       "    <tr>\n",
       "      <th>hsa-mir-3684</th>\n",
       "      <td>10.781828</td>\n",
       "      <td>0.476951</td>\n",
       "      <td>31</td>\n",
       "      <td>90</td>\n",
       "      <td>32.0</td>\n",
       "      <td>89.0</td>\n",
       "      <td>31.0</td>\n",
       "      <td>90.0</td>\n",
       "      <td>0.393403</td>\n",
       "      <td>0.000657</td>\n",
       "      <td>0.007443</td>\n",
       "      <td>0.053196</td>\n",
       "    </tr>\n",
       "    <tr>\n",
       "      <th>hsa-mir-3944</th>\n",
       "      <td>5.966159</td>\n",
       "      <td>0.293736</td>\n",
       "      <td>30</td>\n",
       "      <td>92</td>\n",
       "      <td>30.0</td>\n",
       "      <td>92.0</td>\n",
       "      <td>29.0</td>\n",
       "      <td>93.0</td>\n",
       "      <td>0.281810</td>\n",
       "      <td>0.004800</td>\n",
       "      <td>0.000349</td>\n",
       "      <td>0.638799</td>\n",
       "    </tr>\n",
       "    <tr>\n",
       "      <th>hsa-mir-4321</th>\n",
       "      <td>5.906203</td>\n",
       "      <td>0.485819</td>\n",
       "      <td>31</td>\n",
       "      <td>90</td>\n",
       "      <td>31.0</td>\n",
       "      <td>90.0</td>\n",
       "      <td>32.0</td>\n",
       "      <td>89.0</td>\n",
       "      <td>0.271238</td>\n",
       "      <td>0.029412</td>\n",
       "      <td>0.068277</td>\n",
       "      <td>0.001050</td>\n",
       "    </tr>\n",
       "    <tr>\n",
       "      <th>hsa-mir-4423</th>\n",
       "      <td>8.501128</td>\n",
       "      <td>0.351959</td>\n",
       "      <td>32</td>\n",
       "      <td>88</td>\n",
       "      <td>32.0</td>\n",
       "      <td>89.0</td>\n",
       "      <td>33.0</td>\n",
       "      <td>88.0</td>\n",
       "      <td>0.317559</td>\n",
       "      <td>0.121495</td>\n",
       "      <td>4.392523</td>\n",
       "      <td>0.205607</td>\n",
       "    </tr>\n",
       "    <tr>\n",
       "      <th>hsa-mir-448</th>\n",
       "      <td>11.386688</td>\n",
       "      <td>0.411856</td>\n",
       "      <td>20</td>\n",
       "      <td>101</td>\n",
       "      <td>22.0</td>\n",
       "      <td>99.0</td>\n",
       "      <td>21.0</td>\n",
       "      <td>100.0</td>\n",
       "      <td>0.407434</td>\n",
       "      <td>0.003849</td>\n",
       "      <td>0.000214</td>\n",
       "      <td>0.006094</td>\n",
       "    </tr>\n",
       "    <tr>\n",
       "      <th>hsa-mir-4503</th>\n",
       "      <td>12.640063</td>\n",
       "      <td>0.438224</td>\n",
       "      <td>31</td>\n",
       "      <td>91</td>\n",
       "      <td>31.0</td>\n",
       "      <td>91.0</td>\n",
       "      <td>30.0</td>\n",
       "      <td>92.0</td>\n",
       "      <td>0.348858</td>\n",
       "      <td>0.004299</td>\n",
       "      <td>0.001612</td>\n",
       "      <td>0.129500</td>\n",
       "    </tr>\n",
       "    <tr>\n",
       "      <th>hsa-mir-4719</th>\n",
       "      <td>11.467533</td>\n",
       "      <td>0.553478</td>\n",
       "      <td>30</td>\n",
       "      <td>91</td>\n",
       "      <td>27.0</td>\n",
       "      <td>94.0</td>\n",
       "      <td>30.0</td>\n",
       "      <td>91.0</td>\n",
       "      <td>0.359607</td>\n",
       "      <td>0.010055</td>\n",
       "      <td>0.003352</td>\n",
       "      <td>0.012797</td>\n",
       "    </tr>\n",
       "    <tr>\n",
       "      <th>hsa-mir-4765</th>\n",
       "      <td>11.107995</td>\n",
       "      <td>0.288437</td>\n",
       "      <td>33</td>\n",
       "      <td>87</td>\n",
       "      <td>34.0</td>\n",
       "      <td>86.0</td>\n",
       "      <td>33.0</td>\n",
       "      <td>87.0</td>\n",
       "      <td>0.272007</td>\n",
       "      <td>0.000519</td>\n",
       "      <td>0.009860</td>\n",
       "      <td>0.002076</td>\n",
       "    </tr>\n",
       "    <tr>\n",
       "      <th>hsa-mir-4766</th>\n",
       "      <td>10.538787</td>\n",
       "      <td>0.400521</td>\n",
       "      <td>34</td>\n",
       "      <td>88</td>\n",
       "      <td>34.0</td>\n",
       "      <td>89.0</td>\n",
       "      <td>35.0</td>\n",
       "      <td>88.0</td>\n",
       "      <td>0.364666</td>\n",
       "      <td>0.009242</td>\n",
       "      <td>0.003395</td>\n",
       "      <td>0.010185</td>\n",
       "    </tr>\n",
       "    <tr>\n",
       "      <th>hsa-mir-4778</th>\n",
       "      <td>8.990777</td>\n",
       "      <td>0.564041</td>\n",
       "      <td>31</td>\n",
       "      <td>92</td>\n",
       "      <td>29.0</td>\n",
       "      <td>94.0</td>\n",
       "      <td>31.0</td>\n",
       "      <td>92.0</td>\n",
       "      <td>0.251808</td>\n",
       "      <td>0.005359</td>\n",
       "      <td>0.002679</td>\n",
       "      <td>0.014545</td>\n",
       "    </tr>\n",
       "    <tr>\n",
       "      <th>hsa-mir-4796</th>\n",
       "      <td>10.669168</td>\n",
       "      <td>0.377709</td>\n",
       "      <td>29</td>\n",
       "      <td>94</td>\n",
       "      <td>30.0</td>\n",
       "      <td>94.0</td>\n",
       "      <td>29.0</td>\n",
       "      <td>95.0</td>\n",
       "      <td>0.358172</td>\n",
       "      <td>0.002660</td>\n",
       "      <td>0.007979</td>\n",
       "      <td>0.058511</td>\n",
       "    </tr>\n",
       "    <tr>\n",
       "      <th>hsa-mir-5092</th>\n",
       "      <td>9.204997</td>\n",
       "      <td>0.306930</td>\n",
       "      <td>29</td>\n",
       "      <td>93</td>\n",
       "      <td>31.0</td>\n",
       "      <td>91.0</td>\n",
       "      <td>29.0</td>\n",
       "      <td>93.0</td>\n",
       "      <td>0.280389</td>\n",
       "      <td>0.014471</td>\n",
       "      <td>0.034930</td>\n",
       "      <td>2.152695</td>\n",
       "    </tr>\n",
       "    <tr>\n",
       "      <th>hsa-mir-511</th>\n",
       "      <td>8.260488</td>\n",
       "      <td>0.496579</td>\n",
       "      <td>32</td>\n",
       "      <td>89</td>\n",
       "      <td>31.0</td>\n",
       "      <td>91.0</td>\n",
       "      <td>32.0</td>\n",
       "      <td>90.0</td>\n",
       "      <td>0.261194</td>\n",
       "      <td>0.054207</td>\n",
       "      <td>0.029612</td>\n",
       "      <td>0.702104</td>\n",
       "    </tr>\n",
       "    <tr>\n",
       "      <th>hsa-mir-518e</th>\n",
       "      <td>10.415671</td>\n",
       "      <td>0.426348</td>\n",
       "      <td>31</td>\n",
       "      <td>89</td>\n",
       "      <td>31.0</td>\n",
       "      <td>89.0</td>\n",
       "      <td>30.0</td>\n",
       "      <td>90.0</td>\n",
       "      <td>0.275968</td>\n",
       "      <td>0.009545</td>\n",
       "      <td>0.041136</td>\n",
       "      <td>0.039545</td>\n",
       "    </tr>\n",
       "    <tr>\n",
       "      <th>hsa-mir-519a-2</th>\n",
       "      <td>11.184636</td>\n",
       "      <td>0.611019</td>\n",
       "      <td>30</td>\n",
       "      <td>90</td>\n",
       "      <td>30.0</td>\n",
       "      <td>90.0</td>\n",
       "      <td>28.0</td>\n",
       "      <td>89.0</td>\n",
       "      <td>0.311569</td>\n",
       "      <td>0.007624</td>\n",
       "      <td>0.007424</td>\n",
       "      <td>0.000201</td>\n",
       "    </tr>\n",
       "    <tr>\n",
       "      <th>hsa-mir-548ag-1</th>\n",
       "      <td>10.013888</td>\n",
       "      <td>0.626356</td>\n",
       "      <td>32</td>\n",
       "      <td>89</td>\n",
       "      <td>31.0</td>\n",
       "      <td>90.0</td>\n",
       "      <td>32.0</td>\n",
       "      <td>89.0</td>\n",
       "      <td>0.281376</td>\n",
       "      <td>0.001060</td>\n",
       "      <td>0.001060</td>\n",
       "      <td>0.072641</td>\n",
       "    </tr>\n",
       "    <tr>\n",
       "      <th>hsa-mir-548ai</th>\n",
       "      <td>8.367296</td>\n",
       "      <td>0.446244</td>\n",
       "      <td>31</td>\n",
       "      <td>90</td>\n",
       "      <td>30.0</td>\n",
       "      <td>91.0</td>\n",
       "      <td>31.0</td>\n",
       "      <td>90.0</td>\n",
       "      <td>0.290830</td>\n",
       "      <td>0.011111</td>\n",
       "      <td>0.020635</td>\n",
       "      <td>0.009524</td>\n",
       "    </tr>\n",
       "    <tr>\n",
       "      <th>hsa-mir-548aq</th>\n",
       "      <td>9.741228</td>\n",
       "      <td>0.438966</td>\n",
       "      <td>33</td>\n",
       "      <td>90</td>\n",
       "      <td>33.0</td>\n",
       "      <td>90.0</td>\n",
       "      <td>32.0</td>\n",
       "      <td>91.0</td>\n",
       "      <td>0.365742</td>\n",
       "      <td>0.000267</td>\n",
       "      <td>0.118635</td>\n",
       "      <td>0.050387</td>\n",
       "    </tr>\n",
       "    <tr>\n",
       "      <th>hsa-mir-548e</th>\n",
       "      <td>11.038812</td>\n",
       "      <td>0.576663</td>\n",
       "      <td>31</td>\n",
       "      <td>90</td>\n",
       "      <td>31.0</td>\n",
       "      <td>90.0</td>\n",
       "      <td>28.0</td>\n",
       "      <td>93.0</td>\n",
       "      <td>0.273986</td>\n",
       "      <td>0.001286</td>\n",
       "      <td>0.000845</td>\n",
       "      <td>0.007420</td>\n",
       "    </tr>\n",
       "    <tr>\n",
       "      <th>hsa-mir-548h-2</th>\n",
       "      <td>10.417520</td>\n",
       "      <td>0.402060</td>\n",
       "      <td>33</td>\n",
       "      <td>90</td>\n",
       "      <td>32.0</td>\n",
       "      <td>91.0</td>\n",
       "      <td>31.0</td>\n",
       "      <td>92.0</td>\n",
       "      <td>0.340298</td>\n",
       "      <td>0.000267</td>\n",
       "      <td>0.000133</td>\n",
       "      <td>0.072390</td>\n",
       "    </tr>\n",
       "    <tr>\n",
       "      <th>hsa-mir-548x</th>\n",
       "      <td>10.239379</td>\n",
       "      <td>0.543119</td>\n",
       "      <td>33</td>\n",
       "      <td>90</td>\n",
       "      <td>36.0</td>\n",
       "      <td>92.0</td>\n",
       "      <td>35.0</td>\n",
       "      <td>93.0</td>\n",
       "      <td>0.359700</td>\n",
       "      <td>0.006692</td>\n",
       "      <td>0.052581</td>\n",
       "      <td>0.003346</td>\n",
       "    </tr>\n",
       "    <tr>\n",
       "      <th>hsa-mir-5582</th>\n",
       "      <td>14.024865</td>\n",
       "      <td>0.375701</td>\n",
       "      <td>28</td>\n",
       "      <td>95</td>\n",
       "      <td>28.0</td>\n",
       "      <td>95.0</td>\n",
       "      <td>30.0</td>\n",
       "      <td>93.0</td>\n",
       "      <td>0.350617</td>\n",
       "      <td>0.000850</td>\n",
       "      <td>0.001274</td>\n",
       "      <td>0.009346</td>\n",
       "    </tr>\n",
       "    <tr>\n",
       "      <th>hsa-mir-5704</th>\n",
       "      <td>10.997048</td>\n",
       "      <td>0.437519</td>\n",
       "      <td>31</td>\n",
       "      <td>91</td>\n",
       "      <td>30.0</td>\n",
       "      <td>92.0</td>\n",
       "      <td>32.0</td>\n",
       "      <td>90.0</td>\n",
       "      <td>0.280266</td>\n",
       "      <td>0.005464</td>\n",
       "      <td>0.014572</td>\n",
       "      <td>0.165756</td>\n",
       "    </tr>\n",
       "    <tr>\n",
       "      <th>hsa-mir-624</th>\n",
       "      <td>9.174820</td>\n",
       "      <td>0.591211</td>\n",
       "      <td>33</td>\n",
       "      <td>91</td>\n",
       "      <td>33.0</td>\n",
       "      <td>90.0</td>\n",
       "      <td>32.0</td>\n",
       "      <td>91.0</td>\n",
       "      <td>0.268420</td>\n",
       "      <td>0.001658</td>\n",
       "      <td>0.001326</td>\n",
       "      <td>0.070623</td>\n",
       "    </tr>\n",
       "    <tr>\n",
       "      <th>hsa-mir-6718</th>\n",
       "      <td>9.761118</td>\n",
       "      <td>0.425584</td>\n",
       "      <td>30</td>\n",
       "      <td>91</td>\n",
       "      <td>31.0</td>\n",
       "      <td>90.0</td>\n",
       "      <td>27.0</td>\n",
       "      <td>94.0</td>\n",
       "      <td>0.255089</td>\n",
       "      <td>0.000706</td>\n",
       "      <td>0.006351</td>\n",
       "      <td>0.116090</td>\n",
       "    </tr>\n",
       "    <tr>\n",
       "      <th>hsa-mir-676</th>\n",
       "      <td>9.854631</td>\n",
       "      <td>0.383103</td>\n",
       "      <td>33</td>\n",
       "      <td>88</td>\n",
       "      <td>32.0</td>\n",
       "      <td>88.0</td>\n",
       "      <td>33.0</td>\n",
       "      <td>87.0</td>\n",
       "      <td>0.299866</td>\n",
       "      <td>0.233708</td>\n",
       "      <td>0.788764</td>\n",
       "      <td>0.251685</td>\n",
       "    </tr>\n",
       "    <tr>\n",
       "      <th>hsa-mir-769</th>\n",
       "      <td>9.541800</td>\n",
       "      <td>0.304180</td>\n",
       "      <td>30</td>\n",
       "      <td>91</td>\n",
       "      <td>30.0</td>\n",
       "      <td>90.0</td>\n",
       "      <td>29.0</td>\n",
       "      <td>91.0</td>\n",
       "      <td>0.281247</td>\n",
       "      <td>0.211674</td>\n",
       "      <td>0.182168</td>\n",
       "      <td>0.008339</td>\n",
       "    </tr>\n",
       "    <tr>\n",
       "      <th>hsa-mir-876</th>\n",
       "      <td>10.860639</td>\n",
       "      <td>0.477950</td>\n",
       "      <td>31</td>\n",
       "      <td>91</td>\n",
       "      <td>31.0</td>\n",
       "      <td>93.0</td>\n",
       "      <td>33.0</td>\n",
       "      <td>91.0</td>\n",
       "      <td>0.400890</td>\n",
       "      <td>0.000423</td>\n",
       "      <td>0.002961</td>\n",
       "      <td>0.003807</td>\n",
       "    </tr>\n",
       "  </tbody>\n",
       "</table>\n",
       "</div>"
      ],
      "text/plain": [
       "                 Cleavage Efficiency  Cleavage Homogeneity  5' miRBase site  \\\n",
       "Pri-miRNA                                                                     \n",
       "hsa-mir-101-2              11.146716              0.486255               32   \n",
       "hsa-mir-105-1               9.118391              0.403809               32   \n",
       "hsa-mir-1267               10.286651              0.538567               35   \n",
       "hsa-mir-1284                8.749062              0.461223               31   \n",
       "hsa-mir-1285-1              8.468313              0.288089               31   \n",
       "hsa-mir-1303               14.053040              0.397783               31   \n",
       "hsa-mir-1305                9.533964              0.404525               32   \n",
       "hsa-mir-152                10.100217              0.420164               32   \n",
       "hsa-mir-2681               10.878789              0.529542               31   \n",
       "hsa-mir-27a                11.110773              0.509294               31   \n",
       "hsa-mir-296                10.257131              0.473384               34   \n",
       "hsa-mir-3115                9.585521              0.401972               31   \n",
       "hsa-mir-3122                9.882348              0.357176               32   \n",
       "hsa-mir-3128               12.393259              0.288329               32   \n",
       "hsa-mir-3129                8.065621              0.363383               31   \n",
       "hsa-mir-3132                9.870412              0.472673               30   \n",
       "hsa-mir-3133               10.292462              0.370663               30   \n",
       "hsa-mir-3138               10.238588              0.330894               33   \n",
       "hsa-mir-3144               11.414009              0.459027               32   \n",
       "hsa-mir-3152                9.432947              0.346996               33   \n",
       "hsa-mir-3164               10.087025              0.554459               28   \n",
       "hsa-mir-3173                9.520906              0.493513               32   \n",
       "hsa-mir-3194                8.460883              0.355914               33   \n",
       "hsa-mir-342                11.148155              0.454730               28   \n",
       "hsa-mir-3618                7.375637              0.415887               33   \n",
       "hsa-mir-3659               10.337426              0.475507               32   \n",
       "hsa-mir-3667               14.491198              0.388370               33   \n",
       "hsa-mir-3672               10.636520              0.368714               33   \n",
       "hsa-mir-3681                9.905565              0.333938               32   \n",
       "hsa-mir-3684               10.781828              0.476951               31   \n",
       "hsa-mir-3944                5.966159              0.293736               30   \n",
       "hsa-mir-4321                5.906203              0.485819               31   \n",
       "hsa-mir-4423                8.501128              0.351959               32   \n",
       "hsa-mir-448                11.386688              0.411856               20   \n",
       "hsa-mir-4503               12.640063              0.438224               31   \n",
       "hsa-mir-4719               11.467533              0.553478               30   \n",
       "hsa-mir-4765               11.107995              0.288437               33   \n",
       "hsa-mir-4766               10.538787              0.400521               34   \n",
       "hsa-mir-4778                8.990777              0.564041               31   \n",
       "hsa-mir-4796               10.669168              0.377709               29   \n",
       "hsa-mir-5092                9.204997              0.306930               29   \n",
       "hsa-mir-511                 8.260488              0.496579               32   \n",
       "hsa-mir-518e               10.415671              0.426348               31   \n",
       "hsa-mir-519a-2             11.184636              0.611019               30   \n",
       "hsa-mir-548ag-1            10.013888              0.626356               32   \n",
       "hsa-mir-548ai               8.367296              0.446244               31   \n",
       "hsa-mir-548aq               9.741228              0.438966               33   \n",
       "hsa-mir-548e               11.038812              0.576663               31   \n",
       "hsa-mir-548h-2             10.417520              0.402060               33   \n",
       "hsa-mir-548x               10.239379              0.543119               33   \n",
       "hsa-mir-5582               14.024865              0.375701               28   \n",
       "hsa-mir-5704               10.997048              0.437519               31   \n",
       "hsa-mir-624                 9.174820              0.591211               33   \n",
       "hsa-mir-6718                9.761118              0.425584               30   \n",
       "hsa-mir-676                 9.854631              0.383103               33   \n",
       "hsa-mir-769                 9.541800              0.304180               30   \n",
       "hsa-mir-876                10.860639              0.477950               31   \n",
       "\n",
       "                 3' miRBase site  5' cleavage site  3' cleavage site  \\\n",
       "Pri-miRNA                                                              \n",
       "hsa-mir-101-2                 88              32.0              88.0   \n",
       "hsa-mir-105-1                 91              35.0              88.0   \n",
       "hsa-mir-1267                  88              36.0              87.0   \n",
       "hsa-mir-1284                  92              32.0              91.0   \n",
       "hsa-mir-1285-1                91              32.0              91.0   \n",
       "hsa-mir-1303                  90              31.0              90.0   \n",
       "hsa-mir-1305                  89              32.0              89.0   \n",
       "hsa-mir-152                   90              31.0              91.0   \n",
       "hsa-mir-2681                  91              31.0              91.0   \n",
       "hsa-mir-27a                   92              31.0              92.0   \n",
       "hsa-mir-296                   89              33.0              90.0   \n",
       "hsa-mir-3115                  90              30.0              91.0   \n",
       "hsa-mir-3122                  88              32.0              88.0   \n",
       "hsa-mir-3128                  91              34.0              89.0   \n",
       "hsa-mir-3129                  90              31.0              92.0   \n",
       "hsa-mir-3132                  92              30.0              92.0   \n",
       "hsa-mir-3133                  91              31.0              90.0   \n",
       "hsa-mir-3138                  90              32.0              91.0   \n",
       "hsa-mir-3144                  88              32.0              88.0   \n",
       "hsa-mir-3152                  88              33.0              88.0   \n",
       "hsa-mir-3164                  93              28.0              93.0   \n",
       "hsa-mir-3173                  91              32.0              93.0   \n",
       "hsa-mir-3194                  89              32.0              90.0   \n",
       "hsa-mir-342                   92              29.0              93.0   \n",
       "hsa-mir-3618                  88              32.0              89.0   \n",
       "hsa-mir-3659                  88              29.0              91.0   \n",
       "hsa-mir-3667                  90              33.0              92.0   \n",
       "hsa-mir-3672                  88              32.0              89.0   \n",
       "hsa-mir-3681                  89              32.0              89.0   \n",
       "hsa-mir-3684                  90              32.0              89.0   \n",
       "hsa-mir-3944                  92              30.0              92.0   \n",
       "hsa-mir-4321                  90              31.0              90.0   \n",
       "hsa-mir-4423                  88              32.0              89.0   \n",
       "hsa-mir-448                  101              22.0              99.0   \n",
       "hsa-mir-4503                  91              31.0              91.0   \n",
       "hsa-mir-4719                  91              27.0              94.0   \n",
       "hsa-mir-4765                  87              34.0              86.0   \n",
       "hsa-mir-4766                  88              34.0              89.0   \n",
       "hsa-mir-4778                  92              29.0              94.0   \n",
       "hsa-mir-4796                  94              30.0              94.0   \n",
       "hsa-mir-5092                  93              31.0              91.0   \n",
       "hsa-mir-511                   89              31.0              91.0   \n",
       "hsa-mir-518e                  89              31.0              89.0   \n",
       "hsa-mir-519a-2                90              30.0              90.0   \n",
       "hsa-mir-548ag-1               89              31.0              90.0   \n",
       "hsa-mir-548ai                 90              30.0              91.0   \n",
       "hsa-mir-548aq                 90              33.0              90.0   \n",
       "hsa-mir-548e                  90              31.0              90.0   \n",
       "hsa-mir-548h-2                90              32.0              91.0   \n",
       "hsa-mir-548x                  90              36.0              92.0   \n",
       "hsa-mir-5582                  95              28.0              95.0   \n",
       "hsa-mir-5704                  91              30.0              92.0   \n",
       "hsa-mir-624                   91              33.0              90.0   \n",
       "hsa-mir-6718                  91              31.0              90.0   \n",
       "hsa-mir-676                   88              32.0              88.0   \n",
       "hsa-mir-769                   91              30.0              90.0   \n",
       "hsa-mir-876                   91              31.0              93.0   \n",
       "\n",
       "                 5' alternative site  3' alternative site  \\\n",
       "Pri-miRNA                                                   \n",
       "hsa-mir-101-2                   31.0                 89.0   \n",
       "hsa-mir-105-1                   32.0                 90.0   \n",
       "hsa-mir-1267                    35.0                 88.0   \n",
       "hsa-mir-1284                    31.0                 92.0   \n",
       "hsa-mir-1285-1                  31.0                 92.0   \n",
       "hsa-mir-1303                    32.0                 89.0   \n",
       "hsa-mir-1305                    30.0                 91.0   \n",
       "hsa-mir-152                     32.0                 90.0   \n",
       "hsa-mir-2681                    32.0                 90.0   \n",
       "hsa-mir-27a                     32.0                 91.0   \n",
       "hsa-mir-296                     34.0                 89.0   \n",
       "hsa-mir-3115                    31.0                 90.0   \n",
       "hsa-mir-3122                    35.0                 85.0   \n",
       "hsa-mir-3128                    32.0                 91.0   \n",
       "hsa-mir-3129                    33.0                 90.0   \n",
       "hsa-mir-3132                    29.0                 93.0   \n",
       "hsa-mir-3133                    30.0                 91.0   \n",
       "hsa-mir-3138                    31.0                 92.0   \n",
       "hsa-mir-3144                    31.0                 89.0   \n",
       "hsa-mir-3152                    34.0                 87.0   \n",
       "hsa-mir-3164                    27.0                 94.0   \n",
       "hsa-mir-3173                    34.0                 91.0   \n",
       "hsa-mir-3194                    33.0                 89.0   \n",
       "hsa-mir-342                     28.0                 94.0   \n",
       "hsa-mir-3618                    30.0                 91.0   \n",
       "hsa-mir-3659                    31.0                 89.0   \n",
       "hsa-mir-3667                    35.0                 90.0   \n",
       "hsa-mir-3672                    33.0                 88.0   \n",
       "hsa-mir-3681                    35.0                 86.0   \n",
       "hsa-mir-3684                    31.0                 90.0   \n",
       "hsa-mir-3944                    29.0                 93.0   \n",
       "hsa-mir-4321                    32.0                 89.0   \n",
       "hsa-mir-4423                    33.0                 88.0   \n",
       "hsa-mir-448                     21.0                100.0   \n",
       "hsa-mir-4503                    30.0                 92.0   \n",
       "hsa-mir-4719                    30.0                 91.0   \n",
       "hsa-mir-4765                    33.0                 87.0   \n",
       "hsa-mir-4766                    35.0                 88.0   \n",
       "hsa-mir-4778                    31.0                 92.0   \n",
       "hsa-mir-4796                    29.0                 95.0   \n",
       "hsa-mir-5092                    29.0                 93.0   \n",
       "hsa-mir-511                     32.0                 90.0   \n",
       "hsa-mir-518e                    30.0                 90.0   \n",
       "hsa-mir-519a-2                  28.0                 89.0   \n",
       "hsa-mir-548ag-1                 32.0                 89.0   \n",
       "hsa-mir-548ai                   31.0                 90.0   \n",
       "hsa-mir-548aq                   32.0                 91.0   \n",
       "hsa-mir-548e                    28.0                 93.0   \n",
       "hsa-mir-548h-2                  31.0                 92.0   \n",
       "hsa-mir-548x                    35.0                 93.0   \n",
       "hsa-mir-5582                    30.0                 93.0   \n",
       "hsa-mir-5704                    32.0                 90.0   \n",
       "hsa-mir-624                     32.0                 91.0   \n",
       "hsa-mir-6718                    27.0                 94.0   \n",
       "hsa-mir-676                     33.0                 87.0   \n",
       "hsa-mir-769                     29.0                 91.0   \n",
       "hsa-mir-876                     33.0                 91.0   \n",
       "\n",
       "                 Cleavage ratio of alternative site  5p nick processing  \\\n",
       "Pri-miRNA                                                                 \n",
       "hsa-mir-101-2                              0.418423            0.680473   \n",
       "hsa-mir-105-1                              0.311059            0.277573   \n",
       "hsa-mir-1267                               0.277677            0.010039   \n",
       "hsa-mir-1284                               0.351590            0.212996   \n",
       "hsa-mir-1285-1                             0.284421            0.001883   \n",
       "hsa-mir-1303                               0.272460            0.001192   \n",
       "hsa-mir-1305                               0.334187            0.006868   \n",
       "hsa-mir-152                                0.368831            0.003660   \n",
       "hsa-mir-2681                               0.285007            0.000997   \n",
       "hsa-mir-27a                                0.277195            0.035463   \n",
       "hsa-mir-296                                0.339624            0.075647   \n",
       "hsa-mir-3115                               0.281312            1.531293   \n",
       "hsa-mir-3122                               0.259342            0.013557   \n",
       "hsa-mir-3128                               0.276092            0.000925   \n",
       "hsa-mir-3129                               0.279744            0.016797   \n",
       "hsa-mir-3132                               0.362975            0.051887   \n",
       "hsa-mir-3133                               0.275229            0.028846   \n",
       "hsa-mir-3138                               0.251197            0.003057   \n",
       "hsa-mir-3144                               0.271546            0.012308   \n",
       "hsa-mir-3152                               0.297979            0.003175   \n",
       "hsa-mir-3164                               0.306149            0.006094   \n",
       "hsa-mir-3173                               0.263819            0.057807   \n",
       "hsa-mir-3194                               0.261364            0.020209   \n",
       "hsa-mir-342                                0.340464            0.005243   \n",
       "hsa-mir-3618                               0.311389            0.042087   \n",
       "hsa-mir-3659                               0.342948            0.009527   \n",
       "hsa-mir-3667                               0.256027            0.003593   \n",
       "hsa-mir-3672                               0.251362            0.000978   \n",
       "hsa-mir-3681                               0.280224            0.018417   \n",
       "hsa-mir-3684                               0.393403            0.000657   \n",
       "hsa-mir-3944                               0.281810            0.004800   \n",
       "hsa-mir-4321                               0.271238            0.029412   \n",
       "hsa-mir-4423                               0.317559            0.121495   \n",
       "hsa-mir-448                                0.407434            0.003849   \n",
       "hsa-mir-4503                               0.348858            0.004299   \n",
       "hsa-mir-4719                               0.359607            0.010055   \n",
       "hsa-mir-4765                               0.272007            0.000519   \n",
       "hsa-mir-4766                               0.364666            0.009242   \n",
       "hsa-mir-4778                               0.251808            0.005359   \n",
       "hsa-mir-4796                               0.358172            0.002660   \n",
       "hsa-mir-5092                               0.280389            0.014471   \n",
       "hsa-mir-511                                0.261194            0.054207   \n",
       "hsa-mir-518e                               0.275968            0.009545   \n",
       "hsa-mir-519a-2                             0.311569            0.007624   \n",
       "hsa-mir-548ag-1                            0.281376            0.001060   \n",
       "hsa-mir-548ai                              0.290830            0.011111   \n",
       "hsa-mir-548aq                              0.365742            0.000267   \n",
       "hsa-mir-548e                               0.273986            0.001286   \n",
       "hsa-mir-548h-2                             0.340298            0.000267   \n",
       "hsa-mir-548x                               0.359700            0.006692   \n",
       "hsa-mir-5582                               0.350617            0.000850   \n",
       "hsa-mir-5704                               0.280266            0.005464   \n",
       "hsa-mir-624                                0.268420            0.001658   \n",
       "hsa-mir-6718                               0.255089            0.000706   \n",
       "hsa-mir-676                                0.299866            0.233708   \n",
       "hsa-mir-769                                0.281247            0.211674   \n",
       "hsa-mir-876                                0.400890            0.000423   \n",
       "\n",
       "                 3p nick processing  Inverted processing  \n",
       "Pri-miRNA                                                 \n",
       "hsa-mir-101-2              0.112426             0.002959  \n",
       "hsa-mir-105-1              0.025005             0.003489  \n",
       "hsa-mir-1267               0.005625             0.031415  \n",
       "hsa-mir-1284               0.379061             0.003610  \n",
       "hsa-mir-1285-1             0.001674             0.021339  \n",
       "hsa-mir-1303               0.017878             0.005959  \n",
       "hsa-mir-1305               0.020147             0.001374  \n",
       "hsa-mir-152                0.000915             0.015006  \n",
       "hsa-mir-2681               0.017942             0.458261  \n",
       "hsa-mir-27a                0.078839             0.020223  \n",
       "hsa-mir-296                0.129962             0.004740  \n",
       "hsa-mir-3115               0.211405             0.030598  \n",
       "hsa-mir-3122               0.029300             0.016327  \n",
       "hsa-mir-3128               0.000749             0.054025  \n",
       "hsa-mir-3129               0.001350             0.014697  \n",
       "hsa-mir-3132               0.015723             0.004717  \n",
       "hsa-mir-3133               0.014423             0.221154  \n",
       "hsa-mir-3138               0.031217             0.293704  \n",
       "hsa-mir-3144               0.024615             1.389231  \n",
       "hsa-mir-3152               0.009524             0.208889  \n",
       "hsa-mir-3164               0.007618             0.047740  \n",
       "hsa-mir-3173               0.002828             0.057964  \n",
       "hsa-mir-3194               0.267275             0.711995  \n",
       "hsa-mir-342                0.001498             0.001498  \n",
       "hsa-mir-3618               0.022609             0.011478  \n",
       "hsa-mir-3659               0.080158             0.005585  \n",
       "hsa-mir-3667               0.004619             0.007442  \n",
       "hsa-mir-3672               0.006843             0.003910  \n",
       "hsa-mir-3681               0.017540             0.493971  \n",
       "hsa-mir-3684               0.007443             0.053196  \n",
       "hsa-mir-3944               0.000349             0.638799  \n",
       "hsa-mir-4321               0.068277             0.001050  \n",
       "hsa-mir-4423               4.392523             0.205607  \n",
       "hsa-mir-448                0.000214             0.006094  \n",
       "hsa-mir-4503               0.001612             0.129500  \n",
       "hsa-mir-4719               0.003352             0.012797  \n",
       "hsa-mir-4765               0.009860             0.002076  \n",
       "hsa-mir-4766               0.003395             0.010185  \n",
       "hsa-mir-4778               0.002679             0.014545  \n",
       "hsa-mir-4796               0.007979             0.058511  \n",
       "hsa-mir-5092               0.034930             2.152695  \n",
       "hsa-mir-511                0.029612             0.702104  \n",
       "hsa-mir-518e               0.041136             0.039545  \n",
       "hsa-mir-519a-2             0.007424             0.000201  \n",
       "hsa-mir-548ag-1            0.001060             0.072641  \n",
       "hsa-mir-548ai              0.020635             0.009524  \n",
       "hsa-mir-548aq              0.118635             0.050387  \n",
       "hsa-mir-548e               0.000845             0.007420  \n",
       "hsa-mir-548h-2             0.000133             0.072390  \n",
       "hsa-mir-548x               0.052581             0.003346  \n",
       "hsa-mir-5582               0.001274             0.009346  \n",
       "hsa-mir-5704               0.014572             0.165756  \n",
       "hsa-mir-624                0.001326             0.070623  \n",
       "hsa-mir-6718               0.006351             0.116090  \n",
       "hsa-mir-676                0.788764             0.251685  \n",
       "hsa-mir-769                0.182168             0.008339  \n",
       "hsa-mir-876                0.002961             0.003807  "
      ]
     },
     "execution_count": 205,
     "metadata": {},
     "output_type": "execute_result"
    }
   ],
   "source": [
    "s7[s7['Cleavage ratio of alternative site']>=.25]"
   ]
  },
  {
   "cell_type": "markdown",
   "metadata": {},
   "source": [
    "---"
   ]
  },
  {
   "cell_type": "markdown",
   "metadata": {},
   "source": [
    "## A. Global change induced by SRSF3"
   ]
  },
  {
   "cell_type": "code",
   "execution_count": 16,
   "metadata": {},
   "outputs": [],
   "source": [
    "def get_2d_density(data, xmin, xmax, ymin, ymax):\n",
    "    x, y = zip(*data)\n",
    "    xx, yy = np.mgrid[xmin:xmax:100j, ymin:ymax:100j]\n",
    "    positions = np.vstack([xx.ravel(), yy.ravel()])\n",
    "    values = np.vstack([x, y])\n",
    "    kernel = st.gaussian_kde(values)\n",
    "    f = np.reshape(kernel(positions).T, xx.shape)\n",
    "    return xx, yy, f"
   ]
  },
  {
   "cell_type": "code",
   "execution_count": 25,
   "metadata": {},
   "outputs": [
    {
     "name": "stdout",
     "output_type": "stream",
     "text": [
      "1800\n"
     ]
    }
   ],
   "source": [
    "overlap = [ m for m in effs if m in effsmp ]\n",
    "data1 = [ (effsmp[m],homsmp[m]) for m in overlap ]\n",
    "data2 = [ (effs[m],homs[m]) for m in overlap ]\n",
    "xmin, xmax = -3, 14\n",
    "ymin, ymax = -.25, 1.1\n",
    "xs1,ys1,f1 = get_2d_density(data1, xmin, xmax, ymin, ymax)\n",
    "xs2,ys2,f2 = get_2d_density(data2, xmin, xmax, ymin, ymax)\n",
    "blk = custom_cmap(['white','black'])\n",
    "red = custom_cmap(['white','#de2d26'])\n",
    "print len(overlap)"
   ]
  },
  {
   "cell_type": "code",
   "execution_count": 357,
   "metadata": {},
   "outputs": [
    {
     "data": {
      "image/png": "[encoded data removed]",
      "text/plain": [
       "<matplotlib.figure.Figure at 0x7f44367b7310>"
      ]
     },
     "metadata": {},
     "output_type": "display_data"
    }
   ],
   "source": [
    "fig, ax = plt.subplots(1, 1, figsize=(2.5,2.5))\n",
    "ax.contourf(xs1,ys1,f1,levels=[.05,.15,.3,.6,.99],cmap=blk,alpha=.5,\n",
    "            norm=colors.LogNorm(vmin=0.02, vmax=1),zorder=3)\n",
    "ax.contour(xs1,ys1,f1,levels=[.05,.15,.3,.6,.99],cmap=blk,linestyles='-',linewidths=1.3,\n",
    "          norm=colors.LogNorm(vmin=0.02, vmax=1),zorder=3)\n",
    "ax.contourf(xs2,ys2,f2,levels=[.05,.15,.3,.6,.99],cmap=red,alpha=.5,\n",
    "            norm=colors.LogNorm(vmin=0.02, vmax=1),zorder=3)\n",
    "ax.contour(xs2,ys2,f2,levels=[.05,.15,.3,.6,.99],cmap=red,linestyles='-',linewidths=1.3,\n",
    "          norm=colors.LogNorm(vmin=0.02, vmax=1), zorder=3)\n",
    "\n",
    "ax.set_xticks(range(-3,13,3))\n",
    "ax.set_yticks(np.arange(-.25,1.1,.25))\n",
    "ax.set_xlim(-3,13)\n",
    "ax.set_ylim(-.25,1.05)\n",
    "ax.set_xlabel('Cleavage efficiency', fontsize=11)\n",
    "ax.set_ylabel('Cleavage homogeneity', fontsize=11)\n",
    "ax.bar([-10],[0],color='grey',label='MP',alpha=.5)\n",
    "ax.bar([-10],[0],color='#de2d26',label='MP+SRSF3',alpha=.5)\n",
    "ax.grid(ls='-',lw=.5)\n",
    "ax.legend(loc=(.65,.02),handlelength=1,framealpha=1,handletextpad=.4)\n",
    "ax.text(11,.12,'N = %s'%len(overlap))\n",
    "fig.savefig(resultpath+'201118_f5a__global_change_v2.pdf')"
   ]
  },
  {
   "cell_type": "markdown",
   "metadata": {},
   "source": [
    "## S1A-B. Homogeneity & Efficiency"
   ]
  },
  {
   "cell_type": "code",
   "execution_count": 73,
   "metadata": {},
   "outputs": [],
   "source": [
    "mirls = [ [m for m in s7.index if m in drodep], \n",
    "          [m for m in s7.index if m in droind],\n",
    "          [m for m in s7.index if m not in list(drodep)+list(droind)] ]\n",
    "xsl = [ [effs[m] for m in ml] for ml in mirls ]\n",
    "ysl = [ [homs[m] for m in ml] for ml in mirls ]\n",
    "fcolors = [ '#80b1d3', '#666666', '#cbcbcb' ]\n",
    "ecolors = [ '#386cb0', '#252525','#bababa' ]\n",
    "labels = [ 'DROSHA-dep.', 'DROSHA-ind.', 'All' ]\n",
    "sizes = [ 10, 10, 6 ]\n",
    "zs = [ 3, 3, 2 ]\n",
    "xmin, xmax, xo = 0, 13, .3\n",
    "ymin, ymax, yo = 0, 1, .03\n",
    "xcut, ycut = 2.5, .25\n",
    "shade = '#a1d99b'"
   ]
  },
  {
   "cell_type": "code",
   "execution_count": 74,
   "metadata": {},
   "outputs": [
    {
     "data": {
      "image/png": "[encoded data removed]",
      "text/plain": [
       "<matplotlib.figure.Figure at 0x7f443ba5e650>"
      ]
     },
     "metadata": {},
     "output_type": "display_data"
    }
   ],
   "source": [
    "fig, ax = plt.subplots(1, 1, figsize=(2.5,2.5))\n",
    "for xs,ys,fc,ec,label,s,z in zip(xsl,ysl,fcolors,ecolors,labels,sizes,zs):\n",
    "    xs,ys = zip(*[ (x,y) for x,y in zip(xs,ys) if xmin<=x<xmax and ymin<=y<ymax])\n",
    "    ax.scatter(xs, ys, s=s, color=fc, edgecolor=ec, lw=.8, zorder=z, label=label, alpha=.9,\n",
    "              rasterized=True)\n",
    "ax.plot([xmin-xo,xmax],[ycut,ycut],'k--',zorder=2)\n",
    "ax.plot([xcut,xcut],[ymin-yo,ymax],'k--',zorder=2)\n",
    "\n",
    "ax.set_xlabel('Cleavage efficiency\\n[ MP + SRSF3 ]',fontsize=11)\n",
    "ax.set_ylabel('Cleavage homogeneity\\n[ MP + SRSF3 ]',fontsize=11)\n",
    "ax.set_xticks(range(xmin,xmax+1,2))\n",
    "#ax.set_xticks(np.arange(xmin,xmax+xo,1),minor=True)\n",
    "ax.set_yticks(np.arange(ymin,ymax+yo,.25))\n",
    "ax.set_xlim(xmin-xo, xmax+xo)\n",
    "ax.set_ylim(ymin-yo, ymax+yo)\n",
    "ax.spines['bottom'].set_bounds(xmin, xmax)\n",
    "ax.spines['left'].set_bounds(ymin, ymax)\n",
    "leg = ax.legend(loc=(-.3,1.05), handletextpad=0, ncol=3, columnspacing=.1)\n",
    "for handle in leg.legendHandles:\n",
    "    handle.set_sizes([30])\n",
    "\n",
    "gr = plt.Rectangle((xmin-xo/4,ymin-yo/4), xmax+xo/4, ymax+yo/4, fc='w'); ax.add_patch(gr)\n",
    "ax.grid(ls='-', lw=.5, clip_path=gr)\n",
    "fig.savefig(resultpath + '201124_s7a__cleavage_pattern_srsf3.pdf',dpi=300)"
   ]
  },
  {
   "cell_type": "markdown",
   "metadata": {},
   "source": [
    "## B. SRSF3-dependent miRNAs"
   ]
  },
  {
   "cell_type": "code",
   "execution_count": 34,
   "metadata": {},
   "outputs": [
    {
     "name": "stdout",
     "output_type": "stream",
     "text": [
      "[532, 227, 1041] [0.29555556 0.12611111 0.57833333]\n"
     ]
    }
   ],
   "source": [
    "mirls = [ [m for m in overlap if m in dcsmirsmp],\n",
    "          [m for m in overlap if m not in dcsmirsmp and m in dcsmirs],\n",
    "          [m for m in overlap if m in nodcs and m in nodcsmp] ]\n",
    "data = map(len,mirls)\n",
    "print data, np.array(data)/sum(data)\n",
    "colors = '#5291bd #1c9099 #bcbcbc'.split()"
   ]
  },
  {
   "cell_type": "code",
   "execution_count": 42,
   "metadata": {},
   "outputs": [
    {
     "data": {
      "image/png": "[encoded data removed]",
      "text/plain": [
       "<matplotlib.figure.Figure at 0x7f443b85d610>"
      ]
     },
     "metadata": {},
     "output_type": "display_data"
    }
   ],
   "source": [
    "fig, ax = plt.subplots(1, 1, figsize=(.8,2.5))\n",
    "bottom = 0\n",
    "for ml,c in zip(mirls,colors)[::-1]:\n",
    "    ax.bar([0],[len(ml)],bottom=bottom,color=c,edgecolor='w',lw=1.5)\n",
    "    bottom+=len(ml)\n",
    "ax.axis('off')\n",
    "fig.savefig(resultpath + '201125_f7b__fraction.pdf')"
   ]
  },
  {
   "cell_type": "code",
   "execution_count": 48,
   "metadata": {},
   "outputs": [
    {
     "name": "stdout",
     "output_type": "stream",
     "text": [
      "534 [23, 22]\n"
     ]
    }
   ],
   "source": [
    "majorcsmp = defaultdict(list)\n",
    "for mir in dcsmirsmp:\n",
    "    c5, c3 = s3.loc[mir,[\"5' cleavage site\",\"3' cleavage site\"]]\n",
    "    majorcsmp[mir].append(int(c5))\n",
    "    if s3.loc[mir,'Cleavage ratio of alternative site']>=HOMCUT:\n",
    "        majorcsmp[mir].append(int(s3.loc[mir,\"5' alternative site\"]))\n",
    "print len(majorcsmp), majorcsmp['hsa-let-7d']"
   ]
  },
  {
   "cell_type": "code",
   "execution_count": 98,
   "metadata": {},
   "outputs": [
    {
     "name": "stdout",
     "output_type": "stream",
     "text": [
      "749 [23]\n"
     ]
    }
   ],
   "source": [
    "majorcs = defaultdict(list)\n",
    "for mir in dcsmirs:\n",
    "    c5, c3 = s7.loc[mir,[\"5' cleavage site\",\"3' cleavage site\"]]\n",
    "    majorcs[mir].append(int(c5))\n",
    "    if s7.loc[mir,'Cleavage ratio of alternative site']>=HOMCUT:\n",
    "        majorcs[mir].append(int(s7.loc[mir,\"5' alternative site\"]))\n",
    "print len(majorcs), majorcs['hsa-let-7d']"
   ]
  },
  {
   "cell_type": "code",
   "execution_count": 100,
   "metadata": {},
   "outputs": [
    {
     "name": "stdout",
     "output_type": "stream",
     "text": [
      "519\n",
      "91\n"
     ]
    }
   ],
   "source": [
    "mirs = [ m for m in dcsmirs if m in dcsmirsmp ]\n",
    "print len(mirs)\n",
    "\n",
    "shifted = {}\n",
    "for m in mirs:\n",
    "    csmp = majorcsmp[m]\n",
    "    cs = majorcs[m]\n",
    "    if set(csmp)!=set(cs):\n",
    "        shifted[m] = (csmp, cs)\n",
    "print len(shifted)"
   ]
  },
  {
   "cell_type": "code",
   "execution_count": 105,
   "metadata": {},
   "outputs": [
    {
     "data": {
      "text/plain": [
       "0.17105263157894737"
      ]
     },
     "execution_count": 105,
     "metadata": {},
     "output_type": "execute_result"
    }
   ],
   "source": [
    "91/532"
   ]
  },
  {
   "cell_type": "code",
   "execution_count": 101,
   "metadata": {},
   "outputs": [
    {
     "data": {
      "text/plain": [
       "(-0.44000000000000006, 0.44000000000000006, 0.0, 558.6)"
      ]
     },
     "execution_count": 101,
     "metadata": {},
     "output_type": "execute_result"
    },
    {
     "data": {
      "image/png": "[encoded data removed]",
      "text/plain": [
       "<matplotlib.figure.Figure at 0x7f443c7b4750>"
      ]
     },
     "metadata": {},
     "output_type": "display_data"
    }
   ],
   "source": [
    "fig, ax = plt.subplots(1, 1, figsize=(.5,1))\n",
    "ax.bar([0],[91],bottom=0,color='#80b1d3',edgecolor='w',lw=1.5)\n",
    "ax.bar([0],[441],bottom=91,color='#386cb0',edgecolor='w',lw=1.5)\n",
    "\n",
    "ax.axis('off')\n",
    "#fig.savefig(resultpath + '201125_f7b__fraction_v2.pdf')"
   ]
  },
  {
   "cell_type": "code",
   "execution_count": 69,
   "metadata": {},
   "outputs": [
    {
     "name": "stdout",
     "output_type": "stream",
     "text": [
      "[344, 92, 62] [0.69076305 0.18473896 0.12449799] 498\n"
     ]
    }
   ],
   "source": [
    "dbov = [m for m in overlap if m in dbmirs]\n",
    "mirls = [ [m for m in overlap if m in dcsmirsmp and m in dbov],\n",
    "          [m for m in overlap if m not in dcsmirsmp and m in dcsmirs and m in dbov],\n",
    "          [m for m in overlap if m in nodcs and m in nodcsmp and m in dbov] ]\n",
    "data = map(len,mirls)\n",
    "print data, np.array(data)/sum(data), sum(data)\n",
    "colors = '#5291bd #1c9099 #bcbcbc'.split()"
   ]
  },
  {
   "cell_type": "code",
   "execution_count": 66,
   "metadata": {},
   "outputs": [
    {
     "data": {
      "image/png": "[encoded data removed]",
      "text/plain": [
       "<matplotlib.figure.Figure at 0x7f443c259490>"
      ]
     },
     "metadata": {},
     "output_type": "display_data"
    }
   ],
   "source": [
    "fig, ax = plt.subplots(1, 1, figsize=(.8,2.5))\n",
    "bottom = 0\n",
    "for ml,c in zip(mirls,colors)[::-1]:\n",
    "    ax.bar([0],[len(ml)],bottom=bottom,color=c,edgecolor='w',lw=1.5)\n",
    "    bottom+=len(ml)\n",
    "ax.axis('off')\n",
    "fig.savefig(resultpath + '201125_f7b__fraction_mirgenedb.pdf')"
   ]
  },
  {
   "cell_type": "code",
   "execution_count": 70,
   "metadata": {},
   "outputs": [
    {
     "name": "stdout",
     "output_type": "stream",
     "text": [
      "[205, 55, 35] [0.69491525 0.18644068 0.11864407] 295\n"
     ]
    }
   ],
   "source": [
    "depov = [m for m in overlap if m in drodep]\n",
    "mirls = [ [m for m in overlap if m in dcsmirsmp and m in depov],\n",
    "          [m for m in overlap if m not in dcsmirsmp and m in dcsmirs and m in depov],\n",
    "          [m for m in overlap if m in nodcs and m in nodcsmp and m in depov] ]\n",
    "data = map(len,mirls)\n",
    "print data, np.array(data)/sum(data), sum(data)\n",
    "colors = '#5291bd #1c9099 #bcbcbc'.split()"
   ]
  },
  {
   "cell_type": "code",
   "execution_count": 71,
   "metadata": {},
   "outputs": [
    {
     "data": {
      "text/plain": [
       "(-0.44000000000000006, 0.44000000000000006, 0.0, 309.75)"
      ]
     },
     "execution_count": 71,
     "metadata": {},
     "output_type": "execute_result"
    },
    {
     "data": {
      "image/png": "[encoded data removed]",
      "text/plain": [
       "<matplotlib.figure.Figure at 0x7f443bde6090>"
      ]
     },
     "metadata": {},
     "output_type": "display_data"
    }
   ],
   "source": [
    "fig, ax = plt.subplots(1, 1, figsize=(.8,2.5))\n",
    "bottom = 0\n",
    "for ml,c in zip(mirls,colors)[::-1]:\n",
    "    ax.bar([0],[len(ml)],bottom=bottom,color=c,edgecolor='w',lw=1.5)\n",
    "    bottom+=len(ml)\n",
    "ax.axis('off')\n",
    "#fig.savefig(resultpath + '201125_f7b__fraction_cano.pdf')"
   ]
  },
  {
   "cell_type": "code",
   "execution_count": 176,
   "metadata": {},
   "outputs": [
    {
     "name": "stdout",
     "output_type": "stream",
     "text": [
      "[3, 3, 248] [0.01181102 0.01181102 0.97637795] 254\n"
     ]
    }
   ],
   "source": [
    "indov = [m for m in overlap if m in droind]\n",
    "mirls = [ [m for m in overlap if m in dcsmirsmp and m in indov],\n",
    "          [m for m in overlap if m not in dcsmirsmp and m in dcsmirs and m in indov],\n",
    "          [m for m in overlap if m in nodcs and m in nodcsmp and m in indov] ]\n",
    "data = map(len,mirls)\n",
    "print data, np.array(data)/sum(data), sum(data)\n",
    "colors = '#5291bd #1c9099 #bcbcbc'.split()"
   ]
  },
  {
   "cell_type": "code",
   "execution_count": 188,
   "metadata": {},
   "outputs": [
    {
     "data": {
      "image/png": "[encoded data removed]",
      "text/plain": [
       "<matplotlib.figure.Figure at 0x7f2405b39f10>"
      ]
     },
     "metadata": {},
     "output_type": "display_data"
    }
   ],
   "source": [
    "fig, ax = plt.subplots(1, 1, figsize=(.8,2.5))\n",
    "bottom = 0\n",
    "for ml,c in zip(mirls,colors)[::-1]:\n",
    "    ax.bar([0],[len(ml)],bottom=bottom,color=c,edgecolor='w',lw=1)\n",
    "    bottom+=len(ml)\n",
    "ax.axis('off')\n",
    "fig.savefig(resultpath + '201125_f7b__fraction_noncano.pdf')"
   ]
  },
  {
   "cell_type": "markdown",
   "metadata": {},
   "source": [
    "## S2B. Dropped miRNAs"
   ]
  },
  {
   "cell_type": "code",
   "execution_count": 180,
   "metadata": {},
   "outputs": [
    {
     "name": "stdout",
     "output_type": "stream",
     "text": [
      "498 295 35\n"
     ]
    }
   ],
   "source": [
    "depov = [m for m in overlap if m in drodep]\n",
    "dbov = [m for m in overlap if m in dbmirs]\n",
    "dropped = [m for m in depov if m in nodcs and m in nodcsmp]\n",
    "print len(dbov), len(depov), len(dropped)"
   ]
  },
  {
   "cell_type": "code",
   "execution_count": 185,
   "metadata": {},
   "outputs": [
    {
     "data": {
      "text/html": [
       "<div>\n",
       "<style scoped>\n",
       "    .dataframe tbody tr th:only-of-type {\n",
       "        vertical-align: middle;\n",
       "    }\n",
       "\n",
       "    .dataframe tbody tr th {\n",
       "        vertical-align: top;\n",
       "    }\n",
       "\n",
       "    .dataframe thead th {\n",
       "        text-align: right;\n",
       "    }\n",
       "</style>\n",
       "<table border=\"1\" class=\"dataframe\">\n",
       "  <thead>\n",
       "    <tr style=\"text-align: right;\">\n",
       "      <th></th>\n",
       "      <th>Nearest neighbor</th>\n",
       "      <th>Distance (nt)</th>\n",
       "      <th>baseMean_siERH</th>\n",
       "      <th>log2FC_siERH</th>\n",
       "      <th>baseMean_DGCR8_dex2</th>\n",
       "      <th>log2FC_DGCR8_dex2</th>\n",
       "    </tr>\n",
       "  </thead>\n",
       "  <tbody>\n",
       "    <tr>\n",
       "      <th>hsa-let-7a-1</th>\n",
       "      <td>hsa-let-7f-1</td>\n",
       "      <td>311</td>\n",
       "      <td>8683.520704</td>\n",
       "      <td>0.21942</td>\n",
       "      <td>96660.145445</td>\n",
       "      <td>0.294661</td>\n",
       "    </tr>\n",
       "  </tbody>\n",
       "</table>\n",
       "</div>"
      ],
      "text/plain": [
       "             Nearest neighbor  Distance (nt)  baseMean_siERH  log2FC_siERH  \\\n",
       "hsa-let-7a-1     hsa-let-7f-1            311     8683.520704       0.21942   \n",
       "\n",
       "              baseMean_DGCR8_dex2  log2FC_DGCR8_dex2  \n",
       "hsa-let-7a-1         96660.145445           0.294661  "
      ]
     },
     "execution_count": 185,
     "metadata": {},
     "output_type": "execute_result"
    }
   ],
   "source": [
    "erh = pd.ExcelFile('supplementary/Kwon_2020_s1.xlsx')\n",
    "erhtbl = erh.parse('Merged',index_col=0,header=6)\n",
    "erhtbl.iloc[:1,:6]"
   ]
  },
  {
   "cell_type": "code",
   "execution_count": 182,
   "metadata": {},
   "outputs": [],
   "source": [
    "def is_dependent(mir, s, rcut, fcut):\n",
    "    return (mir in erhtbl[(erhtbl['baseMean_%s'%s]>=rcut)&(erhtbl['log2FC_%s'%s]<=fcut)].index)"
   ]
  },
  {
   "cell_type": "code",
   "execution_count": 183,
   "metadata": {},
   "outputs": [],
   "source": [
    "def is_sufficient(mir, s, rcut, fcut):\n",
    "    return (mir in erhtbl[(erhtbl['baseMean_%s'%s]>=rcut)].index)"
   ]
  },
  {
   "cell_type": "code",
   "execution_count": 186,
   "metadata": {},
   "outputs": [
    {
     "name": "stdout",
     "output_type": "stream",
     "text": [
      "19 15\n"
     ]
    }
   ],
   "source": [
    "ERHCUT, SAFBCUT = 800, 50\n",
    "FCCUT = -.5\n",
    "suff = [ m for m in dropped if is_sufficient(m,'siERH',ERHCUT,FCCUT) or\n",
    "                                  is_sufficient(m,'SAFB_DKO_293T',SAFBCUT,FCCUT) or \n",
    "                                  is_sufficient(m,'SAFB_DKO_Ramos',SAFBCUT,FCCUT) ]\n",
    "erhsafb = [ m for m in dropped if is_dependent(m,'siERH',ERHCUT,FCCUT) or\n",
    "                                  is_dependent(m,'SAFB_DKO_293T',SAFBCUT,FCCUT) or \n",
    "                                  is_dependent(m,'SAFB_DKO_Ramos',SAFBCUT,FCCUT) ]\n",
    "print len(suff), len(erhsafb)"
   ]
  },
  {
   "cell_type": "code",
   "execution_count": 187,
   "metadata": {},
   "outputs": [
    {
     "name": "stdout",
     "output_type": "stream",
     "text": [
      "mir-1343\n",
      "mir-1908\n",
      "mir-1914\n",
      "mir-3619\n",
      "mir-3911\n",
      "mir-3917\n",
      "mir-4326\n",
      "mir-4421\n",
      "mir-4473\n",
      "mir-4664\n",
      "mir-4783\n",
      "mir-5008\n",
      "mir-548o\n",
      "mir-592\n",
      "mir-6720\n",
      "mir-6723\n"
     ]
    }
   ],
   "source": [
    "print '\\n'.join(sorted([m for m in dropped if m not in suff])).replace('hsa-','')"
   ]
  },
  {
   "cell_type": "markdown",
   "metadata": {},
   "source": [
    "## C-E. Comparison with fCLIP"
   ]
  },
  {
   "cell_type": "code",
   "execution_count": 76,
   "metadata": {},
   "outputs": [],
   "source": [
    "fclipexcel = pd.ExcelFile('supplementary/Kim_2017_s2.xlsx')\n",
    "fclip293t = fclipexcel.parse('HEK293T_miRBase', index_col=0)\n",
    "fcliphela = fclipexcel.parse('HeLa_miRBase', index_col=0)\n",
    "both293t = fclip293t[(fclip293t['Group5p']!='Unidentified')\n",
    "                     &(fclip293t['Group3p']!='Unidentified')]\n",
    "bothhela = fcliphela[(fcliphela['Group5p']!='Unidentified')\n",
    "                     &(fcliphela['Group3p']!='Unidentified')]"
   ]
  },
  {
   "cell_type": "code",
   "execution_count": 626,
   "metadata": {},
   "outputs": [
    {
     "name": "stdout",
     "output_type": "stream",
     "text": [
      "227\n"
     ]
    }
   ],
   "source": [
    "newly = [m for m in overlap if m not in dcsmirsmp and m in dcsmirs]\n",
    "print len(newly)"
   ]
  },
  {
   "cell_type": "code",
   "execution_count": 643,
   "metadata": {},
   "outputs": [
    {
     "name": "stdout",
     "output_type": "stream",
     "text": [
      "239\n"
     ]
    }
   ],
   "source": [
    "fclcomp = {}\n",
    "for mir in dcsmirs:\n",
    "    c5, c3 = s7.loc[mir,[\"5' cleavage site\",\"3' cleavage site\"]]\n",
    "    srsf3cs = [c5]\n",
    "    if s7.loc[mir,'Cleavage ratio of alternative site']>=HOMCUT:\n",
    "        srsf3cs.append(int(s7.loc[mir,\"5' alternative site\"]))\n",
    "    \n",
    "    cs, ce, strand = s2.loc[mir,['Start','End','Strand']]\n",
    "    if strand=='+':\n",
    "        srsf3cs = [ int(cs+c-1) for c in srsf3cs ]\n",
    "    else:\n",
    "        srsf3cs = [ int(ce-c+1) for c in srsf3cs ]\n",
    "\n",
    "    if mir in both293t.index:\n",
    "        fcl5cs = map(int, str(both293t.loc[mir, 'fCLIPPosition5p']).split(';'))\n",
    "        fcl3cs = map(int, str(both293t.loc[mir, 'fCLIPPosition3p']).split(';'))\n",
    "    elif mir in bothhela.index:\n",
    "        fcl5cs = map(int, str(bothhela.loc[mir, 'fCLIPPosition5p']).split(';'))\n",
    "        fcl3cs = map(int, str(bothhela.loc[mir, 'fCLIPPosition3p']).split(';'))\n",
    "    else:\n",
    "        continue\n",
    "    fclcomp[mir] = (set(srsf3cs),set(fcl5cs))\n",
    "print len(fclcomp)"
   ]
  },
  {
   "cell_type": "code",
   "execution_count": 644,
   "metadata": {},
   "outputs": [
    {
     "name": "stdout",
     "output_type": "stream",
     "text": [
      "239 220\n"
     ]
    }
   ],
   "source": [
    "print len(fclcomp), len([mir for mir,(s,f) in fclcomp.items() if s<=f])"
   ]
  },
  {
   "cell_type": "code",
   "execution_count": 645,
   "metadata": {},
   "outputs": [
    {
     "data": {
      "text/plain": [
       "0.9205020920502092"
      ]
     },
     "execution_count": 645,
     "metadata": {},
     "output_type": "execute_result"
    }
   ],
   "source": [
    "220/239"
   ]
  },
  {
   "cell_type": "code",
   "execution_count": 136,
   "metadata": {},
   "outputs": [],
   "source": [
    "fclcomp = {}\n",
    "\n",
    "for mir in newly:\n",
    "    cs, ce, strand = s2.loc[mir,['Start','End','Strand']]\n",
    "    srsf3cs = majorcs[mir]\n",
    "    if strand=='+':\n",
    "        srsf3cs = [ int(cs+c-1) for c in srsf3cs ]\n",
    "    else:\n",
    "        srsf3cs = [ int(ce-c+1) for c in srsf3cs ]\n",
    "\n",
    "    if mir in both293t.index:\n",
    "        fcl5cs = map(int, str(both293t.loc[mir, 'fCLIPPosition5p']).split(';'))\n",
    "        fcl3cs = map(int, str(both293t.loc[mir, 'fCLIPPosition3p']).split(';'))\n",
    "    elif mir in bothhela.index:\n",
    "        fcl5cs = map(int, str(bothhela.loc[mir, 'fCLIPPosition5p']).split(';'))\n",
    "        fcl3cs = map(int, str(bothhela.loc[mir, 'fCLIPPosition3p']).split(';'))\n",
    "    else:\n",
    "        continue\n",
    "    \n",
    "    fclcomp[mir] = (set(srsf3cs),set(fcl5cs))"
   ]
  },
  {
   "cell_type": "code",
   "execution_count": 139,
   "metadata": {},
   "outputs": [
    {
     "name": "stdout",
     "output_type": "stream",
     "text": [
      "52 43\n"
     ]
    }
   ],
   "source": [
    "print len(fclcomp), len([mir for mir,(s,f) in fclcomp.items() if s<=f])"
   ]
  },
  {
   "cell_type": "code",
   "execution_count": 646,
   "metadata": {},
   "outputs": [
    {
     "data": {
      "image/png": "[encoded data removed]",
      "text/plain": [
       "<matplotlib.figure.Figure at 0x7f44366e6950>"
      ]
     },
     "metadata": {},
     "output_type": "display_data"
    }
   ],
   "source": [
    "fig, ax = plt.subplots(1, 1, figsize=(.5,1.5))\n",
    "ax.bar([0],[19],bottom=0,color='#ababab',edgecolor='w',lw=1.5)\n",
    "ax.bar([0],[220],bottom=19,color='#545454',edgecolor='w',lw=1.5)\n",
    "\n",
    "ax.axis('off')\n",
    "fig.savefig(resultpath + '201125_f7e__fclip_site_comp.pdf')"
   ]
  },
  {
   "cell_type": "code",
   "execution_count": 635,
   "metadata": {},
   "outputs": [
    {
     "data": {
      "image/png": "[encoded data removed]",
      "text/plain": [
       "<matplotlib.figure.Figure at 0x7f443686b750>"
      ]
     },
     "metadata": {},
     "output_type": "display_data"
    }
   ],
   "source": [
    "data = [226,13]\n",
    "colors = '#424242 #bcbcbc'.split()\n",
    "fig, ax = plt.subplots(1, 1, figsize=(1.5,1.5))\n",
    "ps,ts = ax.pie(data, colors=colors, wedgeprops={'linewidth':2,'edgecolor':'w'},\n",
    "               startangle=0)\n",
    "#fig.savefig(resultpath + '201123_f7e__fclip_site_comp_v2.pdf')"
   ]
  },
  {
   "cell_type": "code",
   "execution_count": 175,
   "metadata": {},
   "outputs": [
    {
     "data": {
      "text/plain": [
       "5"
      ]
     },
     "execution_count": 175,
     "metadata": {},
     "output_type": "execute_result"
    }
   ],
   "source": [
    "len([m for m in overlap if m in droind and m in dcsmirs])"
   ]
  },
  {
   "cell_type": "markdown",
   "metadata": {},
   "source": [
    "## E. 5p nick processing"
   ]
  },
  {
   "cell_type": "code",
   "execution_count": 14,
   "metadata": {},
   "outputs": [],
   "source": [
    "ps = 0.0002"
   ]
  },
  {
   "cell_type": "code",
   "execution_count": 648,
   "metadata": {},
   "outputs": [
    {
     "name": "stdout",
     "output_type": "stream",
     "text": [
      "955\n"
     ]
    }
   ],
   "source": [
    "mirs = s7['5p nick processing'].dropna().index\n",
    "mirs = [m for m in mirs if m in s5['5p nick processing'].dropna().index ]\n",
    "        #and s5.loc[m,'Set']=='set1']\n",
    "print len(mirs)"
   ]
  },
  {
   "cell_type": "code",
   "execution_count": 653,
   "metadata": {},
   "outputs": [
    {
     "name": "stdout",
     "output_type": "stream",
     "text": [
      "105\n"
     ]
    }
   ],
   "source": [
    "tmp = ['hsa-mir-17','hsa-mir-10b','hsa-mir-20a']\n",
    "xs = np.log2((s7.reindex(mirs)['5p nick processing']+s5.reindex(mirs)['5p nick processing'])/2)\n",
    "ys = np.log2((s7.reindex(mirs)['5p nick processing']+ps)/\\\n",
    "             (s5.reindex(mirs)['5p nick processing']+ps))\n",
    "xs2 = np.log2((s7.reindex(tmp)['5p nick processing']+s5.reindex(tmp)['5p nick processing'])/2)\n",
    "ys2 = np.log2((s7.reindex(tmp)['5p nick processing']+ps)/\\\n",
    "             (s5.reindex(tmp)['5p nick processing']+ps))\n",
    "data = zip(xs,ys)\n",
    "xmin, xmax = -12, 5\n",
    "ymin, ymax = -8, 5\n",
    "xsc,ysc,fc = get_2d_density(data, xmin, xmax, ymin, ymax)\n",
    "cmap = custom_cmap(['white','black'])\n",
    "print len([x for x in xs if x>0])"
   ]
  },
  {
   "cell_type": "code",
   "execution_count": 655,
   "metadata": {},
   "outputs": [
    {
     "data": {
      "image/png": "[encoded data removed]",
      "text/plain": [
       "<matplotlib.figure.Figure at 0x7f4435e433d0>"
      ]
     },
     "metadata": {},
     "output_type": "display_data"
    }
   ],
   "source": [
    "fig, ax = plt.subplots(1, 1, figsize=(2.5,2.5))\n",
    "ax.scatter(xs,ys,s=5,alpha=.2,color='#969696',zorder=2,rasterized=True)\n",
    "ax.scatter(xs2,ys2,s=7,alpha=.7,color='#424242',zorder=3,rasterized=True)\n",
    "ax.contour(xsc,ysc,fc,cmap=cmap,zorder=2)\n",
    "ax.axhline(0,color='k',ls='--',lw=1)\n",
    "ax.axvline(0,color='k',ls='--',lw=1)\n",
    "ax.set_xlim(-12.5,5)\n",
    "ax.set_xlabel('log2 (mean 5p nick processing)')\n",
    "ax.set_ylabel('log2 (MP+SRSF3 / MP)')\n",
    "ax.grid(ls='-',lw=.5)\n",
    "ax.text(-11,-9,'N = %s'%len(xs))\n",
    "fig.savefig(resultpath + '201128_f7e__nick_v2.pdf',dpi=300)"
   ]
  },
  {
   "cell_type": "code",
   "execution_count": 315,
   "metadata": {},
   "outputs": [
    {
     "data": {
      "text/plain": [
       "[('hsa-mir-10a', 0.7532036365690953, -5.48416014111619),\n",
       " ('hsa-mir-10b', 3.0631286430098053, -4.482263317932566),\n",
       " ('hsa-mir-1197', 1.8324882052104972, -4.294355808302247),\n",
       " ('hsa-mir-128-1', 0.7684696282538835, -4.489501825548224),\n",
       " ('hsa-mir-17', 2.713676441962103, -8.993868496509595),\n",
       " ('hsa-mir-199a-2', 1.3810282113907608, -4.017153600324488),\n",
       " ('hsa-mir-20a', 0.29465881052648124, -5.590629417281033),\n",
       " ('hsa-mir-215', 0.8678011532962171, -5.700293048319834),\n",
       " ('hsa-mir-224', 0.20085814138450073, -4.927314135701518),\n",
       " ('hsa-mir-23b', 1.8692290629461117, -4.63904835494512),\n",
       " ('hsa-mir-29a', 3.4025637540223683, -5.459821889334257),\n",
       " ('hsa-mir-30b', 2.0116300896026753, -4.115358609364048),\n",
       " ('hsa-mir-3125', 0.4624770712962665, -4.512051118956914),\n",
       " ('hsa-mir-3936', 2.1024892581772487, -4.653132068386971),\n",
       " ('hsa-mir-433', 1.3065510172536017, -4.339290585535224),\n",
       " ('hsa-mir-517b', 0.23866330561633825, -8.973301258624135),\n",
       " ('hsa-mir-543', 1.0491311835909873, -4.44035535908542),\n",
       " ('hsa-mir-550a-3', 2.7597601769184914, -4.4900388497753685),\n",
       " ('hsa-mir-590', 0.40884357429134965, -4.222374682713883),\n",
       " ('hsa-mir-875', 0.5032643186802563, -4.29579247783642)]"
      ]
     },
     "execution_count": 315,
     "metadata": {},
     "output_type": "execute_result"
    }
   ],
   "source": [
    "[(m,x,y) for m,x,y in zip(mirs,xs,ys) if y<-4 and x>0]"
   ]
  },
  {
   "cell_type": "markdown",
   "metadata": {},
   "source": [
    "## F. 3p nick processing"
   ]
  },
  {
   "cell_type": "code",
   "execution_count": 12,
   "metadata": {},
   "outputs": [
    {
     "name": "stdout",
     "output_type": "stream",
     "text": [
      "955\n"
     ]
    }
   ],
   "source": [
    "mirs = s7['3p nick processing'].dropna().index\n",
    "mirs = [m for m in mirs if m in s5['3p nick processing'].dropna().index] \n",
    "        #and s5.loc[m,'Set']=='set1']\n",
    "print len(mirs)"
   ]
  },
  {
   "cell_type": "code",
   "execution_count": 17,
   "metadata": {},
   "outputs": [
    {
     "name": "stdout",
     "output_type": "stream",
     "text": [
      "35\n"
     ]
    }
   ],
   "source": [
    "tmp = ['hsa-mir-16-2','hsa-mir-128-1','hsa-mir-30c-2']\n",
    "xs = np.log2((s7.reindex(mirs)['3p nick processing']+s5.reindex(mirs)['3p nick processing'])/2)\n",
    "ys = np.log2((s7.reindex(mirs)['3p nick processing']+ps)/\\\n",
    "             (s5.reindex(mirs)['3p nick processing']+ps))\n",
    "xs2 = np.log2((s7.reindex(tmp)['3p nick processing']+s5.reindex(tmp)['3p nick processing'])/2)\n",
    "ys2 = np.log2((s7.reindex(tmp)['3p nick processing']+ps)/\\\n",
    "             (s5.reindex(tmp)['3p nick processing']+ps))\n",
    "data = zip(xs,ys)\n",
    "xmin, xmax = -12, 1\n",
    "ymin, ymax = -5, 5\n",
    "xsc,ysc,fc = get_2d_density(data, xmin, xmax, ymin, ymax)\n",
    "cmap = custom_cmap(['white','black'])\n",
    "print len([x for x in xs if x>0])"
   ]
  },
  {
   "cell_type": "code",
   "execution_count": 97,
   "metadata": {},
   "outputs": [],
   "source": [
    "import seaborn as sns"
   ]
  },
  {
   "cell_type": "code",
   "execution_count": 173,
   "metadata": {},
   "outputs": [
    {
     "name": "stdout",
     "output_type": "stream",
     "text": [
      "-0.5104123386784023 3.759506481805879e-64\n",
      "[('hsa-mir-142', -3.9625412567873095, 7.263280255613465), ('hsa-let-7c', -6.137476163859865, 9.337610473052235), ('hsa-mir-147b', -9.477369426847744, 9.598064502167977)]\n"
     ]
    }
   ],
   "source": [
    "ms = [ m for m in mirs if m in overlap ]\n",
    "mssub = [ 'hsa-mir-142','hsa-let-7c','hsa-mir-147b' ]\n",
    "#mssub = [ 'hsa-mir-17','hsa-mir-10b','hsa-mir-20a' ]\n",
    "#mssub =  ['hsa-mir-16-2','hsa-mir-128-1','hsa-mir-30c-2']\n",
    "xs = np.log2((s7.reindex(mstmp)['Inverted processing']+ps)/\\\n",
    "             (s6.reindex(mstmp)['Inverted processing']+ps))\n",
    "#xs = np.log2((s7.reindex(mstmp)['5p nick processing']+ps)/\\\n",
    "#             (s5.reindex(mstmp)['5p nick processing']+ps))\n",
    "ys = [ effs[m]-effsmp[m] for m in mstmp ]\n",
    "xssub = np.log2((s7.reindex(mssub)['Inverted processing']+ps)/\\\n",
    "                (s6.reindex(mssub)['Inverted processing']+ps))\n",
    "#xssub = np.log2((s7.reindex(mssub)['5p nick processing']+ps)/\\\n",
    "#                (s5.reindex(mssub)['5p nick processing']+ps))\n",
    "yssub = [ effs[m]-effsmp[m] for m in mssub ]\n",
    "data = zip(xs,ys)\n",
    "xmin, xmax = -5, 5\n",
    "ymin, ymax = -1, 10\n",
    "xsc,ysc,fc = get_2d_density(data, xmin, xmax, ymin, ymax)\n",
    "r, p = spearmanr(xs,ys)\n",
    "print r, p\n",
    "print zip(mssub,xssub,yssub)"
   ]
  },
  {
   "cell_type": "code",
   "execution_count": 174,
   "metadata": {},
   "outputs": [
    {
     "data": {
      "image/png": "[encoded data removed]",
      "text/plain": [
       "<matplotlib.figure.Figure at 0x7f24054b21d0>"
      ]
     },
     "metadata": {},
     "output_type": "display_data"
    }
   ],
   "source": [
    "fig, ax = plt.subplots(1, 1, figsize=(2.5,2.5))\n",
    "sns.regplot(x=xs, y=ys, color='#ababab',                            \n",
    "        scatter_kws={'s':5,'alpha':.5,'zorder':2,'rasterized':True,'facecolor':'None','lw':.8},\n",
    "        line_kws={'ls':'--','lw':1.5,'color':'k'}, ci=95)\n",
    "ax.scatter(xssub,yssub,s=7,color='k',zorder=3,rasterized=True, facecolor='None',lw=1)\n",
    "#ax.contour(xsc,ysc,fc,cmap=cmap,zorder=2)\n",
    "ax.axhline(0,color='k',ls='--',lw=.8)\n",
    "ax.axvline(0,color='k',ls='--',lw=.8)\n",
    "#ax.set_xlim(-7,7)\n",
    "#ax.set_xlim(-9.5,5)\n",
    "ax.set_xlim(-10,7.5)\n",
    "ax.set_ylim(-5,13.5)\n",
    "ax.set_xlabel('log2 (MP+SRSF3 / MP)\\n[inverted processing]')\n",
    "ax.set_ylabel('log2 (MP+SRSF3 / MP)\\n[productive processing]')\n",
    "ax.grid(ls='-',lw=.5)\n",
    "ax.text(-9,-4,'N = %s\\n$R_s$ = %.2f'%(len(xs),r))\n",
    "fig.savefig(resultpath + '201130_s7__productive_change_inverted_v2.pdf',dpi=300)"
   ]
  },
  {
   "cell_type": "code",
   "execution_count": null,
   "metadata": {},
   "outputs": [],
   "source": []
  },
  {
   "cell_type": "code",
   "execution_count": 96,
   "metadata": {},
   "outputs": [
    {
     "data": {
      "image/png": "[encoded data removed]",
      "text/plain": [
       "<matplotlib.figure.Figure at 0x7f2407e9fe10>"
      ]
     },
     "metadata": {},
     "output_type": "display_data"
    }
   ],
   "source": [
    "fig, ax = plt.subplots(1, 1, figsize=(2.5,2.5))\n",
    "ax.scatter(xstmp,ystmp,s=5,alpha=.2,color='#969696',zorder=2,rasterized=True)\n",
    "ax.contour(xsc,ysc,fc,cmap=cmap,zorder=2)\n",
    "ax.axhline(0,color='k',ls='--',lw=1)\n",
    "ax.axvline(0,color='k',ls='--',lw=1)\n",
    "ax.set_xlim(-10.5,6)\n",
    "ax.set_ylim(-5,13.5)\n",
    "ax.set_xlabel('log2 (MP+SRSF3 / MP)\\n[inverted processing]')\n",
    "ax.set_ylabel('log2 (MP+SRSF3 / MP)\\n[productive processing]')\n",
    "ax.grid(ls='-',lw=.5)\n",
    "ax.text(-9,-4,'N = %s'%len(xstmp))\n",
    "fig.savefig(resultpath + '201130_s7__productive_change_inverted.pdf',dpi=300)"
   ]
  },
  {
   "cell_type": "code",
   "execution_count": 664,
   "metadata": {},
   "outputs": [
    {
     "data": {
      "image/png": "[encoded data removed]",
      "text/plain": [
       "<matplotlib.figure.Figure at 0x7f4434e844d0>"
      ]
     },
     "metadata": {},
     "output_type": "display_data"
    }
   ],
   "source": [
    "fig, ax = plt.subplots(1, 1, figsize=(2.5,2.5))\n",
    "ax.scatter(xs,ys,s=5,alpha=.2,color='#969696',zorder=2,rasterized=True)\n",
    "ax.scatter(xs2,ys2,s=7,alpha=.7,color='#424242',zorder=3,rasterized=True)\n",
    "ax.contour(xsc,ysc,fc,cmap=cmap,zorder=2)\n",
    "ax.axhline(0,color='k',ls='--',lw=1)\n",
    "ax.axvline(0,color='k',ls='--',lw=1)\n",
    "ax.set_xlim(-12.5,5)\n",
    "ax.set_xlabel('log2 (mean 3p nick processing)')\n",
    "ax.set_ylabel('log2 (MP+SRSF3 / MP)')\n",
    "ax.grid(ls='-',lw=.5)\n",
    "ax.text(-11,-6,'N = %s'%len(xs))\n",
    "fig.savefig(resultpath + '201128_f7e__nick3_v2.pdf',dpi=300)"
   ]
  },
  {
   "cell_type": "code",
   "execution_count": 502,
   "metadata": {},
   "outputs": [
    {
     "data": {
      "text/plain": [
       "[('hsa-mir-16-2', 1.219089103309968, -3.82856526884623),\n",
       " ('hsa-mir-92a-2', 0.9771565516456963, 0.5866235908158068),\n",
       " ('hsa-mir-128-1', 1.2987417764011029, -1.5116823640515122),\n",
       " ('hsa-mir-4268', 0.6768403086258605, -2.7805160346665976)]"
      ]
     },
     "execution_count": 502,
     "metadata": {},
     "output_type": "execute_result"
    }
   ],
   "source": [
    "zip(tmp, xs2, ys2)"
   ]
  },
  {
   "cell_type": "markdown",
   "metadata": {},
   "source": [
    "## H. Inverted processing"
   ]
  },
  {
   "cell_type": "code",
   "execution_count": 656,
   "metadata": {},
   "outputs": [
    {
     "name": "stdout",
     "output_type": "stream",
     "text": [
      "955\n"
     ]
    }
   ],
   "source": [
    "mirs = s7['Inverted processing'].dropna().index\n",
    "mirs = [m for m in mirs if m in s6['Inverted processing'].dropna().index]\n",
    "print len(mirs)"
   ]
  },
  {
   "cell_type": "code",
   "execution_count": 658,
   "metadata": {},
   "outputs": [
    {
     "name": "stdout",
     "output_type": "stream",
     "text": [
      "283\n"
     ]
    }
   ],
   "source": [
    "tmp = ['hsa-mir-142','hsa-let-7c','hsa-mir-147b','hsa-mir-146a']\n",
    "xs = np.log2((s7.reindex(mirs)['Inverted processing']+s6.reindex(mirs)['Inverted processing'])/2)\n",
    "ys = np.log2((s7.reindex(mirs)['Inverted processing']+ps)/\\\n",
    "             (s6.reindex(mirs)['Inverted processing']+ps))\n",
    "xs2 = np.log2((s7.reindex(tmp)['Inverted processing']+s6.reindex(tmp)['Inverted processing'])/2)\n",
    "ys2 = np.log2((s7.reindex(tmp)['Inverted processing']+ps)/\\\n",
    "             (s6.reindex(tmp)['Inverted processing']+ps))\n",
    "data = zip(xs,ys)\n",
    "xmin, xmax = -12, 5\n",
    "ymin, ymax = -8, 5\n",
    "xsc,ysc,fc = get_2d_density(data, xmin, xmax, ymin, ymax)\n",
    "print len([x for x in xs if x>0])"
   ]
  },
  {
   "cell_type": "code",
   "execution_count": 659,
   "metadata": {},
   "outputs": [
    {
     "data": {
      "text/plain": [
       "[('hsa-mir-142', 2.1814170485820945, -3.9625412567873095),\n",
       " ('hsa-let-7c', 5.351965064213164, -6.137476163859865),\n",
       " ('hsa-mir-147b', 5.644199490023744, -9.477369426847744),\n",
       " ('hsa-mir-146a', 6.367656065333252, -3.611344876140645)]"
      ]
     },
     "execution_count": 659,
     "metadata": {},
     "output_type": "execute_result"
    }
   ],
   "source": [
    "zip(tmp, xs2, ys2)"
   ]
  },
  {
   "cell_type": "code",
   "execution_count": 661,
   "metadata": {},
   "outputs": [
    {
     "data": {
      "image/png": "[encoded data removed]",
      "text/plain": [
       "<matplotlib.figure.Figure at 0x7f4434b680d0>"
      ]
     },
     "metadata": {},
     "output_type": "display_data"
    }
   ],
   "source": [
    "fig, ax = plt.subplots(1, 1, figsize=(2.5,2.5))\n",
    "ax.scatter(xs,ys,s=5,alpha=.2,color='#969696',zorder=2,rasterized=True)\n",
    "ax.scatter(xs2,ys2,s=7,alpha=.7,color='#424242',zorder=3,rasterized=True)\n",
    "ax.contour(xsc,ysc,fc,cmap=cmap,zorder=2)\n",
    "ax.axhline(0,color='k',ls='--',lw=1)\n",
    "ax.axvline(0,color='k',ls='--',lw=1)\n",
    "ax.set_xlim(-14,10.5)\n",
    "ax.set_xlabel('log2 (mean inverted processing)')\n",
    "ax.set_ylabel('log2 (MP+SRSF3 / MP)')\n",
    "ax.grid(ls='-',lw=.5)\n",
    "ax.text(-12,-9.5,'N = %s'%len(xs))\n",
    "fig.savefig(resultpath + '201128_f7g__inverted_v2.pdf',dpi=300)"
   ]
  },
  {
   "cell_type": "code",
   "execution_count": 337,
   "metadata": {},
   "outputs": [
    {
     "data": {
      "text/plain": [
       "[('hsa-mir-3619', 9.478597856588864, -2.542955496335204),\n",
       " ('hsa-mir-4473', 9.730050844638093, -0.6194563339706785),\n",
       " ('hsa-mir-451b', 9.538716121119409, -4.546494242833875),\n",
       " ('hsa-mir-5682', 9.623099611787419, -6.806133747499408),\n",
       " ('hsa-mir-939', 9.798854758178893, -3.622717415223808)]"
      ]
     },
     "execution_count": 337,
     "metadata": {},
     "output_type": "execute_result"
    }
   ],
   "source": [
    "[(m,x,y) for m,x,y in zip(mirs,xs,ys) if (x>9 and y<0)]"
   ]
  },
  {
   "cell_type": "code",
   "execution_count": null,
   "metadata": {},
   "outputs": [],
   "source": []
  },
  {
   "cell_type": "code",
   "execution_count": null,
   "metadata": {},
   "outputs": [],
   "source": []
  },
  {
   "cell_type": "code",
   "execution_count": null,
   "metadata": {},
   "outputs": [],
   "source": []
  },
  {
   "cell_type": "code",
   "execution_count": null,
   "metadata": {},
   "outputs": [],
   "source": []
  },
  {
   "cell_type": "markdown",
   "metadata": {},
   "source": [
    "# C. change by CNNC"
   ]
  },
  {
   "cell_type": "code",
   "execution_count": 192,
   "metadata": {},
   "outputs": [],
   "source": [
    "def find_cnnc(mir, cnnc):\n",
    "    if mir in dcsmirs:\n",
    "        pe = majorcs[mir][1]\n",
    "    else:\n",
    "        pe = preposition[mir][1]\n",
    "    cnncseq = constseqs[mir][pe+14:pe+22]\n",
    "    return bool(re.search(cnnc, cnncseq))"
   ]
  },
  {
   "cell_type": "code",
   "execution_count": 193,
   "metadata": {
    "scrolled": true
   },
   "outputs": [
    {
     "name": "stdout",
     "output_type": "stream",
     "text": [
      "749 (25, 96)\n"
     ]
    }
   ],
   "source": [
    "majorcs = {}\n",
    "for mir in dcsmirs:\n",
    "    c5, c3 = s7.loc[[mir],[\"5' cleavage site\",\"3' cleavage site\"]].iloc[0]\n",
    "    majorcs[mir] = (int(c5),int(c3))\n",
    "print len(majorcs), majorcs['hsa-let-7a-1']"
   ]
  },
  {
   "cell_type": "code",
   "execution_count": 194,
   "metadata": {},
   "outputs": [
    {
     "name": "stdout",
     "output_type": "stream",
     "text": [
      "227\n"
     ]
    }
   ],
   "source": [
    "rescue = [m for m in overlap if m in dcsmirs and m in nodcsmp]\n",
    "print len(rescue)"
   ]
  },
  {
   "cell_type": "code",
   "execution_count": 195,
   "metadata": {},
   "outputs": [
    {
     "name": "stdout",
     "output_type": "stream",
     "text": [
      "254 157 63 7\n"
     ]
    }
   ],
   "source": [
    "nc = [ m for m in overlap if m in droind ]\n",
    "rescnnc = [ m for m in rescue if find_cnnc(m,'C[A-Z][A-Z]C') ]\n",
    "rescnnd = [ m for m in rescue if (find_cnnc(m,'C[A-Z][A-Z][^C]') \n",
    "            or find_cnnc(m,'[^C][A-Z][A-Z]C')) and m not in rescnnc ]\n",
    "rest = [ m for m in rescue if m not in rescnnc+rescnnd ]\n",
    "print len(nc), len(rescnnc), len(rescnnd), len(rest)"
   ]
  },
  {
   "cell_type": "code",
   "execution_count": 201,
   "metadata": {},
   "outputs": [
    {
     "name": "stdout",
     "output_type": "stream",
     "text": [
      "Ttest_indResult(statistic=2.5100756342542976, pvalue=0.013559537689817982) Ttest_indResult(statistic=0.5913620580561435, pvalue=0.5715681549982985)\n",
      "Ttest_indResult(statistic=-34.10886069966728, pvalue=1.149005824343114e-121) Ttest_indResult(statistic=-22.52541399816493, pvalue=1.3039494052899211e-67) Ttest_indResult(statistic=-10.643369321763485, pvalue=3.4994271195548443e-22)\n"
     ]
    }
   ],
   "source": [
    "mirls = [ nc, rescnnc, rescnnd, rest ]\n",
    "ysl = [[ effs[m]-effsmp[m] for m in ml ] for ml in mirls]\n",
    "cs = [ '#ababab','#6baed6','#9e9ac8','#fd8d3c' ]\n",
    "labels = [ 'DRO-\\nindep.','CNNC\\n(%s)'%len(mirls[1]),\n",
    "           'CNND\\n or DNNC\\n(%s)'%len(mirls[2]), 'Rest\\n(%s)'%len(mirls[3])]\n",
    "print ttest_ind(ysl[1],ysl[2],equal_var=False), ttest_ind(ysl[1],ysl[3],equal_var=False)\n",
    "print ttest_ind(ysl[0],ysl[1]), ttest_ind(ysl[0],ysl[2]), ttest_ind(ysl[0],ysl[3])"
   ]
  },
  {
   "cell_type": "code",
   "execution_count": 202,
   "metadata": {},
   "outputs": [
    {
     "name": "stdout",
     "output_type": "stream",
     "text": [
      "MannwhitneyuResult(statistic=6136.0, pvalue=0.005300438920961186)\n",
      "MannwhitneyuResult(statistic=189.0, pvalue=0.5439296035946066)\n",
      "MannwhitneyuResult(statistic=586.0, pvalue=7.186700700377443e-62)\n",
      "MannwhitneyuResult(statistic=388.5, pvalue=4.901327243849988e-32)\n",
      "MannwhitneyuResult(statistic=3.0, pvalue=5.1657962606964256e-06)\n"
     ]
    }
   ],
   "source": [
    "print mannwhitneyu(ysl[1],ysl[2],alternative='two-sided')\n",
    "print mannwhitneyu(ysl[2],ysl[3],alternative='two-sided')\n",
    "print mannwhitneyu(ysl[0],ysl[1],alternative='two-sided')\n",
    "print mannwhitneyu(ysl[0],ysl[2],alternative='two-sided')\n",
    "print mannwhitneyu(ysl[0],ysl[3],alternative='two-sided')"
   ]
  },
  {
   "cell_type": "code",
   "execution_count": 483,
   "metadata": {},
   "outputs": [
    {
     "data": {
      "image/png": "[encoded data removed]",
      "text/plain": [
       "<matplotlib.figure.Figure at 0x7f443b5b2dd0>"
      ]
     },
     "metadata": {},
     "output_type": "display_data"
    }
   ],
   "source": [
    "fig, ax = plt.subplots(1, 1, figsize=(3,2))\n",
    "bp = ax.boxplot(ysl[:3], widths=.7, sym='',boxprops={'linewidth':1.3},capprops={'linewidth':1.3},\n",
    "               medianprops={'linewidth':1.3,'color':'k'},whiskerprops={'linewidth':1.3},\n",
    "               patch_artist=True,whis=1)\n",
    "ax.set_ylabel('$\\Delta$Cleavage Efficiency')\n",
    "for box,c in zip(bp['boxes'],cs):\n",
    "    box.set_facecolor(c)\n",
    "xs = [4,3.9,4.1,4.05,3.95,4.15,3.85]\n",
    "ax.scatter(xs, sorted(ysl[3]),s=7,color='k')\n",
    "    \n",
    "ax.set_xticks(range(1,1+len(mirls)))\n",
    "ax.set_xticklabels(labels)\n",
    "ax.yaxis.grid(ls='-',lw=.5)\n",
    "ax.set_xlim(.5,4.5)\n",
    "fig.savefig(resultpath + '201123_s7c__cnnc.pdf')"
   ]
  },
  {
   "cell_type": "code",
   "execution_count": 496,
   "metadata": {},
   "outputs": [
    {
     "name": "stdout",
     "output_type": "stream",
     "text": [
      "Ttest_indResult(statistic=4.403826612609833, pvalue=2.0936018795007208e-05) Ttest_indResult(statistic=1.441659316774231, pvalue=0.18654069988557587)\n",
      "Ttest_indResult(statistic=-26.58771229582808, pvalue=3.563451785476006e-91) Ttest_indResult(statistic=-19.547266737345016, pvalue=2.800546692749563e-56) Ttest_indResult(statistic=-7.3416428465070815, pvalue=2.7319308770655126e-12)\n"
     ]
    }
   ],
   "source": [
    "mirls = [ nc, rescnnc, rescnnd, rest ]\n",
    "ysl = [[ homs[m]-homsmp[m] for m in ml ] for ml in mirls]\n",
    "cs = [ '#ababab','#6baed6','#9e9ac8','#fd8d3c' ]\n",
    "labels = [ 'DRO-\\nindep.','CNNC\\n(%s)'%len(mirls[1]),\n",
    "           'CNND\\n or DNNC\\n(%s)'%len(mirls[2]), 'Rest\\n(%s)'%len(mirls[3])]\n",
    "print ttest_ind(ysl[1],ysl[2],equal_var=False), ttest_ind(ysl[2],ysl[3],equal_var=False)\n",
    "print ttest_ind(ysl[0],ysl[1]), ttest_ind(ysl[0],ysl[2]), ttest_ind(ysl[0],ysl[3])"
   ]
  },
  {
   "cell_type": "code",
   "execution_count": 489,
   "metadata": {},
   "outputs": [
    {
     "data": {
      "image/png": "[encoded data removed]",
      "text/plain": [
       "<matplotlib.figure.Figure at 0x7f44357e5c90>"
      ]
     },
     "metadata": {},
     "output_type": "display_data"
    }
   ],
   "source": [
    "fig, ax = plt.subplots(1, 1, figsize=(3,2))\n",
    "bp = ax.boxplot(ysl[:3], widths=.7, sym='',boxprops={'linewidth':1.3},capprops={'linewidth':1.3},\n",
    "               medianprops={'linewidth':1.3,'color':'k'},whiskerprops={'linewidth':1.3},\n",
    "               patch_artist=True,whis=1)\n",
    "ax.set_ylabel('$\\Delta$Cleavage Homogeneity')\n",
    "for box,c in zip(bp['boxes'],cs):\n",
    "    box.set_facecolor(c)\n",
    "xs = [4,3.9,4.1,4.05,3.95,4.15,4]\n",
    "ax.scatter(xs, sorted(ysl[3]),s=7,color='k')\n",
    "    \n",
    "ax.set_xticks(range(1,1+len(mirls)))\n",
    "ax.set_xticklabels(labels)\n",
    "ax.set_yticks([0,.2,.4,.6])\n",
    "ax.yaxis.grid(ls='-',lw=.5)\n",
    "ax.set_xlim(.5,4.5)\n",
    "fig.savefig(resultpath + '201123_s7c__cnnc_hom.pdf')"
   ]
  },
  {
   "cell_type": "code",
   "execution_count": 497,
   "metadata": {
    "scrolled": true
   },
   "outputs": [
    {
     "data": {
      "text/plain": [
       "['hsa-mir-3163',\n",
       " 'hsa-mir-3688-2',\n",
       " 'hsa-mir-450b',\n",
       " 'hsa-mir-617',\n",
       " 'hsa-mir-548d-2',\n",
       " 'hsa-mir-548f-2',\n",
       " 'hsa-mir-1302-6']"
      ]
     },
     "execution_count": 497,
     "metadata": {},
     "output_type": "execute_result"
    }
   ],
   "source": [
    "mirls[3]"
   ]
  },
  {
   "cell_type": "code",
   "execution_count": 611,
   "metadata": {},
   "outputs": [
    {
     "data": {
      "text/plain": [
       "62"
      ]
     },
     "execution_count": 611,
     "metadata": {},
     "output_type": "execute_result"
    }
   ],
   "source": [
    "len([m for m in dbov if m not in dcsmirs+dcsmirsmp])"
   ]
  },
  {
   "cell_type": "code",
   "execution_count": 619,
   "metadata": {},
   "outputs": [],
   "source": [
    "tmp = [m for m in dbov if m not in dcsmirs+dcsmirsmp and find_cnnc(m,'C[A-Z][A-Z]C')]\n",
    "sts = []\n",
    "for mir in tmp:\n",
    "    if mir in dcsmirs:\n",
    "        pe = majorcs[mir][1]\n",
    "    else:\n",
    "        pe = preposition[mir][1]\n",
    "    cnncseq = constseqs[mir][pe+14:pe+22]\n",
    "    cnncstr = s4.loc[mir,'Secondary structure'][pe+14:pe+22]\n",
    "    cnncstr = [1 if s=='M' else 0 for s in cnncstr]\n",
    "    sts.append(cnncstr)"
   ]
  },
  {
   "cell_type": "code",
   "execution_count": 621,
   "metadata": {},
   "outputs": [],
   "source": [
    "tmp = [m for m in dbov if m in dcsmirs+dcsmirsmp and find_cnnc(m,'C[A-Z][A-Z]C')]\n",
    "sts2 = []\n",
    "for mir in tmp:\n",
    "    if mir in dcsmirs:\n",
    "        pe = majorcs[mir][1]\n",
    "    else:\n",
    "        pe = preposition[mir][1]\n",
    "    cnncseq = constseqs[mir][pe+14:pe+22]\n",
    "    cnncstr = s4.loc[mir,'Secondary structure'][pe+14:pe+22]\n",
    "    cnncstr = [1 if s=='M' else 0 for s in cnncstr]\n",
    "    sts2.append(cnncstr)"
   ]
  },
  {
   "cell_type": "code",
   "execution_count": 623,
   "metadata": {},
   "outputs": [
    {
     "data": {
      "image/png": "[encoded data removed]",
      "text/plain": [
       "<matplotlib.figure.Figure at 0x7f44a8820250>"
      ]
     },
     "metadata": {},
     "output_type": "display_data"
    }
   ],
   "source": [
    "plt.plot(map(np.average,zip(*sts)),label='Nonp, DB & CNNC')\n",
    "plt.plot(map(np.average,zip(*sts2)),label='Prod, DB & CNNC')\n",
    "plt.legend()\n",
    "plt.savefig(resultpath + 'tmp.pdf')"
   ]
  },
  {
   "cell_type": "code",
   "execution_count": 197,
   "metadata": {},
   "outputs": [
    {
     "name": "stdout",
     "output_type": "stream",
     "text": [
      " 532 1268 304 228 485 783\n"
     ]
    }
   ],
   "source": [
    "prod = [ m for m in overlap if m in dcsmirsmp ]\n",
    "nonp = [ m for m in overlap if m in nodcsmp ]\n",
    "nonpnc = [ m for m in nonp if m ]\n",
    "\n",
    "noncnnc = [ m for m in nonp if find_cnnc(m,'C[A-Z][A-Z]C') ]\n",
    "nonnocn = [ m for m in nonp if m not in noncnnc]\n",
    "procnnc = [ m for m in prod if find_cnnc(m,'C[A-Z][A-Z]C') ]\n",
    "pronocn = [ m for m in prod if m not in procnnc ]\n",
    "\n",
    "print len(prod), len(nonp), len(procnnc), len(pronocn), len(noncnnc), len(nonnocn)"
   ]
  },
  {
   "cell_type": "code",
   "execution_count": 204,
   "metadata": {},
   "outputs": [
    {
     "name": "stdout",
     "output_type": "stream",
     "text": [
      "2.31912965573409e-17\n",
      "0.0024544432961594817\n",
      "1.6902984986869288e-91\n"
     ]
    }
   ],
   "source": [
    "mirls = [ nonnocn, noncnnc, pronocn, procnnc ]\n",
    "ysl = [[ effs[m]-effsmp[m] for m in ml ] for ml in mirls]\n",
    "#ysl = [[homs[m]-homsmp[m] for m in ml ] for ml in mirls]\n",
    "#cs = [ '#bababa','#f4a582','#bababa','#f4a582' ]\n",
    "cs = [ '#bababa','#757575','#bababa','#757575' ]\n",
    "labels = [ 'No\\nCNNC','CNNC','No\\nCNNC','CNNC' ]\n",
    "print mannwhitneyu(ysl[0],ysl[1],alternative='two-sided')[1] \n",
    "print mannwhitneyu(ysl[2],ysl[3],alternative='two-sided')[1]\n",
    "print mannwhitneyu(ysl[0]+ysl[1],ysl[2]+ysl[3],alternative='two-sided')[1]\n",
    "\n",
    "#print ttest_ind(ysl[0],ysl[1],equal_var=False)[1] \n",
    "#print ttest_ind(ysl[2],ysl[3],equal_var=False)[1]\n",
    "#print ttest_ind(ysl[0]+ysl[1],ysl[2]+ysl[3],equal_var=False)[1]"
   ]
  },
  {
   "cell_type": "code",
   "execution_count": 189,
   "metadata": {},
   "outputs": [],
   "source": [
    "ttest_ind?"
   ]
  },
  {
   "cell_type": "code",
   "execution_count": 666,
   "metadata": {},
   "outputs": [
    {
     "data": {
      "image/png": "[encoded data removed]",
      "text/plain": [
       "<matplotlib.figure.Figure at 0x7f4434e84650>"
      ]
     },
     "metadata": {},
     "output_type": "display_data"
    }
   ],
   "source": [
    "fig, ax = plt.subplots(1, 1, figsize=(2.2,2.2))\n",
    "bp = ax.boxplot(ysl, widths=.7, sym='',boxprops={'linewidth':1.3},capprops={'linewidth':1.3},\n",
    "               medianprops={'linewidth':1.3,'color':'k'},whiskerprops={'linewidth':1.3},\n",
    "               patch_artist=True)\n",
    "#ax.errorbar(range(1,5), map(np.average,ysl), yerr=map(sem,ysl))\n",
    "ax.set_ylabel('$\\Delta$Cleavage efficiency')\n",
    "for box,c in zip(bp['boxes'],cs):\n",
    "    box.set_facecolor(c)\n",
    "#xs = [4,3.9,4.1,4.05,3.95,4.15,3.85]\n",
    "#ax.scatter(xs, sorted(ysl[3]),s=7,color='k')\n",
    "    \n",
    "ax.set_xticks(range(1,1+len(mirls)))\n",
    "ax.set_xticklabels(labels)\n",
    "ax.yaxis.grid(ls='-',lw=.5)\n",
    "ax.set_xlim(.5,4.5)\n",
    "fig.savefig(resultpath + '201128_s7a__cnnc_eff.pdf')"
   ]
  },
  {
   "cell_type": "code",
   "execution_count": 203,
   "metadata": {},
   "outputs": [
    {
     "name": "stdout",
     "output_type": "stream",
     "text": [
      "1.5301905552507557e-16\n",
      "0.00014804851608187398\n",
      "1.5354789846400088e-10\n"
     ]
    }
   ],
   "source": [
    "mirls = [ nonnocn, noncnnc, pronocn, procnnc ]\n",
    "#ysl = [[ effs[m]-effsmp[m] for m in ml ] for ml in mirls]\n",
    "#ysl = [[abs(homs[m]-homsmp[m]) for m in ml ] for ml in mirls]\n",
    "ysl = [[homs[m]-homsmp[m] for m in ml ] for ml in mirls]\n",
    "print mannwhitneyu(ysl[0],ysl[1],alternative='two-sided')[1] \n",
    "print mannwhitneyu(ysl[2],ysl[3],alternative='two-sided')[1]\n",
    "print mannwhitneyu(ysl[0]+ysl[1],ysl[2]+ysl[3],alternative='two-sided')[1]"
   ]
  },
  {
   "cell_type": "code",
   "execution_count": 673,
   "metadata": {},
   "outputs": [
    {
     "data": {
      "image/png": "[encoded data removed]",
      "text/plain": [
       "<matplotlib.figure.Figure at 0x7f4435b43550>"
      ]
     },
     "metadata": {},
     "output_type": "display_data"
    }
   ],
   "source": [
    "fig, ax = plt.subplots(1, 1, figsize=(2.2,2.2))\n",
    "bp = ax.boxplot(ysl, widths=.7, sym='',boxprops={'linewidth':1.3},capprops={'linewidth':1.3},\n",
    "               medianprops={'linewidth':1.3,'color':'k'},whiskerprops={'linewidth':1.3},\n",
    "               patch_artist=True)\n",
    "#ax.errorbar(range(1,5), map(np.average,ysl), yerr=map(sem,ysl))\n",
    "ax.set_ylabel('$\\Delta$Cleavage homogeneity')\n",
    "for box,c in zip(bp['boxes'],cs):\n",
    "    box.set_facecolor(c)\n",
    "#xs = [4,3.9,4.1,4.05,3.95,4.15,3.85]\n",
    "#ax.scatter(xs, sorted(ysl[3]),s=7,color='k')\n",
    "    \n",
    "ax.set_xticks(range(1,1+len(mirls)))\n",
    "ax.set_xticklabels(labels)\n",
    "ax.yaxis.grid(ls='-',lw=.5)\n",
    "ax.set_xlim(.5,4.5)\n",
    "fig.savefig(resultpath + '201128_s7c__cnnc_hom.pdf')"
   ]
  },
  {
   "cell_type": "code",
   "execution_count": null,
   "metadata": {},
   "outputs": [],
   "source": []
  },
  {
   "cell_type": "code",
   "execution_count": 674,
   "metadata": {},
   "outputs": [
    {
     "data": {
      "text/plain": [
       "(33, 89)"
      ]
     },
     "execution_count": 674,
     "metadata": {},
     "output_type": "execute_result"
    }
   ],
   "source": [
    "majorcs['hsa-mir-142']"
   ]
  },
  {
   "cell_type": "code",
   "execution_count": 677,
   "metadata": {},
   "outputs": [
    {
     "data": {
      "text/plain": [
       "Cleavage Efficiency                    3.313092\n",
       "Cleavage Homogeneity                   0.307937\n",
       "5' miRBase site                       31.000000\n",
       "3' miRBase site                       89.000000\n",
       "5' cleavage site                      30.000000\n",
       "3' cleavage site                      91.000000\n",
       "5' alternative site                   28.000000\n",
       "3' alternative site                   90.000000\n",
       "Alternative Processing Ratio           0.056683\n",
       "Cleavage ratio of alternative site     0.056683\n",
       "Name: hsa-mir-17, dtype: float64"
      ]
     },
     "execution_count": 677,
     "metadata": {},
     "output_type": "execute_result"
    }
   ],
   "source": [
    "s3.loc['hsa-mir-17']"
   ]
  },
  {
   "cell_type": "code",
   "execution_count": null,
   "metadata": {},
   "outputs": [],
   "source": []
  },
  {
   "cell_type": "code",
   "execution_count": null,
   "metadata": {},
   "outputs": [],
   "source": []
  },
  {
   "cell_type": "code",
   "execution_count": null,
   "metadata": {},
   "outputs": [],
   "source": []
  },
  {
   "cell_type": "code",
   "execution_count": null,
   "metadata": {},
   "outputs": [],
   "source": []
  },
  {
   "cell_type": "code",
   "execution_count": null,
   "metadata": {},
   "outputs": [],
   "source": []
  },
  {
   "cell_type": "code",
   "execution_count": null,
   "metadata": {},
   "outputs": [],
   "source": []
  },
  {
   "cell_type": "code",
   "execution_count": 767,
   "metadata": {},
   "outputs": [
    {
     "name": "stdout",
     "output_type": "stream",
     "text": [
      "756\n"
     ]
    }
   ],
   "source": [
    "effdiff = {m:effs[m]-effsmp[m] for m in overlap }\n",
    "dcsov = [ m for m in overlap if m in dcsmirs or m in dcsmirsmp ]\n",
    "print len(dcsov)"
   ]
  },
  {
   "cell_type": "code",
   "execution_count": 1167,
   "metadata": {},
   "outputs": [],
   "source": [
    "flank3 = {}\n",
    "for mir in dcsov:\n",
    "    if mir in dcsmirs:\n",
    "        cs, ce = majorcs[mir]\n",
    "    else:\n",
    "        cs, ce = majorcsmp[mir]\n",
    "    priseq = constseqs[mir]\n",
    "    flank3[mir] = priseq[ce+14:min(125,ce+23)]"
   ]
  },
  {
   "cell_type": "code",
   "execution_count": 1168,
   "metadata": {},
   "outputs": [
    {
     "name": "stdout",
     "output_type": "stream",
     "text": [
      "[12, 15, 12, 15, 17, 13, 16, 27, 26, 17, 25, 19, 14, 14, 10, 16, 11, 18, 32, 29, 16, 23, 10, 14, 13, 14, 16, 11, 68, 23, 20, 27, 30, 26, 32, 24, 13, 22, 25, 23, 25, 11, 35, 36, 12, 21, 10, 10, 10, 31, 26, 21, 10, 16, 13, 17, 13, 23, 10, 19, 47, 39, 16, 30, 11, 14, 17, 18, 13, 17, 18, 10, 34, 38, 10, 36, 29, 38, 28, 40, 20, 34, 50, 35, 17, 21, 14, 12, 23, 48, 30, 11, 11, 12, 13, 25, 14, 13, 13, 10, 12, 20, 25, 10, 11, 10, 15, 24, 39, 21, 49, 23, 15, 27, 34, 25, 10, 10, 11, 24, 24, 16, 22, 21, 18, 18, 51, 10, 19, 18, 52, 19, 11, 26, 71, 34, 29, 16, 50, 14, 12, 37, 17, 23, 61, 13, 28, 18, 63, 37, 41, 22, 46, 17, 16, 13, 18, 10, 13, 13, 12, 20, 15, 23, 32, 39, 15, 38, 26, 47, 12, 10, 14, 31, 28, 12, 24]\n",
      "177\n"
     ]
    }
   ],
   "source": [
    "ncut = 10\n",
    "motifs = nmer(4)\n",
    "mirls = { motif:[m for m in dcsov if motif in flank3[m]] for motif in motifs }\n",
    "motifs = [motif for motif in motifs if len(mirls[motif])>=ncut]\n",
    "ysl = [ [effdiff[m] for m in mirls[motif]] for motif in motifs ]\n",
    "print map(len, ysl)\n",
    "\n",
    "ms, ysl = zip(*sorted(zip(motifs,ysl), key=lambda x:np.average(x[1])))\n",
    "ys = map(np.average, ysl)\n",
    "es = map(sem, ysl)\n",
    "xs = range(len(motifs))\n",
    "print len(ms)\n",
    "xssub = [ x for x,m in zip(xs,ms) if re.search('C[A-Z][A-Z]C',m)]\n",
    "yssub = [ y for y,m in zip(ys,ms) if re.search('C[A-Z][A-Z]C',m)]\n",
    "mssub = [ m for y,m in zip(ys,ms) if re.search('C[A-Z][A-Z]C',m)]"
   ]
  },
  {
   "cell_type": "code",
   "execution_count": 1150,
   "metadata": {},
   "outputs": [
    {
     "data": {
      "image/png": "[encoded data removed]",
      "text/plain": [
       "<matplotlib.figure.Figure at 0x7f41a06a63d0>"
      ]
     },
     "metadata": {},
     "output_type": "display_data"
    }
   ],
   "source": [
    "fig, ax = plt.subplots(1, 1, figsize=(3.2,2.2))\n",
    "#ax.errorbar(xs,ys,yerr=es)\n",
    "ax.scatter(xs,ys,edgecolor='#858585',zorder=2,s=5,lw=1,facecolor='None')\n",
    "ax.scatter(xssub,yssub,color='#08519c',lw=0,zorder=2,s=20,marker='o',label='CNNC')\n",
    "for x,y,m in zip(xssub,yssub,mssub):\n",
    "    ax.text(x,y+.1,m,rotation=90,ha='center',fontsize=8,va='bottom')\n",
    "ax.set_xticks(range(0,len(ms),50))\n",
    "ax.set_ylim(5,7.4)\n",
    "ax.set_yticks(range(5,8))\n",
    "ax.set_xlabel('Tetramer motifs')\n",
    "ax.set_ylabel('$\\Delta$Cleavage Efficiency')\n",
    "ax.yaxis.grid(ls='-',lw=.5)\n",
    "ax.legend(loc=(.65,.02),handletextpad=.1)\n",
    "ax.spines['bottom'].set_bounds(0,len(ms)+2)\n",
    "#fig.savefig(resultpath+ '201119_f6d__motif.pdf')"
   ]
  },
  {
   "cell_type": "code",
   "execution_count": 957,
   "metadata": {},
   "outputs": [
    {
     "name": "stdout",
     "output_type": "stream",
     "text": [
      "6.421031898293488 5.8428662899542685\n"
     ]
    }
   ],
   "source": [
    "print ys[-58], ys[58]"
   ]
  },
  {
   "cell_type": "code",
   "execution_count": 1169,
   "metadata": {
    "scrolled": true
   },
   "outputs": [],
   "source": [
    "tbl = pd.DataFrame(index=list('ATGC'),columns=range(4))\n",
    "n = 50\n",
    "sres = ms[-n:]\n",
    "for i in range(4):\n",
    "    for nuc in 'ATGC':\n",
    "        tbl.loc[nuc,i] = len([sre for sre in sres if sre[i]==nuc])/n"
   ]
  },
  {
   "cell_type": "code",
   "execution_count": 1153,
   "metadata": {},
   "outputs": [
    {
     "data": {
      "text/html": [
       "<div>\n",
       "<style scoped>\n",
       "    .dataframe tbody tr th:only-of-type {\n",
       "        vertical-align: middle;\n",
       "    }\n",
       "\n",
       "    .dataframe tbody tr th {\n",
       "        vertical-align: top;\n",
       "    }\n",
       "\n",
       "    .dataframe thead th {\n",
       "        text-align: right;\n",
       "    }\n",
       "</style>\n",
       "<table border=\"1\" class=\"dataframe\">\n",
       "  <thead>\n",
       "    <tr style=\"text-align: right;\">\n",
       "      <th></th>\n",
       "      <th>0</th>\n",
       "      <th>1</th>\n",
       "      <th>2</th>\n",
       "      <th>3</th>\n",
       "    </tr>\n",
       "  </thead>\n",
       "  <tbody>\n",
       "    <tr>\n",
       "      <th>A</th>\n",
       "      <td>0.24</td>\n",
       "      <td>0.28</td>\n",
       "      <td>0.28</td>\n",
       "      <td>0.36</td>\n",
       "    </tr>\n",
       "    <tr>\n",
       "      <th>T</th>\n",
       "      <td>0.34</td>\n",
       "      <td>0.24</td>\n",
       "      <td>0.26</td>\n",
       "      <td>0.24</td>\n",
       "    </tr>\n",
       "    <tr>\n",
       "      <th>G</th>\n",
       "      <td>0.08</td>\n",
       "      <td>0.1</td>\n",
       "      <td>0.16</td>\n",
       "      <td>0.12</td>\n",
       "    </tr>\n",
       "    <tr>\n",
       "      <th>C</th>\n",
       "      <td>0.34</td>\n",
       "      <td>0.38</td>\n",
       "      <td>0.3</td>\n",
       "      <td>0.28</td>\n",
       "    </tr>\n",
       "  </tbody>\n",
       "</table>\n",
       "</div>"
      ],
      "text/plain": [
       "      0     1     2     3\n",
       "A  0.24  0.28  0.28  0.36\n",
       "T  0.34  0.24  0.26  0.24\n",
       "G  0.08   0.1  0.16  0.12\n",
       "C  0.34  0.38   0.3  0.28"
      ]
     },
     "execution_count": 1153,
     "metadata": {},
     "output_type": "execute_result"
    }
   ],
   "source": [
    "tbl"
   ]
  },
  {
   "cell_type": "code",
   "execution_count": 1170,
   "metadata": {},
   "outputs": [
    {
     "data": {
      "text/plain": [
       "(-0.5, 3.5, 0.0, 1.0)"
      ]
     },
     "execution_count": 1170,
     "metadata": {},
     "output_type": "execute_result"
    },
    {
     "data": {
      "image/png": "[encoded data removed]",
      "text/plain": [
       "<matplotlib.figure.Figure at 0x7f41720ab190>"
      ]
     },
     "metadata": {},
     "output_type": "display_data"
    }
   ],
   "source": [
    "fig, ax = plt.subplots(1, 1, figsize=(2.5,1.2))\n",
    "for i in range(4):\n",
    "    freqd = tbl[i].to_dict()\n",
    "    sortf = sorted(freqd.items(),key=lambda x:x[1])\n",
    "    bottom = 0\n",
    "    for nuc, f in sortf:\n",
    "        letterAt(nuc.replace('T','U'),i,bottom,f,ax=ax)\n",
    "        bottom+=f\n",
    "        \n",
    "ax.set_xlim(-.5,3.5)\n",
    "ax.axis('off')\n",
    "#fig.savefig(resultpath + '201119_f6e__meme.pdf')"
   ]
  },
  {
   "cell_type": "code",
   "execution_count": 1116,
   "metadata": {
    "scrolled": true
   },
   "outputs": [],
   "source": [
    "tbl = pd.DataFrame(index=list('ATGC'),columns=range(4))\n",
    "n = 58\n",
    "sres = ms[:n]\n",
    "for i in range(4):\n",
    "    for nuc in 'ATGC':\n",
    "        tbl.loc[nuc,i] = len([sre for sre in sres if sre[i]==nuc])/n"
   ]
  },
  {
   "cell_type": "code",
   "execution_count": 1118,
   "metadata": {},
   "outputs": [
    {
     "data": {
      "image/png": "[encoded data removed]",
      "text/plain": [
       "<matplotlib.figure.Figure at 0x7f4170d51410>"
      ]
     },
     "metadata": {},
     "output_type": "display_data"
    }
   ],
   "source": [
    "fig, ax = plt.subplots(1, 1, figsize=(2.5,1.2))\n",
    "for i in range(4):\n",
    "    freqd = tbl[i].to_dict()\n",
    "    sortf = sorted(freqd.items(),key=lambda x:x[1])[::-1]\n",
    "    bottom = 0\n",
    "    for nuc, f in sortf:\n",
    "        letterAt(nuc.replace('T','U'),i,bottom,f,ax=ax)\n",
    "        bottom+=f\n",
    "        \n",
    "ax.set_xlim(-.5,3.5)\n",
    "ax.axis('off')\n",
    "fig.savefig(resultpath + '201119_f6e__meme2.pdf')"
   ]
  },
  {
   "cell_type": "code",
   "execution_count": 1114,
   "metadata": {
    "scrolled": true
   },
   "outputs": [],
   "source": [
    "n = 58\n",
    "sres = ms[-n:]\n",
    "dimers = defaultdict(int)\n",
    "for sre in sres:\n",
    "    for i in range(3):\n",
    "        dimers[sre[i:i+2]]+=1"
   ]
  },
  {
   "cell_type": "code",
   "execution_count": 1054,
   "metadata": {},
   "outputs": [],
   "source": [
    "fang = pd.ExcelFile('supplementary/Fang_2015_s3.xlsx')\n",
    "organisms = fang.sheet_names"
   ]
  },
  {
   "cell_type": "code",
   "execution_count": 993,
   "metadata": {},
   "outputs": [],
   "source": [
    "mottbl = pd.DataFrame(columns=range(30),index=organisms).fillna(0)\n",
    "for org in organisms:\n",
    "    tbl = fang.parse(org,header=2,index_col=0)\n",
    "    for seq3 in tbl[\"3' flanking (5' to 3')\"]:\n",
    "        for i in range(30):\n",
    "            if seq3[i]=='G':#[i:i+4].count('G')>=2:\n",
    "\n",
    "                mottbl.loc[org,i]+=1\n",
    "    mottbl.loc[org] = mottbl.loc[org]/len(tbl.index)*100"
   ]
  },
  {
   "cell_type": "code",
   "execution_count": 994,
   "metadata": {},
   "outputs": [
    {
     "data": {
      "text/plain": [
       "Text(0.945,0.5,u'miRNAs with G-rich motif (%)')"
      ]
     },
     "execution_count": 994,
     "metadata": {},
     "output_type": "execute_result"
    },
    {
     "data": {
      "image/png": "[encoded data removed]",
      "text/plain": [
       "<matplotlib.figure.Figure at 0x7f41740e5150>"
      ]
     },
     "metadata": {},
     "output_type": "display_data"
    }
   ],
   "source": [
    "fig, ax = plt.subplots(1,1,figsize=(5,3))\n",
    "im = ax.pcolor(mottbl,vmin=0,vmax=30,cmap='Blues_r')\n",
    "ax.invert_yaxis()\n",
    "ax.set_yticks(np.arange(len(organisms))+.5)\n",
    "ax.set_yticklabels(organisms)\n",
    "ax.tick_params(left='off')\n",
    "ax.spines['left'].set_visible(False); ax.spines['bottom'].set_visible(False)\n",
    "ax.set_xticks(np.arange(0,30,4)+.5)\n",
    "ax.set_xticklabels(range(-1,-30,-4))\n",
    "l = lines.Line2D([15,18],[-.5,-.5],color='#424242',lw=3); ax.add_line(l); l.set_clip_on(False)\n",
    "ax.text(16.5,-1,'Human CNNC window',ha='center')\n",
    "\n",
    "axcb = fig.add_axes([.98,.3,.03,.4])\n",
    "cb = plt.colorbar(im,cax=axcb)\n",
    "cb.set_ticks(range(0,31,10))\n",
    "fig.text(.945,.5,'miRNAs with G-rich motif (%)',va='center',rotation=90)\n",
    "#fig.savefig(resultpath+'201016_grich.png',dpi=300)"
   ]
  },
  {
   "cell_type": "code",
   "execution_count": 1222,
   "metadata": {},
   "outputs": [],
   "source": [
    "mottbl = pd.DataFrame(columns=range(30),index=organisms).fillna(0)\n",
    "ns = {}\n",
    "for org in organisms:\n",
    "    tbl = fang.parse(org,header=2,index_col=0)\n",
    "    ns[org] = len(tbl.index)\n",
    "    for seq3 in tbl[\"3' flanking (5' to 3')\"]:\n",
    "        for i in range(30):\n",
    "            if seq3[i:i+4].count('G')<=1 and seq3[i:i+4].count('C')>=1:\n",
    "            #if re.search('C[C|G][C|G]C',seq3[i:i+4]):\n",
    "                mottbl.loc[org,i]+=1\n",
    "    mottbl.loc[org] = mottbl.loc[org]/len(tbl.index)*100"
   ]
  },
  {
   "cell_type": "code",
   "execution_count": 1223,
   "metadata": {},
   "outputs": [],
   "source": [
    "labels = [ '%s (%s)'%(org,ns[org]) for org in organisms ]"
   ]
  },
  {
   "cell_type": "code",
   "execution_count": 1228,
   "metadata": {},
   "outputs": [
    {
     "data": {
      "image/png": "[encoded data removed]",
      "text/plain": [
       "<matplotlib.figure.Figure at 0x7f41705cf990>"
      ]
     },
     "metadata": {},
     "output_type": "display_data"
    }
   ],
   "source": [
    "fig, ax = plt.subplots(1,1,figsize=(5,2.6))\n",
    "im = ax.pcolor(mottbl,cmap='Reds',vmin=50,vmax=100)\n",
    "ax.invert_yaxis()\n",
    "ax.set_yticks(np.arange(len(organisms))+.5)\n",
    "ax.set_yticklabels(labels)\n",
    "ax.tick_params(left='off')\n",
    "ax.spines['left'].set_visible(False); ax.spines['bottom'].set_visible(False)\n",
    "ax.set_xticks(np.arange(0,30,4)+.5)\n",
    "ax.set_xticklabels(range(-1,-30,-4))\n",
    "l = lines.Line2D([15,18],[-.5,-.5],color='#424242',lw=3); ax.add_line(l); l.set_clip_on(False)\n",
    "ax.text(16.5,-1,'CNNC window',ha='center')\n",
    "axcb = fig.add_axes([.985,.2,.025,.6])\n",
    "cb = plt.colorbar(im,cax=axcb)\n",
    "#cb.set_ticks(range(20,61,10))\n",
    "cb.set_ticks(range(50,101,10))\n",
    "cb.solids.set_rasterized(True)\n",
    "fig.text(.945,.5,'miRNAs with positioned motif (%)',va='center',rotation=90)\n",
    "fig.savefig(resultpath+'201119_f6f__c1g1.pdf',dpi=300)"
   ]
  },
  {
   "cell_type": "code",
   "execution_count": 1232,
   "metadata": {},
   "outputs": [],
   "source": [
    "data = [ len([ m for m in rescue if any([find_cnnc(m,pos) for pos in [-16,-17,-18]])]),\n",
    "         len([ m for m in rescue if any([find_chhh(m,pos) for pos in [-16,-17,-18]])]) ]\n",
    "data = np.array(data)/len(rescue)*100"
   ]
  },
  {
   "cell_type": "code",
   "execution_count": 1244,
   "metadata": {},
   "outputs": [
    {
     "data": {
      "text/plain": [
       "array([55.35714286, 94.19642857])"
      ]
     },
     "execution_count": 1244,
     "metadata": {},
     "output_type": "execute_result"
    }
   ],
   "source": [
    "data"
   ]
  },
  {
   "cell_type": "code",
   "execution_count": 1251,
   "metadata": {},
   "outputs": [
    {
     "data": {
      "image/png": "[encoded data removed]",
      "text/plain": [
       "<matplotlib.figure.Figure at 0x7f41704fc050>"
      ]
     },
     "metadata": {},
     "output_type": "display_data"
    }
   ],
   "source": [
    "fig, ax = plt.subplots(1, 1, figsize=(1.3,2.3))\n",
    "#ax.bar([0,1],[100,100],width=.8,color='#bcbcbc',alpha=.2)\n",
    "ax.bar([0,1],data,color='#ababab',width=.7)\n",
    "ax.set_xlim(-.6,1.6)\n",
    "ax.set_ylabel('Pri-miRNAs with motif (%)')\n",
    "ax.set_xticks([0,1])\n",
    "ax.set_xticklabels(['CNNC','CHHN'],rotation=30)\n",
    "ax.text(0,58,'55%',ha='center',weight='bold')\n",
    "ax.text(1,97,'94%',ha='center',weight='bold')\n",
    "fig.savefig(resultpath + '201119_f6g__explained.pdf')"
   ]
  },
  {
   "cell_type": "code",
   "execution_count": 1252,
   "metadata": {},
   "outputs": [
    {
     "data": {
      "text/plain": [
       "294"
      ]
     },
     "execution_count": 1252,
     "metadata": {},
     "output_type": "execute_result"
    }
   ],
   "source": [
    "len([m for m in cano if m in overlap])"
   ]
  },
  {
   "cell_type": "code",
   "execution_count": 1217,
   "metadata": {},
   "outputs": [
    {
     "data": {
      "text/plain": [
       "154"
      ]
     },
     "execution_count": 1217,
     "metadata": {},
     "output_type": "execute_result"
    }
   ],
   "source": [
    "len([ m for m in rescue if any([find_cnnc(m,pos) for pos in [-16,-17,-18]])])"
   ]
  },
  {
   "cell_type": "code",
   "execution_count": 1221,
   "metadata": {
    "scrolled": true
   },
   "outputs": [
    {
     "data": {
      "text/plain": [
       "211"
      ]
     },
     "execution_count": 1221,
     "metadata": {},
     "output_type": "execute_result"
    }
   ],
   "source": [
    "len([ m for m in rescue if any([find_chhh(m,pos) for pos in [-16,-17,-18]])])"
   ]
  },
  {
   "cell_type": "code",
   "execution_count": 1216,
   "metadata": {},
   "outputs": [],
   "source": [
    "def find_cnnc(mir, pos):\n",
    "    seq = ''.join(seq3tbl.loc[mir,range(pos-3,pos+1)].fillna(''))\n",
    "    return bool(re.search('C[A-Z][A-Z]C', seq))"
   ]
  },
  {
   "cell_type": "code",
   "execution_count": 1219,
   "metadata": {},
   "outputs": [],
   "source": [
    "def find_chhh(mir, pos):\n",
    "    seq = ''.join(seq3tbl.loc[mir,range(pos-3,pos+1)].fillna(''))\n",
    "    return bool(seq.count('G')<=1 and seq.count('C')>=1)"
   ]
  },
  {
   "cell_type": "code",
   "execution_count": 1211,
   "metadata": {},
   "outputs": [
    {
     "data": {
      "text/plain": [
       "124"
      ]
     },
     "execution_count": 1211,
     "metadata": {},
     "output_type": "execute_result"
    }
   ],
   "source": [
    "len([ m for m in rescue if ])"
   ]
  },
  {
   "cell_type": "code",
   "execution_count": null,
   "metadata": {},
   "outputs": [],
   "source": []
  },
  {
   "cell_type": "code",
   "execution_count": null,
   "metadata": {},
   "outputs": [],
   "source": []
  },
  {
   "cell_type": "code",
   "execution_count": null,
   "metadata": {},
   "outputs": [],
   "source": []
  },
  {
   "cell_type": "code",
   "execution_count": 845,
   "metadata": {},
   "outputs": [
    {
     "name": "stdout",
     "output_type": "stream",
     "text": [
      "TATGATAGCAAT\n"
     ]
    }
   ],
   "source": [
    "flank5 = {}\n",
    "for mir in dcsov:\n",
    "    if mir in dcsmirs:\n",
    "        cs, ce = majorcs[mir]\n",
    "    else:\n",
    "        cs, ce = majorcsmp[mir]\n",
    "    priseq = constseqs[mir]\n",
    "    flank5[mir] = priseq[max(0,cs-26):cs-14]\n",
    "print flank5['hsa-mir-16-1']"
   ]
  },
  {
   "cell_type": "code",
   "execution_count": 790,
   "metadata": {},
   "outputs": [
    {
     "name": "stdout",
     "output_type": "stream",
     "text": [
      "[41, 49, 36, 24, 31, 42, 28, 27, 92, 34, 25, 29, 26, 29, 23, 29, 38, 28, 47, 35, 31, 34, 50, 22, 24, 31, 30, 89, 67, 51, 36, 35, 32, 25, 33, 30, 37, 72, 36, 44, 25, 28, 31, 26, 29, 36, 23, 44, 43, 29, 30, 21, 31, 22, 40, 23, 23, 24, 27, 33, 20, 32, 44, 39, 41, 32, 39, 29, 24, 54, 68, 30, 39, 41, 42, 31, 30, 47, 63, 36, 57, 33, 29, 22, 67, 32, 34, 38, 52, 29, 24, 49, 53, 38, 45, 51, 28, 48, 42, 71, 21, 27, 29, 45, 33, 47, 27, 45, 66, 27, 32, 39, 20, 21, 37, 22, 25, 41, 40, 23, 38, 34, 33, 37, 30, 72, 30, 21, 20, 36, 35, 39, 42, 31, 54, 26, 39, 33, 22, 36, 64, 33, 36, 41, 48, 28, 32, 71, 20, 21, 46, 31, 34, 59, 34, 33, 47, 36, 40, 44, 31, 20, 22, 44, 35, 50, 52, 70, 49, 45, 44, 32, 47, 22, 32, 47, 53, 37, 26, 47, 56, 39, 23, 22, 43, 50, 26, 34]\n"
     ]
    }
   ],
   "source": [
    "ncut = 20\n",
    "motifs = nmer(4)\n",
    "mirls = { motif:[m for m in dcsov if motif in flank5[m]] for motif in motifs }\n",
    "motifs = [motif for motif in motifs if len(mirls[motif])>=ncut]\n",
    "ysl = [ [effdiff[m] for m in mirls[motif]] for motif in motifs ]\n",
    "print map(len, ysl)\n",
    "\n",
    "ms, ysl = zip(*sorted(zip(motifs,ysl), key=lambda x:np.average(x[1])))\n",
    "ys = map(np.average, ysl)\n",
    "es = map(sem, ysl)\n",
    "xs = range(len(motifs))\n",
    "\n",
    "xssub = [ x for x,m in zip(xs,ms) if re.search('C[A-Z][A-Z]C',m)]\n",
    "yssub = [ y for y,m in zip(ys,ms) if re.search('C[A-Z][A-Z]C',m)]\n",
    "mssub = [ m for y,m in zip(ys,ms) if re.search('C[A-Z][A-Z]C',m)]"
   ]
  },
  {
   "cell_type": "code",
   "execution_count": 778,
   "metadata": {},
   "outputs": [
    {
     "data": {
      "image/png": "[encoded data removed]",
      "text/plain": [
       "<matplotlib.figure.Figure at 0x7f41748b7bd0>"
      ]
     },
     "metadata": {},
     "output_type": "display_data"
    }
   ],
   "source": [
    "fig, ax = plt.subplots(1, 1, figsize=(3.2,2.2))\n",
    "#ax.errorbar(xs,ys,yerr=es)\n",
    "ax.scatter(xs,ys,edgecolor='#858585',zorder=2,s=5,lw=1,facecolor='None')\n",
    "ax.scatter(xssub,yssub,color='#08519c',lw=0,zorder=2,s=20,marker='o',label='CNNC')\n",
    "for x,y,m in zip(xssub,yssub,mssub):\n",
    "    ax.text(x,y+.1,m,rotation=90,ha='center',fontsize=8,va='bottom')\n",
    "ax.set_xticks(range(0,251,50))\n",
    "ax.set_xlabel('Tetramer motifs')\n",
    "ax.set_ylabel('$\\Delta$Cleavage Efficiency')\n",
    "ax.yaxis.grid(ls='-',lw=.5)\n",
    "ax.legend(loc=(.7,.02),handletextpad=.1)\n",
    "ax.spines['bottom'].set_bounds(0,250)\n",
    "#fig.savefig(resultpath+ '201119_f6d__motif_tmp.pdf')"
   ]
  },
  {
   "cell_type": "code",
   "execution_count": 771,
   "metadata": {},
   "outputs": [],
   "source": [
    "import matplotlib as mpl\n",
    "from matplotlib.text import TextPath\n",
    "from matplotlib.patches import PathPatch\n",
    "from matplotlib.font_manager import FontProperties\n",
    "fp = FontProperties(family=\"Helvetica\", weight=\"bold\") \n",
    "globscale = 1.35\n",
    "LETTERS = { \"U\" : TextPath((-0.305, 0), \"U\", size=1, prop=fp),\n",
    "            \"G\" : TextPath((-0.384, 0), \"G\", size=1, prop=fp),\n",
    "            \"A\" : TextPath((-0.35, 0), \"A\", size=1, prop=fp),\n",
    "            \"C\" : TextPath((-0.366, 0), \"C\", size=1, prop=fp) }\n",
    "COLOR_SCHEME = {'G': 'orange', \n",
    "                'A': 'red', \n",
    "                'C': 'blue', \n",
    "                'U': 'darkgreen'}\n",
    "def letterAt(letter, x, y, yscale=1, ax=None):\n",
    "    text = LETTERS[letter]\n",
    "    t = mpl.transforms.Affine2D().scale(1*globscale, yscale*globscale) + \\\n",
    "        mpl.transforms.Affine2D().translate(x,y) + ax.transData\n",
    "    p = PathPatch(text, lw=0, fc=COLOR_SCHEME[letter],  transform=t)\n",
    "    if ax != None:\n",
    "        ax.add_artist(p)\n",
    "    return p"
   ]
  },
  {
   "cell_type": "code",
   "execution_count": null,
   "metadata": {},
   "outputs": [],
   "source": []
  },
  {
   "cell_type": "code",
   "execution_count": null,
   "metadata": {},
   "outputs": [],
   "source": []
  },
  {
   "cell_type": "code",
   "execution_count": 748,
   "metadata": {},
   "outputs": [
    {
     "ename": "NameError",
     "evalue": "name 'forlogo' is not defined",
     "output_type": "error",
     "traceback": [
      "\u001b[0;31m\u001b[0m",
      "\u001b[0;31mNameError\u001b[0mTraceback (most recent call last)",
      "\u001b[0;32m<ipython-input-748-954d35a4a9c0>\u001b[0m in \u001b[0;36m<module>\u001b[0;34m()\u001b[0m\n\u001b[1;32m      1\u001b[0m \u001b[0;32mimport\u001b[0m \u001b[0mmatplotlib\u001b[0m\u001b[0;34m.\u001b[0m\u001b[0mpyplot\u001b[0m \u001b[0;32mas\u001b[0m \u001b[0mplt\u001b[0m\u001b[0;34m\u001b[0m\u001b[0m\n\u001b[1;32m      2\u001b[0m \u001b[0mfig\u001b[0m\u001b[0;34m,\u001b[0m \u001b[0max\u001b[0m \u001b[0;34m=\u001b[0m \u001b[0mplt\u001b[0m\u001b[0;34m.\u001b[0m\u001b[0msubplots\u001b[0m\u001b[0;34m(\u001b[0m\u001b[0mfigsize\u001b[0m\u001b[0;34m=\u001b[0m\u001b[0;34m(\u001b[0m\u001b[0;36m15\u001b[0m\u001b[0;34m,\u001b[0m\u001b[0;36m2\u001b[0m\u001b[0;34m)\u001b[0m\u001b[0;34m)\u001b[0m\u001b[0;34m\u001b[0m\u001b[0m\n\u001b[0;32m----> 3\u001b[0;31m \u001b[0mall_scores\u001b[0m \u001b[0;34m=\u001b[0m \u001b[0mforlogo\u001b[0m\u001b[0;34m\u001b[0m\u001b[0m\n\u001b[0m\u001b[1;32m      4\u001b[0m \u001b[0mx\u001b[0m \u001b[0;34m=\u001b[0m \u001b[0;36m1\u001b[0m\u001b[0;34m\u001b[0m\u001b[0m\n\u001b[1;32m      5\u001b[0m \u001b[0mmaxi\u001b[0m \u001b[0;34m=\u001b[0m \u001b[0;36m0\u001b[0m\u001b[0;34m\u001b[0m\u001b[0m\n",
      "\u001b[0;31mNameError\u001b[0m: name 'forlogo' is not defined"
     ]
    },
    {
     "data": {
      "image/png": "[encoded data removed]",
      "text/plain": [
       "<matplotlib.figure.Figure at 0x7f4174fec050>"
      ]
     },
     "metadata": {},
     "output_type": "display_data"
    }
   ],
   "source": [
    "import matplotlib.pyplot as plt\n",
    "fig, ax = plt.subplots(figsize=(15,2))\n",
    "all_scores = forlogo\n",
    "x = 1\n",
    "maxi = 0\n",
    "for i in range(len(all_scores)):\n",
    "    y = 0\n",
    "    scores = all_scores.iloc[i,:].transpose().sort_values(ascending=False).to_dict()\n",
    "    #print(scores.to_dict())\n",
    "    #for j,base in enumerate(['A','C','G','T']):\n",
    "    height = 6/(3**(sum([x!=0 for x in scores.values()])))\n",
    "    for key in scores.keys():\n",
    "        score = scores[key]\n",
    "        #print(all_scores.index)\n",
    "        base = key \n",
    "        if(score==1.5):\n",
    "            letterAt(base, x,y, height, ax)\n",
    "            y += height\n",
    "    #for j,base in enumerate(['A','C','G','T']):\n",
    "    for key in scores.keys():\n",
    "        score = scores[key]\n",
    "        #print(all_scores.index)\n",
    "        base = key \n",
    "        if(score!=1.5 and score!=0):\n",
    "            letterAt(base, x,y, height, ax)\n",
    "            y += height\n",
    "    x += 1\n",
    "    maxi = max(maxi, y)\n",
    "plt.xticks(range(1,x))\n",
    "plt.xlim((0, x)) \n",
    "plt.ylim((0, maxi)) \n",
    "plt.tight_layout()\n"
   ]
  },
  {
   "cell_type": "code",
   "execution_count": null,
   "metadata": {},
   "outputs": [],
   "source": []
  },
  {
   "cell_type": "code",
   "execution_count": null,
   "metadata": {},
   "outputs": [],
   "source": []
  },
  {
   "cell_type": "code",
   "execution_count": null,
   "metadata": {},
   "outputs": [],
   "source": []
  },
  {
   "cell_type": "markdown",
   "metadata": {},
   "source": [
    "# C. Classification changes"
   ]
  },
  {
   "cell_type": "code",
   "execution_count": 148,
   "metadata": {},
   "outputs": [
    {
     "name": "stdout",
     "output_type": "stream",
     "text": [
      "Productive: 694, Unproductive: 1106\n",
      "Single: 597, Multiple: 97, Inverted: 105, Nick: 68, Non-specific: 933\n",
      "5' nick: 39, 3' nick: 29\n"
     ]
    }
   ],
   "source": [
    "single = set(s8[s8['Cleavage type']=='single'].index)\n",
    "multi = set(s8[s8['Cleavage type']=='multiple'].index)\n",
    "inverted = set(s8[s8['Cleavage type']=='inverted'].index)\n",
    "nick5 = set(s8[s8['Cleavage type']=='nick5'].index)\n",
    "nick3 = set(s8[s8['Cleavage type']=='nick3'].index)\n",
    "nick = list(nick5) + list(nick3)\n",
    "nonspec = set(s8[s8['Cleavage type']=='non-specific'].index)\n",
    "dcsmirs = list(single) + list(multi)\n",
    "nodcs = list(inverted) + list(nick) + list(nonspec)\n",
    "print 'Productive: %s, Unproductive: %s' % (len(dcsmirs), len(nodcs))\n",
    "print 'Single: %s, Multiple: %s, Inverted: %s, Nick: %s, Non-specific: %s'\\\n",
    "% (len(single), len(multi), len(inverted), len(nick), len(nonspec))\n",
    "print \"5' nick: %s, 3' nick: %s\" % (len(nick5), len(nick3))"
   ]
  },
  {
   "cell_type": "code",
   "execution_count": 149,
   "metadata": {},
   "outputs": [],
   "source": [
    "xs1 = map(lambda x: len([m for m in x if m in overlap]),\n",
    "          [singlemp,multimp,nick5mp,nick3mp,invertedmp,nonspecmp])\n",
    "xs2 = map(len, [single,multi,nick5,nick3,inverted,nonspec])\n",
    "ys = np.arange(len(xs1))"
   ]
  },
  {
   "cell_type": "code",
   "execution_count": 151,
   "metadata": {
    "scrolled": false
   },
   "outputs": [
    {
     "data": {
      "image/png": "[encoded data removed]",
      "text/plain": [
       "<matplotlib.figure.Figure at 0x7f1c2accc690>"
      ]
     },
     "metadata": {},
     "output_type": "display_data"
    }
   ],
   "source": [
    "fig, ax = plt.subplots(1, 1, figsize=(4,2.5))\n",
    "ax.barh(ys-.2, xs1, height=.4, facecolor='#ababab', edgecolor='#545454',label='w/o SRSF3',\n",
    "       zorder=2, alpha=.9)\n",
    "ax.barh(ys+.2, xs2, height=.4, facecolor='#a83940', edgecolor='#a50f15',label='w/ SRSF3',\n",
    "       zorder=2, alpha=.9)\n",
    "for x1,x2,y in zip(xs1,xs2,ys):\n",
    "    ax.text(x1+8,y-.2,x1,fontsize=8,va='center')\n",
    "    ax.text(x2+8,y+.23,x2,fontsize=8,va='center')\n",
    "\n",
    "ax.set_xlim(0,1150)\n",
    "ax.spines['top'].set_visible(True); ax.spines['right'].set_visible(True); \n",
    "ax.legend(loc=(.63,.73), handlelength=.9,prop={'size':11},\n",
    "          framealpha=1,handletextpad=.4,labelspacing=.3)\n",
    "ax.invert_yaxis()\n",
    "ax.xaxis.grid(ls='-',lw=.5)\n",
    "ax.set_yticks(ys)\n",
    "ax.set_yticks([-.5]+list(ys+.5),minor=True)\n",
    "ax.set_yticklabels(['Single','Alternative','5$^\\prime$ nick','3$^\\prime$ nick','Inverted','No'],\n",
    "                  fontsize=12,va='center')\n",
    "ax.set_xlabel('Pri-miRNAs', fontsize=12)\n",
    "ax.tick_params(left='off', which='major')\n",
    "ax.tick_params(length=3,width=1.3, which='minor')\n",
    "fig.savefig(resultpath + '201016_f5c__classification_change_hiseq.pdf')"
   ]
  },
  {
   "cell_type": "markdown",
   "metadata": {},
   "source": [
    "# D. SRSF3-responsive element - tetramer motifs"
   ]
  },
  {
   "cell_type": "code",
   "execution_count": 166,
   "metadata": {},
   "outputs": [
    {
     "name": "stdout",
     "output_type": "stream",
     "text": [
      "513\n"
     ]
    }
   ],
   "source": [
    "effdiff = {m:effs[m]-effsmp[m] for m in overlap }\n",
    "dboverlap = [m for m in dbmirs if m in overlap] \n",
    "print len(dboverlap)"
   ]
  },
  {
   "cell_type": "code",
   "execution_count": 164,
   "metadata": {},
   "outputs": [
    {
     "name": "stdout",
     "output_type": "stream",
     "text": [
      "GATAGCAA TACTCTAC\n",
      "513\n"
     ]
    }
   ],
   "source": [
    "cnst, cnen = 15, 19\n",
    "f5seqs, f3seqs = {},{}\n",
    "for mir in dboverlap:\n",
    "    ps, pe = preposition[mir]\n",
    "    f5seqs[mir] = constseqs[mir][max(0,ps-cnen-4):ps-cnst]\n",
    "    f3seqs[mir] = constseqs[mir][pe+cnst-1:min(pe+cnen+3,125)]\n",
    "print f5seqs['hsa-mir-16-1'], f3seqs['hsa-mir-16-1']\n",
    "print len(f5seqs)"
   ]
  },
  {
   "cell_type": "code",
   "execution_count": 195,
   "metadata": {},
   "outputs": [
    {
     "name": "stdout",
     "output_type": "stream",
     "text": [
      "174\n"
     ]
    },
    {
     "data": {
      "text/html": [
       "<div>\n",
       "<style scoped>\n",
       "    .dataframe tbody tr th:only-of-type {\n",
       "        vertical-align: middle;\n",
       "    }\n",
       "\n",
       "    .dataframe tbody tr th {\n",
       "        vertical-align: top;\n",
       "    }\n",
       "\n",
       "    .dataframe thead th {\n",
       "        text-align: right;\n",
       "    }\n",
       "</style>\n",
       "<table border=\"1\" class=\"dataframe\">\n",
       "  <thead>\n",
       "    <tr style=\"text-align: right;\">\n",
       "      <th></th>\n",
       "      <th>p_3f</th>\n",
       "      <th>fc_3f</th>\n",
       "    </tr>\n",
       "  </thead>\n",
       "  <tbody>\n",
       "    <tr>\n",
       "      <th>AAAA</th>\n",
       "      <td>0.651493</td>\n",
       "      <td>0.0867232</td>\n",
       "    </tr>\n",
       "    <tr>\n",
       "      <th>AAAC</th>\n",
       "      <td>0.170407</td>\n",
       "      <td>0.326009</td>\n",
       "    </tr>\n",
       "    <tr>\n",
       "      <th>AATG</th>\n",
       "      <td>0.153538</td>\n",
       "      <td>-1.63725</td>\n",
       "    </tr>\n",
       "  </tbody>\n",
       "</table>\n",
       "</div>"
      ],
      "text/plain": [
       "          p_3f      fc_3f\n",
       "AAAA  0.651493  0.0867232\n",
       "AAAC  0.170407   0.326009\n",
       "AATG  0.153538   -1.63725"
      ]
     },
     "execution_count": 195,
     "metadata": {},
     "output_type": "execute_result"
    }
   ],
   "source": [
    "n = 4\n",
    "allmotifs = nmer(n)\n",
    "motbl = pd.DataFrame(columns=['p_3f','fc_3f'])\n",
    "for motif in allmotifs:\n",
    "    for label,fseqs in zip(['5f','3f'],[f5seqs,f3seqs])[1:]:\n",
    "        motvs = [ effdiff[m] for m in dboverlap if motif in fseqs[m] ]\n",
    "        nomvs = [ effdiff[m] for m in dboverlap if motif not in fseqs[m] ]\n",
    "        if len(motvs)>=5:\n",
    "            pv = ttest_ind(motvs, nomvs, equal_var=False)[1]\n",
    "            fc = np.average(motvs)-np.average(nomvs)\n",
    "            motbl.loc[motif,'p_%s'%label] = pv\n",
    "            motbl.loc[motif,'fc_%s'%label] = fc\n",
    "print len(motbl)\n",
    "motbl.head(3)"
   ]
  },
  {
   "cell_type": "code",
   "execution_count": 196,
   "metadata": {},
   "outputs": [
    {
     "data": {
      "text/html": [
       "<div>\n",
       "<style scoped>\n",
       "    .dataframe tbody tr th:only-of-type {\n",
       "        vertical-align: middle;\n",
       "    }\n",
       "\n",
       "    .dataframe tbody tr th {\n",
       "        vertical-align: top;\n",
       "    }\n",
       "\n",
       "    .dataframe thead th {\n",
       "        text-align: right;\n",
       "    }\n",
       "</style>\n",
       "<table border=\"1\" class=\"dataframe\">\n",
       "  <thead>\n",
       "    <tr style=\"text-align: right;\">\n",
       "      <th></th>\n",
       "      <th>p_3f</th>\n",
       "      <th>fc_3f</th>\n",
       "      <th>padj_3f</th>\n",
       "    </tr>\n",
       "  </thead>\n",
       "  <tbody>\n",
       "    <tr>\n",
       "      <th>AAAA</th>\n",
       "      <td>0.651493</td>\n",
       "      <td>0.0867232</td>\n",
       "      <td>0.923282</td>\n",
       "    </tr>\n",
       "    <tr>\n",
       "      <th>AAAC</th>\n",
       "      <td>0.170407</td>\n",
       "      <td>0.326009</td>\n",
       "      <td>0.529478</td>\n",
       "    </tr>\n",
       "    <tr>\n",
       "      <th>AATG</th>\n",
       "      <td>0.153538</td>\n",
       "      <td>-1.63725</td>\n",
       "      <td>0.494735</td>\n",
       "    </tr>\n",
       "  </tbody>\n",
       "</table>\n",
       "</div>"
      ],
      "text/plain": [
       "          p_3f      fc_3f   padj_3f\n",
       "AAAA  0.651493  0.0867232  0.923282\n",
       "AAAC  0.170407   0.326009  0.529478\n",
       "AATG  0.153538   -1.63725  0.494735"
      ]
     },
     "execution_count": 196,
     "metadata": {},
     "output_type": "execute_result"
    }
   ],
   "source": [
    "#motbl['padj_5f'] = sm.stats.multipletests(motbl['p_5f'],method='fdr_bh')[1]\n",
    "motbl['padj_3f'] = sm.stats.multipletests(motbl['p_3f'],method='fdr_bh')[1]\n",
    "motbl.head(3)"
   ]
  },
  {
   "cell_type": "code",
   "execution_count": 197,
   "metadata": {},
   "outputs": [
    {
     "name": "stdout",
     "output_type": "stream",
     "text": [
      "170 170 4 4 0 0\n"
     ]
    }
   ],
   "source": [
    "fr = '3f'\n",
    "pcut, fccut = .05, 0\n",
    "xs = motbl[(motbl['padj_%s'%fr]>=pcut)|(abs(motbl['fc_%s'%fr])<=fccut)]['fc_%s'%fr]\n",
    "ys = -np.log10(motbl[(motbl['padj_%s'%fr]>=pcut)|(abs(motbl['fc_%s'%fr])<=fccut)]\\\n",
    "['padj_%s'%fr].tolist())\n",
    "xsig1 = motbl[(motbl['padj_%s'%fr]<pcut)&(motbl['fc_%s'%fr]>fccut)]['fc_%s'%fr]\n",
    "ysig1 = -np.log10(motbl[(motbl['padj_%s'%fr]<pcut)&(motbl['fc_%s'%fr]>fccut)]\\\n",
    "['padj_%s'%fr].tolist())\n",
    "xsig2 = motbl[(motbl['padj_%s'%fr]<pcut)&(motbl['fc_%s'%fr]<-fccut)]['fc_%s'%fr]\n",
    "ysig2 = -np.log10(motbl[(motbl['padj_%s'%fr]<pcut)&(motbl['fc_%s'%fr]<-fccut)]\\\n",
    "['padj_%s'%fr].tolist())\n",
    "print len(xs),len(ys),len(xsig1),len(ysig1),len(xsig2),len(ysig2)\n",
    "\n",
    "ecns, fcns = '#252525', '#757575'\n",
    "ecsig1, fcsig1 = '#a50f15', '#de2d26'\n",
    "ecsig2, fcsig2 = '#08519c', '#3182bd'"
   ]
  },
  {
   "cell_type": "code",
   "execution_count": 202,
   "metadata": {},
   "outputs": [
    {
     "data": {
      "image/png": "[encoded data removed]",
      "text/plain": [
       "<matplotlib.figure.Figure at 0x7f41d4d82110>"
      ]
     },
     "metadata": {},
     "output_type": "display_data"
    }
   ],
   "source": [
    "fig, ax = plt.subplots(1, 1, figsize=(2.5,2.3))\n",
    "\n",
    "ax.axhline(-np.log10(pcut), ls='--', color='k', lw=1, zorder=2)\n",
    "ax.scatter(xs, ys, s=10, edgecolor=ecns, facecolor=fcns, lw=1, zorder=2, alpha=.6)\n",
    "ax.scatter(xsig1, ysig1, s=10, edgecolor=ecsig1, facecolor=fcsig1, lw=1, zorder=3)\n",
    "#ax.scatter(xsig2, ysig2, s=10, edgecolor=ecsig2, facecolor=fcsig2, lw=1, zorder=3)\n",
    "\n",
    "ax.set_xlabel('$\\Delta\\Delta$Cleavage Efficiency')\n",
    "ax.set_ylabel('-log10 (adj. p-value)')\n",
    "ax.set_xlim(min(xs)*1.15,max(xs)*1.1)\n",
    "ax.set_ylim(-max(ysig1)*.02, max(ysig1)*1.05)\n",
    "#ax.set_yticks(range(0,11,2))\n",
    "#ax.spines['left'].set_bounds(0,10)\n",
    "ax.grid(ls='-',lw=.5)\n",
    "\n",
    "# for motif in ['CAAC','CTAC','TACT']:\n",
    "#     ax.text(motbl.loc[motif,'fc_%s'%fr],-np.log10(motbl.loc[motif,'padj_%s'%fr])+.35,\n",
    "#             motif.replace('T','U'),fontsize=7,color=ecsig1,va='center')\n",
    "    \n",
    "# for motif in ['AGCA','GCAA','TTAC','CAGC']:\n",
    "#     ax.text(motbl.loc[motif,'fc_%s'%fr]-.05,-np.log10(motbl.loc[motif,'padj_%s'%fr])+.1,\n",
    "#             motif.replace('T','U'),fontsize=7,color=ecsig1,va='center',ha='right')\n",
    "    \n",
    "# ax.text(2.2,3.4,'UACA',fontsize=7,color=ecsig1)\n",
    "# ax.text(2.25,2.1,'AUAC',fontsize=7,color=ecsig1)\n",
    "\n",
    "# for motif in ['GAGG','GGCC','GGGA','GGAG','AGGT','AGAA']:\n",
    "#     ax.text(motbl.loc[motif,'fc_%s'%fr]+.1,-np.log10(motbl.loc[motif,'padj_%s'%fr])+.1,\n",
    "#             motif.replace('T','U'),fontsize=7,color=ecsig2,va='center')\n",
    "    \n",
    "# for motif in ['GGAA','CGTA','AGAG']:\n",
    "#     ax.text(motbl.loc[motif,'fc_%s'%fr]-.1,-np.log10(motbl.loc[motif,'padj_%s'%fr])-.2,\n",
    "#             motif.replace('T','U'),fontsize=7,color=ecsig2,va='top',ha='center')\n",
    "# ax.text(-1.1,3.2,'UGGG,UGAG,CUGG',fontsize=7,color=ecsig2)\n",
    "# ax.text(-1.1,2.65,'AAGG,GAGA,AUGA',fontsize=7,color=ecsig2)\n",
    "# ax.text(-1.6,3.95,'GAUG,AGGA',fontsize=7,color=ecsig2)\n",
    "# ax.text(-2.3,2.3,'GGGC\\nGGUG\\n AGGG',fontsize=7,color=ecsig2,linespacing=.9)\n",
    "fig.savefig(resultpath + '201119_f6d__tetramer_3p.pdf')#,dpi=300)"
   ]
  },
  {
   "cell_type": "code",
   "execution_count": 379,
   "metadata": {},
   "outputs": [
    {
     "data": {
      "text/plain": [
       "Index([u'ATAC', u'AGCA', u'TACA', u'TACT', u'TTAC', u'GCAA', u'CAAC', u'CAGC',\n",
       "       u'CTAC'],\n",
       "      dtype='object')"
      ]
     },
     "execution_count": 379,
     "metadata": {},
     "output_type": "execute_result"
    }
   ],
   "source": [
    "motbl[(motbl['padj_%s'%fr]<pcut)&(motbl['fc_%s'%fr]>fccut)].index"
   ]
  },
  {
   "cell_type": "code",
   "execution_count": 214,
   "metadata": {},
   "outputs": [
    {
     "name": "stdout",
     "output_type": "stream",
     "text": [
      "237 237 1 1 18 18\n"
     ]
    }
   ],
   "source": [
    "fr = '5f'\n",
    "pcut, fccut = .01, .01\n",
    "xs = motbl[(motbl['padj_%s'%fr]>=pcut)|(abs(motbl['fc_%s'%fr])<=fccut)]['fc_%s'%fr]\n",
    "ys = -np.log10(motbl[(motbl['padj_%s'%fr]>=pcut)|(abs(motbl['fc_%s'%fr])<=fccut)]\\\n",
    "['padj_%s'%fr].tolist())\n",
    "xsig1 = motbl[(motbl['padj_%s'%fr]<pcut)&(motbl['fc_%s'%fr]>fccut)]['fc_%s'%fr]\n",
    "ysig1 = -np.log10(motbl[(motbl['padj_%s'%fr]<pcut)&(motbl['fc_%s'%fr]>fccut)]\\\n",
    "['padj_%s'%fr].tolist())\n",
    "xsig2 = motbl[(motbl['padj_%s'%fr]<pcut)&(motbl['fc_%s'%fr]<-fccut)]['fc_%s'%fr]\n",
    "ysig2 = -np.log10(motbl[(motbl['padj_%s'%fr]<pcut)&(motbl['fc_%s'%fr]<-fccut)]\\\n",
    "['padj_%s'%fr].tolist())\n",
    "print len(xs),len(ys),len(xsig1),len(ysig1),len(xsig2),len(ysig2)\n",
    "\n",
    "ecns, fcns = '#252525', '#757575'\n",
    "ecsig1, fcsig1 = '#a50f15', '#de2d26'\n",
    "ecsig2, fcsig2 = '#08519c', '#3182bd'"
   ]
  },
  {
   "cell_type": "code",
   "execution_count": 217,
   "metadata": {
    "scrolled": true
   },
   "outputs": [
    {
     "data": {
      "image/png": "[encoded data removed]",
      "text/plain": [
       "<matplotlib.figure.Figure at 0x7f1c22486cd0>"
      ]
     },
     "metadata": {},
     "output_type": "display_data"
    }
   ],
   "source": [
    "fig, ax = plt.subplots(1, 1, figsize=(3,2.5))\n",
    "\n",
    "ax.axhline(-np.log10(pcut), ls='--', color='k', lw=1, zorder=2)\n",
    "ax.scatter(xs, ys, s=10, edgecolor=ecns, facecolor=fcns, lw=1, zorder=2, alpha=.6)\n",
    "ax.scatter(xsig1, ysig1, s=10, edgecolor=ecsig1, facecolor=fcsig1, lw=1, zorder=3)\n",
    "ax.scatter(xsig2, ysig2, s=10, edgecolor=ecsig2, facecolor=fcsig2, lw=1, zorder=3)\n",
    "\n",
    "ax.set_xlabel('$\\Delta$Productivity difference', fontsize=12)\n",
    "ax.set_ylabel('-log10 (adj. p-value)', fontsize=12)\n",
    "ax.set_xlim(min(min(xs),min(xsig2))*1.1,max(xs)*1.1)\n",
    "ax.set_ylim(-max(ysig2)*.02, max(ysig2)*1.05)\n",
    "ax.set_yticks(range(0,10,2))\n",
    "ax.spines['left'].set_bounds(0,10)\n",
    "ax.grid(ls='-',lw=.5)\n",
    "\n",
    "# for motif in ['GGTG','AGGT','TGGG','GGGA']:\n",
    "#     ax.text(motbl.loc[motif,'fc_%s'%fr]+.1,-np.log10(motbl.loc[motif,'padj_%s'%fr])+.15,\n",
    "#             motif.replace('T','U'),fontsize=7,color=ecsig2,va='center')\n",
    "# for motif in ['CGTA','TTAG','GGGT']:\n",
    "#     ax.text(motbl.loc[motif,'fc_%s'%fr]+.15,-np.log10(motbl.loc[motif,'padj_%s'%fr])+.3,\n",
    "#             motif.replace('T','U'),fontsize=7,color=ecsig2,ha='center')\n",
    "# ax.text(-1.7,3.7,'GGGG\\nTAGG    ',fontsize=7,color=ecsig2,ha='right',linespacing=.9)\n",
    "# ax.text(-1,2.1,'AGGG GGCC CUCU\\n CUGG CCUG',fontsize=7,color=ecsig2,linespacing=.95)\n",
    "# ax.text(-1.3,3.8,'GUGG CAGG\\n   GGAG',va='top',fontsize=7,color=ecsig2,linespacing=.9)\n",
    "#fig.savefig(resultpath + '200924_f5d__tetramer_5p.pdf')#,dpi=300)"
   ]
  },
  {
   "cell_type": "markdown",
   "metadata": {},
   "source": [
    "# E. SRSF3-responsive element - sequence content"
   ]
  },
  {
   "cell_type": "code",
   "execution_count": 218,
   "metadata": {},
   "outputs": [
    {
     "name": "stdout",
     "output_type": "stream",
     "text": [
      "476 218 1071\n"
     ]
    }
   ],
   "source": [
    "ptop = set(dcsmirsmp)&set(dcsmirs)\n",
    "nptop = set(nodcsmp)&set(dcsmirs)\n",
    "nptonp = set(nodcsmp)&set(nodcs)\n",
    "print len(ptop), len(nptop), len(nptonp)"
   ]
  },
  {
   "cell_type": "code",
   "execution_count": 219,
   "metadata": {},
   "outputs": [],
   "source": [
    "nfreq = {}\n",
    "for mir in f3seqs:\n",
    "    if len(f3seqs[mir])>=4:\n",
    "        nfreq[mir] = [ f3seqs[mir].count(nuc)/len(f3seqs[mir]) for nuc in 'ACGT' ]"
   ]
  },
  {
   "cell_type": "code",
   "execution_count": 220,
   "metadata": {},
   "outputs": [],
   "source": [
    "datanpnp = zip(*[nfreq[m] for m in nptonp if m in nfreq])\n",
    "norm = np.array(map(np.average, datanpnp))\n",
    "\n",
    "datapp = zip(*[nfreq[m] for m in ptop if m in nfreq])\n",
    "ypp = np.array(map(np.average, datapp))/norm; epp = map(sem,datapp)\n",
    "\n",
    "datanpp = zip(*[nfreq[m] for m in nptop if m in nfreq])\n",
    "ynpp = np.array(map(np.average, datanpp))/norm; enpp = map(sem,datanpp)\n",
    "\n",
    "ynpnp = np.array(map(np.average, datanpnp))/norm; enpnp = map(sem,datanpnp)\n",
    "\n",
    "xnpnp = np.arange(4)-.26\n",
    "xpp = np.arange(4)\n",
    "xnpp = np.arange(4)+.26\n",
    "width = .23"
   ]
  },
  {
   "cell_type": "code",
   "execution_count": 222,
   "metadata": {},
   "outputs": [
    {
     "name": "stdout",
     "output_type": "stream",
     "text": [
      "0.3031280768061941 0.1500340209294205\n",
      "4.662830363218648e-06 1.214742033687698e-05\n",
      "2.233876150693319e-11 1.1801166534146395e-06\n",
      "0.5475802514863868 0.12149914942173624\n"
     ]
    },
    {
     "data": {
      "image/png": "[encoded data removed]",
      "text/plain": [
       "<matplotlib.figure.Figure at 0x7f1c22440350>"
      ]
     },
     "metadata": {},
     "output_type": "display_data"
    }
   ],
   "source": [
    "fig, ax = plt.subplots(1, 1, figsize=(3.4,2.3))\n",
    "ax.bar(xnpnp,ynpnp,yerr=enpnp,width=width,color='#cbcbcb',edgecolor='k',lw=1.3,zorder=2,\n",
    "      label='NP-to-NP')\n",
    "ax.bar(xpp,ypp,yerr=epp,width=width,color='#969696',edgecolor='k',lw=1.3,zorder=2,\n",
    "      label='P-to-P')\n",
    "ax.bar(xnpp,ynpp,yerr=enpp,width=width,color='#545454',edgecolor='k',lw=1.3,zorder=2,\n",
    "      label='NP-to-P')\n",
    "ax.set_xticks([])\n",
    "ax.legend(handlelength=1.5, prop={'size':11}, loc=(1.02,.58))\n",
    "for i,nuc in zip(range(4),list('ACGU')):\n",
    "    ax.text(i,-.16,nuc,fontsize=12,ha='center')\n",
    "\n",
    "for i,dy in zip(range(4),[.1,.23,.1,.1]):\n",
    "    for dx in [0,.3]:\n",
    "        l = lines.Line2D([i-.26,i-.26,i+dx,i+dx],\n",
    "            [1+dy+dx*.3,1.02+dy+dx*.3,1.02+dy+dx*.3,1+dy+dx*.3],ls='-',lw=1,color='k')\n",
    "        ax.add_line(l); l.set_clip_on(False)\n",
    "        \n",
    "for i,dy in zip(range(4),[.15,.28,.15,.15]):\n",
    "    p1=ttest_ind(datanpnp[i],datapp[i])[1]\n",
    "    p2=ttest_ind(datanpnp[i],datanpp[i])[1]\n",
    "    print p1,p2\n",
    "    if p1<.0005: ax.text(i-.13,1+dy-.06,'***',ha='center')\n",
    "    else: ax.text(i-.13,1+dy-.01,'n.s',fontsize=7,ha='center')\n",
    "    if p2<.0005: ax.text(i,1+dy+.03,'***',ha='center')\n",
    "    else: ax.text(i,1+dy+.08,'n.s',fontsize=7,ha='center')\n",
    "        \n",
    "ax.set_ylabel('Relative nucleotide content\\nin the SRSF3-binding site',fontsize=11)\n",
    "ax.tick_params(bottom='off')\n",
    "ax.yaxis.grid(ls='-',lw=.5)\n",
    "fig.savefig(resultpath + '201016_f5e__nucleotide_content_hiseq.pdf')#,dpi=300)"
   ]
  },
  {
   "cell_type": "markdown",
   "metadata": {},
   "source": [
    "# F. Secondary structure of SRSF3-responsive miRNAs"
   ]
  },
  {
   "cell_type": "code",
   "execution_count": 224,
   "metadata": {
    "scrolled": true
   },
   "outputs": [
    {
     "name": "stdout",
     "output_type": "stream",
     "text": [
      "224 89 82\n"
     ]
    }
   ],
   "source": [
    "rescue = [ m for m in overlap if m not in dcsmirsmp and m in dcsmirs ]\n",
    "rescuedb = [ m for m in dboverlap if m in rescue ]\n",
    "nodcsdb = [ m for m in dboverlap if m in nodcs ]\n",
    "print len(rescue), len(rescuedb), len(nodcsdb)"
   ]
  },
  {
   "cell_type": "code",
   "execution_count": 238,
   "metadata": {},
   "outputs": [],
   "source": [
    "strintra = pd.DataFrame(index=s5.index, columns=range(1,31))\n",
    "for mir in s5.index:\n",
    "    ps, pe = preposition[mir]\n",
    "    f3str = s5.loc[mir][pe:-1]\n",
    "    f3str = dict(zip(range(1,31),[1 if s>0 else 0 for s in f3str]))\n",
    "    strintra.loc[mir] = pd.Series(f3str)"
   ]
  },
  {
   "cell_type": "code",
   "execution_count": 346,
   "metadata": {},
   "outputs": [
    {
     "data": {
      "text/html": [
       "<div>\n",
       "<style scoped>\n",
       "    .dataframe tbody tr th:only-of-type {\n",
       "        vertical-align: middle;\n",
       "    }\n",
       "\n",
       "    .dataframe tbody tr th {\n",
       "        vertical-align: top;\n",
       "    }\n",
       "\n",
       "    .dataframe thead th {\n",
       "        text-align: right;\n",
       "    }\n",
       "</style>\n",
       "<table border=\"1\" class=\"dataframe\">\n",
       "  <thead>\n",
       "    <tr style=\"text-align: right;\">\n",
       "      <th></th>\n",
       "      <th>1</th>\n",
       "      <th>2</th>\n",
       "      <th>3</th>\n",
       "      <th>4</th>\n",
       "      <th>5</th>\n",
       "      <th>6</th>\n",
       "      <th>7</th>\n",
       "      <th>8</th>\n",
       "      <th>9</th>\n",
       "      <th>10</th>\n",
       "      <th>...</th>\n",
       "      <th>21</th>\n",
       "      <th>22</th>\n",
       "      <th>23</th>\n",
       "      <th>24</th>\n",
       "      <th>25</th>\n",
       "      <th>26</th>\n",
       "      <th>27</th>\n",
       "      <th>28</th>\n",
       "      <th>29</th>\n",
       "      <th>30</th>\n",
       "    </tr>\n",
       "    <tr>\n",
       "      <th>Pri-miRNA</th>\n",
       "      <th></th>\n",
       "      <th></th>\n",
       "      <th></th>\n",
       "      <th></th>\n",
       "      <th></th>\n",
       "      <th></th>\n",
       "      <th></th>\n",
       "      <th></th>\n",
       "      <th></th>\n",
       "      <th></th>\n",
       "      <th></th>\n",
       "      <th></th>\n",
       "      <th></th>\n",
       "      <th></th>\n",
       "      <th></th>\n",
       "      <th></th>\n",
       "      <th></th>\n",
       "      <th></th>\n",
       "      <th></th>\n",
       "      <th></th>\n",
       "      <th></th>\n",
       "    </tr>\n",
       "  </thead>\n",
       "  <tbody>\n",
       "    <tr>\n",
       "      <th>hsa-let-7a-1</th>\n",
       "      <td>1</td>\n",
       "      <td>1</td>\n",
       "      <td>1</td>\n",
       "      <td>0</td>\n",
       "      <td>0</td>\n",
       "      <td>1</td>\n",
       "      <td>1</td>\n",
       "      <td>1</td>\n",
       "      <td>1</td>\n",
       "      <td>0</td>\n",
       "      <td>...</td>\n",
       "      <td>1</td>\n",
       "      <td>1</td>\n",
       "      <td>1</td>\n",
       "      <td>1</td>\n",
       "      <td>1</td>\n",
       "      <td>1</td>\n",
       "      <td>1</td>\n",
       "      <td>1</td>\n",
       "      <td>0</td>\n",
       "      <td>NaN</td>\n",
       "    </tr>\n",
       "    <tr>\n",
       "      <th>hsa-let-7a-2</th>\n",
       "      <td>1</td>\n",
       "      <td>1</td>\n",
       "      <td>1</td>\n",
       "      <td>1</td>\n",
       "      <td>1</td>\n",
       "      <td>0</td>\n",
       "      <td>0</td>\n",
       "      <td>0</td>\n",
       "      <td>1</td>\n",
       "      <td>1</td>\n",
       "      <td>...</td>\n",
       "      <td>0</td>\n",
       "      <td>1</td>\n",
       "      <td>1</td>\n",
       "      <td>1</td>\n",
       "      <td>1</td>\n",
       "      <td>1</td>\n",
       "      <td>0</td>\n",
       "      <td>0</td>\n",
       "      <td>0</td>\n",
       "      <td>0</td>\n",
       "    </tr>\n",
       "    <tr>\n",
       "      <th>hsa-let-7a-3</th>\n",
       "      <td>1</td>\n",
       "      <td>1</td>\n",
       "      <td>1</td>\n",
       "      <td>1</td>\n",
       "      <td>1</td>\n",
       "      <td>1</td>\n",
       "      <td>0</td>\n",
       "      <td>1</td>\n",
       "      <td>1</td>\n",
       "      <td>1</td>\n",
       "      <td>...</td>\n",
       "      <td>0</td>\n",
       "      <td>0</td>\n",
       "      <td>1</td>\n",
       "      <td>1</td>\n",
       "      <td>1</td>\n",
       "      <td>1</td>\n",
       "      <td>0</td>\n",
       "      <td>0</td>\n",
       "      <td>0</td>\n",
       "      <td>0</td>\n",
       "    </tr>\n",
       "    <tr>\n",
       "      <th>hsa-let-7b</th>\n",
       "      <td>1</td>\n",
       "      <td>1</td>\n",
       "      <td>0</td>\n",
       "      <td>1</td>\n",
       "      <td>1</td>\n",
       "      <td>0</td>\n",
       "      <td>1</td>\n",
       "      <td>1</td>\n",
       "      <td>1</td>\n",
       "      <td>1</td>\n",
       "      <td>...</td>\n",
       "      <td>0</td>\n",
       "      <td>0</td>\n",
       "      <td>0</td>\n",
       "      <td>0</td>\n",
       "      <td>0</td>\n",
       "      <td>0</td>\n",
       "      <td>0</td>\n",
       "      <td>NaN</td>\n",
       "      <td>NaN</td>\n",
       "      <td>NaN</td>\n",
       "    </tr>\n",
       "    <tr>\n",
       "      <th>hsa-let-7c</th>\n",
       "      <td>1</td>\n",
       "      <td>1</td>\n",
       "      <td>1</td>\n",
       "      <td>1</td>\n",
       "      <td>1</td>\n",
       "      <td>1</td>\n",
       "      <td>1</td>\n",
       "      <td>1</td>\n",
       "      <td>1</td>\n",
       "      <td>1</td>\n",
       "      <td>...</td>\n",
       "      <td>1</td>\n",
       "      <td>1</td>\n",
       "      <td>1</td>\n",
       "      <td>0</td>\n",
       "      <td>0</td>\n",
       "      <td>0</td>\n",
       "      <td>0</td>\n",
       "      <td>0</td>\n",
       "      <td>0</td>\n",
       "      <td>0</td>\n",
       "    </tr>\n",
       "  </tbody>\n",
       "</table>\n",
       "<p>5 rows × 30 columns</p>\n",
       "</div>"
      ],
      "text/plain": [
       "             1  2  3  4  5  6  7  8  9  10 ...  21 22 23 24 25 26 27   28  \\\n",
       "Pri-miRNA                                  ...                              \n",
       "hsa-let-7a-1  1  1  1  0  0  1  1  1  1  0 ...   1  1  1  1  1  1  1    1   \n",
       "hsa-let-7a-2  1  1  1  1  1  0  0  0  1  1 ...   0  1  1  1  1  1  0    0   \n",
       "hsa-let-7a-3  1  1  1  1  1  1  0  1  1  1 ...   0  0  1  1  1  1  0    0   \n",
       "hsa-let-7b    1  1  0  1  1  0  1  1  1  1 ...   0  0  0  0  0  0  0  NaN   \n",
       "hsa-let-7c    1  1  1  1  1  1  1  1  1  1 ...   1  1  1  0  0  0  0    0   \n",
       "\n",
       "               29   30  \n",
       "Pri-miRNA               \n",
       "hsa-let-7a-1    0  NaN  \n",
       "hsa-let-7a-2    0    0  \n",
       "hsa-let-7a-3    0    0  \n",
       "hsa-let-7b    NaN  NaN  \n",
       "hsa-let-7c      0    0  \n",
       "\n",
       "[5 rows x 30 columns]"
      ]
     },
     "execution_count": 346,
     "metadata": {},
     "output_type": "execute_result"
    }
   ],
   "source": [
    "strintra.head()"
   ]
  },
  {
   "cell_type": "code",
   "execution_count": 626,
   "metadata": {},
   "outputs": [],
   "source": [
    "xs = range(1,31)\n",
    "#ys1 = strintra.reindex(rescue)[xs].mean()*100\n",
    "ys1 = strintra.reindex(canono)[xs].mean()*100\n",
    "ys2 = strintra.reindex(nodcsdb)[xs].mean()*100"
   ]
  },
  {
   "cell_type": "code",
   "execution_count": 326,
   "metadata": {
    "scrolled": true
   },
   "outputs": [
    {
     "name": "stdout",
     "output_type": "stream",
     "text": [
      "124 100\n"
     ]
    }
   ],
   "source": [
    "rescuecn = [ m for m in rescue if any([find_cnnc(m,pos) for pos in [-16,-17,-18]]) ]\n",
    "rescueno = [ m for m in rescue if m not in rescuecn ]\n",
    "print len(rescuecn), len(rescueno)"
   ]
  },
  {
   "cell_type": "code",
   "execution_count": 627,
   "metadata": {},
   "outputs": [],
   "source": [
    "ys = ys1-ys2\n",
    "#xs = xs[2:27]\n",
    "ys = ys[2:27]\n",
    "xs = -np.arange(3,28)"
   ]
  },
  {
   "cell_type": "code",
   "execution_count": 628,
   "metadata": {},
   "outputs": [
    {
     "data": {
      "image/png": "[encoded data removed]",
      "text/plain": [
       "<matplotlib.figure.Figure at 0x7f41c8aaeb50>"
      ]
     },
     "metadata": {},
     "output_type": "display_data"
    }
   ],
   "source": [
    "fig, ax = plt.subplots(1, 1, figsize=(3,2.3))\n",
    "ax.bar(xs,ys,color='#646464',width=1,zorder=2)\n",
    "ax.set_ylabel('$\\Delta$ Base-pair frequency (%)')\n",
    "ax.set_xlabel('Position on 3$^\\prime$ flanking segment')\n",
    "ax.set_xticks(-np.arange(3,28,4))\n",
    "ax.set_xticks(-np.arange(3,28),minor=True)\n",
    "ax.invert_xaxis()\n",
    "ax.grid(which='both',ls='-',lw=.5)\n",
    "#fig.savefig(resultpath + '201119_f6e__structure.pdf')"
   ]
  },
  {
   "cell_type": "code",
   "execution_count": 588,
   "metadata": {},
   "outputs": [],
   "source": [
    "rcutoff = 20\n",
    "ncancer = 10\n",
    "nmirs = 200"
   ]
  },
  {
   "cell_type": "code",
   "execution_count": 330,
   "metadata": {},
   "outputs": [
    {
     "name": "stdout",
     "output_type": "stream",
     "text": [
      "32\n"
     ]
    }
   ],
   "source": [
    "tcgapath = 'supplementary/TCGA'\n",
    "cancers = [ fo for fo in listdir(tcgapath) if not fo.startswith('.') ]\n",
    "print len(cancers)"
   ]
  },
  {
   "cell_type": "code",
   "execution_count": 331,
   "metadata": {},
   "outputs": [],
   "source": [
    "exptbls = {}\n",
    "for cancer in cancers:\n",
    "    fname = [ f for f in listdir('%s/%s'%(tcgapath,cancer)) if f.endswith('uq') ][0]\n",
    "    tbl = pd.read_table('%s/%s/%s'%(tcgapath, cancer, fname), index_col=0)\n",
    "    tbl.index = [ i.split('|')[0] for i in tbl.index ]\n",
    "    exptbls[cancer] = tbl"
   ]
  },
  {
   "cell_type": "code",
   "execution_count": 416,
   "metadata": {},
   "outputs": [],
   "source": [
    "def get_corrs(protein, rcutoff):\n",
    "    tblr, tblp = pd.DataFrame(), pd.DataFrame()\n",
    "    for cancer in cancers:\n",
    "        exps = exptbls[cancer]\n",
    "        if protein not in exps.index:\n",
    "            continue\n",
    "        mats = [ m for m in exps.index if m.startswith('hsa-') and ' ' not in m ]\n",
    "        robust = sorted(mats, key=lambda x: np.average(exps.loc[x]))[-nmirs:]\n",
    "        for m in robust:\n",
    "            r, p = spearmanr(exps.loc[protein], exps.loc[m])\n",
    "            tblr.loc[m, cancer] = r\n",
    "            tblp.loc[m, cancer] = p\n",
    "    return tblr, tblp"
   ]
  },
  {
   "cell_type": "code",
   "execution_count": 589,
   "metadata": {},
   "outputs": [],
   "source": [
    "tr = get_corrs('SFRS3', rcutoff)[0]"
   ]
  },
  {
   "cell_type": "code",
   "execution_count": 590,
   "metadata": {},
   "outputs": [],
   "source": [
    "corrtbl = tr[tr.apply(lambda x: len(x.dropna())>=1, axis=1)]\n",
    "#tr2['average'] = tr2.apply(lambda x: sem(x.dropna()[:-1]), axis=1)\n",
    "#tr2['sem'] = tr2.apply(lambda x: sem(x.dropna()[:-1]), axis=1)\n",
    "#corrtbl = tr2.sort_values('average')"
   ]
  },
  {
   "cell_type": "code",
   "execution_count": 354,
   "metadata": {},
   "outputs": [],
   "source": [
    "from scipy.stats import spearmanr, pearsonr, mannwhitneyu"
   ]
  },
  {
   "cell_type": "code",
   "execution_count": 513,
   "metadata": {},
   "outputs": [],
   "source": [
    "def find_cnnc_v2(mir):\n",
    "    ps, pe = preposition[mir]\n",
    "    seq = constseqs[mir][pe+15:pe+21].replace('T','U')\n",
    "    return bool(re.search('C[A-Z][A-Z]C', seq))\n",
    "    #return bool(re.search('CUAC|CAUC', seq))"
   ]
  },
  {
   "cell_type": "code",
   "execution_count": 550,
   "metadata": {},
   "outputs": [
    {
     "data": {
      "text/plain": [
       "'hsa-let-7a-2'"
      ]
     },
     "execution_count": 550,
     "metadata": {},
     "output_type": "execute_result"
    }
   ],
   "source": [
    "dbtbl = pd.read_table('/casa/bsc/projects/resources/mirgenedb_190702/\\\n",
    "human_mirgenedb_browser.txt',index_col=0)\n",
    "dbtbl.head(1)\n",
    "namedic = dbtbl['MiRBase ID'].to_dict()\n",
    "namedic['Hsa-Let-7-P1']"
   ]
  },
  {
   "cell_type": "code",
   "execution_count": 558,
   "metadata": {},
   "outputs": [
    {
     "name": "stdout",
     "output_type": "stream",
     "text": [
      "527 5p\n"
     ]
    }
   ],
   "source": [
    "guides = {}\n",
    "for s in SeqIO.parse('../../2_Structure-of-pri/resources/mirgenedb_v2_guides.fa','fasta'):\n",
    "    pri, guide = s.id.split('_')\n",
    "    if pri not in namedic or namedic[pri]=='None':\n",
    "        continue\n",
    "    pri = namedic[pri]\n",
    "    guides[pri] = guide\n",
    "print len(guides), guides['hsa-let-7a-1']"
   ]
  },
  {
   "cell_type": "code",
   "execution_count": 342,
   "metadata": {},
   "outputs": [],
   "source": [
    "primat = get_pri_mature()"
   ]
  },
  {
   "cell_type": "code",
   "execution_count": 561,
   "metadata": {},
   "outputs": [
    {
     "name": "stdout",
     "output_type": "stream",
     "text": [
      "hsa-let-7a-5p\n"
     ]
    }
   ],
   "source": [
    "primat2 = {}\n",
    "for pri in guides.keys():\n",
    "    mats = primat[pri]\n",
    "    if len(mats)==1:\n",
    "        primat2[pri] = mats[0]\n",
    "    else:\n",
    "        for mat in mats:\n",
    "            if mat.endswith(guides[pri]):\n",
    "                primat2[pri] = mat\n",
    "                continue\n",
    "print primat2['hsa-let-7a-1']"
   ]
  },
  {
   "cell_type": "code",
   "execution_count": 583,
   "metadata": {},
   "outputs": [
    {
     "name": "stdout",
     "output_type": "stream",
     "text": [
      "296 217 74 439\n"
     ]
    }
   ],
   "source": [
    "cnncmirs = [ m for m in dboverlap if find_cnnc_v2(m) ]\n",
    "nocnmirs = [ m for m in dboverlap if m not in cnncmirs ]\n",
    "openmirs = [ m for m in dboverlap if strintra.loc[m,range(16,22)].sum()==0 ]\n",
    "strtmirs = [ m for m in dboverlap if strintra.loc[m,range(16,22)].sum()>0 ]\n",
    "print len(cnncmirs), len(nocnmirs), len(openmirs), len(strtmirs)"
   ]
  },
  {
   "cell_type": "code",
   "execution_count": 584,
   "metadata": {},
   "outputs": [
    {
     "name": "stdout",
     "output_type": "stream",
     "text": [
      "252 196 73 379\n"
     ]
    }
   ],
   "source": [
    "cnncmats = set([primat2[p] for p in cnncmirs if p in primat2])\n",
    "nocnmats = set([primat2[p] for p in nocnmirs if p in primat2])\n",
    "openmats = set([primat2[p] for p in openmirs if p in primat2])\n",
    "strtmats = set([primat2[p] for p in strtmirs if p in primat2])\n",
    "print len(cnncmats), len(nocnmats), len(openmats), len(strtmats)"
   ]
  },
  {
   "cell_type": "code",
   "execution_count": 585,
   "metadata": {},
   "outputs": [
    {
     "name": "stdout",
     "output_type": "stream",
     "text": [
      "48 215 26 172\n"
     ]
    }
   ],
   "source": [
    "cnncopen = cnncmats&openmats\n",
    "cnncstrt = cnncmats&strtmats\n",
    "nocnopen = nocnmats&openmats\n",
    "nocnstrt = nocnmats&strtmats\n",
    "print len(cnncopen), len(cnncstrt), len(nocnopen), len(nocnstrt)"
   ]
  },
  {
   "cell_type": "code",
   "execution_count": 594,
   "metadata": {},
   "outputs": [],
   "source": [
    "def get_all_corrs(mat):\n",
    "    if mat not in corrtbl.index:\n",
    "        return []\n",
    "    return corrtbl.loc[mat].dropna().tolist()"
   ]
  },
  {
   "cell_type": "code",
   "execution_count": 595,
   "metadata": {
    "scrolled": true
   },
   "outputs": [
    {
     "data": {
      "text/plain": [
       "[-0.263077629084369,\n",
       " -0.080041011619959,\n",
       " -0.2788732394366197,\n",
       " 0.03678192031964255,\n",
       " -0.5527410107115871,\n",
       " 0.058581962040411925,\n",
       " -0.40338313372021234,\n",
       " -0.12844008391953599,\n",
       " -0.12284804542575331,\n",
       " -0.27243478743478744,\n",
       " 0.124561536030913,\n",
       " 0.05035046973406147,\n",
       " 0.050467212183763877,\n",
       " -0.257802799094471,\n",
       " -0.02116642958748222,\n",
       " -0.19046690046337011,\n",
       " -0.09389887570620373,\n",
       " -0.11646556024244305,\n",
       " 0.03934480995743088,\n",
       " 0.18122083533605704,\n",
       " -0.3693817199294667,\n",
       " 0.06594301221166893,\n",
       " 0.18074439591033456,\n",
       " 0.08770116337672137,\n",
       " -0.18458771551788491,\n",
       " 0.13196480938416422,\n",
       " -0.03492516037063437,\n",
       " -0.18933272757009323,\n",
       " -0.02426297849802236,\n",
       " 0.28803088803088805,\n",
       " 0.14790652385589095,\n",
       " -0.09431929181929181]"
      ]
     },
     "execution_count": 595,
     "metadata": {},
     "output_type": "execute_result"
    }
   ],
   "source": [
    "get_all_corrs('hsa-let-7a-5p')"
   ]
  },
  {
   "cell_type": "code",
   "execution_count": 593,
   "metadata": {},
   "outputs": [],
   "source": [
    "mirls = [ cnncmirs, nocnmirs ]\n",
    "data = [ [corr for mat in matl for corr in get_all_corrs(mat)] for matl in matls ]\n",
    "colors = [ '#67a9cf','#af8dc3' ]\n",
    "labels = [ 'CNNC', 'No CNNC' ]"
   ]
  },
  {
   "cell_type": "code",
   "execution_count": 591,
   "metadata": {
    "scrolled": false
   },
   "outputs": [
    {
     "name": "stdout",
     "output_type": "stream",
     "text": [
      "[1611, 132, 2417, 759]\n",
      "1.356720316867712e-10\n",
      "0.1435184367849967\n",
      "0.07274145034416252\n"
     ]
    },
    {
     "data": {
      "text/plain": [
       "<matplotlib.legend.Legend at 0x7f41b478d210>"
      ]
     },
     "execution_count": 591,
     "metadata": {},
     "output_type": "execute_result"
    },
    {
     "data": {
      "image/png": "[encoded data removed]",
      "text/plain": [
       "<matplotlib.figure.Figure at 0x7f41b45c3e10>"
      ]
     },
     "metadata": {},
     "output_type": "display_data"
    }
   ],
   "source": [
    "for mirl, label, color in zip(mirls,labels,colors):\n",
    "    opens = [ primat2[m] for m in mirl if strintra.loc[m,range(16,22)].sum()==0 and\n",
    "              m in primat2 ]\n",
    "    pairs = [ primat2[m] for m in mirl if strintra.loc[m,range(16,22)].sum()==0 and\n",
    "              m in primat2 ]\n",
    "    dopen = [ corr for mat in opens for corr in get_all_corrs(mat) ]\n",
    "    \n",
    "    vs, ts = np.histogram(d,bins=np.linspace(-1,1,100))\n",
    "    xs = (ts[1:]+ts[:-1])/2\n",
    "    ys = vs.cumsum()/vs.sum()\n",
    "    plt.plot(xs,ys,label=i)\n",
    "plt.legend()"
   ]
  },
  {
   "cell_type": "code",
   "execution_count": null,
   "metadata": {},
   "outputs": [],
   "source": []
  },
  {
   "cell_type": "code",
   "execution_count": null,
   "metadata": {},
   "outputs": [],
   "source": []
  },
  {
   "cell_type": "code",
   "execution_count": null,
   "metadata": {},
   "outputs": [],
   "source": []
  },
  {
   "cell_type": "code",
   "execution_count": 230,
   "metadata": {},
   "outputs": [
    {
     "data": {
      "text/plain": [
       "Text(18,70,u'SRSF3-\\nbinding site')"
      ]
     },
     "execution_count": 230,
     "metadata": {},
     "output_type": "execute_result"
    },
    {
     "data": {
      "image/png": "[encoded data removed]",
      "text/plain": [
       "<matplotlib.figure.Figure at 0x7f41d4c9df90>"
      ]
     },
     "metadata": {},
     "output_type": "display_data"
    }
   ],
   "source": [
    "fig, ax = plt.subplots(1, 1, figsize=(3.5,2.3))\n",
    "ax.errorbar(xs,ys1,ms=3,marker='o',color='#a50f15',zorder=2,label='NP-to-P (%s)'%len(rescue))\n",
    "ax.errorbar(xs,ys2,ms=3,marker='o',color='#424242',zorder=2,label='NP-to-NP (%s)'%len(nodcsdb))\n",
    "\n",
    "ax.set_xlim(0,24.5)\n",
    "ax.set_ylabel('Base-pair probability (%)',fontsize=12)\n",
    "ax.set_xticks(range(3,25,4))\n",
    "ax.set_xticks(range(1,25),minor=True)\n",
    "ax.set_xticklabels([-3,-7,-11,-15,-19,-23])\n",
    "ax.grid(ls='-',lw=.5)\n",
    "ax.legend(handlelength=1.5, loc=(.55,.8), prop={'size':10}, labelspacing=.3)\n",
    "ax.plot([14.5,14.5,21.5,21.5],[67,68,68,67],'k-',lw=1.3)\n",
    "ax.text(18,70,'SRSF3-\\nbinding site',ha='center',linespacing=.95)\n",
    "#fig.savefig(resultpath + '201016_f5f__basepair_frequency_intra_hiseq.pdf')#,dpi=300)"
   ]
  },
  {
   "cell_type": "markdown",
   "metadata": {},
   "source": [
    "# G. Primary sequence motifs of SRSF3-dependent miRNAs"
   ]
  },
  {
   "cell_type": "code",
   "execution_count": 227,
   "metadata": {},
   "outputs": [],
   "source": [
    "def clv_to_relative_pos(mir, c5, c3):\n",
    "    ps, pe, strand = s2.loc[mir, ['Start','End','Strand']]\n",
    "    if strand=='+':\n",
    "        return c5-ps+1, c3-ps+1\n",
    "    return pe-c5+1, pe-c3+1"
   ]
  },
  {
   "cell_type": "code",
   "execution_count": 228,
   "metadata": {},
   "outputs": [],
   "source": [
    "seq5tbl, seq3tbl = pd.DataFrame(columns=range(-20,30)), pd.DataFrame(columns=range(-25,30))\n",
    "str5tbl, str3tbl = pd.DataFrame(columns=range(-20,30)), pd.DataFrame(columns=range(-25,30))"
   ]
  },
  {
   "cell_type": "code",
   "execution_count": 229,
   "metadata": {},
   "outputs": [],
   "source": [
    "for mir in s8.index:\n",
    "    if mir in dcsmirs:\n",
    "        pres, pree = s8.loc[mir,[\"5' cleavage site\",\"3' cleavage site\"]].astype(float)\n",
    "        rps, rpe = clv_to_relative_pos(mir, int(pres), int(pree))\n",
    "    else:\n",
    "        ps, pe = get_pre_annot(mir)[1:3]\n",
    "        rps, rpe = mirbase_to_relative_pos(mir, ps, pe)\n",
    "    priseq = constseqs[mir].replace('T','U')\n",
    "    strt = [ 1 if s=='M' else 0 for s in s5.loc[mir,'symbolized structure'] ]\n",
    "    seq5, str5 = priseq[max(0,rps-21):rps+29][::-1], strt[max(0,rps-21):rps+29][::-1]\n",
    "    seq3, str3 = priseq[rpe-30:min(125,rpe+25)], strt[rpe-30:min(125,rpe+25)]\n",
    "    pos5, pos3 = range(-20,30)[::-1], range(-25,30)[::-1]\n",
    "    seq5tbl.loc[mir] = pd.Series(dict(zip(pos5,seq5)[::-1]))\n",
    "    seq3tbl.loc[mir] = pd.Series(dict(zip(pos3,seq3)[::-1]))\n",
    "    str5tbl.loc[mir] = pd.Series(dict(zip(pos5,str5)[::-1]))\n",
    "    str3tbl.loc[mir] = pd.Series(dict(zip(pos3,str3)[::-1]))"
   ]
  },
  {
   "cell_type": "code",
   "execution_count": 230,
   "metadata": {},
   "outputs": [],
   "source": [
    "seq5tbl = seq5tbl.fillna('')\n",
    "str5tbl = str5tbl.fillna('')\n",
    "seq3tbl = seq3tbl.fillna('')\n",
    "str3tbl = str3tbl.fillna('')"
   ]
  },
  {
   "cell_type": "code",
   "execution_count": 231,
   "metadata": {},
   "outputs": [],
   "source": [
    "def find_ug(mir, pos):\n",
    "    seq = ''.join(seq5tbl.loc[mir,range(pos,pos+2)].fillna(''))\n",
    "    return seq=='UG'"
   ]
  },
  {
   "cell_type": "code",
   "execution_count": 232,
   "metadata": {},
   "outputs": [],
   "source": [
    "def find_ugu(mir, pos):\n",
    "    seq = ''.join(seq5tbl.loc[mir,range(pos,pos+3)])\n",
    "    return (seq=='UGU' or seq=='GUG')"
   ]
  },
  {
   "cell_type": "code",
   "execution_count": 233,
   "metadata": {},
   "outputs": [],
   "source": [
    "def find_cnnc(mir, pos):\n",
    "    seq = ''.join(seq3tbl.loc[mir,range(pos-3,pos+1)].fillna(''))\n",
    "    return bool(re.search('C[A-Z][A-Z]C', seq))"
   ]
  },
  {
   "cell_type": "code",
   "execution_count": 234,
   "metadata": {},
   "outputs": [],
   "source": [
    "def find_ghg(mir, pos):\n",
    "    seq = ''.join(seq3tbl.loc[mir,range(pos-2,pos+1)].fillna(''))\n",
    "    st = str3tbl.loc[mir,range(pos-2,pos+1)].tolist()\n",
    "    return (bool(re.search('G[^G][A-Z]', seq)) and st==[1,0,1])\n",
    "    #return (st==[1,0,1])"
   ]
  },
  {
   "cell_type": "code",
   "execution_count": 53,
   "metadata": {},
   "outputs": [],
   "source": [
    "motifs = [ 'CNNC', 'UG', 'GHG', 'UGU' ]\n",
    "ranges = { 'UG':range(-16,-11),'UGU':range(20,25),'GHG':range(-5,0), 'CNNC':range(-20,-15) }\n",
    "funcs = { 'UG':find_ug, 'UGU':find_ugu, 'GHG':find_ghg, 'CNNC':find_cnnc }"
   ]
  },
  {
   "cell_type": "code",
   "execution_count": 54,
   "metadata": {},
   "outputs": [],
   "source": [
    "bsfreq = defaultdict(lambda: defaultdict(int))\n",
    "for mir in s8.index:\n",
    "    for motif in motifs:\n",
    "        for pos in ranges[motif]:\n",
    "            bsfreq[motif][pos]+=int(funcs[motif](mir,pos))/len(s8.index)"
   ]
  },
  {
   "cell_type": "code",
   "execution_count": 55,
   "metadata": {},
   "outputs": [],
   "source": [
    "mirls = [nptop, ptop]"
   ]
  },
  {
   "cell_type": "code",
   "execution_count": 56,
   "metadata": {},
   "outputs": [],
   "source": [
    "entbls = defaultdict(lambda: pd.DataFrame())\n",
    "for motif in motifs:\n",
    "    for i, mirl in enumerate(mirls):\n",
    "        for pos in ranges[motif]:\n",
    "            freq = len([m for m in mirl if funcs[motif](m,pos)])/len(mirl)\n",
    "            if freq==0:\n",
    "                entbls[motif].loc[i,pos] = -1\n",
    "            else:\n",
    "                entbls[motif].loc[i,pos] = np.log2(freq/bsfreq[motif][pos])\n",
    "                #entbls[motif].loc[i,pos] = np.log2(freq/np.average(bsfreq[motif].values()))"
   ]
  },
  {
   "cell_type": "code",
   "execution_count": 247,
   "metadata": {},
   "outputs": [],
   "source": [
    "labels = [ 'NP-to-P', 'P-to-P' ]\n",
    "arms = { 'UG':'5p', 'UGU':'5p', 'GHG':'3p', 'CNNC':'3p' }\n",
    "cmap = custom_cmap(['#404040','#f0f0f0','#f0f0f0','#a50f15'], nspace=6)\n",
    "emax, emin = 1.5, -1.5"
   ]
  },
  {
   "cell_type": "code",
   "execution_count": 248,
   "metadata": {},
   "outputs": [
    {
     "data": {
      "image/png": "[encoded data removed]",
      "text/plain": [
       "<matplotlib.figure.Figure at 0x7f1c21bcd250>"
      ]
     },
     "metadata": {},
     "output_type": "display_data"
    }
   ],
   "source": [
    "fig, axes = plt.subplots(1, 4, figsize=(8,.8), sharey=True)\n",
    "for motif,ax in zip(motifs,axes):\n",
    "    im = ax.pcolor(entbls[motif],cmap=cmap,vmax=emax,vmin=emin)\n",
    "    ax.set_xticks(np.arange(5)+.5)\n",
    "    ax.set_xticklabels([i if i<0 else '+%s'%(i+1) for i in ranges[motif]])\n",
    "    ax.tick_params(left='off',bottom='off')\n",
    "    ax.spines['left'].set_visible(False); ax.spines['bottom'].set_visible(False)\n",
    "    ax.set_title('%s (%s)'%(motif.replace('UGU','UGU/GUG').replace('GHG','mGHG'),arms[motif]))\n",
    "ax = axes[0]\n",
    "ax.invert_yaxis()\n",
    "ax.set_yticks(np.arange(len(mirls))+.5)\n",
    "ax.set_yticklabels(labels, fontsize=11)\n",
    "axcb = fig.add_axes([.92,.1,.02,.7])\n",
    "cb = plt.colorbar(im, cax=axcb); cb.set_ticks([-1,0,1])\n",
    "fig.text(.98,.45,'Enrichment',va='center',rotation=270,fontsize=11)\n",
    "fig.subplots_adjust(wspace=.1)\n",
    "fig.savefig(resultpath + '201016_f5g__nptop_ptop_sequence_hiseq_v1.pdf')#,dpi=300)"
   ]
  },
  {
   "cell_type": "markdown",
   "metadata": {},
   "source": [
    "# H. Comparison with DROSHA fCLIP-seq sites"
   ]
  },
  {
   "cell_type": "code",
   "execution_count": 249,
   "metadata": {},
   "outputs": [
    {
     "name": "stdout",
     "output_type": "stream",
     "text": [
      "50\n"
     ]
    }
   ],
   "source": [
    "s6sort = s6.sort_values('Cleavage Specificity', ascending=False)\n",
    "shifted = []\n",
    "for mir in ptop:\n",
    "    c5 = int(s7.loc[mir,\"IVP 5' site\"].split(', ')[0])\n",
    "    c3 = int(s7.loc[mir,\"IVP 3' site\"].split(', ')[0])\n",
    "    c5new, c3new = s8.loc[mir,[\"5' cleavage site\",\"3' cleavage site\"]].astype(float)\n",
    "    if c5!=int(c5new) or c3!=int(c3new):\n",
    "        shifted.append(mir)\n",
    "print len(shifted)"
   ]
  },
  {
   "cell_type": "code",
   "execution_count": 261,
   "metadata": {},
   "outputs": [
    {
     "name": "stdout",
     "output_type": "stream",
     "text": [
      "18 1\n"
     ]
    }
   ],
   "source": [
    "consis, incons = [],[]\n",
    "for mir in shifted:\n",
    "    if mir not in s7[\"fCLIP 5' site\"].dropna().index: continue\n",
    "    fcl5cs = map(int, s7.loc[mir,\"fCLIP 5' site\"].split(', '))\n",
    "    fcl3cs = map(int, s7.loc[mir,\"fCLIP 3' site\"].split(', '))\n",
    "    c5new, c3new = s8.loc[mir,[\"5' cleavage site\",\"3' cleavage site\"]].astype(float)\n",
    "    if int(c5new) in fcl5cs and int(c3new) in fcl3cs:\n",
    "        consis.append(mir)\n",
    "    else:\n",
    "        incons.append(mir)\n",
    "print len(consis), len(incons)"
   ]
  },
  {
   "cell_type": "code",
   "execution_count": 262,
   "metadata": {},
   "outputs": [],
   "source": [
    "data = [ len(consis), len(incons) ]\n",
    "frac = map(lambda x:x/sum(data)*100, data)\n",
    "colors = [ '#8da0cb', '#969696' ]\n",
    "title = 'P-to-P miRNAs with altered cleavage sites (n=%s)'%sum(data)\n",
    "labels = ['Matched with fCLIP site','Not matched']"
   ]
  },
  {
   "cell_type": "code",
   "execution_count": 263,
   "metadata": {},
   "outputs": [
    {
     "data": {
      "image/png": "[encoded data removed]",
      "text/plain": [
       "<matplotlib.figure.Figure at 0x7f1c22050090>"
      ]
     },
     "metadata": {},
     "output_type": "display_data"
    }
   ],
   "source": [
    "fig, ax = plt.subplots(1, 1, figsize=(2,2))\n",
    "\n",
    "ps, ts = ax.pie(data,colors=colors,startangle=-10,textprops={'fontsize':12},)\n",
    "for p in ps:\n",
    "    p.set_linewidth(1.5)\n",
    "    p.set_edgecolor('white')\n",
    "\n",
    "ax.text(1.1,.4,'Consistent with fCLIP site\\n(%s, %.0f%%)'%(data[0],frac[0]),fontsize=11)\n",
    "ax.text(1.15,-.7,'Inconsistent\\n(%s, %.0f%%)'%(data[1],frac[1]),fontsize=11)\n",
    "\n",
    "l = lines.Line2D([.9,1],[.5,.55],color='k',lw=1); ax.add_line(l); l.set_clip_on(False)\n",
    "l = lines.Line2D([.95,1.05],[-.37,-.41],color='k',lw=1); ax.add_line(l); l.set_clip_on(False)\n",
    "l = lines.Line2D([-1.1,-1.1,2.5,2.5],[1.1,1.15,1.15,1.1],\n",
    "                color='k',lw=1); ax.add_line(l); l.set_clip_on(False)\n",
    "ax.text(-1.25,1.4,title,fontsize=12)\n",
    "fig.savefig(resultpath + '201016_f5h__comparison_fCLIP_hiseq.pdf')#,dpi=300)"
   ]
  },
  {
   "cell_type": "code",
   "execution_count": 264,
   "metadata": {
    "scrolled": true
   },
   "outputs": [],
   "source": [
    "fclipexcel = pd.ExcelFile('supplementary/Kim_2017_s2.xlsx')\n",
    "fclip293t = fclipexcel.parse('HEK293T_miRBase', index_col=0)\n",
    "fcliphela = fclipexcel.parse('HeLa_miRBase', index_col=0)\n",
    "both293t = fclip293t[(fclip293t['Group5p']!='Unidentified')\n",
    "                     &(fclip293t['Group3p']!='Unidentified')]\n",
    "bothhela = fcliphela[(fcliphela['Group5p']!='Unidentified')\n",
    "                     &(fcliphela['Group3p']!='Unidentified')]"
   ]
  },
  {
   "cell_type": "code",
   "execution_count": 265,
   "metadata": {},
   "outputs": [
    {
     "name": "stdout",
     "output_type": "stream",
     "text": [
      "38 10\n"
     ]
    }
   ],
   "source": [
    "consis, incons = [],[]\n",
    "for mir in nptop:\n",
    "    if mir in both293t.index:\n",
    "        fcl5cs = map(int, str(both293t.loc[mir, 'fCLIPPosition5p']).split(';'))\n",
    "        fcl3cs = map(int, str(both293t.loc[mir, 'fCLIPPosition3p']).split(';'))\n",
    "    elif mir in bothhela.index:\n",
    "        fcl5cs = map(int, str(bothhela.loc[mir, 'fCLIPPosition5p']).split(';'))\n",
    "        fcl3cs = map(int, str(bothhela.loc[mir, 'fCLIPPosition3p']).split(';'))\n",
    "    else:\n",
    "        continue\n",
    "    c5new, c3new = s8.loc[mir,[\"5' cleavage site\",\"3' cleavage site\"]].astype(float)\n",
    "    if int(c5new) in fcl5cs and int(c3new) in fcl3cs:\n",
    "        consis.append(mir)\n",
    "    else:\n",
    "        incons.append(mir)\n",
    "print len(consis), len(incons)"
   ]
  },
  {
   "cell_type": "code",
   "execution_count": 266,
   "metadata": {},
   "outputs": [],
   "source": [
    "data = [ len(consis), len(incons) ]\n",
    "frac = map(lambda x:x/sum(data)*100, data)\n",
    "colors = [ '#66c2a5', '#969696' ]\n",
    "title = 'NP-to-P miRNAs (n=%s)'%sum(data)\n",
    "labels = ['Matched with fCLIP site','Not matched']"
   ]
  },
  {
   "cell_type": "code",
   "execution_count": 269,
   "metadata": {},
   "outputs": [
    {
     "data": {
      "image/png": "[encoded data removed]",
      "text/plain": [
       "<matplotlib.figure.Figure at 0x7f1c86381f10>"
      ]
     },
     "metadata": {},
     "output_type": "display_data"
    }
   ],
   "source": [
    "fig, ax = plt.subplots(1, 1, figsize=(2,2))\n",
    "\n",
    "ps, ts = ax.pie(data,colors=colors,startangle=10,textprops={'fontsize':12},)\n",
    "for p in ps:\n",
    "    p.set_linewidth(1.5)\n",
    "    p.set_edgecolor('white')\n",
    "\n",
    "ax.text(1.1,.4,'Consistent with fCLIP site\\n(%s, %.0f%%)'%(data[0],frac[0]),fontsize=11)\n",
    "ax.text(1.15,-.7,'Inconsistent\\n(%s, %.0f%%)'%(data[1],frac[1]),fontsize=11)\n",
    "\n",
    "l = lines.Line2D([.9,1],[.5,.55],color='k',lw=1); ax.add_line(l); l.set_clip_on(False)\n",
    "l = lines.Line2D([.95,1.05],[-.37,-.41],color='k',lw=1); ax.add_line(l); l.set_clip_on(False)\n",
    "l = lines.Line2D([-1.1,-1.1,2,2],[1.1,1.15,1.15,1.1],\n",
    "                color='k',lw=1); ax.add_line(l); l.set_clip_on(False)\n",
    "ax.text(-1,1.4,title,fontsize=12)\n",
    "fig.savefig(resultpath + '201016_f5h_comparison_fCLIP_nptop_hiseq.pdf')#,dpi=300)"
   ]
  },
  {
   "cell_type": "code",
   "execution_count": null,
   "metadata": {},
   "outputs": [],
   "source": []
  }
 ],
 "metadata": {
  "kernelspec": {
   "display_name": "Python 2",
   "language": "python",
   "name": "python2"
  },
  "language_info": {
   "codemirror_mode": {
    "name": "ipython",
    "version": 2
   },
   "file_extension": ".py",
   "mimetype": "text/x-python",
   "name": "python",
   "nbconvert_exporter": "python",
   "pygments_lexer": "ipython2",
   "version": "2.7.18"
  }
 },
 "nbformat": 4,
 "nbformat_minor": 2
}
