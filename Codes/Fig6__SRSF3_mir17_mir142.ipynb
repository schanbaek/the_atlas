{
 "cells": [
  {
   "cell_type": "markdown",
   "metadata": {},
   "source": [
    "# Figure 4. SRSF3 induces alternative processing and prevents nick processing\n",
    "B. Volcano plot for pri-mir-142 from MS"
   ]
  },
  {
   "cell_type": "code",
   "execution_count": 4,
   "metadata": {},
   "outputs": [
    {
     "name": "stdout",
     "output_type": "stream",
     "text": [
      "Last revised by Seungchan Baek at 2020-12-29.\n"
     ]
    }
   ],
   "source": [
    "import time\n",
    "today = time.strftime('%Y-%m-%d')\n",
    "name = 'Seungchan Baek'\n",
    "print 'Last revised by %s at %s.' % (name, today)"
   ]
  },
  {
   "cell_type": "code",
   "execution_count": 5,
   "metadata": {},
   "outputs": [
    {
     "name": "stdout",
     "output_type": "stream",
     "text": [
      "/casa/bsc/projects/1_DCS/2004_paper_prep\n"
     ]
    }
   ],
   "source": [
    "home = '/casa/bsc/projects/1_DCS/2004_paper_prep/'\n",
    "%cd $home"
   ]
  },
  {
   "cell_type": "code",
   "execution_count": 21,
   "metadata": {},
   "outputs": [
    {
     "name": "stdout",
     "output_type": "stream",
     "text": [
      "resultpath: results/201229/\n"
     ]
    }
   ],
   "source": [
    "from __future__ import division\n",
    "import sys; sys.path.append('/casa/bsc/notebooks/')\n",
    "from basic import gen_result_dir\n",
    "from util import *\n",
    "resultpath = gen_result_dir('results/')\n",
    "print 'resultpath:', resultpath"
   ]
  },
  {
   "cell_type": "code",
   "execution_count": 7,
   "metadata": {},
   "outputs": [],
   "source": [
    "import pandas as pd\n",
    "import numpy as np\n",
    "from matplotlib import pyplot as plt\n",
    "%matplotlib inline"
   ]
  },
  {
   "cell_type": "code",
   "execution_count": 8,
   "metadata": {
    "scrolled": true
   },
   "outputs": [
    {
     "data": {
      "text/html": [
       "<div>\n",
       "<style scoped>\n",
       "    .dataframe tbody tr th:only-of-type {\n",
       "        vertical-align: middle;\n",
       "    }\n",
       "\n",
       "    .dataframe tbody tr th {\n",
       "        vertical-align: top;\n",
       "    }\n",
       "\n",
       "    .dataframe thead th {\n",
       "        text-align: right;\n",
       "    }\n",
       "</style>\n",
       "<table border=\"1\" class=\"dataframe\">\n",
       "  <thead>\n",
       "    <tr style=\"text-align: right;\">\n",
       "      <th></th>\n",
       "      <th>log2FC_mir142</th>\n",
       "      <th>P.Value_mir142</th>\n",
       "      <th>adj.P.Val_mir142</th>\n",
       "      <th>log2FC_mir17</th>\n",
       "      <th>P.Value_mir17</th>\n",
       "      <th>adj.P.Val_mir17</th>\n",
       "    </tr>\n",
       "    <tr>\n",
       "      <th>genes</th>\n",
       "      <th></th>\n",
       "      <th></th>\n",
       "      <th></th>\n",
       "      <th></th>\n",
       "      <th></th>\n",
       "      <th></th>\n",
       "    </tr>\n",
       "  </thead>\n",
       "  <tbody>\n",
       "    <tr>\n",
       "      <th>SRSF3</th>\n",
       "      <td>4.649891</td>\n",
       "      <td>0.000010</td>\n",
       "      <td>0.001701</td>\n",
       "      <td>2.392470</td>\n",
       "      <td>0.007546</td>\n",
       "      <td>0.045274</td>\n",
       "    </tr>\n",
       "    <tr>\n",
       "      <th>ILF3</th>\n",
       "      <td>4.082434</td>\n",
       "      <td>0.000036</td>\n",
       "      <td>0.001959</td>\n",
       "      <td>0.696496</td>\n",
       "      <td>0.177904</td>\n",
       "      <td>0.343100</td>\n",
       "    </tr>\n",
       "    <tr>\n",
       "      <th>RPL27A</th>\n",
       "      <td>3.240463</td>\n",
       "      <td>0.000032</td>\n",
       "      <td>0.001959</td>\n",
       "      <td>2.511979</td>\n",
       "      <td>0.000153</td>\n",
       "      <td>0.005522</td>\n",
       "    </tr>\n",
       "    <tr>\n",
       "      <th>ILF2</th>\n",
       "      <td>2.909337</td>\n",
       "      <td>0.000150</td>\n",
       "      <td>0.006120</td>\n",
       "      <td>1.336814</td>\n",
       "      <td>0.114950</td>\n",
       "      <td>0.255095</td>\n",
       "    </tr>\n",
       "    <tr>\n",
       "      <th>RPS9</th>\n",
       "      <td>3.827202</td>\n",
       "      <td>0.000766</td>\n",
       "      <td>0.014647</td>\n",
       "      <td>4.343491</td>\n",
       "      <td>0.001901</td>\n",
       "      <td>0.017772</td>\n",
       "    </tr>\n",
       "  </tbody>\n",
       "</table>\n",
       "</div>"
      ],
      "text/plain": [
       "        log2FC_mir142  P.Value_mir142  adj.P.Val_mir142  log2FC_mir17  \\\n",
       "genes                                                                   \n",
       "SRSF3        4.649891        0.000010          0.001701      2.392470   \n",
       "ILF3         4.082434        0.000036          0.001959      0.696496   \n",
       "RPL27A       3.240463        0.000032          0.001959      2.511979   \n",
       "ILF2         2.909337        0.000150          0.006120      1.336814   \n",
       "RPS9         3.827202        0.000766          0.014647      4.343491   \n",
       "\n",
       "        P.Value_mir17  adj.P.Val_mir17  \n",
       "genes                                   \n",
       "SRSF3        0.007546         0.045274  \n",
       "ILF3         0.177904         0.343100  \n",
       "RPL27A       0.000153         0.005522  \n",
       "ILF2         0.114950         0.255095  \n",
       "RPS9         0.001901         0.017772  "
      ]
     },
     "execution_count": 8,
     "metadata": {},
     "output_type": "execute_result"
    }
   ],
   "source": [
    "mstbl1 = pd.read_csv('supplementary/MS/142_vs_No bait_all.csv', index_col=0)\n",
    "mstbl2 = pd.read_csv('supplementary/MS/17_vs_No bait_all.csv', index_col=0)\n",
    "ms1 = mstbl1[['log2FC','P.Value','adj.P.Val']]\n",
    "ms2 = mstbl2[['log2FC','P.Value','adj.P.Val']]\n",
    "msjoin = ms1.join(ms2,how='outer',lsuffix='_mir142',rsuffix='_mir17')\n",
    "msjoin = msjoin.sort_values('adj.P.Val_mir142')\n",
    "msjoin.head()"
   ]
  },
  {
   "cell_type": "code",
   "execution_count": 32,
   "metadata": {},
   "outputs": [],
   "source": [
    "msjoin.to_csv('supplementary/201123_s8__Mass_analysis.csv')"
   ]
  },
  {
   "cell_type": "markdown",
   "metadata": {},
   "source": [
    "## Volcano plot for pri-mir-142 from MS"
   ]
  },
  {
   "cell_type": "code",
   "execution_count": 14,
   "metadata": {
    "scrolled": true
   },
   "outputs": [
    {
     "data": {
      "text/html": [
       "<div>\n",
       "<style scoped>\n",
       "    .dataframe tbody tr th:only-of-type {\n",
       "        vertical-align: middle;\n",
       "    }\n",
       "\n",
       "    .dataframe tbody tr th {\n",
       "        vertical-align: top;\n",
       "    }\n",
       "\n",
       "    .dataframe thead th {\n",
       "        text-align: right;\n",
       "    }\n",
       "</style>\n",
       "<table border=\"1\" class=\"dataframe\">\n",
       "  <thead>\n",
       "    <tr style=\"text-align: right;\">\n",
       "      <th></th>\n",
       "      <th>log2FC</th>\n",
       "      <th>AveExpr</th>\n",
       "      <th>EffSize</th>\n",
       "      <th>t</th>\n",
       "      <th>P.Value</th>\n",
       "      <th>adj.P.Val</th>\n",
       "    </tr>\n",
       "    <tr>\n",
       "      <th>genes</th>\n",
       "      <th></th>\n",
       "      <th></th>\n",
       "      <th></th>\n",
       "      <th></th>\n",
       "      <th></th>\n",
       "      <th></th>\n",
       "    </tr>\n",
       "  </thead>\n",
       "  <tbody>\n",
       "    <tr>\n",
       "      <th>GNL3</th>\n",
       "      <td>3.489669</td>\n",
       "      <td>9.693243</td>\n",
       "      <td>7.231195</td>\n",
       "      <td>7.632254</td>\n",
       "      <td>0.000239</td>\n",
       "      <td>0.005522</td>\n",
       "    </tr>\n",
       "    <tr>\n",
       "      <th>RBM39</th>\n",
       "      <td>-3.791433</td>\n",
       "      <td>8.446697</td>\n",
       "      <td>7.572127</td>\n",
       "      <td>-8.003826</td>\n",
       "      <td>0.000183</td>\n",
       "      <td>0.005522</td>\n",
       "    </tr>\n",
       "    <tr>\n",
       "      <th>RPL35</th>\n",
       "      <td>4.458971</td>\n",
       "      <td>13.482809</td>\n",
       "      <td>6.200467</td>\n",
       "      <td>9.076313</td>\n",
       "      <td>0.000089</td>\n",
       "      <td>0.005522</td>\n",
       "    </tr>\n",
       "    <tr>\n",
       "      <th>RPL27A</th>\n",
       "      <td>2.511979</td>\n",
       "      <td>10.383807</td>\n",
       "      <td>6.258778</td>\n",
       "      <td>8.254291</td>\n",
       "      <td>0.000153</td>\n",
       "      <td>0.005522</td>\n",
       "    </tr>\n",
       "    <tr>\n",
       "      <th>HNRNPM</th>\n",
       "      <td>2.594470</td>\n",
       "      <td>15.165240</td>\n",
       "      <td>5.951707</td>\n",
       "      <td>9.579872</td>\n",
       "      <td>0.000065</td>\n",
       "      <td>0.005522</td>\n",
       "    </tr>\n",
       "  </tbody>\n",
       "</table>\n",
       "</div>"
      ],
      "text/plain": [
       "          log2FC    AveExpr   EffSize         t   P.Value  adj.P.Val\n",
       "genes                                                               \n",
       "GNL3    3.489669   9.693243  7.231195  7.632254  0.000239   0.005522\n",
       "RBM39  -3.791433   8.446697  7.572127 -8.003826  0.000183   0.005522\n",
       "RPL35   4.458971  13.482809  6.200467  9.076313  0.000089   0.005522\n",
       "RPL27A  2.511979  10.383807  6.258778  8.254291  0.000153   0.005522\n",
       "HNRNPM  2.594470  15.165240  5.951707  9.579872  0.000065   0.005522"
      ]
     },
     "execution_count": 14,
     "metadata": {},
     "output_type": "execute_result"
    }
   ],
   "source": [
    "#mstbl = pd.read_csv('supplementary/MS/142_vs_No bait_all.csv', index_col=0)\n",
    "mstbl = pd.read_csv('supplementary/MS/17_vs_No bait_all.csv', index_col=0)\n",
    "mstbl.head()"
   ]
  },
  {
   "cell_type": "code",
   "execution_count": 8,
   "metadata": {},
   "outputs": [
    {
     "name": "stdout",
     "output_type": "stream",
     "text": [
      "163\n"
     ]
    }
   ],
   "source": [
    "# mir-142\n",
    "xs = mstbl['log2FC']\n",
    "ys = -np.log10(mstbl['adj.P.Val'])\n",
    "lw = .8\n",
    "s = 15\n",
    "color, ecolor, colorsub = '#464646', 'black', 'tab:red'\n",
    "alpha = .7\n",
    "proteins = mstbl[(mstbl['log2FC']>=2)&(mstbl['adj.P.Val']<.05)].index\n",
    "xssub = mstbl.loc[proteins, 'log2FC']\n",
    "yssub = -np.log10(mstbl.loc[proteins,'adj.P.Val'])\n",
    "ymin, ymax = -.1, 3\n",
    "xmin, xmax = -3.7, 5\n",
    "cutx, cuty = 2, -np.log10(.005)\n",
    "print len(xs)"
   ]
  },
  {
   "cell_type": "code",
   "execution_count": 18,
   "metadata": {},
   "outputs": [],
   "source": [
    "# mir-17\n",
    "xs = mstbl['log2FC']\n",
    "ys = -np.log10(mstbl['adj.P.Val'])\n",
    "lw = .8\n",
    "s = 15\n",
    "color, ecolor, colorsub = '#464646', 'black', 'tab:red'\n",
    "alpha = .7\n",
    "proteins = mstbl[(mstbl['log2FC']>=2)&(mstbl['adj.P.Val']<.05)].index\n",
    "xssub = mstbl.loc[proteins, 'log2FC']\n",
    "yssub = -np.log10(mstbl.loc[proteins,'adj.P.Val'])\n",
    "ymin, ymax = -.07, 2.4\n",
    "xmin, xmax = -4.2, 5\n",
    "cutx, cuty = 2, -np.log10(.005)"
   ]
  },
  {
   "cell_type": "code",
   "execution_count": 19,
   "metadata": {},
   "outputs": [
    {
     "data": {
      "image/png": "[encoded data removed]",
      "text/plain": [
       "<matplotlib.figure.Figure at 0x7f0649dcc7d0>"
      ]
     },
     "metadata": {},
     "output_type": "display_data"
    }
   ],
   "source": [
    "fig, ax = plt.subplots(1, 1, figsize=(2.5,2.5))\n",
    "ax.scatter(xs, ys, s=10, color='#424242', zorder=2, alpha=.7, rasterized=True)\n",
    "#ax.scatter(xssub, yssub, s=10, color='#de2d26', zorder=2, alpha=.7, rasterized=True)\n",
    "\n",
    "ax.set_xlim(xmin, xmax)\n",
    "ax.set_ylim(ymin, ymax)\n",
    "ax.set_xlabel('log2 (mir-142 / no bait)')\n",
    "ax.set_ylabel('-log10 (adj. p-value)')\n",
    "ax.spines['left'].set_bounds(0, ymax)\n",
    "ax.set_xticks(range(-4,5,2))\n",
    "\n",
    "sq = plt.Rectangle((xmin,-.03), xmax-xmin, ymax+.05, fc='white', alpha=.3); ax.add_patch(sq)\n",
    "ax.grid(ls='-', lw=.5, clip_path=sq)\n",
    "ax.axhline(-np.log10(.05),color='k',ls='--',lw=1)\n",
    "ax.axvline(2,color='k',ls='--',lw=1)\n",
    "# ax.text(4.9, 2.8, 'SRSF3'); ax.text(4.05,2.45,'ILF3')\n",
    "# ax.text(3.2,2.15,'ILF2'); ax.text(3.6,1.9,'RPL26; RPS9')\n",
    "# ax.text(1.4,2.8,'RPL27A',bbox={'pad':0,'facecolor':'w','alpha':.8,'lw':0})\n",
    "# ax.text(1.6,1.8,'RPL17',bbox={'pad':0,'facecolor':'w','alpha':.8,'lw':0})\n",
    "# ax.text(2.1,1.5,'RPS6',ha='right',bbox={'pad':.1,'facecolor':'w','alpha':.8,'lw':0})\n",
    "# ax.text(2.5,1.33,'GNL3',bbox={'pad':.1,'facecolor':'w','alpha':.8,'lw':0})\n",
    "# ax.plot([3.4,4.25], [1.63, 1.7], 'k--', lw=1)\n",
    "# ax.text(4.3, 1.65, 'ADAR'); ax.text(3.9,1.45,'HNRNPH2; RPL35')\n",
    "fig.savefig(resultpath+'201123_f4b__ms_enrichment_mir17.pdf',dpi=300)"
   ]
  },
  {
   "cell_type": "code",
   "execution_count": null,
   "metadata": {},
   "outputs": [],
   "source": [
    "mstbl = pd.read_csv('supplementary/MS/(Nuclear extract) 142vs125a.csv', index_col=0)\n",
    "mstbl.head(3)"
   ]
  },
  {
   "cell_type": "code",
   "execution_count": 38,
   "metadata": {},
   "outputs": [
    {
     "data": {
      "text/html": [
       "<div>\n",
       "<style scoped>\n",
       "    .dataframe tbody tr th:only-of-type {\n",
       "        vertical-align: middle;\n",
       "    }\n",
       "\n",
       "    .dataframe tbody tr th {\n",
       "        vertical-align: top;\n",
       "    }\n",
       "\n",
       "    .dataframe thead th {\n",
       "        text-align: right;\n",
       "    }\n",
       "</style>\n",
       "<table border=\"1\" class=\"dataframe\">\n",
       "  <thead>\n",
       "    <tr style=\"text-align: right;\">\n",
       "      <th></th>\n",
       "      <th>log2FC</th>\n",
       "      <th>AveExpr</th>\n",
       "      <th>EffSize</th>\n",
       "      <th>t</th>\n",
       "      <th>P.Value</th>\n",
       "      <th>adj.P.Val</th>\n",
       "    </tr>\n",
       "    <tr>\n",
       "      <th>genes</th>\n",
       "      <th></th>\n",
       "      <th></th>\n",
       "      <th></th>\n",
       "      <th></th>\n",
       "      <th></th>\n",
       "      <th></th>\n",
       "    </tr>\n",
       "  </thead>\n",
       "  <tbody>\n",
       "    <tr>\n",
       "      <th>TOE1</th>\n",
       "      <td>2.299270</td>\n",
       "      <td>10.907029</td>\n",
       "      <td>4.825584</td>\n",
       "      <td>8.719103</td>\n",
       "      <td>0.000071</td>\n",
       "      <td>0.007401</td>\n",
       "    </tr>\n",
       "    <tr>\n",
       "      <th>EIF2AK2</th>\n",
       "      <td>2.389993</td>\n",
       "      <td>11.029209</td>\n",
       "      <td>4.686249</td>\n",
       "      <td>8.056826</td>\n",
       "      <td>0.000116</td>\n",
       "      <td>0.008009</td>\n",
       "    </tr>\n",
       "    <tr>\n",
       "      <th>HNRNPH2</th>\n",
       "      <td>2.539137</td>\n",
       "      <td>9.889422</td>\n",
       "      <td>3.353968</td>\n",
       "      <td>5.446817</td>\n",
       "      <td>0.001143</td>\n",
       "      <td>0.029708</td>\n",
       "    </tr>\n",
       "    <tr>\n",
       "      <th>CELF1</th>\n",
       "      <td>2.628086</td>\n",
       "      <td>8.098016</td>\n",
       "      <td>4.321345</td>\n",
       "      <td>4.899142</td>\n",
       "      <td>0.002039</td>\n",
       "      <td>0.044615</td>\n",
       "    </tr>\n",
       "  </tbody>\n",
       "</table>\n",
       "</div>"
      ],
      "text/plain": [
       "           log2FC    AveExpr   EffSize         t   P.Value  adj.P.Val\n",
       "genes                                                                \n",
       "TOE1     2.299270  10.907029  4.825584  8.719103  0.000071   0.007401\n",
       "EIF2AK2  2.389993  11.029209  4.686249  8.056826  0.000116   0.008009\n",
       "HNRNPH2  2.539137   9.889422  3.353968  5.446817  0.001143   0.029708\n",
       "CELF1    2.628086   8.098016  4.321345  4.899142  0.002039   0.044615"
      ]
     },
     "execution_count": 38,
     "metadata": {},
     "output_type": "execute_result"
    }
   ],
   "source": [
    "mstbl[(mstbl['log2FC']>2)&(mstbl['adj.P.Val']<.05)]"
   ]
  },
  {
   "cell_type": "code",
   "execution_count": 25,
   "metadata": {},
   "outputs": [
    {
     "name": "stdout",
     "output_type": "stream",
     "text": [
      "208\n"
     ]
    }
   ],
   "source": [
    "xs = mstbl['log2FC']\n",
    "ys = -np.log10(mstbl['adj.P.Val'])\n",
    "lw = .8\n",
    "s = 15\n",
    "color, ecolor, colorsub = '#464646', 'black', 'tab:red'\n",
    "alpha = .7\n",
    "proteins = mstbl[(mstbl['log2FC']>=2)&(mstbl['adj.P.Val']<.05)].index\n",
    "xssub = mstbl.loc[proteins, 'log2FC']\n",
    "yssub = -np.log10(mstbl.loc[proteins,'adj.P.Val'])\n",
    "ymin, ymax = -.1, 3\n",
    "xmin, xmax = -3.7, 5\n",
    "cutx, cuty = 2, -np.log10(.005)\n",
    "print len(xs)"
   ]
  },
  {
   "cell_type": "code",
   "execution_count": 39,
   "metadata": {},
   "outputs": [
    {
     "data": {
      "image/png": "[encoded data removed]",
      "text/plain": [
       "<matplotlib.figure.Figure at 0x7f72fdba1c10>"
      ]
     },
     "metadata": {},
     "output_type": "display_data"
    }
   ],
   "source": [
    "fig, ax = plt.subplots(1, 1, figsize=(2.3,2.3))\n",
    "ax.scatter(xs, ys, s=10, color='#424242', zorder=2, alpha=.7, rasterized=True)\n",
    "ax.scatter(xssub, yssub, s=10, color='#de2d26', zorder=2, alpha=.7, rasterized=True)\n",
    "\n",
    "ax.set_xlim(-3.2, 3)\n",
    "ax.set_ylim(ymin, 2.5)\n",
    "ax.set_xlabel('log2 (mir-142 / mir-125a)')\n",
    "ax.set_ylabel('-log10 (adj. p-value)')\n",
    "ax.spines['left'].set_bounds(0, 2.5)\n",
    "ax.set_xticks(range(-2,3,2))\n",
    "\n",
    "sq = plt.Rectangle((xmin,-.03), xmax-xmin, ymax+.05, fc='white', alpha=.3); ax.add_patch(sq)\n",
    "ax.grid(ls='-', lw=.5, clip_path=sq)\n",
    "ax.axhline(-np.log10(.05),color='k',ls='--',lw=1)\n",
    "ax.axvline(2,color='k',ls='--',lw=1)\n",
    "# ax.text(4.9, 2.8, 'SRSF3'); ax.text(4.05,2.45,'ILF3')\n",
    "# ax.text(3.2,2.15,'ILF2'); ax.text(3.6,1.9,'RPL26; RPS9')\n",
    "# ax.text(1.4,2.8,'RPL27A',bbox={'pad':0,'facecolor':'w','alpha':.8,'lw':0})\n",
    "# ax.text(1.6,1.8,'RPL17',bbox={'pad':0,'facecolor':'w','alpha':.8,'lw':0})\n",
    "# ax.text(2.1,1.5,'RPS6',ha='right',bbox={'pad':.1,'facecolor':'w','alpha':.8,'lw':0})\n",
    "# ax.text(2.5,1.33,'GNL3',bbox={'pad':.1,'facecolor':'w','alpha':.8,'lw':0})\n",
    "# ax.plot([3.4,4.25], [1.63, 1.7], 'k--', lw=1)\n",
    "# ax.text(4.3, 1.65, 'ADAR'); ax.text(3.9,1.45,'HNRNPH2; RPL35')\n",
    "fig.savefig(resultpath+'201118_f4b__ms_enrichment_mir142_v2.pdf',dpi=300)"
   ]
  },
  {
   "cell_type": "markdown",
   "metadata": {},
   "source": [
    "## Volcano plot for pri-mir-17 from MS"
   ]
  },
  {
   "cell_type": "code",
   "execution_count": 8,
   "metadata": {
    "scrolled": true
   },
   "outputs": [
    {
     "data": {
      "text/html": [
       "<div>\n",
       "<style scoped>\n",
       "    .dataframe tbody tr th:only-of-type {\n",
       "        vertical-align: middle;\n",
       "    }\n",
       "\n",
       "    .dataframe tbody tr th {\n",
       "        vertical-align: top;\n",
       "    }\n",
       "\n",
       "    .dataframe thead th {\n",
       "        text-align: right;\n",
       "    }\n",
       "</style>\n",
       "<table border=\"1\" class=\"dataframe\">\n",
       "  <thead>\n",
       "    <tr style=\"text-align: right;\">\n",
       "      <th></th>\n",
       "      <th>log2FC</th>\n",
       "      <th>AveExpr</th>\n",
       "      <th>EffSize</th>\n",
       "      <th>t</th>\n",
       "      <th>P.Value</th>\n",
       "      <th>adj.P.Val</th>\n",
       "    </tr>\n",
       "    <tr>\n",
       "      <th>genes</th>\n",
       "      <th></th>\n",
       "      <th></th>\n",
       "      <th></th>\n",
       "      <th></th>\n",
       "      <th></th>\n",
       "      <th></th>\n",
       "    </tr>\n",
       "  </thead>\n",
       "  <tbody>\n",
       "    <tr>\n",
       "      <th>GNL3</th>\n",
       "      <td>3.489669</td>\n",
       "      <td>9.693243</td>\n",
       "      <td>7.231195</td>\n",
       "      <td>7.632254</td>\n",
       "      <td>0.000239</td>\n",
       "      <td>0.005522</td>\n",
       "    </tr>\n",
       "    <tr>\n",
       "      <th>RBM39</th>\n",
       "      <td>-3.791433</td>\n",
       "      <td>8.446697</td>\n",
       "      <td>7.572127</td>\n",
       "      <td>-8.003826</td>\n",
       "      <td>0.000183</td>\n",
       "      <td>0.005522</td>\n",
       "    </tr>\n",
       "    <tr>\n",
       "      <th>RPL35</th>\n",
       "      <td>4.458971</td>\n",
       "      <td>13.482809</td>\n",
       "      <td>6.200467</td>\n",
       "      <td>9.076313</td>\n",
       "      <td>0.000089</td>\n",
       "      <td>0.005522</td>\n",
       "    </tr>\n",
       "    <tr>\n",
       "      <th>RPL27A</th>\n",
       "      <td>2.511979</td>\n",
       "      <td>10.383807</td>\n",
       "      <td>6.258778</td>\n",
       "      <td>8.254291</td>\n",
       "      <td>0.000153</td>\n",
       "      <td>0.005522</td>\n",
       "    </tr>\n",
       "    <tr>\n",
       "      <th>HNRNPM</th>\n",
       "      <td>2.594470</td>\n",
       "      <td>15.165240</td>\n",
       "      <td>5.951707</td>\n",
       "      <td>9.579872</td>\n",
       "      <td>0.000065</td>\n",
       "      <td>0.005522</td>\n",
       "    </tr>\n",
       "  </tbody>\n",
       "</table>\n",
       "</div>"
      ],
      "text/plain": [
       "          log2FC    AveExpr   EffSize         t   P.Value  adj.P.Val\n",
       "genes                                                               \n",
       "GNL3    3.489669   9.693243  7.231195  7.632254  0.000239   0.005522\n",
       "RBM39  -3.791433   8.446697  7.572127 -8.003826  0.000183   0.005522\n",
       "RPL35   4.458971  13.482809  6.200467  9.076313  0.000089   0.005522\n",
       "RPL27A  2.511979  10.383807  6.258778  8.254291  0.000153   0.005522\n",
       "HNRNPM  2.594470  15.165240  5.951707  9.579872  0.000065   0.005522"
      ]
     },
     "execution_count": 8,
     "metadata": {},
     "output_type": "execute_result"
    }
   ],
   "source": [
    "mstbl = pd.read_csv('supplementary/MS/17_vs_No bait_all.csv', index_col=0)\n",
    "mstbl.head()"
   ]
  },
  {
   "cell_type": "code",
   "execution_count": 9,
   "metadata": {},
   "outputs": [],
   "source": [
    "xs = mstbl['log2FC']\n",
    "ys = -np.log10(mstbl['adj.P.Val'])\n",
    "lw = .8\n",
    "s = 15\n",
    "color, ecolor, colorsub = '#464646', 'black', 'tab:red'\n",
    "alpha = .7\n",
    "proteins = mstbl[(mstbl['log2FC']>=2)&(mstbl['adj.P.Val']<.05)].index\n",
    "xssub = mstbl.loc[proteins, 'log2FC']\n",
    "yssub = -np.log10(mstbl.loc[proteins,'adj.P.Val'])\n",
    "ymin, ymax = -.07, 2.4\n",
    "xmin, xmax = -3.7, 5\n",
    "cutx, cuty = 2, -np.log10(.005)"
   ]
  },
  {
   "cell_type": "code",
   "execution_count": 10,
   "metadata": {
    "scrolled": true
   },
   "outputs": [
    {
     "data": {
      "text/html": [
       "<div>\n",
       "<style scoped>\n",
       "    .dataframe tbody tr th:only-of-type {\n",
       "        vertical-align: middle;\n",
       "    }\n",
       "\n",
       "    .dataframe tbody tr th {\n",
       "        vertical-align: top;\n",
       "    }\n",
       "\n",
       "    .dataframe thead th {\n",
       "        text-align: right;\n",
       "    }\n",
       "</style>\n",
       "<table border=\"1\" class=\"dataframe\">\n",
       "  <thead>\n",
       "    <tr style=\"text-align: right;\">\n",
       "      <th></th>\n",
       "      <th>log2FC</th>\n",
       "      <th>AveExpr</th>\n",
       "      <th>EffSize</th>\n",
       "      <th>t</th>\n",
       "      <th>P.Value</th>\n",
       "      <th>adj.P.Val</th>\n",
       "    </tr>\n",
       "    <tr>\n",
       "      <th>genes</th>\n",
       "      <th></th>\n",
       "      <th></th>\n",
       "      <th></th>\n",
       "      <th></th>\n",
       "      <th></th>\n",
       "      <th></th>\n",
       "    </tr>\n",
       "  </thead>\n",
       "  <tbody>\n",
       "    <tr>\n",
       "      <th>HIST1H1C</th>\n",
       "      <td>2.275204</td>\n",
       "      <td>12.969666</td>\n",
       "      <td>4.914891</td>\n",
       "      <td>7.826909</td>\n",
       "      <td>0.000207</td>\n",
       "      <td>0.005522</td>\n",
       "    </tr>\n",
       "    <tr>\n",
       "      <th>RPL27A</th>\n",
       "      <td>2.511979</td>\n",
       "      <td>10.383807</td>\n",
       "      <td>6.258778</td>\n",
       "      <td>8.254291</td>\n",
       "      <td>0.000153</td>\n",
       "      <td>0.005522</td>\n",
       "    </tr>\n",
       "    <tr>\n",
       "      <th>HNRNPM</th>\n",
       "      <td>2.594470</td>\n",
       "      <td>15.165240</td>\n",
       "      <td>5.951707</td>\n",
       "      <td>9.579872</td>\n",
       "      <td>0.000065</td>\n",
       "      <td>0.005522</td>\n",
       "    </tr>\n",
       "    <tr>\n",
       "      <th>GNL3</th>\n",
       "      <td>3.489669</td>\n",
       "      <td>9.693243</td>\n",
       "      <td>7.231195</td>\n",
       "      <td>7.632254</td>\n",
       "      <td>0.000239</td>\n",
       "      <td>0.005522</td>\n",
       "    </tr>\n",
       "    <tr>\n",
       "      <th>RPL35</th>\n",
       "      <td>4.458971</td>\n",
       "      <td>13.482809</td>\n",
       "      <td>6.200467</td>\n",
       "      <td>9.076313</td>\n",
       "      <td>0.000089</td>\n",
       "      <td>0.005522</td>\n",
       "    </tr>\n",
       "    <tr>\n",
       "      <th>TRA2B</th>\n",
       "      <td>4.722037</td>\n",
       "      <td>11.217765</td>\n",
       "      <td>5.006066</td>\n",
       "      <td>7.322286</td>\n",
       "      <td>0.000301</td>\n",
       "      <td>0.006093</td>\n",
       "    </tr>\n",
       "    <tr>\n",
       "      <th>RPS6</th>\n",
       "      <td>2.522442</td>\n",
       "      <td>13.548230</td>\n",
       "      <td>4.276460</td>\n",
       "      <td>7.020278</td>\n",
       "      <td>0.000380</td>\n",
       "      <td>0.006363</td>\n",
       "    </tr>\n",
       "    <tr>\n",
       "      <th>TRA2A</th>\n",
       "      <td>3.214741</td>\n",
       "      <td>7.740962</td>\n",
       "      <td>6.057833</td>\n",
       "      <td>6.978928</td>\n",
       "      <td>0.000393</td>\n",
       "      <td>0.006363</td>\n",
       "    </tr>\n",
       "    <tr>\n",
       "      <th>HIST1H4A</th>\n",
       "      <td>2.280144</td>\n",
       "      <td>15.316241</td>\n",
       "      <td>4.356849</td>\n",
       "      <td>6.622807</td>\n",
       "      <td>0.000524</td>\n",
       "      <td>0.007714</td>\n",
       "    </tr>\n",
       "    <tr>\n",
       "      <th>RPL17</th>\n",
       "      <td>3.462908</td>\n",
       "      <td>14.930159</td>\n",
       "      <td>3.349051</td>\n",
       "      <td>5.423465</td>\n",
       "      <td>0.001522</td>\n",
       "      <td>0.015406</td>\n",
       "    </tr>\n",
       "    <tr>\n",
       "      <th>RPS9</th>\n",
       "      <td>4.343491</td>\n",
       "      <td>12.314782</td>\n",
       "      <td>3.407818</td>\n",
       "      <td>5.194498</td>\n",
       "      <td>0.001901</td>\n",
       "      <td>0.017772</td>\n",
       "    </tr>\n",
       "    <tr>\n",
       "      <th>RPL26</th>\n",
       "      <td>3.446738</td>\n",
       "      <td>12.455076</td>\n",
       "      <td>2.559592</td>\n",
       "      <td>4.016399</td>\n",
       "      <td>0.006693</td>\n",
       "      <td>0.043991</td>\n",
       "    </tr>\n",
       "    <tr>\n",
       "      <th>SRSF3</th>\n",
       "      <td>2.392470</td>\n",
       "      <td>10.781518</td>\n",
       "      <td>2.888200</td>\n",
       "      <td>3.913179</td>\n",
       "      <td>0.007546</td>\n",
       "      <td>0.045274</td>\n",
       "    </tr>\n",
       "  </tbody>\n",
       "</table>\n",
       "</div>"
      ],
      "text/plain": [
       "            log2FC    AveExpr   EffSize         t   P.Value  adj.P.Val\n",
       "genes                                                                 \n",
       "HIST1H1C  2.275204  12.969666  4.914891  7.826909  0.000207   0.005522\n",
       "RPL27A    2.511979  10.383807  6.258778  8.254291  0.000153   0.005522\n",
       "HNRNPM    2.594470  15.165240  5.951707  9.579872  0.000065   0.005522\n",
       "GNL3      3.489669   9.693243  7.231195  7.632254  0.000239   0.005522\n",
       "RPL35     4.458971  13.482809  6.200467  9.076313  0.000089   0.005522\n",
       "TRA2B     4.722037  11.217765  5.006066  7.322286  0.000301   0.006093\n",
       "RPS6      2.522442  13.548230  4.276460  7.020278  0.000380   0.006363\n",
       "TRA2A     3.214741   7.740962  6.057833  6.978928  0.000393   0.006363\n",
       "HIST1H4A  2.280144  15.316241  4.356849  6.622807  0.000524   0.007714\n",
       "RPL17     3.462908  14.930159  3.349051  5.423465  0.001522   0.015406\n",
       "RPS9      4.343491  12.314782  3.407818  5.194498  0.001901   0.017772\n",
       "RPL26     3.446738  12.455076  2.559592  4.016399  0.006693   0.043991\n",
       "SRSF3     2.392470  10.781518  2.888200  3.913179  0.007546   0.045274"
      ]
     },
     "execution_count": 10,
     "metadata": {},
     "output_type": "execute_result"
    }
   ],
   "source": [
    "mstbl[(mstbl['log2FC']>2)&(mstbl['adj.P.Val']<.05)].sort_values(['adj.P.Val','log2FC'])"
   ]
  },
  {
   "cell_type": "code",
   "execution_count": 11,
   "metadata": {},
   "outputs": [
    {
     "data": {
      "text/plain": [
       "Text(2.6,1.1,u'SRSF3')"
      ]
     },
     "execution_count": 11,
     "metadata": {},
     "output_type": "execute_result"
    },
    {
     "data": {
      "image/png": "[encoded data removed]",
      "text/plain": [
       "<matplotlib.figure.Figure at 0x7f6f3b231f10>"
      ]
     },
     "metadata": {},
     "output_type": "display_data"
    }
   ],
   "source": [
    "fig, ax = plt.subplots(1, 1, figsize=(3,3))\n",
    "ax.scatter(xs, ys, s=s, facecolor=color, edgecolor=ecolor, lw=lw, alpha=alpha, zorder=2)\n",
    "ax.scatter(xssub, yssub, s=s, color=colorsub, alpha=alpha, zorder=2)\n",
    "\n",
    "ax.set_xlim(xmin, xmax)\n",
    "ax.set_ylim(ymin, ymax)\n",
    "ax.set_xlabel('Protein enrichment\\n(log2 mir-17/no bait)', fontsize=12)\n",
    "ax.set_ylabel('log10 q-value', fontsize=12)\n",
    "ax.spines['left'].set_bounds(0, ymax)\n",
    "ax.axhline(-np.log10(.05),color='k',ls='--',lw=1)\n",
    "ax.axvline(2,color='k',ls='--',lw=1)\n",
    "sq = plt.Rectangle((xmin,-.03), xmax-xmin, ymax+.05, fc='white', alpha=.3); ax.add_patch(sq)\n",
    "ax.grid(ls='-', lw=.5, clip_path=sq)\n",
    "\n",
    "ax.text(5,2.15,'TRA2B'); ax.text(4.6,2.31,'RPL35'); ax.text(3.1,2.33,'GNL3')\n",
    "ax.text(3.1,2.02,'TRA2A'); ax.text(2.05,1.64,'RPL17'); ax.text(4.5,1.7,'RPS9')\n",
    "ax.text(3.6,1.33,'RPL26'); ax.text(2.5,1.88,'RPS6'); ax.plot([2.55,2.7],[2.17,2],'k--',lw=1)\n",
    "ax.text(2.1,2.19,'HIST1H1C',ha='right',bbox={'pad':.1,'facecolor':'w','alpha':.8,'lw':0})\n",
    "ax.text(2.1,2,'HIST1H4A',ha='right',bbox={'pad':.1,'facecolor':'w','alpha':.8,'lw':0})\n",
    "ax.text(1.7,2.35,'RPL27A\\nHNRNPM', bbox={'pad':.1,'facecolor':'w','alpha':.8,'lw':0},\n",
    "        ha='center',linespacing=.9)\n",
    "ax.plot([2.45,2.6],[1.32,1.2],'k--',lw=1)\n",
    "ax.text(2.6, 1.1, 'SRSF3', bbox={'pad':.1,'facecolor':'w','alpha':.8,'lw':0})\n",
    "#fig.savefig(resultpath+'200909_f4e__ms_enrichment_mir17.pdf')"
   ]
  },
  {
   "cell_type": "markdown",
   "metadata": {},
   "source": [
    "## TCGA data"
   ]
  },
  {
   "cell_type": "code",
   "execution_count": 1,
   "metadata": {},
   "outputs": [],
   "source": [
    "from os import listdir\n",
    "from scipy.stats import spearmanr, sem\n",
    "from matplotlib import lines"
   ]
  },
  {
   "cell_type": "code",
   "execution_count": 2,
   "metadata": {},
   "outputs": [],
   "source": [
    "ncancer = 10\n",
    "nmirs = 200"
   ]
  },
  {
   "cell_type": "code",
   "execution_count": 9,
   "metadata": {},
   "outputs": [
    {
     "name": "stdout",
     "output_type": "stream",
     "text": [
      "32\n"
     ]
    }
   ],
   "source": [
    "tcgapath = 'supplementary/TCGA'\n",
    "cancers = [ fo for fo in listdir(tcgapath) if not fo.startswith('.') ]\n",
    "print len(cancers)"
   ]
  },
  {
   "cell_type": "code",
   "execution_count": 10,
   "metadata": {},
   "outputs": [],
   "source": [
    "exptbls = {}\n",
    "for cancer in cancers:\n",
    "    fname = [ f for f in listdir('%s/%s'%(tcgapath,cancer)) if f.endswith('uq') ][0]\n",
    "    tbl = pd.read_table('%s/%s/%s'%(tcgapath, cancer, fname), index_col=0)\n",
    "    tbl.index = [ i.split('|')[0] for i in tbl.index ]\n",
    "    exptbls[cancer] = tbl"
   ]
  },
  {
   "cell_type": "code",
   "execution_count": 11,
   "metadata": {},
   "outputs": [],
   "source": [
    "def get_corrs(protein):\n",
    "    tblr, tblp = pd.DataFrame(), pd.DataFrame()\n",
    "    for cancer in cancers:\n",
    "        exps = exptbls[cancer]\n",
    "        if protein not in exps.index:\n",
    "            continue\n",
    "        mats = [ m for m in exps.index if m.startswith('hsa-') and ' ' not in m ]\n",
    "        robust = sorted(mats,key=lambda x: np.average(exps.loc[x]))[-nmirs:]\n",
    "        for m in robust:\n",
    "            r, p = spearmanr(exps.loc[protein], exps.loc[m])\n",
    "            tblr.loc[m, cancer] = r\n",
    "            tblp.loc[m, cancer] = p\n",
    "    return tblr, tblp"
   ]
  },
  {
   "cell_type": "code",
   "execution_count": 111,
   "metadata": {},
   "outputs": [
    {
     "data": {
      "text/plain": [
       "True"
      ]
     },
     "execution_count": 111,
     "metadata": {},
     "output_type": "execute_result"
    }
   ],
   "source": [
    "'SLC29A1' in exptbls['ucs'].index"
   ]
  },
  {
   "cell_type": "code",
   "execution_count": 12,
   "metadata": {},
   "outputs": [],
   "source": [
    "tr = get_corrs('SFRS3')[0]\n",
    "tr = tr[tr.apply(lambda x: len(x.dropna())>=ncancer, axis=1)]\n",
    "tr['average'] = tr.mean(axis=1)\n",
    "tr['sem'] = tr.apply(lambda x: sem(x.dropna()[:-1]), axis=1)\n",
    "tr = tr.sort_values('average')"
   ]
  },
  {
   "cell_type": "code",
   "execution_count": 13,
   "metadata": {},
   "outputs": [
    {
     "data": {
      "text/html": [
       "<div>\n",
       "<style scoped>\n",
       "    .dataframe tbody tr th:only-of-type {\n",
       "        vertical-align: middle;\n",
       "    }\n",
       "\n",
       "    .dataframe tbody tr th {\n",
       "        vertical-align: top;\n",
       "    }\n",
       "\n",
       "    .dataframe thead th {\n",
       "        text-align: right;\n",
       "    }\n",
       "</style>\n",
       "<table border=\"1\" class=\"dataframe\">\n",
       "  <thead>\n",
       "    <tr style=\"text-align: right;\">\n",
       "      <th></th>\n",
       "      <th>ucec</th>\n",
       "      <th>ucs</th>\n",
       "      <th>uvm</th>\n",
       "      <th>stad</th>\n",
       "      <th>tgct</th>\n",
       "      <th>thca</th>\n",
       "      <th>thym</th>\n",
       "      <th>read</th>\n",
       "      <th>sarc</th>\n",
       "      <th>skcm</th>\n",
       "      <th>...</th>\n",
       "      <th>coad</th>\n",
       "      <th>dlbc</th>\n",
       "      <th>esca</th>\n",
       "      <th>brca</th>\n",
       "      <th>cesc</th>\n",
       "      <th>chol</th>\n",
       "      <th>acc</th>\n",
       "      <th>blca</th>\n",
       "      <th>average</th>\n",
       "      <th>sem</th>\n",
       "    </tr>\n",
       "  </thead>\n",
       "  <tbody>\n",
       "    <tr>\n",
       "      <th>hsa-miR-15b-3p</th>\n",
       "      <td>0.356905</td>\n",
       "      <td>0.173001</td>\n",
       "      <td>NaN</td>\n",
       "      <td>0.181901</td>\n",
       "      <td>NaN</td>\n",
       "      <td>NaN</td>\n",
       "      <td>0.780088</td>\n",
       "      <td>0.414198</td>\n",
       "      <td>0.209748</td>\n",
       "      <td>NaN</td>\n",
       "      <td>...</td>\n",
       "      <td>0.289507</td>\n",
       "      <td>0.164223</td>\n",
       "      <td>0.124449</td>\n",
       "      <td>0.227199</td>\n",
       "      <td>0.255343</td>\n",
       "      <td>-0.278250</td>\n",
       "      <td>NaN</td>\n",
       "      <td>0.227469</td>\n",
       "      <td>0.234094</td>\n",
       "      <td>0.047167</td>\n",
       "    </tr>\n",
       "    <tr>\n",
       "      <th>hsa-miR-19a-3p</th>\n",
       "      <td>0.279753</td>\n",
       "      <td>0.409638</td>\n",
       "      <td>NaN</td>\n",
       "      <td>0.504759</td>\n",
       "      <td>NaN</td>\n",
       "      <td>NaN</td>\n",
       "      <td>0.750323</td>\n",
       "      <td>0.237906</td>\n",
       "      <td>NaN</td>\n",
       "      <td>NaN</td>\n",
       "      <td>...</td>\n",
       "      <td>0.365930</td>\n",
       "      <td>-0.100073</td>\n",
       "      <td>0.261396</td>\n",
       "      <td>NaN</td>\n",
       "      <td>-0.097520</td>\n",
       "      <td>NaN</td>\n",
       "      <td>NaN</td>\n",
       "      <td>NaN</td>\n",
       "      <td>0.243113</td>\n",
       "      <td>0.067868</td>\n",
       "    </tr>\n",
       "    <tr>\n",
       "      <th>hsa-miR-19b-3p</th>\n",
       "      <td>0.254217</td>\n",
       "      <td>0.476692</td>\n",
       "      <td>0.203149</td>\n",
       "      <td>0.411165</td>\n",
       "      <td>0.100145</td>\n",
       "      <td>0.108162</td>\n",
       "      <td>0.652089</td>\n",
       "      <td>0.110823</td>\n",
       "      <td>0.348373</td>\n",
       "      <td>0.306348</td>\n",
       "      <td>...</td>\n",
       "      <td>0.266100</td>\n",
       "      <td>-0.121701</td>\n",
       "      <td>0.252191</td>\n",
       "      <td>0.306327</td>\n",
       "      <td>0.006876</td>\n",
       "      <td>0.435779</td>\n",
       "      <td>NaN</td>\n",
       "      <td>0.324311</td>\n",
       "      <td>0.244313</td>\n",
       "      <td>0.031293</td>\n",
       "    </tr>\n",
       "    <tr>\n",
       "      <th>hsa-miR-20a-5p</th>\n",
       "      <td>0.342211</td>\n",
       "      <td>0.454135</td>\n",
       "      <td>0.267676</td>\n",
       "      <td>0.511219</td>\n",
       "      <td>0.173684</td>\n",
       "      <td>-0.055993</td>\n",
       "      <td>0.751821</td>\n",
       "      <td>0.299642</td>\n",
       "      <td>0.209886</td>\n",
       "      <td>0.245465</td>\n",
       "      <td>...</td>\n",
       "      <td>0.322085</td>\n",
       "      <td>0.271994</td>\n",
       "      <td>0.293398</td>\n",
       "      <td>0.333974</td>\n",
       "      <td>0.011874</td>\n",
       "      <td>0.170914</td>\n",
       "      <td>-0.057814</td>\n",
       "      <td>0.393586</td>\n",
       "      <td>0.252394</td>\n",
       "      <td>0.031290</td>\n",
       "    </tr>\n",
       "    <tr>\n",
       "      <th>hsa-miR-17-5p</th>\n",
       "      <td>0.451386</td>\n",
       "      <td>0.452632</td>\n",
       "      <td>0.291401</td>\n",
       "      <td>0.546626</td>\n",
       "      <td>0.242345</td>\n",
       "      <td>-0.024164</td>\n",
       "      <td>0.754274</td>\n",
       "      <td>0.419536</td>\n",
       "      <td>0.256521</td>\n",
       "      <td>0.356494</td>\n",
       "      <td>...</td>\n",
       "      <td>0.380559</td>\n",
       "      <td>0.379399</td>\n",
       "      <td>0.341848</td>\n",
       "      <td>0.385442</td>\n",
       "      <td>0.094536</td>\n",
       "      <td>0.130245</td>\n",
       "      <td>0.051388</td>\n",
       "      <td>0.386880</td>\n",
       "      <td>0.285888</td>\n",
       "      <td>0.031300</td>\n",
       "    </tr>\n",
       "  </tbody>\n",
       "</table>\n",
       "<p>5 rows × 34 columns</p>\n",
       "</div>"
      ],
      "text/plain": [
       "                    ucec       ucs       uvm      stad      tgct      thca  \\\n",
       "hsa-miR-15b-3p  0.356905  0.173001       NaN  0.181901       NaN       NaN   \n",
       "hsa-miR-19a-3p  0.279753  0.409638       NaN  0.504759       NaN       NaN   \n",
       "hsa-miR-19b-3p  0.254217  0.476692  0.203149  0.411165  0.100145  0.108162   \n",
       "hsa-miR-20a-5p  0.342211  0.454135  0.267676  0.511219  0.173684 -0.055993   \n",
       "hsa-miR-17-5p   0.451386  0.452632  0.291401  0.546626  0.242345 -0.024164   \n",
       "\n",
       "                    thym      read      sarc      skcm    ...         coad  \\\n",
       "hsa-miR-15b-3p  0.780088  0.414198  0.209748       NaN    ...     0.289507   \n",
       "hsa-miR-19a-3p  0.750323  0.237906       NaN       NaN    ...     0.365930   \n",
       "hsa-miR-19b-3p  0.652089  0.110823  0.348373  0.306348    ...     0.266100   \n",
       "hsa-miR-20a-5p  0.751821  0.299642  0.209886  0.245465    ...     0.322085   \n",
       "hsa-miR-17-5p   0.754274  0.419536  0.256521  0.356494    ...     0.380559   \n",
       "\n",
       "                    dlbc      esca      brca      cesc      chol       acc  \\\n",
       "hsa-miR-15b-3p  0.164223  0.124449  0.227199  0.255343 -0.278250       NaN   \n",
       "hsa-miR-19a-3p -0.100073  0.261396       NaN -0.097520       NaN       NaN   \n",
       "hsa-miR-19b-3p -0.121701  0.252191  0.306327  0.006876  0.435779       NaN   \n",
       "hsa-miR-20a-5p  0.271994  0.293398  0.333974  0.011874  0.170914 -0.057814   \n",
       "hsa-miR-17-5p   0.379399  0.341848  0.385442  0.094536  0.130245  0.051388   \n",
       "\n",
       "                    blca   average       sem  \n",
       "hsa-miR-15b-3p  0.227469  0.234094  0.047167  \n",
       "hsa-miR-19a-3p       NaN  0.243113  0.067868  \n",
       "hsa-miR-19b-3p  0.324311  0.244313  0.031293  \n",
       "hsa-miR-20a-5p  0.393586  0.252394  0.031290  \n",
       "hsa-miR-17-5p   0.386880  0.285888  0.031300  \n",
       "\n",
       "[5 rows x 34 columns]"
      ]
     },
     "execution_count": 13,
     "metadata": {},
     "output_type": "execute_result"
    }
   ],
   "source": [
    "tr.tail()"
   ]
  },
  {
   "cell_type": "code",
   "execution_count": 14,
   "metadata": {},
   "outputs": [],
   "source": [
    "title = 'SRSF3'\n",
    "ys = tr['average'].tolist()\n",
    "xs = range(len(ys))\n",
    "yerrs = tr['sem'].tolist()\n",
    "xmin, xmax = -5, len(xs)+1\n",
    "ymin, ymax = -max(map(abs, ys))-.01, max(map(abs, ys))+.01\n",
    "lw = 1.8\n",
    "s = 10\n",
    "color = 'black'\n",
    "zoom = 10\n",
    "zoomwhich = 'top'\n",
    "colors = ['black','tab:red'] + ['black']*7 + ['tab:red']\n",
    "txts = [ m.replace('hsa-miR-','') for m in tr.index[-zoom:] ]"
   ]
  },
  {
   "cell_type": "code",
   "execution_count": 15,
   "metadata": {},
   "outputs": [
    {
     "data": {
      "text/plain": [
       "220"
      ]
     },
     "execution_count": 15,
     "metadata": {},
     "output_type": "execute_result"
    }
   ],
   "source": [
    "len(xs)"
   ]
  },
  {
   "cell_type": "code",
   "execution_count": 16,
   "metadata": {
    "scrolled": true
   },
   "outputs": [
    {
     "data": {
      "image/png": "[encoded data removed]",
      "text/plain": [
       "<matplotlib.figure.Figure at 0x7f72af232610>"
      ]
     },
     "metadata": {},
     "output_type": "display_data"
    }
   ],
   "source": [
    "fig, ax = plt.subplots(1, 1, figsize=(3,2))\n",
    "ax.plot(xs, ys, lw=lw, c=color)\n",
    "\n",
    "ax.set_xlim(xmin, xmax)\n",
    "ax.set_ylim(ymin, ymax)\n",
    "ax.set_xlabel('miRNAs', fontsize=12)\n",
    "ax.set_ylabel(r'Average $R_s$', fontsize=12)\n",
    "ax.spines['bottom'].set_bounds(0, len(ys))\n",
    "ax.set_title(title, fontsize=12)\n",
    "gr = plt.Rectangle((xmin,ymin), xmax-xmin, ymax-ymin, fc='w'); ax.add_patch(gr)\n",
    "ax.yaxis.grid(ls='-', lw=.5, clip_path=gr)\n",
    "\n",
    "if zoomwhich=='top':\n",
    "    ymid, ymin2, ymax2 = 0, 0, max(np.array(ys[-zoom:])+np.array(yerrs[-zoom:]))+.02\n",
    "    sq = plt.Rectangle((len(xs)-zoom,ymid), zoom+1, ymax-ymid, lw=1, ls='--', \n",
    "                       edgecolor='k', facecolor='None')\n",
    "    l1 = lines.Line2D([xmax,xmax+15], [ymid,-.08], lw=1, ls='--', color='k')\n",
    "    l2 = lines.Line2D([xmax,xmax+15], [ymax,ymax+.017], lw=1, ls='--', color='k')\n",
    "    ax2loc = [.96, .4, .5, .5]\n",
    "    yzoom = ys[-zoom:]\n",
    "    ezoom = yerrs[-zoom:]\n",
    "    \n",
    "else: # bottom\n",
    "    ymid, ymin2, ymax2 = ys[zoom], ymin, ys[zoom]\n",
    "    sq = plt.Rectangle((-1,ymid), zoom+1, ymin-ymid-.01, lw=1, ls='--', \n",
    "                       edgecolor='k', color='None')\n",
    "    l1 = lines.Line2D([zoom,xmax+16], [ymid,0], lw=1, color='k', ls='--')\n",
    "    l2 = lines.Line2D([zoom,xmax+16], [ymin,ymin], lw=1, color='k', ls='--')\n",
    "    ax2loc = [.96, .14, .5, .5]\n",
    "    yzoom = ys[:zoom]\n",
    "    ezoom = ys[:zoom]\n",
    "       \n",
    "sq.set_clip_on(False); ax.add_patch(sq); sq.set_zorder(3)\n",
    "l1.set_clip_on(False); ax.add_line(l1)\n",
    "l2.set_clip_on(False); ax.add_line(l2)\n",
    "\n",
    "ax2 = fig.add_axes(ax2loc, ax)\n",
    "ax2.scatter(range(zoom), yzoom, s=s, color=colors)\n",
    "ax2.errorbar(range(zoom), yzoom, yerr=ezoom, lw=0, elinewidth=1, ecolor=colors)\n",
    "ax2.set_xlim(-.8, zoom-.2)\n",
    "ax2.set_ylim(ymin2, ymax2)\n",
    "ax2.set_xticks([])\n",
    "ax2.set_yticks([])\n",
    "\n",
    "if zoomwhich=='top':\n",
    "    ax2.spines['top'].set_visible(True)\n",
    "    ax2.spines['right'].set_visible(True)\n",
    "    for i, mir, y, c, err in zip(range(zoom), txts, yzoom, colors, ezoom):\n",
    "        ax2.text(i-.3, y-err-.01, mir, fontsize=10, rotation=90, va='top', color=c)\n",
    "else:\n",
    "    for i, mir, y, c, err in zip(range(zoom), txts, yzoom, colors, ezoom):\n",
    "        ax2.text(i-.3, y+err+.01, mir, fontsize=10, rotation=90, va='bottom', color=c)\n",
    "#fig.savefig(resultpath + '200617_s4_tcga_%s.pdf'%title)"
   ]
  },
  {
   "cell_type": "code",
   "execution_count": 112,
   "metadata": {},
   "outputs": [],
   "source": [
    "tr = get_corrs('SLC29A1')[0]\n",
    "tr = tr[tr.apply(lambda x: len(x.dropna())>=ncancer, axis=1)]\n",
    "tr['average'] = tr.mean(axis=1)\n",
    "tr['sem'] = tr.apply(lambda x: sem(x.dropna()[:-1]), axis=1)\n",
    "tr = tr.sort_values('average')"
   ]
  },
  {
   "cell_type": "code",
   "execution_count": 123,
   "metadata": {},
   "outputs": [
    {
     "name": "stdout",
     "output_type": "stream",
     "text": [
      "ucec 1207.1114115606938\n",
      "ucs 1889.3601553571427\n",
      "uvm 989.3020185714286\n",
      "stad 1786.9180789940829\n",
      "tgct 3408.9027426666667\n",
      "thca 1332.2550901408451\n",
      "thym 1926.249657777778\n",
      "read 1994.8504958904111\n",
      "sarc 1945.076494941634\n",
      "skcm 3058.525623646724\n",
      "paad 2169.115667977528\n",
      "pcpg 5131.033098324023\n",
      "prad 581.8407035555556\n",
      "lusc 1265.1906540880505\n",
      "meso 1017.23882\n",
      "ov 1606.3778986206896\n",
      "lihc 3377.030065395095\n",
      "luad 1768.3330201456313\n",
      "laml 1225.8401244047618\n",
      "lgg 571.2933435546875\n",
      "hnsc 1182.560898535565\n",
      "kich 2378.1664909090914\n",
      "kirc 1368.4244251999999\n",
      "kirp 1352.1451467680608\n",
      "coad 1979.8972186813187\n",
      "dlbc 2162.569409375\n",
      "esca 1393.021355737705\n",
      "brca 2670.248292265943\n",
      "cesc 1229.9942194078947\n",
      "chol 3997.2722944444445\n",
      "acc 3044.5161531645567\n",
      "blca 1890.7067783475782\n"
     ]
    }
   ],
   "source": [
    "for cancer in cancers:\n",
    "    if 'SLC29A1' in exptbls[cancer].index:\n",
    "        print cancer, np.average(exptbls[cancer].loc['SLC29A1'])"
   ]
  },
  {
   "cell_type": "code",
   "execution_count": 130,
   "metadata": {},
   "outputs": [
    {
     "data": {
      "text/plain": [
       "(0.11402014295941001, 0.05242381352956489)"
      ]
     },
     "execution_count": 130,
     "metadata": {},
     "output_type": "execute_result"
    }
   ],
   "source": [
    "tmp = exptbls['ov']\n",
    "#tmp = tmp[tmp['hsa-miR-6737-3p']>=5].T\n",
    "xs = tmp.loc['SLC29A1']\n",
    "ys = tmp.loc['hsa-miR-6737-3p']\n",
    "pearsonr(xs,ys)"
   ]
  },
  {
   "cell_type": "code",
   "execution_count": 137,
   "metadata": {},
   "outputs": [
    {
     "data": {
      "image/png": "[encoded data removed]",
      "text/plain": [
       "<matplotlib.figure.Figure at 0x7f727a0c1610>"
      ]
     },
     "metadata": {},
     "output_type": "display_data"
    }
   ],
   "source": [
    "fig, ax = plt.subplots(1, 1, figsize=(2.5,2.5))\n",
    "ax.scatter(xs,ys,color='k',s=20,zorder=2,alpha=.8)\n",
    "ax.set_xlabel('RPKM of SLC39A1')\n",
    "ax.set_ylabel('RPM of miR-6737-3p')\n",
    "ax.grid(ls='-')\n",
    "fig.savefig(resultpath + 'tmp.png',dpi=300)"
   ]
  },
  {
   "cell_type": "code",
   "execution_count": 138,
   "metadata": {},
   "outputs": [
    {
     "data": {
      "text/plain": [
       "'results/201229/'"
      ]
     },
     "execution_count": 138,
     "metadata": {},
     "output_type": "execute_result"
    }
   ],
   "source": [
    "resultpath"
   ]
  },
  {
   "cell_type": "code",
   "execution_count": 96,
   "metadata": {},
   "outputs": [],
   "source": [
    "s1 = pd.read_csv('supplementary/201123_s1__DROSHA_dependency.csv', header=1, index_col=0)\n",
    "s2 = pd.read_csv('supplementary/201123_s2__Construct.csv', header=1, index_col=0).fillna('')\n",
    "s3 = pd.read_csv('supplementary/210111_s3__DROSHA_processing_result.csv', header=1, index_col=0)\n",
    "s4 = pd.read_csv('supplementary/201123_s4__MiRNA_features.csv', header=1, index_col=0)\n",
    "s5 = pd.read_csv('supplementary/201123_s5__Nick_processing.csv', header=1, index_col=0)\n",
    "s6 = pd.read_csv('supplementary/201123_s6__Inverted_processing.csv', header=1, index_col=0)\n",
    "s7 = pd.read_csv('supplementary/210111_s7__DROSHA_processing_with_SRSF3.csv',\n",
    "                 header=1, index_col=0)"
   ]
  },
  {
   "cell_type": "code",
   "execution_count": 98,
   "metadata": {},
   "outputs": [
    {
     "name": "stdout",
     "output_type": "stream",
     "text": [
      "1816 560 1256\n"
     ]
    }
   ],
   "source": [
    "EFFCUT = 1.5\n",
    "HOMCUT = .25\n",
    "effsmp = s3['Cleavage Efficiency'].to_dict()\n",
    "homsmp = s3['Cleavage Homogeneity'].to_dict()\n",
    "dcsmirsmp = [ m for m in s3.index if effsmp[m]>=EFFCUT and homsmp[m]>=HOMCUT ]\n",
    "nodcsmp = [ m for m in s3.index if m not in dcsmirsmp ]\n",
    "print len(s3.index), len(dcsmirsmp), len(nodcsmp)"
   ]
  },
  {
   "cell_type": "code",
   "execution_count": 99,
   "metadata": {},
   "outputs": [
    {
     "name": "stdout",
     "output_type": "stream",
     "text": [
      "1812 747 1065\n"
     ]
    }
   ],
   "source": [
    "effs = s7['Cleavage Efficiency'].to_dict()\n",
    "homs = s7['Cleavage Homogeneity'].to_dict()\n",
    "dcsmirs = [ m for m in s7.index if effs[m]>=EFFCUT and homs[m]>=HOMCUT ]\n",
    "nodcs = [ m for m in s7.index if m not in dcsmirs ]\n",
    "print len(s7.index), len(dcsmirs), len(nodcs)"
   ]
  },
  {
   "cell_type": "code",
   "execution_count": 100,
   "metadata": {},
   "outputs": [
    {
     "name": "stdout",
     "output_type": "stream",
     "text": [
      "['hsa-miR-320a']\n"
     ]
    }
   ],
   "source": [
    "primat = {}\n",
    "for pri, row in annpri.iterrows():\n",
    "    matureDerives = anntbl[anntbl['Derives_from']==row['ID']]\n",
    "    primat[pri] = matureDerives['Name'].tolist()\n",
    "print primat['hsa-mir-320a']"
   ]
  },
  {
   "cell_type": "code",
   "execution_count": 101,
   "metadata": {},
   "outputs": [
    {
     "data": {
      "text/plain": [
       "['hsa-let-7a-3', 'hsa-let-7a-2', 'hsa-let-7a-1']"
      ]
     },
     "execution_count": 101,
     "metadata": {},
     "output_type": "execute_result"
    }
   ],
   "source": [
    "matpri = defaultdict(list)\n",
    "for pri in primat:\n",
    "    for mat in primat[pri]:\n",
    "        matpri[mat].append(pri)\n",
    "matpri['hsa-let-7a-5p']"
   ]
  },
  {
   "cell_type": "code",
   "execution_count": 102,
   "metadata": {},
   "outputs": [
    {
     "name": "stdout",
     "output_type": "stream",
     "text": [
      "218 218\n"
     ]
    }
   ],
   "source": [
    "ms = tr.index\n",
    "ms = [ m for m in ms if m in matpri and matpri[m][0] in overlap ]\n",
    "ps = [ matpri[m][0] for m in ms ]\n",
    "print len(ms), len(ps)"
   ]
  },
  {
   "cell_type": "code",
   "execution_count": 103,
   "metadata": {},
   "outputs": [
    {
     "data": {
      "text/plain": [
       "['hsa-mir-25',\n",
       " 'hsa-mir-17',\n",
       " 'hsa-mir-93',\n",
       " 'hsa-mir-92a-1',\n",
       " 'hsa-mir-106b',\n",
       " 'hsa-mir-15b',\n",
       " 'hsa-mir-19a',\n",
       " 'hsa-mir-19b-2',\n",
       " 'hsa-mir-20a',\n",
       " 'hsa-mir-17']"
      ]
     },
     "execution_count": 103,
     "metadata": {},
     "output_type": "execute_result"
    }
   ],
   "source": [
    "print "
   ]
  },
  {
   "cell_type": "code",
   "execution_count": 104,
   "metadata": {},
   "outputs": [
    {
     "name": "stdout",
     "output_type": "stream",
     "text": [
      "218 218 5 5\n"
     ]
    }
   ],
   "source": [
    "overlap = [ m for m in s3.index if m in s7.index ]\n",
    "xs1 = range(len(ps))\n",
    "ys1 = [ effs[m]-effsmp[m] for m in ps ]\n",
    "yssub1 = [ effs[p]-effsmp[p] for i,p in enumerate(ps) if p in ['hsa-mir-17','hsa-mir-18a',\n",
    "                            'hsa-mir-19a','hsa-mir-20a','hsa-mir-19b-1','hsa-mir-92a-1']]\n",
    "xssub1 = [ i for i,p in enumerate(ps) if p in ['hsa-mir-17','hsa-mir-18a','hsa-mir-19a',\n",
    "                            'hsa-mir-20a','hsa-mir-19b-1','hsa-mir-92a-1']]\n",
    "print len(xs), len(ys), len(xssub), len(yssub)"
   ]
  },
  {
   "cell_type": "code",
   "execution_count": 105,
   "metadata": {},
   "outputs": [
    {
     "name": "stdout",
     "output_type": "stream",
     "text": [
      "218 218 5 5\n"
     ]
    }
   ],
   "source": [
    "overlap = [ m for m in s3.index if m in s7.index ]\n",
    "xs2 = range(len(ps))\n",
    "ys2 = [ homs[m]-homsmp[m] for m in ps ]\n",
    "yssub2 = [ homs[p]-homsmp[p] for i,p in enumerate(ps) if p in ['hsa-mir-17','hsa-mir-18a',\n",
    "                            'hsa-mir-19a','hsa-mir-20a','hsa-mir-19b-1','hsa-mir-92a-1']]\n",
    "xssub2 = [ i for i,p in enumerate(ps) if p in ['hsa-mir-17','hsa-mir-18a','hsa-mir-19a',\n",
    "                            'hsa-mir-20a','hsa-mir-19b-1','hsa-mir-92a-1']]\n",
    "print len(xs), len(ys), len(xssub), len(yssub)"
   ]
  },
  {
   "cell_type": "code",
   "execution_count": 57,
   "metadata": {},
   "outputs": [],
   "source": [
    "from scipy.stats import pearsonr, spearmanr\n",
    "import seaborn as sns"
   ]
  },
  {
   "cell_type": "code",
   "execution_count": 106,
   "metadata": {},
   "outputs": [
    {
     "data": {
      "image/png": "[encoded data removed]",
      "text/plain": [
       "<matplotlib.figure.Figure at 0x7f72ae079c10>"
      ]
     },
     "metadata": {},
     "output_type": "display_data"
    }
   ],
   "source": [
    "fig, (ax1,ax2) = plt.subplots(1, 2, figsize=(6.5,2.5))\n",
    "fig.subplots_adjust(wspace=.5)\n",
    "sns.regplot(x=xs1, y=ys1, color='#848484',                            \n",
    "        scatter_kws={'s':10,'alpha':.8,'zorder':2,'rasterized':True,'facecolor':'None','lw':.8},\n",
    "        line_kws={'ls':'--','lw':1.5,'color':'k'}, ci=95, ax=ax1)\n",
    "ax1.scatter(xssub1,yssub1,s=7,color='tab:red',zorder=3,rasterized=True, facecolor='None',lw=1)\n",
    "ax1.set_ylabel('$\\Delta$Cleavage efficiency')\n",
    "ax1.set_xlabel('Rank of correlation with SRSF3')\n",
    "\n",
    "sns.regplot(x=xs2, y=ys2, color='#848484',                            \n",
    "        scatter_kws={'s':10,'alpha':.8,'zorder':2,'rasterized':True,'facecolor':'None','lw':.8},\n",
    "        line_kws={'ls':'--','lw':1.5,'color':'k'}, ci=95, ax=ax2)\n",
    "ax2.scatter(xssub2,yssub2,s=7,color='tab:red',zorder=3,rasterized=True, facecolor='None',lw=1)\n",
    "ax2.set_ylabel('$\\Delta$Cleavage homogeneity')\n",
    "ax2.set_xlabel('Rank of correlation with SRSF3')\n",
    "\n",
    "fig.savefig(resultpath + 'tmp2.png',dpi=300)"
   ]
  },
  {
   "cell_type": "code",
   "execution_count": null,
   "metadata": {},
   "outputs": [],
   "source": []
  }
 ],
 "metadata": {
  "kernelspec": {
   "display_name": "Python 2",
   "language": "python",
   "name": "python2"
  },
  "language_info": {
   "codemirror_mode": {
    "name": "ipython",
    "version": 2
   },
   "file_extension": ".py",
   "mimetype": "text/x-python",
   "name": "python",
   "nbconvert_exporter": "python",
   "pygments_lexer": "ipython2",
   "version": "2.7.18"
  }
 },
 "nbformat": 4,
 "nbformat_minor": 2
}
