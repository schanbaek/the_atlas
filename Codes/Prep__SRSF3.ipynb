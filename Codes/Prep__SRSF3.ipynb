{
 "cells": [
  {
   "cell_type": "markdown",
   "metadata": {},
   "source": [
    "# Supplementary Table 7. DROSHA processing with SRSF3\n",
    "---"
   ]
  },
  {
   "cell_type": "code",
   "execution_count": 1,
   "metadata": {},
   "outputs": [
    {
     "name": "stdout",
     "output_type": "stream",
     "text": [
      "Last revised by Seungchan Baek at 2021-01-05.\n"
     ]
    }
   ],
   "source": [
    "import time\n",
    "today = time.strftime('%Y-%m-%d')\n",
    "name = 'Seungchan Baek'\n",
    "print 'Last revised by %s at %s.' % (name, today)"
   ]
  },
  {
   "cell_type": "code",
   "execution_count": 2,
   "metadata": {},
   "outputs": [
    {
     "name": "stdout",
     "output_type": "stream",
     "text": [
      "/casa/bsc/projects/1_DCS/2004_paper_prep\n"
     ]
    }
   ],
   "source": [
    "home = '/casa/bsc/projects/1_DCS/2004_paper_prep/'\n",
    "%cd $home"
   ]
  },
  {
   "cell_type": "code",
   "execution_count": 3,
   "metadata": {},
   "outputs": [],
   "source": [
    "utilpath = '/casa/bsc/notebooks/'\n",
    "import sys; sys.path.append(utilpath)\n",
    "from util import *"
   ]
  },
  {
   "cell_type": "code",
   "execution_count": 4,
   "metadata": {},
   "outputs": [
    {
     "name": "stdout",
     "output_type": "stream",
     "text": [
      "resultpath: results/210105/\n"
     ]
    }
   ],
   "source": [
    "from basic import gen_result_dir\n",
    "resultpath = gen_result_dir('results/')\n",
    "print 'resultpath:', resultpath"
   ]
  },
  {
   "cell_type": "code",
   "execution_count": 5,
   "metadata": {},
   "outputs": [],
   "source": [
    "from __future__ import division\n",
    "import pandas as pd\n",
    "import numpy as np\n",
    "import re\n",
    "import gzip\n",
    "from scipy.stats import pearsonr, spearmanr\n",
    "from matplotlib import pyplot as plt\n",
    "from collections import defaultdict, Counter\n",
    "%matplotlib inline"
   ]
  },
  {
   "cell_type": "markdown",
   "metadata": {},
   "source": [
    "### 1. List up pri-miRNAs with redundant construct sequence"
   ]
  },
  {
   "cell_type": "code",
   "execution_count": 6,
   "metadata": {},
   "outputs": [
    {
     "name": "stdout",
     "output_type": "stream",
     "text": [
      "s1:\t5p mature, 5p sequence, 3p mature, 3p sequence, Note\n",
      "s2:\tChr, Start, End, Strand, Construct sequence, 100way phyloP scores (pre-miRNA -/+ 100nt)\n",
      "s6:\tRelative position from miRBase site, Cleavage Specificity, Cleavage Imbalance, Cleavage type\n"
     ]
    }
   ],
   "source": [
    "s1 = pd.read_csv('supplementary/201110_s1_pri-info.csv', header=1, index_col=0)\n",
    "s2 = pd.read_csv('supplementary/201012_s2_pri-construct.csv', index_col=0, header=1)\n",
    "s6 = pd.read_csv('supplementary/201012_s6_cleavage-patterns.csv', header=1, index_col=0)\n",
    "print 's1:\\t%s'%', '.join(list(s1.columns))\n",
    "print 's2:\\t%s'%', '.join(list(s2.columns)[:6])\n",
    "print 's6:\\t%s'%', '.join(list(s6.columns)[-4:])"
   ]
  },
  {
   "cell_type": "code",
   "execution_count": 7,
   "metadata": {},
   "outputs": [
    {
     "name": "stdout",
     "output_type": "stream",
     "text": [
      "Productive: 512, Unproductive: 1304\n",
      "Single: 445, Multiple: 67, Inverted: 156, Nick: 107, Non-specific: 1041\n",
      "5' nick: 72, 3' nick: 35\n"
     ]
    }
   ],
   "source": [
    "singlemp = set(s6[s6['Cleavage type']=='single'].index)\n",
    "multimp = set(s6[s6['Cleavage type']=='multiple'].index)\n",
    "invertedmp = set(s6[s6['Cleavage type']=='inverted'].index)\n",
    "nick5mp = set(s6[s6['Cleavage type']=='nick5'].index)\n",
    "nick3mp = set(s6[s6['Cleavage type']=='nick3'].index)\n",
    "nickmp = list(nick5mp) + list(nick3mp)\n",
    "nonspecmp = set(s6[s6['Cleavage type']=='non-specific'].index)\n",
    "dcsmirsmp = list(singlemp) + list(multimp)\n",
    "nodcsmp = list(invertedmp) + list(nickmp) + list(nonspecmp)\n",
    "print 'Productive: %s, Unproductive: %s' % (len(dcsmirsmp), len(nodcsmp))\n",
    "print 'Single: %s, Multiple: %s, Inverted: %s, Nick: %s, Non-specific: %s'\\\n",
    "% (len(singlemp), len(multimp), len(invertedmp), len(nickmp), len(nonspecmp))\n",
    "print \"5' nick: %s, 3' nick: %s\" % (len(nick5mp), len(nick3mp))"
   ]
  },
  {
   "cell_type": "code",
   "execution_count": 8,
   "metadata": {},
   "outputs": [],
   "source": [
    "def mirbase_to_relative_pos(mir, c5, c3):\n",
    "    ps, pe, strand = s2.loc[mir, ['Start','End','Strand']]\n",
    "    if strand=='+':\n",
    "        return c5-ps+1, c3-ps+1\n",
    "    return pe-c3+1, pe-c5+1"
   ]
  },
  {
   "cell_type": "code",
   "execution_count": 9,
   "metadata": {},
   "outputs": [
    {
     "name": "stdout",
     "output_type": "stream",
     "text": [
      "1881 (32, 90)\n"
     ]
    }
   ],
   "source": [
    "allpris = s1.index\n",
    "preposition = {}\n",
    "for mir in allpris:\n",
    "    ps, pe = get_pre_annot(mir)[1:3]\n",
    "    rps, rpe = mirbase_to_relative_pos(mir,ps,pe)\n",
    "    preposition[mir] = (rps, rpe)\n",
    "print len(preposition), preposition['hsa-mir-142']"
   ]
  },
  {
   "cell_type": "code",
   "execution_count": 10,
   "metadata": {},
   "outputs": [
    {
     "name": "stdout",
     "output_type": "stream",
     "text": [
      "25\n"
     ]
    }
   ],
   "source": [
    "redund = s2[s2['Note'].apply(lambda x: str(x).find('Same construct')>=0)]\n",
    "repreRedund = defaultdict(list)\n",
    "for pri, note in dict(redund['Note']).items():\n",
    "    repre = note.split()[-1]\n",
    "    repreRedund[repre].append(pri)\n",
    "print len(repreRedund)"
   ]
  },
  {
   "cell_type": "markdown",
   "metadata": {},
   "source": [
    "### 2. Input"
   ]
  },
  {
   "cell_type": "code",
   "execution_count": 11,
   "metadata": {},
   "outputs": [],
   "source": [
    "datapath = '../2009_srsf3_hiseq/alignments'"
   ]
  },
  {
   "cell_type": "code",
   "execution_count": 15,
   "metadata": {},
   "outputs": [],
   "source": [
    "allinputs = [ 'input_1', 'input_2' ]\n",
    "inptbl = pd.DataFrame(columns=['Pri-miRNA']+allinputs)\n",
    "inptbl['Pri-miRNA'] = allpris\n",
    "inptbl = inptbl.set_index('Pri-miRNA').fillna(0)"
   ]
  },
  {
   "cell_type": "code",
   "execution_count": 16,
   "metadata": {},
   "outputs": [],
   "source": [
    "for lib in allinputs:\n",
    "    txt = '%s/%s.txt.gz' % (datapath,lib)\n",
    "    mirs = !zcat $txt | cut -d\" \" -f1\n",
    "    adjmirs = [ 'hsa-mir-1302-11' if m=='hsa-mir-1302-2' else m for m in mirs ]\n",
    "    mircnts = pd.Series(Counter(adjmirs))\n",
    "    inptbl[lib].update(mircnts)"
   ]
  },
  {
   "cell_type": "code",
   "execution_count": 12,
   "metadata": {},
   "outputs": [],
   "source": [
    "#inptbl.to_csv('%s/input_counts.csv'%datapath)\n",
    "inptbl = pd.read_csv('%s/input_counts.csv'%datapath,index_col=0)"
   ]
  },
  {
   "cell_type": "code",
   "execution_count": 13,
   "metadata": {},
   "outputs": [],
   "source": [
    "for pri in inptbl.index:\n",
    "    if pri in repreRedund:\n",
    "        for pri2 in repreRedund[pri]:\n",
    "            inptbl.loc[pri2] = inptbl.loc[pri]\n",
    "inptbl = inptbl.sort_index()"
   ]
  },
  {
   "cell_type": "code",
   "execution_count": 14,
   "metadata": {},
   "outputs": [
    {
     "data": {
      "text/html": [
       "<div>\n",
       "<style scoped>\n",
       "    .dataframe tbody tr th:only-of-type {\n",
       "        vertical-align: middle;\n",
       "    }\n",
       "\n",
       "    .dataframe tbody tr th {\n",
       "        vertical-align: top;\n",
       "    }\n",
       "\n",
       "    .dataframe thead th {\n",
       "        text-align: right;\n",
       "    }\n",
       "</style>\n",
       "<table border=\"1\" class=\"dataframe\">\n",
       "  <thead>\n",
       "    <tr style=\"text-align: right;\">\n",
       "      <th></th>\n",
       "      <th>input_1</th>\n",
       "      <th>input_2</th>\n",
       "    </tr>\n",
       "    <tr>\n",
       "      <th>Pri-miRNA</th>\n",
       "      <th></th>\n",
       "      <th></th>\n",
       "    </tr>\n",
       "  </thead>\n",
       "  <tbody>\n",
       "    <tr>\n",
       "      <th>hsa-let-7a-1</th>\n",
       "      <td>6675</td>\n",
       "      <td>6846</td>\n",
       "    </tr>\n",
       "    <tr>\n",
       "      <th>hsa-let-7a-2</th>\n",
       "      <td>15458</td>\n",
       "      <td>17160</td>\n",
       "    </tr>\n",
       "    <tr>\n",
       "      <th>hsa-let-7a-3</th>\n",
       "      <td>29955</td>\n",
       "      <td>27010</td>\n",
       "    </tr>\n",
       "  </tbody>\n",
       "</table>\n",
       "</div>"
      ],
      "text/plain": [
       "              input_1  input_2\n",
       "Pri-miRNA                     \n",
       "hsa-let-7a-1     6675     6846\n",
       "hsa-let-7a-2    15458    17160\n",
       "hsa-let-7a-3    29955    27010"
      ]
     },
     "execution_count": 14,
     "metadata": {},
     "output_type": "execute_result"
    }
   ],
   "source": [
    "inptbl.head(3)"
   ]
  },
  {
   "cell_type": "code",
   "execution_count": 15,
   "metadata": {},
   "outputs": [
    {
     "data": {
      "text/plain": [
       "Text(0.5,1,u'2009 Hiseq: input')"
      ]
     },
     "execution_count": 15,
     "metadata": {},
     "output_type": "execute_result"
    },
    {
     "data": {
      "image/png": "[encoded data removed]",
      "text/plain": [
       "<matplotlib.figure.Figure at 0x7fac342b4050>"
      ]
     },
     "metadata": {},
     "output_type": "display_data"
    }
   ],
   "source": [
    "inpdet = inptbl[inptbl.sum(axis=1)>0]\n",
    "xs = np.log2(inpdet['input_1']+1)\n",
    "ys = np.log2(inpdet['input_2']+1)\n",
    "fig, ax = plt.subplots(1, 1, figsize=(3,3))\n",
    "ax.scatter(xs,ys,s=5,color='k',alpha=.1, zorder=2)\n",
    "ax.grid(ls='-',lw=.5)\n",
    "ax.set_xlim(-max(xs)*.02, max(xs)*1.02)\n",
    "ax.set_ylim(-max(ys)*.02, max(ys)*1.02)\n",
    "ax.spines['bottom'].set_bounds(0,max(xs)*1.02)\n",
    "ax.spines['left'].set_bounds(0,max(ys)*1.02)\n",
    "r = pearsonr(xs,ys)[0]\n",
    "ax.text(max(xs),1,'N = %s\\nr = %.2f'%(len(inpdet),r), ha='right')\n",
    "ax.set_title('2009 Hiseq: input', fontsize=12)"
   ]
  },
  {
   "cell_type": "code",
   "execution_count": 16,
   "metadata": {},
   "outputs": [
    {
     "name": "stdout",
     "output_type": "stream",
     "text": [
      "1815\n"
     ]
    }
   ],
   "source": [
    "rcutoff = 30\n",
    "suffinps = sorted([ mir for mir in allpris if inptbl.loc[mir].sum()>=rcutoff ])\n",
    "print len(suffinps)"
   ]
  },
  {
   "cell_type": "markdown",
   "metadata": {},
   "source": [
    "### 3. Cleavage products"
   ]
  },
  {
   "cell_type": "code",
   "execution_count": 12,
   "metadata": {},
   "outputs": [
    {
     "data": {
      "text/html": [
       "<div>\n",
       "<style scoped>\n",
       "    .dataframe tbody tr th:only-of-type {\n",
       "        vertical-align: middle;\n",
       "    }\n",
       "\n",
       "    .dataframe tbody tr th {\n",
       "        vertical-align: top;\n",
       "    }\n",
       "\n",
       "    .dataframe thead th {\n",
       "        text-align: right;\n",
       "    }\n",
       "</style>\n",
       "<table border=\"1\" class=\"dataframe\">\n",
       "  <thead>\n",
       "    <tr style=\"text-align: right;\">\n",
       "      <th></th>\n",
       "      <th>Pri-miRNA</th>\n",
       "      <th>rstart</th>\n",
       "      <th>rend</th>\n",
       "      <th>cleaved_1</th>\n",
       "      <th>cleaved_2</th>\n",
       "    </tr>\n",
       "  </thead>\n",
       "  <tbody>\n",
       "    <tr>\n",
       "      <th>0</th>\n",
       "      <td>hsa-let-7a-1</td>\n",
       "      <td>1</td>\n",
       "      <td>7</td>\n",
       "      <td>0</td>\n",
       "      <td>5</td>\n",
       "    </tr>\n",
       "  </tbody>\n",
       "</table>\n",
       "</div>"
      ],
      "text/plain": [
       "      Pri-miRNA  rstart  rend  cleaved_1  cleaved_2\n",
       "0  hsa-let-7a-1       1     7          0          5"
      ]
     },
     "execution_count": 12,
     "metadata": {},
     "output_type": "execute_result"
    }
   ],
   "source": [
    "prev = pd.read_csv('../2009_srsf3_hiseq/alignments/cleaved_count.csv',index_col=0)\n",
    "prev.head(1)"
   ]
  },
  {
   "cell_type": "code",
   "execution_count": 13,
   "metadata": {},
   "outputs": [],
   "source": [
    "def cigar_to_len(cigar):\n",
    "    nums = re.split('[A-Z]', cigar)[:-1]\n",
    "    strs = re.split('[0-9]+', cigar)[1:]\n",
    "    rlen = sum([int(number) for number, cigStr in zip(nums, strs) if cigStr in 'DM'])\n",
    "    return rlen"
   ]
  },
  {
   "cell_type": "code",
   "execution_count": 14,
   "metadata": {},
   "outputs": [],
   "source": [
    "allclvs = 'cleaved_1 cleaved_2'.split()\n",
    "adaptlen = 20"
   ]
  },
  {
   "cell_type": "code",
   "execution_count": 32,
   "metadata": {},
   "outputs": [],
   "source": [
    "d = {}\n",
    "for lib in allclvs:\n",
    "    summaryfile = '%s/%s.txt.gz' % (datapath,lib)\n",
    "    tbl = pd.read_table(gzip.open(summaryfile, 'rb'), sep=' ',\n",
    "                        names=['Pri-miRNA', 'start_R2', 'cigar', 'start_R1'])\n",
    "    tbl['rstart'] = tbl['start_R1'].apply(lambda x: max(1, x-adaptlen))\n",
    "    tbl['rlen'] = tbl['cigar'].apply(cigar_to_len)\n",
    "    tbl['rend_tmp'] = tbl['start_R2']+tbl['rlen']-1\n",
    "    tbl['rend'] = tbl['rend_tmp'].apply(lambda x: min(125, x-adaptlen))\n",
    "    cnttbl = tbl.groupby(['Pri-miRNA', 'rstart', 'rend']).size()\n",
    "    d[lib] = cnttbl"
   ]
  },
  {
   "cell_type": "code",
   "execution_count": 15,
   "metadata": {},
   "outputs": [],
   "source": [
    "d,dupls = {},{}\n",
    "for lib in allclvs:\n",
    "    summaryfile = '%s/%s.multi.txt.gz' % (datapath,lib)\n",
    "    tbl = pd.read_table(gzip.open(summaryfile, 'rb'), sep=' ',\n",
    "                        names=['Read','Pri-miRNA', 'start_R2', 'cigar', 'start_R1'])\n",
    "    tbl['rstart'] = tbl['start_R1'].apply(lambda x: max(1, x-adaptlen))\n",
    "    tbl['rlen'] = tbl['cigar'].apply(cigar_to_len)\n",
    "    tbl['rend_tmp'] = tbl['start_R2']+tbl['rlen']-1\n",
    "    tbl['rend'] = tbl['rend_tmp'].apply(lambda x: min(125, x-adaptlen))\n",
    "    tbl = tbl[(tbl['rend']-tbl['rstart'])>=10]\n",
    "    multicnts = Counter(tbl['Read'])\n",
    "    for (pri,st,en),grp in tbl.groupby(['Pri-miRNA','rstart','rend']):\n",
    "        mcnt = multicnts[grp['Read'].tolist()[0]]\n",
    "        dupls[(pri,int(st),int(en))] = mcnt\n",
    "    cnttbl = tbl.groupby(['Pri-miRNA','rstart','rend']).size()\n",
    "    d[lib] = cnttbl"
   ]
  },
  {
   "cell_type": "code",
   "execution_count": 16,
   "metadata": {},
   "outputs": [],
   "source": [
    "clvtbl = pd.DataFrame(d).fillna(0).astype(int).reset_index()\n",
    "unclv = clvtbl[(clvtbl['rstart']==1)&(clvtbl['rend']==125)]\n",
    "clvtbl = clvtbl.drop(unclv.index).set_index(['Pri-miRNA','rstart','rend'])"
   ]
  },
  {
   "cell_type": "code",
   "execution_count": 17,
   "metadata": {},
   "outputs": [],
   "source": [
    "clvtbl2 = clvtbl.copy()\n",
    "for (pri,st,en),row in clvtbl.iterrows():\n",
    "    clvtbl2.loc[(pri,st,en)] = row/dupls[(pri,st,en)]"
   ]
  },
  {
   "cell_type": "code",
   "execution_count": 18,
   "metadata": {
    "scrolled": true
   },
   "outputs": [
    {
     "name": "stdout",
     "output_type": "stream",
     "text": [
      "290\n"
     ]
    },
    {
     "data": {
      "text/html": [
       "<div>\n",
       "<style scoped>\n",
       "    .dataframe tbody tr th:only-of-type {\n",
       "        vertical-align: middle;\n",
       "    }\n",
       "\n",
       "    .dataframe tbody tr th {\n",
       "        vertical-align: top;\n",
       "    }\n",
       "\n",
       "    .dataframe thead th {\n",
       "        text-align: right;\n",
       "    }\n",
       "</style>\n",
       "<table border=\"1\" class=\"dataframe\">\n",
       "  <thead>\n",
       "    <tr style=\"text-align: right;\">\n",
       "      <th></th>\n",
       "      <th>Pri-miRNA</th>\n",
       "      <th>rstart</th>\n",
       "      <th>rend</th>\n",
       "      <th>cleaved_1</th>\n",
       "      <th>cleaved_2</th>\n",
       "    </tr>\n",
       "  </thead>\n",
       "  <tbody>\n",
       "    <tr>\n",
       "      <th>0</th>\n",
       "      <td>hsa-mir-105-1</td>\n",
       "      <td>19</td>\n",
       "      <td>48</td>\n",
       "      <td>0.0</td>\n",
       "      <td>1.0</td>\n",
       "    </tr>\n",
       "    <tr>\n",
       "      <th>1</th>\n",
       "      <td>hsa-mir-105-1</td>\n",
       "      <td>19</td>\n",
       "      <td>50</td>\n",
       "      <td>2.5</td>\n",
       "      <td>0.5</td>\n",
       "    </tr>\n",
       "    <tr>\n",
       "      <th>2</th>\n",
       "      <td>hsa-mir-105-1</td>\n",
       "      <td>19</td>\n",
       "      <td>53</td>\n",
       "      <td>0.0</td>\n",
       "      <td>1.0</td>\n",
       "    </tr>\n",
       "    <tr>\n",
       "      <th>3</th>\n",
       "      <td>hsa-mir-105-1</td>\n",
       "      <td>19</td>\n",
       "      <td>54</td>\n",
       "      <td>0.0</td>\n",
       "      <td>0.5</td>\n",
       "    </tr>\n",
       "    <tr>\n",
       "      <th>4</th>\n",
       "      <td>hsa-mir-105-1</td>\n",
       "      <td>19</td>\n",
       "      <td>56</td>\n",
       "      <td>1.5</td>\n",
       "      <td>1.0</td>\n",
       "    </tr>\n",
       "  </tbody>\n",
       "</table>\n",
       "</div>"
      ],
      "text/plain": [
       "       Pri-miRNA  rstart  rend  cleaved_1  cleaved_2\n",
       "0  hsa-mir-105-1      19    48        0.0        1.0\n",
       "1  hsa-mir-105-1      19    50        2.5        0.5\n",
       "2  hsa-mir-105-1      19    53        0.0        1.0\n",
       "3  hsa-mir-105-1      19    54        0.0        0.5\n",
       "4  hsa-mir-105-1      19    56        1.5        1.0"
      ]
     },
     "execution_count": 18,
     "metadata": {},
     "output_type": "execute_result"
    }
   ],
   "source": [
    "clvtbl2 = clvtbl2.reset_index()\n",
    "for pri in set(clvtbl2['Pri-miRNA']):\n",
    "    if pri in repreRedund:\n",
    "        for pri2 in repreRedund[pri]:\n",
    "            new = clvtbl2[clvtbl2['Pri-miRNA']==pri].copy()\n",
    "            new['Pri-miRNA'] = pri2\n",
    "            clvtbl2 = clvtbl2.append(new)\n",
    "clvtbl2 = clvtbl2.sort_values(['Pri-miRNA', 'rstart', 'rend'])\n",
    "clvtbl2.head()"
   ]
  },
  {
   "cell_type": "code",
   "execution_count": 19,
   "metadata": {},
   "outputs": [],
   "source": [
    "clvtbl = prev.append(clvtbl2,ignore_index=True)\n",
    "clvtbl = clvtbl.drop_duplicates(['Pri-miRNA','rstart','rend']).fillna(0)"
   ]
  },
  {
   "cell_type": "code",
   "execution_count": 20,
   "metadata": {},
   "outputs": [],
   "source": [
    "clvtbl.to_csv('resources/210105_clvs_srsf3.csv')"
   ]
  },
  {
   "cell_type": "code",
   "execution_count": null,
   "metadata": {},
   "outputs": [],
   "source": []
  },
  {
   "cell_type": "code",
   "execution_count": null,
   "metadata": {},
   "outputs": [],
   "source": []
  },
  {
   "cell_type": "code",
   "execution_count": 34,
   "metadata": {},
   "outputs": [
    {
     "name": "stdout",
     "output_type": "stream",
     "text": [
      "1880\n"
     ]
    },
    {
     "data": {
      "text/html": [
       "<div>\n",
       "<style scoped>\n",
       "    .dataframe tbody tr th:only-of-type {\n",
       "        vertical-align: middle;\n",
       "    }\n",
       "\n",
       "    .dataframe tbody tr th {\n",
       "        vertical-align: top;\n",
       "    }\n",
       "\n",
       "    .dataframe thead th {\n",
       "        text-align: right;\n",
       "    }\n",
       "</style>\n",
       "<table border=\"1\" class=\"dataframe\">\n",
       "  <thead>\n",
       "    <tr style=\"text-align: right;\">\n",
       "      <th></th>\n",
       "      <th>Pri-miRNA</th>\n",
       "      <th>rstart</th>\n",
       "      <th>rend</th>\n",
       "      <th>cleaved_1</th>\n",
       "      <th>cleaved_2</th>\n",
       "    </tr>\n",
       "  </thead>\n",
       "  <tbody>\n",
       "    <tr>\n",
       "      <th>0</th>\n",
       "      <td>hsa-let-7a-1</td>\n",
       "      <td>1</td>\n",
       "      <td>7</td>\n",
       "      <td>0</td>\n",
       "      <td>5</td>\n",
       "    </tr>\n",
       "    <tr>\n",
       "      <th>1</th>\n",
       "      <td>hsa-let-7a-1</td>\n",
       "      <td>1</td>\n",
       "      <td>8</td>\n",
       "      <td>0</td>\n",
       "      <td>3</td>\n",
       "    </tr>\n",
       "    <tr>\n",
       "      <th>2</th>\n",
       "      <td>hsa-let-7a-1</td>\n",
       "      <td>1</td>\n",
       "      <td>9</td>\n",
       "      <td>21</td>\n",
       "      <td>19</td>\n",
       "    </tr>\n",
       "    <tr>\n",
       "      <th>3</th>\n",
       "      <td>hsa-let-7a-1</td>\n",
       "      <td>1</td>\n",
       "      <td>10</td>\n",
       "      <td>12</td>\n",
       "      <td>27</td>\n",
       "    </tr>\n",
       "    <tr>\n",
       "      <th>4</th>\n",
       "      <td>hsa-let-7a-1</td>\n",
       "      <td>1</td>\n",
       "      <td>11</td>\n",
       "      <td>44</td>\n",
       "      <td>39</td>\n",
       "    </tr>\n",
       "  </tbody>\n",
       "</table>\n",
       "</div>"
      ],
      "text/plain": [
       "      Pri-miRNA  rstart  rend  cleaved_1  cleaved_2\n",
       "0  hsa-let-7a-1       1     7          0          5\n",
       "1  hsa-let-7a-1       1     8          0          3\n",
       "2  hsa-let-7a-1       1     9         21         19\n",
       "3  hsa-let-7a-1       1    10         12         27\n",
       "4  hsa-let-7a-1       1    11         44         39"
      ]
     },
     "execution_count": 34,
     "metadata": {},
     "output_type": "execute_result"
    }
   ],
   "source": [
    "for pri in set(clvtbl['Pri-miRNA']):\n",
    "    if pri in repreRedund:\n",
    "        for pri2 in repreRedund[pri]:\n",
    "            new = clvtbl[clvtbl['Pri-miRNA']==pri].copy()\n",
    "            new['Pri-miRNA'] = pri2\n",
    "            clvtbl = clvtbl.append(new)\n",
    "clvtbl = clvtbl.sort_values(['Pri-miRNA', 'rstart', 'rend'])\n",
    "print len(set(clvtbl['Pri-miRNA']))\n",
    "clvtbl.head()"
   ]
  },
  {
   "cell_type": "code",
   "execution_count": 46,
   "metadata": {},
   "outputs": [
    {
     "data": {
      "text/html": [
       "<div>\n",
       "<style scoped>\n",
       "    .dataframe tbody tr th:only-of-type {\n",
       "        vertical-align: middle;\n",
       "    }\n",
       "\n",
       "    .dataframe tbody tr th {\n",
       "        vertical-align: top;\n",
       "    }\n",
       "\n",
       "    .dataframe thead th {\n",
       "        text-align: right;\n",
       "    }\n",
       "</style>\n",
       "<table border=\"1\" class=\"dataframe\">\n",
       "  <thead>\n",
       "    <tr style=\"text-align: right;\">\n",
       "      <th></th>\n",
       "      <th>Pri-miRNA</th>\n",
       "      <th>rstart</th>\n",
       "      <th>rend</th>\n",
       "      <th>cleaved_1</th>\n",
       "      <th>cleaved_2</th>\n",
       "    </tr>\n",
       "  </thead>\n",
       "  <tbody>\n",
       "    <tr>\n",
       "      <th>0</th>\n",
       "      <td>hsa-let-7a-1</td>\n",
       "      <td>1</td>\n",
       "      <td>7</td>\n",
       "      <td>0</td>\n",
       "      <td>5</td>\n",
       "    </tr>\n",
       "    <tr>\n",
       "      <th>1</th>\n",
       "      <td>hsa-let-7a-1</td>\n",
       "      <td>1</td>\n",
       "      <td>8</td>\n",
       "      <td>0</td>\n",
       "      <td>3</td>\n",
       "    </tr>\n",
       "    <tr>\n",
       "      <th>2</th>\n",
       "      <td>hsa-let-7a-1</td>\n",
       "      <td>1</td>\n",
       "      <td>9</td>\n",
       "      <td>21</td>\n",
       "      <td>19</td>\n",
       "    </tr>\n",
       "    <tr>\n",
       "      <th>3</th>\n",
       "      <td>hsa-let-7a-1</td>\n",
       "      <td>1</td>\n",
       "      <td>10</td>\n",
       "      <td>12</td>\n",
       "      <td>27</td>\n",
       "    </tr>\n",
       "    <tr>\n",
       "      <th>4</th>\n",
       "      <td>hsa-let-7a-1</td>\n",
       "      <td>1</td>\n",
       "      <td>11</td>\n",
       "      <td>44</td>\n",
       "      <td>39</td>\n",
       "    </tr>\n",
       "  </tbody>\n",
       "</table>\n",
       "</div>"
      ],
      "text/plain": [
       "      Pri-miRNA  rstart  rend  cleaved_1  cleaved_2\n",
       "0  hsa-let-7a-1       1     7          0          5\n",
       "1  hsa-let-7a-1       1     8          0          3\n",
       "2  hsa-let-7a-1       1     9         21         19\n",
       "3  hsa-let-7a-1       1    10         12         27\n",
       "4  hsa-let-7a-1       1    11         44         39"
      ]
     },
     "execution_count": 46,
     "metadata": {},
     "output_type": "execute_result"
    }
   ],
   "source": [
    "#clvtbl.to_csv('%s/cleaved_count.csv'%datapath)\n",
    "clvtbl = pd.read_csv('%s/cleaved_count.csv'%datapath,index_col=0)\n",
    "clvtbl.head()"
   ]
  },
  {
   "cell_type": "code",
   "execution_count": 47,
   "metadata": {},
   "outputs": [],
   "source": [
    "start, mid, end = 1, 63, 125\n",
    "clv5f = clvtbl[(clvtbl['rstart']==start)&(clvtbl['rend']<mid)].set_index('Pri-miRNA')\n",
    "clv3f = clvtbl[(clvtbl['rstart']>mid)&(clvtbl['rend']==end)].set_index('Pri-miRNA')\n",
    "clvhn = clvtbl[(clvtbl['rstart']<mid)&(clvtbl['rend']>mid)]\n",
    "clvn5 = clvhn[clvhn['rstart']==start]\n",
    "clvn3 = clvhn[clvhn['rend']==end]\n",
    "clvh = clvhn.drop(clvn5.index).drop(clvn3.index).set_index('Pri-miRNA')"
   ]
  },
  {
   "cell_type": "code",
   "execution_count": 48,
   "metadata": {},
   "outputs": [
    {
     "ename": "NameError",
     "evalue": "name 'allclvs' is not defined",
     "output_type": "error",
     "traceback": [
      "\u001b[0;31m\u001b[0m",
      "\u001b[0;31mNameError\u001b[0mTraceback (most recent call last)",
      "\u001b[0;32m<ipython-input-48-d88192b1d38c>\u001b[0m in \u001b[0;36m<module>\u001b[0;34m()\u001b[0m\n\u001b[0;32m----> 1\u001b[0;31m \u001b[0mrep1\u001b[0m\u001b[0;34m,\u001b[0m \u001b[0mrep2\u001b[0m \u001b[0;34m=\u001b[0m \u001b[0mallclvs\u001b[0m\u001b[0;34m\u001b[0m\u001b[0m\n\u001b[0m\u001b[1;32m      2\u001b[0m \u001b[0mf51\u001b[0m \u001b[0;34m=\u001b[0m \u001b[0mnp\u001b[0m\u001b[0;34m.\u001b[0m\u001b[0mlog2\u001b[0m\u001b[0;34m(\u001b[0m\u001b[0mclv5f\u001b[0m\u001b[0;34m[\u001b[0m\u001b[0mrep1\u001b[0m\u001b[0;34m]\u001b[0m\u001b[0;34m+\u001b[0m\u001b[0;36m1\u001b[0m\u001b[0;34m)\u001b[0m\u001b[0;34m\u001b[0m\u001b[0m\n\u001b[1;32m      3\u001b[0m \u001b[0mf52\u001b[0m \u001b[0;34m=\u001b[0m \u001b[0mnp\u001b[0m\u001b[0;34m.\u001b[0m\u001b[0mlog2\u001b[0m\u001b[0;34m(\u001b[0m\u001b[0mclv5f\u001b[0m\u001b[0;34m[\u001b[0m\u001b[0mrep2\u001b[0m\u001b[0;34m]\u001b[0m\u001b[0;34m+\u001b[0m\u001b[0;36m1\u001b[0m\u001b[0;34m)\u001b[0m\u001b[0;34m\u001b[0m\u001b[0m\n\u001b[1;32m      4\u001b[0m \u001b[0mf31\u001b[0m \u001b[0;34m=\u001b[0m \u001b[0mnp\u001b[0m\u001b[0;34m.\u001b[0m\u001b[0mlog2\u001b[0m\u001b[0;34m(\u001b[0m\u001b[0mclv3f\u001b[0m\u001b[0;34m[\u001b[0m\u001b[0mrep1\u001b[0m\u001b[0;34m]\u001b[0m\u001b[0;34m+\u001b[0m\u001b[0;36m1\u001b[0m\u001b[0;34m)\u001b[0m\u001b[0;34m\u001b[0m\u001b[0m\n\u001b[1;32m      5\u001b[0m \u001b[0mf32\u001b[0m \u001b[0;34m=\u001b[0m \u001b[0mnp\u001b[0m\u001b[0;34m.\u001b[0m\u001b[0mlog2\u001b[0m\u001b[0;34m(\u001b[0m\u001b[0mclv3f\u001b[0m\u001b[0;34m[\u001b[0m\u001b[0mrep2\u001b[0m\u001b[0;34m]\u001b[0m\u001b[0;34m+\u001b[0m\u001b[0;36m1\u001b[0m\u001b[0;34m)\u001b[0m\u001b[0;34m\u001b[0m\u001b[0m\n",
      "\u001b[0;31mNameError\u001b[0m: name 'allclvs' is not defined"
     ]
    }
   ],
   "source": [
    "rep1, rep2 = allclvs\n",
    "f51 = np.log2(clv5f[rep1]+1) \n",
    "f52 = np.log2(clv5f[rep2]+1) \n",
    "f31 = np.log2(clv3f[rep1]+1) \n",
    "f32 = np.log2(clv3f[rep2]+1) \n",
    "fh1 = np.log2(clvh[rep1]+1) \n",
    "fh2 = np.log2(clvh[rep2]+1) \n",
    "r5 = pearsonr(f51, f52)[0]\n",
    "r3 = pearsonr(f31, f32)[0]\n",
    "rh = pearsonr(fh1, fh2)[0]\n",
    "xmin, xmax = 0, 20\n",
    "ymin, ymax = 0, 20\n",
    "lw = .7\n",
    "a = .2\n",
    "s = 5\n",
    "print r5,r3,rh"
   ]
  },
  {
   "cell_type": "code",
   "execution_count": 47,
   "metadata": {},
   "outputs": [
    {
     "data": {
      "text/plain": [
       "Text(0.5,1,u'2009 Hiseq: clveage product')"
      ]
     },
     "execution_count": 47,
     "metadata": {},
     "output_type": "execute_result"
    },
    {
     "data": {
      "image/png": "[encoded data removed]",
      "text/plain": [
       "<matplotlib.figure.Figure at 0x7f1fdbcc6a50>"
      ]
     },
     "metadata": {},
     "output_type": "display_data"
    }
   ],
   "source": [
    "fig, ax = plt.subplots(1, 1, figsize=(3,3))\n",
    "ax.scatter(f51, f52, s=s, c='w', edgecolor='k', marker='o', lw=lw, alpha=a, label='5F', zorder=2)\n",
    "ax.scatter(fh1, fh2, s=s, c='w', edgecolor='k', marker='^', lw=lw, alpha=a, label='H', zorder=2)\n",
    "ax.scatter(f31, f32, s=s, c='w', edgecolor='k', marker='s', lw=lw, alpha=a, label='3F', zorder=2)\n",
    "\n",
    "ax.set_xticks(range(xmin, xmax, 4))\n",
    "ax.set_yticks(range(ymin, ymax, 4))\n",
    "ax.set_xlim(xmin-.4, xmax+.4)\n",
    "ax.set_ylim(ymin-.4, ymax+.4)\n",
    "ax.set_xlabel('Set #1', fontsize=12)\n",
    "ax.set_ylabel('Set #2', fontsize=12)\n",
    "\n",
    "ax.spines['bottom'].set_bounds(xmin, xmax)\n",
    "ax.spines['left'].set_bounds(ymin, ymax)\n",
    "ax.text(xmax,.5,'$R_5F$ = %.2f\\n$R_H$  = %.2f\\n$R_3F$ = %.2f'%(r5,rh,r3),ha='right')\n",
    "leg = ax.legend(loc='upper left', handletextpad=.1, markerscale=2)\n",
    "for lh in leg.legendHandles:\n",
    "    lh.set_alpha(1)\n",
    "squ = plt.Rectangle((-.1,-.1), xmax+.1, ymax+.1, fc='w'); ax.add_patch(squ)\n",
    "ax.grid(clip_path=squ, ls='-', lw=.5)\n",
    "ax.set_title('2009 Hiseq: clveage product', fontsize=12)\n",
    "#fig.savefig(resultpath + '200612_s1c_reproducibility_clv.pdf')"
   ]
  },
  {
   "cell_type": "markdown",
   "metadata": {},
   "source": [
    "### 4. Cleavage productivity"
   ]
  },
  {
   "cell_type": "code",
   "execution_count": 50,
   "metadata": {},
   "outputs": [],
   "source": [
    "window = 3"
   ]
  },
  {
   "cell_type": "code",
   "execution_count": 49,
   "metadata": {},
   "outputs": [],
   "source": [
    "inptbl['input'] = inptbl['input_1']+inptbl['input_2']\n",
    "clvtbl['cleaved'] = clvtbl['cleaved_2']#+clvtbl['cleaved_2']"
   ]
  },
  {
   "cell_type": "code",
   "execution_count": 51,
   "metadata": {},
   "outputs": [],
   "source": [
    "start, mid, end = 1, 63, 125\n",
    "clv5f = clvtbl[(clvtbl['rstart']==start)&(clvtbl['rend']<mid)].set_index('Pri-miRNA')\n",
    "clv3f = clvtbl[(clvtbl['rstart']>mid)&(clvtbl['rend']==end)].set_index('Pri-miRNA')\n",
    "clvhn = clvtbl[(clvtbl['rstart']<mid)&(clvtbl['rend']>mid)]\n",
    "clvn5 = clvhn[clvhn['rstart']==start]\n",
    "clvn3 = clvhn[clvhn['rend']==end]\n",
    "clvh = clvhn.drop(clvn5.index).drop(clvn3.index).set_index('Pri-miRNA')\n",
    "clvn5 = clvn5.set_index('Pri-miRNA'); clvn3 = clvn3.set_index('Pri-miRNA')"
   ]
  },
  {
   "cell_type": "code",
   "execution_count": 52,
   "metadata": {},
   "outputs": [],
   "source": [
    "def fill_unfound(tbl):\n",
    "    found = set(tbl.index)\n",
    "    unfound = [ mir for mir in allpris if mir not in found ]\n",
    "    fill = pd.DataFrame(index=unfound, columns=tbl.columns).fillna(0)\n",
    "    return tbl.append(fill)"
   ]
  },
  {
   "cell_type": "code",
   "execution_count": 53,
   "metadata": {},
   "outputs": [],
   "source": [
    "clvtbl = fill_unfound(clvtbl.set_index('Pri-miRNA'))\n",
    "clv5f = fill_unfound(clv5f)\n",
    "clv3f = fill_unfound(clv3f)\n",
    "clvh = fill_unfound(clvh)\n",
    "clvn5 = fill_unfound(clvn5)\n",
    "clvn3 = fill_unfound(clvn3)"
   ]
  },
  {
   "cell_type": "code",
   "execution_count": 54,
   "metadata": {},
   "outputs": [],
   "source": [
    "window = 3\n",
    "offset = 11"
   ]
  },
  {
   "cell_type": "code",
   "execution_count": 65,
   "metadata": {},
   "outputs": [],
   "source": [
    "def get_clv_cnts(mir, lib, window):\n",
    "    ps, pe = preposition[mir]\n",
    "    if ps<=0 or pe>=125:\n",
    "        return -1,-1\n",
    "    invs = ps+offset\n",
    "    inve = pe-offset\n",
    "    clv5 = clv5f.loc[[mir]].reset_index().set_index('rend')[lib]\n",
    "    clv3 = clv3f.loc[[mir]].reset_index().set_index('rstart')[lib]\n",
    "    prod5 = clv5.reindex(range(ps-1-window,ps+window)).sum()\n",
    "    prod3 = clv3.reindex(range(pe+1-window,pe+2+window)).sum()\n",
    "    inv5 = clv5.reindex(range(invs-1-window,invs+window)).sum()\n",
    "    inv3 = clv3.reindex(range(inve+1-window,inve+2+window)).sum()\n",
    "    #return int((prod5+prod3)/2), int((inv5+inv3)/2)\n",
    "    return prod5, inv5"
   ]
  },
  {
   "cell_type": "code",
   "execution_count": 66,
   "metadata": {},
   "outputs": [
    {
     "name": "stdout",
     "output_type": "stream",
     "text": [
      "(704, 669)\n"
     ]
    }
   ],
   "source": [
    "print get_clv_cnts('hsa-mir-6788','cleaved',3)"
   ]
  },
  {
   "cell_type": "code",
   "execution_count": 67,
   "metadata": {},
   "outputs": [
    {
     "name": "stdout",
     "output_type": "stream",
     "text": [
      "(44460, 66.0)\n"
     ]
    }
   ],
   "source": [
    "clvcnts = { mir:get_clv_cnts(mir,'cleaved',window) for mir in suffinps }\n",
    "print clvcnts['hsa-let-7a-1']"
   ]
  },
  {
   "cell_type": "code",
   "execution_count": 68,
   "metadata": {},
   "outputs": [],
   "source": [
    "def get_productivity(mir, window):\n",
    "    prod, inv = clvcnts[mir]\n",
    "    if prod<0: \n",
    "        return -999\n",
    "    inp = inptbl.loc[mir,'input']\n",
    "    return max(prod-inv,0)/inp"
   ]
  },
  {
   "cell_type": "code",
   "execution_count": 69,
   "metadata": {
    "scrolled": true
   },
   "outputs": [
    {
     "name": "stdout",
     "output_type": "stream",
     "text": [
      "0.0010190711894016596\n"
     ]
    }
   ],
   "source": [
    "## norm\n",
    "norm = 'hsa-mir-6788'\n",
    "norms = get_productivity(norm, window)\n",
    "print norms"
   ]
  },
  {
   "cell_type": "code",
   "execution_count": 87,
   "metadata": {},
   "outputs": [],
   "source": [
    "normprods = {}\n",
    "for mir in suffinps:\n",
    "    prod = get_productivity(mir, window)\n",
    "    if prod>-999:\n",
    "        normprods[mir] = np.log2(prod/norms+1)"
   ]
  },
  {
   "cell_type": "code",
   "execution_count": 70,
   "metadata": {},
   "outputs": [
    {
     "name": "stdout",
     "output_type": "stream",
     "text": [
      "hsa-mir-144\t11.238\n",
      "hsa-let-7a-1\t11.654\n",
      "hsa-mir-17\t8.839\n",
      "hsa-mir-200a\t10.962\n",
      "hsa-mir-15a\t6.307\n"
     ]
    }
   ],
   "source": [
    "testset = [ 'hsa-mir-144', 'hsa-let-7a-1', 'hsa-mir-17', 'hsa-mir-200a', 'hsa-mir-15a' ]\n",
    "for mir in testset:\n",
    "    prod = get_productivity(mir, window)\n",
    "    print '%s\\t%.3f'%(mir,np.log2(prod/norms+1))"
   ]
  },
  {
   "cell_type": "code",
   "execution_count": 63,
   "metadata": {},
   "outputs": [],
   "source": [
    "#s8 = pd.read_csv('supplementary/201012_s8_cleavage-patterns-srsf3.csv', header=1, index_col=0)"
   ]
  },
  {
   "cell_type": "code",
   "execution_count": 165,
   "metadata": {},
   "outputs": [
    {
     "data": {
      "image/png": "[encoded data removed]",
      "text/plain": [
       "<matplotlib.figure.Figure at 0x7f1fe172e510>"
      ]
     },
     "metadata": {},
     "output_type": "display_data"
    }
   ],
   "source": [
    "xs = [ s8.loc[m,'CP_w_SRSF3'] for m in s8.index ]\n",
    "ys = [ normprods[m] for m in s8.index ]\n",
    "fig, ax = plt.subplots(1, 1, figsize=(3,3))\n",
    "ax.scatter(xs,ys,s=5,color='k',alpha=.1, zorder=2)\n",
    "ax.grid(ls='-',lw=.5)\n",
    "ax.set_xlim(-max(xs)*.02, max(xs)*1.02)\n",
    "ax.set_ylim(-max(ys)*.02, max(ys)*1.02)\n",
    "ax.spines['bottom'].set_bounds(0,max(xs)*1.02)\n",
    "ax.spines['left'].set_bounds(0,max(ys)*1.02)\n",
    "r = pearsonr(xs,ys)[0]\n",
    "ax.text(max(xs),1,'N = %s\\nr = %.2f'%(len(xs),r), ha='right')\n",
    "ax.set_title('2009 Hiseq vs 1912 Miseq: Productivity', fontsize=12)\n",
    "fig.savefig(resultpath + '201015_reproducibility_productivity_2.png',dpi=300)"
   ]
  },
  {
   "cell_type": "markdown",
   "metadata": {},
   "source": [
    "### 5. Cleavage specificity"
   ]
  },
  {
   "cell_type": "code",
   "execution_count": 71,
   "metadata": {},
   "outputs": [],
   "source": [
    "rcutoff = 30\n",
    "fcutoff = .01"
   ]
  },
  {
   "cell_type": "code",
   "execution_count": 72,
   "metadata": {},
   "outputs": [],
   "source": [
    "def get_frac_5frag(mir):\n",
    "    sub = clv5f.loc[[mir]].set_index('rend')\n",
    "    return (sub/sub.sum())"
   ]
  },
  {
   "cell_type": "code",
   "execution_count": 73,
   "metadata": {},
   "outputs": [],
   "source": [
    "def get_frac_3frag(mir):\n",
    "    sub = clv3f.loc[[mir]].set_index('rstart')\n",
    "    return (sub/sub.sum())"
   ]
  },
  {
   "cell_type": "code",
   "execution_count": 74,
   "metadata": {},
   "outputs": [],
   "source": [
    "def get_frac_hairpin(mir):\n",
    "    sub = clvh.loc[[mir]].set_index(['rstart','rend'])\n",
    "    return (sub/sub.sum())"
   ]
  },
  {
   "cell_type": "code",
   "execution_count": 75,
   "metadata": {},
   "outputs": [],
   "source": [
    "def filter_frac(frac, fcutoff):\n",
    "    return frac[frac>=fcutoff]"
   ]
  },
  {
   "cell_type": "code",
   "execution_count": 76,
   "metadata": {},
   "outputs": [],
   "source": [
    "def add_specificity(row):\n",
    "    row['score'] = (row['5frag']+row['hairpin']+row['3frag'])/3\n",
    "    return row"
   ]
  },
  {
   "cell_type": "code",
   "execution_count": 77,
   "metadata": {},
   "outputs": [],
   "source": [
    "def drop_duplicates(sortedtbl):\n",
    "    if len(sortedtbl)<=1:\n",
    "        return sortedtbl\n",
    "    hs = sortedtbl['hstart'].tolist()[0]\n",
    "    he = sortedtbl['hend'].tolist()[0]\n",
    "    sub = sortedtbl.iloc[1:]\n",
    "    sub = sub[(sub['hstart']!=hs)&(sub['hend']!=he)]\n",
    "    return sortedtbl.iloc[:1].append(drop_duplicates(sub))"
   ]
  },
  {
   "cell_type": "code",
   "execution_count": 78,
   "metadata": {},
   "outputs": [],
   "source": [
    "frac5f = { mir:get_frac_5frag(mir) for mir in allpris } \n",
    "frac3f = { mir:get_frac_3frag(mir) for mir in allpris } \n",
    "frachpn = { mir:get_frac_hairpin(mir) for mir in allpris }"
   ]
  },
  {
   "cell_type": "code",
   "execution_count": 79,
   "metadata": {},
   "outputs": [],
   "source": [
    "COLS = 'miRNA pstart pend hstart hend 5frag 3frag hairpin score diff5 diff3'.split()\n",
    "def get_dcs(mir, rcutoff, fcutoff, lib):\n",
    "    ps, pe = preposition[mir]\n",
    "    null = pd.DataFrame({0:dict(zip(COLS,[mir,ps,pe,1,125,0,0,0,0,99,99]))}).T[COLS]\n",
    "    clvsites = null\n",
    "    if clv5f.loc[mir,lib].sum()<30 or clv3f.loc[mir,lib].sum()<30 or clvh.loc[mir,lib].sum()<10:\n",
    "        return null\n",
    "    clv5, clv3, clvhpn = [ f[mir][lib] for f in [frac5f,frac3f,frachpn] ]\n",
    "    clv52 = defaultdict(float); clv52.update(clv5)\n",
    "    clv32 = defaultdict(float); clv32.update(clv3)\n",
    "    clvhpn2 = defaultdict(float); clvhpn2.update(clvhpn)\n",
    "    for c5, frac5 in filter_frac(clv5, fcutoff).items():\n",
    "        for c3, frac3 in filter_frac(clv3, fcutoff).items():\n",
    "            row = dict(zip(COLS,[mir,ps,pe,c5+1,c3-1,frac5,frac3,clvhpn2[(c5+1,c3-1)]]))\n",
    "            clvsites = clvsites.append(row, ignore_index=True)\n",
    "    for (c5,c3), frach in filter_frac(clvhpn, fcutoff).items():\n",
    "        row = dict(zip(COLS,[mir,ps,pe,c5,c3,clv52[c5-1],clv32[c3+1],frach]))\n",
    "        clvsites = clvsites.append(row, ignore_index=True)\n",
    "    cs = clvsites.apply(add_specificity,axis=1)\n",
    "    cs['diff5'] = cs['hstart']-cs['pstart']\n",
    "    cs['diff3'] = cs['pend']-cs['hend']\n",
    "    cspro = cs[(abs(cs['diff5'])<=window)&(abs(cs['diff3'])<=window)]\n",
    "    csinv = cs[(abs(cs['diff5']-offset)<=window)&(abs(cs['diff3']-offset)<=window)]\n",
    "    csall = drop_duplicates(cspro.append(csinv).sort_values('score').iloc[::-1])\n",
    "    if len(csall)>0:\n",
    "        return csall\n",
    "    return null"
   ]
  },
  {
   "cell_type": "code",
   "execution_count": 82,
   "metadata": {},
   "outputs": [
    {
     "name": "stdout",
     "output_type": "stream",
     "text": [
      "Wed Nov 18 03:56:35 2020\n",
      "Wed Nov 18 04:24:52 2020\n",
      "# of all sites:\t6466\n",
      "# of miRNAs:\t1815\n"
     ]
    }
   ],
   "source": [
    "print time.ctime()\n",
    "clvall = pd.DataFrame(columns=COLS)\n",
    "for mir in suffinps:\n",
    "    clvall = clvall.append(get_dcs(mir, rcutoff, fcutoff, 'cleaved'), ignore_index=True)\n",
    "clvall = clvall[COLS]\n",
    "print time.ctime()\n",
    "print '# of all sites:\\t%s' % len(clvall)\n",
    "print '# of miRNAs:\\t%s' % len(set(clvall['miRNA']))"
   ]
  },
  {
   "cell_type": "code",
   "execution_count": 83,
   "metadata": {},
   "outputs": [],
   "source": [
    "clvall.to_csv('results/201118/201118_cleavage_specificity_SRSF3_Hiseq.csv')\n",
    "#clvall = pd.read_csv('results/201015/201015_cleavage_specificity_SRSF3_Hiseq.csv',index_col=0)"
   ]
  },
  {
   "cell_type": "code",
   "execution_count": 84,
   "metadata": {},
   "outputs": [
    {
     "data": {
      "text/html": [
       "<div>\n",
       "<style scoped>\n",
       "    .dataframe tbody tr th:only-of-type {\n",
       "        vertical-align: middle;\n",
       "    }\n",
       "\n",
       "    .dataframe tbody tr th {\n",
       "        vertical-align: top;\n",
       "    }\n",
       "\n",
       "    .dataframe thead th {\n",
       "        text-align: right;\n",
       "    }\n",
       "</style>\n",
       "<table border=\"1\" class=\"dataframe\">\n",
       "  <thead>\n",
       "    <tr style=\"text-align: right;\">\n",
       "      <th></th>\n",
       "      <th>miRNA</th>\n",
       "      <th>pstart</th>\n",
       "      <th>pend</th>\n",
       "      <th>hstart</th>\n",
       "      <th>hend</th>\n",
       "      <th>5frag</th>\n",
       "      <th>3frag</th>\n",
       "      <th>hairpin</th>\n",
       "      <th>score</th>\n",
       "      <th>diff5</th>\n",
       "      <th>diff3</th>\n",
       "    </tr>\n",
       "  </thead>\n",
       "  <tbody>\n",
       "    <tr>\n",
       "      <th>0</th>\n",
       "      <td>hsa-let-7a-1</td>\n",
       "      <td>25</td>\n",
       "      <td>96</td>\n",
       "      <td>25</td>\n",
       "      <td>96</td>\n",
       "      <td>0.93025</td>\n",
       "      <td>0.977349</td>\n",
       "      <td>0.70461</td>\n",
       "      <td>0.870736</td>\n",
       "      <td>0</td>\n",
       "      <td>0</td>\n",
       "    </tr>\n",
       "    <tr>\n",
       "      <th>1</th>\n",
       "      <td>hsa-let-7a-2</td>\n",
       "      <td>28</td>\n",
       "      <td>94</td>\n",
       "      <td>28</td>\n",
       "      <td>94</td>\n",
       "      <td>0.877105</td>\n",
       "      <td>0.954315</td>\n",
       "      <td>0.470297</td>\n",
       "      <td>0.767239</td>\n",
       "      <td>0</td>\n",
       "      <td>0</td>\n",
       "    </tr>\n",
       "    <tr>\n",
       "      <th>2</th>\n",
       "      <td>hsa-let-7a-2</td>\n",
       "      <td>28</td>\n",
       "      <td>94</td>\n",
       "      <td>40</td>\n",
       "      <td>82</td>\n",
       "      <td>0.0237157</td>\n",
       "      <td>0.0053599</td>\n",
       "      <td>0.266089</td>\n",
       "      <td>0.0983882</td>\n",
       "      <td>12</td>\n",
       "      <td>12</td>\n",
       "    </tr>\n",
       "    <tr>\n",
       "      <th>3</th>\n",
       "      <td>hsa-let-7a-2</td>\n",
       "      <td>28</td>\n",
       "      <td>94</td>\n",
       "      <td>27</td>\n",
       "      <td>95</td>\n",
       "      <td>0.0643651</td>\n",
       "      <td>0.0127403</td>\n",
       "      <td>0</td>\n",
       "      <td>0.0257018</td>\n",
       "      <td>-1</td>\n",
       "      <td>-1</td>\n",
       "    </tr>\n",
       "    <tr>\n",
       "      <th>4</th>\n",
       "      <td>hsa-let-7a-2</td>\n",
       "      <td>28</td>\n",
       "      <td>94</td>\n",
       "      <td>41</td>\n",
       "      <td>81</td>\n",
       "      <td>0.00142101</td>\n",
       "      <td>0.000224498</td>\n",
       "      <td>0.032797</td>\n",
       "      <td>0.0114808</td>\n",
       "      <td>13</td>\n",
       "      <td>13</td>\n",
       "    </tr>\n",
       "  </tbody>\n",
       "</table>\n",
       "</div>"
      ],
      "text/plain": [
       "          miRNA pstart pend hstart hend       5frag        3frag   hairpin  \\\n",
       "0  hsa-let-7a-1     25   96     25   96     0.93025     0.977349   0.70461   \n",
       "1  hsa-let-7a-2     28   94     28   94    0.877105     0.954315  0.470297   \n",
       "2  hsa-let-7a-2     28   94     40   82   0.0237157    0.0053599  0.266089   \n",
       "3  hsa-let-7a-2     28   94     27   95   0.0643651    0.0127403         0   \n",
       "4  hsa-let-7a-2     28   94     41   81  0.00142101  0.000224498  0.032797   \n",
       "\n",
       "       score diff5 diff3  \n",
       "0   0.870736     0     0  \n",
       "1   0.767239     0     0  \n",
       "2  0.0983882    12    12  \n",
       "3  0.0257018    -1    -1  \n",
       "4  0.0114808    13    13  "
      ]
     },
     "execution_count": 84,
     "metadata": {},
     "output_type": "execute_result"
    }
   ],
   "source": [
    "clvall.head()"
   ]
  },
  {
   "cell_type": "markdown",
   "metadata": {},
   "source": [
    "### 6. Cleavage type"
   ]
  },
  {
   "cell_type": "code",
   "execution_count": 85,
   "metadata": {},
   "outputs": [],
   "source": [
    "effcut = 2.5\n",
    "homcut = .25\n",
    "asycut = .25"
   ]
  },
  {
   "cell_type": "code",
   "execution_count": 89,
   "metadata": {},
   "outputs": [
    {
     "name": "stdout",
     "output_type": "stream",
     "text": [
      "1812\n"
     ]
    }
   ],
   "source": [
    "overlap = [ mir for mir in set(clvall['miRNA']) if mir in normprods ]\n",
    "print len(overlap)"
   ]
  },
  {
   "cell_type": "code",
   "execution_count": 90,
   "metadata": {},
   "outputs": [],
   "source": [
    "clvpro = clvall[abs(clvall['diff5'])<=window]\n",
    "clvinv = clvall[abs(clvall['diff5']-offset)<=window]"
   ]
  },
  {
   "cell_type": "code",
   "execution_count": 91,
   "metadata": {},
   "outputs": [],
   "source": [
    "def get_single(effcut, homcut, window):\n",
    "    clvcnts = Counter(clvpro[(clvpro['score']>=homcut)]['miRNA'])\n",
    "    return [ m for m in clvcnts if clvcnts[m]==1 and normprods[m]>=effcut ]"
   ]
  },
  {
   "cell_type": "code",
   "execution_count": 92,
   "metadata": {},
   "outputs": [],
   "source": [
    "def get_alternative(effcut, homcut, window):\n",
    "    clvcnts = Counter(clvpro[(clvpro['score']>=homcut)]['miRNA'])\n",
    "    return [ m for m in clvcnts if clvcnts[m]>=2 and normprods[m]>=effcut ]"
   ]
  },
  {
   "cell_type": "code",
   "execution_count": 94,
   "metadata": {},
   "outputs": [
    {
     "name": "stdout",
     "output_type": "stream",
     "text": [
      "Productive: 745, Unproductive: 1067\n",
      "Single: 688, Multiple: 57\n"
     ]
    }
   ],
   "source": [
    "single = get_single(effcut, homcut, window)\n",
    "alternative = get_alternative(effcut, homcut, window)\n",
    "dcsmirs = single+alternative\n",
    "nodcs = [ mir for mir in overlap if mir not in dcsmirs ]\n",
    "\n",
    "print 'Productive: %s, Unproductive: %s' % (len(dcsmirs), len(nodcs))\n",
    "print 'Single: %s, Multiple: %s' % (len(single), len(alternative))"
   ]
  },
  {
   "cell_type": "code",
   "execution_count": 96,
   "metadata": {},
   "outputs": [
    {
     "name": "stdout",
     "output_type": "stream",
     "text": [
      " let-7a-1 in unique: True\n",
      "mir-342 in multiple: True\n",
      "mir-17 in single: True\n",
      "mir-15a in single: True\n"
     ]
    }
   ],
   "source": [
    "print 'let-7a-1 in unique:', 'hsa-let-7a-1' in single\n",
    "print 'mir-342 in multiple:', 'hsa-mir-342' in alternative\n",
    "print 'mir-17 in single:', 'hsa-mir-17' in single\n",
    "print 'mir-15a in single:', 'hsa-mir-15a' in single"
   ]
  },
  {
   "cell_type": "code",
   "execution_count": 103,
   "metadata": {},
   "outputs": [],
   "source": [
    "def get_clv_info(mir, hstart, hend):\n",
    "    chrom, pstart, pend, strand = s2.loc[mir,['Chr','Start','End','Strand']]\n",
    "    if strand=='+':\n",
    "        clv5 = pstart+hstart-1\n",
    "        clv3 = pstart+hend-1\n",
    "    else:\n",
    "        clv5 = pend-hstart+1\n",
    "        clv3 = pend-hend+1\n",
    "    return chrom, clv5, clv3, strand"
   ]
  },
  {
   "cell_type": "code",
   "execution_count": 99,
   "metadata": {},
   "outputs": [
    {
     "name": "stdout",
     "output_type": "stream",
     "text": [
      "1812\n"
     ]
    }
   ],
   "source": [
    "clvtypes = {}\n",
    "clvtypes.update({mir:'single' for mir in single})\n",
    "clvtypes.update({mir:'alternative' for mir in alternative})\n",
    "clvtypes.update({mir:'unproductive' for mir in nodcs})\n",
    "print len(clvtypes)"
   ]
  },
  {
   "cell_type": "code",
   "execution_count": 100,
   "metadata": {},
   "outputs": [],
   "source": [
    "cols = [ 'Pri-miRNA', 'Chr', \"5' cleavage site\", \"3' cleavage site\", 'Strand', 'Cleavage Score',\n",
    "         'Cleavage Efficiency', 'Cleavage Homogeneity', 'Cleavage Asymmetry', 'Cleavage Type' ]"
   ]
  },
  {
   "cell_type": "code",
   "execution_count": 101,
   "metadata": {},
   "outputs": [],
   "source": [
    "effdict = normprods\n",
    "homdict = { m:max(clvpro[clvpro['miRNA']==m]['score']) for m in set(clvpro['miRNA']) }\n",
    "asydict = { m:(grp['5frag']-grp['3frag']).sum() for m,grp in clvpro.groupby('miRNA') }"
   ]
  },
  {
   "cell_type": "code",
   "execution_count": 104,
   "metadata": {},
   "outputs": [],
   "source": [
    "tbl = pd.DataFrame(columns=cols)\n",
    "for i, row in clvpro.iterrows():\n",
    "    mir, hs, he, score = row[['miRNA','hstart','hend','score']]\n",
    "    chrom, cs5, cs3, strand = get_clv_info(mir, hs, he)\n",
    "    ctype = clvtypes[mir]\n",
    "    tbl = tbl.append(dict(zip(cols,[mir,chrom,cs5,cs3,strand,score,effdict[mir],homdict[mir],\n",
    "                                    asydict[mir],clvtypes[mir]])),ignore_index=True)"
   ]
  },
  {
   "cell_type": "code",
   "execution_count": 105,
   "metadata": {},
   "outputs": [],
   "source": [
    "nonpro = [ mir for mir in overlap if mir not in set(clvpro['miRNA']) ]\n",
    "for mir in nonpro:\n",
    "    tbl = tbl.append(dict(zip(cols,[mir,'n.a.',0,0,'n.a.',0,effdict[mir],0,0,clvtypes[mir]])), \n",
    "                     ignore_index=True)"
   ]
  },
  {
   "cell_type": "code",
   "execution_count": 106,
   "metadata": {},
   "outputs": [
    {
     "name": "stdout",
     "output_type": "stream",
     "text": [
      "1812\n"
     ]
    }
   ],
   "source": [
    "tbl = tbl.sort_values('Pri-miRNA').set_index('Pri-miRNA')\n",
    "print len(set(tbl.index))"
   ]
  },
  {
   "cell_type": "code",
   "execution_count": null,
   "metadata": {},
   "outputs": [],
   "source": []
  },
  {
   "cell_type": "code",
   "execution_count": null,
   "metadata": {},
   "outputs": [],
   "source": []
  },
  {
   "cell_type": "markdown",
   "metadata": {},
   "source": [
    "### 7. Comparison with Data w/o SRSF"
   ]
  },
  {
   "cell_type": "code",
   "execution_count": 138,
   "metadata": {},
   "outputs": [],
   "source": [
    "s6uniq = s6[~s6.index.duplicated()]\n",
    "productive_wo_srsf3 = {m:2**cp-1 for m,cp in s6uniq['Cleavage Productivity'].items()}\n",
    "productive_w_srsf3 = {m:2**cp-1 for m,cp in normprods.items()}"
   ]
  },
  {
   "cell_type": "code",
   "execution_count": 139,
   "metadata": {},
   "outputs": [],
   "source": [
    "s6clv = s6[s6['Cleavage Specificity']>0].reset_index()\n",
    "alternative_wo_srsf3 = { m:2**sorted(grp['Cleavage Specificity'])[-2]-1\n",
    "                         if len(grp)>1 else 0 for m,grp in s6clv.groupby('Pri-miRNA') }\n",
    "s8clv = clvall[(clvall['diff'].apply(abs)<=window)&(clvall['cleavage specificity']>0)]\n",
    "alternative_w_srsf3 = { m:2**sorted(grp['cleavage specificity'])[-2]-1\n",
    "                        if len(grp)>1 else 0 for m,grp in s8clv.groupby('miRNA') }"
   ]
  },
  {
   "cell_type": "code",
   "execution_count": 140,
   "metadata": {},
   "outputs": [],
   "source": [
    "nick_wo_srsf3 = { m:grp['Cleavage Imbalance'].sum() for m,grp in s6clv.groupby('Pri-miRNA') }\n",
    "nick_w_srsf3 = { m:(grp['5frag']-grp['3frag']).sum() for m,grp in s8clv.groupby('miRNA') }"
   ]
  },
  {
   "cell_type": "code",
   "execution_count": 141,
   "metadata": {},
   "outputs": [],
   "source": [
    "s6det = s6uniq[s6uniq['Cleaved']>0]\n",
    "inv_wo_srsf3 = (s6det['Inversely cleaved']/s6det['Cleaved']).to_dict()\n",
    "inv_w_srsf3 = { m:invcnts[m]/clvcnts[m] for m in suffinps if clvcnts[m]>0 }"
   ]
  },
  {
   "cell_type": "code",
   "execution_count": 142,
   "metadata": {},
   "outputs": [
    {
     "name": "stdout",
     "output_type": "stream",
     "text": [
      "1584\n"
     ]
    }
   ],
   "source": [
    "ovpro = set(productive_wo_srsf3.keys())&set(productive_w_srsf3.keys())\n",
    "ovalt = set(alternative_wo_srsf3.keys())&set(alternative_w_srsf3.keys())\n",
    "ovnic = set(nick_wo_srsf3.keys())&set(nick_w_srsf3.keys())\n",
    "ovinv = set(inv_wo_srsf3.keys())&set(inv_w_srsf3.keys())\n",
    "ovall = ovpro&ovalt&ovnic&ovinv\n",
    "print len(ovall)"
   ]
  },
  {
   "cell_type": "markdown",
   "metadata": {},
   "source": [
    "### 8. Build table"
   ]
  },
  {
   "cell_type": "code",
   "execution_count": 143,
   "metadata": {},
   "outputs": [
    {
     "name": "stdout",
     "output_type": "stream",
     "text": [
      "1816 1816\n"
     ]
    }
   ],
   "source": [
    "prosmp = s6['Cleavage Productivity'].to_dict()\n",
    "proclv = s6[abs(s6['Relative position from miRBase site'])<=window]\\\n",
    ".sort_values('Cleavage Specificity')\n",
    "spesmp = proclv[~proclv.index.duplicated(keep='last')]['Cleavage Specificity'].to_dict()\n",
    "print len(prosmp), len(spesmp)"
   ]
  },
  {
   "cell_type": "code",
   "execution_count": 144,
   "metadata": {},
   "outputs": [
    {
     "name": "stdout",
     "output_type": "stream",
     "text": [
      "1677\n"
     ]
    },
    {
     "data": {
      "text/html": [
       "<div>\n",
       "<style scoped>\n",
       "    .dataframe tbody tr th:only-of-type {\n",
       "        vertical-align: middle;\n",
       "    }\n",
       "\n",
       "    .dataframe tbody tr th {\n",
       "        vertical-align: top;\n",
       "    }\n",
       "\n",
       "    .dataframe thead th {\n",
       "        text-align: right;\n",
       "    }\n",
       "</style>\n",
       "<table border=\"1\" class=\"dataframe\">\n",
       "  <thead>\n",
       "    <tr style=\"text-align: right;\">\n",
       "      <th></th>\n",
       "      <th>pstart</th>\n",
       "      <th>pend</th>\n",
       "      <th>hstart</th>\n",
       "      <th>hend</th>\n",
       "      <th>5frag</th>\n",
       "      <th>3frag</th>\n",
       "      <th>hairpin</th>\n",
       "      <th>cleavage specificity</th>\n",
       "      <th>diff</th>\n",
       "    </tr>\n",
       "    <tr>\n",
       "      <th>miRNA</th>\n",
       "      <th></th>\n",
       "      <th></th>\n",
       "      <th></th>\n",
       "      <th></th>\n",
       "      <th></th>\n",
       "      <th></th>\n",
       "      <th></th>\n",
       "      <th></th>\n",
       "      <th></th>\n",
       "    </tr>\n",
       "  </thead>\n",
       "  <tbody>\n",
       "    <tr>\n",
       "      <th>hsa-mir-144</th>\n",
       "      <td>33</td>\n",
       "      <td>89</td>\n",
       "      <td>33</td>\n",
       "      <td>90</td>\n",
       "      <td>0.972045</td>\n",
       "      <td>0.981015</td>\n",
       "      <td>0.953503</td>\n",
       "      <td>0.977356</td>\n",
       "      <td>0</td>\n",
       "    </tr>\n",
       "    <tr>\n",
       "      <th>hsa-mir-7-3</th>\n",
       "      <td>31</td>\n",
       "      <td>0</td>\n",
       "      <td>31</td>\n",
       "      <td>90</td>\n",
       "      <td>0.984036</td>\n",
       "      <td>0.974242</td>\n",
       "      <td>0.91808</td>\n",
       "      <td>0.96996</td>\n",
       "      <td>0</td>\n",
       "    </tr>\n",
       "    <tr>\n",
       "      <th>hsa-mir-514b</th>\n",
       "      <td>33</td>\n",
       "      <td>90</td>\n",
       "      <td>33</td>\n",
       "      <td>90</td>\n",
       "      <td>0.967623</td>\n",
       "      <td>0.969051</td>\n",
       "      <td>0.938054</td>\n",
       "      <td>0.96956</td>\n",
       "      <td>0</td>\n",
       "    </tr>\n",
       "    <tr>\n",
       "      <th>hsa-mir-33a</th>\n",
       "      <td>30</td>\n",
       "      <td>91</td>\n",
       "      <td>30</td>\n",
       "      <td>90</td>\n",
       "      <td>0.980191</td>\n",
       "      <td>0.978877</td>\n",
       "      <td>0.915316</td>\n",
       "      <td>0.969475</td>\n",
       "      <td>0</td>\n",
       "    </tr>\n",
       "    <tr>\n",
       "      <th>hsa-mir-125a</th>\n",
       "      <td>31</td>\n",
       "      <td>90</td>\n",
       "      <td>31</td>\n",
       "      <td>90</td>\n",
       "      <td>0.978239</td>\n",
       "      <td>0.958988</td>\n",
       "      <td>0.934122</td>\n",
       "      <td>0.96873</td>\n",
       "      <td>0</td>\n",
       "    </tr>\n",
       "  </tbody>\n",
       "</table>\n",
       "</div>"
      ],
      "text/plain": [
       "             pstart pend hstart hend     5frag     3frag   hairpin  \\\n",
       "miRNA                                                                \n",
       "hsa-mir-144      33   89     33   90  0.972045  0.981015  0.953503   \n",
       "hsa-mir-7-3      31    0     31   90  0.984036  0.974242   0.91808   \n",
       "hsa-mir-514b     33   90     33   90  0.967623  0.969051  0.938054   \n",
       "hsa-mir-33a      30   91     30   90  0.980191  0.978877  0.915316   \n",
       "hsa-mir-125a     31   90     31   90  0.978239  0.958988  0.934122   \n",
       "\n",
       "             cleavage specificity diff  \n",
       "miRNA                                   \n",
       "hsa-mir-144              0.977356    0  \n",
       "hsa-mir-7-3               0.96996    0  \n",
       "hsa-mir-514b              0.96956    0  \n",
       "hsa-mir-33a              0.969475    0  \n",
       "hsa-mir-125a              0.96873    0  "
      ]
     },
     "execution_count": 144,
     "metadata": {},
     "output_type": "execute_result"
    }
   ],
   "source": [
    "clvpro = clvall[(clvall['diff'].apply(abs)<=window)&(clvall['cleavage specificity']>0)]\n",
    "clvmax = clvpro.sort_values('cleavage specificity', ascending=False).drop_duplicates('miRNA')\\\n",
    ".set_index('miRNA')\n",
    "print len(clvmax)\n",
    "clvmax.head()"
   ]
  },
  {
   "cell_type": "code",
   "execution_count": 145,
   "metadata": {},
   "outputs": [
    {
     "name": "stdout",
     "output_type": "stream",
     "text": [
      "1800 1665 135\n"
     ]
    }
   ],
   "source": [
    "mlist = [ mir for mir in overlap if mir in prosmp.keys() ]\n",
    "mlistpro = [ mir for mir in mlist if mir in clvmax.index ]\n",
    "mlistnp = [ mir for mir in mlist if mir not in clvmax.index ]\n",
    "print len(mlist), len(mlistpro), len(mlistnp)"
   ]
  },
  {
   "cell_type": "code",
   "execution_count": 146,
   "metadata": {},
   "outputs": [],
   "source": [
    "def get_clv_info(mir, hstart, hend):\n",
    "    chrom, pstart, pend, strand = s2.loc[mir,['Chr','Start','End','Strand']]\n",
    "    if strand=='+':\n",
    "        clv5 = pstart+hstart-1\n",
    "        clv3 = pstart+hend-1\n",
    "    else:\n",
    "        clv5 = pend-hstart+1\n",
    "        clv3 = pend-hend+1\n",
    "    return chrom, clv5, clv3, strand"
   ]
  },
  {
   "cell_type": "code",
   "execution_count": 147,
   "metadata": {},
   "outputs": [],
   "source": [
    "cols = [ 'Pri-miRNA', 'Chr', \"5' cleavage site\", \"3' cleavage site\", 'Strand', 'Cleavage type',\n",
    "         'CP_wo_SRSF3', 'CP_w_SRSF3', 'CS_wo_SRSF3', 'CS_w_SRSF3', 'Productive_wo_SRSF3',\n",
    "         'Productive_w_SRSF3', 'Alternative_wo_SRSF3', 'Alternative_w_SRSF3', 'Nick_wo_SRSF3',\n",
    "         'Nick_w_SRSF3', 'Inverted_wo_SRSF3', 'Inverted_w_SRSF3' ]"
   ]
  },
  {
   "cell_type": "code",
   "execution_count": 148,
   "metadata": {},
   "outputs": [],
   "source": [
    "tbl = pd.DataFrame(columns=cols)\n",
    "for mir in mlistpro:\n",
    "    hs, he, mcs = clvmax.loc[mir,['hstart','hend','cleavage specificity']]\n",
    "    chrom, cs5, cs3, strand = get_clv_info(mir, hs, he)\n",
    "    ctype = clvtypes[mir]\n",
    "    cp_wo_srsf3 = prosmp[mir]\n",
    "    cp_w_srsf3 = normprods[mir]\n",
    "    cs_wo_srsf3 = spesmp[mir]\n",
    "    cs_w_srsf3 = mcs\n",
    "    if mir in ovall:\n",
    "        tbl = tbl.append(dict(zip(cols,[mir,chrom,cs5,cs3,strand,ctype,cp_wo_srsf3,cp_w_srsf3, \n",
    "                    cs_wo_srsf3,cs_w_srsf3,productive_wo_srsf3[mir],productive_w_srsf3[mir],\n",
    "                    alternative_wo_srsf3[mir],alternative_w_srsf3[mir],nick_wo_srsf3[mir],\n",
    "                    nick_w_srsf3[mir],inv_wo_srsf3[mir],inv_w_srsf3[mir]])),ignore_index=True)\n",
    "    else:\n",
    "        tbl = tbl.append(dict(zip(cols,[mir,chrom,cs5,cs3,strand,ctype,cp_wo_srsf3,cp_w_srsf3, \n",
    "                    cs_wo_srsf3,cs_w_srsf3])),ignore_index=True)"
   ]
  },
  {
   "cell_type": "code",
   "execution_count": 149,
   "metadata": {},
   "outputs": [],
   "source": [
    "for mir in mlistnp:\n",
    "    cp_wo_srsf3 = prosmp[mir]\n",
    "    cp_w_srsf3 = normprods[mir]\n",
    "    cs_wo_srsf3 = spesmp[mir]\n",
    "    ctype = clvtypes[mir]\n",
    "    tbl = tbl.append(dict(zip(cols,[mir,'n.a.','n.a.','n.a.','n.a.',ctype,cp_wo_srsf3,cp_w_srsf3,\n",
    "                        cs_wo_srsf3,0])), ignore_index=True)"
   ]
  },
  {
   "cell_type": "code",
   "execution_count": 150,
   "metadata": {},
   "outputs": [
    {
     "name": "stdout",
     "output_type": "stream",
     "text": [
      "1800\n"
     ]
    }
   ],
   "source": [
    "tbl = tbl.sort_values('Pri-miRNA').set_index('Pri-miRNA')\n",
    "print len(set(tbl.index))"
   ]
  },
  {
   "cell_type": "code",
   "execution_count": 151,
   "metadata": {},
   "outputs": [
    {
     "data": {
      "text/html": [
       "<div>\n",
       "<style scoped>\n",
       "    .dataframe tbody tr th:only-of-type {\n",
       "        vertical-align: middle;\n",
       "    }\n",
       "\n",
       "    .dataframe tbody tr th {\n",
       "        vertical-align: top;\n",
       "    }\n",
       "\n",
       "    .dataframe thead th {\n",
       "        text-align: right;\n",
       "    }\n",
       "</style>\n",
       "<table border=\"1\" class=\"dataframe\">\n",
       "  <thead>\n",
       "    <tr style=\"text-align: right;\">\n",
       "      <th></th>\n",
       "      <th>Chr</th>\n",
       "      <th>5' cleavage site</th>\n",
       "      <th>3' cleavage site</th>\n",
       "      <th>Strand</th>\n",
       "      <th>Cleavage type</th>\n",
       "      <th>CP_wo_SRSF3</th>\n",
       "      <th>CP_w_SRSF3</th>\n",
       "      <th>CS_wo_SRSF3</th>\n",
       "      <th>CS_w_SRSF3</th>\n",
       "      <th>Productive_wo_SRSF3</th>\n",
       "      <th>Productive_w_SRSF3</th>\n",
       "      <th>Alternative_wo_SRSF3</th>\n",
       "      <th>Alternative_w_SRSF3</th>\n",
       "      <th>Nick_wo_SRSF3</th>\n",
       "      <th>Nick_w_SRSF3</th>\n",
       "      <th>Inverted_wo_SRSF3</th>\n",
       "      <th>Inverted_w_SRSF3</th>\n",
       "    </tr>\n",
       "    <tr>\n",
       "      <th>Pri-miRNA</th>\n",
       "      <th></th>\n",
       "      <th></th>\n",
       "      <th></th>\n",
       "      <th></th>\n",
       "      <th></th>\n",
       "      <th></th>\n",
       "      <th></th>\n",
       "      <th></th>\n",
       "      <th></th>\n",
       "      <th></th>\n",
       "      <th></th>\n",
       "      <th></th>\n",
       "      <th></th>\n",
       "      <th></th>\n",
       "      <th></th>\n",
       "      <th></th>\n",
       "      <th></th>\n",
       "    </tr>\n",
       "  </thead>\n",
       "  <tbody>\n",
       "    <tr>\n",
       "      <th>hsa-let-7a-1</th>\n",
       "      <td>chr9</td>\n",
       "      <td>94175962</td>\n",
       "      <td>94176033</td>\n",
       "      <td>+</td>\n",
       "      <td>single</td>\n",
       "      <td>5.047200</td>\n",
       "      <td>10.135744</td>\n",
       "      <td>0.912688</td>\n",
       "      <td>0.903606</td>\n",
       "      <td>32.064234</td>\n",
       "      <td>1124.026770</td>\n",
       "      <td>0.017713</td>\n",
       "      <td>0</td>\n",
       "      <td>-0.009062</td>\n",
       "      <td>-0.047099</td>\n",
       "      <td>0.000719</td>\n",
       "      <td>0.001703</td>\n",
       "    </tr>\n",
       "    <tr>\n",
       "      <th>hsa-let-7a-2</th>\n",
       "      <td>chr11</td>\n",
       "      <td>122146589</td>\n",
       "      <td>122146523</td>\n",
       "      <td>-</td>\n",
       "      <td>single</td>\n",
       "      <td>4.199327</td>\n",
       "      <td>9.598550</td>\n",
       "      <td>0.838326</td>\n",
       "      <td>0.821497</td>\n",
       "      <td>17.370601</td>\n",
       "      <td>774.267284</td>\n",
       "      <td>0.000000</td>\n",
       "      <td>0.0257018</td>\n",
       "      <td>-0.184113</td>\n",
       "      <td>-0.025585</td>\n",
       "      <td>0.015811</td>\n",
       "      <td>0.024757</td>\n",
       "    </tr>\n",
       "    <tr>\n",
       "      <th>hsa-let-7a-3</th>\n",
       "      <td>chr22</td>\n",
       "      <td>46112752</td>\n",
       "      <td>46112821</td>\n",
       "      <td>+</td>\n",
       "      <td>single</td>\n",
       "      <td>2.405940</td>\n",
       "      <td>6.997962</td>\n",
       "      <td>0.584654</td>\n",
       "      <td>0.710909</td>\n",
       "      <td>4.299808</td>\n",
       "      <td>126.819310</td>\n",
       "      <td>0.095455</td>\n",
       "      <td>0.101442</td>\n",
       "      <td>0.001902</td>\n",
       "      <td>0.008724</td>\n",
       "      <td>0.022172</td>\n",
       "      <td>0.004719</td>\n",
       "    </tr>\n",
       "    <tr>\n",
       "      <th>hsa-let-7b</th>\n",
       "      <td>chr22</td>\n",
       "      <td>46113691</td>\n",
       "      <td>46113765</td>\n",
       "      <td>+</td>\n",
       "      <td>single</td>\n",
       "      <td>3.906021</td>\n",
       "      <td>9.159402</td>\n",
       "      <td>0.821828</td>\n",
       "      <td>0.810648</td>\n",
       "      <td>13.990958</td>\n",
       "      <td>570.813865</td>\n",
       "      <td>0.009933</td>\n",
       "      <td>0</td>\n",
       "      <td>-0.030746</td>\n",
       "      <td>-0.022305</td>\n",
       "      <td>0.015024</td>\n",
       "      <td>0.002467</td>\n",
       "    </tr>\n",
       "    <tr>\n",
       "      <th>hsa-let-7c</th>\n",
       "      <td>chr21</td>\n",
       "      <td>16539838</td>\n",
       "      <td>16539904</td>\n",
       "      <td>+</td>\n",
       "      <td>single</td>\n",
       "      <td>0.553681</td>\n",
       "      <td>8.293256</td>\n",
       "      <td>0.163190</td>\n",
       "      <td>0.737182</td>\n",
       "      <td>0.467826</td>\n",
       "      <td>312.703063</td>\n",
       "      <td>0.008762</td>\n",
       "      <td>0.0336991</td>\n",
       "      <td>0.050677</td>\n",
       "      <td>-0.059746</td>\n",
       "      <td>0.561295</td>\n",
       "      <td>0.026949</td>\n",
       "    </tr>\n",
       "  </tbody>\n",
       "</table>\n",
       "</div>"
      ],
      "text/plain": [
       "                Chr 5' cleavage site 3' cleavage site Strand Cleavage type  \\\n",
       "Pri-miRNA                                                                    \n",
       "hsa-let-7a-1   chr9         94175962         94176033      +        single   \n",
       "hsa-let-7a-2  chr11        122146589        122146523      -        single   \n",
       "hsa-let-7a-3  chr22         46112752         46112821      +        single   \n",
       "hsa-let-7b    chr22         46113691         46113765      +        single   \n",
       "hsa-let-7c    chr21         16539838         16539904      +        single   \n",
       "\n",
       "              CP_wo_SRSF3  CP_w_SRSF3  CS_wo_SRSF3  CS_w_SRSF3  \\\n",
       "Pri-miRNA                                                        \n",
       "hsa-let-7a-1     5.047200   10.135744     0.912688    0.903606   \n",
       "hsa-let-7a-2     4.199327    9.598550     0.838326    0.821497   \n",
       "hsa-let-7a-3     2.405940    6.997962     0.584654    0.710909   \n",
       "hsa-let-7b       3.906021    9.159402     0.821828    0.810648   \n",
       "hsa-let-7c       0.553681    8.293256     0.163190    0.737182   \n",
       "\n",
       "              Productive_wo_SRSF3  Productive_w_SRSF3  Alternative_wo_SRSF3  \\\n",
       "Pri-miRNA                                                                     \n",
       "hsa-let-7a-1            32.064234         1124.026770              0.017713   \n",
       "hsa-let-7a-2            17.370601          774.267284              0.000000   \n",
       "hsa-let-7a-3             4.299808          126.819310              0.095455   \n",
       "hsa-let-7b              13.990958          570.813865              0.009933   \n",
       "hsa-let-7c               0.467826          312.703063              0.008762   \n",
       "\n",
       "             Alternative_w_SRSF3  Nick_wo_SRSF3  Nick_w_SRSF3  \\\n",
       "Pri-miRNA                                                       \n",
       "hsa-let-7a-1                   0      -0.009062     -0.047099   \n",
       "hsa-let-7a-2           0.0257018      -0.184113     -0.025585   \n",
       "hsa-let-7a-3            0.101442       0.001902      0.008724   \n",
       "hsa-let-7b                     0      -0.030746     -0.022305   \n",
       "hsa-let-7c             0.0336991       0.050677     -0.059746   \n",
       "\n",
       "              Inverted_wo_SRSF3  Inverted_w_SRSF3  \n",
       "Pri-miRNA                                          \n",
       "hsa-let-7a-1           0.000719          0.001703  \n",
       "hsa-let-7a-2           0.015811          0.024757  \n",
       "hsa-let-7a-3           0.022172          0.004719  \n",
       "hsa-let-7b             0.015024          0.002467  \n",
       "hsa-let-7c             0.561295          0.026949  "
      ]
     },
     "execution_count": 151,
     "metadata": {},
     "output_type": "execute_result"
    }
   ],
   "source": [
    "tbl.head()"
   ]
  },
  {
   "cell_type": "code",
   "execution_count": 107,
   "metadata": {},
   "outputs": [],
   "source": [
    "tbl.to_csv('resources/201110_s8_cleavage-patterns-srsf3_hiseq.csv')"
   ]
  },
  {
   "cell_type": "code",
   "execution_count": 108,
   "metadata": {},
   "outputs": [],
   "source": [
    "out = open('supplementary/201110_s8_cleavage-patterns-srsf3_hiseq.csv', 'wt')\n",
    "description = 'Supplementary Table 8. Microprocessor IVP with SRSF3 \\n\\n\\n\\n\\n'\n",
    "out.write(description)\n",
    "for l in open('resources/201110_s8_cleavage-patterns-srsf3_hiseq.csv', 'rt'):\n",
    "    out.write(l)\n",
    "out.close()"
   ]
  },
  {
   "cell_type": "code",
   "execution_count": null,
   "metadata": {},
   "outputs": [],
   "source": []
  },
  {
   "cell_type": "code",
   "execution_count": 163,
   "metadata": {},
   "outputs": [
    {
     "data": {
      "image/png": "[encoded data removed]",
      "text/plain": [
       "<matplotlib.figure.Figure at 0x7f1fe16baa50>"
      ]
     },
     "metadata": {},
     "output_type": "display_data"
    }
   ],
   "source": [
    "xs = [ s8.loc[m,'CS_w_SRSF3'] for m in s8.index ]\n",
    "ys = [ tbl.loc[m,'CS_w_SRSF3'] for m in s8.index ]\n",
    "fig, ax = plt.subplots(1, 1, figsize=(3,3))\n",
    "ax.scatter(xs,ys,s=5,color='k',alpha=.1, zorder=2)\n",
    "ax.grid(ls='-',lw=.5)\n",
    "ax.set_xlim(-.02, 1.02)\n",
    "ax.set_ylim(-.02, 1.02)\n",
    "ax.spines['bottom'].set_bounds(0,1)\n",
    "ax.spines['left'].set_bounds(0,1)\n",
    "r = pearsonr(xs,ys)[0]\n",
    "ax.text(1,.02,'N = %s\\nr = %.2f'%(len(xs),r), ha='right')\n",
    "ax.set_title('2009 Hiseq vs 1912 Miseq: Specificity', fontsize=12)\n",
    "fig.savefig(resultpath + '201015_reproducibility_specificity_2.png',dpi=300)"
   ]
  },
  {
   "cell_type": "code",
   "execution_count": null,
   "metadata": {},
   "outputs": [],
   "source": []
  }
 ],
 "metadata": {
  "kernelspec": {
   "display_name": "Python 2",
   "language": "python",
   "name": "python2"
  },
  "language_info": {
   "codemirror_mode": {
    "name": "ipython",
    "version": 2
   },
   "file_extension": ".py",
   "mimetype": "text/x-python",
   "name": "python",
   "nbconvert_exporter": "python",
   "pygments_lexer": "ipython2",
   "version": "2.7.18"
  }
 },
 "nbformat": 4,
 "nbformat_minor": 2
}
