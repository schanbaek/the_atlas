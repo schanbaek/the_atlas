{
 "cells": [
  {
   "cell_type": "markdown",
   "metadata": {},
   "source": [
    "# Figure 4. Inverted processing\n",
    "---"
   ]
  },
  {
   "cell_type": "code",
   "execution_count": 1,
   "metadata": {},
   "outputs": [
    {
     "name": "stdout",
     "output_type": "stream",
     "text": [
      "Last revised by Seungchan Baek at 2021-01-20.\n"
     ]
    }
   ],
   "source": [
    "import time\n",
    "today = time.strftime('%Y-%m-%d')\n",
    "name = 'Seungchan Baek'\n",
    "print 'Last revised by %s at %s.' % (name, today)"
   ]
  },
  {
   "cell_type": "code",
   "execution_count": 2,
   "metadata": {},
   "outputs": [
    {
     "name": "stdout",
     "output_type": "stream",
     "text": [
      "/casa/bsc/projects/1_DCS/2004_paper_prep\n"
     ]
    }
   ],
   "source": [
    "home = '/casa/bsc/projects/1_DCS/2004_paper_prep/'\n",
    "utilpath = '/casa/bsc/notebooks/'\n",
    "%cd $home"
   ]
  },
  {
   "cell_type": "code",
   "execution_count": 3,
   "metadata": {},
   "outputs": [
    {
     "name": "stdout",
     "output_type": "stream",
     "text": [
      "resultpath: results/210120/\n"
     ]
    }
   ],
   "source": [
    "from __future__ import division\n",
    "import sys; sys.path.append(utilpath)\n",
    "from util import *\n",
    "from basic import gen_result_dir\n",
    "resultpath = gen_result_dir('results/')\n",
    "print 'resultpath:', resultpath"
   ]
  },
  {
   "cell_type": "code",
   "execution_count": 4,
   "metadata": {},
   "outputs": [],
   "source": [
    "import pandas as pd\n",
    "import numpy as np\n",
    "import re\n",
    "import gzip\n",
    "from matplotlib import pyplot as plt\n",
    "from matplotlib import lines, gridspec\n",
    "from scipy.stats import mannwhitneyu, sem, ttest_ind, spearmanr\n",
    "from collections import defaultdict, Counter\n",
    "%matplotlib inline"
   ]
  },
  {
   "cell_type": "code",
   "execution_count": 5,
   "metadata": {},
   "outputs": [],
   "source": [
    "LIBRARIES = [ 'set1', 'set2', 'set3', 'set4', 'set5' ]"
   ]
  },
  {
   "cell_type": "code",
   "execution_count": 10,
   "metadata": {},
   "outputs": [
    {
     "name": "stderr",
     "output_type": "stream",
     "text": [
      "/casa/bsc/.local/lib/python2.7/site-packages/numpy/lib/arraysetops.py:466: FutureWarning: elementwise comparison failed; returning scalar instead, but in the future will perform elementwise comparison\n",
      "  mask |= (ar1 == a)\n"
     ]
    }
   ],
   "source": [
    "s1 = pd.read_csv('supplementary/TableS1__Previously_identified_DROSHA-dependence.csv', \n",
    "                 header=1, index_col=0)\n",
    "s2 = pd.read_csv('supplementary/TableS2__Oligonucleotides_used_in_this_study.csv', \n",
    "                 header=1, index_col=0).fillna('')\n",
    "s3 = pd.read_csv('supplementary/TableS3__In_vitro_processing_results_Microprocessor-only.csv',\n",
    "                 header=1, index_col=0)\n",
    "s4 = pd.read_csv('supplementary/TableS4__Cis-acting_elements_of_human_pri-miRNAs.csv', \n",
    "                 header=1, index_col=0)\n",
    "clvraw = pd.read_csv('supplementary/TableSub__cleavage_products_Microprocessor.csv',index_col=0)"
   ]
  },
  {
   "cell_type": "code",
   "execution_count": 7,
   "metadata": {},
   "outputs": [
    {
     "name": "stdout",
     "output_type": "stream",
     "text": [
      "1881 (32, 90)\n"
     ]
    }
   ],
   "source": [
    "preposition = {}\n",
    "for mir in s2.index:\n",
    "    flank5, flank3 = s2.loc[mir,[\"5' flanking segment\",\"3' flanking segment\"]]\n",
    "    if flank5 or flank3:\n",
    "        preposition[mir] = (len(flank5)+1,125-len(flank3))\n",
    "    else:\n",
    "        preposition[mir] = (0,126)\n",
    "print len(preposition), preposition['hsa-mir-142']"
   ]
  },
  {
   "cell_type": "code",
   "execution_count": 8,
   "metadata": {},
   "outputs": [
    {
     "name": "stdout",
     "output_type": "stream",
     "text": [
      "1881\n"
     ]
    }
   ],
   "source": [
    "constseqs = dict(s2['Construct sequence (125 nt)'])\n",
    "print len(constseqs)"
   ]
  },
  {
   "cell_type": "code",
   "execution_count": 9,
   "metadata": {},
   "outputs": [
    {
     "name": "stdout",
     "output_type": "stream",
     "text": [
      "1816 560 1256\n"
     ]
    }
   ],
   "source": [
    "EFFCUT = 1.5\n",
    "HOMCUT = .25\n",
    "effs = s3['Cleavage Efficiency'].to_dict()\n",
    "homs = s3['Cleavage Homogeneity'].to_dict()\n",
    "dcsmirs = [ m for m in s3.index if effs[m]>=EFFCUT and homs[m]>=HOMCUT ]\n",
    "nodcs = [ m for m in s3.index if m not in dcsmirs ]\n",
    "print len(s3.index), len(dcsmirs), len(nodcs)"
   ]
  },
  {
   "cell_type": "code",
   "execution_count": 11,
   "metadata": {},
   "outputs": [
    {
     "data": {
      "text/html": [
       "<div>\n",
       "<style scoped>\n",
       "    .dataframe tbody tr th:only-of-type {\n",
       "        vertical-align: middle;\n",
       "    }\n",
       "\n",
       "    .dataframe tbody tr th {\n",
       "        vertical-align: top;\n",
       "    }\n",
       "\n",
       "    .dataframe thead th {\n",
       "        text-align: right;\n",
       "    }\n",
       "</style>\n",
       "<table border=\"1\" class=\"dataframe\">\n",
       "  <thead>\n",
       "    <tr style=\"text-align: right;\">\n",
       "      <th></th>\n",
       "      <th>Pri-miRNA</th>\n",
       "      <th>rstart</th>\n",
       "      <th>rend</th>\n",
       "      <th>set1</th>\n",
       "      <th>set2</th>\n",
       "      <th>set3</th>\n",
       "      <th>set4</th>\n",
       "      <th>set5</th>\n",
       "    </tr>\n",
       "  </thead>\n",
       "  <tbody>\n",
       "    <tr>\n",
       "      <th>0</th>\n",
       "      <td>hsa-let-7a-1</td>\n",
       "      <td>1</td>\n",
       "      <td>8</td>\n",
       "      <td>4.0</td>\n",
       "      <td>4.0</td>\n",
       "      <td>0.0</td>\n",
       "      <td>0.0</td>\n",
       "      <td>0.0</td>\n",
       "    </tr>\n",
       "  </tbody>\n",
       "</table>\n",
       "</div>"
      ],
      "text/plain": [
       "      Pri-miRNA  rstart  rend  set1  set2  set3  set4  set5\n",
       "0  hsa-let-7a-1       1     8   4.0   4.0   0.0   0.0   0.0"
      ]
     },
     "execution_count": 11,
     "metadata": {},
     "output_type": "execute_result"
    }
   ],
   "source": [
    "clvraw = clvraw.set_index(['Pri-miRNA','rstart','rend'])\n",
    "clvtbl = pd.DataFrame()\n",
    "for lib in LIBRARIES:\n",
    "    clvtbl[lib] = clvraw[['%s-1'%lib,'%s-2'%lib]].sum(axis=1)\n",
    "clvtbl = clvtbl.reset_index()\n",
    "clvtbl.head(1)"
   ]
  },
  {
   "cell_type": "code",
   "execution_count": 12,
   "metadata": {},
   "outputs": [],
   "source": [
    "START, MID, END = 1, 63, 125\n",
    "clv5f = clvtbl[(clvtbl['rstart']==START)&(clvtbl['rend']<MID)].set_index('Pri-miRNA')\n",
    "clv3f = clvtbl[(clvtbl['rstart']>MID)&(clvtbl['rend']==END)].set_index('Pri-miRNA')\n",
    "clvhn = clvtbl[(clvtbl['rstart']<MID)&(clvtbl['rend']>MID)]\n",
    "clvn5 = clvhn[clvhn['rstart']==START]\n",
    "clvn3 = clvhn[clvhn['rend']==END]\n",
    "clvh = clvhn.drop(clvn5.index).drop(clvn3.index).set_index('Pri-miRNA')\n",
    "clvn5 = clvn5.set_index('Pri-miRNA'); clvn3 = clvn3.set_index('Pri-miRNA')"
   ]
  },
  {
   "cell_type": "code",
   "execution_count": 13,
   "metadata": {},
   "outputs": [],
   "source": [
    "def fill_unfound(tbl):\n",
    "    found = set(tbl.index)\n",
    "    unfound = [ mir for mir in s2.index if mir not in found ]\n",
    "    fill = pd.DataFrame(index=unfound, columns=tbl.columns).fillna(0)\n",
    "    return tbl.append(fill)"
   ]
  },
  {
   "cell_type": "code",
   "execution_count": 14,
   "metadata": {},
   "outputs": [],
   "source": [
    "clvtbl = fill_unfound(clvtbl.set_index('Pri-miRNA'))\n",
    "clv5f = fill_unfound(clv5f)\n",
    "clv3f = fill_unfound(clv3f)\n",
    "clvh = fill_unfound(clvh)\n",
    "clvn5 = fill_unfound(clvn5)\n",
    "clvn3 = fill_unfound(clvn3)"
   ]
  },
  {
   "cell_type": "markdown",
   "metadata": {},
   "source": [
    "---"
   ]
  },
  {
   "cell_type": "markdown",
   "metadata": {},
   "source": [
    "## C. Reproducibility of inverted processing"
   ]
  },
  {
   "cell_type": "code",
   "execution_count": 15,
   "metadata": {},
   "outputs": [],
   "source": [
    "def get_clv_cnts(mir, lib):\n",
    "    ps, pe = preposition[mir]\n",
    "    if ps<=0 or pe>=125:\n",
    "        return -1,-1\n",
    "    invs = ps+INVERTED\n",
    "    inve = pe-INVERTED\n",
    "    clv5 = clv5f.loc[[mir]].reset_index().set_index('rend')[lib]\n",
    "    clv3 = clv3f.loc[[mir]].reset_index().set_index('rstart')[lib]\n",
    "    prod5 = clv5.reindex(range(ps-1-WINDOW,ps+WINDOW)).sum()\n",
    "    prod3 = clv3.reindex(range(pe+1-WINDOW,pe+2+WINDOW)).sum()\n",
    "    inv5 = clv5.reindex(range(invs-1-WINDOW,invs+WINDOW)).sum()\n",
    "    inv3 = clv3.reindex(range(inve+1-WINDOW,inve+2+WINDOW)).sum()\n",
    "    return int((prod5+prod3)/2), int((inv5+inv3)/2)"
   ]
  },
  {
   "cell_type": "code",
   "execution_count": 16,
   "metadata": {},
   "outputs": [
    {
     "name": "stdout",
     "output_type": "stream",
     "text": [
      "846\n"
     ]
    }
   ],
   "source": [
    "S1, S2 = 'set1','set2'\n",
    "RCUTOFFH = 10\n",
    "WINDOW = 3\n",
    "INVERTED = 11\n",
    "inv = {}\n",
    "for mir in s2.index:\n",
    "    ps,pe = preposition[mir]\n",
    "    hpn = clvh.loc[[mir]]\n",
    "    phpn = hpn[hpn.apply(lambda x: (x['rstart'] in range(ps-WINDOW,ps+WINDOW+1)) and \n",
    "                                      (x['rend'] in range(pe-WINDOW,pe+WINDOW+1)),axis=1)].sum()\n",
    "    ihpn = hpn[hpn.apply(lambda x:(x['rstart'] in range(ps+INVERTED-WINDOW,ps+INVERTED+WINDOW+1))\n",
    "                and (x['rend'] in range(pe-INVERTED-WINDOW,pe-INVERTED+WINDOW+1)),axis=1)].sum()\n",
    "    if phpn[S1].sum()>=RCUTOFFH and phpn[S2].sum()>=RCUTOFFH:\n",
    "        inv[mir] = ((ihpn[S1].sum()+1)/(phpn[S1].sum()+1),\n",
    "                    (ihpn[S2].sum()+1)/(phpn[S2].sum()+1))\n",
    "print len(inv)"
   ]
  },
  {
   "cell_type": "code",
   "execution_count": 17,
   "metadata": {},
   "outputs": [
    {
     "name": "stdout",
     "output_type": "stream",
     "text": [
      "0.9284994806236132\n"
     ]
    }
   ],
   "source": [
    "xs, ys = zip(*inv.values())\n",
    "r = spearmanr(xs, ys)[0]\n",
    "xs = np.log2(xs)\n",
    "ys = np.log2(ys)\n",
    "print r"
   ]
  },
  {
   "cell_type": "code",
   "execution_count": 18,
   "metadata": {},
   "outputs": [
    {
     "data": {
      "text/plain": [
       "Text(10,-13,u'$R_s$ = 0.93')"
      ]
     },
     "execution_count": 18,
     "metadata": {},
     "output_type": "execute_result"
    },
    {
     "data": {
      "image/png": "[encoded data removed]",
      "text/plain": [
       "<matplotlib.figure.Figure at 0x7f3b3c29a450>"
      ]
     },
     "metadata": {},
     "output_type": "display_data"
    }
   ],
   "source": [
    "fig, ax = plt.subplots(1, 1, figsize=(2.5,2.5))\n",
    "ax.scatter(xs, ys, s=7, color='k', alpha=.2, zorder=2, rasterized=True)\n",
    "\n",
    "ax.set_xlabel('In vitro set #1\\n[ log2 (inverse / productive) ]')\n",
    "ax.set_ylabel('In vitro set #2\\n[ log2 (inverse / productive) ]')\n",
    "ax.set_xticks(range(-10,10,5))\n",
    "ax.set_yticks(range(-10,10,5))\n",
    "ax.set_xlim(-14,9)\n",
    "ax.set_ylim(-14,9)\n",
    "ax.axhline(0,color='k',ls='--',lw=1)\n",
    "ax.axvline(0,color='k',ls='--',lw=1)\n",
    "\n",
    "ax.grid(ls='-',lw=.5)\n",
    "ax.text(10,-13,'$R_s$ = %.2f'%r,ha='right')\n",
    "#fig.savefig(resultpath + '200105_f4c__inv_meta.pdf',dpi=300)"
   ]
  },
  {
   "cell_type": "markdown",
   "metadata": {},
   "source": [
    "## D. Comparison with fCLIP-seq"
   ]
  },
  {
   "cell_type": "code",
   "execution_count": 19,
   "metadata": {},
   "outputs": [
    {
     "data": {
      "text/html": [
       "<div>\n",
       "<style scoped>\n",
       "    .dataframe tbody tr th:only-of-type {\n",
       "        vertical-align: middle;\n",
       "    }\n",
       "\n",
       "    .dataframe tbody tr th {\n",
       "        vertical-align: top;\n",
       "    }\n",
       "\n",
       "    .dataframe thead th {\n",
       "        text-align: right;\n",
       "    }\n",
       "</style>\n",
       "<table border=\"1\" class=\"dataframe\">\n",
       "  <thead>\n",
       "    <tr style=\"text-align: right;\">\n",
       "      <th></th>\n",
       "      <th>Group5p</th>\n",
       "      <th>Group3p</th>\n",
       "      <th>Overhang</th>\n",
       "      <th>miRBaseOverhang</th>\n",
       "      <th>Contig</th>\n",
       "      <th>Strand</th>\n",
       "      <th>mirBasePosition5p</th>\n",
       "      <th>fCLIPPosition5p</th>\n",
       "    </tr>\n",
       "    <tr>\n",
       "      <th>miRNA</th>\n",
       "      <th></th>\n",
       "      <th></th>\n",
       "      <th></th>\n",
       "      <th></th>\n",
       "      <th></th>\n",
       "      <th></th>\n",
       "      <th></th>\n",
       "      <th></th>\n",
       "    </tr>\n",
       "  </thead>\n",
       "  <tbody>\n",
       "    <tr>\n",
       "      <th>hsa-let-7a-1</th>\n",
       "      <td>Matched site</td>\n",
       "      <td>Matched site</td>\n",
       "      <td>1.0</td>\n",
       "      <td>1.0</td>\n",
       "      <td>chr9</td>\n",
       "      <td>+</td>\n",
       "      <td>94175962.0</td>\n",
       "      <td>94175962</td>\n",
       "    </tr>\n",
       "  </tbody>\n",
       "</table>\n",
       "</div>"
      ],
      "text/plain": [
       "                   Group5p       Group3p  Overhang  miRBaseOverhang Contig  \\\n",
       "miRNA                                                                        \n",
       "hsa-let-7a-1  Matched site  Matched site       1.0              1.0   chr9   \n",
       "\n",
       "             Strand  mirBasePosition5p fCLIPPosition5p  \n",
       "miRNA                                                   \n",
       "hsa-let-7a-1      +         94175962.0        94175962  "
      ]
     },
     "execution_count": 19,
     "metadata": {},
     "output_type": "execute_result"
    }
   ],
   "source": [
    "fclipexcel = pd.ExcelFile('supplementary/Kim_2017_s2.xlsx')\n",
    "fclip293t = fclipexcel.parse('HEK293T_miRBase', index_col=0)\n",
    "both293t = fclip293t[(fclip293t['Group5p']!='Unidentified')&\n",
    "                     (fclip293t['Group3p']!='Unidentified')]\n",
    "both293t.iloc[:1, :8]"
   ]
  },
  {
   "cell_type": "code",
   "execution_count": 20,
   "metadata": {},
   "outputs": [
    {
     "data": {
      "text/html": [
       "<div>\n",
       "<style scoped>\n",
       "    .dataframe tbody tr th:only-of-type {\n",
       "        vertical-align: middle;\n",
       "    }\n",
       "\n",
       "    .dataframe tbody tr th {\n",
       "        vertical-align: top;\n",
       "    }\n",
       "\n",
       "    .dataframe thead th {\n",
       "        text-align: right;\n",
       "    }\n",
       "</style>\n",
       "<table border=\"1\" class=\"dataframe\">\n",
       "  <thead>\n",
       "    <tr style=\"text-align: right;\">\n",
       "      <th></th>\n",
       "      <th>chr</th>\n",
       "      <th>start</th>\n",
       "      <th>end</th>\n",
       "      <th>miRNA</th>\n",
       "      <th>strand</th>\n",
       "    </tr>\n",
       "  </thead>\n",
       "  <tbody>\n",
       "    <tr>\n",
       "      <th>0</th>\n",
       "      <td>chr1</td>\n",
       "      <td>17311</td>\n",
       "      <td>17415</td>\n",
       "      <td>hsa-mir-6859-1</td>\n",
       "      <td>-</td>\n",
       "    </tr>\n",
       "  </tbody>\n",
       "</table>\n",
       "</div>"
      ],
      "text/plain": [
       "    chr  start    end           miRNA strand\n",
       "0  chr1  17311  17415  hsa-mir-6859-1      -"
      ]
     },
     "execution_count": 20,
     "metadata": {},
     "output_type": "execute_result"
    }
   ],
   "source": [
    "bedcols = [ 'chr', 'start', 'end', 'miRNA', 'strand' ]\n",
    "bedfile = 'supplementary/fCLIP/293T/293T_191115_genome-annot_1881-pris_mp1_sp1.bed.gz'\n",
    "ftbl = pd.read_table(gzip.open(bedfile,'rb'),usecols=[0,1,2,15,17],names=bedcols)\n",
    "ftbl['start']=ftbl['start']+1\n",
    "ftbl.head(1)"
   ]
  },
  {
   "cell_type": "code",
   "execution_count": 21,
   "metadata": {},
   "outputs": [],
   "source": [
    "FCLIPCUT = 5\n",
    "finv = {}\n",
    "for mir, row in both293t.iterrows():\n",
    "    c5,c3,strand = row[['fCLIPPosition5p','fCLIPPosition3p','Strand']].astype(str)\n",
    "    if c5.find(';')>=0 or c3.find(';')>=0:\n",
    "        continue\n",
    "    c5 = int(c5)\n",
    "    c3 = int(c3)\n",
    "    sub = ftbl[ftbl['miRNA']==mir]\n",
    "    if strand=='+':\n",
    "        premir = sub[(sub['start']==c5)&(sub['end']==c3)]\n",
    "        if len(premir)>=FCLIPCUT:\n",
    "            invmir = sub[(abs(sub['start']-c5-INVERTED)<=WINDOW)&\n",
    "                         (abs(c3-sub['end']-INVERTED)<=WINDOW)]\n",
    "            finv[mir] = (len(invmir),len(premir))\n",
    "    else:\n",
    "        premir = sub[(sub['start']==c3)&(sub['end']==c5)]\n",
    "        if len(premir)>=FCLIPCUT:\n",
    "            invmir = sub[(abs(sub['start']-c3-INVERTED)<=WINDOW)&\n",
    "                         (abs(c5-sub['end']-INVERTED)<=WINDOW)]\n",
    "            finv[mir] = (len(invmir),len(premir))"
   ]
  },
  {
   "cell_type": "code",
   "execution_count": 22,
   "metadata": {},
   "outputs": [
    {
     "name": "stdout",
     "output_type": "stream",
     "text": [
      "35641.0 315.0 (1, 11)\n"
     ]
    }
   ],
   "source": [
    "mir = 'hsa-mir-1908'\n",
    "ps, pe = preposition[mir]\n",
    "hpn = clvh.loc[[mir]]\n",
    "phpn = hpn[hpn.apply(lambda x: (x['rstart'] in range(ps-WINDOW,ps+WINDOW+1)) and \n",
    "                                  (x['rend'] in range(pe-WINDOW,pe+WINDOW+1)),axis=1)].sum()\n",
    "ihpn = hpn[hpn.apply(lambda x:(x['rstart'] in range(ps+INVERTED-WINDOW,ps+INVERTED+WINDOW+1))\n",
    "            and (x['rend'] in range(pe-INVERTED-WINDOW,pe-INVERTED+WINDOW+1)),axis=1)].sum()\n",
    "print ihpn['set1'], phpn['set1'], finv[mir]"
   ]
  },
  {
   "cell_type": "code",
   "execution_count": 28,
   "metadata": {},
   "outputs": [
    {
     "name": "stdout",
     "output_type": "stream",
     "text": [
      "61815229 61815172\n"
     ]
    }
   ],
   "source": [
    "sub = ftbl[ftbl['miRNA']==mir]\n",
    "c5,c3,strand = both293t.loc[mir,['fCLIPPosition5p','fCLIPPosition3p','Strand']].astype(str)\n",
    "c5 = int(c5)\n",
    "c3 = int(c3)\n",
    "premir = sub[(sub['start']==c3)&(sub['end']==c5)]\n",
    "invmir = sub[(abs(sub['start']-c3-INVERTED)<=WINDOW)&\n",
    "             (abs(c5-sub['end']-INVERTED)<=WINDOW)]\n",
    "print c5, c3"
   ]
  },
  {
   "cell_type": "code",
   "execution_count": 23,
   "metadata": {},
   "outputs": [
    {
     "name": "stdout",
     "output_type": "stream",
     "text": [
      "169\n"
     ]
    }
   ],
   "source": [
    "pscnt = .0002\n",
    "comp = {}\n",
    "for mir in finv:\n",
    "    ps, pe = preposition[mir]\n",
    "    hpn = clvh.loc[[mir]]\n",
    "    phpn = hpn[hpn.apply(lambda x: (x['rstart'] in range(ps-WINDOW,ps+WINDOW+1)) and \n",
    "                                      (x['rend'] in range(pe-WINDOW,pe+WINDOW+1)),axis=1)].sum()\n",
    "    ihpn = hpn[hpn.apply(lambda x:(x['rstart'] in range(ps+INVERTED-WINDOW,ps+INVERTED+WINDOW+1))\n",
    "                and (x['rend'] in range(pe-INVERTED-WINDOW,pe-INVERTED+WINDOW+1)),axis=1)].sum()\n",
    "    if phpn['set1']>=FCLIPCUT:\n",
    "        comp[mir] = (np.log2(ihpn['set1']/phpn['set1']+pscnt),\n",
    "                      np.log2(finv[mir][0]/finv[mir][1]+pscnt))\n",
    "print len(comp)"
   ]
  },
  {
   "cell_type": "code",
   "execution_count": 24,
   "metadata": {},
   "outputs": [
    {
     "name": "stdout",
     "output_type": "stream",
     "text": [
      "-0.01022173423527092 0.8950635716919094\n"
     ]
    }
   ],
   "source": [
    "xs, ys = zip(*comp.values())\n",
    "r, p = spearmanr(xs,ys)\n",
    "print r, p"
   ]
  },
  {
   "cell_type": "code",
   "execution_count": 25,
   "metadata": {},
   "outputs": [
    {
     "data": {
      "text/plain": [
       "Text(-12,-2.5,u'N = 169')"
      ]
     },
     "execution_count": 25,
     "metadata": {},
     "output_type": "execute_result"
    },
    {
     "data": {
      "image/png": "[encoded data removed]",
      "text/plain": [
       "<matplotlib.figure.Figure at 0x7f3b3ba074d0>"
      ]
     },
     "metadata": {},
     "output_type": "display_data"
    }
   ],
   "source": [
    "fig, ax = plt.subplots(1, 1, figsize=(2.5,2.5))\n",
    "ax.scatter(xs, ys, s=8, color='k', alpha=.7, zorder=2, rasterized=True)\n",
    "ax.set_xlabel('In vitro processing\\n[ log2 (inverse / productive) ]')\n",
    "ax.set_ylabel('fCLIP-seq from HEK293T\\n[ log2 (inverse / productive) ]')\n",
    "ax.set_xticks(range(-12,9,4))\n",
    "ax.set_yticks(range(-12,-3,4))\n",
    "ax.set_xlim(-13.5,8)\n",
    "ax.grid(ls='-',lw=.5)\n",
    "ax.text(-12,-2.5,'N = %s'%len(xs),\n",
    "       bbox={'pad':.2,'color':'#bababa','alpha':.5,'boxstyle':'round','lw':0})\n",
    "#fig.savefig(resultpath + '210105_f4__inverted_fcilp.pdf',dpi=300)"
   ]
  },
  {
   "cell_type": "code",
   "execution_count": 58,
   "metadata": {},
   "outputs": [
    {
     "name": "stdout",
     "output_type": "stream",
     "text": [
      "hsa-mir-1908 (6.822044727257655, -3.456261175757169)\n",
      "hsa-let-7c (6.338624696636714, -12.287712379549449)\n"
     ]
    }
   ],
   "source": [
    "for mir in ['hsa-mir-1908','hsa-mir-147b','hsa-mir-214','hsa-mir-146a','hsa-let-7c']:\n",
    "    if mir in comp:\n",
    "        print mir,comp[mir]"
   ]
  },
  {
   "cell_type": "code",
   "execution_count": 78,
   "metadata": {},
   "outputs": [
    {
     "name": "stdout",
     "output_type": "stream",
     "text": [
      "hsa-mir-4761\t0.34\t-1.87\t4.15\t0.52\n",
      "hsa-mir-1908\t6.82\t-3.46\t0.00\t0.06\n",
      "hsa-mir-455\t4.98\t-3.80\t2.80\t0.24\n",
      "hsa-mir-5001\t-2.09\t-4.64\t0.68\t0.29\n",
      "hsa-mir-374a\t-2.65\t-5.10\t3.82\t0.74\n",
      "hsa-mir-505\t-1.82\t-5.66\t5.01\t0.80\n",
      "hsa-mir-25\t-1.04\t-5.83\t2.48\t0.43\n",
      "hsa-mir-19a\t-1.58\t-5.87\t2.89\t0.54\n"
     ]
    }
   ],
   "source": [
    "for m in sorted(comp.keys(),key=lambda x:-comp[x][1]):\n",
    "    vitro, vivo = comp[m]\n",
    "    if vitro>-4 and vivo>-6:\n",
    "        print '%s\\t%.2f\\t%.2f\\t%.2f\\t%.2f'%(m, vitro, vivo, effs[m], homs[m])"
   ]
  },
  {
   "cell_type": "markdown",
   "metadata": {},
   "source": [
    "## E. Structures"
   ]
  },
  {
   "cell_type": "code",
   "execution_count": 93,
   "metadata": {},
   "outputs": [],
   "source": [
    "def list_basal_jcs(infos, minss, lastunp, init): # [ (1, 124), (2, 123), ... ]\n",
    "    jcpos, dist = [], init\n",
    "    for uppair, lowpair in zip(infos[:-1], infos[1:]):\n",
    "        jcsize = abs(uppair[0]-lowpair[0])+abs(lowpair[1]-uppair[1])-2\n",
    "        jc5 = abs(uppair[0]-lowpair[0])-1\n",
    "        jc3 = abs(lowpair[1]-uppair[1])-1\n",
    "        if jcsize>=minss:\n",
    "            jcpos.append((dist,uppair,jc5,jc3))\n",
    "        dist += calculate_dist(uppair, lowpair)\n",
    "    jcpos.append((dist,infos[-1],lastunp))\n",
    "    return jcpos"
   ]
  },
  {
   "cell_type": "code",
   "execution_count": 85,
   "metadata": {},
   "outputs": [],
   "source": [
    "strtbl = pd.read_csv('supplementary/201012_s5_pri-structure.csv', header=1, index_col=0)"
   ]
  },
  {
   "cell_type": "code",
   "execution_count": 87,
   "metadata": {},
   "outputs": [
    {
     "name": "stdout",
     "output_type": "stream",
     "text": [
      "534 (25, 96)\n"
     ]
    }
   ],
   "source": [
    "majorcs = {}\n",
    "for mir in dcsmirs:\n",
    "    c5, c3 = s3.loc[[mir],[\"5' cleavage site\",\"3' cleavage site\"]].iloc[0]\n",
    "    majorcs[mir] = (int(c5),int(c3))\n",
    "print len(majorcs), majorcs['hsa-let-7a-1']"
   ]
  },
  {
   "cell_type": "code",
   "execution_count": 146,
   "metadata": {},
   "outputs": [],
   "source": [
    "basalsegs = {}\n",
    "for mir in s5.index:\n",
    "    if mir in dcsmirs:\n",
    "        cs, ce = majorcs[mir]\n",
    "    else:\n",
    "        cs, ce = preposition[mir]\n",
    "    stinfo = [ (int(i),pair) for i,pair in strtbl.iloc[:,:125].loc[mir].items() ]\n",
    "    lsinfo = [ (s,e) for s,e in stinfo if s<cs<e ][::-1]\n",
    "    if not lsinfo:\n",
    "        continue\n",
    "    ls1st5, ls1st3 = lsinfo[0]\n",
    "    us1st3 = [ (s,e) for s,e in stinfo if cs<=s<e ][0][1]\n",
    "    init = min(cs-ls1st5, ls1st3-us1st3)\n",
    "    bj = min(list_basal_jcs(lsinfo, 1, 3.5, init)[::-1],key=lambda x:abs(x[0]-13))\n",
    "    basalsegs[mir] = bj[2:]"
   ]
  },
  {
   "cell_type": "code",
   "execution_count": 45,
   "metadata": {},
   "outputs": [
    {
     "data": {
      "text/html": [
       "<div>\n",
       "<style scoped>\n",
       "    .dataframe tbody tr th:only-of-type {\n",
       "        vertical-align: middle;\n",
       "    }\n",
       "\n",
       "    .dataframe tbody tr th {\n",
       "        vertical-align: top;\n",
       "    }\n",
       "\n",
       "    .dataframe thead th {\n",
       "        text-align: right;\n",
       "    }\n",
       "</style>\n",
       "<table border=\"1\" class=\"dataframe\">\n",
       "  <thead>\n",
       "    <tr style=\"text-align: right;\">\n",
       "      <th></th>\n",
       "      <th>Inverted processing</th>\n",
       "      <th>Set</th>\n",
       "    </tr>\n",
       "    <tr>\n",
       "      <th>Pri-miRNA</th>\n",
       "      <th></th>\n",
       "      <th></th>\n",
       "    </tr>\n",
       "  </thead>\n",
       "  <tbody>\n",
       "    <tr>\n",
       "      <th>hsa-let-7a-1</th>\n",
       "      <td>0.008403</td>\n",
       "      <td>set1</td>\n",
       "    </tr>\n",
       "    <tr>\n",
       "      <th>hsa-let-7a-2</th>\n",
       "      <td>0.285532</td>\n",
       "      <td>set1</td>\n",
       "    </tr>\n",
       "    <tr>\n",
       "      <th>hsa-let-7a-3</th>\n",
       "      <td>0.072214</td>\n",
       "      <td>set1</td>\n",
       "    </tr>\n",
       "  </tbody>\n",
       "</table>\n",
       "</div>"
      ],
      "text/plain": [
       "              Inverted processing   Set\n",
       "Pri-miRNA                              \n",
       "hsa-let-7a-1             0.008403  set1\n",
       "hsa-let-7a-2             0.285532  set1\n",
       "hsa-let-7a-3             0.072214  set1"
      ]
     },
     "execution_count": 45,
     "metadata": {},
     "output_type": "execute_result"
    }
   ],
   "source": [
    "s6.head(3)"
   ]
  },
  {
   "cell_type": "code",
   "execution_count": 38,
   "metadata": {},
   "outputs": [
    {
     "name": "stdout",
     "output_type": "stream",
     "text": [
      "107 119\n"
     ]
    }
   ],
   "source": [
    "#highinv = s6.sort_values('Inverted processing').index[-100:]\n",
    "#lowinv = s6.sort_values('Inverted processing').index[:100]\n",
    "dbmirs = s1[s1['MirGeneDB']=='Annotated'].index\n",
    "highinv = [ m for m in dbmirs if m in s6.index and s6.loc[m,'Inverted processing']>=1]\n",
    "lowinv = [ m for m in dbmirs if m in s6.index and s6.loc[m,'Inverted processing']<=.01]\n",
    "print len(highinv), len(lowinv)"
   ]
  },
  {
   "cell_type": "code",
   "execution_count": 155,
   "metadata": {},
   "outputs": [],
   "source": [
    "data5 = [[ basalsegs[m][0] for m in highinv if m in basalsegs and len(basalsegs[m])>=2], \n",
    "         [ basalsegs[m][0] for m in lowinv if m in basalsegs and len(basalsegs[m])>=2 ] ]\n",
    "data3 = [[ basalsegs[m][1] for m in highinv if m in basalsegs and len(basalsegs[m])>=2 ], \n",
    "         [ basalsegs[m][1] for m in lowinv if m in basalsegs and len(basalsegs[m])>=2 ] ]\n",
    "data = [[ sum(basalsegs[m]) for m in highinv if m in basalsegs and len(basalsegs[m])>=2 ], \n",
    "         [ sum(basalsegs[m]) for m in lowinv if m in basalsegs and len(basalsegs[m])>=2 ] ]"
   ]
  },
  {
   "cell_type": "code",
   "execution_count": 156,
   "metadata": {},
   "outputs": [
    {
     "name": "stdout",
     "output_type": "stream",
     "text": [
      "Ttest_indResult(statistic=-0.9995508003695721, pvalue=0.31897839663748523)\n",
      "Ttest_indResult(statistic=-2.5418133405980416, pvalue=0.012095889408093103)\n",
      "Ttest_indResult(statistic=-2.313775766829623, pvalue=0.022049830346089358)\n"
     ]
    }
   ],
   "source": [
    "print ttest_ind(data5[0],data5[1],equal_var=False)\n",
    "print ttest_ind(data3[0],data3[1],equal_var=False)\n",
    "print ttest_ind(data[0],data[1],equal_var=False)"
   ]
  },
  {
   "cell_type": "code",
   "execution_count": 192,
   "metadata": {},
   "outputs": [],
   "source": [
    "xs = range(1, 25)\n",
    "bins = np.arange(1,26)-.5\n",
    "vs,ts = np.histogram(data3[0],bins=bins)\n",
    "ys1 = vs.cumsum()/vs.sum()\n",
    "vs,ts = np.histogram(data3[1],bins=bins)\n",
    "ys2 = vs.cumsum()/vs.sum()\n",
    "colors = '#fd8d3c #757575'.split()"
   ]
  },
  {
   "cell_type": "code",
   "execution_count": 193,
   "metadata": {},
   "outputs": [
    {
     "data": {
      "image/png": "[encoded data removed]",
      "text/plain": [
       "<matplotlib.figure.Figure at 0x7fa25295a790>"
      ]
     },
     "metadata": {},
     "output_type": "display_data"
    }
   ],
   "source": [
    "fig, ax = plt.subplots(1, 1, figsize=(1.8,2.5))\n",
    "bp = ax.boxplot(data,widths=.7,sym='',boxprops={'linewidth':1.3},\n",
    "                medianprops={'color':'black','linewidth':1.3}, capprops={'linewidth':1.3},\n",
    "                whiskerprops={'linewidth':1.3}, patch_artist=True,zorder=2)\n",
    "for box,c in zip(bp['boxes'],colors):\n",
    "    box.set_facecolor(c)\n",
    "\n",
    "ax.set_xticks([1,2])\n",
    "ax.set_xticklabels(['High','Low'])\n",
    "#ax.set_xticklabels(['Processed\\n(n=%s)'%len(data[0]),\n",
    "#                    'The rest\\n(n=%s)'%len(data[1])],fontsize=11)\n",
    "ax.set_ylabel('Basal ssRNAs (nt)',fontsize=11)\n",
    "ax.spines['bottom'].set_visible(False)\n",
    "ax.tick_params(bottom='off')\n",
    "ax.yaxis.grid(ls='-',lw=.5)\n",
    "#fig.savefig(resultpath + '201123_f4e__inverted_feature.pdf')"
   ]
  },
  {
   "cell_type": "markdown",
   "metadata": {},
   "source": [
    "## S4A. Sequence motifs"
   ]
  },
  {
   "cell_type": "code",
   "execution_count": 30,
   "metadata": {},
   "outputs": [
    {
     "name": "stdout",
     "output_type": "stream",
     "text": [
      "108 116\n"
     ]
    }
   ],
   "source": [
    "dbmirs = s1[s1['MirGeneDB']=='Annotated'].index\n",
    "highinv = [ m for m in s3[s3['Inverted processing']>=1].index if m in dbmirs ]\n",
    "lowinv = [ m for m in s3[s3['Inverted processing']<.01].index if m in dbmirs ]\n",
    "print len(highinv), len(lowinv)"
   ]
  },
  {
   "cell_type": "code",
   "execution_count": 34,
   "metadata": {},
   "outputs": [
    {
     "name": "stdout",
     "output_type": "stream",
     "text": [
      "[860, 250, 647, 455]\n"
     ]
    }
   ],
   "source": [
    "mirls = [ s4[s4[mot]=='O'].index for mot in ['Stable lower stem','UG','mGHG','UGUG'] ]\n",
    "print map(len,mirls)"
   ]
  },
  {
   "cell_type": "code",
   "execution_count": 35,
   "metadata": {},
   "outputs": [
    {
     "name": "stdout",
     "output_type": "stream",
     "text": [
      "[0.6111111111111112, 0.1574074074074074, 0.3888888888888889, 0.2962962962962963] [0.75, 0.3017241379310345, 0.5603448275862069, 0.5517241379310345]\n"
     ]
    }
   ],
   "source": [
    "xs = np.arange(len(mirls))\n",
    "ls = ['Stable\\nLS','UG','mGHG','UGUG']\n",
    "ys1,ys2 = [],[]\n",
    "for ml in mirls:\n",
    "    ys1.append(len([m for m in ml if m in highinv])/len(highinv))\n",
    "    ys2.append(len([m for m in ml if m in lowinv])/len(lowinv))\n",
    "ys = np.array(ys1)/np.array(ys2)\n",
    "print ys1, ys2"
   ]
  },
  {
   "cell_type": "code",
   "execution_count": 37,
   "metadata": {},
   "outputs": [
    {
     "data": {
      "image/png": "[encoded data removed]",
      "text/plain": [
       "<matplotlib.figure.Figure at 0x7f3b3c752050>"
      ]
     },
     "metadata": {},
     "output_type": "display_data"
    }
   ],
   "source": [
    "fig, ax = plt.subplots(1,1,figsize=(2.1,2))\n",
    "ax.bar(xs-.15,np.array(ys2)*100,color='#bababa',width=.3,lw=0,label='Low',zorder=2)\n",
    "ax.bar(xs+.15,np.array(ys1)*100,color='#424242',width=.3,lw=0,label='High',zorder=2)\n",
    "ax.set_ylabel('miRNAs with\\nthe given motif (%)')\n",
    "ax.set_xticks(xs)\n",
    "ax.set_xticklabels(ls, rotation=25)\n",
    "ax.yaxis.grid(ls='-',lw=.5)\n",
    "#ax.spines['left'].set_bounds(0,1)\n",
    "ax.legend(loc=(.15,1.02), handlelength=1, handletextpad=.4, title='Inverse processing', ncol=2,\n",
    "         columnspacing=1.3)\n",
    "fig.savefig(resultpath+'210120_f4e__inverted_processing_feature_v2.pdf')#,dpi=300)"
   ]
  },
  {
   "cell_type": "code",
   "execution_count": null,
   "metadata": {},
   "outputs": [],
   "source": []
  }
 ],
 "metadata": {
  "kernelspec": {
   "display_name": "Python 2",
   "language": "python",
   "name": "python2"
  },
  "language_info": {
   "codemirror_mode": {
    "name": "ipython",
    "version": 2
   },
   "file_extension": ".py",
   "mimetype": "text/x-python",
   "name": "python",
   "nbconvert_exporter": "python",
   "pygments_lexer": "ipython2",
   "version": "2.7.18"
  }
 },
 "nbformat": 4,
 "nbformat_minor": 2
}
