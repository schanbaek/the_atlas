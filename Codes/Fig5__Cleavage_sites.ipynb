{
 "cells": [
  {
   "cell_type": "markdown",
   "metadata": {},
   "source": [
    "# Figure 5. DROSHA cleavage sites\n",
    "---"
   ]
  },
  {
   "cell_type": "code",
   "execution_count": 1,
   "metadata": {},
   "outputs": [
    {
     "name": "stdout",
     "output_type": "stream",
     "text": [
      "Last revised by Seungchan Baek at 2020-11-25.\n"
     ]
    }
   ],
   "source": [
    "import time\n",
    "today = time.strftime('%Y-%m-%d')\n",
    "name = 'Seungchan Baek'\n",
    "print 'Last revised by %s at %s.' % (name, today)"
   ]
  },
  {
   "cell_type": "code",
   "execution_count": 2,
   "metadata": {},
   "outputs": [
    {
     "name": "stdout",
     "output_type": "stream",
     "text": [
      "/casa/bsc/projects/1_DCS/2004_paper_prep\n"
     ]
    }
   ],
   "source": [
    "home = '/casa/bsc/projects/1_DCS/2004_paper_prep/'\n",
    "%cd $home"
   ]
  },
  {
   "cell_type": "code",
   "execution_count": 3,
   "metadata": {},
   "outputs": [
    {
     "name": "stdout",
     "output_type": "stream",
     "text": [
      "resultpath: results/201125/\n"
     ]
    }
   ],
   "source": [
    "from __future__ import division\n",
    "import sys; sys.path.append('/casa/bsc/notebooks/')\n",
    "from util import *\n",
    "from basic import gen_result_dir\n",
    "resultpath = gen_result_dir('results/')\n",
    "print 'resultpath:', resultpath"
   ]
  },
  {
   "cell_type": "code",
   "execution_count": 4,
   "metadata": {},
   "outputs": [],
   "source": [
    "import pandas as pd\n",
    "import numpy as np\n",
    "import re\n",
    "import gzip\n",
    "from matplotlib import pyplot as plt\n",
    "from matplotlib import gridspec, lines\n",
    "from collections import defaultdict, Counter\n",
    "from sequtil import rev_com_dna\n",
    "%matplotlib inline"
   ]
  },
  {
   "cell_type": "code",
   "execution_count": 5,
   "metadata": {},
   "outputs": [],
   "source": [
    "LIBRARIES = [ 'set1', 'set2', 'set3', 'set4', 'set5' ]"
   ]
  },
  {
   "cell_type": "code",
   "execution_count": 6,
   "metadata": {},
   "outputs": [],
   "source": [
    "s1 = pd.read_csv('supplementary/201123_s1__DROSHA_dependency.csv', header=1, index_col=0)\n",
    "s2 = pd.read_csv('supplementary/201123_s2__Construct.csv', header=1, index_col=0).fillna('')\n",
    "s3 = pd.read_csv('supplementary/201123_s3__DROSHA_processing_result.csv', header=1, index_col=0)"
   ]
  },
  {
   "cell_type": "code",
   "execution_count": 7,
   "metadata": {},
   "outputs": [
    {
     "name": "stdout",
     "output_type": "stream",
     "text": [
      "1881\n"
     ]
    }
   ],
   "source": [
    "constseqs = dict(s2['Construct sequence (125 nt)'])\n",
    "print len(constseqs)"
   ]
  },
  {
   "cell_type": "code",
   "execution_count": 8,
   "metadata": {},
   "outputs": [
    {
     "name": "stdout",
     "output_type": "stream",
     "text": [
      "1881 (32, 90)\n"
     ]
    }
   ],
   "source": [
    "preposition = {}\n",
    "for mir in s2.index:\n",
    "    flank5, flank3 = s2.loc[mir,[\"5' flanking segment\",\"3' flanking segment\"]]\n",
    "    if flank5 or flank3:\n",
    "        preposition[mir] = (len(flank5)+1,125-len(flank3))\n",
    "    else:\n",
    "        preposition[mir] = (0,126)\n",
    "print len(preposition), preposition['hsa-mir-142']"
   ]
  },
  {
   "cell_type": "code",
   "execution_count": 9,
   "metadata": {},
   "outputs": [
    {
     "name": "stdout",
     "output_type": "stream",
     "text": [
      "304 257 157 281\n"
     ]
    }
   ],
   "source": [
    "drodep = s1[s1['DROSHA dependency'].apply(lambda x:x.find('DROSHA-dependent')>=0)].index\n",
    "droind = s1[s1['DROSHA dependency'].apply(lambda x:x.find('DROSHA-independent')>=0)].index\n",
    "droko = s1[s1['DROSHA dependency'].apply(lambda x:x.find('DROSHA KO')>=0)].index\n",
    "fclip = s1[s1['DROSHA dependency'].apply(lambda x:x.find('fCLIP')>=0)].index\n",
    "print len(drodep), len(droind), len(droko), len(fclip)"
   ]
  },
  {
   "cell_type": "code",
   "execution_count": 10,
   "metadata": {},
   "outputs": [
    {
     "name": "stdout",
     "output_type": "stream",
     "text": [
      "1816 534 1282\n"
     ]
    }
   ],
   "source": [
    "EFFCUT = 2.5\n",
    "HOMCUT = .25\n",
    "effs = s3['Cleavage Efficiency'].to_dict()\n",
    "homs = s3['Cleavage Homogeneity'].to_dict()\n",
    "dcsmirs = [ m for m in s3.index if effs[m]>=EFFCUT and homs[m]>=HOMCUT ]\n",
    "nodcs = [ m for m in s3.index if m not in dcsmirs ]\n",
    "print len(s3.index), len(dcsmirs), len(nodcs)"
   ]
  },
  {
   "cell_type": "code",
   "execution_count": 11,
   "metadata": {},
   "outputs": [
    {
     "name": "stdout",
     "output_type": "stream",
     "text": [
      "534 (25, 96)\n"
     ]
    }
   ],
   "source": [
    "majorcs = {}\n",
    "for mir in dcsmirs:\n",
    "    c5, c3 = s3.loc[[mir],[\"5' cleavage site\",\"3' cleavage site\"]].iloc[0]\n",
    "    majorcs[mir] = (int(c5),int(c3))\n",
    "print len(majorcs), majorcs['hsa-let-7a-1']"
   ]
  },
  {
   "cell_type": "markdown",
   "metadata": {},
   "source": [
    "# A. Cleavage site mapped"
   ]
  },
  {
   "cell_type": "code",
   "execution_count": 14,
   "metadata": {},
   "outputs": [],
   "source": [
    "def parse_line(row):\n",
    "    for s in row['attr'].split(';'):\n",
    "        tag, value = s.split('=')\n",
    "        row[tag] = value\n",
    "    return row"
   ]
  },
  {
   "cell_type": "code",
   "execution_count": 15,
   "metadata": {},
   "outputs": [
    {
     "data": {
      "text/html": [
       "<div>\n",
       "<style scoped>\n",
       "    .dataframe tbody tr th:only-of-type {\n",
       "        vertical-align: middle;\n",
       "    }\n",
       "\n",
       "    .dataframe tbody tr th {\n",
       "        vertical-align: top;\n",
       "    }\n",
       "\n",
       "    .dataframe thead th {\n",
       "        text-align: right;\n",
       "    }\n",
       "</style>\n",
       "<table border=\"1\" class=\"dataframe\">\n",
       "  <thead>\n",
       "    <tr style=\"text-align: right;\">\n",
       "      <th></th>\n",
       "      <th>Alias</th>\n",
       "      <th>Derives_from</th>\n",
       "      <th>ID</th>\n",
       "      <th>Name</th>\n",
       "      <th>chr</th>\n",
       "      <th>end</th>\n",
       "      <th>kind</th>\n",
       "      <th>start</th>\n",
       "      <th>strand</th>\n",
       "    </tr>\n",
       "  </thead>\n",
       "  <tbody>\n",
       "    <tr>\n",
       "      <th>0</th>\n",
       "      <td>MI0022705</td>\n",
       "      <td>NaN</td>\n",
       "      <td>MI0022705</td>\n",
       "      <td>hsa-mir-6859-1</td>\n",
       "      <td>chr1</td>\n",
       "      <td>17436</td>\n",
       "      <td>miRNA_primary_transcript</td>\n",
       "      <td>17369</td>\n",
       "      <td>-</td>\n",
       "    </tr>\n",
       "    <tr>\n",
       "      <th>1</th>\n",
       "      <td>MIMAT0027618</td>\n",
       "      <td>MI0022705</td>\n",
       "      <td>MIMAT0027618</td>\n",
       "      <td>hsa-miR-6859-5p</td>\n",
       "      <td>chr1</td>\n",
       "      <td>17431</td>\n",
       "      <td>miRNA</td>\n",
       "      <td>17409</td>\n",
       "      <td>-</td>\n",
       "    </tr>\n",
       "    <tr>\n",
       "      <th>2</th>\n",
       "      <td>MIMAT0027619</td>\n",
       "      <td>MI0022705</td>\n",
       "      <td>MIMAT0027619</td>\n",
       "      <td>hsa-miR-6859-3p</td>\n",
       "      <td>chr1</td>\n",
       "      <td>17391</td>\n",
       "      <td>miRNA</td>\n",
       "      <td>17369</td>\n",
       "      <td>-</td>\n",
       "    </tr>\n",
       "  </tbody>\n",
       "</table>\n",
       "</div>"
      ],
      "text/plain": [
       "          Alias Derives_from            ID             Name   chr    end  \\\n",
       "0     MI0022705          NaN     MI0022705   hsa-mir-6859-1  chr1  17436   \n",
       "1  MIMAT0027618    MI0022705  MIMAT0027618  hsa-miR-6859-5p  chr1  17431   \n",
       "2  MIMAT0027619    MI0022705  MIMAT0027619  hsa-miR-6859-3p  chr1  17391   \n",
       "\n",
       "                       kind  start strand  \n",
       "0  miRNA_primary_transcript  17369      -  \n",
       "1                     miRNA  17409      -  \n",
       "2                     miRNA  17369      -  "
      ]
     },
     "execution_count": 15,
     "metadata": {},
     "output_type": "execute_result"
    }
   ],
   "source": [
    "# miBRase v21 gff file\n",
    "gff = 'supplementary/human_mirbase-v21.gff3'\n",
    "anntbl = pd.read_table(gff, header=12, sep='\\t', usecols=[0,2,3,4,6,8], \n",
    "                       names=['chr','kind','start','end','strand','attr'])\n",
    "anntbl = anntbl.apply(parse_line, axis=1).drop(['attr'], axis=1)\n",
    "anntbl.head(3)"
   ]
  },
  {
   "cell_type": "code",
   "execution_count": 16,
   "metadata": {},
   "outputs": [
    {
     "name": "stdout",
     "output_type": "stream",
     "text": [
      "1881\n"
     ]
    }
   ],
   "source": [
    "annpri = anntbl[anntbl['kind']=='miRNA_primary_transcript'].set_index('Name')\n",
    "annmat = anntbl[anntbl['kind']=='miRNA'].set_index('ID')\n",
    "allpris = sorted(annpri.index)\n",
    "print len(allpris)"
   ]
  },
  {
   "cell_type": "code",
   "execution_count": 17,
   "metadata": {},
   "outputs": [
    {
     "name": "stdout",
     "output_type": "stream",
     "text": [
      "['hsa-let-7a-5p', 'hsa-let-7a-3p']\n"
     ]
    }
   ],
   "source": [
    "# pri-mature matching\n",
    "primat = {}\n",
    "for pri, row in annpri.iterrows():\n",
    "    matureDerives = anntbl[anntbl['Derives_from']==row['ID']]\n",
    "    primat[pri] = matureDerives['Name'].tolist()\n",
    "print primat['hsa-let-7a-1']"
   ]
  },
  {
   "cell_type": "code",
   "execution_count": 18,
   "metadata": {},
   "outputs": [
    {
     "name": "stdout",
     "output_type": "stream",
     "text": [
      "28645\n"
     ]
    }
   ],
   "source": [
    "hpnseqf = 'supplementary/hairpin_mirbase-v21.fa'\n",
    "matseqf = 'supplementary/mature_mirbase-v21.fa'\n",
    "hpnseqs = { s.id:str(s.seq) for s in SeqIO.parse(hpnseqf, 'fasta') }\n",
    "matseqs = { s.id:str(s.seq) for s in SeqIO.parse(matseqf, 'fasta') }\n",
    "print len(hpnseqs)"
   ]
  },
  {
   "cell_type": "code",
   "execution_count": 19,
   "metadata": {},
   "outputs": [],
   "source": [
    "def determine_arm(pri, mat):\n",
    "    preseq = s2.loc[pri,'Pre-miRNA']\n",
    "    matseq = matseqs[mat]\n",
    "    if preseq.startswith(matseq):\n",
    "        return '5p'\n",
    "    else:\n",
    "        return '3p'"
   ]
  },
  {
   "cell_type": "code",
   "execution_count": 31,
   "metadata": {},
   "outputs": [
    {
     "name": "stdout",
     "output_type": "stream",
     "text": [
      "449 457\n"
     ]
    }
   ],
   "source": [
    "# miRBase hairpin\n",
    "diff5, diff3 = {}, {}\n",
    "for pri in dcsmirs:\n",
    "    cs, ce = majorcs[pri]\n",
    "    const = constseqs[pri].replace('T','U')\n",
    "    for mat in primat[pri]:\n",
    "        arm = determine_arm(pri,mat)\n",
    "        if arm=='5p':\n",
    "            diff5[pri] = cs-(const.find(matseqs[mat])+1)\n",
    "        else:\n",
    "            diff3[pri] = (125-const[::-1].find(matseqs[mat][::-1]))-ce\n",
    "print len(diff5), len(diff3)"
   ]
  },
  {
   "cell_type": "code",
   "execution_count": 34,
   "metadata": {},
   "outputs": [
    {
     "name": "stdout",
     "output_type": "stream",
     "text": [
      "[342, 85, 107] 534 [64.0, 16.0, 20.0]\n",
      "[236, 77, 221] 534 [44.0, 14.0, 41.0]\n"
     ]
    }
   ],
   "source": [
    "data5 = [ len([m for m in dcsmirs if m in diff5 and diff5[m]==0]), \n",
    "         len([m for m in dcsmirs if m not in diff5]),\n",
    "         len([m for m in dcsmirs if m in diff5 and diff5[m]!=0]) ]\n",
    "data3 = [ len([m for m in dcsmirs if m in diff3 and diff3[m]==0]), \n",
    "         len([m for m in dcsmirs if m not in diff3]),\n",
    "         len([m for m in dcsmirs if m in diff3 and diff3[m]!=0]) ]\n",
    "colors = [ '#757575', '#1c9099', '#7570b3' ]\n",
    "print data5, sum(data5), map(lambda x: round(x,0), np.array(data5)/sum(data5)*100)\n",
    "print data3, sum(data3), map(lambda x: round(x,0), np.array(data3)/sum(data3)*100)"
   ]
  },
  {
   "cell_type": "code",
   "execution_count": 85,
   "metadata": {},
   "outputs": [
    {
     "data": {
      "image/png": "[encoded data removed]",
      "text/plain": [
       "<matplotlib.figure.Figure at 0x7efc5bdb8850>"
      ]
     },
     "metadata": {},
     "output_type": "display_data"
    }
   ],
   "source": [
    "fig, ax = plt.subplots(1, 1, figsize=(2,2))\n",
    "ps,ts = ax.pie(data, colors=colors, wedgeprops={'linewidth':1.5,'edgecolor':'w','alpha':.9},\n",
    "               startangle=-80, counterclock=False)\n",
    "fig.savefig(resultpath + 'tmp.pdf')"
   ]
  },
  {
   "cell_type": "code",
   "execution_count": 96,
   "metadata": {},
   "outputs": [
    {
     "data": {
      "image/png": "[encoded data removed]",
      "text/plain": [
       "<matplotlib.figure.Figure at 0x7efc5be85b90>"
      ]
     },
     "metadata": {},
     "output_type": "display_data"
    }
   ],
   "source": [
    "fig, ax = plt.subplots(1, 1, figsize=(2,2))\n",
    "ps,ts = ax.pie(data, colors=colors, wedgeprops={'linewidth':0,'edgecolor':'w','alpha':.9},\n",
    "               startangle=200, counterclock=False)\n",
    "fig.savefig(resultpath + '201116_f4b__3site.pdf')"
   ]
  },
  {
   "cell_type": "markdown",
   "metadata": {},
   "source": [
    "## Comparing cleavage sites with fCLIP-seq"
   ]
  },
  {
   "cell_type": "code",
   "execution_count": 35,
   "metadata": {},
   "outputs": [],
   "source": [
    "from matplotlib_venn import venn2, venn2_circles"
   ]
  },
  {
   "cell_type": "code",
   "execution_count": 37,
   "metadata": {},
   "outputs": [
    {
     "name": "stdout",
     "output_type": "stream",
     "text": [
      "[346, 93, 188]\n"
     ]
    }
   ],
   "source": [
    "data = [ len([m for m in dcsmirs if m not in fclip]),\n",
    "         len([m for m in fclip if m not in dcsmirs]),\n",
    "         len([m for m in dcsmirs if m in fclip]) ]\n",
    "fcolors = ['#cdcdcd', '#cdcdcd', '#858585']\n",
    "ecolors = ['k', 'k','k' ]\n",
    "tcolors = ['k','k','w']\n",
    "print data"
   ]
  },
  {
   "cell_type": "code",
   "execution_count": 38,
   "metadata": {},
   "outputs": [
    {
     "data": {
      "image/png": "[encoded data removed]",
      "text/plain": [
       "<matplotlib.figure.Figure at 0x7f2241424050>"
      ]
     },
     "metadata": {},
     "output_type": "display_data"
    }
   ],
   "source": [
    "fig, ax = plt.subplots(1, 1, figsize=(2.5,2.5))\n",
    "\n",
    "out = venn2(subsets=data, set_labels=('',''), ax=ax)\n",
    "for text,c in zip(out.subset_labels, tcolors):\n",
    "    text.set_fontsize(12.2)\n",
    "    text.set_color(c)\n",
    "    \n",
    "for patch, fc, ec in zip(out.patches, fcolors, ecolors):\n",
    "    patch.set_color(fc)\n",
    "    patch.set_edgecolor(ec)\n",
    "    patch.set_linewidth(.7)\n",
    "    patch.set_alpha(1)\n",
    "#fig.savefig(resultpath + 'tmp.pdf')"
   ]
  },
  {
   "cell_type": "markdown",
   "metadata": {},
   "source": [
    "## C. Comparison cases"
   ]
  },
  {
   "cell_type": "code",
   "execution_count": 39,
   "metadata": {},
   "outputs": [],
   "source": [
    "fclipexcel = pd.ExcelFile('supplementary/Kim_2017_s2.xlsx')\n",
    "fclip293t = fclipexcel.parse('HEK293T_miRBase', index_col=0)\n",
    "fcliphela = fclipexcel.parse('HeLa_miRBase', index_col=0)\n",
    "both293t = fclip293t[(fclip293t['Group5p']!='Unidentified')\n",
    "                     &(fclip293t['Group3p']!='Unidentified')]\n",
    "bothhela = fcliphela[(fcliphela['Group5p']!='Unidentified')\n",
    "                     &(fcliphela['Group3p']!='Unidentified')]"
   ]
  },
  {
   "cell_type": "code",
   "execution_count": 46,
   "metadata": {
    "scrolled": true
   },
   "outputs": [],
   "source": [
    "ivpcs5, ivpcs3 = {}, {}\n",
    "for mir in dcsmirs:\n",
    "    cs, ce, strand = s2.loc[mir,['Start','End','Strand']]\n",
    "    if s3.loc[mir,'Cleavage ratio of alternative site']>=HOMCUT:\n",
    "        if strand=='+':\n",
    "            ivpcs5[mir] = map(int,[cs+s3.loc[mir,\"5' cleavage site\"]-1,\n",
    "                           cs+s3.loc[mir,\"5' alternative site\"]-1])\n",
    "            ivpcs3[mir] = map(int,[cs+s3.loc[mir,\"3' cleavage site\"]-1,\n",
    "                           cs+s3.loc[mir,\"3' alternative site\"]-1])\n",
    "        else:\n",
    "            ivpcs5[mir] = map(int,[ce-s3.loc[mir,\"5' cleavage site\"]+1,\n",
    "                           ce-s3.loc[mir,\"5' alternative site\"]+1])\n",
    "            ivpcs3[mir] = map(int,[ce-s3.loc[mir,\"3' cleavage site\"]+1,\n",
    "                           ce-s3.loc[mir,\"3' alternative site\"]+1])\n",
    "    else:\n",
    "        if strand=='+':\n",
    "            ivpcs5[mir] = map(int,[cs+s3.loc[mir,\"5' cleavage site\"]-1])\n",
    "            ivpcs3[mir] = map(int,[cs+s3.loc[mir,\"3' cleavage site\"]-1])\n",
    "        else:\n",
    "            ivpcs5[mir] = map(int,[ce-s3.loc[mir,\"5' cleavage site\"]+1])\n",
    "            ivpcs3[mir] = map(int,[ce-s3.loc[mir,\"3' cleavage site\"]+1])"
   ]
  },
  {
   "cell_type": "code",
   "execution_count": 57,
   "metadata": {},
   "outputs": [],
   "source": [
    "comptypes = defaultdict(list)\n",
    "for mir in sorted(dcsmirs):\n",
    "    ivp5cs = ivpcs5[mir]\n",
    "    ivp3cs = ivpcs3[mir]\n",
    "    if mir in both293t.index:\n",
    "        fcl5cs = map(int, str(both293t.loc[mir, 'fCLIPPosition5p']).split(';'))\n",
    "        fcl3cs = map(int, str(both293t.loc[mir, 'fCLIPPosition3p']).split(';'))\n",
    "    elif mir in bothhela.index:\n",
    "        fcl5cs = map(int, str(bothhela.loc[mir, 'fCLIPPosition5p']).split(';'))\n",
    "        fcl3cs = map(int, str(bothhela.loc[mir, 'fCLIPPosition3p']).split(';'))\n",
    "    else:\n",
    "        continue\n",
    "    \n",
    "    if ivp5cs and fcl5cs:\n",
    "        if set(ivp5cs)==set(fcl5cs):\n",
    "            comptypes['I'].append(mir)\n",
    "        elif set(ivp5cs)>=set(fcl5cs):\n",
    "            comptypes['II'].append(mir)\n",
    "        elif set(fcl5cs)>=set(ivp5cs):\n",
    "            comptypes['III'].append(mir)\n",
    "        else:\n",
    "            comptypes['IV'].append(mir)"
   ]
  },
  {
   "cell_type": "code",
   "execution_count": 58,
   "metadata": {},
   "outputs": [
    {
     "name": "stdout",
     "output_type": "stream",
     "text": [
      "I 153\n",
      "II 6\n",
      "III 8\n",
      "IV 21\n"
     ]
    }
   ],
   "source": [
    "for t in 'I II III IV'.split():\n",
    "    print t, len(comptypes[t])"
   ]
  },
  {
   "cell_type": "markdown",
   "metadata": {},
   "source": [
    "## E. Quantitative comparison"
   ]
  },
  {
   "cell_type": "code",
   "execution_count": 59,
   "metadata": {},
   "outputs": [
    {
     "data": {
      "text/html": [
       "<div>\n",
       "<style scoped>\n",
       "    .dataframe tbody tr th:only-of-type {\n",
       "        vertical-align: middle;\n",
       "    }\n",
       "\n",
       "    .dataframe tbody tr th {\n",
       "        vertical-align: top;\n",
       "    }\n",
       "\n",
       "    .dataframe thead th {\n",
       "        text-align: right;\n",
       "    }\n",
       "</style>\n",
       "<table border=\"1\" class=\"dataframe\">\n",
       "  <thead>\n",
       "    <tr style=\"text-align: right;\">\n",
       "      <th></th>\n",
       "      <th>chr</th>\n",
       "      <th>start</th>\n",
       "      <th>end</th>\n",
       "      <th>rname</th>\n",
       "      <th>miRNA</th>\n",
       "      <th>strand</th>\n",
       "    </tr>\n",
       "  </thead>\n",
       "  <tbody>\n",
       "    <tr>\n",
       "      <th>0</th>\n",
       "      <td>chr1</td>\n",
       "      <td>17311</td>\n",
       "      <td>17415</td>\n",
       "      <td>MG00HS17:985:HV7GYBCXX:2:1107:14995:57900</td>\n",
       "      <td>hsa-mir-6859-1</td>\n",
       "      <td>-</td>\n",
       "    </tr>\n",
       "  </tbody>\n",
       "</table>\n",
       "</div>"
      ],
      "text/plain": [
       "    chr  start    end                                      rname  \\\n",
       "0  chr1  17311  17415  MG00HS17:985:HV7GYBCXX:2:1107:14995:57900   \n",
       "\n",
       "            miRNA strand  \n",
       "0  hsa-mir-6859-1      -  "
      ]
     },
     "execution_count": 59,
     "metadata": {},
     "output_type": "execute_result"
    }
   ],
   "source": [
    "bedcols = [ 'chr', 'start', 'end', 'rname', 'miRNA', 'strand' ]\n",
    "bedfile = 'supplementary/fCLIP/293T/293T_191115_genome-annot_1881-pris_mp1_sp1.bed.gz'\n",
    "ftbl = pd.read_table(gzip.open(bedfile,'rb'),usecols=[0,1,2,3,15,17],names=bedcols)\n",
    "ftbl['start']=ftbl['start']+1\n",
    "ftbl.head(1)"
   ]
  },
  {
   "cell_type": "code",
   "execution_count": 84,
   "metadata": {
    "scrolled": false
   },
   "outputs": [
    {
     "name": "stdout",
     "output_type": "stream",
     "text": [
      "312\n"
     ]
    }
   ],
   "source": [
    "rcut = 5\n",
    "pvivo = {}\n",
    "for mir in set(ftbl['miRNA']):\n",
    "    ps, pe, strand = get_pre_annot(mir)[1:4]\n",
    "    sub = ftbl[ftbl['miRNA']==mir]\n",
    "    if strand=='+':\n",
    "        sub = sub[sub['end'].apply(lambda x: x in range(ps-4,ps+3))]\n",
    "        if len(sub)>=rcut:\n",
    "            pvivo[mir] = [ len(sub[sub['end']==p])/len(sub) for p in range(ps-4,ps+3) ]\n",
    "    else:\n",
    "        sub = sub[sub['start'].apply(lambda x: x in range(pe-2,pe+5))]\n",
    "        if len(sub)>=rcut:\n",
    "            pvivo[mir] = [ len(sub[sub['start']==p])/len(sub) for p in range(pe-2,pe+5)[::-1] ]\n",
    "print len(pvivo)"
   ]
  },
  {
   "cell_type": "code",
   "execution_count": 62,
   "metadata": {},
   "outputs": [
    {
     "data": {
      "text/html": [
       "<div>\n",
       "<style scoped>\n",
       "    .dataframe tbody tr th:only-of-type {\n",
       "        vertical-align: middle;\n",
       "    }\n",
       "\n",
       "    .dataframe tbody tr th {\n",
       "        vertical-align: top;\n",
       "    }\n",
       "\n",
       "    .dataframe thead th {\n",
       "        text-align: right;\n",
       "    }\n",
       "</style>\n",
       "<table border=\"1\" class=\"dataframe\">\n",
       "  <thead>\n",
       "    <tr style=\"text-align: right;\">\n",
       "      <th></th>\n",
       "      <th>Pri-miRNA</th>\n",
       "      <th>rstart</th>\n",
       "      <th>rend</th>\n",
       "      <th>set1</th>\n",
       "      <th>set2</th>\n",
       "      <th>set3</th>\n",
       "      <th>set4</th>\n",
       "      <th>set5</th>\n",
       "    </tr>\n",
       "  </thead>\n",
       "  <tbody>\n",
       "    <tr>\n",
       "      <th>0</th>\n",
       "      <td>hsa-let-7a-1</td>\n",
       "      <td>1</td>\n",
       "      <td>8</td>\n",
       "      <td>4</td>\n",
       "      <td>4</td>\n",
       "      <td>0</td>\n",
       "      <td>0</td>\n",
       "      <td>0</td>\n",
       "    </tr>\n",
       "  </tbody>\n",
       "</table>\n",
       "</div>"
      ],
      "text/plain": [
       "      Pri-miRNA  rstart  rend  set1  set2  set3  set4  set5\n",
       "0  hsa-let-7a-1       1     8     4     4     0     0     0"
      ]
     },
     "execution_count": 62,
     "metadata": {},
     "output_type": "execute_result"
    }
   ],
   "source": [
    "clvraw = pd.read_csv('supplementary/201012_s4_cleavage-product.csv', header=1, index_col=[0,1,2])\n",
    "clvtbl = pd.DataFrame()\n",
    "for lib in LIBRARIES:\n",
    "    clvtbl[lib] = clvraw[['%s-1'%lib,'%s-2'%lib]].sum(axis=1)\n",
    "clvtbl = clvtbl.reset_index()\n",
    "clvtbl.head(1)"
   ]
  },
  {
   "cell_type": "code",
   "execution_count": 63,
   "metadata": {},
   "outputs": [],
   "source": [
    "start, mid, end = 1, 63, 125\n",
    "clv5f = clvtbl[(clvtbl['rstart']==start)&(clvtbl['rend']<mid)].set_index('Pri-miRNA')\n",
    "clv3f = clvtbl[(clvtbl['rstart']>mid)&(clvtbl['rend']==end)].set_index('Pri-miRNA')\n",
    "clvhn = clvtbl[(clvtbl['rstart']<mid)&(clvtbl['rend']>mid)]\n",
    "clvn5 = clvhn[clvhn['rstart']==start]\n",
    "clvn3 = clvhn[clvhn['rend']==end]\n",
    "clvh = clvhn.drop(clvn5.index).drop(clvn3.index).set_index('Pri-miRNA')\n",
    "clvn5 = clvn5.set_index('Pri-miRNA'); clvn3 = clvn3.set_index('Pri-miRNA')"
   ]
  },
  {
   "cell_type": "code",
   "execution_count": 64,
   "metadata": {},
   "outputs": [],
   "source": [
    "def fill_unfound(tbl):\n",
    "    found = set(tbl.index)\n",
    "    unfound = [ mir for mir in allpris if mir not in found ]\n",
    "    fill = pd.DataFrame(index=unfound, columns=tbl.columns).fillna(0)\n",
    "    return tbl.append(fill)"
   ]
  },
  {
   "cell_type": "code",
   "execution_count": 65,
   "metadata": {},
   "outputs": [],
   "source": [
    "clvtbl = fill_unfound(clvtbl.set_index('Pri-miRNA'))\n",
    "clv5f = fill_unfound(clv5f)\n",
    "clv3f = fill_unfound(clv3f)\n",
    "clvh = fill_unfound(clvh)\n",
    "clvn5 = fill_unfound(clvn5)\n",
    "clvn3 = fill_unfound(clvn3)"
   ]
  },
  {
   "cell_type": "code",
   "execution_count": 66,
   "metadata": {},
   "outputs": [],
   "source": [
    "def get_frac_5frag(mir):\n",
    "    sub = clv5f.loc[[mir]].set_index('rend')\n",
    "    return (sub/sub.sum())"
   ]
  },
  {
   "cell_type": "code",
   "execution_count": 68,
   "metadata": {},
   "outputs": [
    {
     "name": "stdout",
     "output_type": "stream",
     "text": [
      "292\n"
     ]
    }
   ],
   "source": [
    "rcut = 30\n",
    "pvitro = {}\n",
    "for mir in pvivo.keys():\n",
    "    ps, pe = preposition[mir]\n",
    "    sub = clv5f.loc[[mir]].set_index('rend').reindex(range(ps-4,ps+3)).fillna(0)['set1']\n",
    "    if sub.sum()>=rcut:\n",
    "        frac5 = sub/sub.sum()\n",
    "        pvitro[mir] = frac5.tolist()\n",
    "print len(pvitro)"
   ]
  },
  {
   "cell_type": "code",
   "execution_count": 85,
   "metadata": {},
   "outputs": [
    {
     "name": "stdout",
     "output_type": "stream",
     "text": [
      "182\n"
     ]
    }
   ],
   "source": [
    "ms = [ m for m in pvitro if m in dcsmirs ]\n",
    "print len(ms)\n",
    "klds = {}\n",
    "for m in ms:\n",
    "    p1s = pvivo[m]\n",
    "    p2s = pvitro[m]\n",
    "    kld = sum([p1*np.log(p1/p2) if p2>0 and p1>0 else 0 for p1,p2 in zip(p1s,p2s)])\n",
    "    klds[m] = kld"
   ]
  },
  {
   "cell_type": "code",
   "execution_count": 88,
   "metadata": {},
   "outputs": [
    {
     "name": "stdout",
     "output_type": "stream",
     "text": [
      "[7, 85, 129, 164] [0.006905837180821381, 0.0973886991601535, 0.2443950528086697, 0.9553861835218207] [179, 178] [3.387919213382165, 3.122854925126233]\n"
     ]
    }
   ],
   "source": [
    "sortms = sorted(ms, key=lambda x:klds[x])\n",
    "xs = range(len(ms))\n",
    "ys = [ klds[m] for m in sortms ]\n",
    "xs2 = [ sortms.index(m) for m in ['hsa-let-7a-1','hsa-let-7d','hsa-mir-10a','hsa-mir-30c-2'] ]\n",
    "ys2 = [ klds[m] for m in ['hsa-let-7a-1','hsa-let-7d','hsa-mir-10a','hsa-mir-30c-2'] ]\n",
    "xs3 = [ sortms.index(m) for m in ['hsa-mir-142','hsa-mir-17'] ]\n",
    "ys3 = [ klds[m] for m in ['hsa-mir-142','hsa-mir-17'] ]\n",
    "print xs2,ys2,xs3,ys3"
   ]
  },
  {
   "cell_type": "code",
   "execution_count": 94,
   "metadata": {},
   "outputs": [
    {
     "data": {
      "image/png": "[encoded data removed]",
      "text/plain": [
       "<matplotlib.figure.Figure at 0x7f2242614e50>"
      ]
     },
     "metadata": {},
     "output_type": "display_data"
    }
   ],
   "source": [
    "fig, ax = plt.subplots(1, 1, figsize=(3,2.5))\n",
    "ax.scatter(xs,ys,color='#646464',zorder=2,s=5,rasterized=True)\n",
    "ax.scatter(xs2,ys2,color='k',zorder=3,s=15,marker='o',rasterized=True)\n",
    "ax.scatter(xs3,ys3,color='#de2d26',zorder=3,s=15,marker='o',rasterized=True)\n",
    "ax.set_xlabel('Overlapping pri-miRNAs')\n",
    "ax.set_ylabel('Cleavage site change ($D_{KL}$)')\n",
    "ax.set_xlim(-5, len(ms)+1)\n",
    "ax.set_ylim(-.2,max(ys)+.1)\n",
    "ax.spines['bottom'].set_bounds(0,len(ms)+1)\n",
    "ax.spines['left'].set_bounds(0,max(ys)+.1)\n",
    "ax.grid(ls='-',lw=.5)\n",
    "fig.savefig(resultpath + '201123__f5e_quantitative_comparison.pdf',dpi=300)"
   ]
  },
  {
   "cell_type": "code",
   "execution_count": 91,
   "metadata": {},
   "outputs": [
    {
     "data": {
      "text/plain": [
       "['hsa-mir-597',\n",
       " 'hsa-mir-3115',\n",
       " 'hsa-mir-183',\n",
       " 'hsa-mir-584',\n",
       " 'hsa-mir-590',\n",
       " 'hsa-mir-191',\n",
       " 'hsa-mir-17',\n",
       " 'hsa-mir-142',\n",
       " 'hsa-mir-4691',\n",
       " 'hsa-mir-4321']"
      ]
     },
     "execution_count": 91,
     "metadata": {},
     "output_type": "execute_result"
    }
   ],
   "source": [
    "sortms[-10:]"
   ]
  },
  {
   "cell_type": "code",
   "execution_count": null,
   "metadata": {},
   "outputs": [],
   "source": []
  },
  {
   "cell_type": "code",
   "execution_count": null,
   "metadata": {},
   "outputs": [],
   "source": []
  },
  {
   "cell_type": "code",
   "execution_count": null,
   "metadata": {},
   "outputs": [],
   "source": []
  }
 ],
 "metadata": {
  "kernelspec": {
   "display_name": "Python 2",
   "language": "python",
   "name": "python2"
  },
  "language_info": {
   "codemirror_mode": {
    "name": "ipython",
    "version": 2
   },
   "file_extension": ".py",
   "mimetype": "text/x-python",
   "name": "python",
   "nbconvert_exporter": "python",
   "pygments_lexer": "ipython2",
   "version": "2.7.18"
  }
 },
 "nbformat": 4,
 "nbformat_minor": 2
}
