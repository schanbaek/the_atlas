{
 "cells": [
  {
   "cell_type": "markdown",
   "metadata": {},
   "source": [
    "# Supplementary Table 2. Pri-miRNA constructs"
   ]
  },
  {
   "cell_type": "code",
   "execution_count": 1,
   "metadata": {},
   "outputs": [
    {
     "name": "stdout",
     "output_type": "stream",
     "text": [
      "Last revised by Seungchan Baek at 2021-01-20.\n"
     ]
    }
   ],
   "source": [
    "import time\n",
    "today = time.strftime('%Y-%m-%d')\n",
    "name = 'Seungchan Baek'\n",
    "print 'Last revised by %s at %s.' % (name, today)"
   ]
  },
  {
   "cell_type": "code",
   "execution_count": 2,
   "metadata": {},
   "outputs": [
    {
     "name": "stdout",
     "output_type": "stream",
     "text": [
      "/casa/bsc/projects/1_DCS/2004_paper_prep\n"
     ]
    }
   ],
   "source": [
    "home = '/casa/bsc/projects/1_DCS/2004_paper_prep/'\n",
    "%cd $home"
   ]
  },
  {
   "cell_type": "code",
   "execution_count": 3,
   "metadata": {},
   "outputs": [],
   "source": [
    "from __future__ import division\n",
    "from Bio import SeqIO\n",
    "from collections import defaultdict\n",
    "from os import listdir\n",
    "from matplotlib import pyplot as plt\n",
    "import pandas as pd\n",
    "import numpy as np\n",
    "import gzip\n",
    "%matplotlib inline"
   ]
  },
  {
   "cell_type": "code",
   "execution_count": 31,
   "metadata": {},
   "outputs": [
    {
     "data": {
      "text/html": [
       "<div>\n",
       "<style scoped>\n",
       "    .dataframe tbody tr th:only-of-type {\n",
       "        vertical-align: middle;\n",
       "    }\n",
       "\n",
       "    .dataframe tbody tr th {\n",
       "        vertical-align: top;\n",
       "    }\n",
       "\n",
       "    .dataframe thead th {\n",
       "        text-align: right;\n",
       "    }\n",
       "</style>\n",
       "<table border=\"1\" class=\"dataframe\">\n",
       "  <thead>\n",
       "    <tr style=\"text-align: right;\">\n",
       "      <th></th>\n",
       "      <th>Chr</th>\n",
       "      <th>Start</th>\n",
       "      <th>End</th>\n",
       "      <th>Strand</th>\n",
       "      <th>Construct sequence (125 nt)</th>\n",
       "      <th>5' flanking segment</th>\n",
       "      <th>Pre-miRNA</th>\n",
       "      <th>3' flanking segment</th>\n",
       "    </tr>\n",
       "    <tr>\n",
       "      <th>Pri-miRNA</th>\n",
       "      <th></th>\n",
       "      <th></th>\n",
       "      <th></th>\n",
       "      <th></th>\n",
       "      <th></th>\n",
       "      <th></th>\n",
       "      <th></th>\n",
       "      <th></th>\n",
       "    </tr>\n",
       "  </thead>\n",
       "  <tbody>\n",
       "  </tbody>\n",
       "</table>\n",
       "</div>"
      ],
      "text/plain": [
       "Empty DataFrame\n",
       "Columns: [Chr, Start, End, Strand, Construct sequence (125 nt), 5' flanking segment, Pre-miRNA, 3' flanking segment]\n",
       "Index: []"
      ]
     },
     "execution_count": 31,
     "metadata": {},
     "output_type": "execute_result"
    }
   ],
   "source": [
    "cols = ['Pri-miRNA', 'Chr', 'Start', 'End', 'Strand', 'Construct sequence (125 nt)',\n",
    "        \"5' flanking segment\", 'Pre-miRNA', \"3' flanking segment\"]\n",
    "tbl = pd.DataFrame(columns=cols).set_index('Pri-miRNA')\n",
    "tbl.head(1)"
   ]
  },
  {
   "cell_type": "markdown",
   "metadata": {},
   "source": [
    "---"
   ]
  },
  {
   "cell_type": "code",
   "execution_count": 5,
   "metadata": {},
   "outputs": [],
   "source": [
    "## encode miRBase structure\n",
    "strfile = 'supplementary/mirbase-v21.str'\n",
    "strinfos = defaultdict(list)\n",
    "mir = ''\n",
    "for l in open(strfile, 'rt'):\n",
    "    if l.startswith('>'):\n",
    "        mir = l.split()[0][1:]\n",
    "    else:\n",
    "        strinfos[mir].append(l.replace('\\n',''))"
   ]
  },
  {
   "cell_type": "code",
   "execution_count": 6,
   "metadata": {},
   "outputs": [],
   "source": [
    "def concat_seq(infos, nucs):\n",
    "    ss5, ds5, match, ds3, ss3 = infos\n",
    "    seq = ''\n",
    "    if ds5[0] in nucs:\n",
    "        ss5 = '- '+ss5\n",
    "    if ds3[0] in nucs:\n",
    "        ss3 = '- '+ss3\n",
    "        \n",
    "    for s5, d5 in zip(ss5.split(), ds5.split()):\n",
    "        seq += s5+d5\n",
    "    seq += match[-1]\n",
    "    for d3, s3 in zip(ds3.split()[::-1], ss3.split()[::-1]):\n",
    "        seq += d3[::-1]+s3[::-1]    \n",
    "    seq = seq.replace('-','').replace('|','').replace(' ','')\n",
    "    return seq"
   ]
  },
  {
   "cell_type": "code",
   "execution_count": 7,
   "metadata": {},
   "outputs": [
    {
     "name": "stdout",
     "output_type": "stream",
     "text": [
      "gucagcagugccuUAGCAGCACGUAAAUAUUGGCGuuaagauucuaaaauuaucuCCAGUAUUAACUGUGCUGCUGAaguaagguugac\n"
     ]
    }
   ],
   "source": [
    "mir = 'hsa-mir-16-1'\n",
    "info = strinfos[mir]\n",
    "print concat_seq(info[1:6], 'ACGUacgu')"
   ]
  },
  {
   "cell_type": "code",
   "execution_count": 8,
   "metadata": {},
   "outputs": [],
   "source": [
    "def get_new_str(mir):\n",
    "    nucs = 'ACGUacgu'\n",
    "    ss5, ds5, match, ds3, ss3 = strinfos[mir][1:6]\n",
    "    newinfo = [ '', '', '', '', '' ]\n",
    "    \n",
    "    for ss, ssnew, oppo, index in [ (ss5,'',ss3,0), (ss3,'',ss5,4) ]:\n",
    "        for i,s in enumerate(ss):\n",
    "            if s in nucs and i<match.find('|'): ssnew += 'F'\n",
    "            elif s in nucs and i>match.rfind('|'): ssnew += 'L'\n",
    "            elif s in nucs and oppo[i] in nucs: ssnew += 'S'\n",
    "            elif s in nucs: ssnew += 'A'\n",
    "            else: ssnew += s\n",
    "        newinfo[index] = ssnew\n",
    "    \n",
    "    for ds, dsnew, index in [ (ds5,'',1), (ds3,'',3) ]:\n",
    "        for i,s in enumerate(ds):\n",
    "            if s in nucs and i>match.rfind('|'): dsnew += 'L'\n",
    "            elif s in nucs: dsnew += 'M'\n",
    "            else: dsnew += s\n",
    "        newinfo[index] = dsnew\n",
    "    \n",
    "    if match[-1] in nucs: newinfo[2] = match[:-1] + 'L'\n",
    "    else: newinfo[2] = match   \n",
    "    return concat_seq(newinfo, 'FLSAM')"
   ]
  },
  {
   "cell_type": "code",
   "execution_count": 9,
   "metadata": {},
   "outputs": [
    {
     "name": "stdout",
     "output_type": "stream",
     "text": [
      "MMMMMMSSMMMSMMMMMMMMMMMMSMMMMMMMMSMSMMMLLLLLLLLLLMMMSMSMMMMMMMMSMMAMMMMMMMMMMSMMMSSMMMMMM\n"
     ]
    }
   ],
   "source": [
    "mir = 'hsa-mir-16-1'\n",
    "print get_new_str(mir)"
   ]
  },
  {
   "cell_type": "code",
   "execution_count": 10,
   "metadata": {},
   "outputs": [],
   "source": [
    "## Find pre-miRNA annotation\n",
    "def parse_line(row):\n",
    "    for s in row['attr'].split(';'):\n",
    "        tag, value = s.split('=')\n",
    "        row[tag] = value\n",
    "    return row"
   ]
  },
  {
   "cell_type": "code",
   "execution_count": 11,
   "metadata": {},
   "outputs": [
    {
     "data": {
      "text/html": [
       "<div>\n",
       "<style scoped>\n",
       "    .dataframe tbody tr th:only-of-type {\n",
       "        vertical-align: middle;\n",
       "    }\n",
       "\n",
       "    .dataframe tbody tr th {\n",
       "        vertical-align: top;\n",
       "    }\n",
       "\n",
       "    .dataframe thead th {\n",
       "        text-align: right;\n",
       "    }\n",
       "</style>\n",
       "<table border=\"1\" class=\"dataframe\">\n",
       "  <thead>\n",
       "    <tr style=\"text-align: right;\">\n",
       "      <th></th>\n",
       "      <th>Alias</th>\n",
       "      <th>Derives_from</th>\n",
       "      <th>ID</th>\n",
       "      <th>Name</th>\n",
       "      <th>chr</th>\n",
       "      <th>end</th>\n",
       "      <th>kind</th>\n",
       "      <th>start</th>\n",
       "      <th>strand</th>\n",
       "    </tr>\n",
       "  </thead>\n",
       "  <tbody>\n",
       "    <tr>\n",
       "      <th>0</th>\n",
       "      <td>MI0022705</td>\n",
       "      <td>NaN</td>\n",
       "      <td>MI0022705</td>\n",
       "      <td>hsa-mir-6859-1</td>\n",
       "      <td>chr1</td>\n",
       "      <td>17436</td>\n",
       "      <td>miRNA_primary_transcript</td>\n",
       "      <td>17369</td>\n",
       "      <td>-</td>\n",
       "    </tr>\n",
       "    <tr>\n",
       "      <th>1</th>\n",
       "      <td>MIMAT0027618</td>\n",
       "      <td>MI0022705</td>\n",
       "      <td>MIMAT0027618</td>\n",
       "      <td>hsa-miR-6859-5p</td>\n",
       "      <td>chr1</td>\n",
       "      <td>17431</td>\n",
       "      <td>miRNA</td>\n",
       "      <td>17409</td>\n",
       "      <td>-</td>\n",
       "    </tr>\n",
       "    <tr>\n",
       "      <th>2</th>\n",
       "      <td>MIMAT0027619</td>\n",
       "      <td>MI0022705</td>\n",
       "      <td>MIMAT0027619</td>\n",
       "      <td>hsa-miR-6859-3p</td>\n",
       "      <td>chr1</td>\n",
       "      <td>17391</td>\n",
       "      <td>miRNA</td>\n",
       "      <td>17369</td>\n",
       "      <td>-</td>\n",
       "    </tr>\n",
       "  </tbody>\n",
       "</table>\n",
       "</div>"
      ],
      "text/plain": [
       "          Alias Derives_from            ID             Name   chr    end  \\\n",
       "0     MI0022705          NaN     MI0022705   hsa-mir-6859-1  chr1  17436   \n",
       "1  MIMAT0027618    MI0022705  MIMAT0027618  hsa-miR-6859-5p  chr1  17431   \n",
       "2  MIMAT0027619    MI0022705  MIMAT0027619  hsa-miR-6859-3p  chr1  17391   \n",
       "\n",
       "                       kind  start strand  \n",
       "0  miRNA_primary_transcript  17369      -  \n",
       "1                     miRNA  17409      -  \n",
       "2                     miRNA  17369      -  "
      ]
     },
     "execution_count": 11,
     "metadata": {},
     "output_type": "execute_result"
    }
   ],
   "source": [
    "# miBRase v21 gff file\n",
    "gff = 'supplementary/human_mirbase-v21.gff3'\n",
    "anntbl = pd.read_table(gff, header=12, sep='\\t', usecols=[0,2,3,4,6,8], \n",
    "                       names=['chr','kind','start','end','strand','attr'])\n",
    "anntbl = anntbl.apply(parse_line, axis=1).drop(['attr'], axis=1)\n",
    "anntbl.head(3)"
   ]
  },
  {
   "cell_type": "code",
   "execution_count": 12,
   "metadata": {
    "scrolled": true
   },
   "outputs": [
    {
     "name": "stdout",
     "output_type": "stream",
     "text": [
      "1881\n"
     ]
    }
   ],
   "source": [
    "annpri = anntbl[anntbl['kind']=='miRNA_primary_transcript'].set_index('Name')\n",
    "annmat = anntbl[anntbl['kind']=='miRNA'].set_index('ID')\n",
    "allpris = sorted(annpri.index)\n",
    "print len(allpris)"
   ]
  },
  {
   "cell_type": "code",
   "execution_count": 13,
   "metadata": {},
   "outputs": [],
   "source": [
    "# pri-mature matching\n",
    "primat = {}\n",
    "for pri, row in annpri.iterrows():\n",
    "    matureDerives = anntbl[anntbl['Derives_from']==row['ID']]\n",
    "    primat[pri] = matureDerives['ID'].tolist()"
   ]
  },
  {
   "cell_type": "code",
   "execution_count": 14,
   "metadata": {},
   "outputs": [
    {
     "name": "stdout",
     "output_type": "stream",
     "text": [
      "28645\n"
     ]
    }
   ],
   "source": [
    "# hairpin sequence\n",
    "pri = 'supplementary/hairpin_mirbase-v21.fa'\n",
    "priseqs = { s.id:str(s.seq) for s in SeqIO.parse(pri, 'fasta') }\n",
    "print len(priseqs)"
   ]
  },
  {
   "cell_type": "code",
   "execution_count": 15,
   "metadata": {},
   "outputs": [],
   "source": [
    "def count_len(strt):\n",
    "    return strt.count('M')+strt.count('S')"
   ]
  },
  {
   "cell_type": "code",
   "execution_count": 16,
   "metadata": {},
   "outputs": [],
   "source": [
    "def get_pre_seq(pri, relativepos, arm):\n",
    "    overhang3 = 2\n",
    "    priseq = priseqs[pri]\n",
    "    pristr = get_new_str(pri)\n",
    "    if arm=='5p':\n",
    "        preend = [ i for i in range(len(pristr)+1) \n",
    "            if count_len(pristr[i:])<=max(0,count_len(pristr[:relativepos-1])-overhang3) ][0]\n",
    "        return priseq[relativepos-1:preend]\n",
    "    else: # 3p\n",
    "        prestart = [ i+1 for i in range(len(pristr))\n",
    "                     if count_len(pristr[:i])>=count_len(pristr[relativepos:])+overhang3 ][0]\n",
    "        return priseq[prestart-1:relativepos]"
   ]
  },
  {
   "cell_type": "code",
   "execution_count": 17,
   "metadata": {},
   "outputs": [],
   "source": [
    "def get_pre_annot(pri):\n",
    "    matids = primat[pri]\n",
    "    chrom, strand = annpri.loc[pri, ['chr','strand']]\n",
    "    if len(matids)==2:\n",
    "        start = min(annmat.loc[matids, 'start'])\n",
    "        end = max(annmat.loc[matids, 'end'])\n",
    "    elif strand=='+':\n",
    "        pristart, priend = annpri.loc[pri, ['start','end']]\n",
    "        matstart, matend = annmat.loc[matids[0], ['start','end']]\n",
    "        if (matstart-pristart)<(priend-matend): # 5p\n",
    "            start = matstart\n",
    "            end = matstart + len(get_pre_seq(pri, matstart-pristart+1, '5p')) - 1\n",
    "        else: # 3p\n",
    "            end = matend\n",
    "            start = matend - len(get_pre_seq(pri, matend-pristart+1, '3p')) + 1\n",
    "    else: # strand=='-'\n",
    "        pristart, priend = annpri.loc[pri, ['start','end']]\n",
    "        matstart, matend = annmat.loc[matids[0], ['start','end']]\n",
    "        if (matstart-pristart)<(priend-matend): # 3p\n",
    "            start = matstart\n",
    "            end = matstart + len(get_pre_seq(pri, priend-matstart+1, '3p')) - 1\n",
    "        else: # 5p\n",
    "            end = matend\n",
    "            start = matend - len(get_pre_seq(pri, priend-matend+1, '5p')) + 1\n",
    "    return chrom, start, end, strand"
   ]
  },
  {
   "cell_type": "code",
   "execution_count": 18,
   "metadata": {},
   "outputs": [
    {
     "name": "stdout",
     "output_type": "stream",
     "text": [
      "('chr15', 45433060, 45433119, '+')\n"
     ]
    }
   ],
   "source": [
    "pri = 'hsa-mir-147b'\n",
    "print get_pre_annot(pri)"
   ]
  },
  {
   "cell_type": "code",
   "execution_count": 19,
   "metadata": {},
   "outputs": [],
   "source": [
    "def rev_com_dna(seq):\n",
    "    seq = seq.upper()\n",
    "    seq = seq.replace('T', 'X')\n",
    "    seq = seq.replace('A', 'T')\n",
    "    seq = seq.replace('X', 'A')\n",
    "    seq = seq.replace('G', 'Y')\n",
    "    seq = seq.replace('C', 'G')\n",
    "    seq = seq.replace('Y', 'C')\n",
    "    return seq[::-1]"
   ]
  },
  {
   "cell_type": "code",
   "execution_count": 20,
   "metadata": {},
   "outputs": [],
   "source": [
    "genome = {}\n",
    "genomef = 'supplementary/hg38.fa.gz'\n",
    "for g in SeqIO.parse(gzip.open(genomef, 'rb'), 'fasta'):\n",
    "    genome[g.id] = str(g.seq)"
   ]
  },
  {
   "cell_type": "code",
   "execution_count": 21,
   "metadata": {},
   "outputs": [],
   "source": [
    "adjust = {}\n",
    "for l in open('supplementary/200414_construct_adjust.txt', 'rt'):\n",
    "    pri, adj = l.split()\n",
    "    adjust[pri] = int(adj)"
   ]
  },
  {
   "cell_type": "code",
   "execution_count": 24,
   "metadata": {},
   "outputs": [],
   "source": [
    "manualannot = { 'hsa-mir-103b-1':(30,94), 'hsa-mir-103b-2':(30,94),\n",
    "                'hsa-mir-130a':(26,88), 'hsa-mir-452':(28,89) }"
   ]
  },
  {
   "cell_type": "code",
   "execution_count": 32,
   "metadata": {},
   "outputs": [
    {
     "name": "stdout",
     "output_type": "stream",
     "text": [
      "hsa-mir-3648-1\n",
      "hsa-mir-3648-2\n",
      "hsa-mir-3652\n",
      "hsa-mir-3976\n",
      "hsa-mir-6753\n"
     ]
    }
   ],
   "source": [
    "extend5, extend3 = 60, 65\n",
    "for pri in allpris:\n",
    "    chrom, pstart, pend, strand = get_pre_annot(pri)\n",
    "    preseq = genome[chrom][pstart-1:pend].upper()\n",
    "    if strand=='+':\n",
    "        pmid = (pstart+pend)//2 + adjust[pri]\n",
    "        cstart, cend = pmid-extend5+1, pmid+extend3\n",
    "        constructseq = genome[chrom][cstart-1:cend].upper()       \n",
    "    else:\n",
    "        pmid = (pstart+pend+1)//2 + adjust[pri]\n",
    "        cstart, cend = pmid-extend3+1, pmid+extend5\n",
    "        constructseq = rev_com_dna(genome[chrom][cstart-1:cend].upper())\n",
    "        preseq = rev_com_dna(preseq)\n",
    "    \n",
    "    \n",
    "    if constructseq.find(preseq)>=0:\n",
    "        ps = constructseq.find(preseq)\n",
    "        pe = constructseq.find(preseq)+len(preseq)\n",
    "    else:\n",
    "        print pri\n",
    "        ps,pe = 0,125\n",
    "    if pri in manualannot:\n",
    "        ps,pe = manualannot[pri]\n",
    "        \n",
    "    flank5 = constructseq[:ps].replace('T','U')\n",
    "    flank3 = constructseq[pe:].replace('T','U')\n",
    "    preseq = preseq.replace('T','U')\n",
    "    \n",
    "    tbl.loc[pri,'Chr'] = chrom\n",
    "    tbl.loc[pri,'Start'] = cstart\n",
    "    tbl.loc[pri,'End'] = cend\n",
    "    tbl.loc[pri,'Strand'] = strand\n",
    "    tbl.loc[pri,'Construct sequence (125 nt)'] = constructseq\n",
    "    tbl.loc[pri,\"5' flanking segment\"] = flank5\n",
    "    tbl.loc[pri,\"3' flanking segment\"] = flank3\n",
    "    tbl.loc[pri,\"Pre-miRNA\"] = preseq"
   ]
  },
  {
   "cell_type": "code",
   "execution_count": 33,
   "metadata": {},
   "outputs": [],
   "source": [
    "tbl.to_csv('resources/200120_s2__Construct.csv')"
   ]
  },
  {
   "cell_type": "code",
   "execution_count": 34,
   "metadata": {},
   "outputs": [],
   "source": [
    "out = open('supplementary/TableS2__Oligonucleotides_used_in_this_study.csv', 'wt')\n",
    "description = 'Supplementary Table 2. Pri-miRNA construct\\n\\n\\n\\n\\n'\n",
    "out.write(description)\n",
    "for l in open('resources/200120_s2__Construct.csv', 'rt'):\n",
    "    out.write(l)\n",
    "out.close()"
   ]
  },
  {
   "cell_type": "code",
   "execution_count": null,
   "metadata": {},
   "outputs": [],
   "source": []
  }
 ],
 "metadata": {
  "kernelspec": {
   "display_name": "Python 2",
   "language": "python",
   "name": "python2"
  },
  "language_info": {
   "codemirror_mode": {
    "name": "ipython",
    "version": 2
   },
   "file_extension": ".py",
   "mimetype": "text/x-python",
   "name": "python",
   "nbconvert_exporter": "python",
   "pygments_lexer": "ipython2",
   "version": "2.7.18"
  }
 },
 "nbformat": 4,
 "nbformat_minor": 2
}
