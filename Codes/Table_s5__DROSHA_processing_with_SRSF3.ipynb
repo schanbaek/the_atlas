{
 "cells": [
  {
   "cell_type": "markdown",
   "metadata": {},
   "source": [
    "# Supplementary Table 5. DROSHA processing with SRSF3\n",
    "---"
   ]
  },
  {
   "cell_type": "code",
   "execution_count": 1,
   "metadata": {},
   "outputs": [
    {
     "name": "stdout",
     "output_type": "stream",
     "text": [
      "Last revised by Seungchan Baek at 2021-01-12.\n"
     ]
    }
   ],
   "source": [
    "import time\n",
    "today = time.strftime('%Y-%m-%d')\n",
    "name = 'Seungchan Baek'\n",
    "print 'Last revised by %s at %s.' % (name, today)"
   ]
  },
  {
   "cell_type": "code",
   "execution_count": 2,
   "metadata": {},
   "outputs": [
    {
     "name": "stdout",
     "output_type": "stream",
     "text": [
      "/casa/bsc/projects/1_DCS/2004_paper_prep\n"
     ]
    }
   ],
   "source": [
    "home = '/casa/bsc/projects/1_DCS/2004_paper_prep/'\n",
    "%cd $home"
   ]
  },
  {
   "cell_type": "code",
   "execution_count": 3,
   "metadata": {},
   "outputs": [],
   "source": [
    "utilpath = '/casa/bsc/notebooks/'\n",
    "import sys; sys.path.append(utilpath)\n",
    "from util import *"
   ]
  },
  {
   "cell_type": "code",
   "execution_count": 4,
   "metadata": {},
   "outputs": [
    {
     "name": "stdout",
     "output_type": "stream",
     "text": [
      "resultpath: results/210112/\n"
     ]
    }
   ],
   "source": [
    "from basic import gen_result_dir\n",
    "resultpath = gen_result_dir('results/')\n",
    "print 'resultpath:', resultpath"
   ]
  },
  {
   "cell_type": "code",
   "execution_count": 5,
   "metadata": {},
   "outputs": [],
   "source": [
    "from __future__ import division\n",
    "import pandas as pd\n",
    "import numpy as np\n",
    "import re\n",
    "import gzip\n",
    "from scipy.stats import pearsonr, spearmanr\n",
    "from matplotlib import pyplot as plt\n",
    "from collections import defaultdict, Counter\n",
    "%matplotlib inline"
   ]
  },
  {
   "cell_type": "code",
   "execution_count": 6,
   "metadata": {},
   "outputs": [],
   "source": [
    "s1 = pd.read_csv('supplementary/201123_s1__DROSHA_dependency.csv', header=1, index_col=0)\n",
    "s2 = pd.read_csv('supplementary/201123_s2__Construct.csv', header=1, index_col=0).fillna('')"
   ]
  },
  {
   "cell_type": "code",
   "execution_count": 52,
   "metadata": {},
   "outputs": [
    {
     "name": "stdout",
     "output_type": "stream",
     "text": [
      "1881 (32, 90)\n"
     ]
    }
   ],
   "source": [
    "preposition = {}\n",
    "for mir in s2.index:\n",
    "    flank5, flank3 = s2.loc[mir,[\"5' flanking segment\",\"3' flanking segment\"]]\n",
    "    if flank5 or flank3:\n",
    "        preposition[mir] = (len(flank5)+1,125-len(flank3))\n",
    "    else:\n",
    "        preposition[mir] = (0,126)\n",
    "preposition['hsa-mir-103b-1'] = (31,94)\n",
    "preposition['hsa-mir-103b-2'] = (31,94)\n",
    "preposition['hsa-mir-130a'] = (27,88)\n",
    "preposition['hsa-mir-452'] = (29,89)\n",
    "print len(preposition), preposition['hsa-mir-142']"
   ]
  },
  {
   "cell_type": "code",
   "execution_count": 8,
   "metadata": {},
   "outputs": [
    {
     "name": "stdout",
     "output_type": "stream",
     "text": [
      "25\n"
     ]
    }
   ],
   "source": [
    "tmp = pd.read_csv('supplementary/201012_s2_pri-construct.csv', index_col=0, header=1)\n",
    "redund = tmp[tmp['Note'].apply(lambda x: str(x).find('Same construct')>=0)]\n",
    "repreRedund = defaultdict(list)\n",
    "for pri, note in dict(redund['Note']).items():\n",
    "    repre = note.split()[-1]\n",
    "    repreRedund[repre].append(pri)\n",
    "print len(repreRedund)"
   ]
  },
  {
   "cell_type": "code",
   "execution_count": 9,
   "metadata": {
    "scrolled": true
   },
   "outputs": [
    {
     "name": "stdout",
     "output_type": "stream",
     "text": [
      "1881\n"
     ]
    }
   ],
   "source": [
    "constseqs = dict(s2['Construct sequence (125 nt)'])\n",
    "print len(constseqs)"
   ]
  },
  {
   "cell_type": "code",
   "execution_count": 10,
   "metadata": {},
   "outputs": [],
   "source": [
    "LIBRARIES = ['cleaved_1','cleaved_2']"
   ]
  },
  {
   "cell_type": "markdown",
   "metadata": {},
   "source": [
    "---\n",
    "### Cleavage Efficiency"
   ]
  },
  {
   "cell_type": "code",
   "execution_count": 11,
   "metadata": {},
   "outputs": [],
   "source": [
    "datapath = '../2009_srsf3_hiseq/alignments'\n",
    "RCUTOFF = 30"
   ]
  },
  {
   "cell_type": "code",
   "execution_count": 12,
   "metadata": {},
   "outputs": [],
   "source": [
    "#inptbl.to_csv('%s/input_counts.csv'%datapath)\n",
    "inptbl = pd.read_csv('%s/input_counts.csv'%datapath,index_col=0)"
   ]
  },
  {
   "cell_type": "code",
   "execution_count": 13,
   "metadata": {},
   "outputs": [],
   "source": [
    "for pri in inptbl.index:\n",
    "    if pri in repreRedund:\n",
    "        for pri2 in repreRedund[pri]:\n",
    "            inptbl.loc[pri2] = inptbl.loc[pri]\n",
    "inptbl = inptbl.sort_index()\n",
    "inptbl.columns = LIBRARIES"
   ]
  },
  {
   "cell_type": "code",
   "execution_count": 14,
   "metadata": {},
   "outputs": [
    {
     "data": {
      "text/html": [
       "<div>\n",
       "<style scoped>\n",
       "    .dataframe tbody tr th:only-of-type {\n",
       "        vertical-align: middle;\n",
       "    }\n",
       "\n",
       "    .dataframe tbody tr th {\n",
       "        vertical-align: top;\n",
       "    }\n",
       "\n",
       "    .dataframe thead th {\n",
       "        text-align: right;\n",
       "    }\n",
       "</style>\n",
       "<table border=\"1\" class=\"dataframe\">\n",
       "  <thead>\n",
       "    <tr style=\"text-align: right;\">\n",
       "      <th></th>\n",
       "      <th>Pri-miRNA</th>\n",
       "      <th>rstart</th>\n",
       "      <th>rend</th>\n",
       "      <th>cleaved_1</th>\n",
       "      <th>cleaved_2</th>\n",
       "    </tr>\n",
       "  </thead>\n",
       "  <tbody>\n",
       "    <tr>\n",
       "      <th>0</th>\n",
       "      <td>hsa-let-7a-1</td>\n",
       "      <td>1</td>\n",
       "      <td>7</td>\n",
       "      <td>0.0</td>\n",
       "      <td>5.0</td>\n",
       "    </tr>\n",
       "    <tr>\n",
       "      <th>1</th>\n",
       "      <td>hsa-let-7a-1</td>\n",
       "      <td>1</td>\n",
       "      <td>8</td>\n",
       "      <td>0.0</td>\n",
       "      <td>3.0</td>\n",
       "    </tr>\n",
       "    <tr>\n",
       "      <th>2</th>\n",
       "      <td>hsa-let-7a-1</td>\n",
       "      <td>1</td>\n",
       "      <td>9</td>\n",
       "      <td>21.0</td>\n",
       "      <td>19.0</td>\n",
       "    </tr>\n",
       "    <tr>\n",
       "      <th>3</th>\n",
       "      <td>hsa-let-7a-1</td>\n",
       "      <td>1</td>\n",
       "      <td>10</td>\n",
       "      <td>12.0</td>\n",
       "      <td>27.0</td>\n",
       "    </tr>\n",
       "    <tr>\n",
       "      <th>4</th>\n",
       "      <td>hsa-let-7a-1</td>\n",
       "      <td>1</td>\n",
       "      <td>11</td>\n",
       "      <td>44.0</td>\n",
       "      <td>39.0</td>\n",
       "    </tr>\n",
       "  </tbody>\n",
       "</table>\n",
       "</div>"
      ],
      "text/plain": [
       "      Pri-miRNA  rstart  rend  cleaved_1  cleaved_2\n",
       "0  hsa-let-7a-1       1     7        0.0        5.0\n",
       "1  hsa-let-7a-1       1     8        0.0        3.0\n",
       "2  hsa-let-7a-1       1     9       21.0       19.0\n",
       "3  hsa-let-7a-1       1    10       12.0       27.0\n",
       "4  hsa-let-7a-1       1    11       44.0       39.0"
      ]
     },
     "execution_count": 14,
     "metadata": {},
     "output_type": "execute_result"
    }
   ],
   "source": [
    "#clvtbl.to_csv('%s/cleaved_count.csv'%datapath)\n",
    "clvtbl = pd.read_csv('resources/210105_clvs_srsf3.csv',index_col=0)\n",
    "clvtbl.head()"
   ]
  },
  {
   "cell_type": "code",
   "execution_count": 15,
   "metadata": {},
   "outputs": [],
   "source": [
    "WINDOW = 3\n",
    "INVERTED = 11"
   ]
  },
  {
   "cell_type": "code",
   "execution_count": 16,
   "metadata": {},
   "outputs": [],
   "source": [
    "inptbl['cleaved'] = inptbl['cleaved_1']+inptbl['cleaved_2']\n",
    "clvtbl['cleaved'] = clvtbl['cleaved_1']+clvtbl['cleaved_2']"
   ]
  },
  {
   "cell_type": "code",
   "execution_count": 17,
   "metadata": {},
   "outputs": [],
   "source": [
    "start, mid, end = 1, 63, 125\n",
    "clv5f = clvtbl[(clvtbl['rstart']==start)&(clvtbl['rend']<mid)].set_index('Pri-miRNA')\n",
    "clv3f = clvtbl[(clvtbl['rstart']>mid)&(clvtbl['rend']==end)].set_index('Pri-miRNA')\n",
    "clvhn = clvtbl[(clvtbl['rstart']<mid)&(clvtbl['rend']>mid)]\n",
    "clvn5 = clvhn[clvhn['rstart']==start]\n",
    "clvn3 = clvhn[clvhn['rend']==end]\n",
    "clvh = clvhn.drop(clvn5.index).drop(clvn3.index).set_index('Pri-miRNA')\n",
    "clvn5 = clvn5.set_index('Pri-miRNA'); clvn3 = clvn3.set_index('Pri-miRNA')"
   ]
  },
  {
   "cell_type": "code",
   "execution_count": 18,
   "metadata": {},
   "outputs": [],
   "source": [
    "def fill_unfound(tbl):\n",
    "    found = set(tbl.index)\n",
    "    unfound = [ mir for mir in s2.index if mir not in found ]\n",
    "    fill = pd.DataFrame(index=unfound, columns=tbl.columns).fillna(0)\n",
    "    return tbl.append(fill)"
   ]
  },
  {
   "cell_type": "code",
   "execution_count": 19,
   "metadata": {},
   "outputs": [],
   "source": [
    "clvtbl = fill_unfound(clvtbl.set_index('Pri-miRNA'))\n",
    "clv5f = fill_unfound(clv5f)\n",
    "clv3f = fill_unfound(clv3f)\n",
    "clvh = fill_unfound(clvh)\n",
    "clvn5 = fill_unfound(clvn5)\n",
    "clvn3 = fill_unfound(clvn3)"
   ]
  },
  {
   "cell_type": "code",
   "execution_count": 20,
   "metadata": {},
   "outputs": [],
   "source": [
    "def get_clv_cnts(mir, lib):\n",
    "    ps, pe = preposition[mir]\n",
    "    invs = ps+INVERTED\n",
    "    inve = pe-INVERTED\n",
    "    clv5 = clv5f.loc[[mir]].reset_index().set_index('rend')[lib]\n",
    "    clv3 = clv3f.loc[[mir]].reset_index().set_index('rstart')[lib]\n",
    "    prod5 = clv5.reindex(range(ps-1-WINDOW,ps+WINDOW)).sum()\n",
    "    prod3 = clv3.reindex(range(pe+1-WINDOW,pe+2+WINDOW)).sum()\n",
    "    inv5 = clv5.reindex(range(invs-1-WINDOW,invs+WINDOW)).sum()\n",
    "    inv3 = clv3.reindex(range(inve+1-WINDOW,inve+2+WINDOW)).sum()\n",
    "    #print prod5, prod3, inv5, inv3\n",
    "    return int((prod5+prod3)/2)-int((inv5+inv3)/2)"
   ]
  },
  {
   "cell_type": "code",
   "execution_count": 147,
   "metadata": {},
   "outputs": [
    {
     "data": {
      "text/plain": [
       "cleaved_1    51\n",
       "cleaved_2    24\n",
       "cleaved      75\n",
       "Name: hsa-mir-3166, dtype: int64"
      ]
     },
     "execution_count": 147,
     "metadata": {},
     "output_type": "execute_result"
    }
   ],
   "source": [
    "inptbl.loc['hsa-mir-3166']"
   ]
  },
  {
   "cell_type": "code",
   "execution_count": 148,
   "metadata": {},
   "outputs": [
    {
     "data": {
      "text/html": [
       "<div>\n",
       "<style scoped>\n",
       "    .dataframe tbody tr th:only-of-type {\n",
       "        vertical-align: middle;\n",
       "    }\n",
       "\n",
       "    .dataframe tbody tr th {\n",
       "        vertical-align: top;\n",
       "    }\n",
       "\n",
       "    .dataframe thead th {\n",
       "        text-align: right;\n",
       "    }\n",
       "</style>\n",
       "<table border=\"1\" class=\"dataframe\">\n",
       "  <thead>\n",
       "    <tr style=\"text-align: right;\">\n",
       "      <th></th>\n",
       "      <th>cleaved_1</th>\n",
       "      <th>cleaved_2</th>\n",
       "      <th>cleaved</th>\n",
       "    </tr>\n",
       "  </thead>\n",
       "  <tbody>\n",
       "    <tr>\n",
       "      <th>hsa-let-7a-1</th>\n",
       "      <td>44422.0</td>\n",
       "      <td>35809.0</td>\n",
       "      <td>80231.0</td>\n",
       "    </tr>\n",
       "    <tr>\n",
       "      <th>hsa-let-7a-2</th>\n",
       "      <td>81110.0</td>\n",
       "      <td>59840.0</td>\n",
       "      <td>140949.0</td>\n",
       "    </tr>\n",
       "    <tr>\n",
       "      <th>hsa-let-7a-3</th>\n",
       "      <td>16567.0</td>\n",
       "      <td>17808.0</td>\n",
       "      <td>34376.0</td>\n",
       "    </tr>\n",
       "    <tr>\n",
       "      <th>hsa-let-7b</th>\n",
       "      <td>82021.0</td>\n",
       "      <td>49331.0</td>\n",
       "      <td>131352.0</td>\n",
       "    </tr>\n",
       "    <tr>\n",
       "      <th>hsa-let-7c</th>\n",
       "      <td>19380.0</td>\n",
       "      <td>16741.0</td>\n",
       "      <td>36120.0</td>\n",
       "    </tr>\n",
       "  </tbody>\n",
       "</table>\n",
       "</div>"
      ],
      "text/plain": [
       "              cleaved_1  cleaved_2   cleaved\n",
       "hsa-let-7a-1    44422.0    35809.0   80231.0\n",
       "hsa-let-7a-2    81110.0    59840.0  140949.0\n",
       "hsa-let-7a-3    16567.0    17808.0   34376.0\n",
       "hsa-let-7b      82021.0    49331.0  131352.0\n",
       "hsa-let-7c      19380.0    16741.0   36120.0"
      ]
     },
     "execution_count": 148,
     "metadata": {},
     "output_type": "execute_result"
    }
   ],
   "source": [
    "clvcnts = pd.DataFrame()\n",
    "mirs = [ m for m in inptbl[inptbl['cleaved']>=RCUTOFF].index if preposition[m][0]>0 ]\n",
    "for lib in LIBRARIES+['cleaved']:\n",
    "    for mir in mirs:\n",
    "        clvcnts.loc[mir,lib] = get_clv_cnts(mir,lib)\n",
    "clvcnts.head()"
   ]
  },
  {
   "cell_type": "code",
   "execution_count": 149,
   "metadata": {},
   "outputs": [
    {
     "data": {
      "text/plain": [
       "cleaved_1    16.0\n",
       "cleaved_2    15.0\n",
       "cleaved      32.0\n",
       "Name: hsa-mir-3166, dtype: float64"
      ]
     },
     "execution_count": 149,
     "metadata": {},
     "output_type": "execute_result"
    }
   ],
   "source": [
    "clvcnts.loc['hsa-mir-3166']"
   ]
  },
  {
   "cell_type": "code",
   "execution_count": 210,
   "metadata": {},
   "outputs": [],
   "source": [
    "# def calculate_norm(mir,lib):\n",
    "#     clv5 = clv5f.loc[[mir]].reset_index().set_index('rend')[lib]\n",
    "#     clv5 = clv5.reindex([24,30,31,42,44]).sum()\n",
    "#     inp = inptbl[lib][mir]\n",
    "#     return clv5/inp"
   ]
  },
  {
   "cell_type": "code",
   "execution_count": 150,
   "metadata": {},
   "outputs": [
    {
     "data": {
      "text/plain": [
       "cleaved_1    0.046492\n",
       "cleaved_2    0.063544\n",
       "cleaved      0.055240\n",
       "dtype: float64"
      ]
     },
     "execution_count": 150,
     "metadata": {},
     "output_type": "execute_result"
    }
   ],
   "source": [
    "## norm\n",
    "norm = 'hsa-mir-6838'# 'hsa-mir-6788'\n",
    "norms = clv5f.loc[norm,LIBRARIES+['cleaved']].sum()/inptbl.loc[norm,LIBRARIES+['cleaved']]\n",
    "#norms = { lib:calculate_norm(norm, lib) for lib in LIBRARIES }\n",
    "norms"
   ]
  },
  {
   "cell_type": "code",
   "execution_count": 151,
   "metadata": {},
   "outputs": [],
   "source": [
    "def calculate_efficiency(mir,lib,norms):\n",
    "    clv = clvcnts.loc[mir,lib]\n",
    "    inp = inptbl.loc[mir,lib]\n",
    "    return np.log2(max(clv,0)/inp/norms[lib]+1)"
   ]
  },
  {
   "cell_type": "code",
   "execution_count": 24,
   "metadata": {},
   "outputs": [
    {
     "name": "stdout",
     "output_type": "stream",
     "text": [
      "1802\n"
     ]
    }
   ],
   "source": [
    "r1,r2 = LIBRARIES\n",
    "ms = clvcnts[[r1,r2]].dropna().index\n",
    "effreps = [ (calculate_efficiency(m,r1,norms),calculate_efficiency(m,r2,norms))\n",
    "                     for m in ms ]\n",
    "print len(effreps)"
   ]
  },
  {
   "cell_type": "code",
   "execution_count": 25,
   "metadata": {},
   "outputs": [
    {
     "data": {
      "image/png": "[encoded data removed]",
      "text/plain": [
       "<matplotlib.figure.Figure at 0x7fd127d01710>"
      ]
     },
     "metadata": {},
     "output_type": "display_data"
    }
   ],
   "source": [
    "fig,ax = plt.subplots(1, 1, figsize=(3,3))\n",
    "xs, ys = zip(*effreps)\n",
    "ax.scatter(xs,ys,s=10,color='tab:blue',alpha=.2)\n",
    "ax.set_xlabel(r1); ax.set_ylabel(r2)\n",
    "ax.plot([0,10],[0,10],'k--')\n",
    "ax.set_xlim(-.5,10.1)\n",
    "ax.set_ylim(-.5,10.1)\n",
    "ax.grid(ls='-')\n",
    "#fig.savefig(resultpath + '210111_repro_srsf3.png',dpi=300)"
   ]
  },
  {
   "cell_type": "code",
   "execution_count": 152,
   "metadata": {},
   "outputs": [
    {
     "name": "stdout",
     "output_type": "stream",
     "text": [
      "1812 6.249484246748845\n"
     ]
    }
   ],
   "source": [
    "effs = {}\n",
    "suffs = [ m for m in inptbl[inptbl['cleaved']>=RCUTOFF].index if preposition[m][0]>0 ]\n",
    "for mir in suffs:\n",
    "    effs[mir] = calculate_efficiency(mir,'cleaved_2',norms)\n",
    "print len(effs), effs['hsa-mir-144']"
   ]
  },
  {
   "cell_type": "markdown",
   "metadata": {},
   "source": [
    "---\n",
    "### Cleavage Homogeneity"
   ]
  },
  {
   "cell_type": "code",
   "execution_count": 29,
   "metadata": {},
   "outputs": [],
   "source": [
    "RCUTOFF = 30\n",
    "RCUTOFFH = 10\n",
    "FCUTOFF = .01\n",
    "WINDOW = 3\n",
    "INVERTED = 11"
   ]
  },
  {
   "cell_type": "code",
   "execution_count": 30,
   "metadata": {},
   "outputs": [],
   "source": [
    "def get_frac_5frag(mir):\n",
    "    sub = clv5f.loc[[mir]].set_index('rend')\n",
    "    return (sub/sub.sum())"
   ]
  },
  {
   "cell_type": "code",
   "execution_count": 31,
   "metadata": {},
   "outputs": [],
   "source": [
    "def get_frac_3frag(mir):\n",
    "    sub = clv3f.loc[[mir]].set_index('rstart')\n",
    "    return (sub/sub.sum())"
   ]
  },
  {
   "cell_type": "code",
   "execution_count": 32,
   "metadata": {},
   "outputs": [],
   "source": [
    "def get_frac_hairpin(mir):\n",
    "    sub = clvh.loc[[mir]].set_index(['rstart','rend'])\n",
    "    return (sub/sub.sum())"
   ]
  },
  {
   "cell_type": "code",
   "execution_count": 33,
   "metadata": {},
   "outputs": [],
   "source": [
    "def filter_frac(frac):\n",
    "    return frac[frac>=FCUTOFF]"
   ]
  },
  {
   "cell_type": "code",
   "execution_count": 34,
   "metadata": {},
   "outputs": [],
   "source": [
    "def add_specificity(row):\n",
    "    row['score'] = (row['5frag']+row['hairpin']+row['3frag'])/3\n",
    "    return row"
   ]
  },
  {
   "cell_type": "code",
   "execution_count": 35,
   "metadata": {},
   "outputs": [],
   "source": [
    "def drop_duplicates(sortedtbl):\n",
    "    if len(sortedtbl)<=1:\n",
    "        return sortedtbl\n",
    "    hs = sortedtbl['hstart'].tolist()[0]\n",
    "    he = sortedtbl['hend'].tolist()[0]\n",
    "    sub = sortedtbl.iloc[1:]\n",
    "    sub = sub[(sub['hstart']!=hs)&(sub['hend']!=he)]\n",
    "    return sortedtbl.iloc[:1].append(drop_duplicates(sub))"
   ]
  },
  {
   "cell_type": "code",
   "execution_count": 36,
   "metadata": {},
   "outputs": [],
   "source": [
    "frac5f = { mir:get_frac_5frag(mir) for mir in s2.index } \n",
    "frac3f = { mir:get_frac_3frag(mir) for mir in s2.index } \n",
    "frachpn = { mir:get_frac_hairpin(mir) for mir in s2.index }"
   ]
  },
  {
   "cell_type": "code",
   "execution_count": 74,
   "metadata": {},
   "outputs": [],
   "source": [
    "COLS = 'miRNA pstart pend hstart hend 5frag 3frag hairpin score diff5 diff3'.split()"
   ]
  },
  {
   "cell_type": "code",
   "execution_count": 112,
   "metadata": {},
   "outputs": [],
   "source": [
    "def get_dcs(mir, lib):\n",
    "    ps, pe = preposition[mir]\n",
    "    null = pd.DataFrame({0:dict(zip(COLS,[mir,ps,pe,1,125,0,0,0,0,99,99]))}).T[COLS]\n",
    "    cs = null\n",
    "    sum5f = clv5f.loc[mir,lib].sum()\n",
    "    sum3f = clv3f.loc[mir,lib].sum()\n",
    "    sumh = clvh.loc[mir,lib].sum()\n",
    "    if not (sum5f>=RCUTOFF and sum3f>=RCUTOFF and sumh>=RCUTOFFH):\n",
    "        return null\n",
    "    \n",
    "    clv5, clv3, clvhpn = [ f[mir][lib] for f in [frac5f,frac3f,frachpn] ]\n",
    "    clv52 = defaultdict(float); clv52.update(clv5)\n",
    "    clv32 = defaultdict(float); clv32.update(clv3)\n",
    "    clvhpn2 = defaultdict(float); clvhpn2.update(clvhpn)\n",
    "    for c5, frac5 in filter_frac(clv5).items():\n",
    "        for c3, frac3 in filter_frac(clv3).items():\n",
    "            row = dict(zip(COLS,[mir,ps,pe,c5+1,c3-1,frac5,frac3,clvhpn2[(c5+1,c3-1)]]))\n",
    "            cs = cs.append(row, ignore_index=True)\n",
    "    for (c5,c3), frach in filter_frac(clvhpn).items():\n",
    "        row = dict(zip(COLS,[mir,ps,pe,c5,c3,clv52[c5-1],clv32[c3+1],frach]))\n",
    "        cs = cs.append(row, ignore_index=True)\n",
    "    cs['score'] = (cs['5frag']+cs['hairpin']+cs['3frag'])/3\n",
    "    cs['diff5'] = cs['hstart']-cs['pstart']\n",
    "    cs['diff3'] = cs['pend']-cs['hend']\n",
    "    cs = cs[(abs(cs['diff5'])<=WINDOW)&(abs(cs['diff3'])<=WINDOW)]\n",
    "    if len(cs)>=1:\n",
    "        return drop_duplicates(cs.sort_values('score').iloc[::-1])\n",
    "    return null"
   ]
  },
  {
   "cell_type": "code",
   "execution_count": 124,
   "metadata": {},
   "outputs": [
    {
     "data": {
      "text/html": [
       "<div>\n",
       "<style scoped>\n",
       "    .dataframe tbody tr th:only-of-type {\n",
       "        vertical-align: middle;\n",
       "    }\n",
       "\n",
       "    .dataframe tbody tr th {\n",
       "        vertical-align: top;\n",
       "    }\n",
       "\n",
       "    .dataframe thead th {\n",
       "        text-align: right;\n",
       "    }\n",
       "</style>\n",
       "<table border=\"1\" class=\"dataframe\">\n",
       "  <thead>\n",
       "    <tr style=\"text-align: right;\">\n",
       "      <th></th>\n",
       "      <th>miRNA</th>\n",
       "      <th>pstart</th>\n",
       "      <th>pend</th>\n",
       "      <th>hstart</th>\n",
       "      <th>hend</th>\n",
       "      <th>5frag</th>\n",
       "      <th>3frag</th>\n",
       "      <th>hairpin</th>\n",
       "      <th>score</th>\n",
       "      <th>diff5</th>\n",
       "      <th>diff3</th>\n",
       "    </tr>\n",
       "  </thead>\n",
       "  <tbody>\n",
       "    <tr>\n",
       "      <th>27</th>\n",
       "      <td>hsa-mir-452</td>\n",
       "      <td>29</td>\n",
       "      <td>89</td>\n",
       "      <td>29</td>\n",
       "      <td>89</td>\n",
       "      <td>0.744123</td>\n",
       "      <td>0.879988</td>\n",
       "      <td>0.398385</td>\n",
       "      <td>0.674165</td>\n",
       "      <td>0</td>\n",
       "      <td>0</td>\n",
       "    </tr>\n",
       "    <tr>\n",
       "      <th>17</th>\n",
       "      <td>hsa-mir-452</td>\n",
       "      <td>29</td>\n",
       "      <td>89</td>\n",
       "      <td>28</td>\n",
       "      <td>90</td>\n",
       "      <td>0.100354</td>\n",
       "      <td>0.0117689</td>\n",
       "      <td>0.000602195</td>\n",
       "      <td>0.0375752</td>\n",
       "      <td>-1</td>\n",
       "      <td>-1</td>\n",
       "    </tr>\n",
       "  </tbody>\n",
       "</table>\n",
       "</div>"
      ],
      "text/plain": [
       "          miRNA pstart pend hstart hend     5frag      3frag      hairpin  \\\n",
       "27  hsa-mir-452     29   89     29   89  0.744123   0.879988     0.398385   \n",
       "17  hsa-mir-452     29   89     28   90  0.100354  0.0117689  0.000602195   \n",
       "\n",
       "        score diff5 diff3  \n",
       "27   0.674165     0     0  \n",
       "17  0.0375752    -1    -1  "
      ]
     },
     "execution_count": 124,
     "metadata": {},
     "output_type": "execute_result"
    }
   ],
   "source": [
    "mir = 'hsa-mir-452'\n",
    "get_dcs(mir, 'cleaved_2')"
   ]
  },
  {
   "cell_type": "code",
   "execution_count": 126,
   "metadata": {},
   "outputs": [
    {
     "name": "stdout",
     "output_type": "stream",
     "text": [
      "Tue Jan 12 08:48:36 2021\n",
      "Tue Jan 12 09:15:45 2021\n",
      "# of all sites:\t4311\n",
      "# of miRNAs:\t1812\n"
     ]
    }
   ],
   "source": [
    "print time.ctime()\n",
    "clvall = pd.DataFrame(columns=COLS)\n",
    "for mir in suffs:\n",
    "    clvall = clvall.append(get_dcs(mir, 'cleaved_2'), ignore_index=True)\n",
    "clvall = clvall[COLS]\n",
    "print time.ctime()\n",
    "print '# of all sites:\\t%s' % len(clvall)\n",
    "print '# of miRNAs:\\t%s' % len(set(clvall['miRNA']))"
   ]
  },
  {
   "cell_type": "code",
   "execution_count": 127,
   "metadata": {},
   "outputs": [],
   "source": [
    "clvall.to_csv('resources/210111_cleavage_sites_srsf3.csv')\n",
    "#clvall = pd.read_csv('resources/210105_cleavage_sites_srsf3.csv',index_col=0)"
   ]
  },
  {
   "cell_type": "code",
   "execution_count": 114,
   "metadata": {},
   "outputs": [],
   "source": [
    "#clvall = clvall.drop(clvall[clvall['miRNA']=='hsa-mir-452'].index)\n",
    "#clvall = clvall.append(get_dcs('hsa-mir-452','cleaved'),ignore_index=True)"
   ]
  },
  {
   "cell_type": "code",
   "execution_count": 128,
   "metadata": {},
   "outputs": [],
   "source": [
    "tmp = clvall.sort_values('score').drop_duplicates('miRNA',keep='last')\n",
    "homs = tmp.set_index('miRNA')['score'].to_dict()"
   ]
  },
  {
   "cell_type": "markdown",
   "metadata": {},
   "source": [
    "---"
   ]
  },
  {
   "cell_type": "code",
   "execution_count": 165,
   "metadata": {},
   "outputs": [
    {
     "data": {
      "text/html": [
       "<div>\n",
       "<style scoped>\n",
       "    .dataframe tbody tr th:only-of-type {\n",
       "        vertical-align: middle;\n",
       "    }\n",
       "\n",
       "    .dataframe tbody tr th {\n",
       "        vertical-align: top;\n",
       "    }\n",
       "\n",
       "    .dataframe thead th {\n",
       "        text-align: right;\n",
       "    }\n",
       "</style>\n",
       "<table border=\"1\" class=\"dataframe\">\n",
       "  <thead>\n",
       "    <tr style=\"text-align: right;\">\n",
       "      <th></th>\n",
       "      <th>miRNA</th>\n",
       "      <th>pstart</th>\n",
       "      <th>pend</th>\n",
       "      <th>hstart</th>\n",
       "      <th>hend</th>\n",
       "      <th>5frag</th>\n",
       "      <th>3frag</th>\n",
       "      <th>hairpin</th>\n",
       "      <th>score</th>\n",
       "      <th>diff5</th>\n",
       "      <th>diff3</th>\n",
       "    </tr>\n",
       "  </thead>\n",
       "  <tbody>\n",
       "    <tr>\n",
       "      <th>3759</th>\n",
       "      <td>hsa-mir-6808</td>\n",
       "      <td>35</td>\n",
       "      <td>88</td>\n",
       "      <td>34</td>\n",
       "      <td>91</td>\n",
       "      <td>0.00628931</td>\n",
       "      <td>0.13667</td>\n",
       "      <td>0.0123762</td>\n",
       "      <td>0.0517785</td>\n",
       "      <td>-1</td>\n",
       "      <td>-3</td>\n",
       "    </tr>\n",
       "  </tbody>\n",
       "</table>\n",
       "</div>"
      ],
      "text/plain": [
       "             miRNA pstart pend hstart hend       5frag    3frag    hairpin  \\\n",
       "3759  hsa-mir-6808     35   88     34   91  0.00628931  0.13667  0.0123762   \n",
       "\n",
       "          score diff5 diff3  \n",
       "3759  0.0517785    -1    -3  "
      ]
     },
     "execution_count": 165,
     "metadata": {},
     "output_type": "execute_result"
    }
   ],
   "source": [
    "clvall[clvall['miRNA']=='hsa-mir-6808']"
   ]
  },
  {
   "cell_type": "code",
   "execution_count": 129,
   "metadata": {},
   "outputs": [
    {
     "name": "stdout",
     "output_type": "stream",
     "text": [
      "304 257 157 281\n"
     ]
    }
   ],
   "source": [
    "drodep = s1[s1['DROSHA dependency'].apply(lambda x:x.find('DROSHA-dependent')>=0)].index\n",
    "droind = s1[s1['DROSHA dependency'].apply(lambda x:x.find('DROSHA-independent')>=0)].index\n",
    "droko = s1[s1['DROSHA dependency'].apply(lambda x:x.find('DROSHA KO')>=0)].index\n",
    "fclip = s1[s1['DROSHA dependency'].apply(lambda x:x.find('fCLIP')>=0)].index\n",
    "dbmirs = s1[s1['MirGeneDB']=='Annotated'].index\n",
    "print len(drodep), len(droind), len(droko), len(fclip)"
   ]
  },
  {
   "cell_type": "code",
   "execution_count": 130,
   "metadata": {},
   "outputs": [
    {
     "name": "stdout",
     "output_type": "stream",
     "text": [
      "[296, 254, 1262]\n"
     ]
    }
   ],
   "source": [
    "overlap = [m for m in effs if m in homs ]\n",
    "mirls = [ [m for m in overlap if m in drodep], \n",
    "          [m for m in overlap if m in droind],\n",
    "          [m for m in overlap if m not in list(drodep)+list(droind)] ]\n",
    "xsl = [ [effs[m] for m in ml] for ml in mirls ]\n",
    "ysl = [ [homs[m] for m in ml] for ml in mirls ]\n",
    "fcolors = [ '#1b9e77', '#666666', '#cbcbcb' ]\n",
    "ecolors = [ '#018571', '#353535','#bababa' ]\n",
    "labels = [ 'DRO-dep.', 'DRO-ind.', 'The rest' ]\n",
    "sizes = [ 10, 10, 6 ]\n",
    "zs = [ 4, 3, 2 ]\n",
    "xmin, xmax, xo = 0, 8, .2\n",
    "ymin, ymax, yo = 0, 1, .03\n",
    "xcut, ycut = 1.5, .25\n",
    "shade = '#a1d99b'\n",
    "print map(len,mirls)"
   ]
  },
  {
   "cell_type": "code",
   "execution_count": 131,
   "metadata": {
    "scrolled": true
   },
   "outputs": [
    {
     "data": {
      "image/png": "[encoded data removed]",
      "text/plain": [
       "<matplotlib.figure.Figure at 0x7fd1098bc410>"
      ]
     },
     "metadata": {},
     "output_type": "display_data"
    }
   ],
   "source": [
    "fig, ax = plt.subplots(1, 1, figsize=(2.5,2.5))\n",
    "for xs,ys,fc,ec,label,s,z in zip(xsl,ysl,fcolors,ecolors,labels,sizes,zs):\n",
    "    xs,ys = zip(*[ (x,y) for x,y in zip(xs,ys) if xmin<=x<xmax and ymin<=y<ymax])\n",
    "    ax.scatter(xs, ys, s=s, color=fc, edgecolor=ec, lw=.5, zorder=z, label=label, alpha=.9,\n",
    "              rasterized=True)\n",
    "ax.plot([xmin-xo,xmax],[ycut,ycut],'k--',zorder=2)\n",
    "ax.plot([xcut,xcut],[ymin-yo,ymax],'k--',zorder=2)\n",
    "\n",
    "ax.set_xlabel('Cleavage efficiency',fontsize=11)\n",
    "ax.set_ylabel('Cleavage homogeneity',fontsize=11)\n",
    "ax.set_xticks(np.arange(xmin,xmax+xo,.5),minor=True)\n",
    "ax.set_yticks(np.arange(ymin,ymax+yo,.25))\n",
    "ax.set_xlim(xmin-xo, xmax+xo)\n",
    "ax.set_ylim(ymin-yo, ymax+yo)\n",
    "ax.spines['bottom'].set_bounds(xmin, xmax)\n",
    "ax.spines['left'].set_bounds(ymin, ymax)\n",
    "leg = ax.legend(loc=(-.3,1.05), handletextpad=-.1, ncol=3, columnspacing=.05)\n",
    "for handle in leg.legendHandles:\n",
    "    handle.set_sizes([30])\n",
    "\n",
    "gr = plt.Rectangle((xmin-xo/4,ymin-yo/4), xmax+xo/4, ymax+yo/4, fc='w'); ax.add_patch(gr)\n",
    "ax.grid(ls='-', lw=.5, clip_path=gr)\n",
    "#fig.savefig(resultpath + '210105_f2b__cleavage_pattern.pdf',dpi=300)"
   ]
  },
  {
   "cell_type": "code",
   "execution_count": null,
   "metadata": {},
   "outputs": [],
   "source": []
  },
  {
   "cell_type": "code",
   "execution_count": null,
   "metadata": {},
   "outputs": [],
   "source": [
    "mirtrons = s1[s1['DROSHA dependency'].apply(lambda x:x.find('Mirtron')>=0)].index\n",
    "mirls = [ [m for m in overlap if m in mirtrons], \n",
    "          [m for m in overlap if m not in mirtrons] ]\n",
    "xsl = [ [effs[m] for m in ml] for ml in mirls ]\n",
    "ysl = [ [homs[m] for m in ml] for ml in mirls ]\n",
    "fcolors = [ '#dfc27d', '#cbcbcb' ]\n",
    "ecolors = [ '#a6611a','#bababa' ]\n",
    "labels = [ 'Mirtrons (%s)'%len(mirls[0]), 'The rest (%s)'%len(mirls[1]) ]\n",
    "sizes = [ 12, 5 ]\n",
    "zs = [ 3,2 ]\n",
    "xmin, xmax, xo = 0, 8, .15\n",
    "ymin, ymax, yo = 0, 1, .03\n",
    "xcut, ycut = 1.5, .25\n",
    "shade = '#a1d99b'\n",
    "print map(len,mirls)"
   ]
  },
  {
   "cell_type": "code",
   "execution_count": null,
   "metadata": {},
   "outputs": [],
   "source": []
  },
  {
   "cell_type": "code",
   "execution_count": null,
   "metadata": {},
   "outputs": [],
   "source": []
  },
  {
   "cell_type": "code",
   "execution_count": null,
   "metadata": {},
   "outputs": [],
   "source": []
  },
  {
   "cell_type": "markdown",
   "metadata": {},
   "source": [
    "---\n",
    "### Build table"
   ]
  },
  {
   "cell_type": "code",
   "execution_count": 132,
   "metadata": {},
   "outputs": [],
   "source": [
    "homcut = .25\n",
    "clvsig = clvall[clvall['score']>=homcut]\n",
    "clvcnt = Counter(clvsig['miRNA'])"
   ]
  },
  {
   "cell_type": "code",
   "execution_count": 155,
   "metadata": {},
   "outputs": [
    {
     "name": "stdout",
     "output_type": "stream",
     "text": [
      "747 690 57\n"
     ]
    }
   ],
   "source": [
    "effcut = 1.5\n",
    "dcsmirs = [ m for m in overlap if effs[m]>=effcut and homs[m]>=homcut ]\n",
    "single = [ m for m in overlap if effs[m]>=effcut and clvcnt[m]==1 ]\n",
    "alternative = [ m for m in overlap if effs[m]>=effcut and clvcnt[m]>=2 ]\n",
    "print len(dcsmirs), len(single), len(alternative)"
   ]
  },
  {
   "cell_type": "code",
   "execution_count": 156,
   "metadata": {},
   "outputs": [
    {
     "data": {
      "text/html": [
       "<div>\n",
       "<style scoped>\n",
       "    .dataframe tbody tr th:only-of-type {\n",
       "        vertical-align: middle;\n",
       "    }\n",
       "\n",
       "    .dataframe tbody tr th {\n",
       "        vertical-align: top;\n",
       "    }\n",
       "\n",
       "    .dataframe thead th {\n",
       "        text-align: right;\n",
       "    }\n",
       "</style>\n",
       "<table border=\"1\" class=\"dataframe\">\n",
       "  <thead>\n",
       "    <tr style=\"text-align: right;\">\n",
       "      <th></th>\n",
       "      <th>Cleavage Efficiency</th>\n",
       "      <th>Cleavage Homogeneity</th>\n",
       "      <th>5' miRBase site</th>\n",
       "      <th>3' miRBase site</th>\n",
       "      <th>5' cleavage site</th>\n",
       "      <th>3' cleavage site</th>\n",
       "      <th>5' alternative site</th>\n",
       "      <th>3' alternative site</th>\n",
       "      <th>Cleavage ratio of alternative site</th>\n",
       "      <th>5p nick processing</th>\n",
       "      <th>3p nick processing</th>\n",
       "      <th>Inverted processing</th>\n",
       "    </tr>\n",
       "    <tr>\n",
       "      <th>Pri-miRNA</th>\n",
       "      <th></th>\n",
       "      <th></th>\n",
       "      <th></th>\n",
       "      <th></th>\n",
       "      <th></th>\n",
       "      <th></th>\n",
       "      <th></th>\n",
       "      <th></th>\n",
       "      <th></th>\n",
       "      <th></th>\n",
       "      <th></th>\n",
       "      <th></th>\n",
       "    </tr>\n",
       "  </thead>\n",
       "  <tbody>\n",
       "  </tbody>\n",
       "</table>\n",
       "</div>"
      ],
      "text/plain": [
       "Empty DataFrame\n",
       "Columns: [Cleavage Efficiency, Cleavage Homogeneity, 5' miRBase site, 3' miRBase site, 5' cleavage site, 3' cleavage site, 5' alternative site, 3' alternative site, Cleavage ratio of alternative site, 5p nick processing, 3p nick processing, Inverted processing]\n",
       "Index: []"
      ]
     },
     "execution_count": 156,
     "metadata": {},
     "output_type": "execute_result"
    }
   ],
   "source": [
    "cols = [ 'Pri-miRNA', 'Cleavage Efficiency', 'Cleavage Homogeneity',\n",
    "         \"5' miRBase site\", \"3' miRBase site\", \"5' cleavage site\", \"3' cleavage site\", \n",
    "         \"5' alternative site\", \"3' alternative site\", \"Cleavage ratio of alternative site\",\n",
    "         '5p nick processing', '3p nick processing', 'Inverted processing' ]\n",
    "tbl = pd.DataFrame(columns=cols).set_index('Pri-miRNA')\n",
    "tbl.head(1)"
   ]
  },
  {
   "cell_type": "code",
   "execution_count": 157,
   "metadata": {},
   "outputs": [],
   "source": [
    "for pri in overlap:\n",
    "    ps, pe = preposition[pri]\n",
    "    tbl.loc[pri,'Cleavage Efficiency'] = effs[pri]\n",
    "    tbl.loc[pri,'Cleavage Homogeneity'] = homs[pri]\n",
    "    tbl.loc[pri,\"5' miRBase site\"] = ps\n",
    "    tbl.loc[pri,\"3' miRBase site\"] = pe\n",
    "    sub = clvall[clvall['miRNA']==pri].sort_values('score',ascending=False)\n",
    "    sub = sub[sub['score']>0]\n",
    "    if len(sub)>=1:\n",
    "        tbl.loc[pri,\"5' cleavage site\"] = sub['hstart'].values[0]\n",
    "        tbl.loc[pri,\"3' cleavage site\"] = sub['hend'].values[0]\n",
    "        if len(sub)>=2:\n",
    "            tbl.loc[pri,\"5' alternative site\"] = sub['hstart'].values[1]\n",
    "            tbl.loc[pri,\"3' alternative site\"] = sub['hend'].values[1]\n",
    "            tbl.loc[pri,\"Cleavage ratio of alternative site\"] = sub['score'].values[1]"
   ]
  },
  {
   "cell_type": "code",
   "execution_count": 158,
   "metadata": {},
   "outputs": [],
   "source": [
    "for mir in overlap:\n",
    "    ps, pe = preposition[mir]\n",
    "    if ps<1 or pe>125:\n",
    "        continue\n",
    "    unc5 = clvn5.loc[[mir]].reset_index().set_index(['rend'])\n",
    "    unc5 = unc5.reindex(range(pe-WINDOW,pe+WINDOW+1)).sum()\n",
    "    unc3 = clvn3.loc[[mir]].reset_index().set_index(['rstart'])\n",
    "    unc3 = unc3.reindex(range(ps-WINDOW,ps+WINDOW+1)).sum()\n",
    "    hpn = clvh.loc[[mir]]\n",
    "    prohpn = hpn[hpn.apply(lambda x: (x['rstart'] in range(ps-WINDOW,ps+WINDOW+1)) and \n",
    "                                  (x['rend'] in range(pe-WINDOW,pe+WINDOW+1)),axis=1)].sum()\n",
    "    invhpn = hpn[hpn.apply(lambda x: (x['rstart'] in range(ps+INVERTED-WINDOW,\n",
    "                                                           ps+INVERTED+WINDOW+1)) and \n",
    "                                     (x['rend'] in range(pe-INVERTED-WINDOW,\n",
    "                                                         pe-INVERTED+WINDOW+1)),axis=1)].sum()\n",
    "    lib = 'cleaved_2'\n",
    "    if prohpn[lib].sum()>=RCUTOFFH:\n",
    "        tbl.loc[mir,'5p nick processing'] = (unc3[lib]+1)/(prohpn[lib]+1)\n",
    "        tbl.loc[mir,'3p nick processing'] = (unc5[lib]+1)/(prohpn[lib]+1)\n",
    "        tbl.loc[mir,'Inverted processing'] = (invhpn[lib]+1)/(prohpn[lib]+1)"
   ]
  },
  {
   "cell_type": "code",
   "execution_count": 159,
   "metadata": {},
   "outputs": [
    {
     "data": {
      "text/html": [
       "<div>\n",
       "<style scoped>\n",
       "    .dataframe tbody tr th:only-of-type {\n",
       "        vertical-align: middle;\n",
       "    }\n",
       "\n",
       "    .dataframe tbody tr th {\n",
       "        vertical-align: top;\n",
       "    }\n",
       "\n",
       "    .dataframe thead th {\n",
       "        text-align: right;\n",
       "    }\n",
       "</style>\n",
       "<table border=\"1\" class=\"dataframe\">\n",
       "  <thead>\n",
       "    <tr style=\"text-align: right;\">\n",
       "      <th></th>\n",
       "      <th>Cleavage Efficiency</th>\n",
       "      <th>Cleavage Homogeneity</th>\n",
       "      <th>5' miRBase site</th>\n",
       "      <th>3' miRBase site</th>\n",
       "      <th>5' cleavage site</th>\n",
       "      <th>3' cleavage site</th>\n",
       "      <th>5' alternative site</th>\n",
       "      <th>3' alternative site</th>\n",
       "      <th>Cleavage ratio of alternative site</th>\n",
       "      <th>5p nick processing</th>\n",
       "      <th>3p nick processing</th>\n",
       "      <th>Inverted processing</th>\n",
       "    </tr>\n",
       "    <tr>\n",
       "      <th>Pri-miRNA</th>\n",
       "      <th></th>\n",
       "      <th></th>\n",
       "      <th></th>\n",
       "      <th></th>\n",
       "      <th></th>\n",
       "      <th></th>\n",
       "      <th></th>\n",
       "      <th></th>\n",
       "      <th></th>\n",
       "      <th></th>\n",
       "      <th></th>\n",
       "      <th></th>\n",
       "    </tr>\n",
       "  </thead>\n",
       "  <tbody>\n",
       "    <tr>\n",
       "      <th>hsa-mir-7-3</th>\n",
       "      <td>6.21048</td>\n",
       "      <td>0.958786</td>\n",
       "      <td>31</td>\n",
       "      <td>90</td>\n",
       "      <td>31</td>\n",
       "      <td>90</td>\n",
       "      <td>NaN</td>\n",
       "      <td>NaN</td>\n",
       "      <td>NaN</td>\n",
       "      <td>0.00875789</td>\n",
       "      <td>0.000589474</td>\n",
       "      <td>8.42105e-05</td>\n",
       "    </tr>\n",
       "    <tr>\n",
       "      <th>hsa-mir-770</th>\n",
       "      <td>0.290522</td>\n",
       "      <td>0.100317</td>\n",
       "      <td>30</td>\n",
       "      <td>91</td>\n",
       "      <td>30</td>\n",
       "      <td>91</td>\n",
       "      <td>28</td>\n",
       "      <td>94</td>\n",
       "      <td>0.0269999</td>\n",
       "      <td>1.65</td>\n",
       "      <td>1.2</td>\n",
       "      <td>16.4</td>\n",
       "    </tr>\n",
       "    <tr>\n",
       "      <th>hsa-mir-6891</th>\n",
       "      <td>0</td>\n",
       "      <td>0</td>\n",
       "      <td>18</td>\n",
       "      <td>105</td>\n",
       "      <td>NaN</td>\n",
       "      <td>NaN</td>\n",
       "      <td>NaN</td>\n",
       "      <td>NaN</td>\n",
       "      <td>NaN</td>\n",
       "      <td>NaN</td>\n",
       "      <td>NaN</td>\n",
       "      <td>NaN</td>\n",
       "    </tr>\n",
       "    <tr>\n",
       "      <th>hsa-mir-6890</th>\n",
       "      <td>1.14974</td>\n",
       "      <td>0.21625</td>\n",
       "      <td>34</td>\n",
       "      <td>89</td>\n",
       "      <td>31</td>\n",
       "      <td>92</td>\n",
       "      <td>34</td>\n",
       "      <td>91</td>\n",
       "      <td>0.0293871</td>\n",
       "      <td>NaN</td>\n",
       "      <td>NaN</td>\n",
       "      <td>NaN</td>\n",
       "    </tr>\n",
       "    <tr>\n",
       "      <th>hsa-mir-6893</th>\n",
       "      <td>0</td>\n",
       "      <td>0.0662903</td>\n",
       "      <td>30</td>\n",
       "      <td>93</td>\n",
       "      <td>31</td>\n",
       "      <td>90</td>\n",
       "      <td>29</td>\n",
       "      <td>91</td>\n",
       "      <td>0.0515133</td>\n",
       "      <td>NaN</td>\n",
       "      <td>NaN</td>\n",
       "      <td>NaN</td>\n",
       "    </tr>\n",
       "  </tbody>\n",
       "</table>\n",
       "</div>"
      ],
      "text/plain": [
       "             Cleavage Efficiency Cleavage Homogeneity 5' miRBase site  \\\n",
       "Pri-miRNA                                                               \n",
       "hsa-mir-7-3              6.21048             0.958786              31   \n",
       "hsa-mir-770             0.290522             0.100317              30   \n",
       "hsa-mir-6891                   0                    0              18   \n",
       "hsa-mir-6890             1.14974              0.21625              34   \n",
       "hsa-mir-6893                   0            0.0662903              30   \n",
       "\n",
       "             3' miRBase site 5' cleavage site 3' cleavage site  \\\n",
       "Pri-miRNA                                                        \n",
       "hsa-mir-7-3               90               31               90   \n",
       "hsa-mir-770               91               30               91   \n",
       "hsa-mir-6891             105              NaN              NaN   \n",
       "hsa-mir-6890              89               31               92   \n",
       "hsa-mir-6893              93               31               90   \n",
       "\n",
       "             5' alternative site 3' alternative site  \\\n",
       "Pri-miRNA                                              \n",
       "hsa-mir-7-3                  NaN                 NaN   \n",
       "hsa-mir-770                   28                  94   \n",
       "hsa-mir-6891                 NaN                 NaN   \n",
       "hsa-mir-6890                  34                  91   \n",
       "hsa-mir-6893                  29                  91   \n",
       "\n",
       "             Cleavage ratio of alternative site 5p nick processing  \\\n",
       "Pri-miRNA                                                            \n",
       "hsa-mir-7-3                                 NaN         0.00875789   \n",
       "hsa-mir-770                           0.0269999               1.65   \n",
       "hsa-mir-6891                                NaN                NaN   \n",
       "hsa-mir-6890                          0.0293871                NaN   \n",
       "hsa-mir-6893                          0.0515133                NaN   \n",
       "\n",
       "             3p nick processing Inverted processing  \n",
       "Pri-miRNA                                            \n",
       "hsa-mir-7-3         0.000589474         8.42105e-05  \n",
       "hsa-mir-770                 1.2                16.4  \n",
       "hsa-mir-6891                NaN                 NaN  \n",
       "hsa-mir-6890                NaN                 NaN  \n",
       "hsa-mir-6893                NaN                 NaN  "
      ]
     },
     "execution_count": 159,
     "metadata": {},
     "output_type": "execute_result"
    }
   ],
   "source": [
    "tbl.head()"
   ]
  },
  {
   "cell_type": "code",
   "execution_count": 160,
   "metadata": {},
   "outputs": [],
   "source": [
    "tbl.to_csv('resources/210111_s7__DROSHA_processing_with_SRSF3.csv')"
   ]
  },
  {
   "cell_type": "code",
   "execution_count": 161,
   "metadata": {},
   "outputs": [],
   "source": [
    "out = open('supplementary/210111_s7__DROSHA_processing_with_SRSF3.csv', 'wt')\n",
    "description = 'Supplementary Table 7. DROSHA processing with SRSF3\\n\\n\\n\\n\\n'\n",
    "out.write(description)\n",
    "for l in open('resources/210111_s7__DROSHA_processing_with_SRSF3.csv', 'rt'):\n",
    "    out.write(l)\n",
    "out.close()"
   ]
  },
  {
   "cell_type": "code",
   "execution_count": null,
   "metadata": {},
   "outputs": [],
   "source": []
  },
  {
   "cell_type": "code",
   "execution_count": null,
   "metadata": {},
   "outputs": [],
   "source": []
  },
  {
   "cell_type": "code",
   "execution_count": null,
   "metadata": {},
   "outputs": [],
   "source": []
  },
  {
   "cell_type": "code",
   "execution_count": 130,
   "metadata": {},
   "outputs": [],
   "source": [
    "out = open('resources/eff_tmp_srsf3.txt','wt')\n",
    "for m in effs:\n",
    "    out.write('%s\\t%s\\n'%(m,effs[m]))\n",
    "out.close()"
   ]
  },
  {
   "cell_type": "code",
   "execution_count": 121,
   "metadata": {},
   "outputs": [],
   "source": [
    "def get_dcs_sub(mir, lib):\n",
    "    ps, pe = preposition[mir]\n",
    "    null = pd.DataFrame({0:dict(zip(COLS,[mir,ps,pe,1,125,0,0,0,0,99,99]))}).T[COLS]\n",
    "    cs = null\n",
    "    sum5f = clv5f.loc[mir,lib].sum()\n",
    "    sum3f = clv3f.loc[mir,lib].sum()\n",
    "    sumh = clvh.loc[mir,lib].sum()\n",
    "    if not (sum5f>=RCUTOFF and sum3f>=RCUTOFF and sumh>=RCUTOFFH):\n",
    "        return null\n",
    "    \n",
    "    clv5, clv3, clvhpn = [ f[mir][lib] for f in [frac5f,frac3f,frachpn] ]\n",
    "    clv52 = defaultdict(float); clv52.update(clv5)\n",
    "    clv32 = defaultdict(float); clv32.update(clv3)\n",
    "    clvhpn2 = defaultdict(float); clvhpn2.update(clvhpn)\n",
    "    for c5, frac5 in filter_frac(clv5).items():\n",
    "        for c3, frac3 in filter_frac(clv3).items():\n",
    "            row = dict(zip(COLS,[mir,ps,pe,c5+1,c3-1,frac5,frac3,clvhpn2[(c5+1,c3-1)]]))\n",
    "            cs = cs.append(row, ignore_index=True)\n",
    "    for (c5,c3), frach in filter_frac(clvhpn).items():\n",
    "        row = dict(zip(COLS,[mir,ps,pe,c5,c3,clv52[c5-1],clv32[c3+1],frach]))\n",
    "        cs = cs.append(row, ignore_index=True)\n",
    "    cs['score'] = (cs['5frag']+cs['hairpin']+cs['3frag'])/3\n",
    "    cs['diff5'] = cs['hstart']-cs['pstart']\n",
    "    cs['diff3'] = cs['pend']-cs['hend']\n",
    "    cs = cs[(abs(cs['diff5'])<=WINDOW)&(abs(cs['diff3'])<=WINDOW)]\n",
    "    return drop_duplicates(cs.sort_values('score').iloc[::-1])"
   ]
  },
  {
   "cell_type": "code",
   "execution_count": 123,
   "metadata": {
    "scrolled": false
   },
   "outputs": [
    {
     "data": {
      "text/html": [
       "<div>\n",
       "<style scoped>\n",
       "    .dataframe tbody tr th:only-of-type {\n",
       "        vertical-align: middle;\n",
       "    }\n",
       "\n",
       "    .dataframe tbody tr th {\n",
       "        vertical-align: top;\n",
       "    }\n",
       "\n",
       "    .dataframe thead th {\n",
       "        text-align: right;\n",
       "    }\n",
       "</style>\n",
       "<table border=\"1\" class=\"dataframe\">\n",
       "  <thead>\n",
       "    <tr style=\"text-align: right;\">\n",
       "      <th></th>\n",
       "      <th>miRNA</th>\n",
       "      <th>pstart</th>\n",
       "      <th>pend</th>\n",
       "      <th>hstart</th>\n",
       "      <th>hend</th>\n",
       "      <th>5frag</th>\n",
       "      <th>3frag</th>\n",
       "      <th>hairpin</th>\n",
       "      <th>score</th>\n",
       "      <th>diff5</th>\n",
       "      <th>diff3</th>\n",
       "    </tr>\n",
       "  </thead>\n",
       "  <tbody>\n",
       "    <tr>\n",
       "      <th>87</th>\n",
       "      <td>hsa-mir-214</td>\n",
       "      <td>30</td>\n",
       "      <td>92</td>\n",
       "      <td>28</td>\n",
       "      <td>91</td>\n",
       "      <td>0.0649944</td>\n",
       "      <td>0.0329802</td>\n",
       "      <td>0</td>\n",
       "      <td>0.0326582</td>\n",
       "      <td>-2</td>\n",
       "      <td>1</td>\n",
       "    </tr>\n",
       "    <tr>\n",
       "      <th>102</th>\n",
       "      <td>hsa-mir-214</td>\n",
       "      <td>30</td>\n",
       "      <td>92</td>\n",
       "      <td>31</td>\n",
       "      <td>94</td>\n",
       "      <td>0.0285366</td>\n",
       "      <td>0.0168632</td>\n",
       "      <td>0</td>\n",
       "      <td>0.0151333</td>\n",
       "      <td>1</td>\n",
       "      <td>-2</td>\n",
       "    </tr>\n",
       "  </tbody>\n",
       "</table>\n",
       "</div>"
      ],
      "text/plain": [
       "           miRNA pstart pend hstart hend      5frag      3frag hairpin  \\\n",
       "87   hsa-mir-214     30   92     28   91  0.0649944  0.0329802       0   \n",
       "102  hsa-mir-214     30   92     31   94  0.0285366  0.0168632       0   \n",
       "\n",
       "         score diff5 diff3  \n",
       "87   0.0326582    -2     1  \n",
       "102  0.0151333     1    -2  "
      ]
     },
     "execution_count": 123,
     "metadata": {},
     "output_type": "execute_result"
    }
   ],
   "source": [
    "mir = 'hsa-mir-214'\n",
    "get_dcs_sub(mir, 'cleaved_2')"
   ]
  },
  {
   "cell_type": "code",
   "execution_count": 108,
   "metadata": {},
   "outputs": [
    {
     "data": {
      "text/plain": [
       "(111151.0, 13471.0)"
      ]
     },
     "execution_count": 108,
     "metadata": {},
     "output_type": "execute_result"
    }
   ],
   "source": [
    "clvcnts['hsa-mir-3179-1']"
   ]
  },
  {
   "cell_type": "code",
   "execution_count": 102,
   "metadata": {},
   "outputs": [
    {
     "data": {
      "text/plain": [
       "56136"
      ]
     },
     "execution_count": 102,
     "metadata": {},
     "output_type": "execute_result"
    }
   ],
   "source": [
    "m = 'hsa-mir-3179-4'\n",
    "inptbl.loc[m,'input']"
   ]
  },
  {
   "cell_type": "code",
   "execution_count": 110,
   "metadata": {},
   "outputs": [
    {
     "data": {
      "text/plain": [
       "(1095.0, 3739.0)"
      ]
     },
     "execution_count": 110,
     "metadata": {},
     "output_type": "execute_result"
    }
   ],
   "source": [
    "clvcnts['hsa-mir-214']"
   ]
  },
  {
   "cell_type": "code",
   "execution_count": 111,
   "metadata": {},
   "outputs": [
    {
     "data": {
      "text/plain": [
       "(30, 92)"
      ]
     },
     "execution_count": 111,
     "metadata": {},
     "output_type": "execute_result"
    }
   ],
   "source": [
    "preposition['hsa-mir-214']"
   ]
  },
  {
   "cell_type": "code",
   "execution_count": null,
   "metadata": {},
   "outputs": [],
   "source": []
  }
 ],
 "metadata": {
  "kernelspec": {
   "display_name": "Python 2",
   "language": "python",
   "name": "python2"
  },
  "language_info": {
   "codemirror_mode": {
    "name": "ipython",
    "version": 2
   },
   "file_extension": ".py",
   "mimetype": "text/x-python",
   "name": "python",
   "nbconvert_exporter": "python",
   "pygments_lexer": "ipython2",
   "version": "2.7.18"
  }
 },
 "nbformat": 4,
 "nbformat_minor": 2
}
