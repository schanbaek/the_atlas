{
 "cells": [
  {
   "cell_type": "markdown",
   "metadata": {},
   "source": [
    "# Supplementary Table 5. Nick processing\n",
    "---"
   ]
  },
  {
   "cell_type": "code",
   "execution_count": 26,
   "metadata": {},
   "outputs": [
    {
     "name": "stdout",
     "output_type": "stream",
     "text": [
      "Last revised by Seungchan Baek at 2021-01-05.\n"
     ]
    }
   ],
   "source": [
    "import time\n",
    "today = time.strftime('%Y-%m-%d')\n",
    "name = 'Seungchan Baek'\n",
    "print 'Last revised by %s at %s.' % (name, today)"
   ]
  },
  {
   "cell_type": "code",
   "execution_count": 27,
   "metadata": {},
   "outputs": [
    {
     "name": "stdout",
     "output_type": "stream",
     "text": [
      "/casa/bsc/projects/1_DCS/2004_paper_prep\n"
     ]
    }
   ],
   "source": [
    "home = '/casa/bsc/projects/1_DCS/2004_paper_prep/'\n",
    "%cd $home"
   ]
  },
  {
   "cell_type": "code",
   "execution_count": 28,
   "metadata": {},
   "outputs": [
    {
     "name": "stdout",
     "output_type": "stream",
     "text": [
      "resultpath: results/210105/\n"
     ]
    }
   ],
   "source": [
    "from __future__ import division\n",
    "import sys; sys.path.append('/casa/bsc/notebooks/')\n",
    "from basic import gen_result_dir\n",
    "resultpath = gen_result_dir('results/')\n",
    "print 'resultpath:', resultpath"
   ]
  },
  {
   "cell_type": "code",
   "execution_count": 29,
   "metadata": {},
   "outputs": [],
   "source": [
    "import pandas as pd\n",
    "import numpy as np\n",
    "import re\n",
    "import gzip\n",
    "from matplotlib import pyplot as plt\n",
    "from collections import defaultdict, Counter\n",
    "from scipy.stats import spearmanr\n",
    "from util import *\n",
    "%matplotlib inline"
   ]
  },
  {
   "cell_type": "code",
   "execution_count": 30,
   "metadata": {},
   "outputs": [],
   "source": [
    "LIBRARIES = [ 'set1', 'set2', 'set3', 'set4', 'set5' ]"
   ]
  },
  {
   "cell_type": "code",
   "execution_count": 31,
   "metadata": {},
   "outputs": [],
   "source": [
    "s1 = pd.read_csv('supplementary/201123_s1__DROSHA_dependency.csv', header=1, index_col=0)\n",
    "s2 = pd.read_csv('supplementary/201123_s2__Construct.csv', header=1, index_col=0).fillna('')\n",
    "s3 = pd.read_csv('supplementary/201012_s3_input.csv', header=1, index_col=0)\n",
    "s4 = pd.read_csv('supplementary/201012_s4_cleavage-product.csv', header=1)\n",
    "s5 = pd.read_csv('supplementary/201012_s5_pri-structure.csv', header=1, index_col=0)"
   ]
  },
  {
   "cell_type": "code",
   "execution_count": 32,
   "metadata": {},
   "outputs": [
    {
     "name": "stdout",
     "output_type": "stream",
     "text": [
      "1881 (32, 90)\n"
     ]
    }
   ],
   "source": [
    "preposition = {}\n",
    "for mir in s2.index:\n",
    "    flank5, flank3 = s2.loc[mir,[\"5' flanking segment\",\"3' flanking segment\"]]\n",
    "    if flank5 and flank3:\n",
    "        preposition[mir] = (len(flank5)+1,125-len(flank3))\n",
    "    else:\n",
    "        preposition[mir] = (0,125)\n",
    "print len(preposition), preposition['hsa-mir-142']"
   ]
  },
  {
   "cell_type": "code",
   "execution_count": 33,
   "metadata": {},
   "outputs": [
    {
     "data": {
      "text/html": [
       "<div>\n",
       "<style scoped>\n",
       "    .dataframe tbody tr th:only-of-type {\n",
       "        vertical-align: middle;\n",
       "    }\n",
       "\n",
       "    .dataframe tbody tr th {\n",
       "        vertical-align: top;\n",
       "    }\n",
       "\n",
       "    .dataframe thead th {\n",
       "        text-align: right;\n",
       "    }\n",
       "</style>\n",
       "<table border=\"1\" class=\"dataframe\">\n",
       "  <thead>\n",
       "    <tr style=\"text-align: right;\">\n",
       "      <th></th>\n",
       "      <th>Pri-miRNA</th>\n",
       "      <th>rstart</th>\n",
       "      <th>rend</th>\n",
       "      <th>set1</th>\n",
       "      <th>set2</th>\n",
       "      <th>set3</th>\n",
       "      <th>set4</th>\n",
       "      <th>set5</th>\n",
       "    </tr>\n",
       "  </thead>\n",
       "  <tbody>\n",
       "    <tr>\n",
       "      <th>0</th>\n",
       "      <td>hsa-let-7a-1</td>\n",
       "      <td>1</td>\n",
       "      <td>8</td>\n",
       "      <td>4</td>\n",
       "      <td>4</td>\n",
       "      <td>0</td>\n",
       "      <td>0</td>\n",
       "      <td>0</td>\n",
       "    </tr>\n",
       "  </tbody>\n",
       "</table>\n",
       "</div>"
      ],
      "text/plain": [
       "      Pri-miRNA  rstart  rend  set1  set2  set3  set4  set5\n",
       "0  hsa-let-7a-1       1     8     4     4     0     0     0"
      ]
     },
     "execution_count": 33,
     "metadata": {},
     "output_type": "execute_result"
    }
   ],
   "source": [
    "clvraw = s4.set_index(['Pri-miRNA','rstart','rend'])\n",
    "clvtbl = pd.DataFrame()\n",
    "for lib in LIBRARIES:\n",
    "    clvtbl[lib] = clvraw[['%s-1'%lib,'%s-2'%lib]].sum(axis=1)\n",
    "clvtbl = clvtbl.reset_index()\n",
    "clvtbl.head(1)"
   ]
  },
  {
   "cell_type": "code",
   "execution_count": 35,
   "metadata": {},
   "outputs": [],
   "source": [
    "s4dupl = pd.read_csv('resources/210105_dupl_clvs.csv')\n",
    "clvrawd = s4dupl.set_index(['Pri-miRNA','rstart','rend'])\n",
    "clvtbld = pd.DataFrame()\n",
    "for lib in LIBRARIES:\n",
    "    clvtbld[lib] = clvrawd[['%s-1'%lib,'%s-2'%lib]].sum(axis=1)\n",
    "clvtbld = clvtbld.reset_index()"
   ]
  },
  {
   "cell_type": "code",
   "execution_count": 36,
   "metadata": {},
   "outputs": [],
   "source": [
    "clvtbl = clvtbl.append(clvtbld,ignore_index=True).drop_duplicates(['Pri-miRNA','rstart','rend'])"
   ]
  },
  {
   "cell_type": "code",
   "execution_count": 37,
   "metadata": {},
   "outputs": [],
   "source": [
    "start, mid, end = 1, 63, 125\n",
    "clv5f = clvtbl[(clvtbl['rstart']==start)&(clvtbl['rend']<mid)].set_index('Pri-miRNA')\n",
    "clv3f = clvtbl[(clvtbl['rstart']>mid)&(clvtbl['rend']==end)].set_index('Pri-miRNA')\n",
    "clvhn = clvtbl[(clvtbl['rstart']<mid)&(clvtbl['rend']>mid)]\n",
    "clvn5 = clvhn[clvhn['rstart']==start]\n",
    "clvn3 = clvhn[clvhn['rend']==end]\n",
    "clvh = clvhn.drop(clvn5.index).drop(clvn3.index).set_index('Pri-miRNA')\n",
    "clvn5 = clvn5.set_index('Pri-miRNA'); clvn3 = clvn3.set_index('Pri-miRNA')"
   ]
  },
  {
   "cell_type": "code",
   "execution_count": 38,
   "metadata": {},
   "outputs": [],
   "source": [
    "def fill_unfound(tbl):\n",
    "    found = set(tbl.index)\n",
    "    unfound = [ mir for mir in s2.index if mir not in found ]\n",
    "    fill = pd.DataFrame(index=unfound, columns=tbl.columns).fillna(0)\n",
    "    return tbl.append(fill)"
   ]
  },
  {
   "cell_type": "code",
   "execution_count": 39,
   "metadata": {},
   "outputs": [],
   "source": [
    "clvtbl = fill_unfound(clvtbl.set_index('Pri-miRNA'))\n",
    "clv5f = fill_unfound(clv5f)\n",
    "clv3f = fill_unfound(clv3f)\n",
    "clvh = fill_unfound(clvh)\n",
    "clvn5 = fill_unfound(clvn5)\n",
    "clvn3 = fill_unfound(clvn3)"
   ]
  },
  {
   "cell_type": "markdown",
   "metadata": {},
   "source": [
    "---"
   ]
  },
  {
   "cell_type": "code",
   "execution_count": 15,
   "metadata": {},
   "outputs": [],
   "source": [
    "#tbl = pd.DataFrame(columns=['Pri-miRNA','5p nick processing','3p nick processing','Set'])\n",
    "tbl = pd.DataFrame(columns=['Pri-miRNA','Hairpin','5p nick processing','Set'])\n",
    "tbl = tbl.set_index('Pri-miRNA')"
   ]
  },
  {
   "cell_type": "code",
   "execution_count": 12,
   "metadata": {},
   "outputs": [],
   "source": [
    "RCUTOFF = 30\n",
    "RCUTOFFH = 10\n",
    "FCUTOFF = .01\n",
    "WINDOW = 3\n",
    "INVERTED = 11"
   ]
  },
  {
   "cell_type": "code",
   "execution_count": 13,
   "metadata": {},
   "outputs": [],
   "source": [
    "def select_lib(mir):\n",
    "    return max(LIBRARIES, key=lambda x: clvtbl.loc[mir,x].sum())"
   ]
  },
  {
   "cell_type": "code",
   "execution_count": 16,
   "metadata": {},
   "outputs": [],
   "source": [
    "for mir in s2.index:\n",
    "    ps, pe = preposition[mir]\n",
    "    if ps<1 or pe>125:\n",
    "        continue\n",
    "    unc5 = clvn5.loc[[mir]].reset_index().set_index(['rend'])\n",
    "    unc5 = unc5.reindex(range(pe-WINDOW,pe+WINDOW+1)).sum()\n",
    "    unc3 = clvn3.loc[[mir]].reset_index().set_index(['rstart'])\n",
    "    unc3 = unc3.reindex(range(ps-WINDOW,ps+WINDOW+1)).sum()\n",
    "    hpn = clvh.loc[[mir]]\n",
    "    hpn = hpn[hpn.apply(lambda x: (x['rstart'] in range(ps-WINDOW,ps+WINDOW+1)) and \n",
    "                                  (x['rend'] in range(pe-WINDOW,pe+WINDOW+1)),axis=1)].sum()\n",
    "    lib = select_lib(mir)\n",
    "    if hpn[lib].sum()>=RCUTOFFH:\n",
    "        tbl.loc[mir,'Hairpin'] = hpn[lib].sum()\n",
    "        tbl.loc[mir,'5p nick processing'] = (unc3[lib]+1)/(hpn[lib]+1)\n",
    "        #tbl.loc[mir,'3p nick processing'] = (unc5[lib]+1)/(hpn[lib]+1)\n",
    "        tbl.loc[mir,'Set'] = lib"
   ]
  },
  {
   "cell_type": "code",
   "execution_count": 21,
   "metadata": {},
   "outputs": [
    {
     "data": {
      "text/plain": [
       "98"
      ]
     },
     "execution_count": 21,
     "metadata": {},
     "output_type": "execute_result"
    }
   ],
   "source": [
    "n5freq = tbl[(tbl['Hairpin']>=50)&(tbl['5p nick processing']>=1)].index\n",
    "len(n5freq)"
   ]
  },
  {
   "cell_type": "code",
   "execution_count": 25,
   "metadata": {},
   "outputs": [],
   "source": [
    "tbl.to_csv('resources/201231_nick5.csv')"
   ]
  },
  {
   "cell_type": "code",
   "execution_count": 22,
   "metadata": {},
   "outputs": [
    {
     "data": {
      "text/plain": [
       "Index([u'hsa-let-7f-1', u'hsa-mir-100', u'hsa-mir-106a', u'hsa-mir-107',\n",
       "       u'hsa-mir-10a', u'hsa-mir-10b', u'hsa-mir-1204', u'hsa-mir-122',\n",
       "       u'hsa-mir-1250', u'hsa-mir-127', u'hsa-mir-1287', u'hsa-mir-1306',\n",
       "       u'hsa-mir-130a', u'hsa-mir-1343', u'hsa-mir-138-2', u'hsa-mir-17',\n",
       "       u'hsa-mir-1913', u'hsa-mir-1914', u'hsa-mir-20a', u'hsa-mir-2110',\n",
       "       u'hsa-mir-2117', u'hsa-mir-215', u'hsa-mir-22', u'hsa-mir-2355',\n",
       "       u'hsa-mir-302f', u'hsa-mir-30c-2', u'hsa-mir-3115', u'hsa-mir-3125',\n",
       "       u'hsa-mir-3126', u'hsa-mir-3141', u'hsa-mir-3156-3', u'hsa-mir-3189',\n",
       "       u'hsa-mir-320a', u'hsa-mir-320b-2', u'hsa-mir-323b', u'hsa-mir-328',\n",
       "       u'hsa-mir-34a', u'hsa-mir-3646', u'hsa-mir-3649', u'hsa-mir-3668',\n",
       "       u'hsa-mir-378d-1', u'hsa-mir-383', u'hsa-mir-4280', u'hsa-mir-4282',\n",
       "       u'hsa-mir-4288', u'hsa-mir-4308', u'hsa-mir-4428', u'hsa-mir-4490',\n",
       "       u'hsa-mir-4493', u'hsa-mir-4498', u'hsa-mir-4500', u'hsa-mir-4501',\n",
       "       u'hsa-mir-4505', u'hsa-mir-452', u'hsa-mir-4533', u'hsa-mir-4649',\n",
       "       u'hsa-mir-4664', u'hsa-mir-4746', u'hsa-mir-4769', u'hsa-mir-4801',\n",
       "       u'hsa-mir-511', u'hsa-mir-517b', u'hsa-mir-5189', u'hsa-mir-518a-2',\n",
       "       u'hsa-mir-5193', u'hsa-mir-5197', u'hsa-mir-520h', u'hsa-mir-521-2',\n",
       "       u'hsa-mir-543', u'hsa-mir-548g', u'hsa-mir-550b-2', u'hsa-mir-5572',\n",
       "       u'hsa-mir-567', u'hsa-mir-5684', u'hsa-mir-5687', u'hsa-mir-5691',\n",
       "       u'hsa-mir-5707', u'hsa-mir-590', u'hsa-mir-606', u'hsa-mir-6124',\n",
       "       u'hsa-mir-650', u'hsa-mir-6509', u'hsa-mir-654', u'hsa-mir-659',\n",
       "       u'hsa-mir-6720', u'hsa-mir-6769a', u'hsa-mir-6796', u'hsa-mir-6842',\n",
       "       u'hsa-mir-6856', u'hsa-mir-7978', u'hsa-mir-8059', u'hsa-mir-8066',\n",
       "       u'hsa-mir-8083', u'hsa-mir-8088', u'hsa-mir-875', u'hsa-mir-891b',\n",
       "       u'hsa-mir-92a-1', u'hsa-mir-92a-2'],\n",
       "      dtype='object', name=u'Pri-miRNA')"
      ]
     },
     "execution_count": 22,
     "metadata": {},
     "output_type": "execute_result"
    }
   ],
   "source": [
    "n5freq"
   ]
  },
  {
   "cell_type": "code",
   "execution_count": 34,
   "metadata": {},
   "outputs": [],
   "source": [
    "tbl.to_csv('resources/201123_s5__nick_processing.csv')"
   ]
  },
  {
   "cell_type": "code",
   "execution_count": 35,
   "metadata": {},
   "outputs": [],
   "source": [
    "out = open('supplementary/201123_s5__Nick_processing.csv', 'wt')\n",
    "description = 'Supplementary Table 5. Nick processing\\n\\n\\n\\n\\n'\n",
    "out.write(description)\n",
    "for l in open('resources/201123_s5__nick_processing.csv', 'rt'):\n",
    "    out.write(l)\n",
    "out.close()"
   ]
  },
  {
   "cell_type": "code",
   "execution_count": null,
   "metadata": {},
   "outputs": [],
   "source": []
  }
 ],
 "metadata": {
  "kernelspec": {
   "display_name": "Python 2",
   "language": "python",
   "name": "python2"
  },
  "language_info": {
   "codemirror_mode": {
    "name": "ipython",
    "version": 2
   },
   "file_extension": ".py",
   "mimetype": "text/x-python",
   "name": "python",
   "nbconvert_exporter": "python",
   "pygments_lexer": "ipython2",
   "version": "2.7.18"
  }
 },
 "nbformat": 4,
 "nbformat_minor": 2
}
