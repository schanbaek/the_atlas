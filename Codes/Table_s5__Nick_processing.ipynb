{
 "cells": [
  {
   "cell_type": "markdown",
   "metadata": {},
   "source": [
    "# Supplementary Table 5. Nick processing\n",
    "---"
   ]
  },
  {
   "cell_type": "code",
   "execution_count": 1,
   "metadata": {},
   "outputs": [
    {
     "name": "stdout",
     "output_type": "stream",
     "text": [
      "Last revised by Seungchan Baek at 2020-11-23.\n"
     ]
    }
   ],
   "source": [
    "import time\n",
    "today = time.strftime('%Y-%m-%d')\n",
    "name = 'Seungchan Baek'\n",
    "print 'Last revised by %s at %s.' % (name, today)"
   ]
  },
  {
   "cell_type": "code",
   "execution_count": 2,
   "metadata": {},
   "outputs": [
    {
     "name": "stdout",
     "output_type": "stream",
     "text": [
      "/casa/bsc/projects/1_DCS/2004_paper_prep\n"
     ]
    }
   ],
   "source": [
    "home = '/casa/bsc/projects/1_DCS/2004_paper_prep/'\n",
    "%cd $home"
   ]
  },
  {
   "cell_type": "code",
   "execution_count": 3,
   "metadata": {},
   "outputs": [
    {
     "name": "stdout",
     "output_type": "stream",
     "text": [
      "resultpath: results/201123/\n"
     ]
    }
   ],
   "source": [
    "from __future__ import division\n",
    "import sys; sys.path.append('/casa/bsc/notebooks/')\n",
    "from basic import gen_result_dir\n",
    "resultpath = gen_result_dir('results/')\n",
    "print 'resultpath:', resultpath"
   ]
  },
  {
   "cell_type": "code",
   "execution_count": 4,
   "metadata": {},
   "outputs": [],
   "source": [
    "import pandas as pd\n",
    "import numpy as np\n",
    "import re\n",
    "import gzip\n",
    "from matplotlib import pyplot as plt\n",
    "from collections import defaultdict, Counter\n",
    "from scipy.stats import spearmanr\n",
    "from util import *\n",
    "%matplotlib inline"
   ]
  },
  {
   "cell_type": "code",
   "execution_count": 5,
   "metadata": {},
   "outputs": [],
   "source": [
    "LIBRARIES = [ 'set1', 'set2', 'set3', 'set4', 'set5' ]"
   ]
  },
  {
   "cell_type": "code",
   "execution_count": 6,
   "metadata": {},
   "outputs": [],
   "source": [
    "s1 = pd.read_csv('supplementary/201123_s1__DROSHA_dependency.csv', header=1, index_col=0)\n",
    "s2 = pd.read_csv('supplementary/201123_s2__Construct.csv', header=1, index_col=0).fillna('')\n",
    "s3 = pd.read_csv('supplementary/201012_s3_input.csv', header=1, index_col=0)\n",
    "s4 = pd.read_csv('supplementary/201012_s4_cleavage-product.csv', header=1)\n",
    "s5 = pd.read_csv('supplementary/201012_s5_pri-structure.csv', header=1, index_col=0)"
   ]
  },
  {
   "cell_type": "code",
   "execution_count": 7,
   "metadata": {},
   "outputs": [
    {
     "name": "stdout",
     "output_type": "stream",
     "text": [
      "1881 (32, 90)\n"
     ]
    }
   ],
   "source": [
    "preposition = {}\n",
    "for mir in s2.index:\n",
    "    flank5, flank3 = s2.loc[mir,[\"5' flanking segment\",\"3' flanking segment\"]]\n",
    "    if flank5 and flank3:\n",
    "        preposition[mir] = (len(flank5)+1,125-len(flank3))\n",
    "    else:\n",
    "        preposition[mir] = (0,125)\n",
    "print len(preposition), preposition['hsa-mir-142']"
   ]
  },
  {
   "cell_type": "code",
   "execution_count": 8,
   "metadata": {},
   "outputs": [
    {
     "data": {
      "text/html": [
       "<div>\n",
       "<style scoped>\n",
       "    .dataframe tbody tr th:only-of-type {\n",
       "        vertical-align: middle;\n",
       "    }\n",
       "\n",
       "    .dataframe tbody tr th {\n",
       "        vertical-align: top;\n",
       "    }\n",
       "\n",
       "    .dataframe thead th {\n",
       "        text-align: right;\n",
       "    }\n",
       "</style>\n",
       "<table border=\"1\" class=\"dataframe\">\n",
       "  <thead>\n",
       "    <tr style=\"text-align: right;\">\n",
       "      <th></th>\n",
       "      <th>Pri-miRNA</th>\n",
       "      <th>rstart</th>\n",
       "      <th>rend</th>\n",
       "      <th>set1</th>\n",
       "      <th>set2</th>\n",
       "      <th>set3</th>\n",
       "      <th>set4</th>\n",
       "      <th>set5</th>\n",
       "    </tr>\n",
       "  </thead>\n",
       "  <tbody>\n",
       "    <tr>\n",
       "      <th>0</th>\n",
       "      <td>hsa-let-7a-1</td>\n",
       "      <td>1</td>\n",
       "      <td>8</td>\n",
       "      <td>4</td>\n",
       "      <td>4</td>\n",
       "      <td>0</td>\n",
       "      <td>0</td>\n",
       "      <td>0</td>\n",
       "    </tr>\n",
       "  </tbody>\n",
       "</table>\n",
       "</div>"
      ],
      "text/plain": [
       "      Pri-miRNA  rstart  rend  set1  set2  set3  set4  set5\n",
       "0  hsa-let-7a-1       1     8     4     4     0     0     0"
      ]
     },
     "execution_count": 8,
     "metadata": {},
     "output_type": "execute_result"
    }
   ],
   "source": [
    "clvraw = s4.set_index(['Pri-miRNA','rstart','rend'])\n",
    "clvtbl = pd.DataFrame()\n",
    "for lib in LIBRARIES:\n",
    "    clvtbl[lib] = clvraw[['%s-1'%lib,'%s-2'%lib]].sum(axis=1)\n",
    "clvtbl = clvtbl.reset_index()\n",
    "clvtbl.head(1)"
   ]
  },
  {
   "cell_type": "code",
   "execution_count": 9,
   "metadata": {},
   "outputs": [],
   "source": [
    "start, mid, end = 1, 63, 125\n",
    "clv5f = clvtbl[(clvtbl['rstart']==start)&(clvtbl['rend']<mid)].set_index('Pri-miRNA')\n",
    "clv3f = clvtbl[(clvtbl['rstart']>mid)&(clvtbl['rend']==end)].set_index('Pri-miRNA')\n",
    "clvhn = clvtbl[(clvtbl['rstart']<mid)&(clvtbl['rend']>mid)]\n",
    "clvn5 = clvhn[clvhn['rstart']==start]\n",
    "clvn3 = clvhn[clvhn['rend']==end]\n",
    "clvh = clvhn.drop(clvn5.index).drop(clvn3.index).set_index('Pri-miRNA')\n",
    "clvn5 = clvn5.set_index('Pri-miRNA'); clvn3 = clvn3.set_index('Pri-miRNA')"
   ]
  },
  {
   "cell_type": "code",
   "execution_count": 10,
   "metadata": {},
   "outputs": [],
   "source": [
    "def fill_unfound(tbl):\n",
    "    found = set(tbl.index)\n",
    "    unfound = [ mir for mir in s2.index if mir not in found ]\n",
    "    fill = pd.DataFrame(index=unfound, columns=tbl.columns).fillna(0)\n",
    "    return tbl.append(fill)"
   ]
  },
  {
   "cell_type": "code",
   "execution_count": 11,
   "metadata": {},
   "outputs": [],
   "source": [
    "clvtbl = fill_unfound(clvtbl.set_index('Pri-miRNA'))\n",
    "clv5f = fill_unfound(clv5f)\n",
    "clv3f = fill_unfound(clv3f)\n",
    "clvh = fill_unfound(clvh)\n",
    "clvn5 = fill_unfound(clvn5)\n",
    "clvn3 = fill_unfound(clvn3)"
   ]
  },
  {
   "cell_type": "markdown",
   "metadata": {},
   "source": [
    "---"
   ]
  },
  {
   "cell_type": "code",
   "execution_count": 32,
   "metadata": {},
   "outputs": [],
   "source": [
    "tbl = pd.DataFrame(columns=['Pri-miRNA','5p nick processing','3p nick processing','Set'])\n",
    "tbl = tbl.set_index('Pri-miRNA')"
   ]
  },
  {
   "cell_type": "code",
   "execution_count": 12,
   "metadata": {},
   "outputs": [],
   "source": [
    "RCUTOFF = 30\n",
    "RCUTOFFH = 10\n",
    "FCUTOFF = .01\n",
    "WINDOW = 3\n",
    "INVERTED = 11"
   ]
  },
  {
   "cell_type": "code",
   "execution_count": 15,
   "metadata": {},
   "outputs": [],
   "source": [
    "def select_lib(mir):\n",
    "    return max(LIBRARIES, key=lambda x: clvtbl.loc[mir,x].sum())"
   ]
  },
  {
   "cell_type": "code",
   "execution_count": 33,
   "metadata": {},
   "outputs": [],
   "source": [
    "for mir in s2.index:\n",
    "    ps, pe = preposition[mir]\n",
    "    if ps<1 or pe>125:\n",
    "        continue\n",
    "    unc5 = clvn5.loc[[mir]].reset_index().set_index(['rend'])\n",
    "    unc5 = unc5.reindex(range(pe-WINDOW,pe+WINDOW+1)).sum()\n",
    "    unc3 = clvn3.loc[[mir]].reset_index().set_index(['rstart'])\n",
    "    unc3 = unc3.reindex(range(ps-WINDOW,ps+WINDOW+1)).sum()\n",
    "    hpn = clvh.loc[[mir]]\n",
    "    hpn = hpn[hpn.apply(lambda x: (x['rstart'] in range(ps-WINDOW,ps+WINDOW+1)) and \n",
    "                                  (x['rend'] in range(pe-WINDOW,pe+WINDOW+1)),axis=1)].sum()\n",
    "    lib = select_lib(mir)\n",
    "    if hpn[lib].sum()>=RCUTOFFH:\n",
    "        tbl.loc[mir,'5p nick processing'] = (unc3[lib]+1)/(hpn[lib]+1)\n",
    "        tbl.loc[mir,'3p nick processing'] = (unc5[lib]+1)/(hpn[lib]+1)\n",
    "        tbl.loc[mir,'Set'] = lib"
   ]
  },
  {
   "cell_type": "code",
   "execution_count": 34,
   "metadata": {},
   "outputs": [],
   "source": [
    "tbl.to_csv('resources/201123_s5__nick_processing.csv')"
   ]
  },
  {
   "cell_type": "code",
   "execution_count": 35,
   "metadata": {},
   "outputs": [],
   "source": [
    "out = open('supplementary/201123_s5__Nick_processing.csv', 'wt')\n",
    "description = 'Supplementary Table 5. Nick processing\\n\\n\\n\\n\\n'\n",
    "out.write(description)\n",
    "for l in open('resources/201123_s5__nick_processing.csv', 'rt'):\n",
    "    out.write(l)\n",
    "out.close()"
   ]
  },
  {
   "cell_type": "code",
   "execution_count": null,
   "metadata": {},
   "outputs": [],
   "source": []
  }
 ],
 "metadata": {
  "kernelspec": {
   "display_name": "Python 2",
   "language": "python",
   "name": "python2"
  },
  "language_info": {
   "codemirror_mode": {
    "name": "ipython",
    "version": 2
   },
   "file_extension": ".py",
   "mimetype": "text/x-python",
   "name": "python",
   "nbconvert_exporter": "python",
   "pygments_lexer": "ipython2",
   "version": "2.7.18"
  }
 },
 "nbformat": 4,
 "nbformat_minor": 2
}
