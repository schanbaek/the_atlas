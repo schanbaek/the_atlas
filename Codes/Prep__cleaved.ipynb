{
 "cells": [
  {
   "cell_type": "markdown",
   "metadata": {},
   "source": [
    "# Cleavage products\n",
    "1. List up pri-miRNAs with redundant construct sequence\n",
    "2. Build table\n",
    "3. Add redundant pri-miRNAs"
   ]
  },
  {
   "cell_type": "code",
   "execution_count": 1,
   "metadata": {},
   "outputs": [
    {
     "name": "stdout",
     "output_type": "stream",
     "text": [
      "Last revised by Seungchan Baek at 2021-01-05.\n"
     ]
    }
   ],
   "source": [
    "import time\n",
    "today = time.strftime('%Y-%m-%d')\n",
    "name = 'Seungchan Baek'\n",
    "print 'Last revised by %s at %s.' % (name, today)"
   ]
  },
  {
   "cell_type": "code",
   "execution_count": 2,
   "metadata": {},
   "outputs": [
    {
     "name": "stdout",
     "output_type": "stream",
     "text": [
      "/casa/bsc/projects/1_DCS/2004_paper_prep\n"
     ]
    }
   ],
   "source": [
    "home = '/casa/bsc/projects/1_DCS/2004_paper_prep/'\n",
    "%cd $home"
   ]
  },
  {
   "cell_type": "code",
   "execution_count": 3,
   "metadata": {},
   "outputs": [],
   "source": [
    "from __future__ import division\n",
    "import pandas as pd\n",
    "import numpy as np\n",
    "import re\n",
    "import gzip\n",
    "from matplotlib import pyplot as plt\n",
    "from collections import defaultdict, Counter\n",
    "%matplotlib inline"
   ]
  },
  {
   "cell_type": "markdown",
   "metadata": {},
   "source": [
    "### 1. List up pri-miRNAs with redundant construct sequence"
   ]
  },
  {
   "cell_type": "code",
   "execution_count": 4,
   "metadata": {},
   "outputs": [
    {
     "name": "stdout",
     "output_type": "stream",
     "text": [
      "30\n"
     ]
    }
   ],
   "source": [
    "## Pri-miRNAs of identical 125mer sequences\n",
    "s2 = 'supplementary/201012_s2_pri-construct.csv'\n",
    "s2tbl = pd.read_csv(s2, index_col=0, header=1)\n",
    "s2redund = s2tbl[s2tbl['Note'].apply(lambda x: str(x).find('Same construct')>=0)]\n",
    "redundRepre = {}\n",
    "for pri, note in dict(s2redund['Note']).items():\n",
    "    repre = note.split()[-1]\n",
    "    redundRepre[pri] = repre\n",
    "print len(redundRepre)"
   ]
  },
  {
   "cell_type": "code",
   "execution_count": 5,
   "metadata": {},
   "outputs": [],
   "source": [
    "repreRedund = defaultdict(list)\n",
    "for mir in redundRepre:\n",
    "    repreRedund[redundRepre[mir]].append(mir)"
   ]
  },
  {
   "cell_type": "code",
   "execution_count": 7,
   "metadata": {},
   "outputs": [
    {
     "data": {
      "text/html": [
       "<div>\n",
       "<style scoped>\n",
       "    .dataframe tbody tr th:only-of-type {\n",
       "        vertical-align: middle;\n",
       "    }\n",
       "\n",
       "    .dataframe tbody tr th {\n",
       "        vertical-align: top;\n",
       "    }\n",
       "\n",
       "    .dataframe thead th {\n",
       "        text-align: right;\n",
       "    }\n",
       "</style>\n",
       "<table border=\"1\" class=\"dataframe\">\n",
       "  <thead>\n",
       "    <tr style=\"text-align: right;\">\n",
       "      <th></th>\n",
       "      <th>Pri-miRNA</th>\n",
       "      <th>rstart</th>\n",
       "      <th>rend</th>\n",
       "      <th>pilot-1</th>\n",
       "      <th>pilot-2</th>\n",
       "      <th>set1-1</th>\n",
       "      <th>set1-2</th>\n",
       "      <th>set2-1</th>\n",
       "      <th>set2-2</th>\n",
       "      <th>set3-1</th>\n",
       "      <th>set3-2</th>\n",
       "      <th>set4-1</th>\n",
       "      <th>set4-2</th>\n",
       "      <th>set5-1</th>\n",
       "      <th>set5-2</th>\n",
       "    </tr>\n",
       "  </thead>\n",
       "  <tbody>\n",
       "    <tr>\n",
       "      <th>0</th>\n",
       "      <td>hsa-let-7a-1</td>\n",
       "      <td>1</td>\n",
       "      <td>8</td>\n",
       "      <td>0</td>\n",
       "      <td>0</td>\n",
       "      <td>2</td>\n",
       "      <td>2</td>\n",
       "      <td>4</td>\n",
       "      <td>0</td>\n",
       "      <td>0</td>\n",
       "      <td>0</td>\n",
       "      <td>0</td>\n",
       "      <td>0</td>\n",
       "      <td>0</td>\n",
       "      <td>0</td>\n",
       "    </tr>\n",
       "  </tbody>\n",
       "</table>\n",
       "</div>"
      ],
      "text/plain": [
       "      Pri-miRNA  rstart  rend  pilot-1  pilot-2  set1-1  set1-2  set2-1  \\\n",
       "0  hsa-let-7a-1       1     8        0        0       2       2       4   \n",
       "\n",
       "   set2-2  set3-1  set3-2  set4-1  set4-2  set5-1  set5-2  \n",
       "0       0       0       0       0       0       0       0  "
      ]
     },
     "execution_count": 7,
     "metadata": {},
     "output_type": "execute_result"
    }
   ],
   "source": [
    "prev = pd.read_csv('supplementary/201012_s4_cleavage-product.csv', header=1)\n",
    "prev.head(1)"
   ]
  },
  {
   "cell_type": "markdown",
   "metadata": {},
   "source": [
    "### 2. Build table"
   ]
  },
  {
   "cell_type": "code",
   "execution_count": 8,
   "metadata": {},
   "outputs": [],
   "source": [
    "def cigar_to_len(cigar):\n",
    "    nums = re.split('[A-Z]', cigar)[:-1]\n",
    "    strs = re.split('[0-9]+', cigar)[1:]\n",
    "    rlen = sum([int(number) for number, cigStr in zip(nums, strs) if cigStr in 'DM'])\n",
    "    return rlen"
   ]
  },
  {
   "cell_type": "code",
   "execution_count": 9,
   "metadata": {},
   "outputs": [],
   "source": [
    "allclvs = 'pilot-1 pilot-2 set1-1 set1-2 set2-1 set2-2 set3-1 set3-2\\\n",
    "           set4-1 set4-2 set5-1 set5-2'.split()\n",
    "adaptlen = defaultdict(lambda: 20)\n",
    "adaptlen['pilot-1'] = 0\n",
    "adaptlen['pilot-2'] = 0"
   ]
  },
  {
   "cell_type": "markdown",
   "metadata": {},
   "source": [
    "#### Multiply mapped reads"
   ]
  },
  {
   "cell_type": "code",
   "execution_count": 10,
   "metadata": {},
   "outputs": [],
   "source": [
    "d,dupls = {},{}\n",
    "for lib in allclvs[2:]:\n",
    "    summaryfile = 'cleaved/alignments/%s.multi.txt.gz' % lib\n",
    "    tbl = pd.read_table(gzip.open(summaryfile, 'rb'), sep=' ',\n",
    "                        names=['Read','Pri-miRNA', 'start_R2', 'cigar', 'start_R1'])\n",
    "    tbl['rstart'] = tbl['start_R1'].apply(lambda x: max(1, x-adaptlen[lib]))\n",
    "    tbl['rlen'] = tbl['cigar'].apply(cigar_to_len)\n",
    "    tbl['rend_tmp'] = tbl['start_R2']+tbl['rlen']-1\n",
    "    tbl['rend'] = tbl['rend_tmp'].apply(lambda x: min(125, x-adaptlen[lib]))\n",
    "    tbl = tbl[(tbl['rend']-tbl['rstart'])>=10]\n",
    "    multicnts = Counter(tbl['Read'])\n",
    "    for (pri,st,en),grp in tbl.groupby(['Pri-miRNA','rstart','rend']):\n",
    "        mcnt = multicnts[grp['Read'].tolist()[0]]\n",
    "        dupls[(pri,int(st),int(en))] = mcnt\n",
    "    cnttbl = tbl.groupby(['Pri-miRNA','rstart','rend']).size()\n",
    "    d[lib] = cnttbl\n",
    "clvtbl = pd.DataFrame(d).fillna(0).astype(int).reset_index()\n",
    "unclv = clvtbl[(clvtbl['rstart']==1)&(clvtbl['rend']==125)]\n",
    "clvtbl = clvtbl.drop(unclv.index).set_index(['Pri-miRNA','rstart','rend'])"
   ]
  },
  {
   "cell_type": "code",
   "execution_count": 11,
   "metadata": {},
   "outputs": [],
   "source": [
    "clvtbl2 = clvtbl.copy()\n",
    "for (pri,st,en),row in clvtbl.iterrows():\n",
    "    clvtbl2.loc[(pri,st,en)] = row/dupls[(pri,st,en)]"
   ]
  },
  {
   "cell_type": "code",
   "execution_count": 18,
   "metadata": {},
   "outputs": [
    {
     "data": {
      "text/html": [
       "<div>\n",
       "<style scoped>\n",
       "    .dataframe tbody tr th:only-of-type {\n",
       "        vertical-align: middle;\n",
       "    }\n",
       "\n",
       "    .dataframe tbody tr th {\n",
       "        vertical-align: top;\n",
       "    }\n",
       "\n",
       "    .dataframe thead th {\n",
       "        text-align: right;\n",
       "    }\n",
       "</style>\n",
       "<table border=\"1\" class=\"dataframe\">\n",
       "  <thead>\n",
       "    <tr style=\"text-align: right;\">\n",
       "      <th></th>\n",
       "      <th>Pri-miRNA</th>\n",
       "      <th>rstart</th>\n",
       "      <th>rend</th>\n",
       "      <th>set1-1</th>\n",
       "      <th>set1-2</th>\n",
       "      <th>set2-1</th>\n",
       "      <th>set2-2</th>\n",
       "      <th>set3-1</th>\n",
       "      <th>set3-2</th>\n",
       "      <th>set4-1</th>\n",
       "      <th>set4-2</th>\n",
       "      <th>set5-1</th>\n",
       "      <th>set5-2</th>\n",
       "    </tr>\n",
       "  </thead>\n",
       "  <tbody>\n",
       "    <tr>\n",
       "      <th>0</th>\n",
       "      <td>hsa-mir-105-1</td>\n",
       "      <td>19</td>\n",
       "      <td>51</td>\n",
       "      <td>0.5</td>\n",
       "      <td>0.0</td>\n",
       "      <td>0.0</td>\n",
       "      <td>0.0</td>\n",
       "      <td>0.0</td>\n",
       "      <td>0.0</td>\n",
       "      <td>0.0</td>\n",
       "      <td>0.0</td>\n",
       "      <td>0.0</td>\n",
       "      <td>0.0</td>\n",
       "    </tr>\n",
       "    <tr>\n",
       "      <th>1</th>\n",
       "      <td>hsa-mir-105-1</td>\n",
       "      <td>20</td>\n",
       "      <td>47</td>\n",
       "      <td>0.5</td>\n",
       "      <td>0.0</td>\n",
       "      <td>0.0</td>\n",
       "      <td>0.0</td>\n",
       "      <td>0.0</td>\n",
       "      <td>0.0</td>\n",
       "      <td>0.0</td>\n",
       "      <td>0.0</td>\n",
       "      <td>0.0</td>\n",
       "      <td>0.0</td>\n",
       "    </tr>\n",
       "    <tr>\n",
       "      <th>2</th>\n",
       "      <td>hsa-mir-105-1</td>\n",
       "      <td>20</td>\n",
       "      <td>51</td>\n",
       "      <td>0.0</td>\n",
       "      <td>0.5</td>\n",
       "      <td>0.0</td>\n",
       "      <td>0.0</td>\n",
       "      <td>0.0</td>\n",
       "      <td>0.0</td>\n",
       "      <td>0.0</td>\n",
       "      <td>0.0</td>\n",
       "      <td>0.0</td>\n",
       "      <td>0.0</td>\n",
       "    </tr>\n",
       "    <tr>\n",
       "      <th>3</th>\n",
       "      <td>hsa-mir-105-1</td>\n",
       "      <td>20</td>\n",
       "      <td>52</td>\n",
       "      <td>0.0</td>\n",
       "      <td>0.5</td>\n",
       "      <td>0.0</td>\n",
       "      <td>0.0</td>\n",
       "      <td>0.0</td>\n",
       "      <td>0.0</td>\n",
       "      <td>0.0</td>\n",
       "      <td>0.0</td>\n",
       "      <td>0.0</td>\n",
       "      <td>0.0</td>\n",
       "    </tr>\n",
       "    <tr>\n",
       "      <th>4</th>\n",
       "      <td>hsa-mir-105-1</td>\n",
       "      <td>20</td>\n",
       "      <td>53</td>\n",
       "      <td>0.5</td>\n",
       "      <td>0.0</td>\n",
       "      <td>0.0</td>\n",
       "      <td>0.0</td>\n",
       "      <td>0.0</td>\n",
       "      <td>0.0</td>\n",
       "      <td>0.0</td>\n",
       "      <td>0.0</td>\n",
       "      <td>0.0</td>\n",
       "      <td>0.0</td>\n",
       "    </tr>\n",
       "  </tbody>\n",
       "</table>\n",
       "</div>"
      ],
      "text/plain": [
       "       Pri-miRNA  rstart  rend  set1-1  set1-2  set2-1  set2-2  set3-1  \\\n",
       "0  hsa-mir-105-1      19    51     0.5     0.0     0.0     0.0     0.0   \n",
       "1  hsa-mir-105-1      20    47     0.5     0.0     0.0     0.0     0.0   \n",
       "2  hsa-mir-105-1      20    51     0.0     0.5     0.0     0.0     0.0   \n",
       "3  hsa-mir-105-1      20    52     0.0     0.5     0.0     0.0     0.0   \n",
       "4  hsa-mir-105-1      20    53     0.5     0.0     0.0     0.0     0.0   \n",
       "\n",
       "   set3-2  set4-1  set4-2  set5-1  set5-2  \n",
       "0     0.0     0.0     0.0     0.0     0.0  \n",
       "1     0.0     0.0     0.0     0.0     0.0  \n",
       "2     0.0     0.0     0.0     0.0     0.0  \n",
       "3     0.0     0.0     0.0     0.0     0.0  \n",
       "4     0.0     0.0     0.0     0.0     0.0  "
      ]
     },
     "execution_count": 18,
     "metadata": {},
     "output_type": "execute_result"
    }
   ],
   "source": [
    "resetind = clvtbl2.reset_index()\n",
    "for pri in set(resetind['Pri-miRNA']):\n",
    "    if pri in repreRedund:\n",
    "        for pri2 in repreRedund[pri]:\n",
    "            new = resetind[resetind['Pri-miRNA']==pri].copy()\n",
    "            new['Pri-miRNA'] = pri2\n",
    "            resetind = resetind.append(new)\n",
    "clvtbl2 = resetind.set_index(['Pri-miRNA', 'rstart', 'rend']).sort_index()\n",
    "clvtbl2.head()"
   ]
  },
  {
   "cell_type": "code",
   "execution_count": 20,
   "metadata": {},
   "outputs": [],
   "source": [
    "clvtbl = prev.append(clvtbl2,ignore_index=True)\n",
    "clvtbl = clvtbl.drop_duplicates(['Pri-miRNA','rstart','rend']).fillna(0)"
   ]
  },
  {
   "cell_type": "code",
   "execution_count": 21,
   "metadata": {},
   "outputs": [],
   "source": [
    "clvtbl.to_csv('resources/210105_clvs.csv')"
   ]
  },
  {
   "cell_type": "code",
   "execution_count": null,
   "metadata": {},
   "outputs": [],
   "source": []
  },
  {
   "cell_type": "code",
   "execution_count": null,
   "metadata": {},
   "outputs": [],
   "source": []
  },
  {
   "cell_type": "code",
   "execution_count": 17,
   "metadata": {},
   "outputs": [],
   "source": [
    "d = {}\n",
    "for lib in allclvs:\n",
    "    summaryfile = 'cleaved/alignments/%s.txt.gz' % lib\n",
    "    tbl = pd.read_table(gzip.open(summaryfile, 'rb'), sep='\\t',\n",
    "                        names=['Pri-miRNA', 'start_R2', 'cigar', 'start_R1'])\n",
    "    tbl['rstart'] = tbl['start_R1'].apply(lambda x: max(1, x-adaptlen[lib]))\n",
    "    tbl['rlen'] = tbl['cigar'].apply(cigar_to_len)\n",
    "    tbl['rend_tmp'] = tbl['start_R2']+tbl['rlen']-1\n",
    "    tbl['rend'] = tbl['rend_tmp'].apply(lambda x: min(125, x-adaptlen[lib]))\n",
    "    cnttbl = tbl.groupby(['Pri-miRNA', 'rstart', 'rend']).size()\n",
    "    d[lib] = cnttbl\n",
    "clvtbl = pd.DataFrame(d).fillna(0).astype(int).reset_index()\n",
    "unclv = clvtbl[(clvtbl['rstart']==1)&(clvtbl['rend']==125)]\n",
    "clvtbl = clvtbl.drop(unclv.index).set_index(['Pri-miRNA','rstart','rend'])"
   ]
  },
  {
   "cell_type": "code",
   "execution_count": null,
   "metadata": {
    "scrolled": false
   },
   "outputs": [],
   "source": [
    "print len(set(clvtbl.index.get_level_values(0)))"
   ]
  },
  {
   "cell_type": "markdown",
   "metadata": {},
   "source": [
    "#### 3. Add redundant pri-miRNAs"
   ]
  },
  {
   "cell_type": "code",
   "execution_count": 10,
   "metadata": {},
   "outputs": [
    {
     "name": "stdout",
     "output_type": "stream",
     "text": [
      "1881\n"
     ]
    },
    {
     "data": {
      "text/html": [
       "<div>\n",
       "<style scoped>\n",
       "    .dataframe tbody tr th:only-of-type {\n",
       "        vertical-align: middle;\n",
       "    }\n",
       "\n",
       "    .dataframe tbody tr th {\n",
       "        vertical-align: top;\n",
       "    }\n",
       "\n",
       "    .dataframe thead th {\n",
       "        text-align: right;\n",
       "    }\n",
       "</style>\n",
       "<table border=\"1\" class=\"dataframe\">\n",
       "  <thead>\n",
       "    <tr style=\"text-align: right;\">\n",
       "      <th></th>\n",
       "      <th></th>\n",
       "      <th></th>\n",
       "      <th>pilot-1</th>\n",
       "      <th>pilot-2</th>\n",
       "      <th>set1-1</th>\n",
       "      <th>set1-2</th>\n",
       "      <th>set2-1</th>\n",
       "      <th>set2-2</th>\n",
       "      <th>set3-1</th>\n",
       "      <th>set3-2</th>\n",
       "      <th>set4-1</th>\n",
       "      <th>set4-2</th>\n",
       "      <th>set5-1</th>\n",
       "      <th>set5-2</th>\n",
       "    </tr>\n",
       "    <tr>\n",
       "      <th>Pri-miRNA</th>\n",
       "      <th>rstart</th>\n",
       "      <th>rend</th>\n",
       "      <th></th>\n",
       "      <th></th>\n",
       "      <th></th>\n",
       "      <th></th>\n",
       "      <th></th>\n",
       "      <th></th>\n",
       "      <th></th>\n",
       "      <th></th>\n",
       "      <th></th>\n",
       "      <th></th>\n",
       "      <th></th>\n",
       "      <th></th>\n",
       "    </tr>\n",
       "  </thead>\n",
       "  <tbody>\n",
       "    <tr>\n",
       "      <th rowspan=\"5\" valign=\"top\">hsa-let-7a-1</th>\n",
       "      <th rowspan=\"5\" valign=\"top\">1</th>\n",
       "      <th>8</th>\n",
       "      <td>0</td>\n",
       "      <td>0</td>\n",
       "      <td>2</td>\n",
       "      <td>2</td>\n",
       "      <td>4</td>\n",
       "      <td>0</td>\n",
       "      <td>0</td>\n",
       "      <td>0</td>\n",
       "      <td>0</td>\n",
       "      <td>0</td>\n",
       "      <td>0</td>\n",
       "      <td>0</td>\n",
       "    </tr>\n",
       "    <tr>\n",
       "      <th>9</th>\n",
       "      <td>0</td>\n",
       "      <td>0</td>\n",
       "      <td>6</td>\n",
       "      <td>2</td>\n",
       "      <td>0</td>\n",
       "      <td>0</td>\n",
       "      <td>0</td>\n",
       "      <td>0</td>\n",
       "      <td>0</td>\n",
       "      <td>0</td>\n",
       "      <td>0</td>\n",
       "      <td>0</td>\n",
       "    </tr>\n",
       "    <tr>\n",
       "      <th>10</th>\n",
       "      <td>55</td>\n",
       "      <td>26</td>\n",
       "      <td>4</td>\n",
       "      <td>4</td>\n",
       "      <td>0</td>\n",
       "      <td>1</td>\n",
       "      <td>0</td>\n",
       "      <td>0</td>\n",
       "      <td>0</td>\n",
       "      <td>0</td>\n",
       "      <td>0</td>\n",
       "      <td>0</td>\n",
       "    </tr>\n",
       "    <tr>\n",
       "      <th>11</th>\n",
       "      <td>19</td>\n",
       "      <td>18</td>\n",
       "      <td>1</td>\n",
       "      <td>1</td>\n",
       "      <td>0</td>\n",
       "      <td>0</td>\n",
       "      <td>0</td>\n",
       "      <td>0</td>\n",
       "      <td>0</td>\n",
       "      <td>0</td>\n",
       "      <td>0</td>\n",
       "      <td>0</td>\n",
       "    </tr>\n",
       "    <tr>\n",
       "      <th>12</th>\n",
       "      <td>606</td>\n",
       "      <td>314</td>\n",
       "      <td>5</td>\n",
       "      <td>3</td>\n",
       "      <td>0</td>\n",
       "      <td>0</td>\n",
       "      <td>0</td>\n",
       "      <td>0</td>\n",
       "      <td>0</td>\n",
       "      <td>0</td>\n",
       "      <td>0</td>\n",
       "      <td>0</td>\n",
       "    </tr>\n",
       "  </tbody>\n",
       "</table>\n",
       "</div>"
      ],
      "text/plain": [
       "                          pilot-1  pilot-2  set1-1  set1-2  set2-1  set2-2  \\\n",
       "Pri-miRNA    rstart rend                                                     \n",
       "hsa-let-7a-1 1      8           0        0       2       2       4       0   \n",
       "                    9           0        0       6       2       0       0   \n",
       "                    10         55       26       4       4       0       1   \n",
       "                    11         19       18       1       1       0       0   \n",
       "                    12        606      314       5       3       0       0   \n",
       "\n",
       "                          set3-1  set3-2  set4-1  set4-2  set5-1  set5-2  \n",
       "Pri-miRNA    rstart rend                                                  \n",
       "hsa-let-7a-1 1      8          0       0       0       0       0       0  \n",
       "                    9          0       0       0       0       0       0  \n",
       "                    10         0       0       0       0       0       0  \n",
       "                    11         0       0       0       0       0       0  \n",
       "                    12         0       0       0       0       0       0  "
      ]
     },
     "execution_count": 10,
     "metadata": {},
     "output_type": "execute_result"
    }
   ],
   "source": [
    "resetind = clvtbl.reset_index()\n",
    "for pri in set(resetind['Pri-miRNA']):\n",
    "    if pri in repreRedund:\n",
    "        for pri2 in repreRedund[pri]:\n",
    "            new = resetind[resetind['Pri-miRNA']==pri].copy()\n",
    "            new['Pri-miRNA'] = pri2\n",
    "            resetind = resetind.append(new)\n",
    "clvtbl = resetind.set_index(['Pri-miRNA', 'rstart', 'rend']).sort_index()\n",
    "print len(set(clvtbl.index.get_level_values(0)))\n",
    "clvtbl.head()"
   ]
  },
  {
   "cell_type": "code",
   "execution_count": 11,
   "metadata": {},
   "outputs": [],
   "source": [
    "clvtbl.to_csv('resources/201012_s4_cleavage-product.csv')"
   ]
  },
  {
   "cell_type": "code",
   "execution_count": 12,
   "metadata": {},
   "outputs": [],
   "source": [
    "out = open('supplementary/201012_s4_cleavage-product.csv', 'wt')\n",
    "description = 'Supplementary Table 4. Cleavage products\\n\\n\\n\\n\\n'\n",
    "out.write(description)\n",
    "for l in open('resources/201012_s4_cleavage-product.csv', 'rt'):\n",
    "    out.write(l)\n",
    "out.close()"
   ]
  },
  {
   "cell_type": "code",
   "execution_count": null,
   "metadata": {},
   "outputs": [],
   "source": []
  }
 ],
 "metadata": {
  "kernelspec": {
   "display_name": "Python 2",
   "language": "python",
   "name": "python2"
  },
  "language_info": {
   "codemirror_mode": {
    "name": "ipython",
    "version": 2
   },
   "file_extension": ".py",
   "mimetype": "text/x-python",
   "name": "python",
   "nbconvert_exporter": "python",
   "pygments_lexer": "ipython2",
   "version": "2.7.18"
  }
 },
 "nbformat": 4,
 "nbformat_minor": 2
}
