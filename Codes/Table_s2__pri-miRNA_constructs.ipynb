{
 "cells": [
  {
   "cell_type": "markdown",
   "metadata": {},
   "source": [
    "# Supplementary Table 2. Pri-miRNA constructs\n",
    "\n",
    "1. pre-miRNA locus\n",
    "2. 100way phyloP scores\n",
    "3. genomic locus and sequence of construct\n",
    "4. library included\n",
    "5. note\n",
    "6. build table"
   ]
  },
  {
   "cell_type": "code",
   "execution_count": 1,
   "metadata": {},
   "outputs": [
    {
     "name": "stdout",
     "output_type": "stream",
     "text": [
      "Last revised by Seungchan Baek at 2020-10-13.\n"
     ]
    }
   ],
   "source": [
    "import time\n",
    "today = time.strftime('%Y-%m-%d')\n",
    "name = 'Seungchan Baek'\n",
    "print 'Last revised by %s at %s.' % (name, today)"
   ]
  },
  {
   "cell_type": "code",
   "execution_count": 2,
   "metadata": {},
   "outputs": [
    {
     "name": "stdout",
     "output_type": "stream",
     "text": [
      "/casa/bsc/projects/1_DCS/2004_paper_prep\n"
     ]
    }
   ],
   "source": [
    "home = '/casa/bsc/projects/1_DCS/2004_paper_prep/'\n",
    "%cd $home"
   ]
  },
  {
   "cell_type": "code",
   "execution_count": 3,
   "metadata": {},
   "outputs": [],
   "source": [
    "from __future__ import division\n",
    "from Bio import SeqIO\n",
    "from collections import defaultdict\n",
    "from os import listdir\n",
    "from matplotlib import pyplot as plt\n",
    "import pandas as pd\n",
    "import numpy as np\n",
    "import gzip\n",
    "%matplotlib inline"
   ]
  },
  {
   "cell_type": "markdown",
   "metadata": {},
   "source": [
    "### 1. pre-miRNA locus"
   ]
  },
  {
   "cell_type": "code",
   "execution_count": 4,
   "metadata": {},
   "outputs": [],
   "source": [
    "## encode miRBase structure\n",
    "strfile = 'supplementary/mirbase-v21.str'\n",
    "strinfos = defaultdict(list)\n",
    "mir = ''\n",
    "for l in open(strfile, 'rt'):\n",
    "    if l.startswith('>'):\n",
    "        mir = l.split()[0][1:]\n",
    "    else:\n",
    "        strinfos[mir].append(l.replace('\\n',''))"
   ]
  },
  {
   "cell_type": "code",
   "execution_count": 5,
   "metadata": {},
   "outputs": [],
   "source": [
    "def concat_seq(infos, nucs):\n",
    "    ss5, ds5, match, ds3, ss3 = infos\n",
    "    seq = ''\n",
    "    if ds5[0] in nucs:\n",
    "        ss5 = '- '+ss5\n",
    "    if ds3[0] in nucs:\n",
    "        ss3 = '- '+ss3\n",
    "        \n",
    "    for s5, d5 in zip(ss5.split(), ds5.split()):\n",
    "        seq += s5+d5\n",
    "    seq += match[-1]\n",
    "    for d3, s3 in zip(ds3.split()[::-1], ss3.split()[::-1]):\n",
    "        seq += d3[::-1]+s3[::-1]    \n",
    "    seq = seq.replace('-','').replace('|','').replace(' ','')\n",
    "    return seq"
   ]
  },
  {
   "cell_type": "code",
   "execution_count": 6,
   "metadata": {},
   "outputs": [
    {
     "name": "stdout",
     "output_type": "stream",
     "text": [
      "gucagcagugccuUAGCAGCACGUAAAUAUUGGCGuuaagauucuaaaauuaucuCCAGUAUUAACUGUGCUGCUGAaguaagguugac\n"
     ]
    }
   ],
   "source": [
    "mir = 'hsa-mir-16-1'\n",
    "info = strinfos[mir]\n",
    "print concat_seq(info[1:6], 'ACGUacgu')"
   ]
  },
  {
   "cell_type": "code",
   "execution_count": 7,
   "metadata": {},
   "outputs": [],
   "source": [
    "def get_new_str(mir):\n",
    "    nucs = 'ACGUacgu'\n",
    "    ss5, ds5, match, ds3, ss3 = strinfos[mir][1:6]\n",
    "    newinfo = [ '', '', '', '', '' ]\n",
    "    \n",
    "    for ss, ssnew, oppo, index in [ (ss5,'',ss3,0), (ss3,'',ss5,4) ]:\n",
    "        for i,s in enumerate(ss):\n",
    "            if s in nucs and i<match.find('|'): ssnew += 'F'\n",
    "            elif s in nucs and i>match.rfind('|'): ssnew += 'L'\n",
    "            elif s in nucs and oppo[i] in nucs: ssnew += 'S'\n",
    "            elif s in nucs: ssnew += 'A'\n",
    "            else: ssnew += s\n",
    "        newinfo[index] = ssnew\n",
    "    \n",
    "    for ds, dsnew, index in [ (ds5,'',1), (ds3,'',3) ]:\n",
    "        for i,s in enumerate(ds):\n",
    "            if s in nucs and i>match.rfind('|'): dsnew += 'L'\n",
    "            elif s in nucs: dsnew += 'M'\n",
    "            else: dsnew += s\n",
    "        newinfo[index] = dsnew\n",
    "    \n",
    "    if match[-1] in nucs: newinfo[2] = match[:-1] + 'L'\n",
    "    else: newinfo[2] = match   \n",
    "    return concat_seq(newinfo, 'FLSAM')"
   ]
  },
  {
   "cell_type": "code",
   "execution_count": 8,
   "metadata": {},
   "outputs": [
    {
     "name": "stdout",
     "output_type": "stream",
     "text": [
      "MMMMMMSSMMMSMMMMMMMMMMMMSMMMMMMMMSMSMMMLLLLLLLLLLMMMSMSMMMMMMMMSMMAMMMMMMMMMMSMMMSSMMMMMM\n"
     ]
    }
   ],
   "source": [
    "mir = 'hsa-mir-16-1'\n",
    "print get_new_str(mir)"
   ]
  },
  {
   "cell_type": "code",
   "execution_count": 9,
   "metadata": {},
   "outputs": [],
   "source": [
    "## Find pre-miRNA annotation\n",
    "def parse_line(row):\n",
    "    for s in row['attr'].split(';'):\n",
    "        tag, value = s.split('=')\n",
    "        row[tag] = value\n",
    "    return row"
   ]
  },
  {
   "cell_type": "code",
   "execution_count": 10,
   "metadata": {},
   "outputs": [
    {
     "data": {
      "text/html": [
       "<div>\n",
       "<style scoped>\n",
       "    .dataframe tbody tr th:only-of-type {\n",
       "        vertical-align: middle;\n",
       "    }\n",
       "\n",
       "    .dataframe tbody tr th {\n",
       "        vertical-align: top;\n",
       "    }\n",
       "\n",
       "    .dataframe thead th {\n",
       "        text-align: right;\n",
       "    }\n",
       "</style>\n",
       "<table border=\"1\" class=\"dataframe\">\n",
       "  <thead>\n",
       "    <tr style=\"text-align: right;\">\n",
       "      <th></th>\n",
       "      <th>Alias</th>\n",
       "      <th>Derives_from</th>\n",
       "      <th>ID</th>\n",
       "      <th>Name</th>\n",
       "      <th>chr</th>\n",
       "      <th>end</th>\n",
       "      <th>kind</th>\n",
       "      <th>start</th>\n",
       "      <th>strand</th>\n",
       "    </tr>\n",
       "  </thead>\n",
       "  <tbody>\n",
       "    <tr>\n",
       "      <th>0</th>\n",
       "      <td>MI0022705</td>\n",
       "      <td>NaN</td>\n",
       "      <td>MI0022705</td>\n",
       "      <td>hsa-mir-6859-1</td>\n",
       "      <td>chr1</td>\n",
       "      <td>17436</td>\n",
       "      <td>miRNA_primary_transcript</td>\n",
       "      <td>17369</td>\n",
       "      <td>-</td>\n",
       "    </tr>\n",
       "    <tr>\n",
       "      <th>1</th>\n",
       "      <td>MIMAT0027618</td>\n",
       "      <td>MI0022705</td>\n",
       "      <td>MIMAT0027618</td>\n",
       "      <td>hsa-miR-6859-5p</td>\n",
       "      <td>chr1</td>\n",
       "      <td>17431</td>\n",
       "      <td>miRNA</td>\n",
       "      <td>17409</td>\n",
       "      <td>-</td>\n",
       "    </tr>\n",
       "    <tr>\n",
       "      <th>2</th>\n",
       "      <td>MIMAT0027619</td>\n",
       "      <td>MI0022705</td>\n",
       "      <td>MIMAT0027619</td>\n",
       "      <td>hsa-miR-6859-3p</td>\n",
       "      <td>chr1</td>\n",
       "      <td>17391</td>\n",
       "      <td>miRNA</td>\n",
       "      <td>17369</td>\n",
       "      <td>-</td>\n",
       "    </tr>\n",
       "  </tbody>\n",
       "</table>\n",
       "</div>"
      ],
      "text/plain": [
       "          Alias Derives_from            ID             Name   chr    end  \\\n",
       "0     MI0022705          NaN     MI0022705   hsa-mir-6859-1  chr1  17436   \n",
       "1  MIMAT0027618    MI0022705  MIMAT0027618  hsa-miR-6859-5p  chr1  17431   \n",
       "2  MIMAT0027619    MI0022705  MIMAT0027619  hsa-miR-6859-3p  chr1  17391   \n",
       "\n",
       "                       kind  start strand  \n",
       "0  miRNA_primary_transcript  17369      -  \n",
       "1                     miRNA  17409      -  \n",
       "2                     miRNA  17369      -  "
      ]
     },
     "execution_count": 10,
     "metadata": {},
     "output_type": "execute_result"
    }
   ],
   "source": [
    "# miBRase v21 gff file\n",
    "gff = 'supplementary/human_mirbase-v21.gff3'\n",
    "anntbl = pd.read_table(gff, header=12, sep='\\t', usecols=[0,2,3,4,6,8], \n",
    "                       names=['chr','kind','start','end','strand','attr'])\n",
    "anntbl = anntbl.apply(parse_line, axis=1).drop(['attr'], axis=1)\n",
    "anntbl.head(3)"
   ]
  },
  {
   "cell_type": "code",
   "execution_count": 11,
   "metadata": {
    "scrolled": true
   },
   "outputs": [
    {
     "name": "stdout",
     "output_type": "stream",
     "text": [
      "1881\n"
     ]
    }
   ],
   "source": [
    "annpri = anntbl[anntbl['kind']=='miRNA_primary_transcript'].set_index('Name')\n",
    "allpris = sorted(annpri.index)\n",
    "print len(allpris)"
   ]
  },
  {
   "cell_type": "code",
   "execution_count": 12,
   "metadata": {},
   "outputs": [],
   "source": [
    "# pri-mature matching\n",
    "primat = {}\n",
    "for pri, row in annpri.iterrows():\n",
    "    matureDerives = anntbl[anntbl['Derives_from']==row['ID']]\n",
    "    primat[pri] = matureDerives['ID'].tolist()"
   ]
  },
  {
   "cell_type": "code",
   "execution_count": 13,
   "metadata": {},
   "outputs": [
    {
     "name": "stdout",
     "output_type": "stream",
     "text": [
      "28645\n"
     ]
    }
   ],
   "source": [
    "# hairpin sequence\n",
    "pri = 'supplementary/hairpin_mirbase-v21.fa'\n",
    "priseqs = { s.id:str(s.seq) for s in SeqIO.parse(pri, 'fasta') }\n",
    "print len(priseqs)"
   ]
  },
  {
   "cell_type": "code",
   "execution_count": 14,
   "metadata": {},
   "outputs": [],
   "source": [
    "annmat = anntbl[anntbl['kind']=='miRNA'].set_index('ID')"
   ]
  },
  {
   "cell_type": "code",
   "execution_count": 15,
   "metadata": {},
   "outputs": [],
   "source": [
    "def count_len(strt):\n",
    "    return strt.count('M')+strt.count('S')"
   ]
  },
  {
   "cell_type": "code",
   "execution_count": 16,
   "metadata": {},
   "outputs": [],
   "source": [
    "def get_pre_seq(pri, relativepos, arm):\n",
    "    overhang3 = 2\n",
    "    priseq = priseqs[pri]\n",
    "    pristr = get_new_str(pri)\n",
    "    if arm=='5p':\n",
    "        preend = [ i for i in range(len(pristr)+1) \n",
    "            if count_len(pristr[i:])<=max(0,count_len(pristr[:relativepos-1])-overhang3) ][0]\n",
    "        return priseq[relativepos-1:preend]\n",
    "    else: # 3p\n",
    "        prestart = [ i+1 for i in range(len(pristr))\n",
    "                     if count_len(pristr[:i])>=count_len(pristr[relativepos:])+overhang3 ][0]\n",
    "        return priseq[prestart-1:relativepos]"
   ]
  },
  {
   "cell_type": "code",
   "execution_count": 17,
   "metadata": {},
   "outputs": [],
   "source": [
    "def get_pre_annot(pri):\n",
    "    matids = primat[pri]\n",
    "    chrom, strand = annpri.loc[pri, ['chr','strand']]\n",
    "    if len(matids)==2:\n",
    "        start = min(annmat.loc[matids, 'start'])\n",
    "        end = max(annmat.loc[matids, 'end'])\n",
    "    elif strand=='+':\n",
    "        pristart, priend = annpri.loc[pri, ['start','end']]\n",
    "        matstart, matend = annmat.loc[matids[0], ['start','end']]\n",
    "        if (matstart-pristart)<(priend-matend): # 5p\n",
    "            start = matstart\n",
    "            end = matstart + len(get_pre_seq(pri, matstart-pristart+1, '5p')) - 1\n",
    "        else: # 3p\n",
    "            end = matend\n",
    "            start = matend - len(get_pre_seq(pri, matend-pristart+1, '3p')) + 1\n",
    "    else: # strand=='-'\n",
    "        pristart, priend = annpri.loc[pri, ['start','end']]\n",
    "        matstart, matend = annmat.loc[matids[0], ['start','end']]\n",
    "        if (matstart-pristart)<(priend-matend): # 3p\n",
    "            start = matstart\n",
    "            end = matstart + len(get_pre_seq(pri, priend-matstart+1, '3p')) - 1\n",
    "        else: # 5p\n",
    "            end = matend\n",
    "            start = matend - len(get_pre_seq(pri, priend-matend+1, '5p')) + 1\n",
    "    return chrom, start, end, strand"
   ]
  },
  {
   "cell_type": "code",
   "execution_count": 18,
   "metadata": {},
   "outputs": [
    {
     "name": "stdout",
     "output_type": "stream",
     "text": [
      "('chr15', 45433060, 45433119, '+')\n"
     ]
    }
   ],
   "source": [
    "pri = 'hsa-mir-147b'\n",
    "print get_pre_annot(pri)"
   ]
  },
  {
   "cell_type": "markdown",
   "metadata": {},
   "source": [
    "### 2. 100way phyloP scores\n",
    "- phyloP files were downloaded from UCSC genome browser at 2019-05-03.\n",
    "- They were generated by comparative alignment of human and 99 vertebrate genomes (hg38).\n",
    "- They gives pair-wise conservation scores but have gaps. I split the scores by gaps so that each split file become continuous. Titles indicates start positions.\n",
    "- Link: http://hgdownload.soe.ucsc.edu/goldenPath/hg38/phyloP100way/\n",
    "- Snakefile: /casa/bsc/databases/human/Snakefile_1905"
   ]
  },
  {
   "cell_type": "code",
   "execution_count": 21,
   "metadata": {},
   "outputs": [
    {
     "name": "stdout",
     "output_type": "stream",
     "text": [
      "157\n"
     ]
    }
   ],
   "source": [
    "s1 = pd.read_csv('supplementary/201012_s1_pri-info.csv', header=1, index_col=0)\n",
    "drosensitive = [ pri for pri in s1.index \n",
    "                 if s1.loc[pri, 'Note'].find('DROSHA KO-sensitive')>=0 ]\n",
    "print len(drosensitive)"
   ]
  },
  {
   "cell_type": "code",
   "execution_count": 22,
   "metadata": {},
   "outputs": [],
   "source": [
    "## split phyloP files\n",
    "savepath = 'supplementary/phyloP100way'\n",
    "#chroms = list(range(1,23)) + ['X','Y']\n",
    "#CHROMS = [ 'chr%s'%c for c in chroms ]\n",
    "# for chrom in CHROMS:\n",
    "#     subpath = '%s/%s'%(savepath, chrom)\n",
    "#     if not os.path.exists(subpath):\n",
    "#         os.makedirs(subpath)\n",
    "    \n",
    "#     out = open('%s/init'%subpath, 'wt')\n",
    "#     for l in gzip.open('%s/%s.phyloP100way.wigFix.gz'%(savepath,chrom), 'rb'):\n",
    "#         if l.startswith('fixedStep'):\n",
    "#             start = l.split()[2].split('=')[1]\n",
    "#             out.close()\n",
    "#             out = open('%s/%s.phylop.gz'%(subpath,start), 'wb')\n",
    "#         else:\n",
    "#             out.write(l)"
   ]
  },
  {
   "cell_type": "code",
   "execution_count": 23,
   "metadata": {},
   "outputs": [],
   "source": [
    "def get_phylop_scores(chrom, start, end):\n",
    "    phystarts = [ int(f.split('.')[0]) for f in listdir('%s/%s'%(savepath,chrom)) \n",
    "                  if f.endswith('.gz') ]\n",
    "    init = sorted([ s for s in phystarts if s<=start ])[-1]\n",
    "    nextst = sorted([ s for s in phystarts if s>start])[0]\n",
    "    rels, rele = start-init, end-init\n",
    "    phys = open('%s/%s/%s.phylop.gz'%(savepath,chrom,init),'rt').read().strip().split('\\n')\n",
    "    if len(phys) <= rels:\n",
    "        if nextst > end:\n",
    "            return ['-']*(end-start+1)\n",
    "        else:\n",
    "            return ['-']*(nextst-start) + get_phylop_scores(chrom, nextst, end)\n",
    "    elif len(phys) > rele:\n",
    "        return map(float, phys[rels:rele+1])\n",
    "    else: # rels < len(phys) <= rele\n",
    "        return map(float, phys[rels:]) + get_phylop_scores(chrom, init+len(phys), end)"
   ]
  },
  {
   "cell_type": "code",
   "execution_count": 24,
   "metadata": {},
   "outputs": [
    {
     "name": "stdout",
     "output_type": "stream",
     "text": [
      "[7.481, 9.353, 8.717, 9.353, 9.353, 7.481, 8.717, 9.353, 7.481, 6.794, 9.353, 5.29, 7.481, 7.481, 9.353, 5.696, 6.884, 7.481, 8.717, 9.353, 7.481, 7.481, 5.718, 5.755, 4.879, 7.473, 9.353, 7.439, 7.481, 5.659, 6.818, 2.185, 4.454, 5.659, 7.378, 5.608, 1.717, 3.555, 0.986, 2.408, 5.659, 7.481, 7.442, 4.966, 5.947, 8.717, 9.353, 8.717, 7.481, 4.777, 8.717, 7.378, 7.481, 8.717, 7.481, 3.714, 5.613, 8.717, 3.353, 3.34, 3.694, 7.481, 8.717, 7.378, 7.481, 9.353, 7.481, 7.378, 7.481, 7.481, 7.481, 7.378]\n"
     ]
    }
   ],
   "source": [
    "pri = 'hsa-let-7a-1'\n",
    "chrom, start, end, strand = get_pre_annot(pri)\n",
    "print get_phylop_scores(chrom, start, end)"
   ]
  },
  {
   "cell_type": "code",
   "execution_count": 25,
   "metadata": {},
   "outputs": [],
   "source": [
    "phypris = {}\n",
    "for pri in drosensitive+['hsa-mir-142']:\n",
    "    chrom, pstart, pend, strand = get_pre_annot(pri)\n",
    "    phypri = get_phylop_scores(chrom, pstart-100, pend+100)\n",
    "    if strand=='-':\n",
    "        phypri = phypri[::-1]\n",
    "    phypris[pri] = phypri"
   ]
  },
  {
   "cell_type": "code",
   "execution_count": 26,
   "metadata": {},
   "outputs": [],
   "source": [
    "phy5fs = zip(*[ phypris[pri][50:100] for pri in drosensitive ])\n",
    "phy5fs = [ [ p for p in ps if p!='-' ] for ps in phy5fs ]\n",
    "phy5avs = map(np.average, phy5fs)\n",
    "\n",
    "phy3fs = zip(*[ phypris[pri][-100:-50] for pri in drosensitive ])\n",
    "phy3fs = [ [ p for p in ps if p!='-' ] for ps in phy3fs ]\n",
    "phy3avs = map(np.average, phy3fs)"
   ]
  },
  {
   "cell_type": "code",
   "execution_count": 27,
   "metadata": {},
   "outputs": [
    {
     "data": {
      "text/plain": [
       "Text(0.51,-0.23,u'5$^\\\\prime$ or 3$^\\\\prime$ flanking region')"
      ]
     },
     "execution_count": 27,
     "metadata": {},
     "output_type": "execute_result"
    },
    {
     "data": {
      "image/png": "[encoded data removed]",
      "text/plain": [
       "<matplotlib.figure.Figure at 0x7f1d9dc23150>"
      ]
     },
     "metadata": {},
     "output_type": "display_data"
    }
   ],
   "source": [
    "fig, (ax1, ax2) = plt.subplots(1, 2, figsize=(5,1.3), sharey=True)\n",
    "fig.subplots_adjust(wspace=.07)\n",
    "\n",
    "ax1.plot(phy5avs, color='#d96423', linewidth=2, zorder=2)\n",
    "ax2.plot(phy3avs, color='#dfc27d', linewidth=2, zorder=2)\n",
    "ax1.set_ylabel('Average\\nphyloP score', fontsize=13)\n",
    "\n",
    "ax1.tick_params(labelsize=12, width=1.2)\n",
    "ax2.spines['left'].set_visible(False)\n",
    "ax2.tick_params(left='off', labelsize=12, width=1.2)\n",
    "\n",
    "ax1.set_xticks([10, 30, 49])\n",
    "ax1.set_xticklabels(['-40', '-20', '-1'])\n",
    "ax1.set_xlim(0, 50)\n",
    "\n",
    "ax2.set_xticks([0, 19, 39])\n",
    "ax2.set_xticklabels(['+1', '+20', '+40'])\n",
    "ax2.set_xlim(-1, 49)\n",
    "\n",
    "ax1.axvspan(30, 49, color='#dddddd')\n",
    "ax2.axvspan(0, 24, color='#dddddd', label='Minimal\\nflanking segment')\n",
    "ax2.legend(frameon=False, loc=(.7,.5), prop={'size':13})\n",
    "fig.text(0.51, -.23, r\"5$^\\prime$ or 3$^\\prime$ flanking region\", ha='center', fontsize=13)"
   ]
  },
  {
   "cell_type": "code",
   "execution_count": 28,
   "metadata": {},
   "outputs": [
    {
     "name": "stdout",
     "output_type": "stream",
     "text": [
      "hsa-let-7g 78\n",
      "hsa-let-7i 78\n",
      "hsa-mir-744 79\n",
      "hsa-mir-98 80\n",
      "hsa-mir-548o 102\n"
     ]
    }
   ],
   "source": [
    "for pri in sorted(drosensitive, key=lambda x:get_pre_annot(x)[2]-get_pre_annot(x)[1]+1)[-5:]:\n",
    "    print pri, get_pre_annot(pri)[2]-get_pre_annot(pri)[1]+1"
   ]
  },
  {
   "cell_type": "markdown",
   "metadata": {},
   "source": [
    "### 3. genomic locus and sequence of construct"
   ]
  },
  {
   "cell_type": "code",
   "execution_count": 29,
   "metadata": {},
   "outputs": [],
   "source": [
    "def rev_com_dna(seq):\n",
    "    seq = seq.upper()\n",
    "    seq = seq.replace('T', 'X')\n",
    "    seq = seq.replace('A', 'T')\n",
    "    seq = seq.replace('X', 'A')\n",
    "    seq = seq.replace('G', 'Y')\n",
    "    seq = seq.replace('C', 'G')\n",
    "    seq = seq.replace('Y', 'C')\n",
    "    return seq[::-1]"
   ]
  },
  {
   "cell_type": "code",
   "execution_count": 30,
   "metadata": {},
   "outputs": [],
   "source": [
    "genome = {}\n",
    "genomef = 'supplementary/hg38.fa.gz'\n",
    "for g in SeqIO.parse(gzip.open(genomef, 'rb'), 'fasta'):\n",
    "    genome[g.id] = str(g.seq)"
   ]
  },
  {
   "cell_type": "code",
   "execution_count": 31,
   "metadata": {},
   "outputs": [],
   "source": [
    "adjust = {}\n",
    "for l in open('supplementary/200414_construct_adjust.txt', 'rt'):\n",
    "    pri, adj = l.split()\n",
    "    adjust[pri] = int(adj)"
   ]
  },
  {
   "cell_type": "code",
   "execution_count": 32,
   "metadata": {},
   "outputs": [],
   "source": [
    "extend5, extend3 = 60, 65\n",
    "constinfos = {}\n",
    "for pri in allpris:\n",
    "    chrom, pstart, pend, strand = get_pre_annot(pri)\n",
    "    if strand=='+':\n",
    "        pmid = (pstart+pend)//2 + adjust[pri]\n",
    "        cstart, cend = pmid-extend5+1, pmid+extend3\n",
    "        constructseq = genome[chrom][cstart-1:cend].upper()\n",
    "    else:\n",
    "        pmid = (pstart+pend+1)//2 + adjust[pri]\n",
    "        cstart, cend = pmid-extend3+1, pmid+extend5\n",
    "        constructseq = rev_com_dna(genome[chrom][cstart-1:cend].upper())\n",
    "    constinfos[pri] = (chrom, cstart, cend, strand, constructseq)"
   ]
  },
  {
   "cell_type": "code",
   "execution_count": 33,
   "metadata": {},
   "outputs": [
    {
     "name": "stdout",
     "output_type": "stream",
     "text": [
      "('chr11', 122146492, 122146616, '-', 'AGCCATTGTGACTGCATGCTCCCAGGTTGAGGTAGTAGGTTGTATAGTTTAGAATTACATCAAGGGAGATAACTGTACAGCCTCCTAGCTTTCCTTGGGTCTTGCACTAAACAACATGGTGAGAA')\n"
     ]
    }
   ],
   "source": [
    "print constinfos['hsa-let-7a-2']"
   ]
  },
  {
   "cell_type": "markdown",
   "metadata": {},
   "source": [
    "### 4. library included"
   ]
  },
  {
   "cell_type": "code",
   "execution_count": 34,
   "metadata": {},
   "outputs": [
    {
     "name": "stdout",
     "output_type": "stream",
     "text": [
      "1645 78 48 80\n"
     ]
    }
   ],
   "source": [
    "synexcel = pd.ExcelFile('supplementary/synthesis_log.xlsx')\n",
    "syn1mirs = synexcel.parse('1st')[0].tolist()\n",
    "syn2mirs = synexcel.parse('2nd')[0].tolist()\n",
    "syn3mirs = synexcel.parse('3rd')[0].tolist()\n",
    "unsynmirs = synexcel.parse('not')[0].tolist()\n",
    "print len(syn1mirs), len(syn2mirs), len(syn3mirs), len(unsynmirs)"
   ]
  },
  {
   "cell_type": "code",
   "execution_count": 35,
   "metadata": {},
   "outputs": [],
   "source": [
    "library = {}\n",
    "for pri in allpris:\n",
    "    if pri in syn1mirs:\n",
    "        library[pri] = 'set 1,2'\n",
    "    elif pri in syn2mirs:\n",
    "        library[pri] = 'set 2,3,4'\n",
    "    elif pri in syn3mirs:\n",
    "        library[pri] = 'set 3,4'\n",
    "    else:\n",
    "        library[pri] = 'set 5'"
   ]
  },
  {
   "cell_type": "markdown",
   "metadata": {},
   "source": [
    "### 5. Sequence redundancy"
   ]
  },
  {
   "cell_type": "code",
   "execution_count": 36,
   "metadata": {
    "scrolled": false
   },
   "outputs": [
    {
     "name": "stdout",
     "output_type": "stream",
     "text": [
      "1851 30\n"
     ]
    }
   ],
   "source": [
    "represeqs = {}\n",
    "redund = {}\n",
    "for pri in allpris:\n",
    "    cseq = constinfos[pri][4]\n",
    "    redundancy = [ p for p in represeqs.keys() if represeqs[p]==cseq ]\n",
    "    if redundancy:\n",
    "        redund[pri] = redundancy[0]\n",
    "        continue\n",
    "    represeqs[pri] = cseq\n",
    "print len(represeqs), len(redund)"
   ]
  },
  {
   "cell_type": "code",
   "execution_count": 37,
   "metadata": {},
   "outputs": [],
   "source": [
    "## reference sequence file\n",
    "# adapter5 = 'GGGCCTATTCAGTTACAGCG'\n",
    "# adapter3 = 'CGTACTGAAGCTAGCAAC'\n",
    "# out = open('references/200416_construct_1851.fa', 'wt')\n",
    "# for pri in sorted(represeqs.keys()):\n",
    "#     out.write('>%s\\n%s\\n' % (pri,adapter5+represeqs[pri]+adapter3))\n",
    "# out.close()"
   ]
  },
  {
   "cell_type": "markdown",
   "metadata": {},
   "source": [
    "### 6. build table"
   ]
  },
  {
   "cell_type": "code",
   "execution_count": 38,
   "metadata": {
    "scrolled": true
   },
   "outputs": [
    {
     "data": {
      "text/html": [
       "<div>\n",
       "<style scoped>\n",
       "    .dataframe tbody tr th:only-of-type {\n",
       "        vertical-align: middle;\n",
       "    }\n",
       "\n",
       "    .dataframe tbody tr th {\n",
       "        vertical-align: top;\n",
       "    }\n",
       "\n",
       "    .dataframe thead th {\n",
       "        text-align: right;\n",
       "    }\n",
       "</style>\n",
       "<table border=\"1\" class=\"dataframe\">\n",
       "  <thead>\n",
       "    <tr style=\"text-align: right;\">\n",
       "      <th></th>\n",
       "      <th>Chr</th>\n",
       "      <th>Start</th>\n",
       "      <th>End</th>\n",
       "      <th>Strand</th>\n",
       "      <th>Construct sequence</th>\n",
       "      <th>100way phyloP scores (pre-miRNA -/+ 100nt)</th>\n",
       "      <th>Library included</th>\n",
       "      <th>Note</th>\n",
       "    </tr>\n",
       "    <tr>\n",
       "      <th>Pri-miRNA</th>\n",
       "      <th></th>\n",
       "      <th></th>\n",
       "      <th></th>\n",
       "      <th></th>\n",
       "      <th></th>\n",
       "      <th></th>\n",
       "      <th></th>\n",
       "      <th></th>\n",
       "    </tr>\n",
       "  </thead>\n",
       "  <tbody>\n",
       "    <tr>\n",
       "      <th>hsa-let-7a-1</th>\n",
       "      <td></td>\n",
       "      <td></td>\n",
       "      <td></td>\n",
       "      <td></td>\n",
       "      <td></td>\n",
       "      <td></td>\n",
       "      <td></td>\n",
       "      <td></td>\n",
       "    </tr>\n",
       "  </tbody>\n",
       "</table>\n",
       "</div>"
      ],
      "text/plain": [
       "             Chr Start End Strand Construct sequence  \\\n",
       "Pri-miRNA                                              \n",
       "hsa-let-7a-1                                           \n",
       "\n",
       "             100way phyloP scores (pre-miRNA -/+ 100nt) Library included Note  \n",
       "Pri-miRNA                                                                      \n",
       "hsa-let-7a-1                                                                   "
      ]
     },
     "execution_count": 38,
     "metadata": {},
     "output_type": "execute_result"
    }
   ],
   "source": [
    "cols = [ 'Pri-miRNA', 'Chr', 'Start', 'End', 'Strand', 'Construct sequence', \n",
    "         '100way phyloP scores (pre-miRNA -/+ 100nt)', 'Library included', 'Note' ]\n",
    "tbl = pd.DataFrame(columns=cols)\n",
    "tbl['Pri-miRNA'] = allpris\n",
    "tbl = tbl.set_index('Pri-miRNA').fillna('')\n",
    "tbl.head(1)"
   ]
  },
  {
   "cell_type": "code",
   "execution_count": 39,
   "metadata": {},
   "outputs": [],
   "source": [
    "for pri in allpris:\n",
    "    chrom, cstart, cend, strand, constructseq = constinfos[pri]\n",
    "    tbl.loc[pri, 'Chr'] = chrom\n",
    "    tbl.loc[pri, 'Start'] = cstart\n",
    "    tbl.loc[pri, 'End'] = cend\n",
    "    tbl.loc[pri, 'Strand'] = strand\n",
    "    tbl.loc[pri, 'Construct sequence'] = constructseq\n",
    "    note = []\n",
    "    if pri in phypris:\n",
    "        tbl.loc[pri, '100way phyloP scores (pre-miRNA -/+ 100nt)'] = phypris[pri]\n",
    "        note.append('DROSHA KO-sensitive')\n",
    "    tbl.loc[pri, 'Library included'] = library[pri]\n",
    "    if pri in redund:\n",
    "        note.append('Same construct sequence with %s'%redund[pri])\n",
    "    tbl.loc[pri, 'Note'] = ', '.join(note)"
   ]
  },
  {
   "cell_type": "code",
   "execution_count": 40,
   "metadata": {},
   "outputs": [],
   "source": [
    "tbl.to_csv('resources/201012_s2_pri-construct.csv')"
   ]
  },
  {
   "cell_type": "code",
   "execution_count": 41,
   "metadata": {},
   "outputs": [],
   "source": [
    "out = open('supplementary/201012_s2_pri-construct.csv', 'wt')\n",
    "description = 'Supplementary Table 2. Pri-miRNA construct\\n\\n\\n\\n\\n'\n",
    "out.write(description)\n",
    "for l in open('resources/201012_s2_pri-construct.csv', 'rt'):\n",
    "    out.write(l)\n",
    "out.close()"
   ]
  },
  {
   "cell_type": "code",
   "execution_count": null,
   "metadata": {},
   "outputs": [],
   "source": []
  }
 ],
 "metadata": {
  "kernelspec": {
   "display_name": "Python 2",
   "language": "python",
   "name": "python2"
  },
  "language_info": {
   "codemirror_mode": {
    "name": "ipython",
    "version": 2
   },
   "file_extension": ".py",
   "mimetype": "text/x-python",
   "name": "python",
   "nbconvert_exporter": "python",
   "pygments_lexer": "ipython2",
   "version": "2.7.18"
  }
 },
 "nbformat": 4,
 "nbformat_minor": 2
}
