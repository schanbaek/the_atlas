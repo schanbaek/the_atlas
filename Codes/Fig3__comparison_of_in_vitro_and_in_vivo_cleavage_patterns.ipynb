{
 "cells": [
  {
   "cell_type": "markdown",
   "metadata": {},
   "source": [
    "# Figure 3. Comparison of in vitro and in vivo cleavage patterns\n",
    "A. Comparison of productively processed miRNAs *in vitro* and *in vivo*  \n",
    "B. Comparison of cleavage sites *in vitro* and *in vivo*  \n",
    "C. Comparison of cleavage specificity *in vitro* and *in vivo*  "
   ]
  },
  {
   "cell_type": "code",
   "execution_count": 1,
   "metadata": {},
   "outputs": [
    {
     "name": "stdout",
     "output_type": "stream",
     "text": [
      "Last revised by Seungchan Baek at 2020-10-13.\n"
     ]
    }
   ],
   "source": [
    "import time\n",
    "today = time.strftime('%Y-%m-%d')\n",
    "name = 'Seungchan Baek'\n",
    "print 'Last revised by %s at %s.' % (name, today)"
   ]
  },
  {
   "cell_type": "code",
   "execution_count": 2,
   "metadata": {},
   "outputs": [
    {
     "name": "stdout",
     "output_type": "stream",
     "text": [
      "/casa/bsc/projects/1_DCS/2004_paper_prep\n"
     ]
    }
   ],
   "source": [
    "home = '/casa/bsc/projects/1_DCS/2004_paper_prep/'\n",
    "%cd $home"
   ]
  },
  {
   "cell_type": "code",
   "execution_count": 3,
   "metadata": {},
   "outputs": [
    {
     "name": "stdout",
     "output_type": "stream",
     "text": [
      "resultpath: results/201013/\n"
     ]
    }
   ],
   "source": [
    "from __future__ import division\n",
    "import sys; sys.path.append('/casa/bsc/notebooks/')\n",
    "from util import *\n",
    "from basic import gen_result_dir\n",
    "resultpath = gen_result_dir('results/')\n",
    "print 'resultpath:', resultpath"
   ]
  },
  {
   "cell_type": "code",
   "execution_count": 4,
   "metadata": {},
   "outputs": [],
   "source": [
    "import pandas as pd\n",
    "import numpy as np\n",
    "import re\n",
    "import gzip\n",
    "from matplotlib import pyplot as plt\n",
    "from matplotlib import gridspec, lines\n",
    "%matplotlib inline"
   ]
  },
  {
   "cell_type": "code",
   "execution_count": 5,
   "metadata": {},
   "outputs": [],
   "source": [
    "LIBRARIES = [ 'set1', 'set2', 'set3', 'set4', 'set5' ]"
   ]
  },
  {
   "cell_type": "markdown",
   "metadata": {},
   "source": [
    "#### Import supplementary tables"
   ]
  },
  {
   "cell_type": "code",
   "execution_count": 6,
   "metadata": {},
   "outputs": [
    {
     "name": "stdout",
     "output_type": "stream",
     "text": [
      "s1:\t5p mature, 5p sequence, 3p mature, 3p sequence, Note\n",
      "s2:\tChr, Start, End, Strand, Construct sequence, 100way phyloP scores (pre-miRNA -/+ 100nt)\n",
      "s5:\t117, 118, 119, 120, 121, 122, 123, 124, 125, symbolized structure\n",
      "s6:\tRelative position from miRBase site, Cleavage Specificity, Cleavage Imbalance, Cleavage type\n",
      "s7:\tChr, miRBase 5' site, miRBase 3' site, IVP 5' site, IVP 3' site, fCLIP 5' site, fCLIP 3' site\n"
     ]
    }
   ],
   "source": [
    "s1 = pd.read_csv('supplementary/201012_s1_pri-info.csv', header=1, index_col=0)\n",
    "s2 = pd.read_csv('supplementary/201012_s2_pri-construct.csv', header=1, index_col=0)\n",
    "s5 = pd.read_csv('supplementary/201012_s5_pri-structure.csv', header=1, index_col=0)\n",
    "s6 = pd.read_csv('supplementary/201012_s6_cleavage-patterns.csv', header=1, index_col=0)\n",
    "s7 = pd.read_csv('supplementary/201012_s7_cleavage-sites.csv', header=1, index_col=0)\n",
    "print 's1:\\t%s'%', '.join(list(s1.columns))\n",
    "print 's2:\\t%s'%', '.join(list(s2.columns)[:6])\n",
    "print 's5:\\t%s'%', '.join(list(s5.columns)[-10:])\n",
    "print 's6:\\t%s'%', '.join(list(s6.columns)[-4:])\n",
    "print 's7:\\t%s'%', '.join(list(s7.columns)[:7])"
   ]
  },
  {
   "cell_type": "code",
   "execution_count": 7,
   "metadata": {},
   "outputs": [],
   "source": [
    "def get_pre_position(pri):\n",
    "    constructseq = s2.loc[pri, 'Construct sequence'].replace('T','U')\n",
    "    seq5p = s1.loc[pri, '5p sequence']\n",
    "    seq3p = s1.loc[pri, '3p sequence']\n",
    "    if seq5p=='n.a.' or constructseq.find(seq5p)==-1:\n",
    "        prestart = 0\n",
    "    else:\n",
    "        prestart = constructseq.find(seq5p)+1\n",
    "    if seq3p=='n.a.' or constructseq.find(seq3p)==-1:\n",
    "        preend = 0\n",
    "    else:\n",
    "        preend = constructseq.rfind(seq3p)+len(seq3p)\n",
    "    return prestart, preend"
   ]
  },
  {
   "cell_type": "code",
   "execution_count": 8,
   "metadata": {},
   "outputs": [
    {
     "name": "stdout",
     "output_type": "stream",
     "text": [
      "1881\n"
     ]
    }
   ],
   "source": [
    "allpris = s1.index\n",
    "preposition = { pri:get_pre_position(pri) for pri in allpris }\n",
    "print len(preposition)"
   ]
  },
  {
   "cell_type": "code",
   "execution_count": 9,
   "metadata": {},
   "outputs": [
    {
     "name": "stdout",
     "output_type": "stream",
     "text": [
      "239 11 157 281 519\n"
     ]
    }
   ],
   "source": [
    "mirtrons = [ pri for pri in allpris if s1.loc[pri,'Note'].find('Mirtron')>=0 ]\n",
    "capped = [ pri for pri in allpris if s1.loc[pri,'Note'].find('Capped miRNA')>=0 ]\n",
    "drosensitive = [ pri for pri in allpris if s1.loc[pri,'Note'].find('DROSHA KO-sensitive')>=0 ]\n",
    "fclipdetected = [ pri for pri in allpris if s1.loc[pri,'Note'].find('fCLIP site-determined')>=0 ]\n",
    "dbmirs = [ pri for pri in allpris if s1.loc[pri,'Note'].find('MirGeneDB')>=0 ]\n",
    "print len(mirtrons), len(capped), len(drosensitive), len(fclipdetected), len(dbmirs)"
   ]
  },
  {
   "cell_type": "code",
   "execution_count": 10,
   "metadata": {},
   "outputs": [
    {
     "name": "stdout",
     "output_type": "stream",
     "text": [
      "1881\n"
     ]
    }
   ],
   "source": [
    "priseqs = dict(s2['Construct sequence'])\n",
    "print len(priseqs)"
   ]
  },
  {
   "cell_type": "markdown",
   "metadata": {},
   "source": [
    "# A. Comparison of productively processed miRNAs in vitro and in vivo"
   ]
  },
  {
   "cell_type": "code",
   "execution_count": 11,
   "metadata": {},
   "outputs": [
    {
     "name": "stdout",
     "output_type": "stream",
     "text": [
      "1816\n"
     ]
    }
   ],
   "source": [
    "pros = s6['Cleavage Productivity'].to_dict()\n",
    "s6sort = s6.sort_values('Cleavage Specificity')\n",
    "spes = s6sort[~s6sort.index.duplicated(keep='last')]['Cleavage Specificity'].to_dict()\n",
    "overlap = [ mir for mir in pros if mir in spes ]\n",
    "print len(overlap)"
   ]
  },
  {
   "cell_type": "code",
   "execution_count": 12,
   "metadata": {},
   "outputs": [
    {
     "name": "stdout",
     "output_type": "stream",
     "text": [
      "Productive: 512, Unproductive: 1304\n",
      "Single: 445, Multiple: 67, Inverted: 156, Nick: 107, Non-specific: 1041\n",
      "5' nick: 72, 3' nick: 35\n"
     ]
    }
   ],
   "source": [
    "single = set(s6[s6['Cleavage type']=='single'].index)\n",
    "multi = set(s6[s6['Cleavage type']=='multiple'].index)\n",
    "inverted = set(s6[s6['Cleavage type']=='inverted'].index)\n",
    "nick5 = set(s6[s6['Cleavage type']=='nick5'].index)\n",
    "nick3 = set(s6[s6['Cleavage type']=='nick3'].index)\n",
    "nick = list(nick5) + list(nick3)\n",
    "nonspec = set(s6[s6['Cleavage type']=='non-specific'].index)\n",
    "dcsmirs = list(single) + list(multi)\n",
    "nodcs = list(inverted) + list(nick) + list(nonspec)\n",
    "print 'Productive: %s, Unproductive: %s' % (len(dcsmirs), len(nodcs))\n",
    "print 'Single: %s, Multiple: %s, Inverted: %s, Nick: %s, Non-specific: %s'\\\n",
    "% (len(single), len(multi), len(inverted), len(nick), len(nonspec))\n",
    "print \"5' nick: %s, 3' nick: %s\" % (len(nick5), len(nick3))"
   ]
  },
  {
   "cell_type": "code",
   "execution_count": 13,
   "metadata": {},
   "outputs": [],
   "source": [
    "prod = [ mir for mir in fclipdetected if mir in dcsmirs ]\n",
    "unpr = [ mir for mir in fclipdetected if mir in nodcs ]\n",
    "data = [ len(prod), len(unpr) ]\n",
    "colors = [ '#1b9e77', '#bababa' ]\n",
    "labels = ['Unproductive/ No processing', 'Productive processing']"
   ]
  },
  {
   "cell_type": "code",
   "execution_count": 14,
   "metadata": {},
   "outputs": [
    {
     "data": {
      "image/png": "[encoded data removed]",
      "text/plain": [
       "<matplotlib.figure.Figure at 0x7fdb8efbaa50>"
      ]
     },
     "metadata": {},
     "output_type": "display_data"
    }
   ],
   "source": [
    "fig, ax = plt.subplots(1, 1, figsize=(2.5,2.5))\n",
    "ps, ts = ax.pie(data, colors=colors, explode=[.04]*len(data), startangle=-30, counterclock=False)\n",
    "for p in ps:\n",
    "    p.set_linewidth(1.3)\n",
    "    p.set_edgecolor('white')\n",
    "ax.text(-.7,-.3, data[0], fontsize=14, weight='bold')\n",
    "ax.text(.4,.2, data[1], fontsize=14, weight='bold')\n",
    "ax.text(0, 1.2, 'Canonical miRNAs\\n(DROSHA fCLIP-seq)', ha='center', fontsize=12)\n",
    "leg = ax.legend(ps[::-1], labels, loc=(-.12,-.3), prop={'size':11}, \n",
    "          handlelength=1.5, handletextpad=.5, title='In vitro processing patterns')\n",
    "leg.get_title().set_fontsize(11); leg.get_title().set_weight('bold')\n",
    "leg.get_patches()[0].set_linewidth(0); leg.get_patches()[1].set_linewidth(0)\n",
    "#fig.savefig(resultpath + '200728_f3a_intersection.pdf')"
   ]
  },
  {
   "cell_type": "markdown",
   "metadata": {},
   "source": [
    "# B. Comparison of cleavage sites in vitro and in vivo"
   ]
  },
  {
   "cell_type": "code",
   "execution_count": 15,
   "metadata": {},
   "outputs": [
    {
     "name": "stdout",
     "output_type": "stream",
     "text": [
      "149 15 8 14\n"
     ]
    }
   ],
   "source": [
    "t1 = s7[s7['Type']=='I'].index\n",
    "t2 = s7[s7['Type']=='II'].index\n",
    "t3 = s7[s7['Type']=='III'].index\n",
    "t4 = s7[s7['Type']=='IV'].index\n",
    "print len(t1), len(t2), len(t3), len(t4)"
   ]
  },
  {
   "cell_type": "code",
   "execution_count": 16,
   "metadata": {},
   "outputs": [],
   "source": [
    "sitescomp = {}\n",
    "for mir, row in s7[s7.fillna('')['Type']!=''].iterrows():\n",
    "    mb5, ivp5, fcl5, strand = row[[\"miRBase 5' site\",\"IVP 5' site\",\"fCLIP 5' site\",'Strand']]\n",
    "    if strand=='+':\n",
    "        ivp5 = [ int(i)-int(mb5) for i in ivp5.split(', ') ]\n",
    "        fcl5 = [ int(f)-int(mb5) for f in fcl5.split(', ') ]\n",
    "    if strand=='-':\n",
    "        ivp5 = [ int(mb5)-int(i) for i in ivp5.split(', ') ]\n",
    "        fcl5 = [ int(mb5)-int(f) for f in fcl5.split(', ') ]\n",
    "    \n",
    "    both = list(set(ivp5)&set(fcl5))\n",
    "    fonly = list(set(fcl5)-set(ivp5))\n",
    "    ionly = list(set(ivp5)-set(fcl5))\n",
    "    sitescomp[mir] = (both, fonly, ionly)"
   ]
  },
  {
   "cell_type": "code",
   "execution_count": 17,
   "metadata": {},
   "outputs": [
    {
     "name": "stdout",
     "output_type": "stream",
     "text": [
      "149 15 8 14\n"
     ]
    }
   ],
   "source": [
    "t1 = sorted(t1, key=lambda x: (abs(sitescomp[x][0][0]),len(sitescomp[x][0])))\n",
    "t2 = sorted(t2, key=lambda x: (abs(sitescomp[x][0][0]),len(sitescomp[x][0])))\n",
    "t3 = sorted(t3, key=lambda x: (abs(sitescomp[x][0][0]), len(sitescomp[x][1])))\n",
    "t4 = sorted(t4, key=lambda x: (len(sitescomp[x][1]), abs(sitescomp[x][1][0])))\n",
    "print len(t1), len(t2), len(t3), len(t4)"
   ]
  },
  {
   "cell_type": "code",
   "execution_count": 18,
   "metadata": {},
   "outputs": [],
   "source": [
    "colorf, colori, colorboth = '#1b9e77', '#e7298a', '#885772'"
   ]
  },
  {
   "cell_type": "code",
   "execution_count": 19,
   "metadata": {
    "scrolled": true
   },
   "outputs": [
    {
     "data": {
      "image/png": "[encoded data removed]",
      "text/plain": [
       "<matplotlib.figure.Figure at 0x7fdb8f884a90>"
      ]
     },
     "metadata": {},
     "output_type": "display_data"
    }
   ],
   "source": [
    "fig, ax = plt.subplots(1, 1, figsize=(3,5))\n",
    "i, nums = 1, []\n",
    "ax.axhline(0, ls='-', lw=1, color='k')\n",
    "for mirl in [ t1, t2, t3, t4 ]:\n",
    "    for mir in mirl:\n",
    "        both, fonly, ionly = sitescomp[mir]\n",
    "        for s in both:\n",
    "            ax.plot([s-.4,s+.4], [i,i], color=colorboth, lw=1.5)\n",
    "        for s in fonly:\n",
    "            ax.plot([s-.4,s+.4], [i,i], color=colorf, lw=1.5)\n",
    "        for s in ionly:\n",
    "            ax.plot([s-.4,s+.4], [i,i], color=colori, lw=1.5)\n",
    "        i+=1\n",
    "    ax.axhline(i, ls='-', lw=1, color='k')\n",
    "    nums.append(i)\n",
    "    i+=1\n",
    "i-=1\n",
    "ax.bar([-5], [0], color=colorf, label='In vivo')\n",
    "ax.bar([-5], [0], color=colori, label='In vitro')\n",
    "ax.legend(handletextpad=.5, loc=(.02, .86), prop={'size':11}, handlelength=1)\n",
    "\n",
    "# format\n",
    "ax.set_xlim(-3.5, 3.5)\n",
    "ax.set_ylim(-.5, i)\n",
    "ax.text(-3.1, 35, 'N = 186')\n",
    "ax.invert_yaxis()\n",
    "ax.spines['right'].set_visible(True)\n",
    "ax.spines['right'].set_bounds(0, i); ax.spines['left'].set_bounds(0, i)\n",
    "ax.set_facecolor('#f0f0f0')\n",
    "ax.set_xticks(range(-3, 4))\n",
    "ax.set_xticks(np.arange(-3.5, 4, 1), minor=True)\n",
    "ax.set_xticklabels(['-3','-2','-1','0','+1','+2','+3'])\n",
    "ax.tick_params(which='major', axis='x', length=0)\n",
    "ax.tick_params(which='minor', axis='x', width=1.3)\n",
    "ax.xaxis.set_ticks_position('top')\n",
    "ax.set_yticks([])\n",
    "ax.text(0, -16, 'miRBase sites', ha='center', fontsize=12)\n",
    "ys = [75,158,171,183]\n",
    "for (num1,num2),t,lab,y in zip(zip([-1]+nums[:3],nums),[t1,t2,t3,t4],['I','II','III','IV'],ys):\n",
    "    l = lines.Line2D([3.8,4,4,3.8], [num1+1,num1+1,num2-1,num2-1], linewidth=1.1, color='black')\n",
    "    l.set_clip_on(False); ax.add_line(l)\n",
    "    ax.text(4.3, y, 'Type %s (%s)'%(lab,len(t)), fontsize=11, va='center')\n",
    "#fig.savefig(resultpath + '200728_f3b_cs-comparison.pdf')"
   ]
  },
  {
   "cell_type": "markdown",
   "metadata": {},
   "source": [
    "# C. Comparison of cleavage specificity in vitro and in vivo"
   ]
  },
  {
   "cell_type": "code",
   "execution_count": 20,
   "metadata": {},
   "outputs": [
    {
     "name": "stdout",
     "output_type": "stream",
     "text": [
      "243\n"
     ]
    }
   ],
   "source": [
    "sub = s7[['IVP PCS','fCLIP PCS']].dropna()\n",
    "fspes = sub['fCLIP PCS'].to_dict()\n",
    "ispes = sub['IVP PCS'].to_dict()\n",
    "mirs = sub.index\n",
    "print len(mirs)"
   ]
  },
  {
   "cell_type": "code",
   "execution_count": 21,
   "metadata": {},
   "outputs": [],
   "source": [
    "xs = [ fspes[mir] for mir in mirs ]\n",
    "ys = [ ispes[mir] for mir in mirs ]\n",
    "xs2 = [ fspes[mir] for mir in ['hsa-mir-142','hsa-mir-17'] ]\n",
    "ys2 = [ ispes[mir] for mir in ['hsa-mir-142','hsa-mir-17'] ]\n",
    "xsmt = [ fspes[mir] for mir in mirs if mir in mirtrons]\n",
    "ysmt = [ ispes[mir] for mir in mirs if mir in mirtrons ]\n",
    "s = 15\n",
    "lw = .7\n",
    "fcolor, ecolor = '#bababa', '#545454'\n",
    "fcolor2, ecolor2 = [ '#de2d26','tab:blue' ], [ '#a50f15', '#08519c' ]\n",
    "fcolormt, ecolormt = [ '#323232', 'black' ]"
   ]
  },
  {
   "cell_type": "code",
   "execution_count": 22,
   "metadata": {},
   "outputs": [
    {
     "data": {
      "text/plain": [
       "Text(0.45,0.9,u'mir-142')"
      ]
     },
     "execution_count": 22,
     "metadata": {},
     "output_type": "execute_result"
    },
    {
     "data": {
      "image/png": "[encoded data removed]",
      "text/plain": [
       "<matplotlib.figure.Figure at 0x7fdc07541710>"
      ]
     },
     "metadata": {},
     "output_type": "display_data"
    }
   ],
   "source": [
    "fig, ax = plt.subplots(1, 1, figsize=(3,3))\n",
    "ax.scatter(xs, ys, s=s, lw=lw, edgecolor=ecolor, facecolor=fcolor, zorder=2)\n",
    "ax.scatter(xs2, ys2, s=s+5, lw=lw, edgecolors=ecolor2, facecolors=fcolor2, zorder=2)\n",
    "#ax.scatter(xsmt, ysmt, s=s+5, lw=lw, edgecolor=ecolormt, facecolor=fcolormt, zorder=2)\n",
    "\n",
    "ax.set_xlim(.05, 1)\n",
    "ax.set_ylim(.03, 1)\n",
    "ax.set_xlabel('Cleavage specificity in vivo', fontsize=12)\n",
    "ax.set_ylabel('Cleavage specificity in vitro', fontsize=12)\n",
    "ax.spines['left'].set_bounds(.03,1)\n",
    "ax.spines['bottom'].set_bounds(.05,1)\n",
    "\n",
    "squ = plt.Rectangle((-.01,-.01), 1.02, 1.01, fc='w'); ax.add_patch(squ)\n",
    "ax.grid(clip_path=squ, ls='-', lw=.5)\n",
    "squ = plt.Rectangle((-.01,-.01), 1.02, 1.01, fc='w'); ax.add_patch(squ)\n",
    "ax.grid(clip_path=squ)\n",
    "sq1 = plt.Rectangle((.42,.42), .58, .58, fc='#cdcdcd', alpha=.3); ax.add_patch(sq1)\n",
    "\n",
    "#ax.text(.18, .12, 'Mirtrons', fontsize=11, weight='bold')\n",
    "ax.text(.81, .37, 'mir-17', fontsize=11, weight='bold', color='#08519c')\n",
    "ax.text(.45, .9, 'mir-142', fontsize=11, weight='bold', color='#a50f15', ha='right')\n",
    "#fig.savefig(resultpath + '201008_f3c_specificity_comparison.pdf')"
   ]
  },
  {
   "cell_type": "code",
   "execution_count": null,
   "metadata": {},
   "outputs": [],
   "source": []
  }
 ],
 "metadata": {
  "kernelspec": {
   "display_name": "Python 2",
   "language": "python",
   "name": "python2"
  },
  "language_info": {
   "codemirror_mode": {
    "name": "ipython",
    "version": 2
   },
   "file_extension": ".py",
   "mimetype": "text/x-python",
   "name": "python",
   "nbconvert_exporter": "python",
   "pygments_lexer": "ipython2",
   "version": "2.7.18"
  }
 },
 "nbformat": 4,
 "nbformat_minor": 2
}
