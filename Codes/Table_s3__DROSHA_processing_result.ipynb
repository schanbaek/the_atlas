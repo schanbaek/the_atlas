{
 "cells": [
  {
   "cell_type": "markdown",
   "metadata": {},
   "source": [
    "# Supplementary Table 3. DROSHA processing result\n",
    "---"
   ]
  },
  {
   "cell_type": "code",
   "execution_count": 1,
   "metadata": {},
   "outputs": [
    {
     "name": "stdout",
     "output_type": "stream",
     "text": [
      "Last revised by Seungchan Baek at 2021-01-12.\n"
     ]
    }
   ],
   "source": [
    "import time\n",
    "today = time.strftime('%Y-%m-%d')\n",
    "name = 'Seungchan Baek'\n",
    "print 'Last revised by %s at %s.' % (name, today)"
   ]
  },
  {
   "cell_type": "code",
   "execution_count": 2,
   "metadata": {},
   "outputs": [
    {
     "name": "stdout",
     "output_type": "stream",
     "text": [
      "/casa/bsc/projects/1_DCS/2004_paper_prep\n"
     ]
    }
   ],
   "source": [
    "home = '/casa/bsc/projects/1_DCS/2004_paper_prep/'\n",
    "%cd $home"
   ]
  },
  {
   "cell_type": "code",
   "execution_count": 3,
   "metadata": {},
   "outputs": [
    {
     "name": "stdout",
     "output_type": "stream",
     "text": [
      "resultpath: results/210112/\n"
     ]
    }
   ],
   "source": [
    "from __future__ import division\n",
    "import sys; sys.path.append('/casa/bsc/notebooks/')\n",
    "from basic import gen_result_dir\n",
    "resultpath = gen_result_dir('results/')\n",
    "print 'resultpath:', resultpath"
   ]
  },
  {
   "cell_type": "code",
   "execution_count": 4,
   "metadata": {},
   "outputs": [],
   "source": [
    "import pandas as pd\n",
    "import numpy as np\n",
    "import re\n",
    "import gzip\n",
    "from matplotlib import pyplot as plt\n",
    "from collections import defaultdict, Counter\n",
    "from scipy.stats import spearmanr, pearsonr\n",
    "from util import *\n",
    "%matplotlib inline"
   ]
  },
  {
   "cell_type": "code",
   "execution_count": 5,
   "metadata": {},
   "outputs": [],
   "source": [
    "LIBRARIES = [ 'set1', 'set2', 'set3', 'set4', 'set5' ]"
   ]
  },
  {
   "cell_type": "code",
   "execution_count": 371,
   "metadata": {},
   "outputs": [],
   "source": [
    "s1 = pd.read_csv('supplementary/TableS1__Previously_identified_DROSHA-dependence.csv', \n",
    "                 header=1, index_col=0)\n",
    "s2 = pd.read_csv('supplementary/TableS2__Oligonucleotides_used_in_this_study.csv', \n",
    "                 header=1, index_col=0).fillna('')\n",
    "s3 = pd.read_csv('supplementary/TableS3__In_vitro_processing_results_Microprocessor-only.csv',\n",
    "                 header=1, index_col=0)\n",
    "s4 = pd.read_csv('supplementary/TableS4__Cis-acting_elements_of_human_pri-miRNAs.csv', \n",
    "                 header=1, index_col=0)\n",
    "inpraw = pd.read_csv('supplementary/TableSub__input_Microprocessor.csv',header=1,index_col=0)\n",
    "clvraw = pd.read_csv('supplementary/TableSub__cleavage_products_Microprocessor.csv',index_col=0)"
   ]
  },
  {
   "cell_type": "code",
   "execution_count": 373,
   "metadata": {},
   "outputs": [
    {
     "name": "stdout",
     "output_type": "stream",
     "text": [
      "1881 (32, 90)\n"
     ]
    }
   ],
   "source": [
    "preposition = {}\n",
    "for mir in s2.index:\n",
    "    flank5, flank3 = s2.loc[mir,[\"5' flanking segment\",\"3' flanking segment\"]]\n",
    "    if flank5 or flank3:\n",
    "        preposition[mir] = (len(flank5)+1,125-len(flank3))\n",
    "    else:\n",
    "        preposition[mir] = (0,126)\n",
    "print len(preposition), preposition['hsa-mir-142']"
   ]
  },
  {
   "cell_type": "code",
   "execution_count": 372,
   "metadata": {},
   "outputs": [
    {
     "data": {
      "text/html": [
       "<div>\n",
       "<style scoped>\n",
       "    .dataframe tbody tr th:only-of-type {\n",
       "        vertical-align: middle;\n",
       "    }\n",
       "\n",
       "    .dataframe tbody tr th {\n",
       "        vertical-align: top;\n",
       "    }\n",
       "\n",
       "    .dataframe thead th {\n",
       "        text-align: right;\n",
       "    }\n",
       "</style>\n",
       "<table border=\"1\" class=\"dataframe\">\n",
       "  <thead>\n",
       "    <tr style=\"text-align: right;\">\n",
       "      <th></th>\n",
       "      <th>set1</th>\n",
       "      <th>set2</th>\n",
       "      <th>set3</th>\n",
       "      <th>set4</th>\n",
       "      <th>set5</th>\n",
       "    </tr>\n",
       "    <tr>\n",
       "      <th>Pri-miRNA</th>\n",
       "      <th></th>\n",
       "      <th></th>\n",
       "      <th></th>\n",
       "      <th></th>\n",
       "      <th></th>\n",
       "    </tr>\n",
       "  </thead>\n",
       "  <tbody>\n",
       "    <tr>\n",
       "      <th>hsa-let-7a-1</th>\n",
       "      <td>1373</td>\n",
       "      <td>474</td>\n",
       "      <td>0</td>\n",
       "      <td>2</td>\n",
       "      <td>0</td>\n",
       "    </tr>\n",
       "  </tbody>\n",
       "</table>\n",
       "</div>"
      ],
      "text/plain": [
       "              set1  set2  set3  set4  set5\n",
       "Pri-miRNA                                 \n",
       "hsa-let-7a-1  1373   474     0     2     0"
      ]
     },
     "execution_count": 372,
     "metadata": {},
     "output_type": "execute_result"
    }
   ],
   "source": [
    "inpsum = pd.DataFrame()\n",
    "for inp in ['set1','set3','set5']:\n",
    "    inpsum[inp] = inpraw[['%s-1'%inp,'%s-2'%inp]].sum(axis=1)\n",
    "inpsum['set2'] = inpraw['set2']\n",
    "inpsum['set4'] = inpraw['set4'] \n",
    "inpsum = inpsum[LIBRARIES]\n",
    "inpsum.head(1)"
   ]
  },
  {
   "cell_type": "code",
   "execution_count": 375,
   "metadata": {
    "scrolled": true
   },
   "outputs": [
    {
     "data": {
      "text/html": [
       "<div>\n",
       "<style scoped>\n",
       "    .dataframe tbody tr th:only-of-type {\n",
       "        vertical-align: middle;\n",
       "    }\n",
       "\n",
       "    .dataframe tbody tr th {\n",
       "        vertical-align: top;\n",
       "    }\n",
       "\n",
       "    .dataframe thead th {\n",
       "        text-align: right;\n",
       "    }\n",
       "</style>\n",
       "<table border=\"1\" class=\"dataframe\">\n",
       "  <thead>\n",
       "    <tr style=\"text-align: right;\">\n",
       "      <th></th>\n",
       "      <th>Pri-miRNA</th>\n",
       "      <th>rstart</th>\n",
       "      <th>rend</th>\n",
       "      <th>set1</th>\n",
       "      <th>set2</th>\n",
       "      <th>set3</th>\n",
       "      <th>set4</th>\n",
       "      <th>set5</th>\n",
       "    </tr>\n",
       "  </thead>\n",
       "  <tbody>\n",
       "    <tr>\n",
       "      <th>0</th>\n",
       "      <td>hsa-let-7a-1</td>\n",
       "      <td>1</td>\n",
       "      <td>8</td>\n",
       "      <td>4.0</td>\n",
       "      <td>4.0</td>\n",
       "      <td>0.0</td>\n",
       "      <td>0.0</td>\n",
       "      <td>0.0</td>\n",
       "    </tr>\n",
       "  </tbody>\n",
       "</table>\n",
       "</div>"
      ],
      "text/plain": [
       "      Pri-miRNA  rstart  rend  set1  set2  set3  set4  set5\n",
       "0  hsa-let-7a-1       1     8   4.0   4.0   0.0   0.0   0.0"
      ]
     },
     "execution_count": 375,
     "metadata": {},
     "output_type": "execute_result"
    }
   ],
   "source": [
    "clvraw = clvraw.set_index(['Pri-miRNA','rstart','rend'])\n",
    "clvtbl = pd.DataFrame()\n",
    "for lib in LIBRARIES:\n",
    "    clvtbl[lib] = clvraw[['%s-1'%lib,'%s-2'%lib]].sum(axis=1)\n",
    "clvtbl = clvtbl.reset_index()\n",
    "clvtbl.head(1)"
   ]
  },
  {
   "cell_type": "code",
   "execution_count": 376,
   "metadata": {},
   "outputs": [],
   "source": [
    "start, mid, end = 1, 63, 125\n",
    "clv5f = clvtbl[(clvtbl['rstart']==start)&(clvtbl['rend']<mid)].set_index('Pri-miRNA')\n",
    "clv3f = clvtbl[(clvtbl['rstart']>mid)&(clvtbl['rend']==end)].set_index('Pri-miRNA')\n",
    "clvhn = clvtbl[(clvtbl['rstart']<mid)&(clvtbl['rend']>mid)]\n",
    "clvn5 = clvhn[clvhn['rstart']==start]\n",
    "clvn3 = clvhn[clvhn['rend']==end]\n",
    "clvh = clvhn.drop(clvn5.index).drop(clvn3.index).set_index('Pri-miRNA')\n",
    "clvn5 = clvn5.set_index('Pri-miRNA'); clvn3 = clvn3.set_index('Pri-miRNA')"
   ]
  },
  {
   "cell_type": "code",
   "execution_count": 377,
   "metadata": {},
   "outputs": [],
   "source": [
    "def fill_unfound(tbl):\n",
    "    found = set(tbl.index)\n",
    "    unfound = [ mir for mir in s2.index if mir not in found ]\n",
    "    fill = pd.DataFrame(index=unfound, columns=tbl.columns).fillna(0)\n",
    "    return tbl.append(fill)"
   ]
  },
  {
   "cell_type": "code",
   "execution_count": 378,
   "metadata": {},
   "outputs": [],
   "source": [
    "clvtbl = fill_unfound(clvtbl.set_index('Pri-miRNA'))\n",
    "clv5f = fill_unfound(clv5f)\n",
    "clv3f = fill_unfound(clv3f)\n",
    "clvh = fill_unfound(clvh)\n",
    "clvn5 = fill_unfound(clvn5)\n",
    "clvn3 = fill_unfound(clvn3)"
   ]
  },
  {
   "cell_type": "markdown",
   "metadata": {},
   "source": [
    "---"
   ]
  },
  {
   "cell_type": "markdown",
   "metadata": {},
   "source": [
    "### Efficiency"
   ]
  },
  {
   "cell_type": "code",
   "execution_count": 21,
   "metadata": {},
   "outputs": [],
   "source": [
    "RCUTOFF = 30\n",
    "RCUTOFFH = 10\n",
    "FCUTOFF = .01\n",
    "WINDOW = 3\n",
    "INVERTED = 11"
   ]
  },
  {
   "cell_type": "code",
   "execution_count": 22,
   "metadata": {},
   "outputs": [],
   "source": [
    "def get_clv_cnts(mir, lib):\n",
    "    ps, pe = preposition[mir]\n",
    "    invs = ps+INVERTED\n",
    "    inve = pe-INVERTED\n",
    "    clv5 = clv5f.loc[[mir]].reset_index().set_index('rend')[lib]\n",
    "    clv3 = clv3f.loc[[mir]].reset_index().set_index('rstart')[lib]\n",
    "    prod5 = clv5.reindex(range(ps-1-WINDOW,ps+WINDOW)).sum()\n",
    "    prod3 = clv3.reindex(range(pe+1-WINDOW,pe+2+WINDOW)).sum()\n",
    "    inv5 = clv5.reindex(range(invs-1-WINDOW,invs+WINDOW)).sum()\n",
    "    inv3 = clv3.reindex(range(inve+1-WINDOW,inve+2+WINDOW)).sum()\n",
    "    #print prod5, prod3, inv5, inv3\n",
    "    return int((prod5+prod3)/2)-int((inv5+inv3)/2)"
   ]
  },
  {
   "cell_type": "code",
   "execution_count": 23,
   "metadata": {},
   "outputs": [
    {
     "data": {
      "text/html": [
       "<div>\n",
       "<style scoped>\n",
       "    .dataframe tbody tr th:only-of-type {\n",
       "        vertical-align: middle;\n",
       "    }\n",
       "\n",
       "    .dataframe tbody tr th {\n",
       "        vertical-align: top;\n",
       "    }\n",
       "\n",
       "    .dataframe thead th {\n",
       "        text-align: right;\n",
       "    }\n",
       "</style>\n",
       "<table border=\"1\" class=\"dataframe\">\n",
       "  <thead>\n",
       "    <tr style=\"text-align: right;\">\n",
       "      <th></th>\n",
       "      <th>set1</th>\n",
       "      <th>set2</th>\n",
       "      <th>set3</th>\n",
       "      <th>set4</th>\n",
       "      <th>set5</th>\n",
       "    </tr>\n",
       "  </thead>\n",
       "  <tbody>\n",
       "    <tr>\n",
       "      <th>hsa-let-7a-1</th>\n",
       "      <td>16541.0</td>\n",
       "      <td>1317.0</td>\n",
       "      <td>NaN</td>\n",
       "      <td>NaN</td>\n",
       "      <td>NaN</td>\n",
       "    </tr>\n",
       "    <tr>\n",
       "      <th>hsa-let-7a-2</th>\n",
       "      <td>14892.0</td>\n",
       "      <td>2305.0</td>\n",
       "      <td>NaN</td>\n",
       "      <td>NaN</td>\n",
       "      <td>NaN</td>\n",
       "    </tr>\n",
       "    <tr>\n",
       "      <th>hsa-let-7a-3</th>\n",
       "      <td>5490.0</td>\n",
       "      <td>313.0</td>\n",
       "      <td>NaN</td>\n",
       "      <td>NaN</td>\n",
       "      <td>NaN</td>\n",
       "    </tr>\n",
       "    <tr>\n",
       "      <th>hsa-let-7b</th>\n",
       "      <td>12439.0</td>\n",
       "      <td>806.0</td>\n",
       "      <td>NaN</td>\n",
       "      <td>NaN</td>\n",
       "      <td>NaN</td>\n",
       "    </tr>\n",
       "    <tr>\n",
       "      <th>hsa-let-7c</th>\n",
       "      <td>-2904.0</td>\n",
       "      <td>-193.0</td>\n",
       "      <td>NaN</td>\n",
       "      <td>NaN</td>\n",
       "      <td>NaN</td>\n",
       "    </tr>\n",
       "  </tbody>\n",
       "</table>\n",
       "</div>"
      ],
      "text/plain": [
       "                 set1    set2  set3  set4  set5\n",
       "hsa-let-7a-1  16541.0  1317.0   NaN   NaN   NaN\n",
       "hsa-let-7a-2  14892.0  2305.0   NaN   NaN   NaN\n",
       "hsa-let-7a-3   5490.0   313.0   NaN   NaN   NaN\n",
       "hsa-let-7b    12439.0   806.0   NaN   NaN   NaN\n",
       "hsa-let-7c    -2904.0  -193.0   NaN   NaN   NaN"
      ]
     },
     "execution_count": 23,
     "metadata": {},
     "output_type": "execute_result"
    }
   ],
   "source": [
    "clvcnts = pd.DataFrame()\n",
    "for lib in LIBRARIES:\n",
    "    mirs = [ m for m in inpsum[inpsum[lib]>=RCUTOFF].index if preposition[m][0]>0 ]\n",
    "    for mir in mirs:\n",
    "        clvcnts.loc[mir,lib] = get_clv_cnts(mir,lib)\n",
    "clvcnts.head()"
   ]
  },
  {
   "cell_type": "code",
   "execution_count": 379,
   "metadata": {},
   "outputs": [
    {
     "data": {
      "text/plain": [
       "set1    0.773292\n",
       "set2    0.075906\n",
       "set3    0.019677\n",
       "set4    0.082859\n",
       "set5    0.083832\n",
       "dtype: float64"
      ]
     },
     "execution_count": 379,
     "metadata": {},
     "output_type": "execute_result"
    }
   ],
   "source": [
    "## norm\n",
    "norm = 'hsa-mir-6838'# 'hsa-mir-6788'\n",
    "norms = clv5f.loc[norm,LIBRARIES].sum()/inpsum.loc[norm,LIBRARIES]\n",
    "norms"
   ]
  },
  {
   "cell_type": "code",
   "execution_count": 67,
   "metadata": {},
   "outputs": [],
   "source": [
    "def calculate_efficiency(mir,lib,norms):\n",
    "    clv = clvcnts.loc[mir,lib]\n",
    "    inp = inpsum.loc[mir,lib]\n",
    "    return np.log2(max(clv,0)/inp/norms[lib]+1)"
   ]
  },
  {
   "cell_type": "code",
   "execution_count": 233,
   "metadata": {},
   "outputs": [],
   "source": [
    "sufflibs = {}\n",
    "for m in clvcnts.index:\n",
    "    libs = [ l for l in clvcnts.loc[m].dropna().index if clv5f.loc[m,l].sum()>=RCUTOFF \n",
    "             and clv3f.loc[m,l].sum()>=RCUTOFF and clvh.loc[m,l].sum()>=RCUTOFFH ]\n",
    "    if libs:\n",
    "        sufflibs[m] = max(libs,key=lambda x: clvtbl.loc[m,x].sum())\n",
    "    else:\n",
    "        sufflibs[m] = clvcnts.loc[m].dropna().index[0]"
   ]
  },
  {
   "cell_type": "code",
   "execution_count": 236,
   "metadata": {},
   "outputs": [
    {
     "name": "stdout",
     "output_type": "stream",
     "text": [
      "1816 3.9821827301972217\n"
     ]
    }
   ],
   "source": [
    "effs = {}\n",
    "for mir in clvcnts.index:\n",
    "    lib = sufflibs[mir]\n",
    "    effs[mir] = calculate_efficiency(mir,lib,norms)\n",
    "print len(effs), effs['hsa-mir-144']"
   ]
  },
  {
   "cell_type": "markdown",
   "metadata": {},
   "source": [
    "---"
   ]
  },
  {
   "cell_type": "markdown",
   "metadata": {},
   "source": [
    "### Homogeneity"
   ]
  },
  {
   "cell_type": "code",
   "execution_count": 35,
   "metadata": {},
   "outputs": [],
   "source": [
    "def get_frac_5frag(mir):\n",
    "    sub = clv5f.loc[[mir]].set_index('rend')\n",
    "    return (sub/sub.sum())"
   ]
  },
  {
   "cell_type": "code",
   "execution_count": 36,
   "metadata": {},
   "outputs": [],
   "source": [
    "def get_frac_3frag(mir):\n",
    "    sub = clv3f.loc[[mir]].set_index('rstart')\n",
    "    return (sub/sub.sum())"
   ]
  },
  {
   "cell_type": "code",
   "execution_count": 37,
   "metadata": {},
   "outputs": [],
   "source": [
    "def get_frac_hairpin(mir):\n",
    "    sub = clvh.loc[[mir]].set_index(['rstart','rend'])\n",
    "    return (sub/sub.sum())"
   ]
  },
  {
   "cell_type": "code",
   "execution_count": 38,
   "metadata": {},
   "outputs": [],
   "source": [
    "def filter_frac(frac):\n",
    "    return frac[frac>=FCUTOFF]"
   ]
  },
  {
   "cell_type": "code",
   "execution_count": 39,
   "metadata": {},
   "outputs": [],
   "source": [
    "def drop_duplicates(sortedtbl):\n",
    "    if len(sortedtbl)<=1:\n",
    "        return sortedtbl\n",
    "    hs = sortedtbl['hstart'].tolist()[0]\n",
    "    he = sortedtbl['hend'].tolist()[0]\n",
    "    sub = sortedtbl.iloc[1:]\n",
    "    sub = sub[(sub['hstart']!=hs)&(sub['hend']!=he)]\n",
    "    return sortedtbl.iloc[:1].append(drop_duplicates(sub))"
   ]
  },
  {
   "cell_type": "code",
   "execution_count": 40,
   "metadata": {},
   "outputs": [],
   "source": [
    "frac5f = { mir:get_frac_5frag(mir) for mir in s2.index } \n",
    "frac3f = { mir:get_frac_3frag(mir) for mir in s2.index } \n",
    "frachpn = { mir:get_frac_hairpin(mir) for mir in s2.index }"
   ]
  },
  {
   "cell_type": "code",
   "execution_count": 221,
   "metadata": {},
   "outputs": [],
   "source": [
    "cols = 'miRNA pstart pend hstart hend 5frag 3frag hairpin score diff5 diff3'.split()"
   ]
  },
  {
   "cell_type": "code",
   "execution_count": 238,
   "metadata": {},
   "outputs": [],
   "source": [
    "def get_dcs(mir, lib):\n",
    "    ps, pe = preposition[mir]\n",
    "    null = pd.DataFrame({0:dict(zip(cols,[mir,ps,pe,1,125,0,0,0,0,99,99]))}).T[cols]\n",
    "    cs = null\n",
    "    sum5f = clv5f.loc[mir,lib].sum()\n",
    "    sum3f = clv3f.loc[mir,lib].sum()\n",
    "    sumh = clvh.loc[mir,lib].sum()\n",
    "    if not (sum5f>=RCUTOFF and sum3f>=RCUTOFF and sumh>=RCUTOFFH):\n",
    "        return null\n",
    "    \n",
    "    clv5, clv3, clvhpn = [ f[mir][lib] for f in [frac5f,frac3f,frachpn] ]\n",
    "    clv52 = defaultdict(float); clv52.update(clv5)\n",
    "    clv32 = defaultdict(float); clv32.update(clv3)\n",
    "    clvhpn2 = defaultdict(float); clvhpn2.update(clvhpn)\n",
    "    for c5, frac5 in filter_frac(clv5).items():\n",
    "        for c3, frac3 in filter_frac(clv3).items():\n",
    "            row = dict(zip(cols,[mir,ps,pe,c5+1,c3-1,frac5,frac3,clvhpn2[(c5+1,c3-1)]]))\n",
    "            cs = cs.append(row, ignore_index=True)\n",
    "    for (c5,c3), frach in filter_frac(clvhpn).items():\n",
    "        row = dict(zip(cols,[mir,ps,pe,c5,c3,clv52[c5-1],clv32[c3+1],frach]))\n",
    "        cs = cs.append(row, ignore_index=True)\n",
    "    cs['score'] = (cs['5frag']+cs['hairpin']+cs['3frag'])/3\n",
    "    cs['diff5'] = cs['hstart']-cs['pstart']\n",
    "    cs['diff3'] = cs['pend']-cs['hend']\n",
    "    cs = cs[(abs(cs['diff5'])<=WINDOW)&(abs(cs['diff3'])<=WINDOW)]\n",
    "    if len(cs)>=1:\n",
    "        return drop_duplicates(cs.sort_values('score').iloc[::-1])\n",
    "    return null"
   ]
  },
  {
   "cell_type": "code",
   "execution_count": 240,
   "metadata": {
    "scrolled": true
   },
   "outputs": [
    {
     "data": {
      "text/html": [
       "<div>\n",
       "<style scoped>\n",
       "    .dataframe tbody tr th:only-of-type {\n",
       "        vertical-align: middle;\n",
       "    }\n",
       "\n",
       "    .dataframe tbody tr th {\n",
       "        vertical-align: top;\n",
       "    }\n",
       "\n",
       "    .dataframe thead th {\n",
       "        text-align: right;\n",
       "    }\n",
       "</style>\n",
       "<table border=\"1\" class=\"dataframe\">\n",
       "  <thead>\n",
       "    <tr style=\"text-align: right;\">\n",
       "      <th></th>\n",
       "      <th>miRNA</th>\n",
       "      <th>pstart</th>\n",
       "      <th>pend</th>\n",
       "      <th>hstart</th>\n",
       "      <th>hend</th>\n",
       "      <th>5frag</th>\n",
       "      <th>3frag</th>\n",
       "      <th>hairpin</th>\n",
       "      <th>score</th>\n",
       "      <th>diff5</th>\n",
       "      <th>diff3</th>\n",
       "    </tr>\n",
       "  </thead>\n",
       "  <tbody>\n",
       "    <tr>\n",
       "      <th>7</th>\n",
       "      <td>hsa-mir-551a</td>\n",
       "      <td>32</td>\n",
       "      <td>91</td>\n",
       "      <td>32</td>\n",
       "      <td>91</td>\n",
       "      <td>0.962617</td>\n",
       "      <td>0.955556</td>\n",
       "      <td>0.974359</td>\n",
       "      <td>0.964177</td>\n",
       "      <td>0</td>\n",
       "      <td>0</td>\n",
       "    </tr>\n",
       "  </tbody>\n",
       "</table>\n",
       "</div>"
      ],
      "text/plain": [
       "          miRNA pstart pend hstart hend     5frag     3frag   hairpin  \\\n",
       "7  hsa-mir-551a     32   91     32   91  0.962617  0.955556  0.974359   \n",
       "\n",
       "      score diff5 diff3  \n",
       "7  0.964177     0     0  "
      ]
     },
     "execution_count": 240,
     "metadata": {},
     "output_type": "execute_result"
    }
   ],
   "source": [
    "mir = 'hsa-mir-551a'\n",
    "get_dcs(mir, sufflibs[mir])"
   ]
  },
  {
   "cell_type": "code",
   "execution_count": 242,
   "metadata": {
    "scrolled": true
   },
   "outputs": [
    {
     "name": "stdout",
     "output_type": "stream",
     "text": [
      "Tue Jan 12 08:20:31 2021\n",
      "Tue Jan 12 08:42:08 2021\n",
      "# of all sites:\t4234\n",
      "# of miRNAs:\t1816\n"
     ]
    }
   ],
   "source": [
    "print time.ctime()\n",
    "clvall = pd.DataFrame(columns=cols)\n",
    "for mir in sorted(effs.keys()):\n",
    "    clvall = clvall.append(get_dcs(mir,sufflibs[mir]), ignore_index=True)\n",
    "clvall = clvall[cols]\n",
    "print time.ctime()\n",
    "print '# of all sites:\\t%s' % len(clvall)\n",
    "print '# of miRNAs:\\t%s' % len(set(clvall['miRNA']))"
   ]
  },
  {
   "cell_type": "code",
   "execution_count": 243,
   "metadata": {},
   "outputs": [],
   "source": [
    "clvall.to_csv('resources/210111_cleavage_sites.csv')\n",
    "#clvall = pd.read_csv('resources/210111_cleavage_sites.csv', index_col=0)"
   ]
  },
  {
   "cell_type": "code",
   "execution_count": 244,
   "metadata": {},
   "outputs": [],
   "source": [
    "tmp = clvall.sort_values('score').drop_duplicates('miRNA',keep='last')\n",
    "homs = tmp.set_index('miRNA')['score'].to_dict()"
   ]
  },
  {
   "cell_type": "markdown",
   "metadata": {},
   "source": [
    "---"
   ]
  },
  {
   "cell_type": "code",
   "execution_count": 245,
   "metadata": {},
   "outputs": [
    {
     "name": "stdout",
     "output_type": "stream",
     "text": [
      "304 257 157 281\n"
     ]
    }
   ],
   "source": [
    "drodep = s1[s1['DROSHA dependency'].apply(lambda x:x.find('DROSHA-dependent')>=0)].index\n",
    "droind = s1[s1['DROSHA dependency'].apply(lambda x:x.find('DROSHA-independent')>=0)].index\n",
    "droko = s1[s1['DROSHA dependency'].apply(lambda x:x.find('DROSHA KO')>=0)].index\n",
    "fclip = s1[s1['DROSHA dependency'].apply(lambda x:x.find('fCLIP')>=0)].index\n",
    "print len(drodep), len(droind), len(droko), len(fclip)"
   ]
  },
  {
   "cell_type": "code",
   "execution_count": 246,
   "metadata": {},
   "outputs": [],
   "source": [
    "def get_precision(cutoff, mirl, data, pcs):\n",
    "    tpos = [m for m in mirl if m in pcs and data[m]>=cutoff]\n",
    "    pos = [m for m in mirl if data[m]>=cutoff]\n",
    "    return len(tpos)/len(pos)"
   ]
  },
  {
   "cell_type": "code",
   "execution_count": 247,
   "metadata": {},
   "outputs": [],
   "source": [
    "def get_recall(cutoff, mirl, data, pcs):\n",
    "    tpos = [m for m in mirl if m in pcs and data[m]>=cutoff]\n",
    "    return len(tpos)/len(pcs)"
   ]
  },
  {
   "cell_type": "code",
   "execution_count": 248,
   "metadata": {},
   "outputs": [
    {
     "name": "stdout",
     "output_type": "stream",
     "text": [
      "553 298\n"
     ]
    }
   ],
   "source": [
    "overlap = [m for m in effs if m in homs]\n",
    "testset = [ mir for mir in overlap if mir in drodep or mir in droind ]\n",
    "pcs = [ mir for mir in overlap if mir in drodep ]\n",
    "print len(testset), len(pcs)"
   ]
  },
  {
   "cell_type": "code",
   "execution_count": 249,
   "metadata": {},
   "outputs": [],
   "source": [
    "erange = np.arange(0,3.1,.3)\n",
    "eprs = [ get_precision(e,testset,effs,pcs) for e in erange ]\n",
    "ercs = [ get_recall(e,testset,effs,pcs) for e in erange ]"
   ]
  },
  {
   "cell_type": "code",
   "execution_count": 250,
   "metadata": {},
   "outputs": [],
   "source": [
    "hrange = np.arange(0,.71,.05)\n",
    "hprs = [ get_precision(e,testset,homs,pcs) for e in hrange ]\n",
    "hrcs = [ get_recall(e,testset,homs,pcs) for e in hrange ]"
   ]
  },
  {
   "cell_type": "code",
   "execution_count": 251,
   "metadata": {},
   "outputs": [
    {
     "name": "stdout",
     "output_type": "stream",
     "text": [
      "0.724832214765 0.964285714286 0.771812080537 0.962343096234\n"
     ]
    }
   ],
   "source": [
    "ecut = 1.5\n",
    "hcut = .25\n",
    "ex = get_recall(ecut,testset,effs,pcs)\n",
    "ey = get_precision(ecut,testset,effs,pcs)\n",
    "hx = get_recall(hcut,testset,homs,pcs)\n",
    "hy = get_precision(hcut,testset,homs,pcs)\n",
    "c = '#a63603'\n",
    "print ex,ey,hx,hy"
   ]
  },
  {
   "cell_type": "code",
   "execution_count": 252,
   "metadata": {},
   "outputs": [
    {
     "data": {
      "image/png": "[encoded data removed]",
      "text/plain": [
       "<matplotlib.figure.Figure at 0x7fe876f9cf50>"
      ]
     },
     "metadata": {},
     "output_type": "display_data"
    }
   ],
   "source": [
    "fig, (ax1,ax2) = plt.subplots(1, 2, figsize=(6,2.4))\n",
    "ax1.errorbar(ercs,eprs,ms=4,marker='o',zorder=2,color='#424242')\n",
    "ax2.errorbar(hrcs,hprs,ms=4,marker='o',zorder=2,color='#424242')\n",
    "ax1.set_title('Cleavage efficiency cutoff',fontsize=11)\n",
    "ax2.set_title('Cleavage homogeneity cutoff',fontsize=11)\n",
    "for ax,xmin in zip([ax1,ax2],[ercs[-1],hrcs[-1]]):\n",
    "    ax.spines['left'].set_bounds(.52,1)\n",
    "    ax.spines['bottom'].set_bounds(xmin-.03,1)\n",
    "    ax.set_xlim(xmin-.03,1.02)\n",
    "    ax.set_ylim(.52,1.01)\n",
    "    ax.set_xlabel('Recall',fontsize=11)\n",
    "    ax.set_ylabel('Precision',fontsize=11)\n",
    "    ax.set_xticks(np.arange(.3,1.1,.1))\n",
    "    ax.set_yticks(np.arange(.55,1.05,.05))\n",
    "    sq = plt.Rectangle([xmin-.03,.35],1.04-xmin,.66,fc='w'); ax.add_patch(sq)\n",
    "    ax.grid(ls='-',lw=.5,clip_path=sq,which='both')\n",
    "    ax.tick_params(labelsize=10)\n",
    "ax1.text(ex+.02,ey+.01,ecut,fontsize=11,weight='bold',color='#004597')  \n",
    "ax2.text(hx+.02,hy+.01,hcut,fontsize=11,weight='bold',color='#c61d21')\n",
    "ax1.scatter([ex],[ey],s=20,color='#004597',zorder=3)\n",
    "ax2.scatter([hx],[hy],s=20,color='#c61d21',zorder=3)\n",
    "ax1.plot([0,1],[.95,.95],'k--',lw=1); ax1.plot([.7,.7],[0,1],'k--',lw=1)\n",
    "ax2.plot([0,1],[.95,.95],'k--',lw=1); ax2.plot([.7,.7],[0,1],'k--',lw=1)\n",
    "fig.subplots_adjust(wspace=.45)\n",
    "#fig.savefig(resultpath + '201117_s2a__precision_recall_CH.pdf')#,dpi=300)"
   ]
  },
  {
   "cell_type": "markdown",
   "metadata": {},
   "source": [
    "### Build table"
   ]
  },
  {
   "cell_type": "code",
   "execution_count": 253,
   "metadata": {},
   "outputs": [],
   "source": [
    "homcut = .25\n",
    "clvsig = clvall[clvall['score']>=homcut]\n",
    "clvcnt = Counter(clvsig['miRNA'])"
   ]
  },
  {
   "cell_type": "code",
   "execution_count": 254,
   "metadata": {},
   "outputs": [
    {
     "name": "stdout",
     "output_type": "stream",
     "text": [
      "560 516 44\n"
     ]
    }
   ],
   "source": [
    "effcut = 1.5\n",
    "overlap = [ m for m in homs if m in effs ]\n",
    "dcsmirs = [ m for m in overlap if effs[m]>=effcut and homs[m]>=homcut ]\n",
    "single = [ m for m in overlap if effs[m]>=effcut and clvcnt[m]==1 ]\n",
    "alternative = [ m for m in overlap if effs[m]>=effcut and clvcnt[m]>=2 ]\n",
    "print len(dcsmirs), len(single), len(alternative)"
   ]
  },
  {
   "cell_type": "code",
   "execution_count": 255,
   "metadata": {},
   "outputs": [
    {
     "data": {
      "text/html": [
       "<div>\n",
       "<style scoped>\n",
       "    .dataframe tbody tr th:only-of-type {\n",
       "        vertical-align: middle;\n",
       "    }\n",
       "\n",
       "    .dataframe tbody tr th {\n",
       "        vertical-align: top;\n",
       "    }\n",
       "\n",
       "    .dataframe thead th {\n",
       "        text-align: right;\n",
       "    }\n",
       "</style>\n",
       "<table border=\"1\" class=\"dataframe\">\n",
       "  <thead>\n",
       "    <tr style=\"text-align: right;\">\n",
       "      <th></th>\n",
       "      <th>Cleavage Efficiency</th>\n",
       "      <th>Cleavage Homogeneity</th>\n",
       "      <th>5' miRBase site</th>\n",
       "      <th>3' miRBase site</th>\n",
       "      <th>5' cleavage site</th>\n",
       "      <th>3' cleavage site</th>\n",
       "      <th>5' alternative site</th>\n",
       "      <th>3' alternative site</th>\n",
       "      <th>Cleavage ratio of alternative site</th>\n",
       "    </tr>\n",
       "    <tr>\n",
       "      <th>Pri-miRNA</th>\n",
       "      <th></th>\n",
       "      <th></th>\n",
       "      <th></th>\n",
       "      <th></th>\n",
       "      <th></th>\n",
       "      <th></th>\n",
       "      <th></th>\n",
       "      <th></th>\n",
       "      <th></th>\n",
       "    </tr>\n",
       "  </thead>\n",
       "  <tbody>\n",
       "  </tbody>\n",
       "</table>\n",
       "</div>"
      ],
      "text/plain": [
       "Empty DataFrame\n",
       "Columns: [Cleavage Efficiency, Cleavage Homogeneity, 5' miRBase site, 3' miRBase site, 5' cleavage site, 3' cleavage site, 5' alternative site, 3' alternative site, Cleavage ratio of alternative site]\n",
       "Index: []"
      ]
     },
     "execution_count": 255,
     "metadata": {},
     "output_type": "execute_result"
    }
   ],
   "source": [
    "cols = [ 'Pri-miRNA', 'Cleavage Efficiency', 'Cleavage Homogeneity',\n",
    "         \"5' miRBase site\", \"3' miRBase site\", \"5' cleavage site\", \"3' cleavage site\", \n",
    "         \"5' alternative site\", \"3' alternative site\", \"Cleavage ratio of alternative site\" ]\n",
    "tbl = pd.DataFrame(columns=cols).set_index('Pri-miRNA')\n",
    "tbl.head(1)"
   ]
  },
  {
   "cell_type": "code",
   "execution_count": 256,
   "metadata": {
    "scrolled": true
   },
   "outputs": [],
   "source": [
    "for pri in overlap:\n",
    "    ps, pe = preposition[pri]\n",
    "    tbl.loc[pri,'Cleavage Efficiency'] = effs[pri]\n",
    "    tbl.loc[pri,'Cleavage Homogeneity'] = homs[pri]\n",
    "    tbl.loc[pri,\"5' miRBase site\"] = ps\n",
    "    tbl.loc[pri,\"3' miRBase site\"] = pe\n",
    "    sub = clvall[clvall['miRNA']==pri].sort_values('score',ascending=False)\n",
    "    sub = sub[sub['score']>0]\n",
    "    if len(sub)>=1:\n",
    "        tbl.loc[pri,\"5' cleavage site\"] = sub['hstart'].values[0]\n",
    "        tbl.loc[pri,\"3' cleavage site\"] = sub['hend'].values[0]\n",
    "        if len(sub)>=2:\n",
    "            tbl.loc[pri,\"5' alternative site\"] = sub['hstart'].values[1]\n",
    "            tbl.loc[pri,\"3' alternative site\"] = sub['hend'].values[1]\n",
    "            tbl.loc[pri,\"Cleavage ratio of alternative site\"] = sub['score'].values[1]"
   ]
  },
  {
   "cell_type": "code",
   "execution_count": 257,
   "metadata": {},
   "outputs": [],
   "source": [
    "for mir in overlap:\n",
    "    ps, pe = preposition[mir]\n",
    "    if ps<1 or pe>125:\n",
    "        continue\n",
    "    unc5 = clvn5.loc[[mir]].reset_index().set_index(['rend'])\n",
    "    unc5 = unc5.reindex(range(pe-WINDOW,pe+WINDOW+1)).sum()\n",
    "    unc3 = clvn3.loc[[mir]].reset_index().set_index(['rstart'])\n",
    "    unc3 = unc3.reindex(range(ps-WINDOW,ps+WINDOW+1)).sum()\n",
    "    hpn = clvh.loc[[mir]]\n",
    "    prohpn = hpn[hpn.apply(lambda x: (x['rstart'] in range(ps-WINDOW,ps+WINDOW+1)) and \n",
    "                                  (x['rend'] in range(pe-WINDOW,pe+WINDOW+1)),axis=1)].sum()\n",
    "    invhpn = hpn[hpn.apply(lambda x: (x['rstart'] in range(ps+INVERTED-WINDOW,\n",
    "                                                           ps+INVERTED+WINDOW+1)) and \n",
    "                                     (x['rend'] in range(pe-INVERTED-WINDOW,\n",
    "                                                         pe-INVERTED+WINDOW+1)),axis=1)].sum()\n",
    "    lib = sufflibs[mir] #select_lib(mir)\n",
    "    if lib in LIBRARIES and prohpn[lib].sum()>=RCUTOFFH:\n",
    "        tbl.loc[mir,'5p nick processing'] = (unc3[lib]+1)/(prohpn[lib]+1)\n",
    "        tbl.loc[mir,'3p nick processing'] = (unc5[lib]+1)/(prohpn[lib]+1)\n",
    "        tbl.loc[mir,'Inverted processing'] = (invhpn[lib]+1)/(prohpn[lib]+1)"
   ]
  },
  {
   "cell_type": "code",
   "execution_count": 258,
   "metadata": {},
   "outputs": [],
   "source": [
    "tbl.to_csv('resources/210111_s3__DROSHA_processing_result.csv')"
   ]
  },
  {
   "cell_type": "code",
   "execution_count": 259,
   "metadata": {},
   "outputs": [],
   "source": [
    "out = open('supplementary/210111_s3__DROSHA_processing_result.csv', 'wt')\n",
    "description = 'Supplementary Table 3. DROSHA processing result\\n\\n\\n\\n\\n'\n",
    "out.write(description)\n",
    "for l in open('resources/210111_s3__DROSHA_processing_result.csv', 'rt'):\n",
    "    out.write(l)\n",
    "out.close()"
   ]
  },
  {
   "cell_type": "code",
   "execution_count": null,
   "metadata": {},
   "outputs": [],
   "source": []
  },
  {
   "cell_type": "code",
   "execution_count": null,
   "metadata": {},
   "outputs": [],
   "source": []
  },
  {
   "cell_type": "code",
   "execution_count": null,
   "metadata": {},
   "outputs": [],
   "source": []
  },
  {
   "cell_type": "code",
   "execution_count": 383,
   "metadata": {},
   "outputs": [],
   "source": [
    "def get_dcs_sub(mir, lib):\n",
    "    ps, pe = preposition[mir]\n",
    "    null = pd.DataFrame({0:dict(zip(cols,[mir,ps,pe,1,125,0,0,0,0,99,99]))}).T[cols]\n",
    "    cs = null\n",
    "    sum5f = clv5f.loc[mir,lib].sum()\n",
    "    sum3f = clv3f.loc[mir,lib].sum()\n",
    "    sumh = clvh.loc[mir,lib].sum()\n",
    "    if not (sum5f>=RCUTOFF and sum3f>=RCUTOFF and sumh>=RCUTOFFH):\n",
    "        return null\n",
    "    \n",
    "    clv5, clv3, clvhpn = [ f[mir][lib] for f in [frac5f,frac3f,frachpn] ]\n",
    "    clv52 = defaultdict(float); clv52.update(clv5)\n",
    "    clv32 = defaultdict(float); clv32.update(clv3)\n",
    "    clvhpn2 = defaultdict(float); clvhpn2.update(clvhpn)\n",
    "    for c5, frac5 in filter_frac(clv5).items():\n",
    "        for c3, frac3 in filter_frac(clv3).items():\n",
    "            row = dict(zip(cols,[mir,ps,pe,c5+1,c3-1,frac5,frac3,clvhpn2[(c5+1,c3-1)]]))\n",
    "            cs = cs.append(row, ignore_index=True)\n",
    "    for (c5,c3), frach in filter_frac(clvhpn).items():\n",
    "        row = dict(zip(cols,[mir,ps,pe,c5,c3,clv52[c5-1],clv32[c3+1],frach]))\n",
    "        cs = cs.append(row, ignore_index=True)\n",
    "    cs['score'] = (cs['5frag']+cs['hairpin']+cs['3frag'])/3\n",
    "    cs['diff5'] = cs['hstart']-cs['pstart']\n",
    "    cs['diff3'] = cs['pend']-cs['hend']\n",
    "    #cs = cs[(abs(cs['diff5'])<=WINDOW)&(abs(cs['diff3'])<=WINDOW)]\n",
    "    return drop_duplicates(cs.sort_values('score').iloc[::-1])"
   ]
  },
  {
   "cell_type": "code",
   "execution_count": 372,
   "metadata": {},
   "outputs": [
    {
     "data": {
      "text/plain": [
       "(1039, 3642)"
      ]
     },
     "execution_count": 372,
     "metadata": {},
     "output_type": "execute_result"
    }
   ],
   "source": [
    "clvcnts['hsa-mir-214']"
   ]
  },
  {
   "cell_type": "code",
   "execution_count": 384,
   "metadata": {
    "scrolled": true
   },
   "outputs": [
    {
     "data": {
      "text/html": [
       "<div>\n",
       "<style scoped>\n",
       "    .dataframe tbody tr th:only-of-type {\n",
       "        vertical-align: middle;\n",
       "    }\n",
       "\n",
       "    .dataframe tbody tr th {\n",
       "        vertical-align: top;\n",
       "    }\n",
       "\n",
       "    .dataframe thead th {\n",
       "        text-align: right;\n",
       "    }\n",
       "</style>\n",
       "<table border=\"1\" class=\"dataframe\">\n",
       "  <thead>\n",
       "    <tr style=\"text-align: right;\">\n",
       "      <th></th>\n",
       "      <th>miRNA</th>\n",
       "      <th>pstart</th>\n",
       "      <th>pend</th>\n",
       "      <th>hstart</th>\n",
       "      <th>hend</th>\n",
       "      <th>5frag</th>\n",
       "      <th>3frag</th>\n",
       "      <th>hairpin</th>\n",
       "      <th>score</th>\n",
       "      <th>diff5</th>\n",
       "      <th>diff3</th>\n",
       "    </tr>\n",
       "  </thead>\n",
       "  <tbody>\n",
       "    <tr>\n",
       "      <th>184</th>\n",
       "      <td>hsa-mir-214</td>\n",
       "      <td>30</td>\n",
       "      <td>92</td>\n",
       "      <td>44</td>\n",
       "      <td>78</td>\n",
       "      <td>0.480282</td>\n",
       "      <td>0.546366</td>\n",
       "      <td>0.880399</td>\n",
       "      <td>0.635682</td>\n",
       "      <td>14</td>\n",
       "      <td>14</td>\n",
       "    </tr>\n",
       "    <tr>\n",
       "      <th>114</th>\n",
       "      <td>hsa-mir-214</td>\n",
       "      <td>30</td>\n",
       "      <td>92</td>\n",
       "      <td>26</td>\n",
       "      <td>79</td>\n",
       "      <td>0.101408</td>\n",
       "      <td>0.0701754</td>\n",
       "      <td>0</td>\n",
       "      <td>0.0571946</td>\n",
       "      <td>-4</td>\n",
       "      <td>13</td>\n",
       "    </tr>\n",
       "    <tr>\n",
       "      <th>52</th>\n",
       "      <td>hsa-mir-214</td>\n",
       "      <td>30</td>\n",
       "      <td>92</td>\n",
       "      <td>13</td>\n",
       "      <td>105</td>\n",
       "      <td>0.0732394</td>\n",
       "      <td>0.0401003</td>\n",
       "      <td>0</td>\n",
       "      <td>0.0377799</td>\n",
       "      <td>-17</td>\n",
       "      <td>-13</td>\n",
       "    </tr>\n",
       "    <tr>\n",
       "      <th>139</th>\n",
       "      <td>hsa-mir-214</td>\n",
       "      <td>30</td>\n",
       "      <td>92</td>\n",
       "      <td>28</td>\n",
       "      <td>108</td>\n",
       "      <td>0.0704225</td>\n",
       "      <td>0.037594</td>\n",
       "      <td>0.000664452</td>\n",
       "      <td>0.036227</td>\n",
       "      <td>-2</td>\n",
       "      <td>-16</td>\n",
       "    </tr>\n",
       "    <tr>\n",
       "      <th>67</th>\n",
       "      <td>hsa-mir-214</td>\n",
       "      <td>30</td>\n",
       "      <td>92</td>\n",
       "      <td>14</td>\n",
       "      <td>106</td>\n",
       "      <td>0.0633803</td>\n",
       "      <td>0.037594</td>\n",
       "      <td>0</td>\n",
       "      <td>0.0336581</td>\n",
       "      <td>-16</td>\n",
       "      <td>-14</td>\n",
       "    </tr>\n",
       "    <tr>\n",
       "      <th>92</th>\n",
       "      <td>hsa-mir-214</td>\n",
       "      <td>30</td>\n",
       "      <td>92</td>\n",
       "      <td>23</td>\n",
       "      <td>96</td>\n",
       "      <td>0.028169</td>\n",
       "      <td>0.037594</td>\n",
       "      <td>0</td>\n",
       "      <td>0.021921</td>\n",
       "      <td>-7</td>\n",
       "      <td>-4</td>\n",
       "    </tr>\n",
       "    <tr>\n",
       "      <th>161</th>\n",
       "      <td>hsa-mir-214</td>\n",
       "      <td>30</td>\n",
       "      <td>92</td>\n",
       "      <td>43</td>\n",
       "      <td>94</td>\n",
       "      <td>0.0239437</td>\n",
       "      <td>0.0350877</td>\n",
       "      <td>0</td>\n",
       "      <td>0.0196771</td>\n",
       "      <td>13</td>\n",
       "      <td>-2</td>\n",
       "    </tr>\n",
       "    <tr>\n",
       "      <th>107</th>\n",
       "      <td>hsa-mir-214</td>\n",
       "      <td>30</td>\n",
       "      <td>92</td>\n",
       "      <td>24</td>\n",
       "      <td>98</td>\n",
       "      <td>0.0211268</td>\n",
       "      <td>0.0250627</td>\n",
       "      <td>0.0013289</td>\n",
       "      <td>0.0158394</td>\n",
       "      <td>-6</td>\n",
       "      <td>-6</td>\n",
       "    </tr>\n",
       "    <tr>\n",
       "      <th>40</th>\n",
       "      <td>hsa-mir-214</td>\n",
       "      <td>30</td>\n",
       "      <td>92</td>\n",
       "      <td>12</td>\n",
       "      <td>107</td>\n",
       "      <td>0.0183099</td>\n",
       "      <td>0.0150376</td>\n",
       "      <td>0</td>\n",
       "      <td>0.0111158</td>\n",
       "      <td>-18</td>\n",
       "      <td>-15</td>\n",
       "    </tr>\n",
       "    <tr>\n",
       "      <th>5</th>\n",
       "      <td>hsa-mir-214</td>\n",
       "      <td>30</td>\n",
       "      <td>92</td>\n",
       "      <td>9</td>\n",
       "      <td>89</td>\n",
       "      <td>0.0169014</td>\n",
       "      <td>0.0150376</td>\n",
       "      <td>0</td>\n",
       "      <td>0.0106463</td>\n",
       "      <td>-21</td>\n",
       "      <td>3</td>\n",
       "    </tr>\n",
       "    <tr>\n",
       "      <th>73</th>\n",
       "      <td>hsa-mir-214</td>\n",
       "      <td>30</td>\n",
       "      <td>92</td>\n",
       "      <td>21</td>\n",
       "      <td>80</td>\n",
       "      <td>0.0140845</td>\n",
       "      <td>0.0125313</td>\n",
       "      <td>0</td>\n",
       "      <td>0.00887195</td>\n",
       "      <td>-9</td>\n",
       "      <td>12</td>\n",
       "    </tr>\n",
       "    <tr>\n",
       "      <th>144</th>\n",
       "      <td>hsa-mir-214</td>\n",
       "      <td>30</td>\n",
       "      <td>92</td>\n",
       "      <td>31</td>\n",
       "      <td>85</td>\n",
       "      <td>0.0126761</td>\n",
       "      <td>0.0125313</td>\n",
       "      <td>0</td>\n",
       "      <td>0.00840246</td>\n",
       "      <td>1</td>\n",
       "      <td>7</td>\n",
       "    </tr>\n",
       "    <tr>\n",
       "      <th>28</th>\n",
       "      <td>hsa-mir-214</td>\n",
       "      <td>30</td>\n",
       "      <td>92</td>\n",
       "      <td>10</td>\n",
       "      <td>112</td>\n",
       "      <td>0.0126761</td>\n",
       "      <td>0.0100251</td>\n",
       "      <td>0</td>\n",
       "      <td>0.00756704</td>\n",
       "      <td>-20</td>\n",
       "      <td>-20</td>\n",
       "    </tr>\n",
       "    <tr>\n",
       "      <th>0</th>\n",
       "      <td>hsa-mir-214</td>\n",
       "      <td>30</td>\n",
       "      <td>92</td>\n",
       "      <td>1</td>\n",
       "      <td>125</td>\n",
       "      <td>0</td>\n",
       "      <td>0</td>\n",
       "      <td>0</td>\n",
       "      <td>0</td>\n",
       "      <td>-29</td>\n",
       "      <td>-33</td>\n",
       "    </tr>\n",
       "  </tbody>\n",
       "</table>\n",
       "</div>"
      ],
      "text/plain": [
       "           miRNA pstart pend hstart hend      5frag      3frag      hairpin  \\\n",
       "184  hsa-mir-214     30   92     44   78   0.480282   0.546366     0.880399   \n",
       "114  hsa-mir-214     30   92     26   79   0.101408  0.0701754            0   \n",
       "52   hsa-mir-214     30   92     13  105  0.0732394  0.0401003            0   \n",
       "139  hsa-mir-214     30   92     28  108  0.0704225   0.037594  0.000664452   \n",
       "67   hsa-mir-214     30   92     14  106  0.0633803   0.037594            0   \n",
       "92   hsa-mir-214     30   92     23   96   0.028169   0.037594            0   \n",
       "161  hsa-mir-214     30   92     43   94  0.0239437  0.0350877            0   \n",
       "107  hsa-mir-214     30   92     24   98  0.0211268  0.0250627    0.0013289   \n",
       "40   hsa-mir-214     30   92     12  107  0.0183099  0.0150376            0   \n",
       "5    hsa-mir-214     30   92      9   89  0.0169014  0.0150376            0   \n",
       "73   hsa-mir-214     30   92     21   80  0.0140845  0.0125313            0   \n",
       "144  hsa-mir-214     30   92     31   85  0.0126761  0.0125313            0   \n",
       "28   hsa-mir-214     30   92     10  112  0.0126761  0.0100251            0   \n",
       "0    hsa-mir-214     30   92      1  125          0          0            0   \n",
       "\n",
       "          score diff5 diff3  \n",
       "184    0.635682    14    14  \n",
       "114   0.0571946    -4    13  \n",
       "52    0.0377799   -17   -13  \n",
       "139    0.036227    -2   -16  \n",
       "67    0.0336581   -16   -14  \n",
       "92     0.021921    -7    -4  \n",
       "161   0.0196771    13    -2  \n",
       "107   0.0158394    -6    -6  \n",
       "40    0.0111158   -18   -15  \n",
       "5     0.0106463   -21     3  \n",
       "73   0.00887195    -9    12  \n",
       "144  0.00840246     1     7  \n",
       "28   0.00756704   -20   -20  \n",
       "0             0   -29   -33  "
      ]
     },
     "execution_count": 384,
     "metadata": {},
     "output_type": "execute_result"
    }
   ],
   "source": [
    "mir = 'hsa-mir-214'\n",
    "get_dcs_sub(mir,'set2')"
   ]
  },
  {
   "cell_type": "code",
   "execution_count": 386,
   "metadata": {},
   "outputs": [
    {
     "name": "stdout",
     "output_type": "stream",
     "text": [
      "1645\n"
     ]
    }
   ],
   "source": [
    "synexcel = pd.ExcelFile('supplementary/synthesis_log.xlsx')\n",
    "syn1mirs = synexcel.parse('1st')[0].tolist()\n",
    "print len(syn1mirs)"
   ]
  },
  {
   "cell_type": "code",
   "execution_count": null,
   "metadata": {},
   "outputs": [],
   "source": []
  },
  {
   "cell_type": "code",
   "execution_count": 438,
   "metadata": {},
   "outputs": [],
   "source": [
    "def get_clv_cnts_sub(mir, lib, window):\n",
    "    ps, pe = preposition[mir]\n",
    "    if ps<1 or pe>125:\n",
    "        return -1,-1\n",
    "    invs = ps+INVERTED\n",
    "    inve = pe-INVERTED\n",
    "    clv5 = clv5f.loc[[mir]].reset_index().set_index('rend')[lib]\n",
    "    clv3 = clv3f.loc[[mir]].reset_index().set_index('rstart')[lib]\n",
    "    prod5 = clv5.reindex(range(ps-1-window,ps+window)).sum()\n",
    "    prod3 = clv3.reindex(range(pe+1-window,pe+2+window)).sum()\n",
    "    inv5 = clv5.reindex(range(invs-1-window,invs+window)).sum()\n",
    "    inv3 = clv3.reindex(range(inve+1-window,inve+2+window)).sum()\n",
    "    #print prod5, prod3, inv5, inv3\n",
    "    return int((prod5+prod3)/2), int((inv5+inv3)/2)"
   ]
  },
  {
   "cell_type": "code",
   "execution_count": 297,
   "metadata": {},
   "outputs": [],
   "source": [
    "def calculate_efficiency(mir, lib):\n",
    "    prod, inv = clvcnts[mir]\n",
    "    if prod<0: \n",
    "        return -999\n",
    "    inp = inpsum[lib][mir]\n",
    "    return max(prod-inv,0)/inp"
   ]
  },
  {
   "cell_type": "code",
   "execution_count": 568,
   "metadata": {},
   "outputs": [],
   "source": [
    "def calculate_efficiency_sub(mir, lib):\n",
    "    prod, inv = get_clv_cnts(mir, lib)\n",
    "    if prod<0: \n",
    "        return -999\n",
    "    inp = inpsum[lib][mir]\n",
    "    return max(prod-inv,0)/inp"
   ]
  },
  {
   "cell_type": "code",
   "execution_count": 408,
   "metadata": {},
   "outputs": [],
   "source": [
    "def get_clv_all(mir, lib):\n",
    "    clv5 = clv5f.loc[mir, lib]\n",
    "    clv3 = clv3f.loc[mir, lib]\n",
    "    return int(round((clv5.sum()+clv3.sum())/2, 0))"
   ]
  },
  {
   "cell_type": "code",
   "execution_count": 449,
   "metadata": {},
   "outputs": [],
   "source": [
    "def get_productivity(mir, lib):\n",
    "    prod, inv = get_clv_cnts_sub(mir, lib, 5)\n",
    "    clv = (prod+inv)#get_clv_all(mir, lib)\n",
    "    if prod<0: return -999\n",
    "    if clv==0: return 0\n",
    "    inp = inpsum[lib][mir]\n",
    "    return (prod/inp)*(prod/clv)"
   ]
  },
  {
   "cell_type": "code",
   "execution_count": 837,
   "metadata": {},
   "outputs": [
    {
     "data": {
      "text/plain": [
       "set1    0.773292\n",
       "set2    0.075906\n",
       "set3    0.019677\n",
       "set4    0.082859\n",
       "set5    0.083832\n",
       "dtype: float64"
      ]
     },
     "execution_count": 837,
     "metadata": {},
     "output_type": "execute_result"
    }
   ],
   "source": [
    "norm = 'hsa-mir-6838'\n",
    "norms = clv5f.loc[norm,LIBRARIES].sum()/inpsum.loc[norm,LIBRARIES]\n",
    "norms"
   ]
  },
  {
   "cell_type": "code",
   "execution_count": 838,
   "metadata": {},
   "outputs": [
    {
     "name": "stdout",
     "output_type": "stream",
     "text": [
      "1500\n"
     ]
    }
   ],
   "source": [
    "effreps = {}\n",
    "for m in syn1mirs:\n",
    "    if (inpsum.loc[m,['set1','set2']]>=100).all() and preposition[m][0]:\n",
    "        eff1 = np.log2(calculate_efficiency_sub(m,'set1')/norms['set1']+1)\n",
    "        eff2 = np.log2(calculate_efficiency_sub(m,'set2')/norms['set2']+1)\n",
    "        #eff1 = np.log2(get_productivity(m,'set1')/norms['set1']+1)\n",
    "        #eff2 = np.log2(get_productivity(m,'set2')/norms['set2']+1)\n",
    "        effreps[m] = (eff1,eff2)\n",
    "print len(effreps)"
   ]
  },
  {
   "cell_type": "code",
   "execution_count": 842,
   "metadata": {},
   "outputs": [
    {
     "data": {
      "text/plain": [
       "(-0.2, 6)"
      ]
     },
     "execution_count": 842,
     "metadata": {},
     "output_type": "execute_result"
    },
    {
     "data": {
      "image/png": "[encoded data removed]",
      "text/plain": [
       "<matplotlib.figure.Figure at 0x7f7f7d89e7d0>"
      ]
     },
     "metadata": {},
     "output_type": "display_data"
    }
   ],
   "source": [
    "xs, ys = zip(*effreps.values())\n",
    "fig,ax = plt.subplots(1, 1, figsize=(3,3))\n",
    "ax.scatter(xs,ys,s=10,alpha=.3)\n",
    "ax.set_xlabel('Set #1')\n",
    "ax.set_ylabel('Set #2')\n",
    "ax.plot([0,5],[0,5],'k--')\n",
    "ax.set_xlim(-.2,6)\n",
    "ax.set_ylim(-.2,6)\n",
    "#ax.set_xticks(range(0,11,2))"
   ]
  },
  {
   "cell_type": "code",
   "execution_count": 460,
   "metadata": {},
   "outputs": [
    {
     "name": "stdout",
     "output_type": "stream",
     "text": [
      "1419\n"
     ]
    }
   ],
   "source": [
    "homreps = {}\n",
    "for m in syn1mirs:\n",
    "    sum5f = clv5f.loc[m,['set1','set2']].sum().min()\n",
    "    sum3f = clv3f.loc[m,['set1','set2']].sum().min()\n",
    "    sumh = clvh.loc[m,['set1','set2']].sum().min()\n",
    "    if (sum5f>=RCUTOFF and sum3f>=RCUTOFF and sumh>=RCUTOFFH):\n",
    "        hom1 = get_dcs(m,'set1')['score'].max()\n",
    "        hom2 = get_dcs(m,'set2')['score'].max()\n",
    "        homreps[m] = (hom1,hom2)\n",
    "print len(homreps)"
   ]
  },
  {
   "cell_type": "code",
   "execution_count": 467,
   "metadata": {},
   "outputs": [
    {
     "data": {
      "text/plain": [
       "Text(0,0.5,u'Set #2')"
      ]
     },
     "execution_count": 467,
     "metadata": {},
     "output_type": "execute_result"
    },
    {
     "data": {
      "image/png": "[encoded data removed]",
      "text/plain": [
       "<matplotlib.figure.Figure at 0x7f7ff704f250>"
      ]
     },
     "metadata": {},
     "output_type": "display_data"
    }
   ],
   "source": [
    "xs, ys = zip(*homreps.values())\n",
    "fig,ax = plt.subplots(1, 1, figsize=(3,3))\n",
    "ax.scatter(xs,ys,s=10,alpha=.5)\n",
    "ax.set_xlabel('Set #1')\n",
    "ax.set_ylabel('Set #2')\n",
    "#ax.plot([0,8],[0,8],'k--')\n",
    "#ax.set_xlim(-.5,6)\n",
    "#ax.set_ylim(-.5,6)\n",
    "#ax.set_xticks(range(0,11,2))"
   ]
  },
  {
   "cell_type": "code",
   "execution_count": null,
   "metadata": {},
   "outputs": [],
   "source": []
  }
 ],
 "metadata": {
  "kernelspec": {
   "display_name": "Python 2",
   "language": "python",
   "name": "python2"
  },
  "language_info": {
   "codemirror_mode": {
    "name": "ipython",
    "version": 2
   },
   "file_extension": ".py",
   "mimetype": "text/x-python",
   "name": "python",
   "nbconvert_exporter": "python",
   "pygments_lexer": "ipython2",
   "version": "2.7.18"
  }
 },
 "nbformat": 4,
 "nbformat_minor": 2
}
