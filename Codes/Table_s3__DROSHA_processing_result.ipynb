{
 "cells": [
  {
   "cell_type": "markdown",
   "metadata": {},
   "source": [
    "# Supplementary Table 3. DROSHA processing result\n",
    "---"
   ]
  },
  {
   "cell_type": "code",
   "execution_count": 1,
   "metadata": {},
   "outputs": [
    {
     "name": "stdout",
     "output_type": "stream",
     "text": [
      "Last revised by Seungchan Baek at 2020-11-23.\n"
     ]
    }
   ],
   "source": [
    "import time\n",
    "today = time.strftime('%Y-%m-%d')\n",
    "name = 'Seungchan Baek'\n",
    "print 'Last revised by %s at %s.' % (name, today)"
   ]
  },
  {
   "cell_type": "code",
   "execution_count": 2,
   "metadata": {},
   "outputs": [
    {
     "name": "stdout",
     "output_type": "stream",
     "text": [
      "/casa/bsc/projects/1_DCS/2004_paper_prep\n"
     ]
    }
   ],
   "source": [
    "home = '/casa/bsc/projects/1_DCS/2004_paper_prep/'\n",
    "%cd $home"
   ]
  },
  {
   "cell_type": "code",
   "execution_count": 3,
   "metadata": {},
   "outputs": [
    {
     "name": "stdout",
     "output_type": "stream",
     "text": [
      "resultpath: results/201123/\n"
     ]
    }
   ],
   "source": [
    "from __future__ import division\n",
    "import sys; sys.path.append('/casa/bsc/notebooks/')\n",
    "from basic import gen_result_dir\n",
    "resultpath = gen_result_dir('results/')\n",
    "print 'resultpath:', resultpath"
   ]
  },
  {
   "cell_type": "code",
   "execution_count": 4,
   "metadata": {},
   "outputs": [],
   "source": [
    "import pandas as pd\n",
    "import numpy as np\n",
    "import re\n",
    "import gzip\n",
    "from matplotlib import pyplot as plt\n",
    "from collections import defaultdict, Counter\n",
    "from scipy.stats import spearmanr\n",
    "from util import *\n",
    "%matplotlib inline"
   ]
  },
  {
   "cell_type": "code",
   "execution_count": 5,
   "metadata": {},
   "outputs": [],
   "source": [
    "LIBRARIES = [ 'set1', 'set2', 'set3', 'set4', 'set5' ]"
   ]
  },
  {
   "cell_type": "code",
   "execution_count": 6,
   "metadata": {},
   "outputs": [],
   "source": [
    "s1 = pd.read_csv('supplementary/201123_s1__DROSHA_dependency.csv', header=1, index_col=0)\n",
    "s2 = pd.read_csv('supplementary/201123_s2__Construct.csv', header=1, index_col=0).fillna('')\n",
    "s3 = pd.read_csv('supplementary/201012_s3_input.csv', header=1, index_col=0)\n",
    "s4 = pd.read_csv('supplementary/201012_s4_cleavage-product.csv', header=1)\n",
    "s5 = pd.read_csv('supplementary/201012_s5_pri-structure.csv', header=1, index_col=0)"
   ]
  },
  {
   "cell_type": "code",
   "execution_count": 44,
   "metadata": {},
   "outputs": [
    {
     "name": "stdout",
     "output_type": "stream",
     "text": [
      "1881 (32, 90)\n"
     ]
    }
   ],
   "source": [
    "preposition = {}\n",
    "for mir in s2.index:\n",
    "    flank5, flank3 = s2.loc[mir,[\"5' flanking segment\",\"3' flanking segment\"]]\n",
    "    if flank5 or flank3:\n",
    "        preposition[mir] = (len(flank5)+1,125-len(flank3))\n",
    "    else:\n",
    "        preposition[mir] = (0,126)\n",
    "print len(preposition), preposition['hsa-mir-142']"
   ]
  },
  {
   "cell_type": "code",
   "execution_count": 8,
   "metadata": {},
   "outputs": [
    {
     "data": {
      "text/html": [
       "<div>\n",
       "<style scoped>\n",
       "    .dataframe tbody tr th:only-of-type {\n",
       "        vertical-align: middle;\n",
       "    }\n",
       "\n",
       "    .dataframe tbody tr th {\n",
       "        vertical-align: top;\n",
       "    }\n",
       "\n",
       "    .dataframe thead th {\n",
       "        text-align: right;\n",
       "    }\n",
       "</style>\n",
       "<table border=\"1\" class=\"dataframe\">\n",
       "  <thead>\n",
       "    <tr style=\"text-align: right;\">\n",
       "      <th></th>\n",
       "      <th>set1</th>\n",
       "      <th>set2</th>\n",
       "      <th>set3</th>\n",
       "      <th>set4</th>\n",
       "      <th>set5</th>\n",
       "    </tr>\n",
       "    <tr>\n",
       "      <th>Pri-miRNA</th>\n",
       "      <th></th>\n",
       "      <th></th>\n",
       "      <th></th>\n",
       "      <th></th>\n",
       "      <th></th>\n",
       "    </tr>\n",
       "  </thead>\n",
       "  <tbody>\n",
       "    <tr>\n",
       "      <th>hsa-let-7a-1</th>\n",
       "      <td>1373</td>\n",
       "      <td>474</td>\n",
       "      <td>0</td>\n",
       "      <td>2</td>\n",
       "      <td>0</td>\n",
       "    </tr>\n",
       "  </tbody>\n",
       "</table>\n",
       "</div>"
      ],
      "text/plain": [
       "              set1  set2  set3  set4  set5\n",
       "Pri-miRNA                                 \n",
       "hsa-let-7a-1  1373   474     0     2     0"
      ]
     },
     "execution_count": 8,
     "metadata": {},
     "output_type": "execute_result"
    }
   ],
   "source": [
    "inpsum = pd.DataFrame()\n",
    "for inp in ['set1','set3','set5']:\n",
    "    inpsum[inp] = s3[['%s-1'%inp,'%s-2'%inp]].sum(axis=1)\n",
    "inpsum['set2'] = s3['set2']\n",
    "inpsum['set4'] = s3['set4'] \n",
    "inpsum = inpsum[LIBRARIES]\n",
    "inpsum.head(1)"
   ]
  },
  {
   "cell_type": "code",
   "execution_count": 9,
   "metadata": {},
   "outputs": [
    {
     "data": {
      "text/html": [
       "<div>\n",
       "<style scoped>\n",
       "    .dataframe tbody tr th:only-of-type {\n",
       "        vertical-align: middle;\n",
       "    }\n",
       "\n",
       "    .dataframe tbody tr th {\n",
       "        vertical-align: top;\n",
       "    }\n",
       "\n",
       "    .dataframe thead th {\n",
       "        text-align: right;\n",
       "    }\n",
       "</style>\n",
       "<table border=\"1\" class=\"dataframe\">\n",
       "  <thead>\n",
       "    <tr style=\"text-align: right;\">\n",
       "      <th></th>\n",
       "      <th>Pri-miRNA</th>\n",
       "      <th>rstart</th>\n",
       "      <th>rend</th>\n",
       "      <th>set1</th>\n",
       "      <th>set2</th>\n",
       "      <th>set3</th>\n",
       "      <th>set4</th>\n",
       "      <th>set5</th>\n",
       "    </tr>\n",
       "  </thead>\n",
       "  <tbody>\n",
       "    <tr>\n",
       "      <th>0</th>\n",
       "      <td>hsa-let-7a-1</td>\n",
       "      <td>1</td>\n",
       "      <td>8</td>\n",
       "      <td>4</td>\n",
       "      <td>4</td>\n",
       "      <td>0</td>\n",
       "      <td>0</td>\n",
       "      <td>0</td>\n",
       "    </tr>\n",
       "  </tbody>\n",
       "</table>\n",
       "</div>"
      ],
      "text/plain": [
       "      Pri-miRNA  rstart  rend  set1  set2  set3  set4  set5\n",
       "0  hsa-let-7a-1       1     8     4     4     0     0     0"
      ]
     },
     "execution_count": 9,
     "metadata": {},
     "output_type": "execute_result"
    }
   ],
   "source": [
    "clvraw = s4.set_index(['Pri-miRNA','rstart','rend'])\n",
    "clvtbl = pd.DataFrame()\n",
    "for lib in LIBRARIES:\n",
    "    clvtbl[lib] = clvraw[['%s-1'%lib,'%s-2'%lib]].sum(axis=1)\n",
    "clvtbl = clvtbl.reset_index()\n",
    "clvtbl.head(1)"
   ]
  },
  {
   "cell_type": "code",
   "execution_count": 10,
   "metadata": {},
   "outputs": [],
   "source": [
    "start, mid, end = 1, 63, 125\n",
    "clv5f = clvtbl[(clvtbl['rstart']==start)&(clvtbl['rend']<mid)].set_index('Pri-miRNA')\n",
    "clv3f = clvtbl[(clvtbl['rstart']>mid)&(clvtbl['rend']==end)].set_index('Pri-miRNA')\n",
    "clvhn = clvtbl[(clvtbl['rstart']<mid)&(clvtbl['rend']>mid)]\n",
    "clvn5 = clvhn[clvhn['rstart']==start]\n",
    "clvn3 = clvhn[clvhn['rend']==end]\n",
    "clvh = clvhn.drop(clvn5.index).drop(clvn3.index).set_index('Pri-miRNA')\n",
    "clvn5 = clvn5.set_index('Pri-miRNA'); clvn3 = clvn3.set_index('Pri-miRNA')"
   ]
  },
  {
   "cell_type": "code",
   "execution_count": 13,
   "metadata": {},
   "outputs": [],
   "source": [
    "def fill_unfound(tbl):\n",
    "    found = set(tbl.index)\n",
    "    unfound = [ mir for mir in s2.index if mir not in found ]\n",
    "    fill = pd.DataFrame(index=unfound, columns=tbl.columns).fillna(0)\n",
    "    return tbl.append(fill)"
   ]
  },
  {
   "cell_type": "code",
   "execution_count": 14,
   "metadata": {},
   "outputs": [],
   "source": [
    "clvtbl = fill_unfound(clvtbl.set_index('Pri-miRNA'))\n",
    "clv5f = fill_unfound(clv5f)\n",
    "clv3f = fill_unfound(clv3f)\n",
    "clvh = fill_unfound(clvh)\n",
    "clvn5 = fill_unfound(clvn5)\n",
    "clvn3 = fill_unfound(clvn3)"
   ]
  },
  {
   "cell_type": "markdown",
   "metadata": {},
   "source": [
    "---"
   ]
  },
  {
   "cell_type": "markdown",
   "metadata": {},
   "source": [
    "### Efficiency"
   ]
  },
  {
   "cell_type": "code",
   "execution_count": 61,
   "metadata": {},
   "outputs": [],
   "source": [
    "RCUTOFF = 30\n",
    "RCUTOFFH = 10\n",
    "FCUTOFF = .01\n",
    "WINDOW = 3\n",
    "INVERTED = 11"
   ]
  },
  {
   "cell_type": "code",
   "execution_count": 19,
   "metadata": {},
   "outputs": [],
   "source": [
    "def select_lib(mir):\n",
    "    return max([lib for lib in LIBRARIES if inpsum.loc[mir,lib]>=RCUTOFF], \n",
    "               key=lambda x: clvtbl.loc[mir,x].sum())"
   ]
  },
  {
   "cell_type": "code",
   "execution_count": 35,
   "metadata": {},
   "outputs": [],
   "source": [
    "def get_clv_cnts(mir, lib):\n",
    "    ps, pe = preposition[mir]\n",
    "    if ps<1 or pe>125:\n",
    "        return -1,-1\n",
    "    invs = ps+INVERTED\n",
    "    inve = pe-INVERTED\n",
    "    clv5 = clv5f.loc[[mir]].reset_index().set_index('rend')[lib]\n",
    "    clv3 = clv3f.loc[[mir]].reset_index().set_index('rstart')[lib]\n",
    "    prod5 = clv5.reindex(range(ps-1-WINDOW,ps+WINDOW)).sum()\n",
    "    prod3 = clv3.reindex(range(pe+1-WINDOW,pe+2+WINDOW)).sum()\n",
    "    inv5 = clv5.reindex(range(invs-1-WINDOW,invs+WINDOW)).sum()\n",
    "    inv3 = clv3.reindex(range(inve+1-WINDOW,inve+2+WINDOW)).sum()\n",
    "    return int((prod5+prod3)/2), int((inv5+inv3)/2)"
   ]
  },
  {
   "cell_type": "code",
   "execution_count": 36,
   "metadata": {},
   "outputs": [],
   "source": [
    "def calculate_efficiency(mir, lib):\n",
    "    prod, inv = clvcnts[mir]\n",
    "    if prod<0: \n",
    "        return -999\n",
    "    inp = inpsum[lib][mir]\n",
    "    return max(prod-inv,0)/inp"
   ]
  },
  {
   "cell_type": "code",
   "execution_count": 16,
   "metadata": {
    "scrolled": true
   },
   "outputs": [
    {
     "name": "stdout",
     "output_type": "stream",
     "text": [
      "1819\n"
     ]
    }
   ],
   "source": [
    "suffinps = list(inpsum[(inpsum>=RCUTOFF).any(axis=1)].index)\n",
    "print len(suffinps)"
   ]
  },
  {
   "cell_type": "code",
   "execution_count": 20,
   "metadata": {},
   "outputs": [
    {
     "name": "stdout",
     "output_type": "stream",
     "text": [
      "set1\n"
     ]
    }
   ],
   "source": [
    "sufflibs = { mir:select_lib(mir) for mir in suffinps }\n",
    "print sufflibs['hsa-let-7a-1']"
   ]
  },
  {
   "cell_type": "code",
   "execution_count": 21,
   "metadata": {},
   "outputs": [
    {
     "name": "stdout",
     "output_type": "stream",
     "text": [
      "1373\n"
     ]
    }
   ],
   "source": [
    "## Initial substrates\n",
    "inpcnts = { mir:inpsum.loc[mir,sufflibs[mir]] for mir in suffinps }\n",
    "print inpcnts['hsa-let-7a-1']"
   ]
  },
  {
   "cell_type": "code",
   "execution_count": 46,
   "metadata": {},
   "outputs": [
    {
     "name": "stdout",
     "output_type": "stream",
     "text": [
      "(16552, 11)\n"
     ]
    }
   ],
   "source": [
    "## Cleavage product\n",
    "clvcnts = { mir:get_clv_cnts(mir,sufflibs[mir]) for mir in suffinps }\n",
    "print clvcnts['hsa-let-7a-1']"
   ]
  },
  {
   "cell_type": "code",
   "execution_count": 47,
   "metadata": {},
   "outputs": [
    {
     "data": {
      "text/plain": [
       "{'set1': 0.26321974148061106,\n",
       " 'set2': 0.2248995983935743,\n",
       " 'set3': 0.08839779005524862,\n",
       " 'set4': 0.109642682329907,\n",
       " 'set5': 0.03404255319148936}"
      ]
     },
     "execution_count": 47,
     "metadata": {},
     "output_type": "execute_result"
    }
   ],
   "source": [
    "## norm\n",
    "norm = 'hsa-mir-6788'\n",
    "norms = { lib:calculate_efficiency(norm, lib) for lib in LIBRARIES }\n",
    "norms"
   ]
  },
  {
   "cell_type": "code",
   "execution_count": 48,
   "metadata": {},
   "outputs": [
    {
     "name": "stdout",
     "output_type": "stream",
     "text": [
      "hsa-mir-144\t5.475\n",
      "hsa-let-7a-1\t5.547\n",
      "hsa-mir-17\t3.313\n",
      "hsa-mir-200a\t0.000\n",
      "hsa-mir-15a\t0.937\n"
     ]
    }
   ],
   "source": [
    "testset = [ 'hsa-mir-144', 'hsa-let-7a-1', 'hsa-mir-17', 'hsa-mir-200a', 'hsa-mir-15a' ]\n",
    "for mir in testset:\n",
    "    eff = calculate_efficiency(mir, sufflibs[mir])\n",
    "    print '%s\\t%.3f'%(mir,np.log2(eff/norms[sufflibs[mir]]+1))"
   ]
  },
  {
   "cell_type": "code",
   "execution_count": 49,
   "metadata": {},
   "outputs": [
    {
     "name": "stdout",
     "output_type": "stream",
     "text": [
      "1816 5.475420236784626\n"
     ]
    }
   ],
   "source": [
    "effs = {}\n",
    "for mir in suffinps:\n",
    "    eff = calculate_efficiency(mir,sufflibs[mir])\n",
    "    if eff>-999:\n",
    "        effs[mir] = np.log2(eff/norms[sufflibs[mir]]+1)\n",
    "print len(effs), effs['hsa-mir-144']"
   ]
  },
  {
   "cell_type": "markdown",
   "metadata": {},
   "source": [
    "---"
   ]
  },
  {
   "cell_type": "markdown",
   "metadata": {},
   "source": [
    "### Homogeneity"
   ]
  },
  {
   "cell_type": "code",
   "execution_count": 62,
   "metadata": {},
   "outputs": [],
   "source": [
    "def get_frac_5frag(mir):\n",
    "    sub = clv5f.loc[[mir]].set_index('rend')\n",
    "    return (sub/sub.sum())"
   ]
  },
  {
   "cell_type": "code",
   "execution_count": 63,
   "metadata": {},
   "outputs": [],
   "source": [
    "def get_frac_3frag(mir):\n",
    "    sub = clv3f.loc[[mir]].set_index('rstart')\n",
    "    return (sub/sub.sum())"
   ]
  },
  {
   "cell_type": "code",
   "execution_count": 64,
   "metadata": {},
   "outputs": [],
   "source": [
    "def get_frac_hairpin(mir):\n",
    "    sub = clvh.loc[[mir]].set_index(['rstart','rend'])\n",
    "    return (sub/sub.sum())"
   ]
  },
  {
   "cell_type": "code",
   "execution_count": 65,
   "metadata": {},
   "outputs": [],
   "source": [
    "def filter_frac(frac):\n",
    "    return frac[frac>=FCUTOFF]"
   ]
  },
  {
   "cell_type": "code",
   "execution_count": 67,
   "metadata": {},
   "outputs": [],
   "source": [
    "def drop_duplicates(sortedtbl):\n",
    "    if len(sortedtbl)<=1:\n",
    "        return sortedtbl\n",
    "    hs = sortedtbl['hstart'].tolist()[0]\n",
    "    he = sortedtbl['hend'].tolist()[0]\n",
    "    sub = sortedtbl.iloc[1:]\n",
    "    sub = sub[(sub['hstart']!=hs)&(sub['hend']!=he)]\n",
    "    return sortedtbl.iloc[:1].append(drop_duplicates(sub))"
   ]
  },
  {
   "cell_type": "code",
   "execution_count": 69,
   "metadata": {},
   "outputs": [],
   "source": [
    "frac5f = { mir:get_frac_5frag(mir) for mir in s2.index } \n",
    "frac3f = { mir:get_frac_3frag(mir) for mir in s2.index } \n",
    "frachpn = { mir:get_frac_hairpin(mir) for mir in s2.index }"
   ]
  },
  {
   "cell_type": "code",
   "execution_count": 71,
   "metadata": {},
   "outputs": [],
   "source": [
    "cols = 'miRNA pstart pend hstart hend 5frag 3frag hairpin score diff5 diff3'.split()"
   ]
  },
  {
   "cell_type": "code",
   "execution_count": 94,
   "metadata": {},
   "outputs": [],
   "source": [
    "def get_dcs(mir, lib):\n",
    "    ps, pe = preposition[mir]\n",
    "    null = pd.DataFrame({0:dict(zip(COLS,[mir,ps,pe,1,125,0,0,0,0,99,99]))}).T[COLS]\n",
    "    cs = null\n",
    "    sum5f = clv5f.loc[mir,lib].sum()\n",
    "    sum3f = clv3f.loc[mir,lib].sum()\n",
    "    sumh = clvh.loc[mir,lib].sum()\n",
    "    if not (sum5f>=RCUTOFF and sum3f>=RCUTOFF and sumh>=RCUTOFFH):\n",
    "        return null\n",
    "    \n",
    "    clv5, clv3, clvhpn = [ f[mir][lib] for f in [frac5f,frac3f,frachpn] ]\n",
    "    clv52 = defaultdict(float); clv52.update(clv5)\n",
    "    clv32 = defaultdict(float); clv32.update(clv3)\n",
    "    clvhpn2 = defaultdict(float); clvhpn2.update(clvhpn)\n",
    "    for c5, frac5 in filter_frac(clv5).items():\n",
    "        for c3, frac3 in filter_frac(clv3).items():\n",
    "            row = dict(zip(COLS,[mir,ps,pe,c5+1,c3-1,frac5,frac3,clvhpn2[(c5+1,c3-1)]]))\n",
    "            cs = cs.append(row, ignore_index=True)\n",
    "    for (c5,c3), frach in filter_frac(clvhpn).items():\n",
    "        row = dict(zip(COLS,[mir,ps,pe,c5,c3,clv52[c5-1],clv32[c3+1],frach]))\n",
    "        cs = cs.append(row, ignore_index=True)\n",
    "    cs['score'] = (cs['5frag']+cs['hairpin']+cs['3frag'])/3\n",
    "    cs['diff5'] = cs['hstart']-cs['pstart']\n",
    "    cs['diff3'] = cs['pend']-cs['hend']\n",
    "    cs = cs[(abs(cs['diff5'])<=WINDOW)&(abs(cs['diff3'])<=WINDOW)]\n",
    "    if len(cs)>=1:\n",
    "        return drop_duplicates(cs.sort_values('score').iloc[::-1])\n",
    "    return null"
   ]
  },
  {
   "cell_type": "code",
   "execution_count": 95,
   "metadata": {},
   "outputs": [
    {
     "data": {
      "text/html": [
       "<div>\n",
       "<style scoped>\n",
       "    .dataframe tbody tr th:only-of-type {\n",
       "        vertical-align: middle;\n",
       "    }\n",
       "\n",
       "    .dataframe tbody tr th {\n",
       "        vertical-align: top;\n",
       "    }\n",
       "\n",
       "    .dataframe thead th {\n",
       "        text-align: right;\n",
       "    }\n",
       "</style>\n",
       "<table border=\"1\" class=\"dataframe\">\n",
       "  <thead>\n",
       "    <tr style=\"text-align: right;\">\n",
       "      <th></th>\n",
       "      <th>miRNA</th>\n",
       "      <th>pstart</th>\n",
       "      <th>pend</th>\n",
       "      <th>hstart</th>\n",
       "      <th>hend</th>\n",
       "      <th>5frag</th>\n",
       "      <th>3frag</th>\n",
       "      <th>hairpin</th>\n",
       "      <th>score</th>\n",
       "      <th>diff5</th>\n",
       "      <th>diff3</th>\n",
       "    </tr>\n",
       "  </thead>\n",
       "  <tbody>\n",
       "    <tr>\n",
       "      <th>43</th>\n",
       "      <td>hsa-mir-10a</td>\n",
       "      <td>30</td>\n",
       "      <td>92</td>\n",
       "      <td>30</td>\n",
       "      <td>92</td>\n",
       "      <td>0.826975</td>\n",
       "      <td>0.716722</td>\n",
       "      <td>0.191431</td>\n",
       "      <td>0.578376</td>\n",
       "      <td>0</td>\n",
       "      <td>0</td>\n",
       "    </tr>\n",
       "    <tr>\n",
       "      <th>46</th>\n",
       "      <td>hsa-mir-10a</td>\n",
       "      <td>30</td>\n",
       "      <td>92</td>\n",
       "      <td>31</td>\n",
       "      <td>91</td>\n",
       "      <td>0.0371823</td>\n",
       "      <td>0.120155</td>\n",
       "      <td>0.0492252</td>\n",
       "      <td>0.0688542</td>\n",
       "      <td>1</td>\n",
       "      <td>1</td>\n",
       "    </tr>\n",
       "    <tr>\n",
       "      <th>37</th>\n",
       "      <td>hsa-mir-10a</td>\n",
       "      <td>30</td>\n",
       "      <td>92</td>\n",
       "      <td>29</td>\n",
       "      <td>93</td>\n",
       "      <td>0.0541945</td>\n",
       "      <td>0.045072</td>\n",
       "      <td>0.0519599</td>\n",
       "      <td>0.0504088</td>\n",
       "      <td>-1</td>\n",
       "      <td>-1</td>\n",
       "    </tr>\n",
       "  </tbody>\n",
       "</table>\n",
       "</div>"
      ],
      "text/plain": [
       "          miRNA pstart pend hstart hend      5frag     3frag    hairpin  \\\n",
       "43  hsa-mir-10a     30   92     30   92   0.826975  0.716722   0.191431   \n",
       "46  hsa-mir-10a     30   92     31   91  0.0371823  0.120155  0.0492252   \n",
       "37  hsa-mir-10a     30   92     29   93  0.0541945  0.045072  0.0519599   \n",
       "\n",
       "        score diff5 diff3  \n",
       "43   0.578376     0     0  \n",
       "46  0.0688542     1     1  \n",
       "37  0.0504088    -1    -1  "
      ]
     },
     "execution_count": 95,
     "metadata": {},
     "output_type": "execute_result"
    }
   ],
   "source": [
    "mir = 'hsa-mir-10a'\n",
    "get_dcs(mir, sufflibs[mir])"
   ]
  },
  {
   "cell_type": "code",
   "execution_count": 96,
   "metadata": {},
   "outputs": [
    {
     "name": "stdout",
     "output_type": "stream",
     "text": [
      "Mon Nov 23 15:31:45 2020\n",
      "Mon Nov 23 15:53:37 2020\n",
      "# of all sites:\t4082\n",
      "# of miRNAs:\t1819\n"
     ]
    }
   ],
   "source": [
    "print time.ctime()\n",
    "clvall = pd.DataFrame(columns=cols)\n",
    "for mir in suffinps:\n",
    "    clvall = clvall.append(get_dcs(mir,sufflibs[mir]), ignore_index=True)\n",
    "clvall = clvall[cols]\n",
    "print time.ctime()\n",
    "print '# of all sites:\\t%s' % len(clvall)\n",
    "print '# of miRNAs:\\t%s' % len(set(clvall['miRNA']))"
   ]
  },
  {
   "cell_type": "code",
   "execution_count": 97,
   "metadata": {},
   "outputs": [],
   "source": [
    "clvall.to_csv('resources/201123_cleavage_sites.csv')\n",
    "#clvall = pd.read_csv('resources/201123_cleavage_sites.csv', index_col=0)"
   ]
  },
  {
   "cell_type": "code",
   "execution_count": 116,
   "metadata": {},
   "outputs": [],
   "source": [
    "tmp = clvall.sort_values('score').drop_duplicates('miRNA',keep='last')\n",
    "homs = tmp.set_index('miRNA')['score'].to_dict()"
   ]
  },
  {
   "cell_type": "markdown",
   "metadata": {},
   "source": [
    "---"
   ]
  },
  {
   "cell_type": "markdown",
   "metadata": {},
   "source": [
    "### Build table"
   ]
  },
  {
   "cell_type": "code",
   "execution_count": 111,
   "metadata": {},
   "outputs": [],
   "source": [
    "homcut = .25\n",
    "clvsig = clvall[clvall['score']>=homcut]\n",
    "clvcnt = Counter(clvsig['miRNA'])"
   ]
  },
  {
   "cell_type": "code",
   "execution_count": 118,
   "metadata": {},
   "outputs": [
    {
     "name": "stdout",
     "output_type": "stream",
     "text": [
      "493 41\n"
     ]
    }
   ],
   "source": [
    "effcut = 2.5\n",
    "overlap = [ m for m in suffinps if m in homs and m in effs ]\n",
    "single = [ m for m in overlap if effs[m]>=effcut and clvcnt[m]==1 ]\n",
    "alternative = [ m for m in overlap if effs[m]>=effcut and clvcnt[m]>=2 ]\n",
    "print len(single), len(alternative)"
   ]
  },
  {
   "cell_type": "code",
   "execution_count": 115,
   "metadata": {},
   "outputs": [
    {
     "data": {
      "text/html": [
       "<div>\n",
       "<style scoped>\n",
       "    .dataframe tbody tr th:only-of-type {\n",
       "        vertical-align: middle;\n",
       "    }\n",
       "\n",
       "    .dataframe tbody tr th {\n",
       "        vertical-align: top;\n",
       "    }\n",
       "\n",
       "    .dataframe thead th {\n",
       "        text-align: right;\n",
       "    }\n",
       "</style>\n",
       "<table border=\"1\" class=\"dataframe\">\n",
       "  <thead>\n",
       "    <tr style=\"text-align: right;\">\n",
       "      <th></th>\n",
       "      <th>Cleavage Efficiency</th>\n",
       "      <th>Cleavage Homogeneity</th>\n",
       "      <th>5' miRBase site</th>\n",
       "      <th>3' miRBase site</th>\n",
       "      <th>5' cleavage site</th>\n",
       "      <th>3' cleavage site</th>\n",
       "      <th>5' alternative site</th>\n",
       "      <th>3' alternative site</th>\n",
       "      <th>Alternative Processing Ratio</th>\n",
       "    </tr>\n",
       "    <tr>\n",
       "      <th>Pri-miRNA</th>\n",
       "      <th></th>\n",
       "      <th></th>\n",
       "      <th></th>\n",
       "      <th></th>\n",
       "      <th></th>\n",
       "      <th></th>\n",
       "      <th></th>\n",
       "      <th></th>\n",
       "      <th></th>\n",
       "    </tr>\n",
       "  </thead>\n",
       "  <tbody>\n",
       "  </tbody>\n",
       "</table>\n",
       "</div>"
      ],
      "text/plain": [
       "Empty DataFrame\n",
       "Columns: [Cleavage Efficiency, Cleavage Homogeneity, 5' miRBase site, 3' miRBase site, 5' cleavage site, 3' cleavage site, 5' alternative site, 3' alternative site, Alternative Processing Ratio]\n",
       "Index: []"
      ]
     },
     "execution_count": 115,
     "metadata": {},
     "output_type": "execute_result"
    }
   ],
   "source": [
    "cols = [ 'Pri-miRNA', 'Cleavage Efficiency', 'Cleavage Homogeneity',\n",
    "         \"5' miRBase site\", \"3' miRBase site\", \"5' cleavage site\", \"3' cleavage site\", \n",
    "         \"5' alternative site\", \"3' alternative site\", \"Cleavage ratio of alternative site\" ]\n",
    "tbl = pd.DataFrame(columns=cols).set_index('Pri-miRNA')\n",
    "tbl.head(1)"
   ]
  },
  {
   "cell_type": "code",
   "execution_count": 131,
   "metadata": {},
   "outputs": [
    {
     "data": {
      "text/html": [
       "<div>\n",
       "<style scoped>\n",
       "    .dataframe tbody tr th:only-of-type {\n",
       "        vertical-align: middle;\n",
       "    }\n",
       "\n",
       "    .dataframe tbody tr th {\n",
       "        vertical-align: top;\n",
       "    }\n",
       "\n",
       "    .dataframe thead th {\n",
       "        text-align: right;\n",
       "    }\n",
       "</style>\n",
       "<table border=\"1\" class=\"dataframe\">\n",
       "  <thead>\n",
       "    <tr style=\"text-align: right;\">\n",
       "      <th></th>\n",
       "      <th>miRNA</th>\n",
       "      <th>pstart</th>\n",
       "      <th>pend</th>\n",
       "      <th>hstart</th>\n",
       "      <th>hend</th>\n",
       "      <th>5frag</th>\n",
       "      <th>3frag</th>\n",
       "      <th>hairpin</th>\n",
       "      <th>score</th>\n",
       "      <th>diff5</th>\n",
       "      <th>diff3</th>\n",
       "    </tr>\n",
       "  </thead>\n",
       "  <tbody>\n",
       "    <tr>\n",
       "      <th>2</th>\n",
       "      <td>hsa-let-7a-2</td>\n",
       "      <td>28</td>\n",
       "      <td>94</td>\n",
       "      <td>28</td>\n",
       "      <td>94</td>\n",
       "      <td>0.760777</td>\n",
       "      <td>0.94489</td>\n",
       "      <td>0.658254</td>\n",
       "      <td>0.787974</td>\n",
       "      <td>0</td>\n",
       "      <td>0</td>\n",
       "    </tr>\n",
       "  </tbody>\n",
       "</table>\n",
       "</div>"
      ],
      "text/plain": [
       "          miRNA pstart pend hstart hend     5frag    3frag   hairpin  \\\n",
       "2  hsa-let-7a-2     28   94     28   94  0.760777  0.94489  0.658254   \n",
       "\n",
       "      score diff5 diff3  \n",
       "2  0.787974     0     0  "
      ]
     },
     "execution_count": 131,
     "metadata": {},
     "output_type": "execute_result"
    }
   ],
   "source": [
    "clvall[clvall['miRNA']=='hsa-let-7a-2']"
   ]
  },
  {
   "cell_type": "code",
   "execution_count": 132,
   "metadata": {
    "scrolled": true
   },
   "outputs": [],
   "source": [
    "for pri in overlap:\n",
    "    ps, pe = preposition[pri]\n",
    "    tbl.loc[pri,'Cleavage Efficiency'] = effs[pri]\n",
    "    tbl.loc[pri,'Cleavage Homogeneity'] = homs[pri]\n",
    "    tbl.loc[pri,\"5' miRBase site\"] = ps\n",
    "    tbl.loc[pri,\"3' miRBase site\"] = pe\n",
    "    sub = clvall[clvall['miRNA']==pri].sort_values('score',ascending=False)\n",
    "    sub = sub[sub['score']>0]\n",
    "    if len(sub)>=1:\n",
    "        tbl.loc[pri,\"5' cleavage site\"] = sub['hstart'].values[0]\n",
    "        tbl.loc[pri,\"3' cleavage site\"] = sub['hend'].values[0]\n",
    "        if len(sub)>=2:\n",
    "            tbl.loc[pri,\"5' alternative site\"] = sub['hstart'].values[1]\n",
    "            tbl.loc[pri,\"3' alternative site\"] = sub['hend'].values[1]\n",
    "            tbl.loc[pri,\"Cleavage ratio of alternative site\"] = sub['score'].values[1]"
   ]
  },
  {
   "cell_type": "code",
   "execution_count": 135,
   "metadata": {},
   "outputs": [],
   "source": [
    "tbl.to_csv('resources/201123_s3__DROSHA_processing_result.csv')"
   ]
  },
  {
   "cell_type": "code",
   "execution_count": 136,
   "metadata": {},
   "outputs": [],
   "source": [
    "out = open('supplementary/201123_s3__DROSHA_processing_result.csv', 'wt')\n",
    "description = 'Supplementary Table 3. DROSHA processing result\\n\\n\\n\\n\\n'\n",
    "out.write(description)\n",
    "for l in open('resources/201123_s3__DROSHA_processing_result.csv', 'rt'):\n",
    "    out.write(l)\n",
    "out.close()"
   ]
  },
  {
   "cell_type": "code",
   "execution_count": null,
   "metadata": {},
   "outputs": [],
   "source": []
  }
 ],
 "metadata": {
  "kernelspec": {
   "display_name": "Python 2",
   "language": "python",
   "name": "python2"
  },
  "language_info": {
   "codemirror_mode": {
    "name": "ipython",
    "version": 2
   },
   "file_extension": ".py",
   "mimetype": "text/x-python",
   "name": "python",
   "nbconvert_exporter": "python",
   "pygments_lexer": "ipython2",
   "version": "2.7.18"
  }
 },
 "nbformat": 4,
 "nbformat_minor": 2
}
