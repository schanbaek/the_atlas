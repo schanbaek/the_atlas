{
 "cells": [
  {
   "cell_type": "markdown",
   "metadata": {},
   "source": [
    "# Figure 2. Classifying DROSHA-dependent miRNAs\n",
    "---"
   ]
  },
  {
   "cell_type": "code",
   "execution_count": 2,
   "metadata": {},
   "outputs": [
    {
     "name": "stdout",
     "output_type": "stream",
     "text": [
      "Last revised by Seungchan Baek at 2020-12-01.\n"
     ]
    }
   ],
   "source": [
    "import time\n",
    "today = time.strftime('%Y-%m-%d')\n",
    "name = 'Seungchan Baek'\n",
    "print 'Last revised by %s at %s.' % (name, today)"
   ]
  },
  {
   "cell_type": "code",
   "execution_count": 3,
   "metadata": {},
   "outputs": [
    {
     "name": "stdout",
     "output_type": "stream",
     "text": [
      "/casa/bsc/projects/1_DCS/2004_paper_prep\n"
     ]
    }
   ],
   "source": [
    "home = '/casa/bsc/projects/1_DCS/2004_paper_prep/'\n",
    "utilpath = '/casa/bsc/notebooks/'\n",
    "%cd $home"
   ]
  },
  {
   "cell_type": "code",
   "execution_count": 4,
   "metadata": {},
   "outputs": [
    {
     "name": "stdout",
     "output_type": "stream",
     "text": [
      "resultpath: results/201201/\n"
     ]
    }
   ],
   "source": [
    "from __future__ import division\n",
    "import sys; sys.path.append(utilpath)\n",
    "from util import *\n",
    "from basic import gen_result_dir\n",
    "resultpath = gen_result_dir('results/')\n",
    "print 'resultpath:', resultpath"
   ]
  },
  {
   "cell_type": "code",
   "execution_count": 5,
   "metadata": {},
   "outputs": [],
   "source": [
    "import pandas as pd\n",
    "import numpy as np\n",
    "import re\n",
    "from matplotlib import pyplot as plt\n",
    "from matplotlib import lines, gridspec\n",
    "from scipy.stats import mannwhitneyu, sem, ttest_ind\n",
    "from collections import defaultdict, Counter\n",
    "%matplotlib inline"
   ]
  },
  {
   "cell_type": "code",
   "execution_count": 6,
   "metadata": {},
   "outputs": [],
   "source": [
    "LIBRARIES = [ 'set1', 'set2', 'set3', 'set4', 'set5' ]"
   ]
  },
  {
   "cell_type": "code",
   "execution_count": 7,
   "metadata": {},
   "outputs": [],
   "source": [
    "s1 = pd.read_csv('supplementary/201123_s1__DROSHA_dependency.csv', header=1, index_col=0)\n",
    "s2 = pd.read_csv('supplementary/201123_s2__Construct.csv', header=1, index_col=0).fillna('')\n",
    "s3 = pd.read_csv('supplementary/201123_s3__DROSHA_processing_result.csv', header=1, index_col=0)\n",
    "#s4 = pd.read_csv('supplementary/201012_s4_cleavage-product.csv', header=1)\n",
    "#s5 = pd.read_csv('supplementary/201012_s5_pri-structure.csv', header=1, index_col=0)\n",
    "#s6 = pd.read_csv('supplementary/201028_s6_cleavage-patterns.csv', header=1, index_col=0)"
   ]
  },
  {
   "cell_type": "code",
   "execution_count": 8,
   "metadata": {},
   "outputs": [
    {
     "name": "stdout",
     "output_type": "stream",
     "text": [
      "1881 (32, 90)\n"
     ]
    }
   ],
   "source": [
    "preposition = {}\n",
    "for mir in s2.index:\n",
    "    flank5, flank3 = s2.loc[mir,[\"5' flanking segment\",\"3' flanking segment\"]]\n",
    "    if flank5 or flank3:\n",
    "        preposition[mir] = (len(flank5)+1,125-len(flank3))\n",
    "    else:\n",
    "        preposition[mir] = (0,126)\n",
    "print len(preposition), preposition['hsa-mir-142']"
   ]
  },
  {
   "cell_type": "code",
   "execution_count": 9,
   "metadata": {},
   "outputs": [
    {
     "name": "stdout",
     "output_type": "stream",
     "text": [
      "1881\n"
     ]
    }
   ],
   "source": [
    "constseqs = dict(s2['Construct sequence (125 nt)'])\n",
    "print len(constseqs)"
   ]
  },
  {
   "cell_type": "code",
   "execution_count": 10,
   "metadata": {},
   "outputs": [
    {
     "name": "stdout",
     "output_type": "stream",
     "text": [
      "304 257 157 281\n"
     ]
    }
   ],
   "source": [
    "drodep = s1[s1['DROSHA dependency'].apply(lambda x:x.find('DROSHA-dependent')>=0)].index\n",
    "droind = s1[s1['DROSHA dependency'].apply(lambda x:x.find('DROSHA-independent')>=0)].index\n",
    "droko = s1[s1['DROSHA dependency'].apply(lambda x:x.find('DROSHA KO')>=0)].index\n",
    "fclip = s1[s1['DROSHA dependency'].apply(lambda x:x.find('fCLIP')>=0)].index\n",
    "print len(drodep), len(droind), len(droko), len(fclip)"
   ]
  },
  {
   "cell_type": "code",
   "execution_count": 11,
   "metadata": {},
   "outputs": [
    {
     "name": "stdout",
     "output_type": "stream",
     "text": [
      "1816 534 1282\n"
     ]
    }
   ],
   "source": [
    "EFFCUT = 2.5\n",
    "HOMCUT = .25\n",
    "effs = s3['Cleavage Efficiency'].to_dict()\n",
    "homs = s3['Cleavage Homogeneity'].to_dict()\n",
    "dcsmirs = [ m for m in s3.index if effs[m]>=EFFCUT and homs[m]>=HOMCUT ]\n",
    "nodcs = [ m for m in s3.index if m not in dcsmirs ]\n",
    "print len(s3.index), len(dcsmirs), len(nodcs)"
   ]
  },
  {
   "cell_type": "code",
   "execution_count": 43,
   "metadata": {},
   "outputs": [
    {
     "data": {
      "text/plain": [
       "206"
      ]
     },
     "execution_count": 43,
     "metadata": {},
     "output_type": "execute_result"
    }
   ],
   "source": [
    "len([m for m in drodep if m in s3.index and m in dcsmirs])"
   ]
  },
  {
   "cell_type": "markdown",
   "metadata": {},
   "source": [
    "---"
   ]
  },
  {
   "cell_type": "markdown",
   "metadata": {},
   "source": [
    "## A. Different cleavage patterns"
   ]
  },
  {
   "cell_type": "code",
   "execution_count": 12,
   "metadata": {},
   "outputs": [
    {
     "data": {
      "text/html": [
       "<div>\n",
       "<style scoped>\n",
       "    .dataframe tbody tr th:only-of-type {\n",
       "        vertical-align: middle;\n",
       "    }\n",
       "\n",
       "    .dataframe tbody tr th {\n",
       "        vertical-align: top;\n",
       "    }\n",
       "\n",
       "    .dataframe thead th {\n",
       "        text-align: right;\n",
       "    }\n",
       "</style>\n",
       "<table border=\"1\" class=\"dataframe\">\n",
       "  <thead>\n",
       "    <tr style=\"text-align: right;\">\n",
       "      <th></th>\n",
       "      <th>set1</th>\n",
       "      <th>set2</th>\n",
       "      <th>set3</th>\n",
       "      <th>set4</th>\n",
       "      <th>set5</th>\n",
       "    </tr>\n",
       "    <tr>\n",
       "      <th>Pri-miRNA</th>\n",
       "      <th></th>\n",
       "      <th></th>\n",
       "      <th></th>\n",
       "      <th></th>\n",
       "      <th></th>\n",
       "    </tr>\n",
       "  </thead>\n",
       "  <tbody>\n",
       "    <tr>\n",
       "      <th>hsa-let-7a-1</th>\n",
       "      <td>1373</td>\n",
       "      <td>474</td>\n",
       "      <td>0</td>\n",
       "      <td>2</td>\n",
       "      <td>0</td>\n",
       "    </tr>\n",
       "  </tbody>\n",
       "</table>\n",
       "</div>"
      ],
      "text/plain": [
       "              set1  set2  set3  set4  set5\n",
       "Pri-miRNA                                 \n",
       "hsa-let-7a-1  1373   474     0     2     0"
      ]
     },
     "execution_count": 12,
     "metadata": {},
     "output_type": "execute_result"
    }
   ],
   "source": [
    "inptbl = pd.read_csv('supplementary/201012_s3_input.csv', header=1, index_col=0)\n",
    "inpsum = pd.DataFrame()\n",
    "for inp in ['set1','set3','set5']:\n",
    "    inpsum[inp] = inptbl[['%s-1'%inp,'%s-2'%inp]].sum(axis=1)\n",
    "inpsum['set2'] = inptbl['set2']\n",
    "inpsum['set4'] = inptbl['set4'] \n",
    "inpsum = inpsum[LIBRARIES]\n",
    "inpsum.head(1)"
   ]
  },
  {
   "cell_type": "code",
   "execution_count": 13,
   "metadata": {},
   "outputs": [
    {
     "data": {
      "text/html": [
       "<div>\n",
       "<style scoped>\n",
       "    .dataframe tbody tr th:only-of-type {\n",
       "        vertical-align: middle;\n",
       "    }\n",
       "\n",
       "    .dataframe tbody tr th {\n",
       "        vertical-align: top;\n",
       "    }\n",
       "\n",
       "    .dataframe thead th {\n",
       "        text-align: right;\n",
       "    }\n",
       "</style>\n",
       "<table border=\"1\" class=\"dataframe\">\n",
       "  <thead>\n",
       "    <tr style=\"text-align: right;\">\n",
       "      <th></th>\n",
       "      <th>Pri-miRNA</th>\n",
       "      <th>rstart</th>\n",
       "      <th>rend</th>\n",
       "      <th>set1</th>\n",
       "      <th>set2</th>\n",
       "      <th>set3</th>\n",
       "      <th>set4</th>\n",
       "      <th>set5</th>\n",
       "    </tr>\n",
       "  </thead>\n",
       "  <tbody>\n",
       "    <tr>\n",
       "      <th>0</th>\n",
       "      <td>hsa-let-7a-1</td>\n",
       "      <td>1</td>\n",
       "      <td>8</td>\n",
       "      <td>4</td>\n",
       "      <td>4</td>\n",
       "      <td>0</td>\n",
       "      <td>0</td>\n",
       "      <td>0</td>\n",
       "    </tr>\n",
       "  </tbody>\n",
       "</table>\n",
       "</div>"
      ],
      "text/plain": [
       "      Pri-miRNA  rstart  rend  set1  set2  set3  set4  set5\n",
       "0  hsa-let-7a-1       1     8     4     4     0     0     0"
      ]
     },
     "execution_count": 13,
     "metadata": {},
     "output_type": "execute_result"
    }
   ],
   "source": [
    "clvraw = pd.read_csv('supplementary/201012_s4_cleavage-product.csv',header=1,index_col=[0,1,2])\n",
    "clvtbl = pd.DataFrame()\n",
    "for lib in LIBRARIES:\n",
    "    clvtbl[lib] = clvraw[['%s-1'%lib,'%s-2'%lib]].sum(axis=1)\n",
    "clvtbl = clvtbl.reset_index()\n",
    "clvtbl.head(1)"
   ]
  },
  {
   "cell_type": "code",
   "execution_count": 14,
   "metadata": {},
   "outputs": [],
   "source": [
    "START, MID, END = 1, 63, 125\n",
    "clv5f = clvtbl[(clvtbl['rstart']==START)&(clvtbl['rend']<MID)].set_index('Pri-miRNA')\n",
    "clv3f = clvtbl[(clvtbl['rstart']>MID)&(clvtbl['rend']==END)].set_index('Pri-miRNA')"
   ]
  },
  {
   "cell_type": "code",
   "execution_count": 15,
   "metadata": {},
   "outputs": [],
   "source": [
    "mirs = ['hsa-let-7a-1','hsa-mir-152','hsa-mir-320a']\n",
    "lib = 'set2'"
   ]
  },
  {
   "cell_type": "code",
   "execution_count": 29,
   "metadata": {
    "scrolled": true
   },
   "outputs": [],
   "source": [
    "RCUTOFF = 30\n",
    "clvinp = {}\n",
    "for m in set(clv5f.index)&set(clv3f.index):\n",
    "    ps, pe = preposition[m]\n",
    "    inp = inpsum.loc[m,'set2']\n",
    "    clv5 = clv5f.loc[[m]].set_index('rend').reindex(range(ps-4,ps+3))[lib].sum()\n",
    "    clv3 = clv3f.loc[[m]].set_index('rstart').reindex(range(pe-2,pe+5))[lib].sum()\n",
    "    if inp>=RCUTOFF:\n",
    "        clvinp[m] = (clv5+clv3)/inp"
   ]
  },
  {
   "cell_type": "code",
   "execution_count": 79,
   "metadata": {},
   "outputs": [
    {
     "data": {
      "text/plain": [
       "[('hsa-mir-708', 4.2323759791122715),\n",
       " ('hsa-mir-376a-2', 4.249797242497973),\n",
       " ('hsa-mir-146b', 4.150323974082074),\n",
       " ('hsa-let-7f-2', 4.25959367945824)]"
      ]
     },
     "execution_count": 79,
     "metadata": {},
     "output_type": "execute_result"
    }
   ],
   "source": [
    "[(m,clvinp[m]) for m in clvinp if abs(clvinp[m]-norm)<=.06 ]"
   ]
  },
  {
   "cell_type": "code",
   "execution_count": 80,
   "metadata": {},
   "outputs": [
    {
     "data": {
      "text/plain": [
       "{'hsa-let-7a-1': 1,\n",
       " 'hsa-mir-152': 0.8468779269270439,\n",
       " 'hsa-mir-320a': 0.0009262575090915034}"
      ]
     },
     "execution_count": 80,
     "metadata": {},
     "output_type": "execute_result"
    }
   ],
   "source": [
    "norm = clvinp['hsa-let-7f-2']# np.percentile(clvinp.values(),95)\n",
    "relq = { m:min(clvinp[m]/norm,1) for m in mirs }\n",
    "relq"
   ]
  },
  {
   "cell_type": "code",
   "execution_count": 63,
   "metadata": {
    "scrolled": true
   },
   "outputs": [
    {
     "name": "stdout",
     "output_type": "stream",
     "text": [
      "hsa-let-7a-1 [0.7, 0.8, 2.6, 93.6, 0.2, 0.0, 0.0] [0.0, 0.0, 0.0, 97.3, 1.2, 0.0, 0.4]\n",
      "hsa-mir-152 [1.5, 4.6, 39.0, 40.2, 0.1, 0.0, 0.1] [0.0, 0.0, 0.0, 46.5, 48.0, 0.2, 0.3]\n",
      "hsa-mir-320a [3.0, 9.1, 0.0, 0.0, 3.0, 3.0, 6.1] [0.7, 0.0, 1.5, 0.0, 0.0, 0.0, 0.0]\n"
     ]
    }
   ],
   "source": [
    "for m in mirs:\n",
    "    sum5 = clv5f.loc[m,lib].sum()\n",
    "    sum3 = clv3f.loc[m,lib].sum()\n",
    "    ps, pe = preposition[m]\n",
    "    c5 = (clv5f.loc[m].set_index('rend')[lib]/sum5).reindex(range(ps-4,ps+3)).fillna(0)*100\n",
    "    c3 = (clv3f.loc[m].set_index('rstart')[lib]/sum3).reindex(range(pe-2,pe+5)).fillna(0)*100\n",
    "    print m, c5.round(1).tolist(), c3.round(1).tolist()"
   ]
  },
  {
   "cell_type": "code",
   "execution_count": 86,
   "metadata": {},
   "outputs": [
    {
     "data": {
      "image/png": "[encoded data removed]",
      "text/plain": [
       "<matplotlib.figure.Figure at 0x7fa83decef90>"
      ]
     },
     "metadata": {},
     "output_type": "display_data"
    }
   ],
   "source": [
    "m = mirs[2]\n",
    "fig, ax = plt.subplots(1, 1, figsize=(.65,1))\n",
    "ax.bar([0,1],[1,relq[m]],color='#bababa',width=.7)\n",
    "ax.spines['left'].set_visible(False)\n",
    "ax.set_xticks([0,1])\n",
    "ax.set_xticklabels(['INP','CLV'],fontsize=9)\n",
    "ax.set_yticklabels([])\n",
    "ax.yaxis.grid(ls='-',lw=.5)\n",
    "ax.set_ylabel('Relative count',fontsize=9)\n",
    "ax.tick_params(bottom='off',left='off')\n",
    "fig.savefig(resultpath+'201123_f2a__example_%s.pdf'%m)"
   ]
  },
  {
   "cell_type": "markdown",
   "metadata": {},
   "source": [
    "## S2A-B. Precision-Recall"
   ]
  },
  {
   "cell_type": "code",
   "execution_count": 331,
   "metadata": {},
   "outputs": [],
   "source": [
    "def get_precision(cutoff, mirl, data, pcs):\n",
    "    tpos = [m for m in mirl if m in pcs and data[m]>=cutoff]\n",
    "    pos = [m for m in mirl if data[m]>=cutoff]\n",
    "    return len(tpos)/len(pos)"
   ]
  },
  {
   "cell_type": "code",
   "execution_count": 332,
   "metadata": {},
   "outputs": [],
   "source": [
    "def get_recall(cutoff, mirl, data, pcs):\n",
    "    tpos = [m for m in mirl if m in pcs and data[m]>=cutoff]\n",
    "    return len(tpos)/len(pcs)"
   ]
  },
  {
   "cell_type": "code",
   "execution_count": 333,
   "metadata": {
    "scrolled": true
   },
   "outputs": [
    {
     "name": "stdout",
     "output_type": "stream",
     "text": [
      "553 298\n"
     ]
    }
   ],
   "source": [
    "testset = [ mir for mir in s3.index if mir in drodep or mir in droind ]\n",
    "pcs = [ mir for mir in s3.index if mir in drodep ]\n",
    "print len(testset), len(pcs)"
   ]
  },
  {
   "cell_type": "code",
   "execution_count": 334,
   "metadata": {},
   "outputs": [],
   "source": [
    "erange = np.arange(0,4.6,.5)\n",
    "eprs = [ get_precision(e,testset,effs,pcs) for e in erange ]\n",
    "ercs = [ get_recall(e,testset,effs,pcs) for e in erange ]"
   ]
  },
  {
   "cell_type": "code",
   "execution_count": 335,
   "metadata": {},
   "outputs": [],
   "source": [
    "hrange = np.arange(0,.71,.05)\n",
    "hprs = [ get_precision(e,testset,homs,pcs) for e in hrange ]\n",
    "hrcs = [ get_recall(e,testset,homs,pcs) for e in hrange ]"
   ]
  },
  {
   "cell_type": "code",
   "execution_count": 336,
   "metadata": {},
   "outputs": [],
   "source": [
    "ecut = 2.5\n",
    "hcut = .25\n",
    "ex = get_recall(ecut,testset,effs,pcs)\n",
    "ey = get_precision(ecut,testset,effs,pcs)\n",
    "hx = get_recall(hcut,testset,homs,pcs)\n",
    "hy = get_precision(hcut,testset,homs,pcs)\n",
    "c = '#a63603'"
   ]
  },
  {
   "cell_type": "code",
   "execution_count": 337,
   "metadata": {},
   "outputs": [
    {
     "data": {
      "image/png": "[encoded data removed]",
      "text/plain": [
       "<matplotlib.figure.Figure at 0x7fa81f45a910>"
      ]
     },
     "metadata": {},
     "output_type": "display_data"
    }
   ],
   "source": [
    "fig, (ax1,ax2) = plt.subplots(1, 2, figsize=(6.5,2.6))\n",
    "ax1.errorbar(ercs,eprs,ms=4,marker='o',zorder=2,color='#424242')\n",
    "ax2.errorbar(hrcs,hprs,ms=4,marker='o',zorder=2,color='#424242')\n",
    "ax1.set_title('Cleavage Efficiency',fontsize=12.2)\n",
    "ax2.set_title('Cleavage Homogeneity',fontsize=12.2)\n",
    "for ax,xmin in zip([ax1,ax2],[ercs[-1],hrcs[-1]]):\n",
    "    ax.spines['left'].set_bounds(.52,1)\n",
    "    ax.spines['bottom'].set_bounds(xmin-.03,1)\n",
    "    ax.set_xlim(xmin-.03,1.02)\n",
    "    ax.set_ylim(.52,1.01)\n",
    "    ax.set_xlabel('Recall',fontsize=11)\n",
    "    ax.set_ylabel('Precision',fontsize=11)\n",
    "    ax.set_xticks(np.arange(.3,1.1,.1))\n",
    "    ax.set_yticks(np.arange(.55,1.05,.05))\n",
    "    sq = plt.Rectangle([xmin-.03,.35],1.04-xmin,.66,fc='w'); ax.add_patch(sq)\n",
    "    ax.grid(ls='-',lw=.5,clip_path=sq,which='both')\n",
    "    ax.tick_params(labelsize=11)\n",
    "ax1.text(ex+.02,ey+.01,ecut,fontsize=11,weight='bold',color='#502585')  \n",
    "ax2.text(hx+.02,hy+.01,hcut,fontsize=11,weight='bold',color='#de2d26')\n",
    "ax1.scatter([ex],[ey],s=20,color='#502585',zorder=3)\n",
    "ax2.scatter([hx],[hy],s=20,color='#de2d26',zorder=3)\n",
    "ax1.plot([0,1],[.95,.95],'k--',lw=1); ax1.plot([.7,.7],[0,1],'k--',lw=1)\n",
    "ax2.plot([0,1],[.95,.95],'k--',lw=1); ax2.plot([.7,.7],[0,1],'k--',lw=1)\n",
    "fig.subplots_adjust(wspace=.4)\n",
    "#fig.savefig(resultpath + '201117_s2a__precision_recall_CH.pdf')#,dpi=300)"
   ]
  },
  {
   "cell_type": "markdown",
   "metadata": {},
   "source": [
    "## B.  Cleavage Efficiency and Cleavage Homogeneity"
   ]
  },
  {
   "cell_type": "code",
   "execution_count": 16,
   "metadata": {},
   "outputs": [
    {
     "name": "stdout",
     "output_type": "stream",
     "text": [
      "hsa-let-7a-1 5.54748504094 0.882549482661\n",
      "hsa-mir-152 5.26300975517 0.503726361264\n",
      "hsa-mir-320a 0.0253732777516 0.0707050429844\n"
     ]
    }
   ],
   "source": [
    "for mir in mirs:\n",
    "    print mir, effs[mir], homs[mir]"
   ]
  },
  {
   "cell_type": "code",
   "execution_count": 62,
   "metadata": {},
   "outputs": [
    {
     "name": "stdout",
     "output_type": "stream",
     "text": [
      "[298, 255, 1263]\n"
     ]
    }
   ],
   "source": [
    "mirls = [ [m for m in s3.index if m in drodep], \n",
    "          [m for m in s3.index if m in droind],\n",
    "          [m for m in s3.index if m not in list(drodep)+list(droind)] ]\n",
    "xsl = [ [effs[m] for m in ml] for ml in mirls ]\n",
    "ysl = [ [homs[m] for m in ml] for ml in mirls ]\n",
    "fcolors = [ '#1b9e77', '#666666', '#cbcbcb' ]\n",
    "ecolors = [ '#01665e', '#252525','#bababa' ]\n",
    "labels = [ 'DRO-dep.', 'DRO-ind.', 'The rest' ]\n",
    "sizes = [ 10, 10, 6 ]\n",
    "zs = [ 3, 3, 2 ]\n",
    "xmin, xmax, xo = 0, 6, .15\n",
    "ymin, ymax, yo = 0, 1, .03\n",
    "xcut, ycut = 2.5, .25\n",
    "shade = '#a1d99b'\n",
    "print map(len,mirls)"
   ]
  },
  {
   "cell_type": "code",
   "execution_count": 63,
   "metadata": {
    "scrolled": false
   },
   "outputs": [
    {
     "data": {
      "image/png": "[encoded data removed]",
      "text/plain": [
       "<matplotlib.figure.Figure at 0x7f1a483292d0>"
      ]
     },
     "metadata": {},
     "output_type": "display_data"
    }
   ],
   "source": [
    "fig, ax = plt.subplots(1, 1, figsize=(2.5,2.5))\n",
    "for xs,ys,fc,ec,label,s,z in zip(xsl,ysl,fcolors,ecolors,labels,sizes,zs):\n",
    "    xs,ys = zip(*[ (x,y) for x,y in zip(xs,ys) if xmin<=x<xmax and ymin<=y<ymax])\n",
    "    ax.scatter(xs, ys, s=s, color=fc, edgecolor=ec, lw=.8, zorder=z, label=label, alpha=.9,\n",
    "              rasterized=True)\n",
    "ax.plot([xmin-xo,xmax],[ycut,ycut],'k--',zorder=2)\n",
    "ax.plot([xcut,xcut],[ymin-yo,ymax],'k--',zorder=2)\n",
    "\n",
    "ax.set_xlabel('Cleavage efficiency',fontsize=11)\n",
    "ax.set_ylabel('Cleavage homogeneity',fontsize=11)\n",
    "ax.set_xticks(range(xmin,xmax+1))\n",
    "ax.set_xticks(np.arange(xmin,xmax+xo,.5),minor=True)\n",
    "ax.set_yticks(np.arange(ymin,ymax+yo,.25))\n",
    "ax.set_xlim(xmin-xo, xmax+xo)\n",
    "ax.set_ylim(ymin-yo, ymax+yo)\n",
    "ax.spines['bottom'].set_bounds(xmin, xmax)\n",
    "ax.spines['left'].set_bounds(ymin, ymax)\n",
    "leg = ax.legend(loc=(-.3,1.05), handletextpad=-.1, ncol=3, columnspacing=.05)\n",
    "for handle in leg.legendHandles:\n",
    "    handle.set_sizes([30])\n",
    "\n",
    "gr = plt.Rectangle((xmin-xo/4,ymin-yo/4), xmax+xo/4, ymax+yo/4, fc='w'); ax.add_patch(gr)\n",
    "ax.grid(ls='-', lw=.5, clip_path=gr)\n",
    "fig.savefig(resultpath + '201201_f2b__cleavage_pattern.pdf',dpi=300)"
   ]
  },
  {
   "cell_type": "markdown",
   "metadata": {},
   "source": [
    "## S2C. Dropped DROSHA-dependent miRNAs"
   ]
  },
  {
   "cell_type": "code",
   "execution_count": 149,
   "metadata": {},
   "outputs": [
    {
     "name": "stdout",
     "output_type": "stream",
     "text": [
      "534 (25, 96)\n"
     ]
    }
   ],
   "source": [
    "majorcs = {}\n",
    "for mir in dcsmirs:\n",
    "    c5, c3 = s3.loc[[mir],[\"5' cleavage site\",\"3' cleavage site\"]].iloc[0]\n",
    "    majorcs[mir] = (int(c5),int(c3))\n",
    "print len(majorcs), majorcs['hsa-let-7a-1']"
   ]
  },
  {
   "cell_type": "code",
   "execution_count": 24,
   "metadata": {},
   "outputs": [],
   "source": [
    "def find_cnnc(mir):\n",
    "    if mir in dcsmirs:\n",
    "        pe = majorcs[mir][1]\n",
    "    else:\n",
    "        pe = preposition[mir][1]\n",
    "    cnncseq = constseqs[mir][pe+14:pe+22]\n",
    "    return bool(re.search('C[A-Z][A-Z]C', cnncseq))"
   ]
  },
  {
   "cell_type": "code",
   "execution_count": 26,
   "metadata": {},
   "outputs": [
    {
     "name": "stdout",
     "output_type": "stream",
     "text": [
      "92\n"
     ]
    }
   ],
   "source": [
    "dropped = [ m for m in s3.index if m in drodep and m in nodcs ]\n",
    "print len(dropped)"
   ]
  },
  {
   "cell_type": "code",
   "execution_count": 27,
   "metadata": {},
   "outputs": [
    {
     "name": "stdout",
     "output_type": "stream",
     "text": [
      "68\n"
     ]
    }
   ],
   "source": [
    "cnncmirs = [ m for m in dropped if find_cnnc(m) ]\n",
    "print len(cnncmirs)"
   ]
  },
  {
   "cell_type": "code",
   "execution_count": 345,
   "metadata": {},
   "outputs": [
    {
     "data": {
      "text/html": [
       "<div>\n",
       "<style scoped>\n",
       "    .dataframe tbody tr th:only-of-type {\n",
       "        vertical-align: middle;\n",
       "    }\n",
       "\n",
       "    .dataframe tbody tr th {\n",
       "        vertical-align: top;\n",
       "    }\n",
       "\n",
       "    .dataframe thead th {\n",
       "        text-align: right;\n",
       "    }\n",
       "</style>\n",
       "<table border=\"1\" class=\"dataframe\">\n",
       "  <thead>\n",
       "    <tr style=\"text-align: right;\">\n",
       "      <th></th>\n",
       "      <th>Nearest neighbor</th>\n",
       "      <th>Distance (nt)</th>\n",
       "      <th>baseMean_siERH</th>\n",
       "      <th>log2FC_siERH</th>\n",
       "      <th>baseMean_DGCR8_dex2</th>\n",
       "      <th>log2FC_DGCR8_dex2</th>\n",
       "    </tr>\n",
       "  </thead>\n",
       "  <tbody>\n",
       "    <tr>\n",
       "      <th>hsa-let-7a-1</th>\n",
       "      <td>hsa-let-7f-1</td>\n",
       "      <td>311</td>\n",
       "      <td>8683.520704</td>\n",
       "      <td>0.21942</td>\n",
       "      <td>96660.145445</td>\n",
       "      <td>0.294661</td>\n",
       "    </tr>\n",
       "  </tbody>\n",
       "</table>\n",
       "</div>"
      ],
      "text/plain": [
       "             Nearest neighbor  Distance (nt)  baseMean_siERH  log2FC_siERH  \\\n",
       "hsa-let-7a-1     hsa-let-7f-1            311     8683.520704       0.21942   \n",
       "\n",
       "              baseMean_DGCR8_dex2  log2FC_DGCR8_dex2  \n",
       "hsa-let-7a-1         96660.145445           0.294661  "
      ]
     },
     "execution_count": 345,
     "metadata": {},
     "output_type": "execute_result"
    }
   ],
   "source": [
    "erh = pd.ExcelFile('supplementary/Kwon_2020_s1.xlsx')\n",
    "erhtbl = erh.parse('Merged',index_col=0,header=6)\n",
    "erhtbl.iloc[:1,:6]"
   ]
  },
  {
   "cell_type": "code",
   "execution_count": 346,
   "metadata": {},
   "outputs": [
    {
     "name": "stdout",
     "output_type": "stream",
     "text": [
      "34\n"
     ]
    }
   ],
   "source": [
    "CLST = 2000\n",
    "clustered = [ m for m in dropped if abs(erhtbl.loc[m,'Distance (nt)'])<=CLST ]\n",
    "print len(clustered)"
   ]
  },
  {
   "cell_type": "code",
   "execution_count": 348,
   "metadata": {},
   "outputs": [],
   "source": [
    "def is_dependent(mir, s, rcut, fcut):\n",
    "    return (mir in erhtbl[(erhtbl['baseMean_%s'%s]>=rcut)&(erhtbl['log2FC_%s'%s]<=fcut)].index)"
   ]
  },
  {
   "cell_type": "code",
   "execution_count": 349,
   "metadata": {},
   "outputs": [
    {
     "data": {
      "text/plain": [
       "True"
      ]
     },
     "execution_count": 349,
     "metadata": {},
     "output_type": "execute_result"
    }
   ],
   "source": [
    "is_dependent('hsa-mir-15a','siERH',400,-.5)"
   ]
  },
  {
   "cell_type": "code",
   "execution_count": 350,
   "metadata": {},
   "outputs": [
    {
     "name": "stdout",
     "output_type": "stream",
     "text": [
      "31\n"
     ]
    }
   ],
   "source": [
    "ERHCUT, SAFBCUT = 400, 50\n",
    "FCCUT = -.5\n",
    "erhsafb = [ m for m in dropped if is_dependent(m,'siERH',ERHCUT,FCCUT) or\n",
    "                                  is_dependent(m,'SAFB_DKO_293T',SAFBCUT,FCCUT) or \n",
    "                                  is_dependent(m,'SAFB_DKO_Ramos',SAFBCUT,FCCUT) ]\n",
    "print len(erhsafb)"
   ]
  },
  {
   "cell_type": "code",
   "execution_count": 351,
   "metadata": {},
   "outputs": [],
   "source": [
    "from matplotlib_venn import venn3"
   ]
  },
  {
   "cell_type": "code",
   "execution_count": 352,
   "metadata": {},
   "outputs": [
    {
     "data": {
      "text/plain": [
       "<matplotlib_venn._common.VennDiagram instance at 0x7fa81f58a9b0>"
      ]
     },
     "execution_count": 352,
     "metadata": {},
     "output_type": "execute_result"
    },
    {
     "data": {
      "image/png": "[encoded data removed]",
      "text/plain": [
       "<matplotlib.figure.Figure at 0x7fa81fad1ad0>"
      ]
     },
     "metadata": {},
     "output_type": "display_data"
    }
   ],
   "source": [
    "data = [ set(cnncmirs), set(clustered), set(erhsafb) ]\n",
    "label = [ 'CNNC', 'Clustered', 'ERH/SAFB-dependent' ]\n",
    "venn3(data,label)"
   ]
  },
  {
   "cell_type": "markdown",
   "metadata": {},
   "source": [
    "## C. Productively processed miRNAs"
   ]
  },
  {
   "cell_type": "code",
   "execution_count": 132,
   "metadata": {
    "scrolled": true
   },
   "outputs": [
    {
     "data": {
      "image/png": "[encoded data removed]",
      "text/plain": [
       "<matplotlib.figure.Figure at 0x7fa8a881c090>"
      ]
     },
     "metadata": {},
     "output_type": "display_data"
    }
   ],
   "source": [
    "data = map(len, [dcsmirs, nodcs])\n",
    "colors = '#5291bd #bcbcbc'.split()\n",
    "fig, ax = plt.subplots(1, 1, figsize=(2,2))\n",
    "ps,ts = ax.pie(data, colors=colors, wedgeprops={'linewidth':2,'edgecolor':'w'},\n",
    "               startangle=90,counterclock=False)\n",
    "fig.savefig(resultpath + '201123_f2c__productive_processing.pdf')"
   ]
  },
  {
   "cell_type": "markdown",
   "metadata": {},
   "source": [
    "## S2D. Alternative processing"
   ]
  },
  {
   "cell_type": "code",
   "execution_count": 320,
   "metadata": {},
   "outputs": [],
   "source": [
    "ms = [ m for m in s3.index if effs[m]>=EFFCUT]\n",
    "xs = s3.reindex(ms)['Cleavage Homogeneity']\n",
    "ys = s3.reindex(ms)['Alternative Processing Ratio'].fillna(0)"
   ]
  },
  {
   "cell_type": "code",
   "execution_count": 183,
   "metadata": {},
   "outputs": [
    {
     "data": {
      "image/png": "[encoded data removed]",
      "text/plain": [
       "<matplotlib.figure.Figure at 0x7fa81fa50a90>"
      ]
     },
     "metadata": {},
     "output_type": "display_data"
    }
   ],
   "source": [
    "fig, ax = plt.subplots(1, 1, figsize=(2,2))\n",
    "ax.scatter(xs,ys,s=7,color='k',alpha=.2,rasterized=True)\n",
    "ax.set_xlabel('Cleavage ratio of major site\\n(cleavage homogeneity)')\n",
    "ax.set_ylabel('Cleavage ratio\\nof alternative site')\n",
    "ax.set_xlim(-.05,1.05)\n",
    "ax.set_ylim(-.05,1.05)\n",
    "ax.plot([0,1],[0,1],'#ababab',lw=1,ls='--')\n",
    "ax.axhline(.25,color='k',lw=1,ls='--')\n",
    "ax.axvline(.25,color='k',lw=1,ls='--')\n",
    "ax.set_xticks(np.arange(0,1.1,.25))\n",
    "ax.set_yticks(np.arange(0,1.1,.25))\n",
    "ax.spines['bottom'].set_bounds(0,1)\n",
    "ax.spines['left'].set_bounds(0,1)\n",
    "fig.savefig(resultpath + 'tmp.pdf',dpi=300)"
   ]
  },
  {
   "cell_type": "markdown",
   "metadata": {},
   "source": [
    "## D. Validation of classification results - secondary structure"
   ]
  },
  {
   "cell_type": "code",
   "execution_count": 184,
   "metadata": {},
   "outputs": [],
   "source": [
    "s5 = pd.read_csv('supplementary/201012_s5_pri-structure.csv', header=1, index_col=0)"
   ]
  },
  {
   "cell_type": "code",
   "execution_count": 186,
   "metadata": {},
   "outputs": [
    {
     "name": "stdout",
     "output_type": "stream",
     "text": [
      "1816\n"
     ]
    }
   ],
   "source": [
    "bpfreq5 = pd.DataFrame(index=s3.index, columns=range(-30,30))\n",
    "bpfreq3 = pd.DataFrame(index=s3.index, columns=range(-30,30))\n",
    "for mir in s3.index:\n",
    "    if mir in dcsmirs:\n",
    "        ps,pe = majorcs[mir]\n",
    "    else:\n",
    "        ps,pe = preposition[mir]\n",
    "    sts = [(i,1) if s=='M' else (i,0) for i,s in enumerate(s5.loc[mir,'symbolized structure'])]\n",
    "    bpfreq5.loc[mir] = pd.Series({i-ps+1:p for i,p in sts})\n",
    "    bpfreq3.loc[mir] = pd.Series({pe-i-1:p for i,p in sts})\n",
    "print len(bpfreq5)"
   ]
  },
  {
   "cell_type": "code",
   "execution_count": 192,
   "metadata": {},
   "outputs": [],
   "source": [
    "mirls = [ dcsmirs, nodcs ]\n",
    "xmin, xmax = -20, 25\n",
    "xs = np.arange(xmin,xmax)\n",
    "ysl = [[bpfreq5.reindex(ml)[x].dropna().mean()*100 for x in xs] for ml in mirls]\n",
    "ys2 = (np.array(ysl[0])-np.array(ysl[1]))\n",
    "labels = [ 'Productive', 'Unproductive' ]\n",
    "colors = '#0e0e0e #969696'.split()\n",
    "zs = [ 4,3,3 ]"
   ]
  },
  {
   "cell_type": "code",
   "execution_count": 199,
   "metadata": {},
   "outputs": [
    {
     "data": {
      "image/png": "[encoded data removed]",
      "text/plain": [
       "<matplotlib.figure.Figure at 0x7fa81ffbf390>"
      ]
     },
     "metadata": {},
     "output_type": "display_data"
    }
   ],
   "source": [
    "fig, ax1 = plt.subplots(1, 1, figsize=(5,2))\n",
    "for ys,c,label,z,ml in zip(ysl,colors,labels,zs,mirls)[:2]:\n",
    "    ax1.errorbar(xs,ys,color=c,label=label,ms=2.5,marker='o',lw=1.6,zorder=z)\n",
    "\n",
    "\n",
    "ax1.set_xlim(xmin-1, xmax-.5)\n",
    "ax1.set_xticks([-20,-15,-10,-5,0,4,9,14,19,24])\n",
    "ax1.set_xticklabels([-20,-15,-10,-5,'+1','+5','+10','+15','+20','+25'])\n",
    "ax1.grid(ls='-',lw=.5)\n",
    "ax1.set_ylim(38,97)\n",
    "ax1.set_xlabel('5p strand position')\n",
    "ax1.set_ylabel('Base-pair frequency (%)')\n",
    "ax1.axvline(-.5,color='k',ls='--',lw=1)\n",
    "ax1.legend(loc=(.66,.02), handlelength=.8, handletextpad=.5)\n",
    "ax1.annotate(s='', xy=(-1,41), xytext=(-4,41), \n",
    "            arrowprops={'arrowstyle':'<|-','fc':'k','mutation_scale':8})\n",
    "ax1.annotate(s='', xy=(0,41), xytext=(3,41), \n",
    "            arrowprops={'arrowstyle':'<|-','fc':'k','mutation_scale':8})\n",
    "ax1.text(.4,45,'upper stem')\n",
    "ax1.text(-1.4,45,'lower stem',ha='right')\n",
    "fig.savefig(resultpath + '201123_f2d__structure.pdf')#,dpi=300)"
   ]
  },
  {
   "cell_type": "code",
   "execution_count": 200,
   "metadata": {},
   "outputs": [],
   "source": [
    "mirls = [ dcsmirs, nodcs ]\n",
    "xmin, xmax = -20, 25\n",
    "xs = np.arange(xmin,xmax)\n",
    "ysl = [[bpfreq3.reindex(ml)[x].dropna().mean()*100 for x in xs] for ml in mirls]\n",
    "ys2 = (np.array(ysl[0])-np.array(ysl[1]))\n",
    "labels = [ 'Productive', 'Unproductive' ]\n",
    "colors = '#0e0e0e #969696'.split()\n",
    "zs = [ 4,3,3 ]"
   ]
  },
  {
   "cell_type": "code",
   "execution_count": 203,
   "metadata": {},
   "outputs": [
    {
     "data": {
      "text/plain": [
       "Text(-1.5,35,u'lower stem')"
      ]
     },
     "execution_count": 203,
     "metadata": {},
     "output_type": "execute_result"
    },
    {
     "data": {
      "image/png": "[encoded data removed]",
      "text/plain": [
       "<matplotlib.figure.Figure at 0x7fa81f811e90>"
      ]
     },
     "metadata": {},
     "output_type": "display_data"
    }
   ],
   "source": [
    "fig, ax1 = plt.subplots(1, 1, figsize=(5,2))\n",
    "for ys,c,label,z,ml in zip(ysl,colors,labels,zs,mirls)[:2]:\n",
    "    ax1.errorbar(xs,ys,color=c,label=label,ms=2.5,marker='o',lw=1.6,zorder=z)\n",
    "\n",
    "\n",
    "ax1.set_xlim(xmin-1, xmax-.5)\n",
    "ax1.set_xticks([-20,-15,-10,-5,0,4,9,14,19,24])\n",
    "ax1.set_xticklabels([-20,-15,-10,-5,'+1','+5','+10','+15','+20','+25'])\n",
    "ax1.grid(ls='-',lw=.5)\n",
    "ax1.set_ylim(26,95)\n",
    "ax1.set_xlabel('3p strand position',fontsize=11)\n",
    "ax1.set_ylabel('Base-pair frequency (%)', fontsize=11)\n",
    "#ax1.text(-7,35,'Lower stem',ha='center')\n",
    "ax1.axvline(-.5,color='k',ls='--',lw=1)\n",
    "ax1.legend(loc=(.71,.03), handlelength=1, handletextpad=.5)\n",
    "ax1.annotate(s='', xy=(-1,30), xytext=(-4,30), \n",
    "            arrowprops={'arrowstyle':'<|-','fc':'k','mutation_scale':8})\n",
    "ax1.annotate(s='', xy=(0,30), xytext=(3,30), \n",
    "            arrowprops={'arrowstyle':'<|-','fc':'k','mutation_scale':8})\n",
    "ax1.text(.5,35,'upper stem')\n",
    "ax1.text(-1.5,35,'lower stem',ha='right')\n",
    "#fig.savefig(resultpath + '201117_s2d__structure_3p.pdf')#,dpi=300)"
   ]
  },
  {
   "cell_type": "markdown",
   "metadata": {},
   "source": [
    "## S2F. Loop size"
   ]
  },
  {
   "cell_type": "code",
   "execution_count": 340,
   "metadata": {},
   "outputs": [],
   "source": [
    "data = [[s5.loc[m,'symbolized structure'].count('L') for m in dcsmirs],\n",
    "        [s5.loc[m,'symbolized structure'].count('L') for m in nodcs]]\n",
    "data = [[l for l in d if l>=3] for d in data]\n",
    "colors = '#6baed6 #757575'.split()"
   ]
  },
  {
   "cell_type": "code",
   "execution_count": 341,
   "metadata": {},
   "outputs": [
    {
     "data": {
      "image/png": "[encoded data removed]",
      "text/plain": [
       "<matplotlib.figure.Figure at 0x7fa81f602490>"
      ]
     },
     "metadata": {},
     "output_type": "display_data"
    }
   ],
   "source": [
    "fig, ax = plt.subplots(1, 1, figsize=(2,2.2))\n",
    "bp = ax.boxplot(data,widths=.7,sym='.',boxprops={'linewidth':1.3},\n",
    "                medianprops={'color':'black','linewidth':1.3}, capprops={'linewidth':1.3},\n",
    "                whiskerprops={'linewidth':1.3}, patch_artist=True,zorder=2)\n",
    "for box,c in zip(bp['boxes'],colors):\n",
    "    box.set_facecolor(c)\n",
    "\n",
    "ax.set_xticks([1,2])\n",
    "ax.set_xticklabels(['Productive','Unproductive'],rotation=15)\n",
    "#ax.set_xticklabels(['Processed\\n(n=%s)'%len(data[0]),\n",
    "#                    'The rest\\n(n=%s)'%len(data[1])],fontsize=11)\n",
    "ax.set_ylabel('Loop size (nt)',fontsize=11)\n",
    "ax.spines['bottom'].set_visible(False)\n",
    "ax.tick_params(bottom='off')\n",
    "ax.yaxis.grid(ls='-',lw=.5)\n",
    "#fig.savefig(resultpath + '201117_s2__loop_size.pdf')"
   ]
  },
  {
   "cell_type": "markdown",
   "metadata": {},
   "source": [
    "## S2G. Parameterization of lower stem"
   ]
  },
  {
   "cell_type": "code",
   "execution_count": 338,
   "metadata": {},
   "outputs": [
    {
     "name": "stdout",
     "output_type": "stream",
     "text": [
      "[0.37453183520599254, 0.0, 0.18726591760299627, 0.9363295880149813, 0.9363295880149813, 1.6853932584269662, 1.4981273408239701, 3.5580524344569286, 10.674157303370785, 16.292134831460675, 23.220973782771537, 28.08988764044944, 12.54681647940075] [0.93603744149766, 2.1060842433697347, 2.886115444617785, 2.730109204368175, 4.134165366614664, 4.6801872074882995, 7.878315132605304, 10.764430577223088, 12.558502340093602, 12.870514820592824, 14.586583463338535, 12.792511700468017, 5.46021840873635]\n"
     ]
    }
   ],
   "source": [
    "xs = range(1,14)\n",
    "ys1 = [ len([m for m in dcsmirs if bpfreq5.loc[m,range(-13,0)].sum()==x])/len(dcsmirs)*100\n",
    "        for x in xs ]\n",
    "ys2 = [ len([m for m in nodcs if bpfreq5.loc[m,range(-13,0)].sum()==x])/len(nodcs)*100\n",
    "        for x in xs ]\n",
    "print ys1, ys2"
   ]
  },
  {
   "cell_type": "code",
   "execution_count": 339,
   "metadata": {},
   "outputs": [
    {
     "data": {
      "text/plain": [
       "<matplotlib.legend.Legend at 0x7fa81fadc4d0>"
      ]
     },
     "execution_count": 339,
     "metadata": {},
     "output_type": "execute_result"
    },
    {
     "data": {
      "image/png": "[encoded data removed]",
      "text/plain": [
       "<matplotlib.figure.Figure at 0x7fa81fec1150>"
      ]
     },
     "metadata": {},
     "output_type": "display_data"
    }
   ],
   "source": [
    "fig, ax = plt.subplots(1, 1, figsize=(1.3,2.2))\n",
    "ax.errorbar(ys1,xs,ms=2,marker='o',zorder=2,color='#3766a5',label='Productive')\n",
    "ax.errorbar(ys2,xs,ms=2,marker='o',zorder=2,color='#424242',label='Unproductive')\n",
    "ax.invert_yaxis()\n",
    "ax.set_ylabel('Base-pairs in lower stem')\n",
    "ax.set_xlabel('Proportion (%)')\n",
    "ax.set_yticks([1,4,7,10,13])\n",
    "ax.yaxis.grid(ls='-',lw=.5)\n",
    "ax.legend(handlelength=1,handletextpad=.2,loc=(.25,.72))\n",
    "#ax.axhline(10,color='k',ls='--',lw=1,zorder=1)\n",
    "#fig.savefig(resultpath + '201117_s2__bp_LS.pdf')"
   ]
  },
  {
   "cell_type": "markdown",
   "metadata": {},
   "source": [
    "## E. Validation of classification results - sequence motifs"
   ]
  },
  {
   "cell_type": "code",
   "execution_count": 204,
   "metadata": {},
   "outputs": [],
   "source": [
    "seq5tbl, seq3tbl = pd.DataFrame(columns=range(-20,30)), pd.DataFrame(columns=range(-25,30))\n",
    "str5tbl, str3tbl = pd.DataFrame(columns=range(-20,30)), pd.DataFrame(columns=range(-25,30))"
   ]
  },
  {
   "cell_type": "code",
   "execution_count": 205,
   "metadata": {},
   "outputs": [],
   "source": [
    "for mir in s3.index:\n",
    "    if mir in dcsmirs:\n",
    "        ps, pe = majorcs[mir]\n",
    "    else:\n",
    "        ps, pe = preposition[mir]\n",
    "    priseq = constseqs[mir].replace('T','U')\n",
    "    strt = [ 1 if s=='M' else 0 for s in s5.loc[mir,'symbolized structure'] ]\n",
    "    seq5, str5 = priseq[max(0,ps-21):ps+29][::-1], strt[max(0,ps-21):ps+29][::-1]\n",
    "    seq3, str3 = priseq[pe-30:min(125,pe+25)], strt[pe-30:min(125,pe+25)]\n",
    "    pos5, pos3 = range(-20,30)[::-1], range(-25,30)[::-1]\n",
    "    seq5tbl.loc[mir] = pd.Series(dict(zip(pos5,seq5)[::-1]))\n",
    "    seq3tbl.loc[mir] = pd.Series(dict(zip(pos3,seq3)[::-1]))\n",
    "    str5tbl.loc[mir] = pd.Series(dict(zip(pos5,str5)[::-1]))\n",
    "    str3tbl.loc[mir] = pd.Series(dict(zip(pos3,str3)[::-1]))"
   ]
  },
  {
   "cell_type": "code",
   "execution_count": 206,
   "metadata": {},
   "outputs": [],
   "source": [
    "seq5tbl = seq5tbl.fillna('')\n",
    "str5tbl = str5tbl.fillna('')\n",
    "seq3tbl = seq3tbl.fillna('')\n",
    "str3tbl = str3tbl.fillna('')"
   ]
  },
  {
   "cell_type": "code",
   "execution_count": 207,
   "metadata": {},
   "outputs": [],
   "source": [
    "def count_len(symstr):\n",
    "    return sum([symstr.count(s) for s in 'MS'])"
   ]
  },
  {
   "cell_type": "code",
   "execution_count": 208,
   "metadata": {},
   "outputs": [],
   "source": [
    "def find_ug(mir, pos):\n",
    "    seq = ''.join(seq5tbl.loc[mir,range(pos,pos+2)].fillna(''))\n",
    "    return seq=='UG'"
   ]
  },
  {
   "cell_type": "code",
   "execution_count": 209,
   "metadata": {},
   "outputs": [],
   "source": [
    "def find_ugu(mir, pos):\n",
    "    seq = ''.join(seq5tbl.loc[mir,range(pos,pos+3)])\n",
    "    return (seq=='UGU' or seq=='GUG')"
   ]
  },
  {
   "cell_type": "code",
   "execution_count": 210,
   "metadata": {},
   "outputs": [],
   "source": [
    "def find_cnnc(mir, pos):\n",
    "    seq = ''.join(seq3tbl.loc[mir,range(pos-3,pos+1)].fillna(''))\n",
    "    return bool(re.search('C[A-Z][A-Z]C', seq))"
   ]
  },
  {
   "cell_type": "code",
   "execution_count": 212,
   "metadata": {},
   "outputs": [
    {
     "data": {
      "text/html": [
       "<div>\n",
       "<style scoped>\n",
       "    .dataframe tbody tr th:only-of-type {\n",
       "        vertical-align: middle;\n",
       "    }\n",
       "\n",
       "    .dataframe tbody tr th {\n",
       "        vertical-align: top;\n",
       "    }\n",
       "\n",
       "    .dataframe thead th {\n",
       "        text-align: right;\n",
       "    }\n",
       "</style>\n",
       "<table border=\"1\" class=\"dataframe\">\n",
       "  <thead>\n",
       "    <tr style=\"text-align: right;\">\n",
       "      <th></th>\n",
       "      <th>5p arm (5' to 3')</th>\n",
       "      <th>3p arm (3' to 5')</th>\n",
       "      <th>DODGERS score</th>\n",
       "    </tr>\n",
       "    <tr>\n",
       "      <th>DODGERS motif</th>\n",
       "      <th></th>\n",
       "      <th></th>\n",
       "      <th></th>\n",
       "    </tr>\n",
       "  </thead>\n",
       "  <tbody>\n",
       "    <tr>\n",
       "      <th>UGCGCG</th>\n",
       "      <td>UGC</td>\n",
       "      <td>GCG</td>\n",
       "      <td>100.000000</td>\n",
       "    </tr>\n",
       "    <tr>\n",
       "      <th>UACGUG</th>\n",
       "      <td>UAC</td>\n",
       "      <td>GUG</td>\n",
       "      <td>99.309250</td>\n",
       "    </tr>\n",
       "    <tr>\n",
       "      <th>CUCGCG</th>\n",
       "      <td>CUC</td>\n",
       "      <td>GCG</td>\n",
       "      <td>95.926412</td>\n",
       "    </tr>\n",
       "  </tbody>\n",
       "</table>\n",
       "</div>"
      ],
      "text/plain": [
       "              5p arm (5' to 3') 3p arm (3' to 5')  DODGERS score\n",
       "DODGERS motif                                                   \n",
       "UGCGCG                      UGC               GCG     100.000000\n",
       "UACGUG                      UAC               GUG      99.309250\n",
       "CUCGCG                      CUC               GCG      95.926412"
      ]
     },
     "execution_count": 212,
     "metadata": {},
     "output_type": "execute_result"
    }
   ],
   "source": [
    "scotbl = pd.ExcelFile('supplementary/Kwon_2018_s4.xlsx').parse('DODGERS scores',header=5,\n",
    "                                                              index_col=2)\n",
    "scotbl.head(3)"
   ]
  },
  {
   "cell_type": "code",
   "execution_count": 213,
   "metadata": {},
   "outputs": [],
   "source": [
    "def matching_bases(st, en, symstr):\n",
    "    str5p = symstr[st-1:]\n",
    "    str3p = symstr[:en][::-1]\n",
    "    i,j = 0,0\n",
    "    match = {}\n",
    "    while i<len(str5p) and j<len(str3p):\n",
    "        if str5p[i]=='L' or str3p[j]=='L':\n",
    "            break\n",
    "        if str5p[i]!='A' and str3p[j]!='A':\n",
    "            match[i]=j; i+=1; j+=1\n",
    "        elif str5p[i]=='A':\n",
    "            i+=1\n",
    "        elif str3p[j]=='A':\n",
    "            j+=1\n",
    "    return {i+st:en-j for i,j in match.items()}        "
   ]
  },
  {
   "cell_type": "code",
   "execution_count": 248,
   "metadata": {},
   "outputs": [],
   "source": [
    "def get_ghgs(mir):\n",
    "    symstr = s5.loc[mir, 'symbolized structure']\n",
    "    bjs = symstr.find('M')+1\n",
    "    bje = symstr.rfind('M')+1\n",
    "    matches = matching_bases(bjs,bje,symstr)\n",
    "    priseq = constseqs[mir].replace('T','U')\n",
    "    if mir in dcsmirs:\n",
    "        ps = majorcs[mir][0]\n",
    "    else:\n",
    "        ps = preposition[mir][0]\n",
    "    if len(matches)<3:\n",
    "        return {}\n",
    "    end = sorted(matches.keys())[-3]\n",
    "    ghgs = {}\n",
    "    for st in range(bjs,end+1):\n",
    "        if st not in matches:\n",
    "            continue\n",
    "        if all([((st+i),(matches[st]-i)) in matches.items() for i in range(3)]):\n",
    "            if st<ps:\n",
    "                pos = -count_len(symstr[st-1:ps-1])\n",
    "            else:\n",
    "                pos = count_len(symstr[ps-1:st-1])\n",
    "            ghg5p = priseq[st-1:st+2]\n",
    "            ghg3p = priseq[matches[st]-3:matches[st]][::-1]\n",
    "            ghgseq = ghg5p+ghg3p\n",
    "            ghgs[pos+1] = scotbl.loc[ghgseq,'DODGERS score']\n",
    "    return ghgs"
   ]
  },
  {
   "cell_type": "code",
   "execution_count": 249,
   "metadata": {},
   "outputs": [],
   "source": [
    "ghgtbl = {}\n",
    "for mir in s2.index:\n",
    "    ghgtbl[mir] = get_ghgs(mir)\n",
    "ghgtbl = pd.DataFrame(ghgtbl).T"
   ]
  },
  {
   "cell_type": "code",
   "execution_count": 324,
   "metadata": {},
   "outputs": [],
   "source": [
    "GHGCUT = 38\n",
    "def find_ghg(mir, pos): \n",
    "    return (ghgtbl.loc[mir,pos-1]>=GHGCUT)"
   ]
  },
  {
   "cell_type": "code",
   "execution_count": 325,
   "metadata": {},
   "outputs": [],
   "source": [
    "motifs = [ 'CNNC', 'UG', 'GHG', 'UGU' ]\n",
    "ranges = { 'UG':range(-15,-12),'UGU':range(20,23),'GHG':range(-6,-3), 'CNNC':range(-18,-15) }\n",
    "funcs = { 'UG':find_ug, 'UGU':find_ugu, 'GHG':find_ghg, 'CNNC':find_cnnc }"
   ]
  },
  {
   "cell_type": "code",
   "execution_count": 252,
   "metadata": {},
   "outputs": [
    {
     "name": "stdout",
     "output_type": "stream",
     "text": [
      "{'UG': 0.0848167584160793, 'GHG': 0.27494183965640656, 'UGU': 0.04325237829730769, 'CNNC': 0.06631456933441403}\n"
     ]
    }
   ],
   "source": [
    "basals = {}\n",
    "allseqs = constseqs.values()\n",
    "for motif,r in zip(motifs,['C[A-Z][A-Z]C','TG','[A-Z][^G]G','TGT|GTG']):\n",
    "    if motif=='GHG':\n",
    "        allcase = ghgtbl.apply(lambda x:x>=GHGCUT).sum().sum()\n",
    "        total = sum([s5.loc[m,'symbolized structure'].find('L')\\\n",
    "                     -s5.loc[m,'symbolized structure'].find('M')-1 for m in s2.index])\n",
    "        basals[motif] = allcase/total\n",
    "    else:\n",
    "        l = len(motif)\n",
    "        allcase = sum([bool(re.search(r,s[i:i+l])) for i in range(125-l+1) for s in allseqs])\n",
    "        basals[motif] = allcase/len(allseqs)/(125-l+1)\n",
    "print basals"
   ]
  },
  {
   "cell_type": "code",
   "execution_count": 326,
   "metadata": {},
   "outputs": [],
   "source": [
    "ysd = defaultdict(list)\n",
    "for motif in motifs:\n",
    "    for i,pos in enumerate(ranges[motif]):\n",
    "        l = []\n",
    "        for mir in s3.index:\n",
    "            if funcs[motif](mir,pos):\n",
    "                l.append(mir)\n",
    "        ysd[motif].append(l)"
   ]
  },
  {
   "cell_type": "code",
   "execution_count": 327,
   "metadata": {},
   "outputs": [],
   "source": [
    "mirls =  [ dcsmirs, nodcs ]\n",
    "labels = [ 'Productive', 'Unproductive' ]\n",
    "arms = { 'UG':'5p', 'UGU':'5p', 'GHG':'3p', 'CNNC':'3p' }\n",
    "cmap = custom_cmap(['#404040','#f0f0f0','#f0f0f0','#de2d26'], nspace=3)"
   ]
  },
  {
   "cell_type": "code",
   "execution_count": 328,
   "metadata": {},
   "outputs": [],
   "source": [
    "entbls = defaultdict(lambda: pd.DataFrame())\n",
    "for motif in motifs:\n",
    "    basal = basals[motif]\n",
    "    for mirl,label in zip(mirls,labels):\n",
    "        for j in range(len(ysd[motif])):\n",
    "            freq = len([m for m in mirl if m in ysd[motif][j]])/len(mirl)\n",
    "            entbls[motif].loc[label,ranges[motif][j]] = np.log2(freq/basal)"
   ]
  },
  {
   "cell_type": "code",
   "execution_count": 329,
   "metadata": {
    "scrolled": true
   },
   "outputs": [
    {
     "data": {
      "image/png": "[encoded data removed]",
      "text/plain": [
       "<matplotlib.figure.Figure at 0x7fa81f9ac690>"
      ]
     },
     "metadata": {},
     "output_type": "display_data"
    }
   ],
   "source": [
    "fig = plt.figure(figsize=(2.3,2))\n",
    "gs = gridspec.GridSpec(2, 2)\n",
    "axes = [ fig.add_subplot(gs[i]) for i in range(4) ]\n",
    "for motif,ax in zip(['UG','UGU','CNNC','GHG'],axes):\n",
    "    im = ax.pcolor(entbls[motif],cmap=cmap,vmax=1.5,vmin=-1.5)\n",
    "    ax.set_xticks(np.arange(len(ranges[motif]))+.5)\n",
    "    ax.set_xticklabels([i if i<0 else '+%s'%(i+1) for i in ranges[motif]],fontsize=10)\n",
    "    ax.tick_params(left='off',bottom='off')\n",
    "    ax.spines['left'].set_visible(False); ax.spines['bottom'].set_visible(False)\n",
    "    motifn = motif.replace('UGU','UGU/G').replace('GHG','mGHG')\n",
    "    #ax.set_title('%s (%s)'%(motifn,arms[motif]),fontsize=11)\n",
    "    ax.set_title(motifn,fontsize=11)\n",
    "    ax.set_yticks([])\n",
    "    ax.invert_yaxis()\n",
    "\n",
    "for ax in [axes[0],axes[2]]:\n",
    "    ax.set_yticks(np.arange(len(mirls))+.5)\n",
    "    ax.set_yticklabels(['Productive','Unproductive'], fontsize=11)\n",
    "axcb = fig.add_axes([.97,.35,.05,.3])\n",
    "cb = plt.colorbar(im, cax=axcb); cb.set_ticks([-1,0,1]); cb.solids.set_rasterized(True)\n",
    "fig.text(1.12,.5,'Enrichment',va='center',rotation=270,fontsize=11)\n",
    "fig.subplots_adjust(wspace=.3,hspace=2.2)\n",
    "fig.savefig(resultpath + '201123_f2e__primary_sequence_motif.pdf')#,dpi=300)"
   ]
  },
  {
   "cell_type": "markdown",
   "metadata": {},
   "source": [
    "## F. Combination analysis"
   ]
  },
  {
   "cell_type": "code",
   "execution_count": 301,
   "metadata": {
    "scrolled": true
   },
   "outputs": [
    {
     "name": "stdout",
     "output_type": "stream",
     "text": [
      "CNNC 617\n",
      "UG 248\n",
      "GHG 647\n",
      "UGU 455\n"
     ]
    }
   ],
   "source": [
    "ranges = { 'UG':[-14],'UGU':range(20,25),'GHG':[-5], 'CNNC':range(-18,-15) }\n",
    "motmirs = {}\n",
    "for motif in motifs:\n",
    "    ml = []\n",
    "    for mir in s3.index:\n",
    "        for pos in ranges[motif]:\n",
    "            if funcs[motif](mir,pos):\n",
    "                ml.append(mir)\n",
    "                break\n",
    "    print motif, len(ml)\n",
    "    motmirs[motif] = ml"
   ]
  },
  {
   "cell_type": "code",
   "execution_count": 302,
   "metadata": {},
   "outputs": [],
   "source": [
    "mirmot = defaultdict(list)\n",
    "for mir in dcsmirs+nodcs:\n",
    "    if bpfreq5.loc[mir,range(-13,0)].sum()>=10 and bpfreq3.loc[mir,range(-11,0)].sum()>=8:\n",
    "        mirmot[mir].append('LS')\n",
    "    if mir in motmirs['GHG']:\n",
    "        mirmot[mir].append('GHG')\n",
    "    if mir in motmirs['UG']:\n",
    "        mirmot[mir].append('UG')\n",
    "    if mir in motmirs['UGU']:\n",
    "        mirmot[mir].append('UGU')"
   ]
  },
  {
   "cell_type": "code",
   "execution_count": 303,
   "metadata": {},
   "outputs": [
    {
     "name": "stdout",
     "output_type": "stream",
     "text": [
      " 46 480\n",
      "LS 81 184\n",
      "GHG 27 139\n",
      "UG 7 46\n",
      "UGU 29 128\n",
      "LS GHG 105 126\n",
      "LS UG 22 20\n",
      "LS UGU 41 42\n",
      "GHG UG 7 16\n",
      "GHG UGU 17 26\n",
      "UG UGU 7 15\n",
      "LS GHG UG 35 20\n",
      "LS GHG UGU 73 24\n",
      "LS UG UGU 14 7\n",
      "GHG UG UGU 3 2\n",
      "LS GHG UG UGU 20 7\n"
     ]
    }
   ],
   "source": [
    "com0 = [ [] ]\n",
    "com1 = [ ['LS'], ['GHG'], ['UG'], ['UGU'] ]\n",
    "com2 = [ ['LS','GHG'],['LS','UG'],['LS','UGU'],['GHG','UG'],['GHG','UGU'],['UG','UGU'] ]\n",
    "com3 = [ ['LS','GHG','UG'],['LS','GHG','UGU'],['LS','UG','UGU'],['GHG','UG','UGU'] ]\n",
    "com4 = [ ['LS','GHG','UG','UGU'] ]\n",
    "comall =  com0+com1+com2+com3+com4\n",
    "for com in comall:\n",
    "    cnt1 = len([ mir for mir in dcsmirs if mirmot[mir]==com])\n",
    "    cnt2 = len([ mir for mir in nodcs if mirmot[mir]==com])\n",
    "    print ' '.join(com), cnt1, cnt2"
   ]
  },
  {
   "cell_type": "code",
   "execution_count": 304,
   "metadata": {},
   "outputs": [],
   "source": [
    "mirl = s3.index\n",
    "sortcom = sorted(comall,key=lambda x:np.average([effs[m] for m in mirl if mirmot[m]==x]),\n",
    "                 reverse=True)\n",
    "sortcom = [ com for com in sortcom if len([m for m in mirl if mirmot[m]==com])>5 ]\n",
    "ys1 = [ len([m for m in mirl if mirmot[m]==com])/len(mirl)*100 for com in sortcom ]\n",
    "\n",
    "mirls = [ [m for m in mirl if mirmot[m]==com] for com in sortcom ]\n",
    "xs = range(len(sortcom))\n",
    "ys2 = [ np.average([effs[m] for m in ml]) for ml in mirls ]\n",
    "ye2 = [ sem([effs[m] for m in ml]) for ml in mirls ]\n",
    "ys3 = [ np.average([homs[m] for m in ml]) for ml in mirls ]\n",
    "ye3 = [ sem([homs[m] for m in ml]) for ml in mirls ]"
   ]
  },
  {
   "cell_type": "code",
   "execution_count": 313,
   "metadata": {
    "scrolled": true
   },
   "outputs": [
    {
     "data": {
      "image/png": "[encoded data removed]",
      "text/plain": [
       "<matplotlib.figure.Figure at 0x7fa81ebdf990>"
      ]
     },
     "metadata": {},
     "output_type": "display_data"
    }
   ],
   "source": [
    "fig = plt.figure(figsize=(4,3.8))\n",
    "gs = gridspec.GridSpec(5,1)\n",
    "ax1 = plt.subplot2grid((5,1),(0,0),colspan=1,rowspan=2)\n",
    "ax2 = plt.subplot2grid((5,1),(2,0),colspan=1,rowspan=1)\n",
    "ax3 = plt.subplot2grid((5,1),(3,0),colspan=1,rowspan=2)\n",
    "fig.subplots_adjust(hspace=.04, wspace=.35)\n",
    "\n",
    "sortmot = ['LS','UG','GHG','UGU']\n",
    "l = len(motifs)\n",
    "for i, (mots,cnt) in enumerate(zip(sortcom,ys1)):\n",
    "    colors = [ '#242424' if mot in mots else '#bababa' for mot in sortmot ]\n",
    "    ax2.scatter([i]*l, range(l), s=85, color=colors, alpha=.9, linewidth=0)\n",
    "ax2.spines['bottom'].set_visible(False)\n",
    "ax2.spines['left'].set_visible(False)\n",
    "ax2.invert_yaxis()\n",
    "ax2.set_yticks([])\n",
    "for i,txt in zip(range(4),['Stable LS','UG','mGHG','UGUG']):\n",
    "    ax2.text(-.7,i,txt,va='center',ha='right',fontsize=11)\n",
    "\n",
    "for ax in [ax1,ax2,ax3]:\n",
    "    ax.set_xlim(-1,len(xs)-.5)\n",
    "    ax.tick_params(bottom='off')\n",
    "    \n",
    "ax1.text(-4,2.25,'Cleavage\\nEfficiency',va='center',rotation=90,fontsize=11,ha='center')\n",
    "ax3.text(-4,.325,'Cleavage\\nHomogeneity',va='center',rotation=90,fontsize=11,ha='center')\n",
    "ax1.set_yticks([2,4])\n",
    "ax3.set_yticks([.2,.4,.6])\n",
    "ax3.axhline(.25,color='k',ls='--',lw=1)\n",
    "ax1.axhline(2.5,color='k',ls='--',lw=1)\n",
    "ax1.errorbar(xs,ys2,yerr=ye2,ms=5,marker='o',lw=0,elinewidth=1.3,color='#502585',zorder=3)\n",
    "ax3.errorbar(xs,ys3,yerr=ye3,ms=5,marker='o',lw=0,elinewidth=1.3,color='#e6550d',zorder=3)\n",
    "ax1.bar(xs,[4.5]*len(xs),width=.9,color='#bcbcbc',alpha=.2)\n",
    "ax3.bar(xs,[.65]*len(xs),width=.9,color='#bcbcbc',alpha=.2)\n",
    "for ax in [ax1,ax3]:\n",
    "    ax.set_xticks([])\n",
    "    ax.spines['left'].set_visible(False)\n",
    "ax1.spines['bottom'].set_bounds(-.6,len(xs)-.5)\n",
    "ax3.spines['top'].set_bounds(-.6,len(xs)-.5)\n",
    "ax3.invert_yaxis()\n",
    "ax3.spines['bottom'].set_visible(False)\n",
    "ax3.spines['top'].set_visible(True)\n",
    "l = lines.Line2D([-.5,6.5],[4.8,4.8],lw=1,color='k')\n",
    "ax1.text(3,5,'Stable lower stem +\\n$\\geq$1 sequence motif',ha='center')\n",
    "ax1.add_line(l); l.set_clip_on(False)\n",
    "fig.savefig(resultpath + '201123_f2f__combination.pdf')#,dpi=300)"
   ]
  },
  {
   "cell_type": "code",
   "execution_count": null,
   "metadata": {},
   "outputs": [],
   "source": []
  },
  {
   "cell_type": "code",
   "execution_count": null,
   "metadata": {},
   "outputs": [],
   "source": []
  }
 ],
 "metadata": {
  "kernelspec": {
   "display_name": "Python 2",
   "language": "python",
   "name": "python2"
  },
  "language_info": {
   "codemirror_mode": {
    "name": "ipython",
    "version": 2
   },
   "file_extension": ".py",
   "mimetype": "text/x-python",
   "name": "python",
   "nbconvert_exporter": "python",
   "pygments_lexer": "ipython2",
   "version": "2.7.18"
  }
 },
 "nbformat": 4,
 "nbformat_minor": 2
}
