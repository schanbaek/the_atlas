{
 "cells": [
  {
   "cell_type": "markdown",
   "metadata": {},
   "source": [
    "# Figure 2. Classifying DROSHA-dependent miRNAs\n",
    "---"
   ]
  },
  {
   "cell_type": "code",
   "execution_count": 1,
   "metadata": {},
   "outputs": [
    {
     "name": "stdout",
     "output_type": "stream",
     "text": [
      "Last revised by Seungchan Baek at 2021-01-20.\n"
     ]
    }
   ],
   "source": [
    "import time\n",
    "today = time.strftime('%Y-%m-%d')\n",
    "name = 'Seungchan Baek'\n",
    "print 'Last revised by %s at %s.' % (name, today)"
   ]
  },
  {
   "cell_type": "code",
   "execution_count": 2,
   "metadata": {},
   "outputs": [
    {
     "name": "stdout",
     "output_type": "stream",
     "text": [
      "/casa/bsc/projects/1_DCS/2004_paper_prep\n"
     ]
    }
   ],
   "source": [
    "home = '/casa/bsc/projects/1_DCS/2004_paper_prep/'\n",
    "utilpath = '/casa/bsc/notebooks/'\n",
    "%cd $home"
   ]
  },
  {
   "cell_type": "code",
   "execution_count": 3,
   "metadata": {},
   "outputs": [
    {
     "name": "stdout",
     "output_type": "stream",
     "text": [
      "resultpath: results/210120/\n"
     ]
    }
   ],
   "source": [
    "from __future__ import division\n",
    "import sys; sys.path.append(utilpath)\n",
    "from util import *\n",
    "from basic import gen_result_dir\n",
    "resultpath = gen_result_dir('results/')\n",
    "print 'resultpath:', resultpath"
   ]
  },
  {
   "cell_type": "code",
   "execution_count": 4,
   "metadata": {},
   "outputs": [],
   "source": [
    "import pandas as pd\n",
    "import numpy as np\n",
    "import re\n",
    "from matplotlib import pyplot as plt\n",
    "from matplotlib import lines, gridspec\n",
    "from scipy.stats import mannwhitneyu, sem, ttest_ind\n",
    "from collections import defaultdict, Counter\n",
    "%matplotlib inline"
   ]
  },
  {
   "cell_type": "code",
   "execution_count": 5,
   "metadata": {},
   "outputs": [],
   "source": [
    "LIBRARIES = [ 'set1', 'set2', 'set3', 'set4', 'set5' ]"
   ]
  },
  {
   "cell_type": "code",
   "execution_count": 6,
   "metadata": {},
   "outputs": [],
   "source": [
    "s1 = pd.read_csv('supplementary/TableS1__Previously_identified_DROSHA-dependence.csv', \n",
    "                 header=1, index_col=0)\n",
    "s2 = pd.read_csv('supplementary/TableS2__Oligonucleotides_used_in_this_study.csv', \n",
    "                 header=1, index_col=0).fillna('')\n",
    "s3 = pd.read_csv('supplementary/TableS3__In_vitro_processing_results_Microprocessor-only.csv',\n",
    "                 header=1, index_col=0)\n",
    "s4 = pd.read_csv('supplementary/TableS4__Cis-acting_elements_of_human_pri-miRNAs.csv', \n",
    "                 header=1, index_col=0)"
   ]
  },
  {
   "cell_type": "code",
   "execution_count": 7,
   "metadata": {},
   "outputs": [
    {
     "name": "stdout",
     "output_type": "stream",
     "text": [
      "1881 (32, 90)\n"
     ]
    }
   ],
   "source": [
    "preposition = {}\n",
    "for mir in s2.index:\n",
    "    flank5, flank3 = s2.loc[mir,[\"5' flanking segment\",\"3' flanking segment\"]]\n",
    "    if flank5 or flank3:\n",
    "        preposition[mir] = (len(flank5)+1,125-len(flank3))\n",
    "    else:\n",
    "        preposition[mir] = (0,126)\n",
    "print len(preposition), preposition['hsa-mir-142']"
   ]
  },
  {
   "cell_type": "code",
   "execution_count": 8,
   "metadata": {},
   "outputs": [
    {
     "name": "stdout",
     "output_type": "stream",
     "text": [
      "1881\n"
     ]
    }
   ],
   "source": [
    "constseqs = dict(s2['Construct sequence (125 nt)'])\n",
    "print len(constseqs)"
   ]
  },
  {
   "cell_type": "code",
   "execution_count": 11,
   "metadata": {},
   "outputs": [
    {
     "name": "stdout",
     "output_type": "stream",
     "text": [
      "311 257\n"
     ]
    }
   ],
   "source": [
    "drodep = s1[s1['DROSHA dependency'].apply(lambda x:x.find('DROSHA-dependent')>=0)].index\n",
    "droind = s1[s1['DROSHA dependency'].apply(lambda x:x.find('DROSHA-independent')>=0)].index\n",
    "#mirtrons = s1[s1['DROSHA dependency'].apply(lambda x:x.find('Mirtron')>=0)].index\n",
    "#droko = s1[s1['DROSHA dependency'].apply(lambda x:x.find('DROSHA KO')>=0)].index\n",
    "#fclip = s1[s1['DROSHA dependency'].apply(lambda x:x.find('fCLIP')>=0)].index\n",
    "print len(drodep), len(droind)"
   ]
  },
  {
   "cell_type": "code",
   "execution_count": 12,
   "metadata": {},
   "outputs": [
    {
     "name": "stdout",
     "output_type": "stream",
     "text": [
      "1816 560 1256\n"
     ]
    }
   ],
   "source": [
    "EFFCUT = 1.5\n",
    "HOMCUT = .25\n",
    "effs = s3['Cleavage Efficiency'].to_dict()\n",
    "homs = s3['Cleavage Homogeneity'].to_dict()\n",
    "dcsmirs = [ m for m in s3.index if effs[m]>=EFFCUT and homs[m]>=HOMCUT ]\n",
    "nodcs = [ m for m in s3.index if m not in dcsmirs ]\n",
    "print len(s3.index), len(dcsmirs), len(nodcs)"
   ]
  },
  {
   "cell_type": "markdown",
   "metadata": {},
   "source": [
    "---"
   ]
  },
  {
   "cell_type": "markdown",
   "metadata": {},
   "source": [
    "## A. Different cleavage patterns"
   ]
  },
  {
   "cell_type": "code",
   "execution_count": 13,
   "metadata": {},
   "outputs": [
    {
     "data": {
      "text/html": [
       "<div>\n",
       "<style scoped>\n",
       "    .dataframe tbody tr th:only-of-type {\n",
       "        vertical-align: middle;\n",
       "    }\n",
       "\n",
       "    .dataframe tbody tr th {\n",
       "        vertical-align: top;\n",
       "    }\n",
       "\n",
       "    .dataframe thead th {\n",
       "        text-align: right;\n",
       "    }\n",
       "</style>\n",
       "<table border=\"1\" class=\"dataframe\">\n",
       "  <thead>\n",
       "    <tr style=\"text-align: right;\">\n",
       "      <th></th>\n",
       "      <th>set1</th>\n",
       "      <th>set2</th>\n",
       "      <th>set3</th>\n",
       "      <th>set4</th>\n",
       "      <th>set5</th>\n",
       "    </tr>\n",
       "    <tr>\n",
       "      <th>Pri-miRNA</th>\n",
       "      <th></th>\n",
       "      <th></th>\n",
       "      <th></th>\n",
       "      <th></th>\n",
       "      <th></th>\n",
       "    </tr>\n",
       "  </thead>\n",
       "  <tbody>\n",
       "    <tr>\n",
       "      <th>hsa-let-7a-1</th>\n",
       "      <td>1373</td>\n",
       "      <td>474</td>\n",
       "      <td>0</td>\n",
       "      <td>2</td>\n",
       "      <td>0</td>\n",
       "    </tr>\n",
       "  </tbody>\n",
       "</table>\n",
       "</div>"
      ],
      "text/plain": [
       "              set1  set2  set3  set4  set5\n",
       "Pri-miRNA                                 \n",
       "hsa-let-7a-1  1373   474     0     2     0"
      ]
     },
     "execution_count": 13,
     "metadata": {},
     "output_type": "execute_result"
    }
   ],
   "source": [
    "inpraw = pd.read_csv('supplementary/TableSub__input_Microprocessor.csv',header=1,index_col=0)\n",
    "inpsum = pd.DataFrame()\n",
    "for inp in ['set1','set3','set5']:\n",
    "    inpsum[inp] = inpraw[['%s-1'%inp,'%s-2'%inp]].sum(axis=1)\n",
    "inpsum['set2'] = inpraw['set2']\n",
    "inpsum['set4'] = inpraw['set4'] \n",
    "inpsum = inpsum[LIBRARIES]\n",
    "inpsum.head(1)"
   ]
  },
  {
   "cell_type": "code",
   "execution_count": 21,
   "metadata": {},
   "outputs": [
    {
     "data": {
      "text/html": [
       "<div>\n",
       "<style scoped>\n",
       "    .dataframe tbody tr th:only-of-type {\n",
       "        vertical-align: middle;\n",
       "    }\n",
       "\n",
       "    .dataframe tbody tr th {\n",
       "        vertical-align: top;\n",
       "    }\n",
       "\n",
       "    .dataframe thead th {\n",
       "        text-align: right;\n",
       "    }\n",
       "</style>\n",
       "<table border=\"1\" class=\"dataframe\">\n",
       "  <thead>\n",
       "    <tr style=\"text-align: right;\">\n",
       "      <th></th>\n",
       "      <th></th>\n",
       "      <th></th>\n",
       "      <th>pilot-1</th>\n",
       "      <th>pilot-2</th>\n",
       "      <th>set1-1</th>\n",
       "      <th>set1-2</th>\n",
       "      <th>set2-1</th>\n",
       "      <th>set2-2</th>\n",
       "      <th>set3-1</th>\n",
       "      <th>set3-2</th>\n",
       "      <th>set4-1</th>\n",
       "      <th>set4-2</th>\n",
       "      <th>set5-1</th>\n",
       "      <th>set5-2</th>\n",
       "    </tr>\n",
       "    <tr>\n",
       "      <th>Pri-miRNA</th>\n",
       "      <th>rstart</th>\n",
       "      <th>rend</th>\n",
       "      <th></th>\n",
       "      <th></th>\n",
       "      <th></th>\n",
       "      <th></th>\n",
       "      <th></th>\n",
       "      <th></th>\n",
       "      <th></th>\n",
       "      <th></th>\n",
       "      <th></th>\n",
       "      <th></th>\n",
       "      <th></th>\n",
       "      <th></th>\n",
       "    </tr>\n",
       "  </thead>\n",
       "  <tbody>\n",
       "    <tr>\n",
       "      <th rowspan=\"5\" valign=\"top\">hsa-let-7a-1</th>\n",
       "      <th rowspan=\"5\" valign=\"top\">1</th>\n",
       "      <th>8</th>\n",
       "      <td>0.0</td>\n",
       "      <td>0.0</td>\n",
       "      <td>2.0</td>\n",
       "      <td>2.0</td>\n",
       "      <td>4.0</td>\n",
       "      <td>0.0</td>\n",
       "      <td>0.0</td>\n",
       "      <td>0.0</td>\n",
       "      <td>0.0</td>\n",
       "      <td>0.0</td>\n",
       "      <td>0.0</td>\n",
       "      <td>0.0</td>\n",
       "    </tr>\n",
       "    <tr>\n",
       "      <th>9</th>\n",
       "      <td>0.0</td>\n",
       "      <td>0.0</td>\n",
       "      <td>6.0</td>\n",
       "      <td>2.0</td>\n",
       "      <td>0.0</td>\n",
       "      <td>0.0</td>\n",
       "      <td>0.0</td>\n",
       "      <td>0.0</td>\n",
       "      <td>0.0</td>\n",
       "      <td>0.0</td>\n",
       "      <td>0.0</td>\n",
       "      <td>0.0</td>\n",
       "    </tr>\n",
       "    <tr>\n",
       "      <th>10</th>\n",
       "      <td>55.0</td>\n",
       "      <td>26.0</td>\n",
       "      <td>4.0</td>\n",
       "      <td>4.0</td>\n",
       "      <td>0.0</td>\n",
       "      <td>1.0</td>\n",
       "      <td>0.0</td>\n",
       "      <td>0.0</td>\n",
       "      <td>0.0</td>\n",
       "      <td>0.0</td>\n",
       "      <td>0.0</td>\n",
       "      <td>0.0</td>\n",
       "    </tr>\n",
       "    <tr>\n",
       "      <th>11</th>\n",
       "      <td>19.0</td>\n",
       "      <td>18.0</td>\n",
       "      <td>1.0</td>\n",
       "      <td>1.0</td>\n",
       "      <td>0.0</td>\n",
       "      <td>0.0</td>\n",
       "      <td>0.0</td>\n",
       "      <td>0.0</td>\n",
       "      <td>0.0</td>\n",
       "      <td>0.0</td>\n",
       "      <td>0.0</td>\n",
       "      <td>0.0</td>\n",
       "    </tr>\n",
       "    <tr>\n",
       "      <th>12</th>\n",
       "      <td>606.0</td>\n",
       "      <td>314.0</td>\n",
       "      <td>5.0</td>\n",
       "      <td>3.0</td>\n",
       "      <td>0.0</td>\n",
       "      <td>0.0</td>\n",
       "      <td>0.0</td>\n",
       "      <td>0.0</td>\n",
       "      <td>0.0</td>\n",
       "      <td>0.0</td>\n",
       "      <td>0.0</td>\n",
       "      <td>0.0</td>\n",
       "    </tr>\n",
       "  </tbody>\n",
       "</table>\n",
       "</div>"
      ],
      "text/plain": [
       "                          pilot-1  pilot-2  set1-1  set1-2  set2-1  set2-2  \\\n",
       "Pri-miRNA    rstart rend                                                     \n",
       "hsa-let-7a-1 1      8         0.0      0.0     2.0     2.0     4.0     0.0   \n",
       "                    9         0.0      0.0     6.0     2.0     0.0     0.0   \n",
       "                    10       55.0     26.0     4.0     4.0     0.0     1.0   \n",
       "                    11       19.0     18.0     1.0     1.0     0.0     0.0   \n",
       "                    12      606.0    314.0     5.0     3.0     0.0     0.0   \n",
       "\n",
       "                          set3-1  set3-2  set4-1  set4-2  set5-1  set5-2  \n",
       "Pri-miRNA    rstart rend                                                  \n",
       "hsa-let-7a-1 1      8        0.0     0.0     0.0     0.0     0.0     0.0  \n",
       "                    9        0.0     0.0     0.0     0.0     0.0     0.0  \n",
       "                    10       0.0     0.0     0.0     0.0     0.0     0.0  \n",
       "                    11       0.0     0.0     0.0     0.0     0.0     0.0  \n",
       "                    12       0.0     0.0     0.0     0.0     0.0     0.0  "
      ]
     },
     "execution_count": 21,
     "metadata": {},
     "output_type": "execute_result"
    }
   ],
   "source": [
    "clvraw = pd.read_csv('supplementary/TableSub__cleavage_products_Microprocessor.csv',\n",
    "                     index_col=0).set_index(['Pri-miRNA','rstart','rend'])\n",
    "clvraw.head()"
   ]
  },
  {
   "cell_type": "code",
   "execution_count": 22,
   "metadata": {},
   "outputs": [
    {
     "data": {
      "text/html": [
       "<div>\n",
       "<style scoped>\n",
       "    .dataframe tbody tr th:only-of-type {\n",
       "        vertical-align: middle;\n",
       "    }\n",
       "\n",
       "    .dataframe tbody tr th {\n",
       "        vertical-align: top;\n",
       "    }\n",
       "\n",
       "    .dataframe thead th {\n",
       "        text-align: right;\n",
       "    }\n",
       "</style>\n",
       "<table border=\"1\" class=\"dataframe\">\n",
       "  <thead>\n",
       "    <tr style=\"text-align: right;\">\n",
       "      <th></th>\n",
       "      <th>Pri-miRNA</th>\n",
       "      <th>rstart</th>\n",
       "      <th>rend</th>\n",
       "      <th>set1</th>\n",
       "      <th>set2</th>\n",
       "      <th>set3</th>\n",
       "      <th>set4</th>\n",
       "      <th>set5</th>\n",
       "    </tr>\n",
       "  </thead>\n",
       "  <tbody>\n",
       "    <tr>\n",
       "      <th>0</th>\n",
       "      <td>hsa-let-7a-1</td>\n",
       "      <td>1</td>\n",
       "      <td>8</td>\n",
       "      <td>4.0</td>\n",
       "      <td>4.0</td>\n",
       "      <td>0.0</td>\n",
       "      <td>0.0</td>\n",
       "      <td>0.0</td>\n",
       "    </tr>\n",
       "  </tbody>\n",
       "</table>\n",
       "</div>"
      ],
      "text/plain": [
       "      Pri-miRNA  rstart  rend  set1  set2  set3  set4  set5\n",
       "0  hsa-let-7a-1       1     8   4.0   4.0   0.0   0.0   0.0"
      ]
     },
     "execution_count": 22,
     "metadata": {},
     "output_type": "execute_result"
    }
   ],
   "source": [
    "clvtbl = pd.DataFrame()\n",
    "for lib in LIBRARIES:\n",
    "    clvtbl[lib] = clvraw[['%s-1'%lib,'%s-2'%lib]].sum(axis=1)\n",
    "clvtbl = clvtbl.reset_index()\n",
    "clvtbl.head(1)"
   ]
  },
  {
   "cell_type": "code",
   "execution_count": 23,
   "metadata": {},
   "outputs": [],
   "source": [
    "START, MID, END = 1, 63, 125\n",
    "clv5f = clvtbl[(clvtbl['rstart']==START)&(clvtbl['rend']<MID)].set_index('Pri-miRNA')\n",
    "clv3f = clvtbl[(clvtbl['rstart']>MID)&(clvtbl['rend']==END)].set_index('Pri-miRNA')"
   ]
  },
  {
   "cell_type": "code",
   "execution_count": 24,
   "metadata": {},
   "outputs": [],
   "source": [
    "mirs = ['hsa-let-7a-1','hsa-mir-152','hsa-mir-320a']\n",
    "lib = 'set2'"
   ]
  },
  {
   "cell_type": "code",
   "execution_count": 25,
   "metadata": {
    "scrolled": true
   },
   "outputs": [],
   "source": [
    "RCUTOFF = 30\n",
    "clvinp = {}\n",
    "for m in set(clv5f.index)&set(clv3f.index):\n",
    "    ps, pe = preposition[m]\n",
    "    inp = inpsum.loc[m,'set2']\n",
    "    clv5 = clv5f.loc[[m]].set_index('rend').reindex(range(ps-4,ps+3))[lib].sum()\n",
    "    clv3 = clv3f.loc[[m]].set_index('rstart').reindex(range(pe-2,pe+5))[lib].sum()\n",
    "    if inp>=RCUTOFF:\n",
    "        clvinp[m] = (clv5+clv3)/inp"
   ]
  },
  {
   "cell_type": "code",
   "execution_count": 26,
   "metadata": {},
   "outputs": [
    {
     "data": {
      "text/plain": [
       "{'hsa-let-7a-1': 1,\n",
       " 'hsa-mir-152': 0.8468779269270439,\n",
       " 'hsa-mir-320a': 0.0009262575090915034}"
      ]
     },
     "execution_count": 26,
     "metadata": {},
     "output_type": "execute_result"
    }
   ],
   "source": [
    "norm = clvinp['hsa-let-7f-2']# np.percentile(clvinp.values(),95)\n",
    "relq = { m:min(clvinp[m]/norm,1) for m in mirs }\n",
    "relq"
   ]
  },
  {
   "cell_type": "code",
   "execution_count": 27,
   "metadata": {
    "scrolled": true
   },
   "outputs": [
    {
     "data": {
      "text/plain": [
       "[('hsa-mir-708', 4.2323759791122715),\n",
       " ('hsa-mir-376a-2', 4.249797242497973),\n",
       " ('hsa-let-7f-2', 4.25959367945824),\n",
       " ('hsa-mir-96', 4.289198606271777)]"
      ]
     },
     "execution_count": 27,
     "metadata": {},
     "output_type": "execute_result"
    }
   ],
   "source": [
    "[(m,clvinp[m]) for m in clvinp if abs(clvinp[m]-norm)<=.06 ]"
   ]
  },
  {
   "cell_type": "code",
   "execution_count": 28,
   "metadata": {
    "scrolled": true
   },
   "outputs": [
    {
     "name": "stdout",
     "output_type": "stream",
     "text": [
      "hsa-let-7a-1 [0.7, 0.8, 2.6, 93.6, 0.2, 0.0, 0.0] [0.0, 0.0, 0.0, 97.3, 1.2, 0.0, 0.4]\n",
      "hsa-mir-152 [1.5, 4.6, 39.0, 40.2, 0.1, 0.0, 0.1] [0.0, 0.0, 0.0, 46.5, 48.0, 0.2, 0.3]\n",
      "hsa-mir-320a [3.0, 9.1, 0.0, 0.0, 3.0, 3.0, 6.1] [0.7, 0.0, 1.5, 0.0, 0.0, 0.0, 0.0]\n"
     ]
    }
   ],
   "source": [
    "for m in mirs:\n",
    "    sum5 = clv5f.loc[m,lib].sum()\n",
    "    sum3 = clv3f.loc[m,lib].sum()\n",
    "    ps, pe = preposition[m]\n",
    "    c5 = (clv5f.loc[m].set_index('rend')[lib]/sum5).reindex(range(ps-4,ps+3)).fillna(0)*100\n",
    "    c3 = (clv3f.loc[m].set_index('rstart')[lib]/sum3).reindex(range(pe-2,pe+5)).fillna(0)*100\n",
    "    print m, c5.round(1).tolist(), c3.round(1).tolist()"
   ]
  },
  {
   "cell_type": "code",
   "execution_count": 29,
   "metadata": {},
   "outputs": [
    {
     "data": {
      "image/png": "[encoded data removed]",
      "text/plain": [
       "<matplotlib.figure.Figure at 0x7ff73ec13f50>"
      ]
     },
     "metadata": {},
     "output_type": "display_data"
    }
   ],
   "source": [
    "m = mirs[2]\n",
    "fig, ax = plt.subplots(1, 1, figsize=(.65,1))\n",
    "ax.bar([0,1],[1,relq[m]],color='#bababa',width=.7)\n",
    "ax.spines['left'].set_visible(False)\n",
    "ax.set_xticks(np.array([0,1])-.2)\n",
    "ax.set_xticklabels(['Input','Cleaved'],fontsize=9,rotation=25)\n",
    "ax.set_yticklabels([])\n",
    "ax.yaxis.grid(ls='-',lw=.5)\n",
    "ax.set_ylabel('Relative count',fontsize=9)\n",
    "ax.tick_params(bottom='off',left='off')\n",
    "#fig.savefig(resultpath+'201229_f2a__example_%s.pdf'%m)"
   ]
  },
  {
   "cell_type": "markdown",
   "metadata": {},
   "source": [
    "## S2A-B. Precision-Recall"
   ]
  },
  {
   "cell_type": "code",
   "execution_count": 30,
   "metadata": {},
   "outputs": [],
   "source": [
    "def get_precision(cutoff, mirl, data, pcs):\n",
    "    tpos = [m for m in mirl if m in pcs and data[m]>=cutoff]\n",
    "    pos = [m for m in mirl if data[m]>=cutoff]\n",
    "    return len(tpos)/len(pos)"
   ]
  },
  {
   "cell_type": "code",
   "execution_count": 31,
   "metadata": {},
   "outputs": [],
   "source": [
    "def get_recall(cutoff, mirl, data, pcs):\n",
    "    tpos = [m for m in mirl if m in pcs and data[m]>=cutoff]\n",
    "    return len(tpos)/len(pcs)"
   ]
  },
  {
   "cell_type": "code",
   "execution_count": 32,
   "metadata": {
    "scrolled": true
   },
   "outputs": [
    {
     "name": "stdout",
     "output_type": "stream",
     "text": [
      "560 305\n"
     ]
    }
   ],
   "source": [
    "testset = [ mir for mir in s3.index if mir in drodep or mir in droind ]\n",
    "pcs = [ mir for mir in s3.index if mir in drodep ]\n",
    "print len(testset), len(pcs)"
   ]
  },
  {
   "cell_type": "code",
   "execution_count": 33,
   "metadata": {},
   "outputs": [],
   "source": [
    "erange = np.arange(0,3.1,.3)\n",
    "eprs = [ get_precision(e,testset,effs,pcs) for e in erange ]\n",
    "ercs = [ get_recall(e,testset,effs,pcs) for e in erange ]"
   ]
  },
  {
   "cell_type": "code",
   "execution_count": 34,
   "metadata": {},
   "outputs": [],
   "source": [
    "hrange = np.arange(0,.71,.05)\n",
    "hprs = [ get_precision(e,testset,homs,pcs) for e in hrange ]\n",
    "hrcs = [ get_recall(e,testset,homs,pcs) for e in hrange ]"
   ]
  },
  {
   "cell_type": "code",
   "execution_count": 35,
   "metadata": {},
   "outputs": [
    {
     "name": "stdout",
     "output_type": "stream",
     "text": [
      "0.724590163934 0.965065502183 0.777049180328 0.963414634146\n"
     ]
    }
   ],
   "source": [
    "ecut = 1.5\n",
    "hcut = .25\n",
    "ex = get_recall(ecut,testset,effs,pcs)\n",
    "ey = get_precision(ecut,testset,effs,pcs)\n",
    "hx = get_recall(hcut,testset,homs,pcs)\n",
    "hy = get_precision(hcut,testset,homs,pcs)\n",
    "print ex,ey,hx,hy"
   ]
  },
  {
   "cell_type": "code",
   "execution_count": 36,
   "metadata": {},
   "outputs": [
    {
     "data": {
      "image/png": "[encoded data removed]",
      "text/plain": [
       "<matplotlib.figure.Figure at 0x7ff73eddcf90>"
      ]
     },
     "metadata": {},
     "output_type": "display_data"
    }
   ],
   "source": [
    "fig, (ax1,ax2) = plt.subplots(1, 2, figsize=(6,2.4))\n",
    "ax1.errorbar(ercs,eprs,ms=4,marker='o',zorder=2,color='#424242')\n",
    "ax2.errorbar(hrcs,hprs,ms=4,marker='o',zorder=2,color='#424242')\n",
    "ax1.set_title('Cleavage efficiency cutoff',fontsize=11)\n",
    "ax2.set_title('Cleavage homogeneity cutoff',fontsize=11)\n",
    "for ax,xmin in zip([ax1,ax2],[ercs[-1],hrcs[-1]]):\n",
    "    ax.spines['left'].set_bounds(.52,1)\n",
    "    ax.spines['bottom'].set_bounds(xmin-.03,1)\n",
    "    ax.set_xlim(xmin-.03,1.02)\n",
    "    ax.set_ylim(.52,1.01)\n",
    "    ax.set_xlabel('Recall',fontsize=11)\n",
    "    ax.set_ylabel('Precision',fontsize=11)\n",
    "    ax.set_xticks(np.arange(.3,1.1,.1))\n",
    "    ax.set_yticks(np.arange(.55,1.05,.05))\n",
    "    sq = plt.Rectangle([xmin-.03,.35],1.04-xmin,.66,fc='w'); ax.add_patch(sq)\n",
    "    ax.grid(ls='-',lw=.5,clip_path=sq,which='both')\n",
    "    ax.tick_params(labelsize=10)\n",
    "ax1.text(ex+.02,ey+.01,ecut,fontsize=11,weight='bold',color='#502585')  \n",
    "ax2.text(hx+.02,hy+.01,hcut,fontsize=11,weight='bold',color='#de2d26')\n",
    "ax1.scatter([ex],[ey],s=20,color='#502585',zorder=3)\n",
    "ax2.scatter([hx],[hy],s=20,color='#de2d26',zorder=3)\n",
    "ax1.plot([0,1],[.95,.95],'k--',lw=1); ax1.plot([.7,.7],[0,1],'k--',lw=1)\n",
    "ax2.plot([0,1],[.95,.95],'k--',lw=1); ax2.plot([.7,.7],[0,1],'k--',lw=1)\n",
    "fig.subplots_adjust(wspace=.45)\n",
    "#fig.savefig(resultpath + '210118_s2a__precision_recall.pdf')#,dpi=300)"
   ]
  },
  {
   "cell_type": "markdown",
   "metadata": {},
   "source": [
    "## B.  Cleavage Efficiency and Cleavage Homogeneity"
   ]
  },
  {
   "cell_type": "code",
   "execution_count": 101,
   "metadata": {},
   "outputs": [
    {
     "name": "stdout",
     "output_type": "stream",
     "text": [
      "[305, 255, 1256]\n"
     ]
    }
   ],
   "source": [
    "mirls = [ [m for m in s3.index if m in drodep], \n",
    "          [m for m in s3.index if m in droind],\n",
    "          [m for m in s3.index if m not in list(drodep)+list(droind)] ]\n",
    "xsl = [ [effs[m] for m in ml] for ml in mirls ]\n",
    "ysl = [ [homs[m] for m in ml] for ml in mirls ]\n",
    "fcolors = [ '#1b9e77', '#666666', '#cbcbcb' ]\n",
    "ecolors = [ '#018571', '#353535','#bababa' ]\n",
    "labels = [ 'DRO-dep.', 'DRO-ind.', 'Not yet determined' ]\n",
    "sizes = [ 15, 15, 10 ]\n",
    "zs = [ 4, 4, 3 ]\n",
    "xmin, xmax, xo = 0, 4.5, .15\n",
    "ymin, ymax, yo = 0, 1, .03\n",
    "xcut, ycut = 1.5, .25\n",
    "shade = '#a1d99b'\n",
    "print map(len,mirls)"
   ]
  },
  {
   "cell_type": "code",
   "execution_count": 38,
   "metadata": {},
   "outputs": [
    {
     "name": "stdout",
     "output_type": "stream",
     "text": [
      "hsa-let-7a-1 4.05131059336 0.882549482661\n",
      "hsa-mir-152 3.77929225238 0.503726361264\n",
      "hsa-mir-320a 0.0334805808999 0.0707050429844\n"
     ]
    }
   ],
   "source": [
    "for m in ['hsa-let-7a-1','hsa-mir-152','hsa-mir-320a']:\n",
    "    print m, effs[m], homs[m]"
   ]
  },
  {
   "cell_type": "code",
   "execution_count": 106,
   "metadata": {
    "scrolled": false
   },
   "outputs": [
    {
     "data": {
      "image/png": "[encoded data removed]",
      "text/plain": [
       "<matplotlib.figure.Figure at 0x7ff72c8673d0>"
      ]
     },
     "metadata": {},
     "output_type": "display_data"
    }
   ],
   "source": [
    "fig, ax = plt.subplots(1, 1, figsize=(3,3))\n",
    "for xs,ys,fc,ec,label,s,z in zip(xsl,ysl,fcolors,ecolors,labels,sizes,zs):\n",
    "    xs,ys = zip(*[ (x,y) for x,y in zip(xs,ys) if xmin<=x<xmax and ymin<=y<ymax])\n",
    "    ax.scatter(xs, ys, s=s, color=fc, edgecolor=ec, lw=.5, zorder=z, label=label, alpha=.9,\n",
    "              rasterized=True)\n",
    "ax.plot([xmin-xo,xmax],[ycut,ycut],'k--',zorder=2)\n",
    "ax.plot([xcut,xcut],[ymin-yo,ymax],'k--',zorder=2)\n",
    "\n",
    "ax.set_xlabel('Cleavage efficiency',fontsize=11)\n",
    "ax.set_ylabel('Cleavage homogeneity',fontsize=11)\n",
    "ax.set_xticks(np.arange(xmin,xmax+xo,.5),minor=True)\n",
    "ax.set_yticks(np.arange(ymin,ymax+yo,.25))\n",
    "ax.set_xlim(xmin-xo, xmax+xo)\n",
    "ax.set_ylim(ymin-yo, ymax+yo)\n",
    "ax.spines['bottom'].set_bounds(xmin, xmax)\n",
    "ax.spines['left'].set_bounds(ymin, ymax)\n",
    "\n",
    "handles, labels = ax.get_legend_handles_labels()\n",
    "handles = [ handles[0],handles[2],handles[1] ]; labels = [ labels[0],labels[2],labels[1]]\n",
    "leg = ax.legend(handles,labels,loc=(-.1,1.05), handletextpad=-.1, ncol=2, columnspacing=.05)\n",
    "for handle in leg.legendHandles:\n",
    "    handle.set_sizes([30])\n",
    "\n",
    "gr = plt.Rectangle((xmin-xo/4,ymin-yo/4), xmax+xo/4, ymax+yo/4, fc='w'); ax.add_patch(gr)\n",
    "ax.grid(ls='-', lw=.5, clip_path=gr)\n",
    "#fig.savefig(resultpath + '210118_f2b__cleavage_pattern.pdf',dpi=300)"
   ]
  },
  {
   "cell_type": "code",
   "execution_count": 40,
   "metadata": {},
   "outputs": [
    {
     "name": "stdout",
     "output_type": "stream",
     "text": [
      "560 (25, 96)\n"
     ]
    }
   ],
   "source": [
    "majorcs = {}\n",
    "for mir in dcsmirs:\n",
    "    c5, c3 = s3.loc[[mir],[\"5' cleavage site\",\"3' cleavage site\"]].iloc[0]\n",
    "    majorcs[mir] = (int(c5),int(c3))\n",
    "print len(majorcs), majorcs['hsa-let-7a-1']"
   ]
  },
  {
   "cell_type": "markdown",
   "metadata": {},
   "source": [
    "## C. Productively processed miRNAs"
   ]
  },
  {
   "cell_type": "code",
   "execution_count": 42,
   "metadata": {
    "scrolled": true
   },
   "outputs": [
    {
     "name": "stdout",
     "output_type": "stream",
     "text": [
      "[560, 1256] [30.83700441 69.16299559]\n"
     ]
    },
    {
     "data": {
      "image/png": "[encoded data removed]",
      "text/plain": [
       "<matplotlib.figure.Figure at 0x7ff73f0b1b90>"
      ]
     },
     "metadata": {},
     "output_type": "display_data"
    }
   ],
   "source": [
    "data = map(len, [dcsmirs, nodcs])\n",
    "print data, np.array(data)/len(s3.index)*100\n",
    "colors = '#5291bd #969696'.split()\n",
    "fig, ax = plt.subplots(1, 1, figsize=(2,2))\n",
    "ps,ts = ax.pie(data, colors=colors, wedgeprops={'linewidth':2,'edgecolor':'w'},\n",
    "               startangle=90,counterclock=False)\n",
    "fig.savefig(resultpath + '210112_f2c__productive_processing.pdf')"
   ]
  },
  {
   "cell_type": "code",
   "execution_count": 43,
   "metadata": {},
   "outputs": [
    {
     "name": "stdout",
     "output_type": "stream",
     "text": [
      "[29.508196721311474, 99.2156862745098] [70.49180327868852, 0.7843137254901961]\n"
     ]
    }
   ],
   "source": [
    "ys1 = [ len([m for m in s3.index if m in ml and m in nodcs])/len(ml)*100 for ml in mirls[:2] ]\n",
    "ys2 = [ len([m for m in s3.index if m in ml and m in dcsmirs])/len(ml)*100 for ml in mirls[:2] ]\n",
    "print ys1, ys2"
   ]
  },
  {
   "cell_type": "code",
   "execution_count": 44,
   "metadata": {},
   "outputs": [
    {
     "data": {
      "text/plain": [
       "<matplotlib.legend.Legend at 0x7ff73ec17650>"
      ]
     },
     "execution_count": 44,
     "metadata": {},
     "output_type": "execute_result"
    },
    {
     "data": {
      "image/png": "[encoded data removed]",
      "text/plain": [
       "<matplotlib.figure.Figure at 0x7ff73eb29ad0>"
      ]
     },
     "metadata": {},
     "output_type": "display_data"
    }
   ],
   "source": [
    "fig, ax = plt.subplots(1, 1, figsize=(1.8,2.5))\n",
    "ax.bar(range(2),ys1,color=colors[1],width=.55,label='Failed',zorder=2,lw=1,edgecolor='k')\n",
    "ax.bar(range(2),ys2,bottom=ys1,color=colors[0],width=.55,label='Productive',zorder=2,\n",
    "      lw=1,edgecolor='k')\n",
    "ax.set_xlim(-.5,1.5)\n",
    "ax.set_xticks(range(2))\n",
    "ax.set_xticklabels(['DRO-dep.','DRO-ind.'])\n",
    "ax.spines['left'].set_bounds(0,100)\n",
    "ax.set_yticks(range(0,101,10),minor=True)\n",
    "ax.set_yticklabels(range(0,101,20),fontsize=10)\n",
    "ax.set_ylabel('Fraction (%)')\n",
    "ax.yaxis.grid(ls='-',lw=.5)\n",
    "handles, labels = ax.get_legend_handles_labels()\n",
    "ax.legend(handles[::-1],labels[::-1],handlelength=1,handletextpad=.4,loc=(-.1,1.03),\n",
    "         ncol=2,columnspacing=1)\n",
    "#fig.savefig(resultpath + '210118_s2__fnr_fpr.pdf')"
   ]
  },
  {
   "cell_type": "markdown",
   "metadata": {},
   "source": [
    "## S2D. Alternative processing"
   ]
  },
  {
   "cell_type": "code",
   "execution_count": 45,
   "metadata": {},
   "outputs": [],
   "source": [
    "ms = [ m for m in s3.index if effs[m]>=EFFCUT]\n",
    "xs = s3.reindex(ms)['Cleavage Homogeneity']\n",
    "ys = s3.reindex(ms)['Cleavage ratio of alternative site'].fillna(0)\n",
    "xs2 = s3.reindex(['hsa-mir-152','hsa-mir-342'])['Cleavage Homogeneity']\n",
    "ys2 = s3.reindex(['hsa-mir-152','hsa-mir-342'])['Cleavage ratio of alternative site'].fillna(0)"
   ]
  },
  {
   "cell_type": "code",
   "execution_count": 46,
   "metadata": {},
   "outputs": [
    {
     "data": {
      "image/png": "[encoded data removed]",
      "text/plain": [
       "<matplotlib.figure.Figure at 0x7ff73eb48d50>"
      ]
     },
     "metadata": {},
     "output_type": "display_data"
    }
   ],
   "source": [
    "fig, ax = plt.subplots(1, 1, figsize=(2,2))\n",
    "ax.scatter(xs,ys,s=7,color='k',alpha=.2,rasterized=True)\n",
    "ax.scatter(xs2,ys2,s=10,color='tab:red',rasterized=True)\n",
    "ax.set_xlabel('Fraction of cleavage events\\nat the major site\\n(cleavage homogeneity)')\n",
    "ax.set_ylabel('Fraction of cleavage events\\nat the alternative site')\n",
    "ax.set_xlim(-.05,1.05)\n",
    "ax.set_ylim(-.05,1.05)\n",
    "ax.plot([0,1],[0,1],'#ababab',lw=1,ls='--')\n",
    "ax.plot([-.05,1],[.25,.25],color='k',lw=1,ls='--')\n",
    "ax.plot([.25,.25],[-.05,1],color='k',lw=1,ls='--')\n",
    "ax.set_xticks(np.arange(0,1.1,.25))\n",
    "ax.set_yticks(np.arange(0,1.1,.25))\n",
    "ax.spines['bottom'].set_bounds(0,1)\n",
    "ax.spines['left'].set_bounds(0,1)\n",
    "ax.tick_params(labelsize=10)\n",
    "#fig.savefig(resultpath + '210118_s2c_alternative.pdf',dpi=300)"
   ]
  },
  {
   "cell_type": "markdown",
   "metadata": {},
   "source": [
    "## D. Validation of classification results - secondary structure"
   ]
  },
  {
   "cell_type": "code",
   "execution_count": 48,
   "metadata": {},
   "outputs": [
    {
     "name": "stdout",
     "output_type": "stream",
     "text": [
      "1816\n"
     ]
    }
   ],
   "source": [
    "bpfreq5 = pd.DataFrame(index=s3.index, columns=range(-30,30))\n",
    "bpfreq3 = pd.DataFrame(index=s3.index, columns=range(-30,30))\n",
    "for mir in s3.index:\n",
    "    if mir in dcsmirs:\n",
    "        ps,pe = majorcs[mir]\n",
    "    else:\n",
    "        ps,pe = preposition[mir]\n",
    "    sts = [(i,1) if s=='M' else (i,0) for i,s in enumerate(s4.loc[mir,'Secondary structure'])]\n",
    "    bpfreq5.loc[mir] = pd.Series({i-ps+1:p for i,p in sts})\n",
    "    bpfreq3.loc[mir] = pd.Series({pe-i-1:p for i,p in sts})\n",
    "print len(bpfreq5)"
   ]
  },
  {
   "cell_type": "code",
   "execution_count": 49,
   "metadata": {},
   "outputs": [],
   "source": [
    "mirls = [ dcsmirs, nodcs ]\n",
    "xmin, xmax = -20, 25\n",
    "xs = np.arange(xmin,xmax)\n",
    "ysl = [[bpfreq5.reindex(ml)[x].dropna().mean()*100 for x in xs] for ml in mirls]\n",
    "ys2 = (np.array(ysl[0])-np.array(ysl[1]))\n",
    "labels = [ 'Productive', 'Failed' ]\n",
    "colors = '#5291bd #969696'.split()\n",
    "zs = [ 4,3,3 ]"
   ]
  },
  {
   "cell_type": "code",
   "execution_count": 50,
   "metadata": {},
   "outputs": [
    {
     "data": {
      "text/plain": [
       "<matplotlib.legend.Legend at 0x7ff72f08fc90>"
      ]
     },
     "execution_count": 50,
     "metadata": {},
     "output_type": "execute_result"
    },
    {
     "data": {
      "image/png": "[encoded data removed]",
      "text/plain": [
       "<matplotlib.figure.Figure at 0x7ff792848dd0>"
      ]
     },
     "metadata": {},
     "output_type": "display_data"
    }
   ],
   "source": [
    "fig, ax1 = plt.subplots(1, 1, figsize=(5,2))\n",
    "for ys,c,label,z,ml in zip(ysl,colors,labels,zs,mirls)[:2]:\n",
    "    ax1.errorbar(xs,ys,color=c,label=label,ms=2.5,marker='o',lw=1.6,zorder=z)\n",
    "\n",
    "\n",
    "ax1.set_xlim(xmin-1, xmax-.5)\n",
    "ax1.set_xticks([-20,-15,-10,-5,0,4,9,14,19,24])\n",
    "ax1.set_xticklabels([-20,-15,-10,-5,'+1','+5','+10','+15','+20','+25'])\n",
    "ax1.grid(ls='-',lw=.5)\n",
    "ax1.set_ylim(38,97)\n",
    "ax1.set_yticks([50,70,90])\n",
    "ax1.set_xlabel('5p strand position')\n",
    "ax1.set_ylabel('Base-pair frequency (%)')\n",
    "ax1.axvline(-.5,color='k',ls='--',lw=1)\n",
    "ax1.legend(loc=(.02,.87), handlelength=.8, handletextpad=.5)\n",
    "#fig.savefig(resultpath + '210112_f2d__structure.pdf')#,dpi=300)"
   ]
  },
  {
   "cell_type": "markdown",
   "metadata": {},
   "source": [
    "## S2F. Loop size"
   ]
  },
  {
   "cell_type": "code",
   "execution_count": 52,
   "metadata": {
    "scrolled": true
   },
   "outputs": [
    {
     "name": "stdout",
     "output_type": "stream",
     "text": [
      "[560, 1256]\n",
      "Ttest_indResult(statistic=1.46839488440292, pvalue=0.14217036564701943)\n"
     ]
    }
   ],
   "source": [
    "data = [[get_new_str(m).count('L') for m in dcsmirs],\n",
    "        [get_new_str(m).count('L') for m in nodcs]]\n",
    "colors = '#5291bd #757575'.split()\n",
    "print map(len,data)\n",
    "print ttest_ind(data[0],data[1])"
   ]
  },
  {
   "cell_type": "code",
   "execution_count": 53,
   "metadata": {},
   "outputs": [
    {
     "data": {
      "image/png": "[encoded data removed]",
      "text/plain": [
       "<matplotlib.figure.Figure at 0x7ff7927ccd90>"
      ]
     },
     "metadata": {},
     "output_type": "display_data"
    }
   ],
   "source": [
    "fig, ax = plt.subplots(1, 1, figsize=(1.3,2.5))\n",
    "bp = ax.boxplot(data,widths=.7,sym='',boxprops={'linewidth':1.3},\n",
    "                medianprops={'color':'black','linewidth':1.3}, capprops={'linewidth':1.3},\n",
    "                whiskerprops={'linewidth':1.3}, patch_artist=True,zorder=2,whis=1)\n",
    "for box,c in zip(bp['boxes'],colors):\n",
    "    box.set_facecolor(c)\n",
    "\n",
    "ax.set_xticks([1,2])\n",
    "ax.set_xticklabels(['Productive','Failed'],rotation=30)\n",
    "ax.set_yticks([3,6,9,12])\n",
    "ax.set_ylabel('Loop size (nt)',fontsize=11)\n",
    "ax.spines['bottom'].set_visible(False)\n",
    "ax.tick_params(bottom='off')\n",
    "ax.yaxis.grid(ls='-',lw=.5)\n",
    "fig.savefig(resultpath + '210112_s2__loop_size.pdf')"
   ]
  },
  {
   "cell_type": "markdown",
   "metadata": {},
   "source": [
    "## S2G. Parameterization of lower stem"
   ]
  },
  {
   "cell_type": "code",
   "execution_count": 54,
   "metadata": {},
   "outputs": [
    {
     "name": "stdout",
     "output_type": "stream",
     "text": [
      "[0.35714285714285715, 0.0, 0.0, 0.8928571428571428, 0.8928571428571428, 1.607142857142857, 1.4285714285714286, 3.392857142857143, 10.0, 14.642857142857144, 25.0, 28.749999999999996, 13.035714285714286] [0.9554140127388535, 2.1496815286624202, 2.945859872611465, 2.8662420382165608, 4.219745222929936, 4.777070063694268, 8.04140127388535, 10.987261146496815, 12.898089171974522, 13.614649681528663, 13.455414012738853, 12.261146496815286, 5.095541401273886]\n"
     ]
    }
   ],
   "source": [
    "xs = range(1,14)\n",
    "ys1 = [ len([m for m in dcsmirs if bpfreq5.loc[m,range(-13,0)].sum()==x])/len(dcsmirs)*100\n",
    "        for x in xs ]\n",
    "ys2 = [ len([m for m in nodcs if bpfreq5.loc[m,range(-13,0)].sum()==x])/len(nodcs)*100\n",
    "        for x in xs ]\n",
    "print ys1, ys2"
   ]
  },
  {
   "cell_type": "code",
   "execution_count": 55,
   "metadata": {},
   "outputs": [
    {
     "data": {
      "text/plain": [
       "<matplotlib.legend.Legend at 0x7ff73eb1e450>"
      ]
     },
     "execution_count": 55,
     "metadata": {},
     "output_type": "execute_result"
    },
    {
     "data": {
      "image/png": "[encoded data removed]",
      "text/plain": [
       "<matplotlib.figure.Figure at 0x7ff73eaebe90>"
      ]
     },
     "metadata": {},
     "output_type": "display_data"
    }
   ],
   "source": [
    "fig, ax = plt.subplots(1, 1, figsize=(1.3,2.5))\n",
    "ax.errorbar(ys1,xs,ms=2,marker='o',zorder=2,color='#5291bd',label='Productive')\n",
    "ax.errorbar(ys2,xs,ms=2,marker='o',zorder=2,color='#424242',label='Failed')\n",
    "ax.invert_yaxis()\n",
    "ax.set_ylabel('Base-pairs in lower stem')\n",
    "ax.set_xlabel('Proportion (%)')\n",
    "ax.set_yticks([1,4,7,10,13])\n",
    "ax.set_xticks([0,10,20])\n",
    "ax.spines['bottom'].set_bounds(0,29)\n",
    "ax.grid(ls='-',lw=.5)\n",
    "ax.legend(handlelength=1,handletextpad=.2,loc=(.35,.75))\n",
    "#ax.axhline(10,color='k',ls='--',lw=1,zorder=1)\n",
    "#fig.savefig(resultpath + '210112_s2__bp_LS.pdf')"
   ]
  },
  {
   "cell_type": "markdown",
   "metadata": {},
   "source": [
    "## E. Validation of classification results - sequence motifs"
   ]
  },
  {
   "cell_type": "code",
   "execution_count": 56,
   "metadata": {},
   "outputs": [],
   "source": [
    "seq5tbl, seq3tbl = pd.DataFrame(columns=range(-20,30)), pd.DataFrame(columns=range(-25,30))\n",
    "str5tbl, str3tbl = pd.DataFrame(columns=range(-20,30)), pd.DataFrame(columns=range(-25,30))"
   ]
  },
  {
   "cell_type": "code",
   "execution_count": 57,
   "metadata": {},
   "outputs": [],
   "source": [
    "for mir in s3.index:\n",
    "    if mir in dcsmirs:\n",
    "        ps, pe = majorcs[mir]\n",
    "    else:\n",
    "        ps, pe = preposition[mir]\n",
    "    priseq = constseqs[mir].replace('T','U')\n",
    "    strt = [ 1 if s=='M' else 0 for s in s4.loc[mir,'Secondary structure'] ]\n",
    "    seq5, str5 = priseq[max(0,ps-21):ps+29][::-1], strt[max(0,ps-21):ps+29][::-1]\n",
    "    seq3, str3 = priseq[pe-30:min(125,pe+25)], strt[pe-30:min(125,pe+25)]\n",
    "    pos5, pos3 = range(-20,30)[::-1], range(-25,30)[::-1]\n",
    "    seq5tbl.loc[mir] = pd.Series(dict(zip(pos5,seq5)[::-1]))\n",
    "    seq3tbl.loc[mir] = pd.Series(dict(zip(pos3,seq3)[::-1]))\n",
    "    str5tbl.loc[mir] = pd.Series(dict(zip(pos5,str5)[::-1]))\n",
    "    str3tbl.loc[mir] = pd.Series(dict(zip(pos3,str3)[::-1]))"
   ]
  },
  {
   "cell_type": "code",
   "execution_count": 58,
   "metadata": {},
   "outputs": [],
   "source": [
    "seq5tbl = seq5tbl.fillna('')\n",
    "str5tbl = str5tbl.fillna('')\n",
    "seq3tbl = seq3tbl.fillna('')\n",
    "str3tbl = str3tbl.fillna('')"
   ]
  },
  {
   "cell_type": "code",
   "execution_count": 59,
   "metadata": {},
   "outputs": [],
   "source": [
    "def count_len(symstr):\n",
    "    return sum([symstr.count(s) for s in 'MS'])"
   ]
  },
  {
   "cell_type": "code",
   "execution_count": 60,
   "metadata": {},
   "outputs": [],
   "source": [
    "def find_ug(mir, pos):\n",
    "    seq = ''.join(seq5tbl.loc[mir,range(pos,pos+2)].fillna(''))\n",
    "    return seq=='UG'"
   ]
  },
  {
   "cell_type": "code",
   "execution_count": 72,
   "metadata": {},
   "outputs": [],
   "source": [
    "def find_ugu(mir, pos):\n",
    "    seq = ''.join(seq5tbl.loc[mir,range(pos,pos+3)])\n",
    "    return (seq=='UGU' or seq=='GUG')"
   ]
  },
  {
   "cell_type": "code",
   "execution_count": 62,
   "metadata": {},
   "outputs": [],
   "source": [
    "def find_cnnc(mir, pos):\n",
    "    seq = ''.join(seq3tbl.loc[mir,range(pos-3,pos+1)].fillna(''))\n",
    "    return bool(re.search('C[A-Z][A-Z]C', seq))"
   ]
  },
  {
   "cell_type": "code",
   "execution_count": 63,
   "metadata": {},
   "outputs": [
    {
     "data": {
      "text/html": [
       "<div>\n",
       "<style scoped>\n",
       "    .dataframe tbody tr th:only-of-type {\n",
       "        vertical-align: middle;\n",
       "    }\n",
       "\n",
       "    .dataframe tbody tr th {\n",
       "        vertical-align: top;\n",
       "    }\n",
       "\n",
       "    .dataframe thead th {\n",
       "        text-align: right;\n",
       "    }\n",
       "</style>\n",
       "<table border=\"1\" class=\"dataframe\">\n",
       "  <thead>\n",
       "    <tr style=\"text-align: right;\">\n",
       "      <th></th>\n",
       "      <th>5p arm (5' to 3')</th>\n",
       "      <th>3p arm (3' to 5')</th>\n",
       "      <th>DODGERS score</th>\n",
       "    </tr>\n",
       "    <tr>\n",
       "      <th>DODGERS motif</th>\n",
       "      <th></th>\n",
       "      <th></th>\n",
       "      <th></th>\n",
       "    </tr>\n",
       "  </thead>\n",
       "  <tbody>\n",
       "    <tr>\n",
       "      <th>UGCGCG</th>\n",
       "      <td>UGC</td>\n",
       "      <td>GCG</td>\n",
       "      <td>100.000000</td>\n",
       "    </tr>\n",
       "    <tr>\n",
       "      <th>UACGUG</th>\n",
       "      <td>UAC</td>\n",
       "      <td>GUG</td>\n",
       "      <td>99.309250</td>\n",
       "    </tr>\n",
       "    <tr>\n",
       "      <th>CUCGCG</th>\n",
       "      <td>CUC</td>\n",
       "      <td>GCG</td>\n",
       "      <td>95.926412</td>\n",
       "    </tr>\n",
       "  </tbody>\n",
       "</table>\n",
       "</div>"
      ],
      "text/plain": [
       "              5p arm (5' to 3') 3p arm (3' to 5')  DODGERS score\n",
       "DODGERS motif                                                   \n",
       "UGCGCG                      UGC               GCG     100.000000\n",
       "UACGUG                      UAC               GUG      99.309250\n",
       "CUCGCG                      CUC               GCG      95.926412"
      ]
     },
     "execution_count": 63,
     "metadata": {},
     "output_type": "execute_result"
    }
   ],
   "source": [
    "scotbl = pd.ExcelFile('supplementary/Kwon_2018_s4.xlsx').parse('DODGERS scores',header=5,\n",
    "                                                              index_col=2)\n",
    "scotbl.head(3)"
   ]
  },
  {
   "cell_type": "code",
   "execution_count": 64,
   "metadata": {},
   "outputs": [],
   "source": [
    "def matching_bases(st, en, symstr):\n",
    "    str5p = symstr[st-1:]\n",
    "    str3p = symstr[:en][::-1]\n",
    "    i,j = 0,0\n",
    "    match = {}\n",
    "    while i<len(str5p) and j<len(str3p):\n",
    "        if str5p[i]=='L' or str3p[j]=='L':\n",
    "            break\n",
    "        if str5p[i]!='A' and str3p[j]!='A':\n",
    "            match[i]=j; i+=1; j+=1\n",
    "        elif str5p[i]=='A':\n",
    "            i+=1\n",
    "        elif str3p[j]=='A':\n",
    "            j+=1\n",
    "    return {i+st:en-j for i,j in match.items()}        "
   ]
  },
  {
   "cell_type": "code",
   "execution_count": 65,
   "metadata": {},
   "outputs": [],
   "source": [
    "def get_ghgs(mir):\n",
    "    symstr = s4.loc[mir, 'Secondary structure']\n",
    "    bjs = symstr.find('M')+1\n",
    "    bje = symstr.rfind('M')+1\n",
    "    matches = matching_bases(bjs,bje,symstr)\n",
    "    priseq = constseqs[mir].replace('T','U')\n",
    "    if mir in dcsmirs:\n",
    "        ps = majorcs[mir][0]\n",
    "    else:\n",
    "        ps = preposition[mir][0]\n",
    "    if len(matches)<3:\n",
    "        return {}\n",
    "    end = sorted(matches.keys())[-3]\n",
    "    ghgs = {}\n",
    "    for st in range(bjs,end+1):\n",
    "        if st not in matches:\n",
    "            continue\n",
    "        if all([((st+i),(matches[st]-i)) in matches.items() for i in range(3)]):\n",
    "            if st<ps:\n",
    "                pos = -count_len(symstr[st-1:ps-1])\n",
    "            else:\n",
    "                pos = count_len(symstr[ps-1:st-1])\n",
    "            ghg5p = priseq[st-1:st+2]\n",
    "            ghg3p = priseq[matches[st]-3:matches[st]][::-1]\n",
    "            ghgseq = ghg5p+ghg3p\n",
    "            ghgs[pos+1] = scotbl.loc[ghgseq,'DODGERS score']\n",
    "    return ghgs"
   ]
  },
  {
   "cell_type": "code",
   "execution_count": 66,
   "metadata": {},
   "outputs": [],
   "source": [
    "ghgtbl = {}\n",
    "for mir in s2.index:\n",
    "    ghgtbl[mir] = get_ghgs(mir)\n",
    "ghgtbl = pd.DataFrame(ghgtbl).T"
   ]
  },
  {
   "cell_type": "code",
   "execution_count": 67,
   "metadata": {},
   "outputs": [],
   "source": [
    "GHGCUT = 38\n",
    "def find_ghg(mir, pos): \n",
    "    return (ghgtbl.loc[mir,pos-1]>=GHGCUT)"
   ]
  },
  {
   "cell_type": "code",
   "execution_count": 73,
   "metadata": {},
   "outputs": [],
   "source": [
    "motifs = [ 'CNNC', 'UG', 'GHG', 'UGU' ]\n",
    "ranges = { 'UG':range(-15,-12),'UGU':range(20,23),'GHG':range(-6,-3), 'CNNC':range(-18,-15) }\n",
    "funcs = { 'UG':find_ug, 'UGU':find_ugu, 'GHG':find_ghg, 'CNNC':find_cnnc }"
   ]
  },
  {
   "cell_type": "code",
   "execution_count": 70,
   "metadata": {},
   "outputs": [
    {
     "name": "stdout",
     "output_type": "stream",
     "text": [
      "{'UG': 0.0848167584160793, 'GHG': 0.27494183965640656, 'UGU': 0.04325237829730769, 'CNNC': 0.06631456933441403}\n"
     ]
    }
   ],
   "source": [
    "basals = {}\n",
    "allseqs = constseqs.values()\n",
    "for motif,r in zip(motifs,['C[A-Z][A-Z]C','TG','[A-Z][^G]G','TGT|GTG']):\n",
    "    if motif=='GHG':\n",
    "        allcase = ghgtbl.apply(lambda x:x>=GHGCUT).sum().sum()\n",
    "        total = sum([s4.loc[m,'Secondary structure'].find('L')\\\n",
    "                     -s4.loc[m,'Secondary structure'].find('M')-1 for m in s2.index])\n",
    "        basals[motif] = allcase/total\n",
    "    else:\n",
    "        l = len(motif)\n",
    "        allcase = sum([bool(re.search(r,s[i:i+l])) for i in range(125-l+1) for s in allseqs])\n",
    "        basals[motif] = allcase/len(allseqs)/(125-l+1)\n",
    "print basals"
   ]
  },
  {
   "cell_type": "code",
   "execution_count": 74,
   "metadata": {},
   "outputs": [],
   "source": [
    "ysd = defaultdict(list)\n",
    "for motif in motifs:\n",
    "    for i,pos in enumerate(ranges[motif]):\n",
    "        l = []\n",
    "        for mir in s3.index:\n",
    "            if funcs[motif](mir,pos):\n",
    "                l.append(mir)\n",
    "        ysd[motif].append(l)"
   ]
  },
  {
   "cell_type": "code",
   "execution_count": 75,
   "metadata": {},
   "outputs": [],
   "source": [
    "mirls =  [ dcsmirs, nodcs ]\n",
    "labels = [ 'Productive', 'Unproductive' ]\n",
    "arms = { 'UG':'5p', 'UGU':'5p', 'GHG':'3p', 'CNNC':'3p' }\n",
    "cmap = custom_cmap(['#404040','#f0f0f0','#f0f0f0','#de2d26'], nspace=3)"
   ]
  },
  {
   "cell_type": "code",
   "execution_count": 76,
   "metadata": {},
   "outputs": [],
   "source": [
    "entbls = defaultdict(lambda: pd.DataFrame())\n",
    "for motif in motifs:\n",
    "    basal = basals[motif]\n",
    "    for mirl,label in zip(mirls,labels):\n",
    "        for j in range(len(ysd[motif])):\n",
    "            freq = len([m for m in mirl if m in ysd[motif][j]])/len(mirl)\n",
    "            entbls[motif].loc[label,ranges[motif][j]] = np.log2(freq/basal)"
   ]
  },
  {
   "cell_type": "code",
   "execution_count": 78,
   "metadata": {
    "scrolled": true
   },
   "outputs": [
    {
     "data": {
      "image/png": "[encoded data removed]",
      "text/plain": [
       "<matplotlib.figure.Figure at 0x7ff79254d510>"
      ]
     },
     "metadata": {},
     "output_type": "display_data"
    }
   ],
   "source": [
    "fig = plt.figure(figsize=(2.3,2))\n",
    "gs = gridspec.GridSpec(2, 2)\n",
    "axes = [ fig.add_subplot(gs[i]) for i in range(4) ]\n",
    "for motif,ax in zip(['UG','GHG','UGU','CNNC'],axes):\n",
    "    im = ax.pcolor(entbls[motif],cmap=cmap,vmax=1.5,vmin=-1.5)\n",
    "    ax.set_xticks(np.arange(len(ranges[motif]))+.5)\n",
    "    ax.set_xticklabels([i if i<0 else '+%s'%(i+1) for i in ranges[motif]],fontsize=10)\n",
    "    ax.tick_params(left='off',bottom='off')\n",
    "    ax.spines['left'].set_visible(False); ax.spines['bottom'].set_visible(False)\n",
    "    motifn = motif.replace('GHG','mGHG')\n",
    "    #ax.set_title('%s (%s)'%(motifn,arms[motif]),fontsize=11)\n",
    "    ax.set_title(motifn,fontsize=11)\n",
    "    ax.set_yticks([])\n",
    "    ax.invert_yaxis()\n",
    "\n",
    "for ax in [axes[0],axes[2]]:\n",
    "    ax.set_yticks(np.arange(len(mirls))+.5)\n",
    "    ax.set_yticklabels(['Productive','Failed'], fontsize=11)\n",
    "axcb = fig.add_axes([.56,.15,.34,.05])\n",
    "cb = plt.colorbar(im, cax=axcb, orientation='horizontal')\n",
    "cb.set_ticks([-1,0,1]); cb.solids.set_rasterized(True); axcb.tick_params(labelsize=10)\n",
    "fig.delaxes(axes[3])\n",
    "fig.text(.73,.24,'Enrichment',ha='center',fontsize=10)\n",
    "fig.subplots_adjust(wspace=.3,hspace=2)\n",
    "#fig.savefig(resultpath + '210112_f2e__primary_sequence_motif.pdf')#,dpi=300)"
   ]
  },
  {
   "cell_type": "markdown",
   "metadata": {},
   "source": [
    "## F. Combination analysis"
   ]
  },
  {
   "cell_type": "code",
   "execution_count": 85,
   "metadata": {
    "scrolled": true
   },
   "outputs": [
    {
     "name": "stdout",
     "output_type": "stream",
     "text": [
      "CNNC 623\n",
      "UG 250\n",
      "GHG 647\n",
      "UGU 455\n"
     ]
    }
   ],
   "source": [
    "ranges = { 'UG':[-14],'UGU':range(20,25),'GHG':[-5], 'CNNC':range(-18,-15) }\n",
    "motmirs = {}\n",
    "for motif in motifs:\n",
    "    ml = []\n",
    "    for mir in s3.index:\n",
    "        for pos in ranges[motif]:\n",
    "            if funcs[motif](mir,pos):\n",
    "                ml.append(mir)\n",
    "                break\n",
    "    print motif, len(ml)\n",
    "    motmirs[motif] = ml"
   ]
  },
  {
   "cell_type": "code",
   "execution_count": 100,
   "metadata": {},
   "outputs": [
    {
     "data": {
      "text/plain": [
       "826"
      ]
     },
     "execution_count": 100,
     "metadata": {},
     "output_type": "execute_result"
    }
   ],
   "source": [
    "len([m for m in s3.index if 'LS' in mirmot[m]])"
   ]
  },
  {
   "cell_type": "code",
   "execution_count": 87,
   "metadata": {},
   "outputs": [],
   "source": [
    "mirmot = defaultdict(list)\n",
    "for mir in dcsmirs+nodcs:\n",
    "    if bpfreq5.loc[mir,range(-13,0)].sum()>=10 and bpfreq3.loc[mir,range(-11,0)].sum()>=8:\n",
    "        mirmot[mir].append('LS')\n",
    "    if mir in motmirs['GHG']:\n",
    "        mirmot[mir].append('GHG')\n",
    "    if mir in motmirs['UG']:\n",
    "        mirmot[mir].append('UG')\n",
    "    if mir in motmirs['UGU']:\n",
    "        mirmot[mir].append('UGU')"
   ]
  },
  {
   "cell_type": "code",
   "execution_count": 88,
   "metadata": {},
   "outputs": [
    {
     "name": "stdout",
     "output_type": "stream",
     "text": [
      " 46 479\n",
      "LS 88 178\n",
      "GHG 27 139\n",
      "UG 7 46\n",
      "UGU 29 128\n",
      "LS GHG 109 121\n",
      "LS UG 22 21\n",
      "LS UGU 41 41\n",
      "GHG UG 7 15\n",
      "GHG UGU 17 26\n",
      "UG UGU 6 13\n",
      "LS GHG UG 40 16\n",
      "LS GHG UGU 78 19\n",
      "LS UG UGU 17 7\n",
      "GHG UG UGU 2 3\n",
      "LS GHG UG UGU 24 4\n"
     ]
    }
   ],
   "source": [
    "com0 = [ [] ]\n",
    "com1 = [ ['LS'], ['GHG'], ['UG'], ['UGU'] ]\n",
    "com2 = [ ['LS','GHG'],['LS','UG'],['LS','UGU'],['GHG','UG'],['GHG','UGU'],['UG','UGU'] ]\n",
    "com3 = [ ['LS','GHG','UG'],['LS','GHG','UGU'],['LS','UG','UGU'],['GHG','UG','UGU'] ]\n",
    "com4 = [ ['LS','GHG','UG','UGU'] ]\n",
    "comall =  com0+com1+com2+com3+com4\n",
    "for com in comall:\n",
    "    cnt1 = len([ mir for mir in dcsmirs if mirmot[mir]==com])\n",
    "    cnt2 = len([ mir for mir in nodcs if mirmot[mir]==com])\n",
    "    print ' '.join(com), cnt1, cnt2"
   ]
  },
  {
   "cell_type": "code",
   "execution_count": 90,
   "metadata": {},
   "outputs": [],
   "source": [
    "mirl = s3.index\n",
    "sortcom = sorted(comall,key=lambda x:np.average([effs[m] for m in mirl if mirmot[m]==x]),\n",
    "                 reverse=True)\n",
    "sortcom = [ com for com in sortcom if len([m for m in mirl if mirmot[m]==com])>=5 ]\n",
    "ys1 = [ len([m for m in mirl if mirmot[m]==com]) for com in sortcom ]\n",
    "\n",
    "mirls = [ [m for m in mirl if mirmot[m]==com] for com in sortcom ]\n",
    "xs = range(len(sortcom))\n",
    "ys2 = [ np.average([effs[m] for m in ml]) for ml in mirls ]\n",
    "ye2 = [ sem([effs[m] for m in ml]) for ml in mirls ]\n",
    "ys3 = [ np.average([homs[m] for m in ml]) for ml in mirls ]\n",
    "ye3 = [ sem([homs[m] for m in ml]) for ml in mirls ]"
   ]
  },
  {
   "cell_type": "code",
   "execution_count": 98,
   "metadata": {
    "scrolled": true
   },
   "outputs": [
    {
     "data": {
      "image/png": "[encoded data removed]",
      "text/plain": [
       "<matplotlib.figure.Figure at 0x7ff72f4f0910>"
      ]
     },
     "metadata": {},
     "output_type": "display_data"
    }
   ],
   "source": [
    "fig = plt.figure(figsize=(4.4,3.8))\n",
    "gs = gridspec.GridSpec(5,1)\n",
    "ax1 = plt.subplot2grid((5,1),(0,0),colspan=1,rowspan=2)\n",
    "ax2 = plt.subplot2grid((5,1),(2,0),colspan=1,rowspan=1)\n",
    "ax3 = plt.subplot2grid((5,1),(3,0),colspan=1,rowspan=2)\n",
    "fig.subplots_adjust(hspace=.04, wspace=.35)\n",
    "\n",
    "sortmot = ['LS','UG','GHG','UGU']\n",
    "l = len(motifs)\n",
    "for i, (mots,cnt) in enumerate(zip(sortcom,ys1)):\n",
    "    colors = [ '#242424' if mot in mots else '#bababa' for mot in sortmot ]\n",
    "    ax2.scatter([i]*l, range(l), s=85, color=colors, alpha=.9, linewidth=0)\n",
    "    ax2.text(i,4.5,cnt,ha='center',fontsize=9)\n",
    "ax2.spines['bottom'].set_visible(False)\n",
    "ax2.spines['left'].set_visible(False)\n",
    "ax2.set_ylim(-.6,4.5)\n",
    "ax2.invert_yaxis()\n",
    "ax2.set_xticks([]); ax2.set_yticks([])\n",
    "for i,txt in zip(range(5),['Stable LS','UG','mGHG','UGUG','n =']):\n",
    "    ax2.text(-.7,i,txt,va='center',ha='right',fontsize=10)\n",
    "\n",
    "for ax in [ax1,ax2,ax3]:\n",
    "    ax.set_xlim(-1,len(xs)-.5)\n",
    "    ax.tick_params(bottom='off')\n",
    "    \n",
    "ax1.text(-3.8,2.25,'Cleavage\\nefficiency',va='center',rotation=90,fontsize=11,ha='center')\n",
    "ax3.text(-3.8,.325,'Cleavage\\nhomogeneity',va='center',rotation=90,fontsize=11,ha='center')\n",
    "ax1.set_yticks([1,2,3])\n",
    "ax3.set_yticks([.2,.4,.6])\n",
    "ax3.axhline(.25,color='k',ls='--',lw=1)\n",
    "ax1.axhline(1.5,color='k',ls='--',lw=1)\n",
    "ax1.errorbar(xs,ys2,yerr=ye2,ms=5,marker='o',lw=0,elinewidth=1.3,color='#502585',zorder=3)\n",
    "ax3.errorbar(xs,ys3,yerr=ye3,ms=5,marker='o',lw=0,elinewidth=1.3,color='#de2d26',zorder=3)\n",
    "ax1.bar(xs,[3.6]*len(xs),width=.9,color='#bcbcbc',alpha=.2)\n",
    "ax3.bar(xs,[.75]*len(xs),width=.9,color='#bcbcbc',alpha=.2)\n",
    "for ax in [ax1,ax3]:\n",
    "    ax.set_xticks([])\n",
    "    ax.spines['left'].set_visible(False)\n",
    "ax1.spines['bottom'].set_bounds(-.6,len(xs)-.5)\n",
    "ax3.spines['top'].set_bounds(-.6,len(xs)-.5)\n",
    "ax3.invert_yaxis()\n",
    "ax3.spines['bottom'].set_visible(False)\n",
    "ax3.spines['top'].set_visible(True)\n",
    "l = lines.Line2D([-.5,6.5],[3.8,3.8],lw=1,color='k')\n",
    "ax1.text(3,4,'Stable lower stem +\\n$\\geq$1 sequence motif',ha='center')\n",
    "ax1.add_line(l); l.set_clip_on(False)\n",
    "fig.savefig(resultpath + '210112_f2f__combination.pdf')#,dpi=300)"
   ]
  },
  {
   "cell_type": "code",
   "execution_count": null,
   "metadata": {},
   "outputs": [],
   "source": []
  },
  {
   "cell_type": "code",
   "execution_count": null,
   "metadata": {},
   "outputs": [],
   "source": []
  }
 ],
 "metadata": {
  "kernelspec": {
   "display_name": "Python 2",
   "language": "python",
   "name": "python2"
  },
  "language_info": {
   "codemirror_mode": {
    "name": "ipython",
    "version": 2
   },
   "file_extension": ".py",
   "mimetype": "text/x-python",
   "name": "python",
   "nbconvert_exporter": "python",
   "pygments_lexer": "ipython2",
   "version": "2.7.18"
  }
 },
 "nbformat": 4,
 "nbformat_minor": 2
}
