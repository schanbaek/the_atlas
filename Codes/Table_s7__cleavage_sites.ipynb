{
 "cells": [
  {
   "cell_type": "markdown",
   "metadata": {},
   "source": [
    "# Supplementary Table 7. Cleavage sites\n",
    "1. Load information\n",
    "2. Cleavage site\n",
    "3. Productive Cleavage Specificity\n",
    "4. Build table"
   ]
  },
  {
   "cell_type": "code",
   "execution_count": 1,
   "metadata": {},
   "outputs": [
    {
     "name": "stdout",
     "output_type": "stream",
     "text": [
      "Last revised by Seungchan Baek at 2020-10-13.\n"
     ]
    }
   ],
   "source": [
    "import time\n",
    "today = time.strftime('%Y-%m-%d')\n",
    "name = 'Seungchan Baek'\n",
    "print 'Last revised by %s at %s.' % (name, today)"
   ]
  },
  {
   "cell_type": "code",
   "execution_count": 2,
   "metadata": {},
   "outputs": [
    {
     "name": "stdout",
     "output_type": "stream",
     "text": [
      "/casa/bsc/projects/1_DCS/2004_paper_prep\n"
     ]
    }
   ],
   "source": [
    "home = '/casa/bsc/projects/1_DCS/2004_paper_prep/'\n",
    "%cd $home"
   ]
  },
  {
   "cell_type": "code",
   "execution_count": 3,
   "metadata": {},
   "outputs": [
    {
     "name": "stdout",
     "output_type": "stream",
     "text": [
      "resultpath: results/201013/\n"
     ]
    }
   ],
   "source": [
    "from __future__ import division\n",
    "import sys; sys.path.append('/casa/bsc/notebooks/')\n",
    "from util import *\n",
    "from basic import gen_result_dir\n",
    "resultpath = gen_result_dir('results/')\n",
    "print 'resultpath:', resultpath"
   ]
  },
  {
   "cell_type": "code",
   "execution_count": 4,
   "metadata": {},
   "outputs": [],
   "source": [
    "import pandas as pd\n",
    "import numpy as np\n",
    "import re\n",
    "import gzip\n",
    "from matplotlib import pyplot as plt\n",
    "from matplotlib import gridspec, lines\n",
    "%matplotlib inline"
   ]
  },
  {
   "cell_type": "code",
   "execution_count": 5,
   "metadata": {},
   "outputs": [],
   "source": [
    "LIBRARIES = [ 'set1', 'set2', 'set3', 'set4', 'set5' ]"
   ]
  },
  {
   "cell_type": "markdown",
   "metadata": {},
   "source": [
    "#### Import supplementary tables"
   ]
  },
  {
   "cell_type": "code",
   "execution_count": 6,
   "metadata": {},
   "outputs": [
    {
     "name": "stdout",
     "output_type": "stream",
     "text": [
      "s1:\t5p mature, 5p sequence, 3p mature, 3p sequence, Note\n",
      "s2:\tChr, Start, End, Strand, Construct sequence, 100way phyloP scores (pre-miRNA -/+ 100nt)\n",
      "s4:\tPri-miRNA, rstart, rend, pilot-1, pilot-2, set1-1\n",
      "s5:\t117, 118, 119, 120, 121, 122, 123, 124, 125, symbolized structure\n",
      "s6:\tRelative position from miRBase site, Cleavage Specificity, Cleavage Imbalance, Cleavage type\n"
     ]
    }
   ],
   "source": [
    "s1 = pd.read_csv('supplementary/201012_s1_pri-info.csv', header=1, index_col=0)\n",
    "s2 = pd.read_csv('supplementary/201012_s2_pri-construct.csv', header=1, index_col=0)\n",
    "s4 = pd.read_csv('supplementary/201012_s4_cleavage-product.csv', header=1)\n",
    "s5 = pd.read_csv('supplementary/201012_s5_pri-structure.csv', header=1, index_col=0)\n",
    "s6 = pd.read_csv('supplementary/201012_s6_cleavage-patterns.csv', header=1, index_col=0)\n",
    "print 's1:\\t%s'%', '.join(list(s1.columns))\n",
    "print 's2:\\t%s'%', '.join(list(s2.columns)[:6])\n",
    "print 's4:\\t%s'%', '.join(list(s4.columns)[:6])\n",
    "print 's5:\\t%s'%', '.join(list(s5.columns)[-10:])\n",
    "print 's6:\\t%s'%', '.join(list(s6.columns)[-4:])"
   ]
  },
  {
   "cell_type": "code",
   "execution_count": 7,
   "metadata": {},
   "outputs": [],
   "source": [
    "def get_pre_position(pri):\n",
    "    constructseq = s2.loc[pri, 'Construct sequence'].replace('T','U')\n",
    "    seq5p = s1.loc[pri, '5p sequence']\n",
    "    seq3p = s1.loc[pri, '3p sequence']\n",
    "    if seq5p=='n.a.' or constructseq.find(seq5p)==-1:\n",
    "        prestart = 0\n",
    "    else:\n",
    "        prestart = constructseq.find(seq5p)+1\n",
    "    if seq3p=='n.a.' or constructseq.find(seq3p)==-1:\n",
    "        preend = 0\n",
    "    else:\n",
    "        preend = constructseq.rfind(seq3p)+len(seq3p)\n",
    "    return prestart, preend"
   ]
  },
  {
   "cell_type": "code",
   "execution_count": 8,
   "metadata": {},
   "outputs": [
    {
     "name": "stdout",
     "output_type": "stream",
     "text": [
      "1881\n"
     ]
    }
   ],
   "source": [
    "allpris = s1.index\n",
    "preposition = { pri:get_pre_position(pri) for pri in allpris }\n",
    "print len(preposition)"
   ]
  },
  {
   "cell_type": "code",
   "execution_count": 11,
   "metadata": {},
   "outputs": [
    {
     "name": "stdout",
     "output_type": "stream",
     "text": [
      "239 11 157 281 519\n"
     ]
    }
   ],
   "source": [
    "mirtrons = [ pri for pri in allpris if s1.loc[pri,'Note'].find('Mirtron')>=0 ]\n",
    "capped = [ pri for pri in allpris if s1.loc[pri,'Note'].find('Capped miRNA')>=0 ]\n",
    "drosensitive = [ pri for pri in allpris if s1.loc[pri,'Note'].find('DROSHA KO-sensitive')>=0 ]\n",
    "fclipdetected = [ pri for pri in allpris if s1.loc[pri,'Note'].find('fCLIP site-determined')>=0 ]\n",
    "dbmirs = [ pri for pri in allpris if s1.loc[pri,'Note'].find('MirGeneDB')>=0 ]\n",
    "print len(mirtrons), len(capped), len(drosensitive), len(fclipdetected), len(dbmirs)"
   ]
  },
  {
   "cell_type": "code",
   "execution_count": 12,
   "metadata": {},
   "outputs": [
    {
     "name": "stdout",
     "output_type": "stream",
     "text": [
      "1881\n"
     ]
    }
   ],
   "source": [
    "priseqs = dict(s2['Construct sequence'])\n",
    "print len(priseqs)"
   ]
  },
  {
   "cell_type": "markdown",
   "metadata": {},
   "source": [
    "### 1. Load information"
   ]
  },
  {
   "cell_type": "code",
   "execution_count": 14,
   "metadata": {},
   "outputs": [
    {
     "name": "stdout",
     "output_type": "stream",
     "text": [
      "1816\n"
     ]
    }
   ],
   "source": [
    "pros = s6['Cleavage Productivity'].to_dict()\n",
    "s6sort = s6.sort_values('Cleavage Specificity')\n",
    "spes = s6sort[~s6sort.index.duplicated(keep='last')]['Cleavage Specificity'].to_dict()\n",
    "overlap = [ mir for mir in pros if mir in spes ]\n",
    "print len(overlap)"
   ]
  },
  {
   "cell_type": "code",
   "execution_count": 15,
   "metadata": {},
   "outputs": [
    {
     "name": "stdout",
     "output_type": "stream",
     "text": [
      "Productive: 512, Unproductive: 1304\n",
      "Single: 445, Multiple: 67, Inverted: 156, Nick: 107, Non-specific: 1041\n",
      "5' nick: 72, 3' nick: 35\n"
     ]
    }
   ],
   "source": [
    "single = set(s6[s6['Cleavage type']=='single'].index)\n",
    "multi = set(s6[s6['Cleavage type']=='multiple'].index)\n",
    "inverted = set(s6[s6['Cleavage type']=='inverted'].index)\n",
    "nick5 = set(s6[s6['Cleavage type']=='nick5'].index)\n",
    "nick3 = set(s6[s6['Cleavage type']=='nick3'].index)\n",
    "nick = list(nick5) + list(nick3)\n",
    "nonspec = set(s6[s6['Cleavage type']=='non-specific'].index)\n",
    "dcsmirs = list(single) + list(multi)\n",
    "nodcs = list(inverted) + list(nick) + list(nonspec)\n",
    "print 'Productive: %s, Unproductive: %s' % (len(dcsmirs), len(nodcs))\n",
    "print 'Single: %s, Multiple: %s, Inverted: %s, Nick: %s, Non-specific: %s'\\\n",
    "% (len(single), len(multi), len(inverted), len(nick), len(nonspec))\n",
    "print \"5' nick: %s, 3' nick: %s\" % (len(nick5), len(nick3))"
   ]
  },
  {
   "cell_type": "code",
   "execution_count": 16,
   "metadata": {},
   "outputs": [],
   "source": [
    "fclipexcel = pd.ExcelFile('supplementary/Kim_2017_s2.xlsx')\n",
    "fclip293t = fclipexcel.parse('HEK293T_miRBase', index_col=0)\n",
    "fcliphela = fclipexcel.parse('HeLa_miRBase', index_col=0)\n",
    "both293t = fclip293t[(fclip293t['Group5p']!='Unidentified')\n",
    "                     &(fclip293t['Group3p']!='Unidentified')]\n",
    "bothhela = fcliphela[(fcliphela['Group5p']!='Unidentified')\n",
    "                     &(fcliphela['Group3p']!='Unidentified')]"
   ]
  },
  {
   "cell_type": "markdown",
   "metadata": {},
   "source": [
    "### 2. Cleavage site"
   ]
  },
  {
   "cell_type": "code",
   "execution_count": 17,
   "metadata": {},
   "outputs": [],
   "source": [
    "altcut = .26"
   ]
  },
  {
   "cell_type": "code",
   "execution_count": 19,
   "metadata": {},
   "outputs": [
    {
     "data": {
      "text/html": [
       "<div>\n",
       "<style scoped>\n",
       "    .dataframe tbody tr th:only-of-type {\n",
       "        vertical-align: middle;\n",
       "    }\n",
       "\n",
       "    .dataframe tbody tr th {\n",
       "        vertical-align: top;\n",
       "    }\n",
       "\n",
       "    .dataframe thead th {\n",
       "        text-align: right;\n",
       "    }\n",
       "</style>\n",
       "<table border=\"1\" class=\"dataframe\">\n",
       "  <thead>\n",
       "    <tr style=\"text-align: right;\">\n",
       "      <th></th>\n",
       "      <th>Chr</th>\n",
       "      <th>miRBase 5' site</th>\n",
       "      <th>miRBase 3' site</th>\n",
       "      <th>IVP 5' site</th>\n",
       "      <th>IVP 3' site</th>\n",
       "      <th>fCLIP 5' site</th>\n",
       "      <th>fCLIP 3' site</th>\n",
       "      <th>Strand</th>\n",
       "      <th>Type</th>\n",
       "    </tr>\n",
       "  </thead>\n",
       "  <tbody>\n",
       "    <tr>\n",
       "      <th>hsa-let-7a-1</th>\n",
       "      <td>chr9</td>\n",
       "      <td>94175962</td>\n",
       "      <td>94176033</td>\n",
       "      <td>94175962</td>\n",
       "      <td>94176033</td>\n",
       "      <td>94175962</td>\n",
       "      <td>94176033</td>\n",
       "      <td>+</td>\n",
       "      <td>I</td>\n",
       "    </tr>\n",
       "    <tr>\n",
       "      <th>hsa-let-7a-2</th>\n",
       "      <td>chr11</td>\n",
       "      <td>122146589</td>\n",
       "      <td>122146523</td>\n",
       "      <td>122146589</td>\n",
       "      <td>122146523</td>\n",
       "      <td>122146589</td>\n",
       "      <td>122146523</td>\n",
       "      <td>-</td>\n",
       "      <td>I</td>\n",
       "    </tr>\n",
       "    <tr>\n",
       "      <th>hsa-let-7a-3</th>\n",
       "      <td>chr22</td>\n",
       "      <td>46112752</td>\n",
       "      <td>46112820</td>\n",
       "      <td>46112752</td>\n",
       "      <td>46112821</td>\n",
       "      <td>46112752</td>\n",
       "      <td>46112820, 46112821</td>\n",
       "      <td>+</td>\n",
       "      <td>I</td>\n",
       "    </tr>\n",
       "    <tr>\n",
       "      <th>hsa-let-7b</th>\n",
       "      <td>chr22</td>\n",
       "      <td>46113691</td>\n",
       "      <td>46113766</td>\n",
       "      <td>46113691</td>\n",
       "      <td>46113765</td>\n",
       "      <td>46113691, 46113699</td>\n",
       "      <td>46113765</td>\n",
       "      <td>+</td>\n",
       "      <td>III</td>\n",
       "    </tr>\n",
       "    <tr>\n",
       "      <th>hsa-let-7d</th>\n",
       "      <td>chr9</td>\n",
       "      <td>94178841</td>\n",
       "      <td>94178916</td>\n",
       "      <td>94178841, 94178840</td>\n",
       "      <td>94178915, 94178916</td>\n",
       "      <td>94178841</td>\n",
       "      <td>94178915</td>\n",
       "      <td>+</td>\n",
       "      <td>II</td>\n",
       "    </tr>\n",
       "  </tbody>\n",
       "</table>\n",
       "</div>"
      ],
      "text/plain": [
       "                Chr miRBase 5' site miRBase 3' site         IVP 5' site  \\\n",
       "hsa-let-7a-1   chr9        94175962        94176033            94175962   \n",
       "hsa-let-7a-2  chr11       122146589       122146523           122146589   \n",
       "hsa-let-7a-3  chr22        46112752        46112820            46112752   \n",
       "hsa-let-7b    chr22        46113691        46113766            46113691   \n",
       "hsa-let-7d     chr9        94178841        94178916  94178841, 94178840   \n",
       "\n",
       "                     IVP 3' site       fCLIP 5' site       fCLIP 3' site  \\\n",
       "hsa-let-7a-1            94176033            94175962            94176033   \n",
       "hsa-let-7a-2           122146523           122146589           122146523   \n",
       "hsa-let-7a-3            46112821            46112752  46112820, 46112821   \n",
       "hsa-let-7b              46113765  46113691, 46113699            46113765   \n",
       "hsa-let-7d    94178915, 94178916            94178841            94178915   \n",
       "\n",
       "             Strand Type  \n",
       "hsa-let-7a-1      +    I  \n",
       "hsa-let-7a-2      -    I  \n",
       "hsa-let-7a-3      +    I  \n",
       "hsa-let-7b        +  III  \n",
       "hsa-let-7d        +   II  "
      ]
     },
     "execution_count": 19,
     "metadata": {},
     "output_type": "execute_result"
    }
   ],
   "source": [
    "s7 = pd.DataFrame()\n",
    "s6sort = s6.sort_values('Cleavage Specificity',ascending=False)\n",
    "s6sig = s6sort[s6sort['Cleavage Specificity']>=altcut]\n",
    "for mir in sorted(dcsmirs):\n",
    "    ch, st, en, strand = get_pre_annot(mir)\n",
    "    ivp5cs = s6sig.loc[[mir],\"5' cleavage site\"].tolist()\n",
    "    ivp3cs = s6sig.loc[[mir],\"3' cleavage site\"].tolist()\n",
    "    if mir in both293t.index:\n",
    "        fcl5cs = map(int, str(both293t.loc[mir, 'fCLIPPosition5p']).split(';'))\n",
    "        fcl3cs = map(int, str(both293t.loc[mir, 'fCLIPPosition3p']).split(';'))\n",
    "    elif mir in bothhela.index:\n",
    "        fcl5cs = map(int, str(bothhela.loc[mir, 'fCLIPPosition5p']).split(';'))\n",
    "        fcl3cs = map(int, str(bothhela.loc[mir, 'fCLIPPosition3p']).split(';'))\n",
    "    else:\n",
    "        fcl5cs, fcl3cs = [], []\n",
    "    \n",
    "    s7.loc[mir, 'Chr'] = ch\n",
    "    if strand=='+':\n",
    "        s7.loc[mir, \"miRBase 5' site\"] = str(st)\n",
    "        s7.loc[mir, \"miRBase 3' site\"] = str(en)\n",
    "    else:\n",
    "        s7.loc[mir, \"miRBase 5' site\"] = str(en)\n",
    "        s7.loc[mir, \"miRBase 3' site\"] = str(st)\n",
    "    s7.loc[mir, \"IVP 5' site\"] = ', '.join(map(str, ivp5cs))\n",
    "    s7.loc[mir, \"IVP 3' site\"] = ', '.join(map(str, ivp3cs))\n",
    "    s7.loc[mir, \"fCLIP 5' site\"] = ', '.join(map(str, fcl5cs))\n",
    "    s7.loc[mir, \"fCLIP 3' site\"] = ', '.join(map(str, fcl3cs))\n",
    "    s7.loc[mir, 'Strand'] = strand\n",
    "    \n",
    "    if ivp5cs and fcl5cs:\n",
    "        if set(ivp5cs)==set(fcl5cs):\n",
    "            t = 'I'\n",
    "        elif set(ivp5cs)>=set(fcl5cs):\n",
    "            t = 'II'\n",
    "        elif set(fcl5cs)>=set(ivp5cs):\n",
    "            t = 'III'\n",
    "        else:\n",
    "            t = 'IV'\n",
    "    else: t = ''\n",
    "    s7.loc[mir, 'Type'] = t\n",
    "s7.head()"
   ]
  },
  {
   "cell_type": "markdown",
   "metadata": {},
   "source": [
    "### 3. Productive Cleavage Specificity"
   ]
  },
  {
   "cell_type": "code",
   "execution_count": 20,
   "metadata": {},
   "outputs": [],
   "source": [
    "window = 3\n",
    "prorange = 5\n",
    "fclrcut = 7\n",
    "ivprcut = 30\n",
    "fcutoff = .01\n",
    "cells = [ '293T','Hela' ]"
   ]
  },
  {
   "cell_type": "code",
   "execution_count": 21,
   "metadata": {},
   "outputs": [
    {
     "data": {
      "text/html": [
       "<div>\n",
       "<style scoped>\n",
       "    .dataframe tbody tr th:only-of-type {\n",
       "        vertical-align: middle;\n",
       "    }\n",
       "\n",
       "    .dataframe tbody tr th {\n",
       "        vertical-align: top;\n",
       "    }\n",
       "\n",
       "    .dataframe thead th {\n",
       "        text-align: right;\n",
       "    }\n",
       "</style>\n",
       "<table border=\"1\" class=\"dataframe\">\n",
       "  <thead>\n",
       "    <tr style=\"text-align: right;\">\n",
       "      <th></th>\n",
       "      <th></th>\n",
       "      <th></th>\n",
       "      <th>set1</th>\n",
       "      <th>set2</th>\n",
       "      <th>set3</th>\n",
       "      <th>set4</th>\n",
       "      <th>set5</th>\n",
       "    </tr>\n",
       "    <tr>\n",
       "      <th>Pri-miRNA</th>\n",
       "      <th>start</th>\n",
       "      <th>end</th>\n",
       "      <th></th>\n",
       "      <th></th>\n",
       "      <th></th>\n",
       "      <th></th>\n",
       "      <th></th>\n",
       "    </tr>\n",
       "  </thead>\n",
       "  <tbody>\n",
       "    <tr>\n",
       "      <th>hsa-let-7a-1</th>\n",
       "      <th>1</th>\n",
       "      <th>8</th>\n",
       "      <td>4</td>\n",
       "      <td>4</td>\n",
       "      <td>0</td>\n",
       "      <td>0</td>\n",
       "      <td>0</td>\n",
       "    </tr>\n",
       "  </tbody>\n",
       "</table>\n",
       "</div>"
      ],
      "text/plain": [
       "                        set1  set2  set3  set4  set5\n",
       "Pri-miRNA    start end                              \n",
       "hsa-let-7a-1 1     8       4     4     0     0     0"
      ]
     },
     "execution_count": 21,
     "metadata": {},
     "output_type": "execute_result"
    }
   ],
   "source": [
    "s4.columns = ['Pri-miRNA','start','end']+list(s4.columns[3:])\n",
    "clvraw = s4.set_index(['Pri-miRNA','start','end'])\n",
    "clvtbl = pd.DataFrame()\n",
    "for lib in LIBRARIES:\n",
    "    clvtbl[lib] = clvraw[['%s-1'%lib,'%s-2'%lib]].sum(axis=1)\n",
    "clvtbl.head(1)"
   ]
  },
  {
   "cell_type": "code",
   "execution_count": 22,
   "metadata": {},
   "outputs": [
    {
     "data": {
      "text/html": [
       "<div>\n",
       "<style scoped>\n",
       "    .dataframe tbody tr th:only-of-type {\n",
       "        vertical-align: middle;\n",
       "    }\n",
       "\n",
       "    .dataframe tbody tr th {\n",
       "        vertical-align: top;\n",
       "    }\n",
       "\n",
       "    .dataframe thead th {\n",
       "        text-align: right;\n",
       "    }\n",
       "</style>\n",
       "<table border=\"1\" class=\"dataframe\">\n",
       "  <thead>\n",
       "    <tr style=\"text-align: right;\">\n",
       "      <th></th>\n",
       "      <th></th>\n",
       "      <th></th>\n",
       "      <th>293T</th>\n",
       "      <th>Hela</th>\n",
       "    </tr>\n",
       "    <tr>\n",
       "      <th>miRNA</th>\n",
       "      <th>start</th>\n",
       "      <th>end</th>\n",
       "      <th></th>\n",
       "      <th></th>\n",
       "    </tr>\n",
       "  </thead>\n",
       "  <tbody>\n",
       "    <tr>\n",
       "      <th>hsa-let-7a-1</th>\n",
       "      <th>93920077</th>\n",
       "      <th>94175961</th>\n",
       "      <td>1</td>\n",
       "      <td>0</td>\n",
       "    </tr>\n",
       "  </tbody>\n",
       "</table>\n",
       "</div>"
      ],
      "text/plain": [
       "                                293T  Hela\n",
       "miRNA        start    end                 \n",
       "hsa-let-7a-1 93920077 94175961     1     0"
      ]
     },
     "execution_count": 22,
     "metadata": {},
     "output_type": "execute_result"
    }
   ],
   "source": [
    "fcols = [ 'chr', 'start', 'end', 'miRNA', 'strand' ]\n",
    "fcliptbl = pd.DataFrame()\n",
    "for cell in cells:\n",
    "    bedfile = 'supplementary/fCLIP/%s/pri_%s.small.bed.gz'%(cell,cell)\n",
    "    ftbl = pd.read_table(gzip.open(bedfile,'rb'), usecols=[0,1,2,3,5], names=fcols)\n",
    "    ftbl['start'] = ftbl['start']+1\n",
    "    ftbl['end'] = ftbl['end']\n",
    "    fcliptbl[cell] = ftbl.groupby(['miRNA', 'start', 'end']).size()\n",
    "fcliptbl = fcliptbl.fillna(0).astype(int)\n",
    "fcliptbl.head(1)"
   ]
  },
  {
   "cell_type": "code",
   "execution_count": 23,
   "metadata": {},
   "outputs": [],
   "source": [
    "def select_lib(mir):\n",
    "    return max(LIBRARIES, key=lambda x: clvtbl.loc[mir,x].sum())"
   ]
  },
  {
   "cell_type": "code",
   "execution_count": 24,
   "metadata": {},
   "outputs": [],
   "source": [
    "def get_relative_pos(mir, c5, c3):\n",
    "    ps, pe, strand = s2.loc[mir, ['Start','End','Strand']]\n",
    "    if strand=='+':\n",
    "        return c5-ps+1, c3-ps+1\n",
    "    return pe-c3+1, pe-c5+1"
   ]
  },
  {
   "cell_type": "code",
   "execution_count": 25,
   "metadata": {},
   "outputs": [],
   "source": [
    "def get_prod_fracs(sub, lib, ps, pe, strand, rcut, fcut, prorange):\n",
    "    frac5, frac3, frach = {}, {}, {}\n",
    "    if strand=='+':\n",
    "        clv5 = sub[(sub['end']-ps+1).apply(abs)<=prorange].astype(int)\n",
    "        clv3 = sub[(sub['start']-pe-1).apply(abs)<=prorange].astype(int)\n",
    "        clvh = sub[(abs(sub['start']-ps)<=prorange)&\n",
    "                   (abs(sub['end']-pe)<=prorange)].astype(int)\n",
    "        if clv5[lib].sum()>=rcut: \n",
    "            frac5 = { e-ps:grp[lib].sum()/clv5[lib].sum() for e,grp in clv5.groupby('end')}\n",
    "        if clv3[lib].sum()>=rcut: \n",
    "            frac3 = { s-pe:grp[lib].sum()/clv3[lib].sum() for s,grp in clv3.groupby('start')}\n",
    "        if clvh[lib].sum()>=rcut: \n",
    "            frach = { (s-ps,e-pe):grp[lib].sum()/clvh[lib].sum() for\n",
    "                      (s,e),grp in clvh.groupby(['start','end']) }\n",
    "    else:\n",
    "        clv5 = sub[(sub['start']-pe-1).apply(abs)<=prorange].astype(int)\n",
    "        clv3 = sub[(sub['end']-ps+1).apply(abs)<=prorange].astype(int)\n",
    "        clvh = sub[(abs(sub['start']-ps)<=prorange)\n",
    "                   &(abs(sub['end']-pe)<=prorange)].astype(int)\n",
    "        if clv5[lib].sum()>=rcut: \n",
    "            frac5 = { pe-s:grp[lib].sum()/clv5[lib].sum() for s,grp in clv5.groupby('start')}\n",
    "        if clv3[lib].sum()>=rcut: \n",
    "            frac3 = { ps-e:grp[lib].sum()/clv3[lib].sum() for e,grp in clv3.groupby('end')}\n",
    "        if clvh[lib].sum()>=rcut: \n",
    "            frach = { (pe-e,ps-s):grp[lib].sum()/clvh[lib].sum() for\n",
    "                      (s,e),grp in clvh.groupby(['start','end']) }\n",
    "    frac5 = { p:f for p,f in frac5.items() if f>=fcut }\n",
    "    frac3 = { p:f for p,f in frac3.items() if f>=fcut }\n",
    "    frach = { p:f for p,f in frach.items() if f>=fcut }    \n",
    "    return (frac5, frac3, frach)"
   ]
  },
  {
   "cell_type": "code",
   "execution_count": 26,
   "metadata": {},
   "outputs": [
    {
     "name": "stdout",
     "output_type": "stream",
     "text": [
      "{0: 0.2857142857142857, -4: 0.14285714285714285, -1: 0.5714285714285714}\n",
      "{0: 0.1, 1: 0.6, 4: 0.1, 5: 0.2}\n",
      "{}\n"
     ]
    }
   ],
   "source": [
    "mir = 'hsa-mir-142'\n",
    "sub = fcliptbl.loc[mir].reset_index()\n",
    "pres, pree, strand = get_pre_annot(mir)[1:4]\n",
    "f5, f3, fh = get_prod_fracs(sub, '293T', pres, pree, strand, fclrcut, fcutoff, prorange)\n",
    "print f5\n",
    "print f3\n",
    "print fh"
   ]
  },
  {
   "cell_type": "code",
   "execution_count": 27,
   "metadata": {},
   "outputs": [
    {
     "name": "stdout",
     "output_type": "stream",
     "text": [
      "{3: 0.026426174496644295, -4: 0.0854026845637584, -3: 0.8416107382550335, -1: 0.015939597315436243, -5: 0.014681208053691275}\n",
      "{1: 0.011968734733756717, 3: 0.8685067578570266, 4: 0.030695326494056343, -3: 0.06497313141182218}\n",
      "{(1, 2): 0.010861132660977503, (0, 0): 0.04809930178432894, (-2, 2): 0.8572536850271528, (2, 2): 0.017067494181536073}\n"
     ]
    }
   ],
   "source": [
    "sub = clvtbl.loc[mir].reset_index()\n",
    "pres, pree = get_relative_pos(mir, get_pre_annot(mir)[1], get_pre_annot(mir)[2])\n",
    "f5, f3, fh = get_prod_fracs(sub, select_lib(mir), pres, pree, '+', ivprcut, fcutoff, prorange)\n",
    "print f5\n",
    "print f3\n",
    "print fh"
   ]
  },
  {
   "cell_type": "code",
   "execution_count": 28,
   "metadata": {},
   "outputs": [
    {
     "name": "stdout",
     "output_type": "stream",
     "text": [
      "248\n"
     ]
    }
   ],
   "source": [
    "fclipmirs = sorted(list(set(fcliptbl.index.get_level_values(0))))\n",
    "fclipfracs = {}\n",
    "for mir in fclipmirs:\n",
    "    sub = fcliptbl.loc[mir].reset_index()\n",
    "    ps, pe, strand = get_pre_annot(mir)[1:4]\n",
    "    frac5, frac3, frach = get_prod_fracs(sub, '293T', ps, pe, strand, fclrcut, fcutoff, prorange)\n",
    "    if sum(map(bool, [frac5,frac3,frach]))>=2:\n",
    "        fclipfracs[mir] = (frac5, frac3, frach)\n",
    "        continue\n",
    "    frac5, frac3, frach = get_prod_fracs(sub, 'Hela', ps, pe, strand, fclrcut, fcutoff, prorange)\n",
    "    if sum(map(bool, [frac5,frac3,frach]))>=2:\n",
    "        fclipfracs[mir] = (frac5, frac3, frach)\n",
    "print len(fclipfracs)"
   ]
  },
  {
   "cell_type": "code",
   "execution_count": 29,
   "metadata": {},
   "outputs": [
    {
     "name": "stdout",
     "output_type": "stream",
     "text": [
      "244\n"
     ]
    }
   ],
   "source": [
    "ivpfracs = {}\n",
    "ivpmirs = [ mir for mir in set(s4['Pri-miRNA']) if mir in fclipfracs.keys() ]\n",
    "for mir in ivpmirs:\n",
    "    sub = clvtbl.loc[mir].reset_index()\n",
    "    ps, pe = get_relative_pos(mir, get_pre_annot(mir)[1], get_pre_annot(mir)[2])\n",
    "    lib = select_lib(mir)\n",
    "    frac5, frac3, frach = get_prod_fracs(sub, lib, ps, pe, '+', ivprcut, fcutoff, prorange)\n",
    "    if sum(map(bool, [frac5,frac3,frach]))>=2:\n",
    "        ivpfracs[mir] = (frac5, frac3, frach)\n",
    "print len(ivpfracs)"
   ]
  },
  {
   "cell_type": "code",
   "execution_count": 30,
   "metadata": {},
   "outputs": [],
   "source": [
    "def add_specificity(row):\n",
    "    row['cleavage specificity'] = np.log2((row['5frag']+row['hairpin']+row['3frag'])/3+1)\n",
    "    return row"
   ]
  },
  {
   "cell_type": "code",
   "execution_count": 31,
   "metadata": {},
   "outputs": [],
   "source": [
    "def drop_duplicates(sortedtbl):\n",
    "    if len(sortedtbl)<=1:\n",
    "        return sortedtbl\n",
    "    hs = sortedtbl['hstart'].tolist()[0]\n",
    "    he = sortedtbl['hend'].tolist()[0]\n",
    "    sub = sortedtbl.iloc[1:]\n",
    "    sub = sub[(sub['hstart']!=hs)&(sub['hend']!=he)]\n",
    "    return sortedtbl.iloc[:1].append(drop_duplicates(sub))"
   ]
  },
  {
   "cell_type": "code",
   "execution_count": 32,
   "metadata": {},
   "outputs": [],
   "source": [
    "COLS = [ 'miRNA', 'hstart', 'hend', '5frag', '3frag', 'hairpin', 'cleavage specificity' ] \n",
    "def get_dcs(mir, clv5, clv3, clvhpn):\n",
    "    clvsites = pd.DataFrame({0:dict(zip(COLS,[mir,-99,99,0,0,0,0]))}).T[COLS]\n",
    "    clv52 = defaultdict(float); clv52.update(clv5)\n",
    "    clv32 = defaultdict(float); clv32.update(clv3)\n",
    "    clvhpn2 = defaultdict(float); clvhpn2.update(clvhpn)\n",
    "    for c5, frac5 in clv5.items():\n",
    "        for c3, frac3 in clv3.items():\n",
    "            row = dict(zip(COLS,[mir,c5+1,c3-1,frac5,frac3,clvhpn2[(c5+1,c3-1)]]))\n",
    "            clvsites = clvsites.append(row, ignore_index=True)\n",
    "    for (c5,c3), frach in clvhpn.items():\n",
    "        row = dict(zip(COLS,[mir,c5,c3,clv52[c5-1],clv32[c3+1],frach]))\n",
    "        clvsites = clvsites.append(row, ignore_index=True)\n",
    "    cs = clvsites.apply(add_specificity,axis=1).sort_values('cleavage specificity').iloc[::-1]\n",
    "    return drop_duplicates(cs)"
   ]
  },
  {
   "cell_type": "code",
   "execution_count": 33,
   "metadata": {},
   "outputs": [
    {
     "data": {
      "text/html": [
       "<div>\n",
       "<style scoped>\n",
       "    .dataframe tbody tr th:only-of-type {\n",
       "        vertical-align: middle;\n",
       "    }\n",
       "\n",
       "    .dataframe tbody tr th {\n",
       "        vertical-align: top;\n",
       "    }\n",
       "\n",
       "    .dataframe thead th {\n",
       "        text-align: right;\n",
       "    }\n",
       "</style>\n",
       "<table border=\"1\" class=\"dataframe\">\n",
       "  <thead>\n",
       "    <tr style=\"text-align: right;\">\n",
       "      <th></th>\n",
       "      <th>miRNA</th>\n",
       "      <th>hstart</th>\n",
       "      <th>hend</th>\n",
       "      <th>5frag</th>\n",
       "      <th>3frag</th>\n",
       "      <th>hairpin</th>\n",
       "      <th>cleavage specificity</th>\n",
       "    </tr>\n",
       "  </thead>\n",
       "  <tbody>\n",
       "    <tr>\n",
       "      <th>10</th>\n",
       "      <td>hsa-mir-142</td>\n",
       "      <td>0</td>\n",
       "      <td>0</td>\n",
       "      <td>0.571429</td>\n",
       "      <td>0.6</td>\n",
       "      <td>0.0</td>\n",
       "      <td>0.475579</td>\n",
       "    </tr>\n",
       "    <tr>\n",
       "      <th>4</th>\n",
       "      <td>hsa-mir-142</td>\n",
       "      <td>1</td>\n",
       "      <td>4</td>\n",
       "      <td>0.285714</td>\n",
       "      <td>0.2</td>\n",
       "      <td>0.0</td>\n",
       "      <td>0.216492</td>\n",
       "    </tr>\n",
       "    <tr>\n",
       "      <th>7</th>\n",
       "      <td>hsa-mir-142</td>\n",
       "      <td>-3</td>\n",
       "      <td>3</td>\n",
       "      <td>0.142857</td>\n",
       "      <td>0.1</td>\n",
       "      <td>0.0</td>\n",
       "      <td>0.112303</td>\n",
       "    </tr>\n",
       "    <tr>\n",
       "      <th>0</th>\n",
       "      <td>hsa-mir-142</td>\n",
       "      <td>-99</td>\n",
       "      <td>99</td>\n",
       "      <td>0.000000</td>\n",
       "      <td>0.0</td>\n",
       "      <td>0.0</td>\n",
       "      <td>0.000000</td>\n",
       "    </tr>\n",
       "  </tbody>\n",
       "</table>\n",
       "</div>"
      ],
      "text/plain": [
       "          miRNA  hstart  hend     5frag  3frag  hairpin  cleavage specificity\n",
       "10  hsa-mir-142       0     0  0.571429    0.6      0.0              0.475579\n",
       "4   hsa-mir-142       1     4  0.285714    0.2      0.0              0.216492\n",
       "7   hsa-mir-142      -3     3  0.142857    0.1      0.0              0.112303\n",
       "0   hsa-mir-142     -99    99  0.000000    0.0      0.0              0.000000"
      ]
     },
     "execution_count": 33,
     "metadata": {},
     "output_type": "execute_result"
    }
   ],
   "source": [
    "frac5, frac3, frach = fclipfracs['hsa-mir-142']\n",
    "get_dcs('hsa-mir-142', frac5, frac3, frach)"
   ]
  },
  {
   "cell_type": "code",
   "execution_count": 34,
   "metadata": {},
   "outputs": [
    {
     "data": {
      "text/html": [
       "<div>\n",
       "<style scoped>\n",
       "    .dataframe tbody tr th:only-of-type {\n",
       "        vertical-align: middle;\n",
       "    }\n",
       "\n",
       "    .dataframe tbody tr th {\n",
       "        vertical-align: top;\n",
       "    }\n",
       "\n",
       "    .dataframe thead th {\n",
       "        text-align: right;\n",
       "    }\n",
       "</style>\n",
       "<table border=\"1\" class=\"dataframe\">\n",
       "  <thead>\n",
       "    <tr style=\"text-align: right;\">\n",
       "      <th></th>\n",
       "      <th>miRNA</th>\n",
       "      <th>hstart</th>\n",
       "      <th>hend</th>\n",
       "      <th>5frag</th>\n",
       "      <th>3frag</th>\n",
       "      <th>hairpin</th>\n",
       "      <th>cleavage specificity</th>\n",
       "    </tr>\n",
       "  </thead>\n",
       "  <tbody>\n",
       "    <tr>\n",
       "      <th>23</th>\n",
       "      <td>hsa-mir-142</td>\n",
       "      <td>-2</td>\n",
       "      <td>2</td>\n",
       "      <td>0.841611</td>\n",
       "      <td>0.868507</td>\n",
       "      <td>0.857254</td>\n",
       "      <td>0.892034</td>\n",
       "    </tr>\n",
       "    <tr>\n",
       "      <th>8</th>\n",
       "      <td>hsa-mir-142</td>\n",
       "      <td>-3</td>\n",
       "      <td>-4</td>\n",
       "      <td>0.085403</td>\n",
       "      <td>0.064973</td>\n",
       "      <td>0.000000</td>\n",
       "      <td>0.070561</td>\n",
       "    </tr>\n",
       "    <tr>\n",
       "      <th>13</th>\n",
       "      <td>hsa-mir-142</td>\n",
       "      <td>0</td>\n",
       "      <td>0</td>\n",
       "      <td>0.015940</td>\n",
       "      <td>0.011969</td>\n",
       "      <td>0.048099</td>\n",
       "      <td>0.036097</td>\n",
       "    </tr>\n",
       "    <tr>\n",
       "      <th>3</th>\n",
       "      <td>hsa-mir-142</td>\n",
       "      <td>4</td>\n",
       "      <td>3</td>\n",
       "      <td>0.026426</td>\n",
       "      <td>0.030695</td>\n",
       "      <td>0.000000</td>\n",
       "      <td>0.027211</td>\n",
       "    </tr>\n",
       "    <tr>\n",
       "      <th>0</th>\n",
       "      <td>hsa-mir-142</td>\n",
       "      <td>-99</td>\n",
       "      <td>99</td>\n",
       "      <td>0.000000</td>\n",
       "      <td>0.000000</td>\n",
       "      <td>0.000000</td>\n",
       "      <td>0.000000</td>\n",
       "    </tr>\n",
       "  </tbody>\n",
       "</table>\n",
       "</div>"
      ],
      "text/plain": [
       "          miRNA  hstart  hend     5frag     3frag   hairpin  \\\n",
       "23  hsa-mir-142      -2     2  0.841611  0.868507  0.857254   \n",
       "8   hsa-mir-142      -3    -4  0.085403  0.064973  0.000000   \n",
       "13  hsa-mir-142       0     0  0.015940  0.011969  0.048099   \n",
       "3   hsa-mir-142       4     3  0.026426  0.030695  0.000000   \n",
       "0   hsa-mir-142     -99    99  0.000000  0.000000  0.000000   \n",
       "\n",
       "    cleavage specificity  \n",
       "23              0.892034  \n",
       "8               0.070561  \n",
       "13              0.036097  \n",
       "3               0.027211  \n",
       "0               0.000000  "
      ]
     },
     "execution_count": 34,
     "metadata": {},
     "output_type": "execute_result"
    }
   ],
   "source": [
    "frac5, frac3, frach = ivpfracs['hsa-mir-142']\n",
    "get_dcs('hsa-mir-142', frac5, frac3, frach).head()"
   ]
  },
  {
   "cell_type": "code",
   "execution_count": 35,
   "metadata": {},
   "outputs": [],
   "source": [
    "fclipclv = pd.DataFrame(columns=COLS)\n",
    "ivpclv = pd.DataFrame(columns=COLS)\n",
    "for mir in ivpfracs.keys():\n",
    "    frac5, frac3, frach = fclipfracs[mir]\n",
    "    fclipclv = fclipclv.append(get_dcs(mir, frac5, frac3, frach), ignore_index=True)\n",
    "    frac5, frac3, frach = ivpfracs[mir]\n",
    "    ivpclv = ivpclv.append(get_dcs(mir, frac5, frac3, frach), ignore_index=True)\n",
    "\n",
    "fclipclv = fclipclv[COLS]\n",
    "fclipclv['Position'] = fclipclv[['hstart','hend']].apply(abs,axis=1).min(axis=1)\n",
    "fclipclv = fclipclv[fclipclv['Position']<=window]\n",
    "ivpclv = ivpclv[COLS]\n",
    "ivpclv['Position'] = ivpclv[['hstart','hend']].apply(abs,axis=1).min(axis=1)\n",
    "ivpclv = ivpclv[ivpclv['Position']<=window]"
   ]
  },
  {
   "cell_type": "code",
   "execution_count": 36,
   "metadata": {},
   "outputs": [],
   "source": [
    "fspes = dict(fclipclv.drop_duplicates('miRNA').set_index('miRNA')['cleavage specificity'])\n",
    "ispes = dict(ivpclv.drop_duplicates('miRNA').set_index('miRNA')['cleavage specificity'])"
   ]
  },
  {
   "cell_type": "code",
   "execution_count": 37,
   "metadata": {},
   "outputs": [
    {
     "name": "stdout",
     "output_type": "stream",
     "text": [
      "243\n"
     ]
    }
   ],
   "source": [
    "mirs = [m for m in fspes if m in ispes ]\n",
    "print len(mirs)"
   ]
  },
  {
   "cell_type": "markdown",
   "metadata": {},
   "source": [
    "### 4. Build table"
   ]
  },
  {
   "cell_type": "code",
   "execution_count": 38,
   "metadata": {},
   "outputs": [],
   "source": [
    "for mir in sorted(mirs):\n",
    "    s7.loc[mir, 'IVP PCS'] = ispes[mir]\n",
    "    s7.loc[mir, 'fCLIP PCS'] = fspes[mir]"
   ]
  },
  {
   "cell_type": "code",
   "execution_count": 39,
   "metadata": {},
   "outputs": [],
   "source": [
    "s7.fillna('').to_csv('resources/201012_s7_cleavage-sites.csv')"
   ]
  },
  {
   "cell_type": "code",
   "execution_count": 40,
   "metadata": {},
   "outputs": [],
   "source": [
    "out = open('supplementary/201012_s7_cleavage-sites.csv', 'wt')\n",
    "description = 'Supplementary Table 7. Cleavage sites \\n\\n\\n\\n\\n'\n",
    "out.write(description)\n",
    "for l in open('resources/201012_s7_cleavage-sites.csv', 'rt'):\n",
    "    out.write(l)\n",
    "out.close()"
   ]
  },
  {
   "cell_type": "code",
   "execution_count": null,
   "metadata": {},
   "outputs": [],
   "source": []
  }
 ],
 "metadata": {
  "kernelspec": {
   "display_name": "Python 2",
   "language": "python",
   "name": "python2"
  },
  "language_info": {
   "codemirror_mode": {
    "name": "ipython",
    "version": 2
   },
   "file_extension": ".py",
   "mimetype": "text/x-python",
   "name": "python",
   "nbconvert_exporter": "python",
   "pygments_lexer": "ipython2",
   "version": "2.7.18"
  }
 },
 "nbformat": 4,
 "nbformat_minor": 2
}
