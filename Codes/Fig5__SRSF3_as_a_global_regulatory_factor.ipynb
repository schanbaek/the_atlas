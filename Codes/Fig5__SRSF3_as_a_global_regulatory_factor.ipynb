{
 "cells": [
  {
   "cell_type": "markdown",
   "metadata": {},
   "source": [
    "# Figure 5. SRSF3 is a global regulatory factor\n",
    "A. Global change induced by SRSF3   \n",
    "B. Clustering  \n",
    "C. Classification changes  \n",
    "D. SRSF3-responsive element - tetramer motifs  \n",
    "E. SRSF3-responsive element - sequence content  \n",
    "F. Secondary structure of SRSF3-responsive miRNAs  \n",
    "G. Primary sequence motifs of SRSF3-dependent miRNAs  \n",
    "H. Comparison with DROSHA fCLIP-seq sites"
   ]
  },
  {
   "cell_type": "code",
   "execution_count": 1,
   "metadata": {},
   "outputs": [
    {
     "name": "stdout",
     "output_type": "stream",
     "text": [
      "Last revised by Seungchan Baek at 2020-10-13.\n"
     ]
    }
   ],
   "source": [
    "import time\n",
    "today = time.strftime('%Y-%m-%d')\n",
    "name = 'Seungchan Baek'\n",
    "print 'Last revised by %s at %s.' % (name, today)"
   ]
  },
  {
   "cell_type": "code",
   "execution_count": 2,
   "metadata": {},
   "outputs": [
    {
     "name": "stdout",
     "output_type": "stream",
     "text": [
      "/casa/bsc/projects/1_DCS/2004_paper_prep\n"
     ]
    }
   ],
   "source": [
    "home = '/casa/bsc/projects/1_DCS/2004_paper_prep/'\n",
    "utilpath = '/casa/bsc/notebooks/'\n",
    "%cd $home"
   ]
  },
  {
   "cell_type": "code",
   "execution_count": 3,
   "metadata": {},
   "outputs": [
    {
     "name": "stdout",
     "output_type": "stream",
     "text": [
      "resultpath: results/201013/\n"
     ]
    }
   ],
   "source": [
    "from __future__ import division\n",
    "import sys; sys.path.append(utilpath)\n",
    "from util import *\n",
    "from basic import gen_result_dir\n",
    "resultpath = gen_result_dir('results/')\n",
    "print 'resultpath:', resultpath"
   ]
  },
  {
   "cell_type": "code",
   "execution_count": 4,
   "metadata": {},
   "outputs": [],
   "source": [
    "import pandas as pd\n",
    "import numpy as np\n",
    "import re\n",
    "from scipy import stats as st\n",
    "from matplotlib import pyplot as plt\n",
    "from matplotlib import lines, gridspec, colors\n",
    "from collections import defaultdict, Counter\n",
    "from sklearn.cluster import AgglomerativeClustering\n",
    "from scipy.stats import sem, ttest_ind\n",
    "from sequtil import nmer\n",
    "import statsmodels.api as sm\n",
    "%matplotlib inline"
   ]
  },
  {
   "cell_type": "code",
   "execution_count": 5,
   "metadata": {},
   "outputs": [],
   "source": [
    "LIBRARIES = [ 'set1', 'set2', 'set3', 'set4', 'set5' ]"
   ]
  },
  {
   "cell_type": "markdown",
   "metadata": {},
   "source": [
    "#### Import supplementary tables"
   ]
  },
  {
   "cell_type": "code",
   "execution_count": 6,
   "metadata": {},
   "outputs": [
    {
     "name": "stdout",
     "output_type": "stream",
     "text": [
      "s1:\t5p mature, 5p sequence, 3p mature, 3p sequence, Note\n",
      "s2:\tChr, Start, End, Strand, Construct sequence, 100way phyloP scores (pre-miRNA -/+ 100nt)\n",
      "s5:\t117, 118, 119, 120, 121, 122, 123, 124, 125, symbolized structure\n",
      "s6:\tRelative position from miRBase site, Cleavage Specificity, Cleavage Imbalance, Cleavage type\n",
      "s7:\tChr, miRBase 5' site, miRBase 3' site, IVP 5' site, IVP 3' site, fCLIP 5' site, fCLIP 3' site, Strand, Type, IVP PCS, fCLIP PCS\n",
      "s8:\tChr, 5' cleavage site, 3' cleavage site, Strand, Cleavage type, CP_wo_SRSF3, CP_w_SRSF3, CS_wo_SRSF3, CS_w_SRSF3, Productive_wo_SRSF3, Productive_w_SRSF3, Alternative_wo_SRSF3, Alternative_w_SRSF3, Nick_wo_SRSF3, Nick_w_SRSF3, Inverted_wo_SRSF3, Inverted_w_SRSF3\n"
     ]
    }
   ],
   "source": [
    "s1 = pd.read_csv('supplementary/201012_s1_pri-info.csv', header=1, index_col=0)\n",
    "s2 = pd.read_csv('supplementary/201012_s2_pri-construct.csv', header=1, index_col=0)\n",
    "s5 = pd.read_csv('supplementary/201012_s5_pri-structure.csv', header=1, index_col=0)\n",
    "s6 = pd.read_csv('supplementary/201012_s6_cleavage-patterns.csv', header=1, index_col=0)\n",
    "s7 = pd.read_csv('supplementary/201012_s7_cleavage-sites.csv', header=1, index_col=0)\n",
    "s8 = pd.read_csv('supplementary/201012_s8_cleavage-patterns-srsf3.csv', header=1, index_col=0)\n",
    "print 's1:\\t%s'%', '.join(list(s1.columns))\n",
    "print 's2:\\t%s'%', '.join(list(s2.columns)[:6])\n",
    "print 's5:\\t%s'%', '.join(list(s5.columns)[-10:])\n",
    "print 's6:\\t%s'%', '.join(list(s6.columns)[-4:])\n",
    "print 's7:\\t%s'%', '.join(list(s7.columns))\n",
    "print 's8:\\t%s'%', '.join(list(s8.columns))"
   ]
  },
  {
   "cell_type": "code",
   "execution_count": 7,
   "metadata": {},
   "outputs": [],
   "source": [
    "def get_pre_position(pri):\n",
    "    constructseq = s2.loc[pri, 'Construct sequence'].replace('T','U')\n",
    "    seq5p = s1.loc[pri, '5p sequence']\n",
    "    seq3p = s1.loc[pri, '3p sequence']\n",
    "    if seq5p=='n.a.' or constructseq.find(seq5p)==-1:\n",
    "        prestart = 0\n",
    "    else:\n",
    "        prestart = constructseq.find(seq5p)+1\n",
    "    if seq3p=='n.a.' or constructseq.find(seq3p)==-1:\n",
    "        preend = 125\n",
    "    else:\n",
    "        preend = constructseq.rfind(seq3p)+len(seq3p)\n",
    "    return prestart, preend"
   ]
  },
  {
   "cell_type": "code",
   "execution_count": 8,
   "metadata": {},
   "outputs": [
    {
     "name": "stdout",
     "output_type": "stream",
     "text": [
      "1881\n"
     ]
    }
   ],
   "source": [
    "allpris = s1.index\n",
    "preposition = { pri:get_pre_position(pri) for pri in allpris }\n",
    "print len(preposition)"
   ]
  },
  {
   "cell_type": "code",
   "execution_count": 9,
   "metadata": {},
   "outputs": [
    {
     "name": "stdout",
     "output_type": "stream",
     "text": [
      "239 11 157 281 519\n"
     ]
    }
   ],
   "source": [
    "mirtrons = [ pri for pri in allpris if s1.loc[pri,'Note'].find('Mirtron')>=0 ]\n",
    "capped = [ pri for pri in allpris if s1.loc[pri,'Note'].find('Capped miRNA')>=0 ]\n",
    "drosensitive = [ pri for pri in allpris if s1.loc[pri,'Note'].find('DROSHA KO-sensitive')>=0 ]\n",
    "fclipdetected = [ pri for pri in allpris if s1.loc[pri,'Note'].find('fCLIP site-determined')>=0 ]\n",
    "dbmirs = [ pri for pri in allpris if s1.loc[pri,'Note'].find('MirGeneDB')>=0 ]\n",
    "print len(mirtrons), len(capped), len(drosensitive), len(fclipdetected), len(dbmirs)"
   ]
  },
  {
   "cell_type": "code",
   "execution_count": 10,
   "metadata": {},
   "outputs": [
    {
     "name": "stdout",
     "output_type": "stream",
     "text": [
      "1881\n"
     ]
    }
   ],
   "source": [
    "constseqs = dict(s2['Construct sequence'])\n",
    "print len(constseqs)"
   ]
  },
  {
   "cell_type": "code",
   "execution_count": 11,
   "metadata": {},
   "outputs": [
    {
     "name": "stdout",
     "output_type": "stream",
     "text": [
      "Productive: 512, Unproductive: 1304\n",
      "Single: 445, Multiple: 67, Inverted: 156, Nick: 107, Non-specific: 1041\n",
      "5' nick: 72, 3' nick: 35\n"
     ]
    }
   ],
   "source": [
    "singlemp = set(s6[s6['Cleavage type']=='single'].index)\n",
    "multimp = set(s6[s6['Cleavage type']=='multiple'].index)\n",
    "invertedmp = set(s6[s6['Cleavage type']=='inverted'].index)\n",
    "nick5mp = set(s6[s6['Cleavage type']=='nick5'].index)\n",
    "nick3mp = set(s6[s6['Cleavage type']=='nick3'].index)\n",
    "nickmp = list(nick5mp) + list(nick3mp)\n",
    "nonspecmp = set(s6[s6['Cleavage type']=='non-specific'].index)\n",
    "dcsmirsmp = list(singlemp) + list(multimp)\n",
    "nodcsmp = list(invertedmp) + list(nickmp) + list(nonspecmp)\n",
    "print 'Productive: %s, Unproductive: %s' % (len(dcsmirsmp), len(nodcsmp))\n",
    "print 'Single: %s, Multiple: %s, Inverted: %s, Nick: %s, Non-specific: %s'\\\n",
    "% (len(singlemp), len(multimp), len(invertedmp), len(nickmp), len(nonspecmp))\n",
    "print \"5' nick: %s, 3' nick: %s\" % (len(nick5mp), len(nick3mp))"
   ]
  },
  {
   "cell_type": "markdown",
   "metadata": {},
   "source": [
    "# A. Global change induced by SRSF3"
   ]
  },
  {
   "cell_type": "code",
   "execution_count": 14,
   "metadata": {},
   "outputs": [],
   "source": [
    "def get_2d_density(data, xmin, xmax, ymin, ymax):\n",
    "    x, y = zip(*data)\n",
    "    xx, yy = np.mgrid[xmin:xmax:100j, ymin:ymax:100j]\n",
    "    positions = np.vstack([xx.ravel(), yy.ravel()])\n",
    "    values = np.vstack([x, y])\n",
    "    kernel = st.gaussian_kde(values)\n",
    "    f = np.reshape(kernel(positions).T, xx.shape)\n",
    "    return xx, yy, f"
   ]
  },
  {
   "cell_type": "code",
   "execution_count": 15,
   "metadata": {},
   "outputs": [
    {
     "name": "stdout",
     "output_type": "stream",
     "text": [
      "1745\n"
     ]
    }
   ],
   "source": [
    "s6sort = s6.sort_values('Cleavage Specificity')\n",
    "pros = s6['Cleavage Productivity'].to_dict()\n",
    "spes = s6sort[~s6sort.index.duplicated(keep='last')]['Cleavage Specificity'].to_dict()\n",
    "srsf3pros = s8['CP_w_SRSF3'].to_dict()\n",
    "srsf3spes = s8['CS_w_SRSF3'].to_dict()\n",
    "overlap = [ m for m in pros if m in srsf3pros ]\n",
    "print len(overlap)"
   ]
  },
  {
   "cell_type": "code",
   "execution_count": 16,
   "metadata": {},
   "outputs": [],
   "source": [
    "data1 = [ (pros[m],spes[m]) for m in overlap ]\n",
    "data2 = [ (srsf3pros[m],srsf3spes[m]) for m in overlap ]\n",
    "datacano1 = [ (pros[m],spes[m]) for m in overlap if m in drosensitive ]\n",
    "xcano1, ycano1 = zip(*datacano1)\n",
    "datacano2 = [ (srsf3pros[m],srsf3spes[m]) for m in overlap if m in drosensitive ]\n",
    "xcano2, ycano2 = zip(*datacano2)\n",
    "datacano3 = [ (pros[m],spes[m]) for m in overlap if m in mirtrons ]\n",
    "xcano3, ycano3 = zip(*datacano3)\n",
    "datacano4 = [ (srsf3pros[m],srsf3spes[m]) for m in overlap if m in mirtrons ]\n",
    "xcano4, ycano4 = zip(*datacano4)\n",
    "\n",
    "xmin, xmax = -3, 12\n",
    "ymin, ymax = -.25, 1.1\n",
    "xs1,ys1,f1 = get_2d_density(data1, xmin, xmax, ymin, ymax)\n",
    "xs2,ys2,f2 = get_2d_density(data2, xmin, xmax, ymin, ymax)\n",
    "blk = custom_cmap(['white','black'])\n",
    "red = custom_cmap(['white','#a50f15'])"
   ]
  },
  {
   "cell_type": "code",
   "execution_count": 17,
   "metadata": {},
   "outputs": [
    {
     "data": {
      "text/plain": [
       "Text(9.1,0.1,u'N = 1745')"
      ]
     },
     "execution_count": 17,
     "metadata": {},
     "output_type": "execute_result"
    },
    {
     "data": {
      "image/png": "[encoded data removed]",
      "text/plain": [
       "<matplotlib.figure.Figure at 0x7fd0fa35f150>"
      ]
     },
     "metadata": {},
     "output_type": "display_data"
    }
   ],
   "source": [
    "fig, ax = plt.subplots(1, 1, figsize=(3,3))\n",
    "ax.contourf(xs1,ys1,f1,levels=[.05,.15,.3,.6,.99],cmap=blk,alpha=.3,\n",
    "            norm=colors.LogNorm(vmin=0.02, vmax=1),zorder=3)\n",
    "ax.contour(xs1,ys1,f1,levels=[.05,.15,.3,.6,.99],cmap=blk,linestyles='-',linewidths=.6,\n",
    "          norm=colors.LogNorm(vmin=0.02, vmax=1),zorder=3)\n",
    "ax.contourf(xs2,ys2,f2,levels=[.05,.15,.3,.6,.99],cmap=red,alpha=.3,\n",
    "            norm=colors.LogNorm(vmin=0.02, vmax=1),zorder=3)\n",
    "ax.contour(xs2,ys2,f2,levels=[.05,.15,.3,.6,.99],cmap=red,linestyles='-',linewidths=.6,\n",
    "          norm=colors.LogNorm(vmin=0.02, vmax=1), zorder=3)\n",
    "ax.scatter(xcano1,ycano1,s=5,edgecolor='#666666',facecolor='None',lw=.8,zorder=2)\n",
    "ax.scatter(xcano2,ycano2,s=5,edgecolor='#a50f15',facecolor='None',lw=.8,zorder=2)\n",
    "\n",
    "ax.scatter(xcano4,ycano4,s=5,color='#a50f15',lw=.7,zorder=2,marker='x')\n",
    "ax.scatter(xcano3,ycano3,s=5,color='#666666',lw=.7,zorder=2,marker='x')\n",
    "\n",
    "ax.set_xticks(range(-3,13,3))\n",
    "ax.set_yticks(np.arange(-.25,1.1,.25))\n",
    "ax.set_xlim(-3,12)\n",
    "ax.set_ylim(-.25,1.05)\n",
    "ax.set_xlabel('Cleavage Productivity', fontsize=12)\n",
    "ax.set_ylabel('Cleavage Specificity', fontsize=12)\n",
    "ax.bar([-10],[0],edgecolor='#242424',facecolor='#d9d9d9',label='MP')\n",
    "ax.bar([-10],[0],edgecolor='#a50f15',facecolor='#fcbba1',label='MP + SRSF3')\n",
    "ax.grid(ls='-',lw=.5)\n",
    "ax.legend(loc=(.5,.02),handlelength=1.2,prop={'size':11},framealpha=1)\n",
    "ax.text(9.1,.1,'N = %s'%len(overlap))\n",
    "#fig.savefig(resultpath+'200917_f5a_global_change_srsf3.pdf')"
   ]
  },
  {
   "cell_type": "markdown",
   "metadata": {},
   "source": [
    "# B. Clustering"
   ]
  },
  {
   "cell_type": "code",
   "execution_count": 18,
   "metadata": {},
   "outputs": [],
   "source": [
    "attributes = ['Productive','Alternative','Nick','Inverted']"
   ]
  },
  {
   "cell_type": "code",
   "execution_count": 19,
   "metadata": {},
   "outputs": [
    {
     "data": {
      "text/html": [
       "<div>\n",
       "<style scoped>\n",
       "    .dataframe tbody tr th:only-of-type {\n",
       "        vertical-align: middle;\n",
       "    }\n",
       "\n",
       "    .dataframe tbody tr th {\n",
       "        vertical-align: top;\n",
       "    }\n",
       "\n",
       "    .dataframe thead th {\n",
       "        text-align: right;\n",
       "    }\n",
       "</style>\n",
       "<table border=\"1\" class=\"dataframe\">\n",
       "  <thead>\n",
       "    <tr style=\"text-align: right;\">\n",
       "      <th></th>\n",
       "      <th>Productive</th>\n",
       "      <th>Alternative</th>\n",
       "      <th>Nick</th>\n",
       "      <th>Inverted</th>\n",
       "    </tr>\n",
       "    <tr>\n",
       "      <th>Pri-miRNA</th>\n",
       "      <th></th>\n",
       "      <th></th>\n",
       "      <th></th>\n",
       "      <th></th>\n",
       "    </tr>\n",
       "  </thead>\n",
       "  <tbody>\n",
       "    <tr>\n",
       "      <th>hsa-let-7a-1</th>\n",
       "      <td>5.141934</td>\n",
       "      <td>-0.025331</td>\n",
       "      <td>0.041494</td>\n",
       "      <td>0.000691</td>\n",
       "    </tr>\n",
       "    <tr>\n",
       "      <th>hsa-let-7a-2</th>\n",
       "      <td>4.916338</td>\n",
       "      <td>0.037195</td>\n",
       "      <td>-0.159983</td>\n",
       "      <td>0.034052</td>\n",
       "    </tr>\n",
       "    <tr>\n",
       "      <th>hsa-let-7a-3</th>\n",
       "      <td>4.404454</td>\n",
       "      <td>0.004157</td>\n",
       "      <td>0.011206</td>\n",
       "      <td>-0.023819</td>\n",
       "    </tr>\n",
       "    <tr>\n",
       "      <th>hsa-let-7b</th>\n",
       "      <td>5.734622</td>\n",
       "      <td>-0.014259</td>\n",
       "      <td>-0.006870</td>\n",
       "      <td>-0.016782</td>\n",
       "    </tr>\n",
       "    <tr>\n",
       "      <th>hsa-let-7c</th>\n",
       "      <td>7.646225</td>\n",
       "      <td>0.029231</td>\n",
       "      <td>0.040335</td>\n",
       "      <td>-0.605388</td>\n",
       "    </tr>\n",
       "  </tbody>\n",
       "</table>\n",
       "</div>"
      ],
      "text/plain": [
       "              Productive  Alternative      Nick  Inverted\n",
       "Pri-miRNA                                                \n",
       "hsa-let-7a-1    5.141934    -0.025331  0.041494  0.000691\n",
       "hsa-let-7a-2    4.916338     0.037195 -0.159983  0.034052\n",
       "hsa-let-7a-3    4.404454     0.004157  0.011206 -0.023819\n",
       "hsa-let-7b      5.734622    -0.014259 -0.006870 -0.016782\n",
       "hsa-let-7c      7.646225     0.029231  0.040335 -0.605388"
      ]
     },
     "execution_count": 19,
     "metadata": {},
     "output_type": "execute_result"
    }
   ],
   "source": [
    "summtbl = s8.reindex(s8['Productive_wo_SRSF3'].dropna().index)\n",
    "difftbl = pd.DataFrame()\n",
    "for attri in attributes:\n",
    "    if attri=='Nick':\n",
    "        difftbl[attri] = np.log2((abs(summtbl['%s_w_SRSF3'%attri])+1)/\\\n",
    "                                 (abs(summtbl['%s_wo_SRSF3'%attri])+1))\n",
    "    else:\n",
    "        difftbl[attri] = np.log2((summtbl['%s_w_SRSF3'%attri]+1)/\\\n",
    "                                 (summtbl['%s_wo_SRSF3'%attri]+1))\n",
    "difftbl.head()"
   ]
  },
  {
   "cell_type": "code",
   "execution_count": 20,
   "metadata": {},
   "outputs": [
    {
     "name": "stdout",
     "output_type": "stream",
     "text": [
      "753\n"
     ]
    },
    {
     "data": {
      "text/html": [
       "<div>\n",
       "<style scoped>\n",
       "    .dataframe tbody tr th:only-of-type {\n",
       "        vertical-align: middle;\n",
       "    }\n",
       "\n",
       "    .dataframe tbody tr th {\n",
       "        vertical-align: top;\n",
       "    }\n",
       "\n",
       "    .dataframe thead th {\n",
       "        text-align: right;\n",
       "    }\n",
       "</style>\n",
       "<table border=\"1\" class=\"dataframe\">\n",
       "  <thead>\n",
       "    <tr style=\"text-align: right;\">\n",
       "      <th></th>\n",
       "      <th>Alternative</th>\n",
       "      <th>Nick</th>\n",
       "      <th>Inverted</th>\n",
       "    </tr>\n",
       "    <tr>\n",
       "      <th>Pri-miRNA</th>\n",
       "      <th></th>\n",
       "      <th></th>\n",
       "      <th></th>\n",
       "    </tr>\n",
       "  </thead>\n",
       "  <tbody>\n",
       "    <tr>\n",
       "      <th>hsa-let-7a-1</th>\n",
       "      <td>-0.050661</td>\n",
       "      <td>0.041494</td>\n",
       "      <td>0.000691</td>\n",
       "    </tr>\n",
       "  </tbody>\n",
       "</table>\n",
       "</div>"
      ],
      "text/plain": [
       "              Alternative      Nick  Inverted\n",
       "Pri-miRNA                                    \n",
       "hsa-let-7a-1    -0.050661  0.041494  0.000691"
      ]
     },
     "execution_count": 20,
     "metadata": {},
     "output_type": "execute_result"
    }
   ],
   "source": [
    "cpcut = 3\n",
    "diffcls = difftbl[difftbl['Productive']>cpcut].iloc[:,1:]\n",
    "diffcls['Alternative'] = diffcls['Alternative']*2\n",
    "print len(diffcls)\n",
    "diffcls.head(1)"
   ]
  },
  {
   "cell_type": "code",
   "execution_count": 21,
   "metadata": {},
   "outputs": [],
   "source": [
    "x = np.array(diffcls)\n",
    "ncls = 11\n",
    "result = AgglomerativeClustering(n_clusters=ncls,affinity='euclidean',linkage='ward').fit(x)"
   ]
  },
  {
   "cell_type": "code",
   "execution_count": 22,
   "metadata": {},
   "outputs": [],
   "source": [
    "clstd = dict(zip(diffcls.index, result.labels_))\n",
    "mls = { i:[m for m,c in clstd.items() if c==i] for i in range(ncls) }\n",
    "clsinp = difftbl.reindex(mls[0]).iloc[:,1:]\n",
    "for i in range(1,ncls):\n",
    "    clsinp = clsinp.append(difftbl.reindex(mls[i]).iloc[:,1:])"
   ]
  },
  {
   "cell_type": "code",
   "execution_count": 23,
   "metadata": {},
   "outputs": [],
   "source": [
    "cmap = custom_cmap(['#3182bd','#f0f0f0','#f0f0f0','#e34a33'], nspace=3)"
   ]
  },
  {
   "cell_type": "code",
   "execution_count": 24,
   "metadata": {},
   "outputs": [
    {
     "data": {
      "image/png": "[encoded data removed]",
      "text/plain": [
       "<matplotlib.figure.Figure at 0x7fd164748250>"
      ]
     },
     "metadata": {},
     "output_type": "display_data"
    }
   ],
   "source": [
    "fig, ax = plt.subplots(1, 1, figsize=(2,3))\n",
    "ax.pcolor(clsinp,cmap=cmap,vmax=.4,vmin=-.4)\n",
    "cnt = 0\n",
    "for i in range(ncls):\n",
    "    cnt += len(mls[i])\n",
    "    ax.axhline(cnt,color='k',lw=1.3)\n",
    "ax.invert_yaxis()"
   ]
  },
  {
   "cell_type": "code",
   "execution_count": 25,
   "metadata": {},
   "outputs": [],
   "source": [
    "subml1 = [ m for m in clstd if clstd[m]==1 ]\n",
    "subcluster = AgglomerativeClustering(n_clusters=2).fit(diffcls.reindex(subml1))\n",
    "subml1 = sorted(subml1, key=lambda x:-subcluster.labels_[subml1.index(x)])\n",
    "\n",
    "cls1 = [ m for m in clstd if clstd[m]==2 ]\n",
    "cls2 = [ m for m in clstd if clstd[m]==5 ]\n",
    "cls3 = [ m for m in clstd if clstd[m]==8 ]+[ m for m in clstd if clstd[m]==0 ]\n",
    "cls4 = subml1+[ m for m in clstd if clstd[m]==6 ]\n",
    "cls5 = [ m for m in clstd if clstd[m]==3 ]\n",
    "cls6 = [ m for m in clstd if clstd[m]==9 ]+[ m for m in clstd if clstd[m]==4 ]+\\\n",
    "       [ m for m in clstd if clstd[m]==10 ]+[ m for m in clstd if clstd[m]==7 ]"
   ]
  },
  {
   "cell_type": "code",
   "execution_count": 26,
   "metadata": {},
   "outputs": [],
   "source": [
    "clsl = [cls1,cls2,cls3,cls4,cls5,cls6]\n",
    "clsinp = difftbl.reindex(clsl[0]).iloc[:,1:]\n",
    "for ml in clsl[1:]:\n",
    "    clsinp = clsinp.append(difftbl.reindex(ml).iloc[:,1:])"
   ]
  },
  {
   "cell_type": "code",
   "execution_count": 27,
   "metadata": {},
   "outputs": [
    {
     "data": {
      "image/png": "[encoded data removed]",
      "text/plain": [
       "<matplotlib.figure.Figure at 0x7fd157c35290>"
      ]
     },
     "metadata": {},
     "output_type": "display_data"
    }
   ],
   "source": [
    "fig, ax = plt.subplots(1, 1, figsize=(1.8,4))\n",
    "im = ax.pcolor(clsinp, cmap=cmap, vmax=.3, vmin=-.3)\n",
    "cnt = 0\n",
    "for ml,name in zip(clsl,['I','II','III','IV','V','VI','VII']):\n",
    "    ax.text(-.3, cnt+len(ml)/2+5, name, ha='center', va='center', fontsize=11, weight='bold')\n",
    "    cnt += len(ml)\n",
    "    ax.axhline(cnt,color='k',lw=1.3)\n",
    "ax.invert_yaxis()\n",
    "ax.spines['top'].set_visible(True)\n",
    "ax.spines['right'].set_visible(True)\n",
    "ax.set_yticks([])\n",
    "axcb = fig.add_axes([.16,.95,.7,.015])\n",
    "axcb.tick_params(length=3)\n",
    "fig.text(.51,.985,'log2 fold change',ha='center', fontsize=11)\n",
    "cb = plt.colorbar(im, cax=axcb, orientation='horizontal')\n",
    "cb.set_ticks([-.3,0,.3])\n",
    "ax.set_xticks([.1,1.3,2.2])\n",
    "ax.set_xticklabels(['Alternative','Nick','Inverted'],rotation=45)\n",
    "ax.tick_params(bottom='off')\n",
    "#fig.savefig(resultpath + '200924_f5b__clustering.pdf')#,dpi=300)"
   ]
  },
  {
   "cell_type": "markdown",
   "metadata": {},
   "source": [
    "# C. Classification changes"
   ]
  },
  {
   "cell_type": "code",
   "execution_count": 28,
   "metadata": {},
   "outputs": [
    {
     "name": "stdout",
     "output_type": "stream",
     "text": [
      "Productive: 681, Unproductive: 1064\n",
      "Single: 589, Multiple: 92, Inverted: 102, Nick: 52, Non-specific: 910\n",
      "5' nick: 26, 3' nick: 26\n"
     ]
    }
   ],
   "source": [
    "single = set(s8[s8['Cleavage type']=='single'].index)\n",
    "multi = set(s8[s8['Cleavage type']=='multiple'].index)\n",
    "inverted = set(s8[s8['Cleavage type']=='inverted'].index)\n",
    "nick5 = set(s8[s8['Cleavage type']=='nick5'].index)\n",
    "nick3 = set(s8[s8['Cleavage type']=='nick3'].index)\n",
    "nick = list(nick5) + list(nick3)\n",
    "nonspec = set(s8[s8['Cleavage type']=='non-specific'].index)\n",
    "dcsmirs = list(single) + list(multi)\n",
    "nodcs = list(inverted) + list(nick) + list(nonspec)\n",
    "print 'Productive: %s, Unproductive: %s' % (len(dcsmirs), len(nodcs))\n",
    "print 'Single: %s, Multiple: %s, Inverted: %s, Nick: %s, Non-specific: %s'\\\n",
    "% (len(single), len(multi), len(inverted), len(nick), len(nonspec))\n",
    "print \"5' nick: %s, 3' nick: %s\" % (len(nick5), len(nick3))"
   ]
  },
  {
   "cell_type": "code",
   "execution_count": 29,
   "metadata": {},
   "outputs": [],
   "source": [
    "xs1 = map(lambda x: len([m for m in x if m in overlap]),\n",
    "          [singlemp,multimp,nick5mp,nick3mp,invertedmp,nonspecmp])\n",
    "xs2 = map(len, [single,multi,nick5,nick3,inverted,nonspec])\n",
    "ys = np.arange(len(xs1))"
   ]
  },
  {
   "cell_type": "code",
   "execution_count": 30,
   "metadata": {
    "scrolled": false
   },
   "outputs": [
    {
     "data": {
      "image/png": "[encoded data removed]",
      "text/plain": [
       "<matplotlib.figure.Figure at 0x7fd157aab690>"
      ]
     },
     "metadata": {},
     "output_type": "display_data"
    }
   ],
   "source": [
    "fig, ax = plt.subplots(1, 1, figsize=(4,2.5))\n",
    "ax.barh(ys-.2, xs1, height=.4, facecolor='#ababab', edgecolor='#545454',label='w/o SRSF3',\n",
    "       zorder=2, alpha=.9)\n",
    "ax.barh(ys+.2, xs2, height=.4, facecolor='#a83940', edgecolor='#a50f15',label='w/ SRSF3',\n",
    "       zorder=2, alpha=.9)\n",
    "for x1,x2,y in zip(xs1,xs2,ys):\n",
    "    ax.text(x1+8,y-.2,x1,fontsize=8,va='center')\n",
    "    ax.text(x2+8,y+.23,x2,fontsize=8,va='center')\n",
    "\n",
    "ax.set_xlim(0,1070)\n",
    "ax.spines['top'].set_visible(True); ax.spines['right'].set_visible(True); \n",
    "ax.legend(loc=(.63,.73), handlelength=.9,prop={'size':11},\n",
    "          framealpha=1,handletextpad=.4,labelspacing=.3)\n",
    "ax.invert_yaxis()\n",
    "ax.xaxis.grid(ls='-',lw=.5)\n",
    "ax.set_yticks(ys)\n",
    "ax.set_yticks([-.5]+list(ys+.5),minor=True)\n",
    "ax.set_yticklabels(['Single','Alternative','5$^\\prime$ nick','3$^\\prime$ nick','Inverted','No'],\n",
    "                  fontsize=12,va='center')\n",
    "ax.set_xlabel('Pri-miRNAs', fontsize=12)\n",
    "ax.tick_params(left='off', which='major')\n",
    "ax.tick_params(length=3,width=1.3, which='minor')\n",
    "#fig.savefig(resultpath + '201005_f5c__classification_change.pdf')#,dpi=300)"
   ]
  },
  {
   "cell_type": "markdown",
   "metadata": {},
   "source": [
    "# D. SRSF3-responsive element - tetramer motifs"
   ]
  },
  {
   "cell_type": "code",
   "execution_count": 31,
   "metadata": {},
   "outputs": [],
   "source": [
    "def mirbase_to_relative_pos(mir, c5, c3):\n",
    "    ps, pe, strand = s2.loc[mir, ['Start','End','Strand']]\n",
    "    if strand=='+':\n",
    "        return c5-ps+1, c3-ps+1\n",
    "    return pe-c3+1, pe-c5+1"
   ]
  },
  {
   "cell_type": "code",
   "execution_count": 32,
   "metadata": {},
   "outputs": [
    {
     "name": "stdout",
     "output_type": "stream",
     "text": [
      "GATAGCAA TACTCTAC\n"
     ]
    }
   ],
   "source": [
    "cnst, cnen = 15, 19\n",
    "f5seqs, f3seqs = {},{}\n",
    "for mir in s8.index:\n",
    "    ch, st, en, strand = get_pre_annot(mir)\n",
    "    rst, ren = mirbase_to_relative_pos(mir, st, en)\n",
    "    f5seqs[mir] = constseqs[mir][max(0,rst-cnen-4):rst-cnst]\n",
    "    f3seqs[mir] = constseqs[mir][ren+cnst-1:min(ren+cnen+3,125)]\n",
    "print f5seqs['hsa-mir-16-1'], f3seqs['hsa-mir-16-1']"
   ]
  },
  {
   "cell_type": "code",
   "execution_count": 33,
   "metadata": {},
   "outputs": [
    {
     "name": "stdout",
     "output_type": "stream",
     "text": [
      "256\n"
     ]
    },
    {
     "data": {
      "text/html": [
       "<div>\n",
       "<style scoped>\n",
       "    .dataframe tbody tr th:only-of-type {\n",
       "        vertical-align: middle;\n",
       "    }\n",
       "\n",
       "    .dataframe tbody tr th {\n",
       "        vertical-align: top;\n",
       "    }\n",
       "\n",
       "    .dataframe thead th {\n",
       "        text-align: right;\n",
       "    }\n",
       "</style>\n",
       "<table border=\"1\" class=\"dataframe\">\n",
       "  <thead>\n",
       "    <tr style=\"text-align: right;\">\n",
       "      <th></th>\n",
       "      <th>p_5f</th>\n",
       "      <th>fc_5f</th>\n",
       "      <th>p_3f</th>\n",
       "      <th>fc_3f</th>\n",
       "    </tr>\n",
       "  </thead>\n",
       "  <tbody>\n",
       "    <tr>\n",
       "      <th>AAAA</th>\n",
       "      <td>0.836912</td>\n",
       "      <td>0.0770214</td>\n",
       "      <td>0.00698756</td>\n",
       "      <td>-1.01397</td>\n",
       "    </tr>\n",
       "    <tr>\n",
       "      <th>AAAT</th>\n",
       "      <td>0.626838</td>\n",
       "      <td>0.17772</td>\n",
       "      <td>0.124056</td>\n",
       "      <td>-0.78114</td>\n",
       "    </tr>\n",
       "    <tr>\n",
       "      <th>AAAG</th>\n",
       "      <td>0.329275</td>\n",
       "      <td>-0.399515</td>\n",
       "      <td>0.187345</td>\n",
       "      <td>-0.569721</td>\n",
       "    </tr>\n",
       "  </tbody>\n",
       "</table>\n",
       "</div>"
      ],
      "text/plain": [
       "          p_5f      fc_5f        p_3f     fc_3f\n",
       "AAAA  0.836912  0.0770214  0.00698756  -1.01397\n",
       "AAAT  0.626838    0.17772    0.124056  -0.78114\n",
       "AAAG  0.329275  -0.399515    0.187345 -0.569721"
      ]
     },
     "execution_count": 33,
     "metadata": {},
     "output_type": "execute_result"
    }
   ],
   "source": [
    "n = 4\n",
    "allmotifs = nmer(n)\n",
    "motbl = pd.DataFrame(index=allmotifs, columns=['p_5f','fc_5f','p_3f','fc_3f'])\n",
    "for motif in allmotifs:\n",
    "    for label,fseqs in zip(['5f','3f'],[f5seqs,f3seqs]):\n",
    "        motml = [ m for m in s8.index if motif in fseqs[m] ]\n",
    "        nomml = [ m for m in s8.index if motif not in fseqs[m] ]\n",
    "        motvs = (s8['CP_w_SRSF3']-s8['CP_wo_SRSF3'])[motml].values\n",
    "        nomvs = (s8['CP_w_SRSF3']-s8['CP_wo_SRSF3'])[nomml].values\n",
    "        pv = ttest_ind(motvs, nomvs, equal_var=False)[1]\n",
    "        fc = np.average(motvs)-np.average(nomvs)\n",
    "        motbl.loc[motif,'p_%s'%label] = pv\n",
    "        motbl.loc[motif,'fc_%s'%label] = fc\n",
    "print len(motbl)\n",
    "motbl.head(3)"
   ]
  },
  {
   "cell_type": "code",
   "execution_count": 34,
   "metadata": {},
   "outputs": [
    {
     "data": {
      "text/html": [
       "<div>\n",
       "<style scoped>\n",
       "    .dataframe tbody tr th:only-of-type {\n",
       "        vertical-align: middle;\n",
       "    }\n",
       "\n",
       "    .dataframe tbody tr th {\n",
       "        vertical-align: top;\n",
       "    }\n",
       "\n",
       "    .dataframe thead th {\n",
       "        text-align: right;\n",
       "    }\n",
       "</style>\n",
       "<table border=\"1\" class=\"dataframe\">\n",
       "  <thead>\n",
       "    <tr style=\"text-align: right;\">\n",
       "      <th></th>\n",
       "      <th>p_5f</th>\n",
       "      <th>fc_5f</th>\n",
       "      <th>p_3f</th>\n",
       "      <th>fc_3f</th>\n",
       "      <th>padj_5f</th>\n",
       "      <th>padj_3f</th>\n",
       "    </tr>\n",
       "  </thead>\n",
       "  <tbody>\n",
       "    <tr>\n",
       "      <th>AAAA</th>\n",
       "      <td>0.836912</td>\n",
       "      <td>0.0770214</td>\n",
       "      <td>0.00698756</td>\n",
       "      <td>-1.01397</td>\n",
       "      <td>0.916596</td>\n",
       "      <td>0.0331262</td>\n",
       "    </tr>\n",
       "    <tr>\n",
       "      <th>AAAT</th>\n",
       "      <td>0.626838</td>\n",
       "      <td>0.17772</td>\n",
       "      <td>0.124056</td>\n",
       "      <td>-0.78114</td>\n",
       "      <td>0.849884</td>\n",
       "      <td>0.281048</td>\n",
       "    </tr>\n",
       "    <tr>\n",
       "      <th>AAAG</th>\n",
       "      <td>0.329275</td>\n",
       "      <td>-0.399515</td>\n",
       "      <td>0.187345</td>\n",
       "      <td>-0.569721</td>\n",
       "      <td>0.63936</td>\n",
       "      <td>0.368927</td>\n",
       "    </tr>\n",
       "  </tbody>\n",
       "</table>\n",
       "</div>"
      ],
      "text/plain": [
       "          p_5f      fc_5f        p_3f     fc_3f   padj_5f    padj_3f\n",
       "AAAA  0.836912  0.0770214  0.00698756  -1.01397  0.916596  0.0331262\n",
       "AAAT  0.626838    0.17772    0.124056  -0.78114  0.849884   0.281048\n",
       "AAAG  0.329275  -0.399515    0.187345 -0.569721   0.63936   0.368927"
      ]
     },
     "execution_count": 34,
     "metadata": {},
     "output_type": "execute_result"
    }
   ],
   "source": [
    "motbl['padj_5f'] = sm.stats.multipletests(motbl['p_5f'],method='fdr_bh')[1]\n",
    "motbl['padj_3f'] = sm.stats.multipletests(motbl['p_3f'],method='fdr_bh')[1]\n",
    "motbl.head(3)"
   ]
  },
  {
   "cell_type": "code",
   "execution_count": 35,
   "metadata": {},
   "outputs": [
    {
     "name": "stdout",
     "output_type": "stream",
     "text": [
      "223 223 10 10 23 23\n"
     ]
    }
   ],
   "source": [
    "fr = '3f'\n",
    "pcut, fccut = .01, .01\n",
    "xs = motbl[(motbl['padj_%s'%fr]>=pcut)|(abs(motbl['fc_%s'%fr])<=fccut)]['fc_%s'%fr]\n",
    "ys = -np.log10(motbl[(motbl['padj_%s'%fr]>=pcut)|(abs(motbl['fc_%s'%fr])<=fccut)]\\\n",
    "['padj_%s'%fr].tolist())\n",
    "xsig1 = motbl[(motbl['padj_%s'%fr]<pcut)&(motbl['fc_%s'%fr]>fccut)]['fc_%s'%fr]\n",
    "ysig1 = -np.log10(motbl[(motbl['padj_%s'%fr]<pcut)&(motbl['fc_%s'%fr]>fccut)]\\\n",
    "['padj_%s'%fr].tolist())\n",
    "xsig2 = motbl[(motbl['padj_%s'%fr]<pcut)&(motbl['fc_%s'%fr]<-fccut)]['fc_%s'%fr]\n",
    "ysig2 = -np.log10(motbl[(motbl['padj_%s'%fr]<pcut)&(motbl['fc_%s'%fr]<-fccut)]\\\n",
    "['padj_%s'%fr].tolist())\n",
    "print len(xs),len(ys),len(xsig1),len(ysig1),len(xsig2),len(ysig2)\n",
    "\n",
    "ecns, fcns = '#252525', '#757575'\n",
    "ecsig1, fcsig1 = '#a50f15', '#de2d26'\n",
    "ecsig2, fcsig2 = '#08519c', '#3182bd'"
   ]
  },
  {
   "cell_type": "code",
   "execution_count": 36,
   "metadata": {},
   "outputs": [
    {
     "data": {
      "text/plain": [
       "Text(-1.15,3.1,u' UGGG AGGG\\nAGAA GAGG')"
      ]
     },
     "execution_count": 36,
     "metadata": {},
     "output_type": "execute_result"
    },
    {
     "data": {
      "image/png": "[encoded data removed]",
      "text/plain": [
       "<matplotlib.figure.Figure at 0x7fd157970cd0>"
      ]
     },
     "metadata": {},
     "output_type": "display_data"
    }
   ],
   "source": [
    "fig, ax = plt.subplots(1, 1, figsize=(3,2.5))\n",
    "\n",
    "ax.axhline(-np.log10(pcut), ls='--', color='k', lw=1, zorder=2)\n",
    "ax.scatter(xs, ys, s=10, edgecolor=ecns, facecolor=fcns, lw=1, zorder=2, alpha=.6)\n",
    "ax.scatter(xsig1, ysig1, s=10, edgecolor=ecsig1, facecolor=fcsig1, lw=1, zorder=3)\n",
    "ax.scatter(xsig2, ysig2, s=10, edgecolor=ecsig2, facecolor=fcsig2, lw=1, zorder=3)\n",
    "\n",
    "ax.set_xlabel('$\\Delta$Productivity difference', fontsize=12)\n",
    "ax.set_ylabel('-log10 (adj. p-value)', fontsize=12)\n",
    "ax.set_xlim(min(min(xs),min(xsig2))*1.15,max(max(xs),max(xsig1))*1.1)\n",
    "ax.set_ylim(-max(ysig1)*.02, max(ysig1)*1.05)\n",
    "ax.set_yticks(range(0,11,2))\n",
    "ax.spines['left'].set_bounds(0,10)\n",
    "ax.grid(ls='-',lw=.5)\n",
    "\n",
    "for motif in ['CAAC','CTAC','TACA','ATAC']:\n",
    "    ax.text(motbl.loc[motif,'fc_%s'%fr]+.1,-np.log10(motbl.loc[motif,'padj_%s'%fr])+.2,\n",
    "            motif.replace('T','U'),fontsize=7,color=ecsig1,va='center')\n",
    "ax.text(1.21,4.3,'AGCA',ha='right',fontsize=7,color=ecsig1)\n",
    "ax.text(1.4,3.7,'GCAA',ha='right',fontsize=7,color=ecsig1)\n",
    "ax.text(1.8,1.75,'UUCG\\nAGCG',va='top',fontsize=7,color=ecsig1,linespacing=.9,\n",
    "       bbox={'facecolor':'w','lw':0,'alpha':.6,'boxstyle':'round,pad=0.1'})\n",
    "ax.text(1.2,2.4,'CAGC \\nCUUC',ha='right',fontsize=7,color=ecsig1,linespacing=.9)\n",
    "\n",
    "for motif in ['GAGG','GGCC','GGGA','GGAG','AGGT']:\n",
    "    ax.text(motbl.loc[motif,'fc_%s'%fr]+.1,-np.log10(motbl.loc[motif,'padj_%s'%fr])+.2,\n",
    "            motif.replace('T','U'),fontsize=7,color=ecsig2,va='center')\n",
    "for motif in ['GGTG','AGGG']:\n",
    "    ax.text(motbl.loc[motif,'fc_%s'%fr]-.05,-np.log10(motbl.loc[motif,'padj_%s'%fr])-.3,\n",
    "            motif.replace('T','U'),fontsize=7,color=ecsig2,va='center',ha='right')\n",
    "ax.text(-1.5,3.9,'AGGA GAUG',fontsize=7,color=ecsig2,\n",
    "        bbox={'facecolor':'w','lw':0,'alpha':.6,'pad':.1})\n",
    "ax.text(-1.3,3.3,'UCGG UGAG',fontsize=7,color=ecsig2)\n",
    "ax.text(-2,3.8,'AGAG',ha='center',va='top',fontsize=7,color=ecsig2)\n",
    "ax.text(-2.08,4.9,'GGAA',ha='center',fontsize=7,color=ecsig2)\n",
    "ax.text(-1.15,3.1,' UGGG AGGG\\nAGAA GAGG',va='top',fontsize=7,color=ecsig2,linespacing=.9)\n",
    "#fig.savefig(resultpath + '200924_f5d__tetramer_3p.pdf')#,dpi=300)"
   ]
  },
  {
   "cell_type": "code",
   "execution_count": 37,
   "metadata": {},
   "outputs": [
    {
     "name": "stdout",
     "output_type": "stream",
     "text": [
      "239 239 0 0 17 17\n"
     ]
    }
   ],
   "source": [
    "fr = '5f'\n",
    "pcut, fccut = .01, .01\n",
    "xs = motbl[(motbl['padj_%s'%fr]>=pcut)|(abs(motbl['fc_%s'%fr])<=fccut)]['fc_%s'%fr]\n",
    "ys = -np.log10(motbl[(motbl['padj_%s'%fr]>=pcut)|(abs(motbl['fc_%s'%fr])<=fccut)]\\\n",
    "['padj_%s'%fr].tolist())\n",
    "xsig1 = motbl[(motbl['padj_%s'%fr]<pcut)&(motbl['fc_%s'%fr]>fccut)]['fc_%s'%fr]\n",
    "ysig1 = -np.log10(motbl[(motbl['padj_%s'%fr]<pcut)&(motbl['fc_%s'%fr]>fccut)]\\\n",
    "['padj_%s'%fr].tolist())\n",
    "xsig2 = motbl[(motbl['padj_%s'%fr]<pcut)&(motbl['fc_%s'%fr]<-fccut)]['fc_%s'%fr]\n",
    "ysig2 = -np.log10(motbl[(motbl['padj_%s'%fr]<pcut)&(motbl['fc_%s'%fr]<-fccut)]\\\n",
    "['padj_%s'%fr].tolist())\n",
    "print len(xs),len(ys),len(xsig1),len(ysig1),len(xsig2),len(ysig2)\n",
    "\n",
    "ecns, fcns = '#252525', '#757575'\n",
    "ecsig1, fcsig1 = '#a50f15', '#de2d26'\n",
    "ecsig2, fcsig2 = '#08519c', '#3182bd'"
   ]
  },
  {
   "cell_type": "code",
   "execution_count": 38,
   "metadata": {
    "scrolled": true
   },
   "outputs": [
    {
     "data": {
      "text/plain": [
       "Text(-1.3,3.8,u'GUGG CAGG\\n   GGAG')"
      ]
     },
     "execution_count": 38,
     "metadata": {},
     "output_type": "execute_result"
    },
    {
     "data": {
      "image/png": "[encoded data removed]",
      "text/plain": [
       "<matplotlib.figure.Figure at 0x7fd157970810>"
      ]
     },
     "metadata": {},
     "output_type": "display_data"
    }
   ],
   "source": [
    "fig, ax = plt.subplots(1, 1, figsize=(3,2.5))\n",
    "\n",
    "ax.axhline(-np.log10(pcut), ls='--', color='k', lw=1, zorder=2)\n",
    "ax.scatter(xs, ys, s=10, edgecolor=ecns, facecolor=fcns, lw=1, zorder=2, alpha=.6)\n",
    "ax.scatter(xsig1, ysig1, s=10, edgecolor=ecsig1, facecolor=fcsig1, lw=1, zorder=3)\n",
    "ax.scatter(xsig2, ysig2, s=10, edgecolor=ecsig2, facecolor=fcsig2, lw=1, zorder=3)\n",
    "\n",
    "ax.set_xlabel('$\\Delta$Productivity difference', fontsize=12)\n",
    "ax.set_ylabel('-log10 (adj. p-value)', fontsize=12)\n",
    "ax.set_xlim(min(min(xs),min(xsig2))*1.1,max(xs)*1.1)\n",
    "ax.set_ylim(-max(ysig2)*.02, max(ysig2)*1.05)\n",
    "ax.set_yticks(range(0,10,2))\n",
    "ax.spines['left'].set_bounds(0,10)\n",
    "ax.grid(ls='-',lw=.5)\n",
    "\n",
    "for motif in ['GGTG','AGGT','TGGG','GGGA']:\n",
    "    ax.text(motbl.loc[motif,'fc_%s'%fr]+.1,-np.log10(motbl.loc[motif,'padj_%s'%fr])+.15,\n",
    "            motif.replace('T','U'),fontsize=7,color=ecsig2,va='center')\n",
    "for motif in ['CGTA','TTAG','GGGT']:\n",
    "    ax.text(motbl.loc[motif,'fc_%s'%fr]+.15,-np.log10(motbl.loc[motif,'padj_%s'%fr])+.3,\n",
    "            motif.replace('T','U'),fontsize=7,color=ecsig2,ha='center')\n",
    "ax.text(-1.7,3.7,'GGGG\\nTAGG    ',fontsize=7,color=ecsig2,ha='right',linespacing=.9)\n",
    "ax.text(-1,2.1,'AGGG GGCC CUCU\\n CUGG CCUG',fontsize=7,color=ecsig2,linespacing=.95)\n",
    "ax.text(-1.3,3.8,'GUGG CAGG\\n   GGAG',va='top',fontsize=7,color=ecsig2,linespacing=.9)\n",
    "#fig.savefig(resultpath + '200924_f5d__tetramer_5p.pdf')#,dpi=300)"
   ]
  },
  {
   "cell_type": "markdown",
   "metadata": {},
   "source": [
    "# E. SRSF3-responsive element - sequence content"
   ]
  },
  {
   "cell_type": "code",
   "execution_count": 39,
   "metadata": {},
   "outputs": [
    {
     "name": "stdout",
     "output_type": "stream",
     "text": [
      "470 211 1030\n"
     ]
    }
   ],
   "source": [
    "ptop = set(dcsmirsmp)&set(dcsmirs)\n",
    "nptop = set(nodcsmp)&set(dcsmirs)\n",
    "nptonp = set(nodcsmp)&set(nodcs)\n",
    "print len(ptop), len(nptop), len(nptonp)"
   ]
  },
  {
   "cell_type": "code",
   "execution_count": 40,
   "metadata": {},
   "outputs": [],
   "source": [
    "nfreq = {}\n",
    "for mir in f3seqs:\n",
    "    if len(f3seqs[mir])>=4:\n",
    "        nfreq[mir] = [ f3seqs[mir].count(nuc)/len(f3seqs[mir]) for nuc in 'ACGT' ]"
   ]
  },
  {
   "cell_type": "code",
   "execution_count": 41,
   "metadata": {},
   "outputs": [],
   "source": [
    "datanpnp = zip(*[nfreq[m] for m in nptonp if m in nfreq])\n",
    "norm = np.array(map(np.average, datanpnp))\n",
    "\n",
    "datapp = zip(*[nfreq[m] for m in ptop if m in nfreq])\n",
    "ypp = np.array(map(np.average, datapp))/norm; epp = map(sem,datapp)\n",
    "\n",
    "datanpp = zip(*[nfreq[m] for m in nptop if m in nfreq])\n",
    "ynpp = np.array(map(np.average, datanpp))/norm; enpp = map(sem,datanpp)\n",
    "\n",
    "ynpnp = np.array(map(np.average, datanpnp))/norm; enpnp = map(sem,datanpnp)\n",
    "\n",
    "xnpnp = np.arange(4)-.26\n",
    "xpp = np.arange(4)\n",
    "xnpp = np.arange(4)+.26\n",
    "width = .23"
   ]
  },
  {
   "cell_type": "code",
   "execution_count": 42,
   "metadata": {},
   "outputs": [
    {
     "name": "stdout",
     "output_type": "stream",
     "text": [
      "0.3157325709336211 0.15813580983809697\n",
      "5.618490359221156e-06 8.283000445433977e-05\n",
      "2.0792422861389982e-10 6.684820479114099e-05\n",
      "0.6971133934806897 0.23290431957316354\n"
     ]
    },
    {
     "data": {
      "image/png": "[encoded data removed]",
      "text/plain": [
       "<matplotlib.figure.Figure at 0x7fd0fa1e8150>"
      ]
     },
     "metadata": {},
     "output_type": "display_data"
    }
   ],
   "source": [
    "fig, ax = plt.subplots(1, 1, figsize=(3.4,2.3))\n",
    "ax.bar(xnpnp,ynpnp,yerr=enpnp,width=width,color='#cbcbcb',edgecolor='k',lw=1.3,zorder=2,\n",
    "      label='NP-to-NP')\n",
    "ax.bar(xpp,ypp,yerr=epp,width=width,color='#969696',edgecolor='k',lw=1.3,zorder=2,\n",
    "      label='P-to-P')\n",
    "ax.bar(xnpp,ynpp,yerr=enpp,width=width,color='#545454',edgecolor='k',lw=1.3,zorder=2,\n",
    "      label='NP-to-P')\n",
    "ax.set_xticks([])\n",
    "ax.legend(handlelength=1.5, prop={'size':11}, loc=(1.02,.58))\n",
    "for i,nuc in zip(range(4),list('ACGU')):\n",
    "    ax.text(i,-.16,nuc,fontsize=12,ha='center')\n",
    "\n",
    "for i,dy in zip(range(4),[.1,.23,.1,.1]):\n",
    "    for dx in [0,.3]:\n",
    "        l = lines.Line2D([i-.26,i-.26,i+dx,i+dx],\n",
    "            [1+dy+dx*.3,1.02+dy+dx*.3,1.02+dy+dx*.3,1+dy+dx*.3],ls='-',lw=1,color='k')\n",
    "        ax.add_line(l); l.set_clip_on(False)\n",
    "        \n",
    "for i,dy in zip(range(4),[.15,.28,.15,.15]):\n",
    "    p1=ttest_ind(datanpnp[i],datapp[i])[1]\n",
    "    p2=ttest_ind(datanpnp[i],datanpp[i])[1]\n",
    "    print p1,p2\n",
    "    if p1<.0005: ax.text(i-.13,1+dy-.06,'***',ha='center')\n",
    "    else: ax.text(i-.13,1+dy-.01,'n.s',fontsize=7,ha='center')\n",
    "    if p2<.0005: ax.text(i,1+dy+.03,'***',ha='center')\n",
    "    else: ax.text(i,1+dy+.08,'n.s',fontsize=7,ha='center')\n",
    "        \n",
    "ax.set_ylabel('Relative nucleotide content\\nin the SRSF3-binding site',fontsize=11)\n",
    "ax.tick_params(bottom='off')\n",
    "ax.yaxis.grid(ls='-',lw=.5)\n",
    "#fig.savefig(resultpath + '201005_f5e__nucleotide_content_v2.pdf')#,dpi=300)"
   ]
  },
  {
   "cell_type": "markdown",
   "metadata": {},
   "source": [
    "# F. Secondary structure of SRSF3-responsive miRNAs"
   ]
  },
  {
   "cell_type": "code",
   "execution_count": 43,
   "metadata": {
    "scrolled": true
   },
   "outputs": [
    {
     "name": "stdout",
     "output_type": "stream",
     "text": [
      "211 70\n"
     ]
    }
   ],
   "source": [
    "mirs = [m for m in nptop ]\n",
    "cont = [m for m in nptonp if m in dbmirs]\n",
    "print len(mirs), len(cont)"
   ]
  },
  {
   "cell_type": "code",
   "execution_count": 44,
   "metadata": {},
   "outputs": [],
   "source": [
    "strintra = pd.DataFrame(index=s5.index, columns=range(1,26))\n",
    "for mir in s5.index:\n",
    "    ch, st, en, strand = get_pre_annot(mir)\n",
    "    rst, ren = mirbase_to_relative_pos(mir, st, en)\n",
    "    f3str = s5.loc[mir][ren:-1]\n",
    "    f3str = dict(zip(range(1,26),[1 if s>0 else 0 for s in f3str]))\n",
    "    strintra.loc[mir] = pd.Series(f3str)"
   ]
  },
  {
   "cell_type": "code",
   "execution_count": 45,
   "metadata": {},
   "outputs": [],
   "source": [
    "xs = range(1,25)\n",
    "ys1 = strintra.reindex(mirs)[xs].mean()*100\n",
    "ys2 = strintra.reindex(cont)[xs].mean()*100"
   ]
  },
  {
   "cell_type": "code",
   "execution_count": 46,
   "metadata": {},
   "outputs": [
    {
     "data": {
      "text/plain": [
       "Text(18,70,u'SRSF3-\\nbinding site')"
      ]
     },
     "execution_count": 46,
     "metadata": {},
     "output_type": "execute_result"
    },
    {
     "data": {
      "image/png": "[encoded data removed]",
      "text/plain": [
       "<matplotlib.figure.Figure at 0x7fd157c31810>"
      ]
     },
     "metadata": {},
     "output_type": "display_data"
    }
   ],
   "source": [
    "fig, ax = plt.subplots(1, 1, figsize=(3.5,2.3))\n",
    "ax.errorbar(xs,ys1,ms=3,marker='o',color='#a50f15',zorder=2,label='NP-to-P (%s)'%len(mirs))\n",
    "ax.errorbar(xs,ys2,ms=3,marker='o',color='#424242',zorder=2,label='NP-to-NP (%s)'%len(cont))\n",
    "\n",
    "ax.set_xlim(0,24.5)\n",
    "ax.set_ylabel('Base-pair probability (%)',fontsize=12)\n",
    "ax.set_xticks(range(3,25,4))\n",
    "ax.set_xticks(range(1,25),minor=True)\n",
    "ax.set_xticklabels([-3,-7,-11,-15,-19,-23])\n",
    "ax.grid(ls='-',lw=.5)\n",
    "ax.legend(handlelength=1.5, loc=(.55,.8), prop={'size':10}, labelspacing=.3)\n",
    "ax.plot([14.5,14.5,21.5,21.5],[67,68,68,67],'k-',lw=1.3)\n",
    "ax.text(18,70,'SRSF3-\\nbinding site',ha='center',linespacing=.95)\n",
    "#fig.savefig(resultpath + '201005_f5e__basepair_frequency_intra_v2.pdf')#,dpi=300)"
   ]
  },
  {
   "cell_type": "markdown",
   "metadata": {},
   "source": [
    "# G. Primary sequence motifs of SRSF3-dependent miRNAs"
   ]
  },
  {
   "cell_type": "code",
   "execution_count": 47,
   "metadata": {},
   "outputs": [],
   "source": [
    "def clv_to_relative_pos(mir, c5, c3):\n",
    "    ps, pe, strand = s2.loc[mir, ['Start','End','Strand']]\n",
    "    if strand=='+':\n",
    "        return c5-ps+1, c3-ps+1\n",
    "    return pe-c5+1, pe-c3+1"
   ]
  },
  {
   "cell_type": "code",
   "execution_count": 48,
   "metadata": {},
   "outputs": [],
   "source": [
    "seq5tbl, seq3tbl = pd.DataFrame(columns=range(-20,30)), pd.DataFrame(columns=range(-25,30))\n",
    "str5tbl, str3tbl = pd.DataFrame(columns=range(-20,30)), pd.DataFrame(columns=range(-25,30))"
   ]
  },
  {
   "cell_type": "code",
   "execution_count": 51,
   "metadata": {},
   "outputs": [],
   "source": [
    "for mir in s8.index:\n",
    "    if mir in dcsmirs:\n",
    "        pres, pree = s8.loc[mir,[\"5' cleavage site\",\"3' cleavage site\"]].astype(float)\n",
    "        rps, rpe = clv_to_relative_pos(mir, int(pres), int(pree))\n",
    "    else:\n",
    "        ps, pe = get_pre_annot(mir)[1:3]\n",
    "        rps, rpe = mirbase_to_relative_pos(mir, ps, pe)\n",
    "    priseq = constseqs[mir].replace('T','U')\n",
    "    strt = [ 1 if s=='M' else 0 for s in s5.loc[mir,'symbolized structure'] ]\n",
    "    seq5, str5 = priseq[max(0,rps-21):rps+29][::-1], strt[max(0,rps-21):rps+29][::-1]\n",
    "    seq3, str3 = priseq[rpe-30:min(125,rpe+25)], strt[rpe-30:min(125,rpe+25)]\n",
    "    pos5, pos3 = range(-20,30)[::-1], range(-25,30)[::-1]\n",
    "    seq5tbl.loc[mir] = pd.Series(dict(zip(pos5,seq5)[::-1]))\n",
    "    seq3tbl.loc[mir] = pd.Series(dict(zip(pos3,seq3)[::-1]))\n",
    "    str5tbl.loc[mir] = pd.Series(dict(zip(pos5,str5)[::-1]))\n",
    "    str3tbl.loc[mir] = pd.Series(dict(zip(pos3,str3)[::-1]))"
   ]
  },
  {
   "cell_type": "code",
   "execution_count": 52,
   "metadata": {},
   "outputs": [],
   "source": [
    "seq5tbl = seq5tbl.fillna('')\n",
    "str5tbl = str5tbl.fillna('')\n",
    "seq3tbl = seq3tbl.fillna('')\n",
    "str3tbl = str3tbl.fillna('')"
   ]
  },
  {
   "cell_type": "code",
   "execution_count": 53,
   "metadata": {},
   "outputs": [],
   "source": [
    "def find_ug(mir, pos):\n",
    "    seq = ''.join(seq5tbl.loc[mir,range(pos,pos+2)].fillna(''))\n",
    "    return seq=='UG'"
   ]
  },
  {
   "cell_type": "code",
   "execution_count": 54,
   "metadata": {},
   "outputs": [],
   "source": [
    "def find_ugu(mir, pos):\n",
    "    seq = ''.join(seq5tbl.loc[mir,range(pos,pos+3)])\n",
    "    return (seq=='UGU' or seq=='GUG')"
   ]
  },
  {
   "cell_type": "code",
   "execution_count": 55,
   "metadata": {},
   "outputs": [],
   "source": [
    "def find_cnnc(mir, pos):\n",
    "    seq = ''.join(seq3tbl.loc[mir,range(pos-3,pos+1)].fillna(''))\n",
    "    return bool(re.search('C[A-Z][A-Z]C', seq))"
   ]
  },
  {
   "cell_type": "code",
   "execution_count": 56,
   "metadata": {},
   "outputs": [],
   "source": [
    "def find_ghg(mir, pos):\n",
    "    seq = ''.join(seq3tbl.loc[mir,range(pos-2,pos+1)].fillna(''))\n",
    "    st = str3tbl.loc[mir,range(pos-2,pos+1)].tolist()\n",
    "    return (bool(re.search('G[^G][A-Z]', seq)) and st==[1,0,1])\n",
    "    #return (st==[1,0,1])"
   ]
  },
  {
   "cell_type": "code",
   "execution_count": 57,
   "metadata": {},
   "outputs": [],
   "source": [
    "motifs = [ 'CNNC', 'UG', 'GHG', 'UGU' ]\n",
    "ranges = { 'UG':range(-16,-11),'UGU':range(20,25),'GHG':range(-5,0), 'CNNC':range(-20,-15) }\n",
    "funcs = { 'UG':find_ug, 'UGU':find_ugu, 'GHG':find_ghg, 'CNNC':find_cnnc }"
   ]
  },
  {
   "cell_type": "code",
   "execution_count": 58,
   "metadata": {},
   "outputs": [],
   "source": [
    "bsfreq = defaultdict(lambda: defaultdict(int))\n",
    "for mir in s8.index:\n",
    "    for motif in motifs:\n",
    "        for pos in ranges[motif]:\n",
    "            bsfreq[motif][pos]+=int(funcs[motif](mir,pos))/len(s8.index)"
   ]
  },
  {
   "cell_type": "code",
   "execution_count": 59,
   "metadata": {},
   "outputs": [],
   "source": [
    "mirls = [nptop, ptop]"
   ]
  },
  {
   "cell_type": "code",
   "execution_count": 60,
   "metadata": {},
   "outputs": [],
   "source": [
    "entbls = defaultdict(lambda: pd.DataFrame())\n",
    "for motif in motifs:\n",
    "    for i, mirl in enumerate(mirls):\n",
    "        for pos in ranges[motif]:\n",
    "            freq = len([m for m in mirl if funcs[motif](m,pos)])/len(mirl)\n",
    "            if freq==0:\n",
    "                entbls[motif].loc[i,pos] = -1\n",
    "            else:\n",
    "                entbls[motif].loc[i,pos] = np.log2(freq/bsfreq[motif][pos])\n",
    "                #entbls[motif].loc[i,pos] = np.log2(freq/np.average(bsfreq[motif].values()))"
   ]
  },
  {
   "cell_type": "code",
   "execution_count": 61,
   "metadata": {},
   "outputs": [],
   "source": [
    "labels = [ 'NP-to-P', 'P-to-P' ]\n",
    "arms = { 'UG':'5p', 'UGU':'5p', 'GHG':'3p', 'CNNC':'3p' }\n",
    "cmap = custom_cmap(['#404040','#f0f0f0','#f0f0f0','#a50f15'], nspace=6)\n",
    "emax, emin = 1.5, -1.5"
   ]
  },
  {
   "cell_type": "code",
   "execution_count": 62,
   "metadata": {},
   "outputs": [
    {
     "data": {
      "image/png": "[encoded data removed]",
      "text/plain": [
       "<matplotlib.figure.Figure at 0x7fd0f9d1af90>"
      ]
     },
     "metadata": {},
     "output_type": "display_data"
    }
   ],
   "source": [
    "fig, axes = plt.subplots(1, 4, figsize=(8,.8), sharey=True)\n",
    "for motif,ax in zip(motifs,axes):\n",
    "    im = ax.pcolor(entbls[motif],cmap=cmap,vmax=emax,vmin=emin)\n",
    "    ax.set_xticks(np.arange(5)+.5)\n",
    "    ax.set_xticklabels([i if i<0 else '+%s'%(i+1) for i in ranges[motif]])\n",
    "    ax.tick_params(left='off',bottom='off')\n",
    "    ax.spines['left'].set_visible(False); ax.spines['bottom'].set_visible(False)\n",
    "    ax.set_title('%s (%s)'%(motif.replace('UGU','UGU/GUG').replace('GHG','mGHG'),arms[motif]))\n",
    "ax = axes[0]\n",
    "ax.invert_yaxis()\n",
    "ax.set_yticks(np.arange(len(mirls))+.5)\n",
    "ax.set_yticklabels(labels, fontsize=11)\n",
    "axcb = fig.add_axes([.92,.1,.02,.7])\n",
    "cb = plt.colorbar(im, cax=axcb); cb.set_ticks([-1,0,1])\n",
    "fig.text(.97,.45,'Enrichment',va='center',rotation=270,fontsize=11)\n",
    "fig.subplots_adjust(wspace=.1)\n",
    "#fig.savefig(resultpath + '200929_f5g__nptop_ptop_sequence_v2.pdf')#,dpi=300)"
   ]
  },
  {
   "cell_type": "markdown",
   "metadata": {},
   "source": [
    "# H. Comparison with DROSHA fCLIP-seq sites"
   ]
  },
  {
   "cell_type": "code",
   "execution_count": 64,
   "metadata": {},
   "outputs": [
    {
     "name": "stdout",
     "output_type": "stream",
     "text": [
      "49\n"
     ]
    }
   ],
   "source": [
    "s6sort = s6.sort_values('Cleavage Specificity', ascending=False)\n",
    "shifted = []\n",
    "for mir in ptop:\n",
    "    c5 = int(s7.loc[mir,\"IVP 5' site\"].split(', ')[0])\n",
    "    c3 = int(s7.loc[mir,\"IVP 3' site\"].split(', ')[0])\n",
    "    c5new, c3new = s8.loc[mir,[\"5' cleavage site\",\"3' cleavage site\"]].astype(float)\n",
    "    if c5!=int(c5new) or c3!=int(c3new):\n",
    "        shifted.append(mir)\n",
    "print len(shifted)"
   ]
  },
  {
   "cell_type": "code",
   "execution_count": 66,
   "metadata": {},
   "outputs": [
    {
     "name": "stdout",
     "output_type": "stream",
     "text": [
      "18 1\n"
     ]
    }
   ],
   "source": [
    "consis, incons = [],[]\n",
    "for mir in shifted:\n",
    "    if mir not in s7[\"fCLIP 5' site\"].dropna().index: continue\n",
    "    fcl5cs = map(int, s7.loc[mir,\"fCLIP 5' site\"].split(', '))\n",
    "    fcl3cs = map(int, s7.loc[mir,\"fCLIP 3' site\"].split(', '))\n",
    "    c5new, c3new = s8.loc[mir,[\"5' cleavage site\",\"3' cleavage site\"]].astype(float)\n",
    "    if int(c5new) in fcl5cs and int(c3new) in fcl3cs:\n",
    "        consis.append(mir)\n",
    "    else:\n",
    "        incons.append(mir)\n",
    "print len(consis), len(incons)"
   ]
  },
  {
   "cell_type": "code",
   "execution_count": 67,
   "metadata": {},
   "outputs": [],
   "source": [
    "data = [ len(consis), len(incons) ]\n",
    "frac = map(lambda x:x/sum(data)*100, data)\n",
    "colors = [ '#8da0cb', '#969696' ]\n",
    "title = 'Cleavage sites altered by SRSF3'\n",
    "labels = ['Matched with fCLIP site','Not matched']"
   ]
  },
  {
   "cell_type": "code",
   "execution_count": 68,
   "metadata": {},
   "outputs": [
    {
     "data": {
      "text/plain": [
       "Text(-1.25,1.4,u'Cleavage sites altered by SRSF3')"
      ]
     },
     "execution_count": 68,
     "metadata": {},
     "output_type": "execute_result"
    },
    {
     "data": {
      "image/png": "[encoded data removed]",
      "text/plain": [
       "<matplotlib.figure.Figure at 0x7fd157b2f850>"
      ]
     },
     "metadata": {},
     "output_type": "display_data"
    }
   ],
   "source": [
    "fig, ax = plt.subplots(1, 1, figsize=(2,2))\n",
    "\n",
    "ps, ts = ax.pie(data,colors=colors,startangle=-10,textprops={'fontsize':12},)\n",
    "for p in ps:\n",
    "    p.set_linewidth(1.5)\n",
    "    p.set_edgecolor('white')\n",
    "\n",
    "ax.text(1.1,.4,'Consistent with fCLIP site\\n(%s, %.0f%%)'%(data[0],frac[0]),fontsize=11)\n",
    "ax.text(1.15,-.7,'Inconsistent\\n(%s, %.0f%%)'%(data[1],frac[1]),fontsize=11)\n",
    "\n",
    "l = lines.Line2D([.9,1],[.5,.55],color='k',lw=1); ax.add_line(l); l.set_clip_on(False)\n",
    "l = lines.Line2D([.95,1.05],[-.37,-.41],color='k',lw=1); ax.add_line(l); l.set_clip_on(False)\n",
    "l = lines.Line2D([-1.1,-1.1,2.5,2.5],[1.1,1.15,1.15,1.1],\n",
    "                color='k',lw=1); ax.add_line(l); l.set_clip_on(False)\n",
    "ax.text(-1.25,1.4,title,fontsize=12)\n",
    "#fig.savefig(resultpath + '201005_f5h_comparison_fCLIP.png',dpi=300)"
   ]
  },
  {
   "cell_type": "code",
   "execution_count": 69,
   "metadata": {
    "scrolled": true
   },
   "outputs": [],
   "source": [
    "fclipexcel = pd.ExcelFile('supplementary/Kim_2017_s2.xlsx')\n",
    "fclip293t = fclipexcel.parse('HEK293T_miRBase', index_col=0)\n",
    "fcliphela = fclipexcel.parse('HeLa_miRBase', index_col=0)\n",
    "both293t = fclip293t[(fclip293t['Group5p']!='Unidentified')\n",
    "                     &(fclip293t['Group3p']!='Unidentified')]\n",
    "bothhela = fcliphela[(fcliphela['Group5p']!='Unidentified')\n",
    "                     &(fcliphela['Group3p']!='Unidentified')]"
   ]
  },
  {
   "cell_type": "code",
   "execution_count": 70,
   "metadata": {},
   "outputs": [
    {
     "name": "stdout",
     "output_type": "stream",
     "text": [
      "35 10\n"
     ]
    }
   ],
   "source": [
    "consis, incons = [],[]\n",
    "for mir in nptop:\n",
    "    if mir in both293t.index:\n",
    "        fcl5cs = map(int, str(both293t.loc[mir, 'fCLIPPosition5p']).split(';'))\n",
    "        fcl3cs = map(int, str(both293t.loc[mir, 'fCLIPPosition3p']).split(';'))\n",
    "    elif mir in bothhela.index:\n",
    "        fcl5cs = map(int, str(bothhela.loc[mir, 'fCLIPPosition5p']).split(';'))\n",
    "        fcl3cs = map(int, str(bothhela.loc[mir, 'fCLIPPosition3p']).split(';'))\n",
    "    else:\n",
    "        continue\n",
    "    c5new, c3new = s8.loc[mir,[\"5' cleavage site\",\"3' cleavage site\"]].astype(float)\n",
    "    if int(c5new) in fcl5cs and int(c3new) in fcl3cs:\n",
    "        consis.append(mir)\n",
    "    else:\n",
    "        incons.append(mir)\n",
    "print len(consis), len(incons)"
   ]
  },
  {
   "cell_type": "code",
   "execution_count": 71,
   "metadata": {},
   "outputs": [],
   "source": [
    "data = [ len(consis), len(incons) ]\n",
    "frac = map(lambda x:x/sum(data)*100, data)\n",
    "colors = [ '#66c2a5', '#969696' ]\n",
    "title = 'Cleavage sites newly determined by SRSF3'\n",
    "labels = ['Matched with fCLIP site','Not matched']"
   ]
  },
  {
   "cell_type": "code",
   "execution_count": 72,
   "metadata": {},
   "outputs": [
    {
     "data": {
      "text/plain": [
       "Text(-1.25,1.4,u'Cleavage sites newly determined by SRSF3')"
      ]
     },
     "execution_count": 72,
     "metadata": {},
     "output_type": "execute_result"
    },
    {
     "data": {
      "image/png": "[encoded data removed]",
      "text/plain": [
       "<matplotlib.figure.Figure at 0x7fd0f9d20dd0>"
      ]
     },
     "metadata": {},
     "output_type": "display_data"
    }
   ],
   "source": [
    "fig, ax = plt.subplots(1, 1, figsize=(2,2))\n",
    "\n",
    "ps, ts = ax.pie(data,colors=colors,startangle=10,textprops={'fontsize':12},)\n",
    "for p in ps:\n",
    "    p.set_linewidth(1.5)\n",
    "    p.set_edgecolor('white')\n",
    "\n",
    "ax.text(1.1,.4,'Consistent with fCLIP site\\n(%s, %.0f%%)'%(data[0],frac[0]),fontsize=11)\n",
    "ax.text(1.15,-.7,'Inconsistent\\n(%s, %.0f%%)'%(data[1],frac[1]),fontsize=11)\n",
    "\n",
    "l = lines.Line2D([.9,1],[.5,.55],color='k',lw=1); ax.add_line(l); l.set_clip_on(False)\n",
    "l = lines.Line2D([.95,1.05],[-.37,-.41],color='k',lw=1); ax.add_line(l); l.set_clip_on(False)\n",
    "l = lines.Line2D([-1.1,-1.1,2.5,2.5],[1.1,1.15,1.15,1.1],\n",
    "                color='k',lw=1); ax.add_line(l); l.set_clip_on(False)\n",
    "ax.text(-1.25,1.4,title,fontsize=12)\n",
    "#fig.savefig(resultpath + '201005_s5h_comparison_fCLIP_nptop.png',dpi=300)"
   ]
  },
  {
   "cell_type": "code",
   "execution_count": null,
   "metadata": {},
   "outputs": [],
   "source": []
  }
 ],
 "metadata": {
  "kernelspec": {
   "display_name": "Python 2",
   "language": "python",
   "name": "python2"
  },
  "language_info": {
   "codemirror_mode": {
    "name": "ipython",
    "version": 2
   },
   "file_extension": ".py",
   "mimetype": "text/x-python",
   "name": "python",
   "nbconvert_exporter": "python",
   "pygments_lexer": "ipython2",
   "version": "2.7.18"
  }
 },
 "nbformat": 4,
 "nbformat_minor": 2
}
