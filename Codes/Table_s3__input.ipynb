{
 "cells": [
  {
   "cell_type": "markdown",
   "metadata": {},
   "source": [
    "# Supplementary Table 3. Input\n",
    "1. List up pri-miRNAs with redundant construct sequence\n",
    "2. Build table\n",
    "3. Add redundant pri-miRNAs"
   ]
  },
  {
   "cell_type": "code",
   "execution_count": 1,
   "metadata": {},
   "outputs": [
    {
     "name": "stdout",
     "output_type": "stream",
     "text": [
      "Last revised by Seungchan Baek at 2020-10-13.\n"
     ]
    }
   ],
   "source": [
    "import time\n",
    "today = time.strftime('%Y-%m-%d')\n",
    "name = 'Seungchan Baek'\n",
    "print 'Last revised by %s at %s.' % (name, today)"
   ]
  },
  {
   "cell_type": "code",
   "execution_count": 2,
   "metadata": {},
   "outputs": [
    {
     "name": "stdout",
     "output_type": "stream",
     "text": [
      "/casa/bsc/projects/1_DCS/2004_paper_prep\n"
     ]
    }
   ],
   "source": [
    "home = '/casa/bsc/projects/1_DCS/2004_paper_prep/'\n",
    "%cd $home"
   ]
  },
  {
   "cell_type": "code",
   "execution_count": 3,
   "metadata": {},
   "outputs": [],
   "source": [
    "from __future__ import division\n",
    "import pandas as pd\n",
    "import numpy as np\n",
    "import re\n",
    "import gzip\n",
    "from matplotlib import pyplot as plt\n",
    "from collections import defaultdict, Counter\n",
    "%matplotlib inline"
   ]
  },
  {
   "cell_type": "markdown",
   "metadata": {},
   "source": [
    "### 1. List up pri-miRNAs with redundant construct sequence"
   ]
  },
  {
   "cell_type": "code",
   "execution_count": 4,
   "metadata": {},
   "outputs": [
    {
     "name": "stdout",
     "output_type": "stream",
     "text": [
      "30\n"
     ]
    }
   ],
   "source": [
    "## Pri-miRNAs of identical 125mer sequences\n",
    "s2 = 'supplementary/201012_s2_pri-construct.csv'\n",
    "s2tbl = pd.read_csv(s2, index_col=0, header=1)\n",
    "s2redund = s2tbl[s2tbl['Note'].apply(lambda x: str(x).find('Same construct')>=0)]\n",
    "redundRepre = {}\n",
    "for pri, note in dict(s2redund['Note']).items():\n",
    "    repre = note.split()[-1]\n",
    "    redundRepre[pri] = repre\n",
    "print len(redundRepre)"
   ]
  },
  {
   "cell_type": "code",
   "execution_count": 5,
   "metadata": {},
   "outputs": [],
   "source": [
    "repreRedund = defaultdict(list)\n",
    "for mir in redundRepre:\n",
    "    repreRedund[redundRepre[mir]].append(mir)"
   ]
  },
  {
   "cell_type": "markdown",
   "metadata": {},
   "source": [
    "### 2. Build table"
   ]
  },
  {
   "cell_type": "code",
   "execution_count": 6,
   "metadata": {},
   "outputs": [
    {
     "data": {
      "text/html": [
       "<div>\n",
       "<style scoped>\n",
       "    .dataframe tbody tr th:only-of-type {\n",
       "        vertical-align: middle;\n",
       "    }\n",
       "\n",
       "    .dataframe tbody tr th {\n",
       "        vertical-align: top;\n",
       "    }\n",
       "\n",
       "    .dataframe thead th {\n",
       "        text-align: right;\n",
       "    }\n",
       "</style>\n",
       "<table border=\"1\" class=\"dataframe\">\n",
       "  <thead>\n",
       "    <tr style=\"text-align: right;\">\n",
       "      <th></th>\n",
       "      <th>set1-1</th>\n",
       "      <th>set1-2</th>\n",
       "      <th>set2</th>\n",
       "      <th>set3-1</th>\n",
       "      <th>set3-2</th>\n",
       "      <th>set4</th>\n",
       "      <th>set5-1</th>\n",
       "      <th>set5-2</th>\n",
       "    </tr>\n",
       "    <tr>\n",
       "      <th>Pri-miRNA</th>\n",
       "      <th></th>\n",
       "      <th></th>\n",
       "      <th></th>\n",
       "      <th></th>\n",
       "      <th></th>\n",
       "      <th></th>\n",
       "      <th></th>\n",
       "      <th></th>\n",
       "    </tr>\n",
       "  </thead>\n",
       "  <tbody>\n",
       "    <tr>\n",
       "      <th>hsa-let-7a-1</th>\n",
       "      <td>0</td>\n",
       "      <td>0</td>\n",
       "      <td>0</td>\n",
       "      <td>0</td>\n",
       "      <td>0</td>\n",
       "      <td>0</td>\n",
       "      <td>0</td>\n",
       "      <td>0</td>\n",
       "    </tr>\n",
       "    <tr>\n",
       "      <th>hsa-let-7a-2</th>\n",
       "      <td>0</td>\n",
       "      <td>0</td>\n",
       "      <td>0</td>\n",
       "      <td>0</td>\n",
       "      <td>0</td>\n",
       "      <td>0</td>\n",
       "      <td>0</td>\n",
       "      <td>0</td>\n",
       "    </tr>\n",
       "    <tr>\n",
       "      <th>hsa-let-7a-3</th>\n",
       "      <td>0</td>\n",
       "      <td>0</td>\n",
       "      <td>0</td>\n",
       "      <td>0</td>\n",
       "      <td>0</td>\n",
       "      <td>0</td>\n",
       "      <td>0</td>\n",
       "      <td>0</td>\n",
       "    </tr>\n",
       "    <tr>\n",
       "      <th>hsa-let-7b</th>\n",
       "      <td>0</td>\n",
       "      <td>0</td>\n",
       "      <td>0</td>\n",
       "      <td>0</td>\n",
       "      <td>0</td>\n",
       "      <td>0</td>\n",
       "      <td>0</td>\n",
       "      <td>0</td>\n",
       "    </tr>\n",
       "    <tr>\n",
       "      <th>hsa-let-7c</th>\n",
       "      <td>0</td>\n",
       "      <td>0</td>\n",
       "      <td>0</td>\n",
       "      <td>0</td>\n",
       "      <td>0</td>\n",
       "      <td>0</td>\n",
       "      <td>0</td>\n",
       "      <td>0</td>\n",
       "    </tr>\n",
       "  </tbody>\n",
       "</table>\n",
       "</div>"
      ],
      "text/plain": [
       "              set1-1  set1-2  set2  set3-1  set3-2  set4  set5-1  set5-2\n",
       "Pri-miRNA                                                               \n",
       "hsa-let-7a-1       0       0     0       0       0     0       0       0\n",
       "hsa-let-7a-2       0       0     0       0       0     0       0       0\n",
       "hsa-let-7a-3       0       0     0       0       0     0       0       0\n",
       "hsa-let-7b         0       0     0       0       0     0       0       0\n",
       "hsa-let-7c         0       0     0       0       0     0       0       0"
      ]
     },
     "execution_count": 6,
     "metadata": {},
     "output_type": "execute_result"
    }
   ],
   "source": [
    "allinputs = 'set1-1 set1-2 set2 set3-1 set3-2 set4 set5-1 set5-2'.split()\n",
    "allpris = list(s2tbl.index)\n",
    "inptbl = pd.DataFrame(columns=['Pri-miRNA']+allinputs)\n",
    "inptbl['Pri-miRNA'] = allpris\n",
    "inptbl = inptbl.set_index('Pri-miRNA').fillna(0)\n",
    "inptbl.head()"
   ]
  },
  {
   "cell_type": "code",
   "execution_count": 7,
   "metadata": {},
   "outputs": [],
   "source": [
    "for lib in allinputs:\n",
    "    txt = 'input/alignments/%s.txt.gz' % lib\n",
    "    mirs = !zcat $txt | cut -d\" \" -f1\n",
    "    adjmirs = [ 'hsa-mir-1302-11' if m=='hsa-mir-1302-2' else m for m in mirs ]\n",
    "    mircnts = pd.Series(Counter(adjmirs))\n",
    "    inptbl[lib].update(mircnts)"
   ]
  },
  {
   "cell_type": "code",
   "execution_count": 8,
   "metadata": {},
   "outputs": [
    {
     "name": "stdout",
     "output_type": "stream",
     "text": [
      "1881\n"
     ]
    },
    {
     "data": {
      "text/html": [
       "<div>\n",
       "<style scoped>\n",
       "    .dataframe tbody tr th:only-of-type {\n",
       "        vertical-align: middle;\n",
       "    }\n",
       "\n",
       "    .dataframe tbody tr th {\n",
       "        vertical-align: top;\n",
       "    }\n",
       "\n",
       "    .dataframe thead th {\n",
       "        text-align: right;\n",
       "    }\n",
       "</style>\n",
       "<table border=\"1\" class=\"dataframe\">\n",
       "  <thead>\n",
       "    <tr style=\"text-align: right;\">\n",
       "      <th></th>\n",
       "      <th>set1-1</th>\n",
       "      <th>set1-2</th>\n",
       "      <th>set2</th>\n",
       "      <th>set3-1</th>\n",
       "      <th>set3-2</th>\n",
       "      <th>set4</th>\n",
       "      <th>set5-1</th>\n",
       "      <th>set5-2</th>\n",
       "    </tr>\n",
       "    <tr>\n",
       "      <th>Pri-miRNA</th>\n",
       "      <th></th>\n",
       "      <th></th>\n",
       "      <th></th>\n",
       "      <th></th>\n",
       "      <th></th>\n",
       "      <th></th>\n",
       "      <th></th>\n",
       "      <th></th>\n",
       "    </tr>\n",
       "  </thead>\n",
       "  <tbody>\n",
       "    <tr>\n",
       "      <th>hsa-let-7a-1</th>\n",
       "      <td>591</td>\n",
       "      <td>782</td>\n",
       "      <td>474</td>\n",
       "      <td>0</td>\n",
       "      <td>0</td>\n",
       "      <td>2</td>\n",
       "      <td>0</td>\n",
       "      <td>0</td>\n",
       "    </tr>\n",
       "    <tr>\n",
       "      <th>hsa-let-7a-2</th>\n",
       "      <td>969</td>\n",
       "      <td>1254</td>\n",
       "      <td>1252</td>\n",
       "      <td>0</td>\n",
       "      <td>0</td>\n",
       "      <td>1</td>\n",
       "      <td>0</td>\n",
       "      <td>0</td>\n",
       "    </tr>\n",
       "    <tr>\n",
       "      <th>hsa-let-7a-3</th>\n",
       "      <td>1401</td>\n",
       "      <td>1570</td>\n",
       "      <td>2158</td>\n",
       "      <td>0</td>\n",
       "      <td>0</td>\n",
       "      <td>8</td>\n",
       "      <td>0</td>\n",
       "      <td>0</td>\n",
       "    </tr>\n",
       "    <tr>\n",
       "      <th>hsa-let-7b</th>\n",
       "      <td>1046</td>\n",
       "      <td>1212</td>\n",
       "      <td>1146</td>\n",
       "      <td>0</td>\n",
       "      <td>0</td>\n",
       "      <td>1</td>\n",
       "      <td>0</td>\n",
       "      <td>0</td>\n",
       "    </tr>\n",
       "    <tr>\n",
       "      <th>hsa-let-7c</th>\n",
       "      <td>739</td>\n",
       "      <td>843</td>\n",
       "      <td>856</td>\n",
       "      <td>0</td>\n",
       "      <td>0</td>\n",
       "      <td>5</td>\n",
       "      <td>0</td>\n",
       "      <td>0</td>\n",
       "    </tr>\n",
       "  </tbody>\n",
       "</table>\n",
       "</div>"
      ],
      "text/plain": [
       "              set1-1  set1-2  set2  set3-1  set3-2  set4  set5-1  set5-2\n",
       "Pri-miRNA                                                               \n",
       "hsa-let-7a-1     591     782   474       0       0     2       0       0\n",
       "hsa-let-7a-2     969    1254  1252       0       0     1       0       0\n",
       "hsa-let-7a-3    1401    1570  2158       0       0     8       0       0\n",
       "hsa-let-7b      1046    1212  1146       0       0     1       0       0\n",
       "hsa-let-7c       739     843   856       0       0     5       0       0"
      ]
     },
     "execution_count": 8,
     "metadata": {},
     "output_type": "execute_result"
    }
   ],
   "source": [
    "print len(inptbl.index)\n",
    "inptbl.head()"
   ]
  },
  {
   "cell_type": "markdown",
   "metadata": {},
   "source": [
    "### 3. Add redundant pri-miRNAs"
   ]
  },
  {
   "cell_type": "code",
   "execution_count": 9,
   "metadata": {},
   "outputs": [],
   "source": [
    "for pri in inptbl.index:\n",
    "    if pri in repreRedund:\n",
    "        for pri2 in repreRedund[pri]:\n",
    "            inptbl.loc[pri2] = inptbl.loc[pri]"
   ]
  },
  {
   "cell_type": "code",
   "execution_count": 10,
   "metadata": {},
   "outputs": [],
   "source": [
    "inptbl.sort_index().to_csv('resources/201012_s3_input.csv')"
   ]
  },
  {
   "cell_type": "code",
   "execution_count": 11,
   "metadata": {},
   "outputs": [],
   "source": [
    "out = open('supplementary/201012_s3_input.csv', 'wt')\n",
    "description = 'Supplementary Table 3. Input\\n\\n\\n\\n\\n'\n",
    "out.write(description)\n",
    "for l in open('resources/201012_s3_input.csv', 'rt'):\n",
    "    out.write(l)\n",
    "out.close()"
   ]
  },
  {
   "cell_type": "code",
   "execution_count": null,
   "metadata": {},
   "outputs": [],
   "source": []
  }
 ],
 "metadata": {
  "kernelspec": {
   "display_name": "Python 2",
   "language": "python",
   "name": "python2"
  },
  "language_info": {
   "codemirror_mode": {
    "name": "ipython",
    "version": 2
   },
   "file_extension": ".py",
   "mimetype": "text/x-python",
   "name": "python",
   "nbconvert_exporter": "python",
   "pygments_lexer": "ipython2",
   "version": "2.7.18"
  }
 },
 "nbformat": 4,
 "nbformat_minor": 2
}
