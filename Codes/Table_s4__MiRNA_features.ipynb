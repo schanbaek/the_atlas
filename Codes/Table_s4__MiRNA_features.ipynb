{
 "cells": [
  {
   "cell_type": "markdown",
   "metadata": {},
   "source": [
    "# Supplementary Table 4. Pri-miRNA features\n",
    "1. structure information (ct format)  \n",
    "2. symbolized structure (M-match, S-symmetric IL, A-asymmetric IL/bulge, F-flanking segment, X-internal stem loop) "
   ]
  },
  {
   "cell_type": "code",
   "execution_count": 2,
   "metadata": {},
   "outputs": [
    {
     "name": "stdout",
     "output_type": "stream",
     "text": [
      "Last revised by Seungchan Baek at 2020-11-25.\n"
     ]
    }
   ],
   "source": [
    "import time\n",
    "today = time.strftime('%Y-%m-%d')\n",
    "name = 'Seungchan Baek'\n",
    "print 'Last revised by %s at %s.' % (name, today)"
   ]
  },
  {
   "cell_type": "code",
   "execution_count": 3,
   "metadata": {},
   "outputs": [
    {
     "name": "stdout",
     "output_type": "stream",
     "text": [
      "/casa/bsc/projects/1_DCS/2004_paper_prep\n"
     ]
    }
   ],
   "source": [
    "home = '/casa/bsc/projects/1_DCS/2004_paper_prep/'\n",
    "%cd $home"
   ]
  },
  {
   "cell_type": "code",
   "execution_count": 46,
   "metadata": {},
   "outputs": [],
   "source": [
    "from __future__ import division\n",
    "import pandas as pd\n",
    "import sys; sys.path.append('/casa/bsc/notebooks/')\n",
    "import re\n",
    "from util import *"
   ]
  },
  {
   "cell_type": "code",
   "execution_count": 15,
   "metadata": {},
   "outputs": [
    {
     "name": "stdout",
     "output_type": "stream",
     "text": [
      "1881\n"
     ]
    }
   ],
   "source": [
    "s1 = pd.read_csv('supplementary/201123_s1__DROSHA_dependency.csv', header=1, index_col=0)\n",
    "s2 = pd.read_csv('supplementary/201123_s2__Construct.csv', header=1, index_col=0).fillna('')\n",
    "s3 = pd.read_csv('supplementary/201123_s3__DROSHA_processing_result.csv', header=1, index_col=0)\n",
    "allpris = s1.index\n",
    "print len(allpris)"
   ]
  },
  {
   "cell_type": "code",
   "execution_count": 19,
   "metadata": {},
   "outputs": [
    {
     "name": "stdout",
     "output_type": "stream",
     "text": [
      "1881\n"
     ]
    }
   ],
   "source": [
    "constseqs = dict(s2['Construct sequence (125 nt)'])\n",
    "print len(constseqs)"
   ]
  },
  {
   "cell_type": "code",
   "execution_count": 6,
   "metadata": {},
   "outputs": [
    {
     "name": "stdout",
     "output_type": "stream",
     "text": [
      "1881 (32, 90)\n"
     ]
    }
   ],
   "source": [
    "preposition = {}\n",
    "for mir in s2.index:\n",
    "    flank5, flank3 = s2.loc[mir,[\"5' flanking segment\",\"3' flanking segment\"]]\n",
    "    if flank5 and flank3:\n",
    "        preposition[mir] = (len(flank5)+1,125-len(flank3))\n",
    "    else:\n",
    "        preposition[mir] = (0,125)\n",
    "print len(preposition), preposition['hsa-mir-142']"
   ]
  },
  {
   "cell_type": "code",
   "execution_count": 17,
   "metadata": {},
   "outputs": [
    {
     "name": "stdout",
     "output_type": "stream",
     "text": [
      "1816 534 1282\n"
     ]
    }
   ],
   "source": [
    "EFFCUT = 2.5\n",
    "HOMCUT = .25\n",
    "effs = s3['Cleavage Efficiency'].to_dict()\n",
    "homs = s3['Cleavage Homogeneity'].to_dict()\n",
    "dcsmirs = [ m for m in s3.index if effs[m]>=EFFCUT and homs[m]>=HOMCUT ]\n",
    "nodcs = [ m for m in s3.index if m not in dcsmirs ]\n",
    "print len(s3.index), len(dcsmirs), len(nodcs)"
   ]
  },
  {
   "cell_type": "code",
   "execution_count": 12,
   "metadata": {},
   "outputs": [
    {
     "data": {
      "text/html": [
       "<div>\n",
       "<style scoped>\n",
       "    .dataframe tbody tr th:only-of-type {\n",
       "        vertical-align: middle;\n",
       "    }\n",
       "\n",
       "    .dataframe tbody tr th {\n",
       "        vertical-align: top;\n",
       "    }\n",
       "\n",
       "    .dataframe thead th {\n",
       "        text-align: right;\n",
       "    }\n",
       "</style>\n",
       "<table border=\"1\" class=\"dataframe\">\n",
       "  <thead>\n",
       "    <tr style=\"text-align: right;\">\n",
       "      <th></th>\n",
       "      <th>Secondary structure</th>\n",
       "      <th>Stable lower stem</th>\n",
       "      <th>UG</th>\n",
       "      <th>UGU/G</th>\n",
       "      <th>mGHG</th>\n",
       "      <th>CNNC</th>\n",
       "    </tr>\n",
       "    <tr>\n",
       "      <th>Pri-miRNA</th>\n",
       "      <th></th>\n",
       "      <th></th>\n",
       "      <th></th>\n",
       "      <th></th>\n",
       "      <th></th>\n",
       "      <th></th>\n",
       "    </tr>\n",
       "  </thead>\n",
       "  <tbody>\n",
       "  </tbody>\n",
       "</table>\n",
       "</div>"
      ],
      "text/plain": [
       "Empty DataFrame\n",
       "Columns: [Secondary structure, Stable lower stem, UG, UGU/G, mGHG, CNNC]\n",
       "Index: []"
      ]
     },
     "execution_count": 12,
     "metadata": {},
     "output_type": "execute_result"
    }
   ],
   "source": [
    "cols = [ 'Pri-miRNA','Secondary structure','Stable lower stem','UG','UGU/G','mGHG','CNNC' ]\n",
    "tbl = pd.DataFrame(columns=cols).set_index('Pri-miRNA')\n",
    "tbl.head(1)"
   ]
  },
  {
   "cell_type": "markdown",
   "metadata": {},
   "source": [
    "### Secondary structure"
   ]
  },
  {
   "cell_type": "code",
   "execution_count": 9,
   "metadata": {},
   "outputs": [],
   "source": [
    "def get_ct_info(mir):\n",
    "    ct = 'supplementary/structures/%s.ct' % mir\n",
    "    lines = open(ct, 'rt').read().split('\\n')[1:-1]\n",
    "    ctinfo = [ tuple(map(int, l.strip().split()[4:6][::-1])) for l in lines ]\n",
    "    return ctinfo"
   ]
  },
  {
   "cell_type": "code",
   "execution_count": 10,
   "metadata": {},
   "outputs": [],
   "source": [
    "def get_sym_str(mir):\n",
    "    ps, pe = preposition[mir]\n",
    "    stinfo = [ p for p in get_ct_info(mir) if p[1]>0 ] \n",
    "    ls = [ (m,n) for i,(m,n) in enumerate(stinfo[:-1]) if stinfo[i+1]==(n,m) and m>ps and n<pe ]\n",
    "    if not ls:\n",
    "        return 'F'*125\n",
    "    loopst, loopen = min(ls, key=lambda (x,y):abs(120-x-y))\n",
    "    stemst, stemen = [ (i,p) for i,p in stinfo if i<loopst and p>loopen ][0]\n",
    "    pairs = [ (i,p) for i,p in stinfo if stemst<=i<=loopst and loopen<=p<=stemen ]\n",
    "    pairs = pairs + [ (p,i) for i,p in pairs ][::-1]\n",
    "    symst = ''\n",
    "    for (l5,l3), (u5,u3) in zip(pairs[:-1],pairs[1:]):\n",
    "        if l5==loopst: symst += 'M'+'L'*(loopen-loopst-1)\n",
    "        elif u5-l5==1: symst += 'M'\n",
    "        else:\n",
    "            symmet = min(u5-l5-1, l3-u3-1)\n",
    "            symst += 'M' + (u5-l5-1-symmet)*'A' + symmet*'S'\n",
    "    symst = 'F'*(stemst-1) + symst + 'M' + 'F'*(125-stemen)\n",
    "    return symst"
   ]
  },
  {
   "cell_type": "code",
   "execution_count": 13,
   "metadata": {},
   "outputs": [],
   "source": [
    "for pri in allpris:\n",
    "    tbl.loc[pri, 'Secondary structure'] = get_sym_str(pri)"
   ]
  },
  {
   "cell_type": "markdown",
   "metadata": {},
   "source": [
    "### Sequence motifs"
   ]
  },
  {
   "cell_type": "code",
   "execution_count": 18,
   "metadata": {},
   "outputs": [
    {
     "name": "stdout",
     "output_type": "stream",
     "text": [
      "534 (25, 96)\n"
     ]
    }
   ],
   "source": [
    "majorcs = {}\n",
    "for mir in dcsmirs:\n",
    "    c5, c3 = s3.loc[[mir],[\"5' cleavage site\",\"3' cleavage site\"]].iloc[0]\n",
    "    majorcs[mir] = (int(c5),int(c3))\n",
    "print len(majorcs), majorcs['hsa-let-7a-1']"
   ]
  },
  {
   "cell_type": "code",
   "execution_count": 61,
   "metadata": {},
   "outputs": [],
   "source": [
    "seq5tbl, seq3tbl = pd.DataFrame(columns=range(-20,30)), pd.DataFrame(columns=range(-25,30))\n",
    "str5tbl, str3tbl = pd.DataFrame(columns=range(-20,30)), pd.DataFrame(columns=range(-25,30))"
   ]
  },
  {
   "cell_type": "code",
   "execution_count": 62,
   "metadata": {},
   "outputs": [],
   "source": [
    "for mir in s3.index:\n",
    "    if mir in dcsmirs:\n",
    "        ps, pe = majorcs[mir]\n",
    "    else:\n",
    "        ps, pe = preposition[mir]\n",
    "    priseq = constseqs[mir].replace('T','U')\n",
    "    strt = [ 1 if s=='M' else 0 for s in tbl.loc[mir,'Secondary structure'] ]\n",
    "    seq5, str5 = priseq[max(0,ps-21):ps+29][::-1], strt[max(0,ps-21):ps+29][::-1]\n",
    "    seq3, str3 = priseq[pe-30:min(125,pe+25)], strt[pe-30:min(125,pe+25)]\n",
    "    pos5, pos3 = range(-20,30)[::-1], range(-25,30)[::-1]\n",
    "    seq5tbl.loc[mir] = pd.Series(dict(zip(pos5,seq5)[::-1]))\n",
    "    seq3tbl.loc[mir] = pd.Series(dict(zip(pos3,seq3)[::-1]))\n",
    "    str5tbl.loc[mir] = pd.Series(dict(zip(pos5,str5)[::-1]))\n",
    "    str3tbl.loc[mir] = pd.Series(dict(zip(pos3,str3)[::-1]))\n",
    "    \n",
    "seq5tbl = seq5tbl.fillna('')\n",
    "seq3tbl = seq3tbl.fillna('')"
   ]
  },
  {
   "cell_type": "code",
   "execution_count": 25,
   "metadata": {},
   "outputs": [],
   "source": [
    "ghgexcel = pd.ExcelFile('supplementary/Kwon_2018_s4.xlsx')\n",
    "scotbl = ghgexcel.parse('DODGERS scores',header=5,index_col=2)"
   ]
  },
  {
   "cell_type": "code",
   "execution_count": 20,
   "metadata": {},
   "outputs": [],
   "source": [
    "def matching_bases(st, en, symstr):\n",
    "    str5p = symstr[st-1:]\n",
    "    str3p = symstr[:en][::-1]\n",
    "    i,j = 0,0\n",
    "    match = {}\n",
    "    while i<len(str5p) and j<len(str3p):\n",
    "        if str5p[i]=='L' or str3p[j]=='L':\n",
    "            break\n",
    "        if str5p[i]!='A' and str3p[j]!='A':\n",
    "            match[i]=j; i+=1; j+=1\n",
    "        elif str5p[i]=='A':\n",
    "            i+=1\n",
    "        elif str3p[j]=='A':\n",
    "            j+=1\n",
    "    return {i+st:en-j for i,j in match.items()}        "
   ]
  },
  {
   "cell_type": "code",
   "execution_count": 49,
   "metadata": {},
   "outputs": [],
   "source": [
    "def get_ghgs(mir):\n",
    "    symstr = tbl.loc[mir, 'Secondary structure']\n",
    "    bjs = symstr.find('M')+1\n",
    "    bje = symstr.rfind('M')+1\n",
    "    matches = matching_bases(bjs,bje,symstr)\n",
    "    priseq = constseqs[mir].replace('T','U')\n",
    "    if mir in dcsmirs:\n",
    "        ps = majorcs[mir][0]\n",
    "    else:\n",
    "        ps = preposition[mir][0]\n",
    "    if len(matches)<3:\n",
    "        return {}\n",
    "    end = sorted(matches.keys())[-3]\n",
    "    ghgs = {}\n",
    "    for st in range(bjs,end+1):\n",
    "        if st not in matches:\n",
    "            continue\n",
    "        if all([((st+i),(matches[st]-i)) in matches.items() for i in range(3)]):\n",
    "            if st<ps:\n",
    "                pos = -count_len(symstr[st-1:ps-1])\n",
    "            else:\n",
    "                pos = count_len(symstr[ps-1:st-1])\n",
    "            ghg5p = priseq[st-1:st+2]\n",
    "            ghg3p = priseq[matches[st]-3:matches[st]][::-1]\n",
    "            ghgseq = ghg5p+ghg3p\n",
    "            ghgs[pos+2] = scotbl.loc[ghgseq,'DODGERS score']\n",
    "    return ghgs"
   ]
  },
  {
   "cell_type": "code",
   "execution_count": 50,
   "metadata": {},
   "outputs": [],
   "source": [
    "ghgtbl = {}\n",
    "for mir in s2.index:\n",
    "    ghgtbl[mir] = get_ghgs(mir)\n",
    "ghgtbl = pd.DataFrame(ghgtbl).T"
   ]
  },
  {
   "cell_type": "code",
   "execution_count": 35,
   "metadata": {},
   "outputs": [],
   "source": [
    "def find_ug(mir, pos):\n",
    "    seq = ''.join(seq5tbl.loc[mir,range(pos,pos+2)].fillna(''))\n",
    "    return seq=='UG'"
   ]
  },
  {
   "cell_type": "code",
   "execution_count": 36,
   "metadata": {},
   "outputs": [],
   "source": [
    "def find_ugu(mir, pos):\n",
    "    seq = ''.join(seq5tbl.loc[mir,range(pos,pos+3)])\n",
    "    return (seq=='UGU' or seq=='GUG')"
   ]
  },
  {
   "cell_type": "code",
   "execution_count": 37,
   "metadata": {},
   "outputs": [],
   "source": [
    "def find_cnnc(mir, pos):\n",
    "    seq = ''.join(seq3tbl.loc[mir,range(pos-3,pos+1)].fillna(''))\n",
    "    return bool(re.search('C[A-Z][A-Z]C', seq))"
   ]
  },
  {
   "cell_type": "code",
   "execution_count": 38,
   "metadata": {},
   "outputs": [],
   "source": [
    "GHGCUT = 38\n",
    "def find_ghg(mir, pos): \n",
    "    return (ghgtbl.loc[mir,pos]>=GHGCUT)"
   ]
  },
  {
   "cell_type": "code",
   "execution_count": 44,
   "metadata": {},
   "outputs": [],
   "source": [
    "motifs = [ 'CNNC', 'UG', 'GHG', 'UGU' ]\n",
    "funcs = { 'UG':find_ug, 'UGU':find_ugu, 'GHG':find_ghg, 'CNNC':find_cnnc }\n",
    "ranges = { 'UG':[-14],'UGU':range(20,25),'GHG':[-5], 'CNNC':range(-18,-15) }"
   ]
  },
  {
   "cell_type": "code",
   "execution_count": 51,
   "metadata": {},
   "outputs": [
    {
     "name": "stdout",
     "output_type": "stream",
     "text": [
      "CNNC 617\n",
      "UG 248\n",
      "GHG 647\n",
      "UGU 455\n"
     ]
    }
   ],
   "source": [
    "motmirs = {}\n",
    "for motif in motifs:\n",
    "    ml = []\n",
    "    for mir in s3.index:\n",
    "        for pos in ranges[motif]:\n",
    "            if funcs[motif](mir,pos):\n",
    "                ml.append(mir)\n",
    "                break\n",
    "    print motif, len(ml)\n",
    "    motmirs[motif] = ml"
   ]
  },
  {
   "cell_type": "code",
   "execution_count": 63,
   "metadata": {},
   "outputs": [],
   "source": [
    "for mir in s3.index:\n",
    "    if str5tbl.loc[mir,range(-13,0)].sum()>=10 and str3tbl.loc[mir,range(-11,0)].sum()>=8:\n",
    "        tbl.loc[mir,'Stable lower stem'] = 'O'\n",
    "    if mir in motmirs['GHG']:\n",
    "        tbl.loc[mir,'mGHG'] = 'O'\n",
    "    if mir in motmirs['UG']:\n",
    "        tbl.loc[mir,'UG'] = 'O'\n",
    "    if mir in motmirs['UGU']:\n",
    "        tbl.loc[mir,'UGU/G'] = 'O'"
   ]
  },
  {
   "cell_type": "code",
   "execution_count": 68,
   "metadata": {},
   "outputs": [],
   "source": [
    "tbl.to_csv('resources/201123_s4__MiRNA_features.csv')"
   ]
  },
  {
   "cell_type": "code",
   "execution_count": 69,
   "metadata": {},
   "outputs": [],
   "source": [
    "out = open('supplementary/201123_s4__MiRNA_features.csv', 'wt')\n",
    "description = 'Supplementary Table 5. Pri-miRNA features\\n\\n\\n\\n\\n'\n",
    "out.write(description)\n",
    "for l in open('resources/201123_s4__MiRNA_features.csv', 'rt'):\n",
    "    out.write(l)\n",
    "out.close()"
   ]
  },
  {
   "cell_type": "code",
   "execution_count": null,
   "metadata": {},
   "outputs": [],
   "source": []
  }
 ],
 "metadata": {
  "kernelspec": {
   "display_name": "Python 2",
   "language": "python",
   "name": "python2"
  },
  "language_info": {
   "codemirror_mode": {
    "name": "ipython",
    "version": 2
   },
   "file_extension": ".py",
   "mimetype": "text/x-python",
   "name": "python",
   "nbconvert_exporter": "python",
   "pygments_lexer": "ipython2",
   "version": "2.7.18"
  }
 },
 "nbformat": 4,
 "nbformat_minor": 2
}
