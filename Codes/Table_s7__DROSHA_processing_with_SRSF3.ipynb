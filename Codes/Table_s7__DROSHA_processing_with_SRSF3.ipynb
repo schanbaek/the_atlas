{
 "cells": [
  {
   "cell_type": "markdown",
   "metadata": {},
   "source": [
    "# Supplementary Table 7. DROSHA processing with SRSF3\n",
    "---"
   ]
  },
  {
   "cell_type": "code",
   "execution_count": 1,
   "metadata": {},
   "outputs": [
    {
     "name": "stdout",
     "output_type": "stream",
     "text": [
      "Last revised by Seungchan Baek at 2020-11-25.\n"
     ]
    }
   ],
   "source": [
    "import time\n",
    "today = time.strftime('%Y-%m-%d')\n",
    "name = 'Seungchan Baek'\n",
    "print 'Last revised by %s at %s.' % (name, today)"
   ]
  },
  {
   "cell_type": "code",
   "execution_count": 2,
   "metadata": {},
   "outputs": [
    {
     "name": "stdout",
     "output_type": "stream",
     "text": [
      "/casa/bsc/projects/1_DCS/2004_paper_prep\n"
     ]
    }
   ],
   "source": [
    "home = '/casa/bsc/projects/1_DCS/2004_paper_prep/'\n",
    "%cd $home"
   ]
  },
  {
   "cell_type": "code",
   "execution_count": 3,
   "metadata": {},
   "outputs": [],
   "source": [
    "utilpath = '/casa/bsc/notebooks/'\n",
    "import sys; sys.path.append(utilpath)\n",
    "from util import *"
   ]
  },
  {
   "cell_type": "code",
   "execution_count": 4,
   "metadata": {},
   "outputs": [
    {
     "name": "stdout",
     "output_type": "stream",
     "text": [
      "resultpath: results/201125/\n"
     ]
    }
   ],
   "source": [
    "from basic import gen_result_dir\n",
    "resultpath = gen_result_dir('results/')\n",
    "print 'resultpath:', resultpath"
   ]
  },
  {
   "cell_type": "code",
   "execution_count": 5,
   "metadata": {},
   "outputs": [],
   "source": [
    "from __future__ import division\n",
    "import pandas as pd\n",
    "import numpy as np\n",
    "import re\n",
    "import gzip\n",
    "from scipy.stats import pearsonr, spearmanr\n",
    "from matplotlib import pyplot as plt\n",
    "from collections import defaultdict, Counter\n",
    "%matplotlib inline"
   ]
  },
  {
   "cell_type": "code",
   "execution_count": 6,
   "metadata": {},
   "outputs": [],
   "source": [
    "s1 = pd.read_csv('supplementary/201123_s1__DROSHA_dependency.csv', header=1, index_col=0)\n",
    "s2 = pd.read_csv('supplementary/201123_s2__Construct.csv', header=1, index_col=0).fillna('')"
   ]
  },
  {
   "cell_type": "code",
   "execution_count": 7,
   "metadata": {},
   "outputs": [
    {
     "name": "stdout",
     "output_type": "stream",
     "text": [
      "1881 (32, 90)\n"
     ]
    }
   ],
   "source": [
    "preposition = {}\n",
    "for mir in s2.index:\n",
    "    flank5, flank3 = s2.loc[mir,[\"5' flanking segment\",\"3' flanking segment\"]]\n",
    "    if flank5 or flank3:\n",
    "        preposition[mir] = (len(flank5)+1,125-len(flank3))\n",
    "    else:\n",
    "        preposition[mir] = (0,126)\n",
    "print len(preposition), preposition['hsa-mir-142']"
   ]
  },
  {
   "cell_type": "code",
   "execution_count": 8,
   "metadata": {},
   "outputs": [
    {
     "name": "stdout",
     "output_type": "stream",
     "text": [
      "25\n"
     ]
    }
   ],
   "source": [
    "tmp = pd.read_csv('supplementary/201012_s2_pri-construct.csv', index_col=0, header=1)\n",
    "redund = tmp[tmp['Note'].apply(lambda x: str(x).find('Same construct')>=0)]\n",
    "repreRedund = defaultdict(list)\n",
    "for pri, note in dict(redund['Note']).items():\n",
    "    repre = note.split()[-1]\n",
    "    repreRedund[repre].append(pri)\n",
    "print len(repreRedund)"
   ]
  },
  {
   "cell_type": "code",
   "execution_count": 96,
   "metadata": {},
   "outputs": [
    {
     "name": "stdout",
     "output_type": "stream",
     "text": [
      "1881\n"
     ]
    }
   ],
   "source": [
    "constseqs = dict(s2['Construct sequence (125 nt)'])\n",
    "print len(constseqs)"
   ]
  },
  {
   "cell_type": "markdown",
   "metadata": {},
   "source": [
    "---\n",
    "### Cleavage Efficiency"
   ]
  },
  {
   "cell_type": "code",
   "execution_count": 14,
   "metadata": {},
   "outputs": [],
   "source": [
    "datapath = '../2009_srsf3_hiseq/alignments'\n",
    "RCUTOFF = 30"
   ]
  },
  {
   "cell_type": "code",
   "execution_count": 10,
   "metadata": {},
   "outputs": [],
   "source": [
    "#inptbl.to_csv('%s/input_counts.csv'%datapath)\n",
    "inptbl = pd.read_csv('%s/input_counts.csv'%datapath,index_col=0)"
   ]
  },
  {
   "cell_type": "code",
   "execution_count": 11,
   "metadata": {},
   "outputs": [],
   "source": [
    "for pri in inptbl.index:\n",
    "    if pri in repreRedund:\n",
    "        for pri2 in repreRedund[pri]:\n",
    "            inptbl.loc[pri2] = inptbl.loc[pri]\n",
    "inptbl = inptbl.sort_index()"
   ]
  },
  {
   "cell_type": "code",
   "execution_count": 12,
   "metadata": {},
   "outputs": [
    {
     "data": {
      "text/html": [
       "<div>\n",
       "<style scoped>\n",
       "    .dataframe tbody tr th:only-of-type {\n",
       "        vertical-align: middle;\n",
       "    }\n",
       "\n",
       "    .dataframe tbody tr th {\n",
       "        vertical-align: top;\n",
       "    }\n",
       "\n",
       "    .dataframe thead th {\n",
       "        text-align: right;\n",
       "    }\n",
       "</style>\n",
       "<table border=\"1\" class=\"dataframe\">\n",
       "  <thead>\n",
       "    <tr style=\"text-align: right;\">\n",
       "      <th></th>\n",
       "      <th>input_1</th>\n",
       "      <th>input_2</th>\n",
       "    </tr>\n",
       "    <tr>\n",
       "      <th>Pri-miRNA</th>\n",
       "      <th></th>\n",
       "      <th></th>\n",
       "    </tr>\n",
       "  </thead>\n",
       "  <tbody>\n",
       "    <tr>\n",
       "      <th>hsa-let-7a-1</th>\n",
       "      <td>6675</td>\n",
       "      <td>6846</td>\n",
       "    </tr>\n",
       "    <tr>\n",
       "      <th>hsa-let-7a-2</th>\n",
       "      <td>15458</td>\n",
       "      <td>17160</td>\n",
       "    </tr>\n",
       "    <tr>\n",
       "      <th>hsa-let-7a-3</th>\n",
       "      <td>29955</td>\n",
       "      <td>27010</td>\n",
       "    </tr>\n",
       "  </tbody>\n",
       "</table>\n",
       "</div>"
      ],
      "text/plain": [
       "              input_1  input_2\n",
       "Pri-miRNA                     \n",
       "hsa-let-7a-1     6675     6846\n",
       "hsa-let-7a-2    15458    17160\n",
       "hsa-let-7a-3    29955    27010"
      ]
     },
     "execution_count": 12,
     "metadata": {},
     "output_type": "execute_result"
    }
   ],
   "source": [
    "inptbl.head(3)"
   ]
  },
  {
   "cell_type": "code",
   "execution_count": 16,
   "metadata": {},
   "outputs": [
    {
     "name": "stdout",
     "output_type": "stream",
     "text": [
      "1815\n"
     ]
    }
   ],
   "source": [
    "suffinps = sorted([ mir for mir in s2.index if inptbl.loc[mir].sum()>=RCUTOFF ])\n",
    "print len(suffinps)"
   ]
  },
  {
   "cell_type": "code",
   "execution_count": 17,
   "metadata": {},
   "outputs": [
    {
     "data": {
      "text/html": [
       "<div>\n",
       "<style scoped>\n",
       "    .dataframe tbody tr th:only-of-type {\n",
       "        vertical-align: middle;\n",
       "    }\n",
       "\n",
       "    .dataframe tbody tr th {\n",
       "        vertical-align: top;\n",
       "    }\n",
       "\n",
       "    .dataframe thead th {\n",
       "        text-align: right;\n",
       "    }\n",
       "</style>\n",
       "<table border=\"1\" class=\"dataframe\">\n",
       "  <thead>\n",
       "    <tr style=\"text-align: right;\">\n",
       "      <th></th>\n",
       "      <th>Pri-miRNA</th>\n",
       "      <th>rstart</th>\n",
       "      <th>rend</th>\n",
       "      <th>cleaved_1</th>\n",
       "      <th>cleaved_2</th>\n",
       "    </tr>\n",
       "  </thead>\n",
       "  <tbody>\n",
       "    <tr>\n",
       "      <th>0</th>\n",
       "      <td>hsa-let-7a-1</td>\n",
       "      <td>1</td>\n",
       "      <td>7</td>\n",
       "      <td>0</td>\n",
       "      <td>5</td>\n",
       "    </tr>\n",
       "    <tr>\n",
       "      <th>1</th>\n",
       "      <td>hsa-let-7a-1</td>\n",
       "      <td>1</td>\n",
       "      <td>8</td>\n",
       "      <td>0</td>\n",
       "      <td>3</td>\n",
       "    </tr>\n",
       "    <tr>\n",
       "      <th>2</th>\n",
       "      <td>hsa-let-7a-1</td>\n",
       "      <td>1</td>\n",
       "      <td>9</td>\n",
       "      <td>21</td>\n",
       "      <td>19</td>\n",
       "    </tr>\n",
       "    <tr>\n",
       "      <th>3</th>\n",
       "      <td>hsa-let-7a-1</td>\n",
       "      <td>1</td>\n",
       "      <td>10</td>\n",
       "      <td>12</td>\n",
       "      <td>27</td>\n",
       "    </tr>\n",
       "    <tr>\n",
       "      <th>4</th>\n",
       "      <td>hsa-let-7a-1</td>\n",
       "      <td>1</td>\n",
       "      <td>11</td>\n",
       "      <td>44</td>\n",
       "      <td>39</td>\n",
       "    </tr>\n",
       "  </tbody>\n",
       "</table>\n",
       "</div>"
      ],
      "text/plain": [
       "      Pri-miRNA  rstart  rend  cleaved_1  cleaved_2\n",
       "0  hsa-let-7a-1       1     7          0          5\n",
       "1  hsa-let-7a-1       1     8          0          3\n",
       "2  hsa-let-7a-1       1     9         21         19\n",
       "3  hsa-let-7a-1       1    10         12         27\n",
       "4  hsa-let-7a-1       1    11         44         39"
      ]
     },
     "execution_count": 17,
     "metadata": {},
     "output_type": "execute_result"
    }
   ],
   "source": [
    "#clvtbl.to_csv('%s/cleaved_count.csv'%datapath)\n",
    "clvtbl = pd.read_csv('%s/cleaved_count.csv'%datapath,index_col=0)\n",
    "clvtbl.head()"
   ]
  },
  {
   "cell_type": "code",
   "execution_count": 18,
   "metadata": {},
   "outputs": [],
   "source": [
    "start, mid, end = 1, 63, 125\n",
    "clv5f = clvtbl[(clvtbl['rstart']==start)&(clvtbl['rend']<mid)].set_index('Pri-miRNA')\n",
    "clv3f = clvtbl[(clvtbl['rstart']>mid)&(clvtbl['rend']==end)].set_index('Pri-miRNA')\n",
    "clvhn = clvtbl[(clvtbl['rstart']<mid)&(clvtbl['rend']>mid)]\n",
    "clvn5 = clvhn[clvhn['rstart']==start]\n",
    "clvn3 = clvhn[clvhn['rend']==end]\n",
    "clvh = clvhn.drop(clvn5.index).drop(clvn3.index).set_index('Pri-miRNA')"
   ]
  },
  {
   "cell_type": "code",
   "execution_count": 26,
   "metadata": {},
   "outputs": [],
   "source": [
    "WINDOW = 3\n",
    "INVERTED = 11"
   ]
  },
  {
   "cell_type": "code",
   "execution_count": 20,
   "metadata": {},
   "outputs": [],
   "source": [
    "inptbl['input'] = inptbl['input_1']+inptbl['input_2']\n",
    "clvtbl['cleaved'] = clvtbl['cleaved_2']#+clvtbl['cleaved_2']"
   ]
  },
  {
   "cell_type": "code",
   "execution_count": 21,
   "metadata": {},
   "outputs": [],
   "source": [
    "start, mid, end = 1, 63, 125\n",
    "clv5f = clvtbl[(clvtbl['rstart']==start)&(clvtbl['rend']<mid)].set_index('Pri-miRNA')\n",
    "clv3f = clvtbl[(clvtbl['rstart']>mid)&(clvtbl['rend']==end)].set_index('Pri-miRNA')\n",
    "clvhn = clvtbl[(clvtbl['rstart']<mid)&(clvtbl['rend']>mid)]\n",
    "clvn5 = clvhn[clvhn['rstart']==start]\n",
    "clvn3 = clvhn[clvhn['rend']==end]\n",
    "clvh = clvhn.drop(clvn5.index).drop(clvn3.index).set_index('Pri-miRNA')\n",
    "clvn5 = clvn5.set_index('Pri-miRNA'); clvn3 = clvn3.set_index('Pri-miRNA')"
   ]
  },
  {
   "cell_type": "code",
   "execution_count": 24,
   "metadata": {},
   "outputs": [],
   "source": [
    "def fill_unfound(tbl):\n",
    "    found = set(tbl.index)\n",
    "    unfound = [ mir for mir in s2.index if mir not in found ]\n",
    "    fill = pd.DataFrame(index=unfound, columns=tbl.columns).fillna(0)\n",
    "    return tbl.append(fill)"
   ]
  },
  {
   "cell_type": "code",
   "execution_count": 25,
   "metadata": {},
   "outputs": [],
   "source": [
    "clvtbl = fill_unfound(clvtbl.set_index('Pri-miRNA'))\n",
    "clv5f = fill_unfound(clv5f)\n",
    "clv3f = fill_unfound(clv3f)\n",
    "clvh = fill_unfound(clvh)\n",
    "clvn5 = fill_unfound(clvn5)\n",
    "clvn3 = fill_unfound(clvn3)"
   ]
  },
  {
   "cell_type": "code",
   "execution_count": 104,
   "metadata": {
    "scrolled": true
   },
   "outputs": [],
   "source": [
    "flank5 = { m:constseqs[m][:preposition[m][0]-1] for m in suffinps }\n",
    "f5cnts = Counter(flank5.values())\n",
    "dupl5 = [ m for m in flank5 if f5cnts[flank5[m]]>1 ]"
   ]
  },
  {
   "cell_type": "code",
   "execution_count": 105,
   "metadata": {},
   "outputs": [],
   "source": [
    "def get_clv_cnts(mir, lib):\n",
    "    ps, pe = preposition[mir]\n",
    "    if ps<1 or pe>125:\n",
    "        return -1,-1\n",
    "    invs = ps+INVERTED\n",
    "    inve = pe-INVERTED\n",
    "    clv5 = clv5f.loc[[mir]].reset_index().set_index('rend')[lib]\n",
    "    clv3 = clv3f.loc[[mir]].reset_index().set_index('rstart')[lib]\n",
    "    prod5 = clv5.reindex(range(ps-1-WINDOW,ps+WINDOW)).sum()\n",
    "    prod3 = clv3.reindex(range(pe+1-WINDOW,pe+2+WINDOW)).sum()\n",
    "    inv5 = clv5.reindex(range(invs-1-WINDOW,invs+WINDOW)).sum()\n",
    "    inv3 = clv3.reindex(range(inve+1-WINDOW,inve+2+WINDOW)).sum()\n",
    "    if mir in dupl5:\n",
    "        return prod3, inv3\n",
    "    return prod5, inv5"
   ]
  },
  {
   "cell_type": "code",
   "execution_count": 106,
   "metadata": {},
   "outputs": [
    {
     "name": "stdout",
     "output_type": "stream",
     "text": [
      "(44460, 66.0)\n"
     ]
    }
   ],
   "source": [
    "clvcnts = { mir:get_clv_cnts(mir,'cleaved') for mir in suffinps }\n",
    "print clvcnts['hsa-let-7a-1']"
   ]
  },
  {
   "cell_type": "code",
   "execution_count": 107,
   "metadata": {},
   "outputs": [],
   "source": [
    "def calculate_efficiency(mir):\n",
    "    prod, inv = clvcnts[mir]\n",
    "    if prod<0: \n",
    "        return -999\n",
    "    inp = inptbl.loc[mir,'input']\n",
    "    return max(prod-inv,0)/inp"
   ]
  },
  {
   "cell_type": "code",
   "execution_count": 108,
   "metadata": {
    "scrolled": true
   },
   "outputs": [
    {
     "name": "stdout",
     "output_type": "stream",
     "text": [
      "0.0010190711894016596\n"
     ]
    }
   ],
   "source": [
    "## norm\n",
    "norm = 'hsa-mir-6788'\n",
    "norms = calculate_efficiency(norm)\n",
    "print norms"
   ]
  },
  {
   "cell_type": "code",
   "execution_count": 109,
   "metadata": {},
   "outputs": [
    {
     "name": "stdout",
     "output_type": "stream",
     "text": [
      "1812 11.238305120172882\n"
     ]
    }
   ],
   "source": [
    "effs = {}\n",
    "for mir in suffinps:\n",
    "    eff = calculate_efficiency(mir)\n",
    "    if eff>-999:\n",
    "        effs[mir] = np.log2(eff/norms+1)\n",
    "print len(effs), effs['hsa-mir-144']"
   ]
  },
  {
   "cell_type": "markdown",
   "metadata": {},
   "source": [
    "---\n",
    "### Cleavage Homogeneity"
   ]
  },
  {
   "cell_type": "code",
   "execution_count": 44,
   "metadata": {},
   "outputs": [],
   "source": [
    "RCUTOFF = 30\n",
    "RCUTOFFH = 10\n",
    "FCUTOFF = .01\n",
    "WINDOW = 3\n",
    "INVERTED = 11"
   ]
  },
  {
   "cell_type": "code",
   "execution_count": 37,
   "metadata": {},
   "outputs": [],
   "source": [
    "def get_frac_5frag(mir):\n",
    "    sub = clv5f.loc[[mir]].set_index('rend')\n",
    "    return (sub/sub.sum())"
   ]
  },
  {
   "cell_type": "code",
   "execution_count": 38,
   "metadata": {},
   "outputs": [],
   "source": [
    "def get_frac_3frag(mir):\n",
    "    sub = clv3f.loc[[mir]].set_index('rstart')\n",
    "    return (sub/sub.sum())"
   ]
  },
  {
   "cell_type": "code",
   "execution_count": 39,
   "metadata": {},
   "outputs": [],
   "source": [
    "def get_frac_hairpin(mir):\n",
    "    sub = clvh.loc[[mir]].set_index(['rstart','rend'])\n",
    "    return (sub/sub.sum())"
   ]
  },
  {
   "cell_type": "code",
   "execution_count": 50,
   "metadata": {},
   "outputs": [],
   "source": [
    "def filter_frac(frac):\n",
    "    return frac[frac>=FCUTOFF]"
   ]
  },
  {
   "cell_type": "code",
   "execution_count": 41,
   "metadata": {},
   "outputs": [],
   "source": [
    "def add_specificity(row):\n",
    "    row['score'] = (row['5frag']+row['hairpin']+row['3frag'])/3\n",
    "    return row"
   ]
  },
  {
   "cell_type": "code",
   "execution_count": 42,
   "metadata": {},
   "outputs": [],
   "source": [
    "def drop_duplicates(sortedtbl):\n",
    "    if len(sortedtbl)<=1:\n",
    "        return sortedtbl\n",
    "    hs = sortedtbl['hstart'].tolist()[0]\n",
    "    he = sortedtbl['hend'].tolist()[0]\n",
    "    sub = sortedtbl.iloc[1:]\n",
    "    sub = sub[(sub['hstart']!=hs)&(sub['hend']!=he)]\n",
    "    return sortedtbl.iloc[:1].append(drop_duplicates(sub))"
   ]
  },
  {
   "cell_type": "code",
   "execution_count": 43,
   "metadata": {},
   "outputs": [],
   "source": [
    "frac5f = { mir:get_frac_5frag(mir) for mir in s2.index } \n",
    "frac3f = { mir:get_frac_3frag(mir) for mir in s2.index } \n",
    "frachpn = { mir:get_frac_hairpin(mir) for mir in s2.index }"
   ]
  },
  {
   "cell_type": "code",
   "execution_count": 45,
   "metadata": {},
   "outputs": [],
   "source": [
    "COLS = 'miRNA pstart pend hstart hend 5frag 3frag hairpin score diff5 diff3'.split()"
   ]
  },
  {
   "cell_type": "code",
   "execution_count": 48,
   "metadata": {},
   "outputs": [],
   "source": [
    "def get_dcs(mir, lib):\n",
    "    ps, pe = preposition[mir]\n",
    "    null = pd.DataFrame({0:dict(zip(COLS,[mir,ps,pe,1,125,0,0,0,0,99,99]))}).T[COLS]\n",
    "    cs = null\n",
    "    sum5f = clv5f.loc[mir,lib].sum()\n",
    "    sum3f = clv3f.loc[mir,lib].sum()\n",
    "    sumh = clvh.loc[mir,lib].sum()\n",
    "    if not (sum5f>=RCUTOFF and sum3f>=RCUTOFF and sumh>=RCUTOFFH):\n",
    "        return null\n",
    "    \n",
    "    clv5, clv3, clvhpn = [ f[mir][lib] for f in [frac5f,frac3f,frachpn] ]\n",
    "    clv52 = defaultdict(float); clv52.update(clv5)\n",
    "    clv32 = defaultdict(float); clv32.update(clv3)\n",
    "    clvhpn2 = defaultdict(float); clvhpn2.update(clvhpn)\n",
    "    for c5, frac5 in filter_frac(clv5).items():\n",
    "        for c3, frac3 in filter_frac(clv3).items():\n",
    "            row = dict(zip(COLS,[mir,ps,pe,c5+1,c3-1,frac5,frac3,clvhpn2[(c5+1,c3-1)]]))\n",
    "            cs = cs.append(row, ignore_index=True)\n",
    "    for (c5,c3), frach in filter_frac(clvhpn).items():\n",
    "        row = dict(zip(COLS,[mir,ps,pe,c5,c3,clv52[c5-1],clv32[c3+1],frach]))\n",
    "        cs = cs.append(row, ignore_index=True)\n",
    "    cs['score'] = (cs['5frag']+cs['hairpin']+cs['3frag'])/3\n",
    "    cs['diff5'] = cs['hstart']-cs['pstart']\n",
    "    cs['diff3'] = cs['pend']-cs['hend']\n",
    "    cs = cs[(abs(cs['diff5'])<=WINDOW)&(abs(cs['diff3'])<=WINDOW)]\n",
    "    if len(cs)>=1:\n",
    "        return drop_duplicates(cs.sort_values('score').iloc[::-1])\n",
    "    return null"
   ]
  },
  {
   "cell_type": "code",
   "execution_count": 51,
   "metadata": {},
   "outputs": [
    {
     "data": {
      "text/html": [
       "<div>\n",
       "<style scoped>\n",
       "    .dataframe tbody tr th:only-of-type {\n",
       "        vertical-align: middle;\n",
       "    }\n",
       "\n",
       "    .dataframe tbody tr th {\n",
       "        vertical-align: top;\n",
       "    }\n",
       "\n",
       "    .dataframe thead th {\n",
       "        text-align: right;\n",
       "    }\n",
       "</style>\n",
       "<table border=\"1\" class=\"dataframe\">\n",
       "  <thead>\n",
       "    <tr style=\"text-align: right;\">\n",
       "      <th></th>\n",
       "      <th>miRNA</th>\n",
       "      <th>pstart</th>\n",
       "      <th>pend</th>\n",
       "      <th>hstart</th>\n",
       "      <th>hend</th>\n",
       "      <th>5frag</th>\n",
       "      <th>3frag</th>\n",
       "      <th>hairpin</th>\n",
       "      <th>score</th>\n",
       "      <th>diff5</th>\n",
       "      <th>diff3</th>\n",
       "    </tr>\n",
       "  </thead>\n",
       "  <tbody>\n",
       "    <tr>\n",
       "      <th>14</th>\n",
       "      <td>hsa-mir-10a</td>\n",
       "      <td>30</td>\n",
       "      <td>92</td>\n",
       "      <td>30</td>\n",
       "      <td>92</td>\n",
       "      <td>0.472319</td>\n",
       "      <td>0.751985</td>\n",
       "      <td>0.494226</td>\n",
       "      <td>0.572843</td>\n",
       "      <td>0</td>\n",
       "      <td>0</td>\n",
       "    </tr>\n",
       "    <tr>\n",
       "      <th>25</th>\n",
       "      <td>hsa-mir-10a</td>\n",
       "      <td>30</td>\n",
       "      <td>92</td>\n",
       "      <td>29</td>\n",
       "      <td>93</td>\n",
       "      <td>0.217454</td>\n",
       "      <td>0.0896469</td>\n",
       "      <td>0.113164</td>\n",
       "      <td>0.140088</td>\n",
       "      <td>-1</td>\n",
       "      <td>-1</td>\n",
       "    </tr>\n",
       "    <tr>\n",
       "      <th>28</th>\n",
       "      <td>hsa-mir-10a</td>\n",
       "      <td>30</td>\n",
       "      <td>92</td>\n",
       "      <td>31</td>\n",
       "      <td>91</td>\n",
       "      <td>0.113288</td>\n",
       "      <td>0.132324</td>\n",
       "      <td>0.145497</td>\n",
       "      <td>0.13037</td>\n",
       "      <td>1</td>\n",
       "      <td>1</td>\n",
       "    </tr>\n",
       "  </tbody>\n",
       "</table>\n",
       "</div>"
      ],
      "text/plain": [
       "          miRNA pstart pend hstart hend     5frag      3frag   hairpin  \\\n",
       "14  hsa-mir-10a     30   92     30   92  0.472319   0.751985  0.494226   \n",
       "25  hsa-mir-10a     30   92     29   93  0.217454  0.0896469  0.113164   \n",
       "28  hsa-mir-10a     30   92     31   91  0.113288   0.132324  0.145497   \n",
       "\n",
       "       score diff5 diff3  \n",
       "14  0.572843     0     0  \n",
       "25  0.140088    -1    -1  \n",
       "28   0.13037     1     1  "
      ]
     },
     "execution_count": 51,
     "metadata": {},
     "output_type": "execute_result"
    }
   ],
   "source": [
    "mir = 'hsa-mir-10a'\n",
    "get_dcs(mir, 'cleaved')"
   ]
  },
  {
   "cell_type": "code",
   "execution_count": 52,
   "metadata": {},
   "outputs": [
    {
     "name": "stdout",
     "output_type": "stream",
     "text": [
      "Wed Nov 25 11:29:46 2020\n",
      "Wed Nov 25 11:54:43 2020\n",
      "# of all sites:\t4161\n",
      "# of miRNAs:\t1815\n"
     ]
    }
   ],
   "source": [
    "print time.ctime()\n",
    "clvall = pd.DataFrame(columns=COLS)\n",
    "for mir in suffinps:\n",
    "    clvall = clvall.append(get_dcs(mir, 'cleaved'), ignore_index=True)\n",
    "clvall = clvall[COLS]\n",
    "print time.ctime()\n",
    "print '# of all sites:\\t%s' % len(clvall)\n",
    "print '# of miRNAs:\\t%s' % len(set(clvall['miRNA']))"
   ]
  },
  {
   "cell_type": "code",
   "execution_count": 53,
   "metadata": {},
   "outputs": [],
   "source": [
    "clvall.to_csv('resources/201123_cleavage_sites_srsf3.csv')\n",
    "#clvall = pd.read_csv('resources/201123_cleavage_sites_srsf3.csv',index_col=0)"
   ]
  },
  {
   "cell_type": "code",
   "execution_count": 54,
   "metadata": {},
   "outputs": [],
   "source": [
    "tmp = clvall.sort_values('score').drop_duplicates('miRNA',keep='last')\n",
    "homs = tmp.set_index('miRNA')['score'].to_dict()"
   ]
  },
  {
   "cell_type": "markdown",
   "metadata": {},
   "source": [
    "---\n",
    "### Build table"
   ]
  },
  {
   "cell_type": "code",
   "execution_count": 55,
   "metadata": {},
   "outputs": [],
   "source": [
    "homcut = .25\n",
    "clvsig = clvall[clvall['score']>=homcut]\n",
    "clvcnt = Counter(clvsig['miRNA'])"
   ]
  },
  {
   "cell_type": "code",
   "execution_count": 110,
   "metadata": {},
   "outputs": [
    {
     "name": "stdout",
     "output_type": "stream",
     "text": [
      "692 57\n"
     ]
    }
   ],
   "source": [
    "effcut = 2.5\n",
    "overlap = [ m for m in suffinps if m in homs and m in effs ]\n",
    "single = [ m for m in overlap if effs[m]>=effcut and clvcnt[m]==1 ]\n",
    "alternative = [ m for m in overlap if effs[m]>=effcut and clvcnt[m]>=2 ]\n",
    "print len(single), len(alternative)"
   ]
  },
  {
   "cell_type": "code",
   "execution_count": 116,
   "metadata": {},
   "outputs": [
    {
     "data": {
      "text/html": [
       "<div>\n",
       "<style scoped>\n",
       "    .dataframe tbody tr th:only-of-type {\n",
       "        vertical-align: middle;\n",
       "    }\n",
       "\n",
       "    .dataframe tbody tr th {\n",
       "        vertical-align: top;\n",
       "    }\n",
       "\n",
       "    .dataframe thead th {\n",
       "        text-align: right;\n",
       "    }\n",
       "</style>\n",
       "<table border=\"1\" class=\"dataframe\">\n",
       "  <thead>\n",
       "    <tr style=\"text-align: right;\">\n",
       "      <th></th>\n",
       "      <th>Cleavage Efficiency</th>\n",
       "      <th>Cleavage Homogeneity</th>\n",
       "      <th>5' miRBase site</th>\n",
       "      <th>3' miRBase site</th>\n",
       "      <th>5' cleavage site</th>\n",
       "      <th>3' cleavage site</th>\n",
       "      <th>5' alternative site</th>\n",
       "      <th>3' alternative site</th>\n",
       "      <th>Cleavage ratio of alternative site</th>\n",
       "      <th>5p nick processing</th>\n",
       "      <th>3p nick processing</th>\n",
       "      <th>Inverted processing</th>\n",
       "    </tr>\n",
       "    <tr>\n",
       "      <th>Pri-miRNA</th>\n",
       "      <th></th>\n",
       "      <th></th>\n",
       "      <th></th>\n",
       "      <th></th>\n",
       "      <th></th>\n",
       "      <th></th>\n",
       "      <th></th>\n",
       "      <th></th>\n",
       "      <th></th>\n",
       "      <th></th>\n",
       "      <th></th>\n",
       "      <th></th>\n",
       "    </tr>\n",
       "  </thead>\n",
       "  <tbody>\n",
       "  </tbody>\n",
       "</table>\n",
       "</div>"
      ],
      "text/plain": [
       "Empty DataFrame\n",
       "Columns: [Cleavage Efficiency, Cleavage Homogeneity, 5' miRBase site, 3' miRBase site, 5' cleavage site, 3' cleavage site, 5' alternative site, 3' alternative site, Cleavage ratio of alternative site, 5p nick processing, 3p nick processing, Inverted processing]\n",
       "Index: []"
      ]
     },
     "execution_count": 116,
     "metadata": {},
     "output_type": "execute_result"
    }
   ],
   "source": [
    "cols = [ 'Pri-miRNA', 'Cleavage Efficiency', 'Cleavage Homogeneity',\n",
    "         \"5' miRBase site\", \"3' miRBase site\", \"5' cleavage site\", \"3' cleavage site\", \n",
    "         \"5' alternative site\", \"3' alternative site\", \"Cleavage ratio of alternative site\",\n",
    "         '5p nick processing', '3p nick processing', 'Inverted processing' ]\n",
    "tbl = pd.DataFrame(columns=cols).set_index('Pri-miRNA')\n",
    "tbl.head(1)"
   ]
  },
  {
   "cell_type": "code",
   "execution_count": 117,
   "metadata": {},
   "outputs": [],
   "source": [
    "for pri in overlap:\n",
    "    ps, pe = preposition[pri]\n",
    "    tbl.loc[pri,'Cleavage Efficiency'] = effs[pri]\n",
    "    tbl.loc[pri,'Cleavage Homogeneity'] = homs[pri]\n",
    "    tbl.loc[pri,\"5' miRBase site\"] = ps\n",
    "    tbl.loc[pri,\"3' miRBase site\"] = pe\n",
    "    sub = clvall[clvall['miRNA']==pri].sort_values('score',ascending=False)\n",
    "    sub = sub[sub['score']>0]\n",
    "    if len(sub)>=1:\n",
    "        tbl.loc[pri,\"5' cleavage site\"] = sub['hstart'].values[0]\n",
    "        tbl.loc[pri,\"3' cleavage site\"] = sub['hend'].values[0]\n",
    "        if len(sub)>=2:\n",
    "            tbl.loc[pri,\"5' alternative site\"] = sub['hstart'].values[1]\n",
    "            tbl.loc[pri,\"3' alternative site\"] = sub['hend'].values[1]\n",
    "            tbl.loc[pri,\"Cleavage ratio of alternative site\"] = sub['score'].values[1]"
   ]
  },
  {
   "cell_type": "code",
   "execution_count": 118,
   "metadata": {},
   "outputs": [],
   "source": [
    "for mir in overlap:\n",
    "    ps, pe = preposition[mir]\n",
    "    if ps<1 or pe>125:\n",
    "        continue\n",
    "    unc5 = clvn5.loc[[mir]].reset_index().set_index(['rend'])\n",
    "    unc5 = unc5.reindex(range(pe-WINDOW,pe+WINDOW+1)).sum()\n",
    "    unc3 = clvn3.loc[[mir]].reset_index().set_index(['rstart'])\n",
    "    unc3 = unc3.reindex(range(ps-WINDOW,ps+WINDOW+1)).sum()\n",
    "    hpn = clvh.loc[[mir]]\n",
    "    hpn = hpn[hpn.apply(lambda x: (x['rstart'] in range(ps-WINDOW,ps+WINDOW+1)) and \n",
    "                                  (x['rend'] in range(pe-WINDOW,pe+WINDOW+1)),axis=1)].sum()\n",
    "    lib = 'cleaved'\n",
    "    if hpn[lib].sum()>=RCUTOFFH:\n",
    "        tbl.loc[mir,'5p nick processing'] = (unc3[lib]+1)/(hpn[lib]+1)\n",
    "        tbl.loc[mir,'3p nick processing'] = (unc5[lib]+1)/(hpn[lib]+1)"
   ]
  },
  {
   "cell_type": "code",
   "execution_count": 119,
   "metadata": {},
   "outputs": [],
   "source": [
    "for mir in overlap:\n",
    "    ps, pe = preposition[mir]\n",
    "    if ps<1 or pe>125:\n",
    "        continue\n",
    "    hpn = clvh.loc[[mir]]\n",
    "    prohpn = hpn[hpn.apply(lambda x: (x['rstart'] in range(ps-WINDOW,ps+WINDOW+1)) and \n",
    "                                     (x['rend'] in range(pe-WINDOW,pe+WINDOW+1)),axis=1)].sum()\n",
    "    invhpn = hpn[hpn.apply(lambda x: (x['rstart'] in range(ps+INVERTED-WINDOW,\n",
    "                                                           ps+INVERTED+WINDOW+1)) and \n",
    "                                     (x['rend'] in range(pe-INVERTED-WINDOW,\n",
    "                                                         pe-INVERTED+WINDOW+1)),axis=1)].sum()\n",
    "    lib = 'cleaved'\n",
    "    if prohpn[lib]>=RCUTOFFH:\n",
    "        tbl.loc[mir,'Inverted processing'] = (invhpn[lib]+1)/(prohpn[lib]+1)"
   ]
  },
  {
   "cell_type": "code",
   "execution_count": 120,
   "metadata": {},
   "outputs": [
    {
     "data": {
      "text/html": [
       "<div>\n",
       "<style scoped>\n",
       "    .dataframe tbody tr th:only-of-type {\n",
       "        vertical-align: middle;\n",
       "    }\n",
       "\n",
       "    .dataframe tbody tr th {\n",
       "        vertical-align: top;\n",
       "    }\n",
       "\n",
       "    .dataframe thead th {\n",
       "        text-align: right;\n",
       "    }\n",
       "</style>\n",
       "<table border=\"1\" class=\"dataframe\">\n",
       "  <thead>\n",
       "    <tr style=\"text-align: right;\">\n",
       "      <th></th>\n",
       "      <th>Cleavage Efficiency</th>\n",
       "      <th>Cleavage Homogeneity</th>\n",
       "      <th>5' miRBase site</th>\n",
       "      <th>3' miRBase site</th>\n",
       "      <th>5' cleavage site</th>\n",
       "      <th>3' cleavage site</th>\n",
       "      <th>5' alternative site</th>\n",
       "      <th>3' alternative site</th>\n",
       "      <th>Cleavage ratio of alternative site</th>\n",
       "      <th>5p nick processing</th>\n",
       "      <th>3p nick processing</th>\n",
       "      <th>Inverted processing</th>\n",
       "    </tr>\n",
       "    <tr>\n",
       "      <th>Pri-miRNA</th>\n",
       "      <th></th>\n",
       "      <th></th>\n",
       "      <th></th>\n",
       "      <th></th>\n",
       "      <th></th>\n",
       "      <th></th>\n",
       "      <th></th>\n",
       "      <th></th>\n",
       "      <th></th>\n",
       "      <th></th>\n",
       "      <th></th>\n",
       "      <th></th>\n",
       "    </tr>\n",
       "  </thead>\n",
       "  <tbody>\n",
       "    <tr>\n",
       "      <th>hsa-let-7a-1</th>\n",
       "      <td>11.6541</td>\n",
       "      <td>0.870736</td>\n",
       "      <td>25</td>\n",
       "      <td>96</td>\n",
       "      <td>25</td>\n",
       "      <td>96</td>\n",
       "      <td>NaN</td>\n",
       "      <td>NaN</td>\n",
       "      <td>NaN</td>\n",
       "      <td>0.00125471</td>\n",
       "      <td>0.0276035</td>\n",
       "      <td>0.00752823</td>\n",
       "    </tr>\n",
       "    <tr>\n",
       "      <th>hsa-let-7a-2</th>\n",
       "      <td>11.3244</td>\n",
       "      <td>0.767239</td>\n",
       "      <td>28</td>\n",
       "      <td>94</td>\n",
       "      <td>28</td>\n",
       "      <td>94</td>\n",
       "      <td>27</td>\n",
       "      <td>95</td>\n",
       "      <td>0.0257018</td>\n",
       "      <td>0.109134</td>\n",
       "      <td>0.0118624</td>\n",
       "      <td>0.622183</td>\n",
       "    </tr>\n",
       "    <tr>\n",
       "      <th>hsa-let-7a-3</th>\n",
       "      <td>8.74483</td>\n",
       "      <td>0.636835</td>\n",
       "      <td>26</td>\n",
       "      <td>94</td>\n",
       "      <td>26</td>\n",
       "      <td>95</td>\n",
       "      <td>25</td>\n",
       "      <td>94</td>\n",
       "      <td>0.101442</td>\n",
       "      <td>0.58836</td>\n",
       "      <td>0.00952381</td>\n",
       "      <td>0.0126984</td>\n",
       "    </tr>\n",
       "    <tr>\n",
       "      <th>hsa-let-7b</th>\n",
       "      <td>10.4792</td>\n",
       "      <td>0.753999</td>\n",
       "      <td>23</td>\n",
       "      <td>98</td>\n",
       "      <td>23</td>\n",
       "      <td>97</td>\n",
       "      <td>NaN</td>\n",
       "      <td>NaN</td>\n",
       "      <td>NaN</td>\n",
       "      <td>0.0136752</td>\n",
       "      <td>0.326496</td>\n",
       "      <td>0.0358974</td>\n",
       "    </tr>\n",
       "    <tr>\n",
       "      <th>hsa-let-7c</th>\n",
       "      <td>9.33761</td>\n",
       "      <td>0.666916</td>\n",
       "      <td>27</td>\n",
       "      <td>93</td>\n",
       "      <td>27</td>\n",
       "      <td>93</td>\n",
       "      <td>26</td>\n",
       "      <td>94</td>\n",
       "      <td>0.0336991</td>\n",
       "      <td>0.0441941</td>\n",
       "      <td>0.373484</td>\n",
       "      <td>1.14385</td>\n",
       "    </tr>\n",
       "  </tbody>\n",
       "</table>\n",
       "</div>"
      ],
      "text/plain": [
       "             Cleavage Efficiency Cleavage Homogeneity 5' miRBase site  \\\n",
       "Pri-miRNA                                                               \n",
       "hsa-let-7a-1             11.6541             0.870736              25   \n",
       "hsa-let-7a-2             11.3244             0.767239              28   \n",
       "hsa-let-7a-3             8.74483             0.636835              26   \n",
       "hsa-let-7b               10.4792             0.753999              23   \n",
       "hsa-let-7c               9.33761             0.666916              27   \n",
       "\n",
       "             3' miRBase site 5' cleavage site 3' cleavage site  \\\n",
       "Pri-miRNA                                                        \n",
       "hsa-let-7a-1              96               25               96   \n",
       "hsa-let-7a-2              94               28               94   \n",
       "hsa-let-7a-3              94               26               95   \n",
       "hsa-let-7b                98               23               97   \n",
       "hsa-let-7c                93               27               93   \n",
       "\n",
       "             5' alternative site 3' alternative site  \\\n",
       "Pri-miRNA                                              \n",
       "hsa-let-7a-1                 NaN                 NaN   \n",
       "hsa-let-7a-2                  27                  95   \n",
       "hsa-let-7a-3                  25                  94   \n",
       "hsa-let-7b                   NaN                 NaN   \n",
       "hsa-let-7c                    26                  94   \n",
       "\n",
       "             Cleavage ratio of alternative site 5p nick processing  \\\n",
       "Pri-miRNA                                                            \n",
       "hsa-let-7a-1                                NaN         0.00125471   \n",
       "hsa-let-7a-2                          0.0257018           0.109134   \n",
       "hsa-let-7a-3                           0.101442            0.58836   \n",
       "hsa-let-7b                                  NaN          0.0136752   \n",
       "hsa-let-7c                            0.0336991          0.0441941   \n",
       "\n",
       "             3p nick processing Inverted processing  \n",
       "Pri-miRNA                                            \n",
       "hsa-let-7a-1          0.0276035          0.00752823  \n",
       "hsa-let-7a-2          0.0118624            0.622183  \n",
       "hsa-let-7a-3         0.00952381           0.0126984  \n",
       "hsa-let-7b             0.326496           0.0358974  \n",
       "hsa-let-7c             0.373484             1.14385  "
      ]
     },
     "execution_count": 120,
     "metadata": {},
     "output_type": "execute_result"
    }
   ],
   "source": [
    "tbl.head()"
   ]
  },
  {
   "cell_type": "code",
   "execution_count": 121,
   "metadata": {},
   "outputs": [],
   "source": [
    "tbl.to_csv('resources/201123_s7__DROSHA_processing_with_SRSF3.csv')"
   ]
  },
  {
   "cell_type": "code",
   "execution_count": 122,
   "metadata": {},
   "outputs": [],
   "source": [
    "out = open('supplementary/201123_s7__DROSHA_processing_with_SRSF3.csv', 'wt')\n",
    "description = 'Supplementary Table 7. DROSHA processing with SRSF3\\n\\n\\n\\n\\n'\n",
    "out.write(description)\n",
    "for l in open('resources/201123_s7__DROSHA_processing_with_SRSF3.csv', 'rt'):\n",
    "    out.write(l)\n",
    "out.close()"
   ]
  },
  {
   "cell_type": "code",
   "execution_count": null,
   "metadata": {},
   "outputs": [],
   "source": []
  },
  {
   "cell_type": "code",
   "execution_count": null,
   "metadata": {},
   "outputs": [],
   "source": []
  },
  {
   "cell_type": "code",
   "execution_count": null,
   "metadata": {},
   "outputs": [],
   "source": []
  },
  {
   "cell_type": "code",
   "execution_count": null,
   "metadata": {},
   "outputs": [],
   "source": []
  }
 ],
 "metadata": {
  "kernelspec": {
   "display_name": "Python 2",
   "language": "python",
   "name": "python2"
  },
  "language_info": {
   "codemirror_mode": {
    "name": "ipython",
    "version": 2
   },
   "file_extension": ".py",
   "mimetype": "text/x-python",
   "name": "python",
   "nbconvert_exporter": "python",
   "pygments_lexer": "ipython2",
   "version": "2.7.18"
  }
 },
 "nbformat": 4,
 "nbformat_minor": 2
}
