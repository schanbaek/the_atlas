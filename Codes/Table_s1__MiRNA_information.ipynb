{
 "cells": [
  {
   "cell_type": "markdown",
   "metadata": {},
   "source": [
    "# Supplementary Table 1. DROSHA dependency"
   ]
  },
  {
   "cell_type": "code",
   "execution_count": 1,
   "metadata": {},
   "outputs": [
    {
     "name": "stdout",
     "output_type": "stream",
     "text": [
      "Last revised by Seungchan Baek at 2020-11-25.\n"
     ]
    }
   ],
   "source": [
    "import time\n",
    "today = time.strftime('%Y-%m-%d')\n",
    "name = 'Seungchan Baek'\n",
    "print 'Last revised by %s at %s.' % (name, today)"
   ]
  },
  {
   "cell_type": "code",
   "execution_count": 2,
   "metadata": {},
   "outputs": [
    {
     "name": "stdout",
     "output_type": "stream",
     "text": [
      "/casa/bsc/projects/1_DCS/2004_paper_prep\n"
     ]
    }
   ],
   "source": [
    "home = '/casa/bsc/projects/1_DCS/2004_paper_prep/'\n",
    "%cd $home"
   ]
  },
  {
   "cell_type": "code",
   "execution_count": 3,
   "metadata": {},
   "outputs": [],
   "source": [
    "from __future__ import division\n",
    "from Bio import SeqIO\n",
    "from collections import defaultdict\n",
    "import pandas as pd\n",
    "import numpy as np"
   ]
  },
  {
   "cell_type": "code",
   "execution_count": 4,
   "metadata": {},
   "outputs": [
    {
     "data": {
      "text/html": [
       "<div>\n",
       "<style scoped>\n",
       "    .dataframe tbody tr th:only-of-type {\n",
       "        vertical-align: middle;\n",
       "    }\n",
       "\n",
       "    .dataframe tbody tr th {\n",
       "        vertical-align: top;\n",
       "    }\n",
       "\n",
       "    .dataframe thead th {\n",
       "        text-align: right;\n",
       "    }\n",
       "</style>\n",
       "<table border=\"1\" class=\"dataframe\">\n",
       "  <thead>\n",
       "    <tr style=\"text-align: right;\">\n",
       "      <th></th>\n",
       "      <th>DROSHA dependency</th>\n",
       "      <th>MirGeneDB</th>\n",
       "    </tr>\n",
       "    <tr>\n",
       "      <th>Pri-miRNA</th>\n",
       "      <th></th>\n",
       "      <th></th>\n",
       "    </tr>\n",
       "  </thead>\n",
       "  <tbody>\n",
       "  </tbody>\n",
       "</table>\n",
       "</div>"
      ],
      "text/plain": [
       "Empty DataFrame\n",
       "Columns: [DROSHA dependency, MirGeneDB]\n",
       "Index: []"
      ]
     },
     "execution_count": 4,
     "metadata": {},
     "output_type": "execute_result"
    }
   ],
   "source": [
    "cols = ['Pri-miRNA', 'DROSHA dependency', 'MirGeneDB']\n",
    "tbl = pd.DataFrame(columns=cols).set_index('Pri-miRNA')\n",
    "tbl.head(1)"
   ]
  },
  {
   "cell_type": "markdown",
   "metadata": {},
   "source": [
    "---"
   ]
  },
  {
   "cell_type": "code",
   "execution_count": 5,
   "metadata": {},
   "outputs": [],
   "source": [
    "def parse_line(row):\n",
    "    for s in row['attr'].split(';'):\n",
    "        tag, value = s.split('=')\n",
    "        row[tag] = value\n",
    "    return row"
   ]
  },
  {
   "cell_type": "code",
   "execution_count": 6,
   "metadata": {},
   "outputs": [
    {
     "data": {
      "text/html": [
       "<div>\n",
       "<style scoped>\n",
       "    .dataframe tbody tr th:only-of-type {\n",
       "        vertical-align: middle;\n",
       "    }\n",
       "\n",
       "    .dataframe tbody tr th {\n",
       "        vertical-align: top;\n",
       "    }\n",
       "\n",
       "    .dataframe thead th {\n",
       "        text-align: right;\n",
       "    }\n",
       "</style>\n",
       "<table border=\"1\" class=\"dataframe\">\n",
       "  <thead>\n",
       "    <tr style=\"text-align: right;\">\n",
       "      <th></th>\n",
       "      <th>Alias</th>\n",
       "      <th>Derives_from</th>\n",
       "      <th>ID</th>\n",
       "      <th>Name</th>\n",
       "      <th>chr</th>\n",
       "      <th>end</th>\n",
       "      <th>kind</th>\n",
       "      <th>start</th>\n",
       "      <th>strand</th>\n",
       "    </tr>\n",
       "  </thead>\n",
       "  <tbody>\n",
       "    <tr>\n",
       "      <th>0</th>\n",
       "      <td>MI0022705</td>\n",
       "      <td>NaN</td>\n",
       "      <td>MI0022705</td>\n",
       "      <td>hsa-mir-6859-1</td>\n",
       "      <td>chr1</td>\n",
       "      <td>17436</td>\n",
       "      <td>miRNA_primary_transcript</td>\n",
       "      <td>17369</td>\n",
       "      <td>-</td>\n",
       "    </tr>\n",
       "    <tr>\n",
       "      <th>1</th>\n",
       "      <td>MIMAT0027618</td>\n",
       "      <td>MI0022705</td>\n",
       "      <td>MIMAT0027618</td>\n",
       "      <td>hsa-miR-6859-5p</td>\n",
       "      <td>chr1</td>\n",
       "      <td>17431</td>\n",
       "      <td>miRNA</td>\n",
       "      <td>17409</td>\n",
       "      <td>-</td>\n",
       "    </tr>\n",
       "    <tr>\n",
       "      <th>2</th>\n",
       "      <td>MIMAT0027619</td>\n",
       "      <td>MI0022705</td>\n",
       "      <td>MIMAT0027619</td>\n",
       "      <td>hsa-miR-6859-3p</td>\n",
       "      <td>chr1</td>\n",
       "      <td>17391</td>\n",
       "      <td>miRNA</td>\n",
       "      <td>17369</td>\n",
       "      <td>-</td>\n",
       "    </tr>\n",
       "  </tbody>\n",
       "</table>\n",
       "</div>"
      ],
      "text/plain": [
       "          Alias Derives_from            ID             Name   chr    end  \\\n",
       "0     MI0022705          NaN     MI0022705   hsa-mir-6859-1  chr1  17436   \n",
       "1  MIMAT0027618    MI0022705  MIMAT0027618  hsa-miR-6859-5p  chr1  17431   \n",
       "2  MIMAT0027619    MI0022705  MIMAT0027619  hsa-miR-6859-3p  chr1  17391   \n",
       "\n",
       "                       kind  start strand  \n",
       "0  miRNA_primary_transcript  17369      -  \n",
       "1                     miRNA  17409      -  \n",
       "2                     miRNA  17369      -  "
      ]
     },
     "execution_count": 6,
     "metadata": {},
     "output_type": "execute_result"
    }
   ],
   "source": [
    "# miBRase v21 gff file\n",
    "gff = 'supplementary/human_mirbase-v21.gff3'\n",
    "anntbl = pd.read_table(gff, header=12, sep='\\t', usecols=[0,2,3,4,6,8], \n",
    "                       names=['chr','kind','start','end','strand','attr'])\n",
    "anntbl = anntbl.apply(parse_line, axis=1).drop(['attr'], axis=1)\n",
    "anntbl.head(3)"
   ]
  },
  {
   "cell_type": "code",
   "execution_count": 7,
   "metadata": {},
   "outputs": [
    {
     "name": "stdout",
     "output_type": "stream",
     "text": [
      "1881\n"
     ]
    }
   ],
   "source": [
    "annpri = anntbl[anntbl['kind']=='miRNA_primary_transcript'].set_index('Name')\n",
    "annmat = anntbl[anntbl['kind']=='miRNA'].set_index('ID')\n",
    "allpris = sorted(annpri.index)\n",
    "print len(allpris)"
   ]
  },
  {
   "cell_type": "code",
   "execution_count": 8,
   "metadata": {},
   "outputs": [],
   "source": [
    "# pri-mature matching\n",
    "primat = {}\n",
    "for pri, row in annpri.iterrows():\n",
    "    matureDerives = anntbl[anntbl['Derives_from']==row['ID']]\n",
    "    primat[pri] = matureDerives['Name'].tolist()"
   ]
  },
  {
   "cell_type": "code",
   "execution_count": 9,
   "metadata": {},
   "outputs": [],
   "source": [
    "## DROSHA-independent pri-miRNAs: mirtrons & capped \n",
    "# Kim et al. (2017) table s1.\n",
    "grpexcel = pd.ExcelFile('supplementary/Kim_2017_s1.xlsx')\n",
    "grptbl = grpexcel.parse('Sheet1', index_col=0)\n",
    "grptbl.index = [ 'hsa-%s'%i.strip() for i in grptbl.index ]"
   ]
  },
  {
   "cell_type": "code",
   "execution_count": 10,
   "metadata": {
    "scrolled": true
   },
   "outputs": [
    {
     "data": {
      "text/plain": [
       "Counter({u'Capped miRNA': 11,\n",
       "         u'DROSHA-dependent': 1624,\n",
       "         u'Mirtron': 239,\n",
       "         u'SnoRNA-derived miRNA': 6,\n",
       "         u'tRNA-related miRNA': 1})"
      ]
     },
     "execution_count": 10,
     "metadata": {},
     "output_type": "execute_result"
    }
   ],
   "source": [
    "from collections import Counter\n",
    "Counter(grptbl['DROSHA dependency'])"
   ]
  },
  {
   "cell_type": "code",
   "execution_count": 11,
   "metadata": {},
   "outputs": [
    {
     "name": "stdout",
     "output_type": "stream",
     "text": [
      "157\n"
     ]
    }
   ],
   "source": [
    "## DROSHA-dependent pri-miRNAs: DROSHA KO-sensitive\n",
    "# Kim et al. (2016) PNAS\n",
    "koexcel = pd.ExcelFile('supplementary/Kim_2016_s1.xlsx')\n",
    "droko = koexcel.parse('DroKO', index_col=0)\n",
    "drosensi = droko[droko['Group'].apply(lambda x: x in [1,2,4])].index\n",
    "drosensitive = [ pri for pri in allpris if set.intersection(set(primat[pri]),set(drosensi)) ]\n",
    "print len(drosensitive)"
   ]
  },
  {
   "cell_type": "code",
   "execution_count": 12,
   "metadata": {
    "scrolled": true
   },
   "outputs": [
    {
     "name": "stdout",
     "output_type": "stream",
     "text": [
      "281\n"
     ]
    }
   ],
   "source": [
    "## DROSHA-dependent pri-miRNAs: DROSHA fCLIP-detected\n",
    "# Kim et al. (2017) Mol. Cell\n",
    "fclipexcel = pd.ExcelFile('supplementary/Kim_2017_s2.xlsx')\n",
    "f293t = fclipexcel.parse('HEK293T_miRBase', index_col=0)\n",
    "fhela = fclipexcel.parse('HeLa_miRBase', index_col=0)\n",
    "mirs293t = f293t[(f293t['Group5p']!='Unidentified')&(f293t['Group3p']!='Unidentified')].index\n",
    "mirshela = fhela[(fhela['Group5p']!='Unidentified')&(fhela['Group3p']!='Unidentified')].index\n",
    "fclipmirs = [ mir for mir in allpris if mir in mirs293t or mir in mirshela ]\n",
    "print len(fclipmirs)"
   ]
  },
  {
   "cell_type": "code",
   "execution_count": 13,
   "metadata": {},
   "outputs": [],
   "source": [
    "for pri in allpris:\n",
    "    if grptbl.loc[pri,'DROSHA dependency']!='DROSHA-dependent':\n",
    "        tbl.loc[pri,'DROSHA dependency'] = 'DROSHA-independent, %s'%\\\n",
    "        grptbl.loc[pri,'DROSHA dependency']\n",
    "    elif pri=='hsa-mir-451a':\n",
    "        tbl.loc[pri,'DROSHA dependency'] = 'DROSHA-dependent'\n",
    "    elif pri in drosensitive and pri in fclipmirs:\n",
    "        tbl.loc[pri,'DROSHA dependency'] = 'DROSHA-dependent, verified by DROSHA KO and fCLIP'\n",
    "    elif pri in drosensitive:\n",
    "        tbl.loc[pri,'DROSHA dependency'] = 'DROSHA-dependent, verified by DROSHA KO'\n",
    "    elif pri in fclipmirs:\n",
    "        tbl.loc[pri,'DROSHA dependency'] = 'DROSHA-dependent, verified by fCLIP'\n",
    "    else:\n",
    "        tbl.loc[pri,'DROSHA dependency'] = 'Not yet determined'"
   ]
  },
  {
   "cell_type": "code",
   "execution_count": 16,
   "metadata": {},
   "outputs": [],
   "source": [
    "anntbl = anntbl.set_index('ID')"
   ]
  },
  {
   "cell_type": "code",
   "execution_count": 17,
   "metadata": {},
   "outputs": [
    {
     "name": "stdout",
     "output_type": "stream",
     "text": [
      "503\n"
     ]
    }
   ],
   "source": [
    "dbv2f = 'resources/mirgenedb_v2.gff'\n",
    "dbv2 = pd.read_table(dbv2f, sep='\\t', header=2, usecols=[0,2,3,4,6,8], \n",
    "                     names=['chr','type','start','end','strand','info'])\n",
    "dbv2['db id'] = dbv2['info'].apply(lambda x:x.split(';')[0].split('=')[1]) # Hsa-Let-7-P1_pre\n",
    "dbv2['db name'] = dbv2['db id'].apply(lambda x:x.split('_')[0]) # Hsa-Let-7-P1\n",
    "dbv2pre = dbv2[dbv2['type']=='pre_miRNA']\n",
    "dbv2pre = dbv2pre[dbv2pre['info'].apply(lambda x:x.find('Alias')>=0)]\n",
    "dbv2pre['mb name'] = dbv2pre['info'].apply(lambda x:x.split(';')[1].split('=')[1])\n",
    "dbmirs = dbv2pre['mb name'].tolist()\n",
    "dbmirs = set([ anntbl.loc[i,'Name'] for i in dbmirs if i in anntbl.index ])\n",
    "print len(dbmirs)\n",
    "for pri in allpris:\n",
    "    if pri in dbmirs:\n",
    "        tbl.loc[pri,'MirGeneDB'] = 'Annotated'"
   ]
  },
  {
   "cell_type": "code",
   "execution_count": 18,
   "metadata": {},
   "outputs": [],
   "source": [
    "tbl.to_csv('resources/201123_s1__DROSHA_dependency.csv')"
   ]
  },
  {
   "cell_type": "code",
   "execution_count": 19,
   "metadata": {},
   "outputs": [],
   "source": [
    "out = open('supplementary/201123_s1__DROSHA_dependency.csv', 'wt')\n",
    "description = 'Supplementary Table 1. DROSHA dependency\\n\\n\\n\\n\\n'\n",
    "out.write(description)\n",
    "for l in open('resources/201123_s1__DROSHA_dependency.csv', 'rt'):\n",
    "    out.write(l)\n",
    "out.close()"
   ]
  },
  {
   "cell_type": "code",
   "execution_count": null,
   "metadata": {},
   "outputs": [],
   "source": []
  }
 ],
 "metadata": {
  "kernelspec": {
   "display_name": "Python 2",
   "language": "python",
   "name": "python2"
  },
  "language_info": {
   "codemirror_mode": {
    "name": "ipython",
    "version": 2
   },
   "file_extension": ".py",
   "mimetype": "text/x-python",
   "name": "python",
   "nbconvert_exporter": "python",
   "pygments_lexer": "ipython2",
   "version": "2.7.18"
  }
 },
 "nbformat": 4,
 "nbformat_minor": 2
}
