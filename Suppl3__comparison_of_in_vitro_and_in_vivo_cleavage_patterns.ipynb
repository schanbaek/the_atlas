{
 "cells": [
  {
   "cell_type": "markdown",
   "metadata": {},
   "source": [
    "# Supplementary figure 3. Comparison of in vitro and in vivo cleavage patterns\n",
    "A. Comparison of productively processed miRNAs *in vitro* and *in vivo*  \n",
    "B. Comparison of cleavage sites *in vitro* and *in vivo*  \n",
    "C. Comparison of cleavage specificity *in vitro* and *in vivo*  "
   ]
  },
  {
   "cell_type": "code",
   "execution_count": 1,
   "metadata": {},
   "outputs": [
    {
     "name": "stdout",
     "output_type": "stream",
     "text": [
      "Last revised by Seungchan Baek at 2020-10-13.\n"
     ]
    }
   ],
   "source": [
    "import time\n",
    "today = time.strftime('%Y-%m-%d')\n",
    "name = 'Seungchan Baek'\n",
    "print 'Last revised by %s at %s.' % (name, today)"
   ]
  },
  {
   "cell_type": "code",
   "execution_count": 2,
   "metadata": {},
   "outputs": [
    {
     "name": "stdout",
     "output_type": "stream",
     "text": [
      "/casa/bsc/projects/1_DCS/2004_paper_prep\n"
     ]
    }
   ],
   "source": [
    "home = '/casa/bsc/projects/1_DCS/2004_paper_prep/'\n",
    "%cd $home"
   ]
  },
  {
   "cell_type": "code",
   "execution_count": 3,
   "metadata": {},
   "outputs": [
    {
     "name": "stdout",
     "output_type": "stream",
     "text": [
      "resultpath: results/201013/\n"
     ]
    }
   ],
   "source": [
    "from __future__ import division\n",
    "import sys; sys.path.append('/casa/bsc/notebooks/')\n",
    "from util import *\n",
    "from basic import gen_result_dir\n",
    "resultpath = gen_result_dir('results/')\n",
    "print 'resultpath:', resultpath"
   ]
  },
  {
   "cell_type": "code",
   "execution_count": 4,
   "metadata": {},
   "outputs": [],
   "source": [
    "import pandas as pd\n",
    "import numpy as np\n",
    "import re\n",
    "import gzip\n",
    "from matplotlib import pyplot as plt\n",
    "from matplotlib import gridspec, lines\n",
    "%matplotlib inline"
   ]
  },
  {
   "cell_type": "code",
   "execution_count": 5,
   "metadata": {},
   "outputs": [],
   "source": [
    "LIBRARIES = [ 'set1', 'set2', 'set3', 'set4', 'set5' ]"
   ]
  },
  {
   "cell_type": "markdown",
   "metadata": {},
   "source": [
    "#### Import supplementary tables"
   ]
  },
  {
   "cell_type": "code",
   "execution_count": 6,
   "metadata": {},
   "outputs": [
    {
     "name": "stdout",
     "output_type": "stream",
     "text": [
      "s1:\t5p mature, 5p sequence, 3p mature, 3p sequence, Note\n",
      "s2:\tChr, Start, End, Strand, Construct sequence, 100way phyloP scores (pre-miRNA -/+ 100nt)\n",
      "s5:\t117, 118, 119, 120, 121, 122, 123, 124, 125, symbolized structure\n",
      "s6:\tRelative position from miRBase site, Cleavage Specificity, Cleavage Imbalance, Cleavage type\n"
     ]
    }
   ],
   "source": [
    "s1 = pd.read_csv('supplementary/201012_s1_pri-info.csv', header=1, index_col=0)\n",
    "s2 = pd.read_csv('supplementary/201012_s2_pri-construct.csv', header=1, index_col=0)\n",
    "s5 = pd.read_csv('supplementary/201012_s5_pri-structure.csv', header=1, index_col=0)\n",
    "s6 = pd.read_csv('supplementary/201012_s6_cleavage-patterns.csv', header=1, index_col=0)\n",
    "print 's1:\\t%s'%', '.join(list(s1.columns))\n",
    "print 's2:\\t%s'%', '.join(list(s2.columns)[:6])\n",
    "print 's5:\\t%s'%', '.join(list(s5.columns)[-10:])\n",
    "print 's6:\\t%s'%', '.join(list(s6.columns)[-4:])"
   ]
  },
  {
   "cell_type": "code",
   "execution_count": 7,
   "metadata": {},
   "outputs": [],
   "source": [
    "def get_pre_position(pri):\n",
    "    constructseq = s2.loc[pri, 'Construct sequence'].replace('T','U')\n",
    "    seq5p = s1.loc[pri, '5p sequence']\n",
    "    seq3p = s1.loc[pri, '3p sequence']\n",
    "    if seq5p=='n.a.' or constructseq.find(seq5p)==-1:\n",
    "        prestart = 0\n",
    "    else:\n",
    "        prestart = constructseq.find(seq5p)+1\n",
    "    if seq3p=='n.a.' or constructseq.find(seq3p)==-1:\n",
    "        preend = 0\n",
    "    else:\n",
    "        preend = constructseq.rfind(seq3p)+len(seq3p)\n",
    "    return prestart, preend"
   ]
  },
  {
   "cell_type": "code",
   "execution_count": 8,
   "metadata": {},
   "outputs": [
    {
     "name": "stdout",
     "output_type": "stream",
     "text": [
      "1881\n"
     ]
    }
   ],
   "source": [
    "allpris = s1.index\n",
    "preposition = { pri:get_pre_position(pri) for pri in allpris }\n",
    "print len(preposition)"
   ]
  },
  {
   "cell_type": "code",
   "execution_count": 9,
   "metadata": {},
   "outputs": [
    {
     "name": "stdout",
     "output_type": "stream",
     "text": [
      "239 11 157 281 519\n"
     ]
    }
   ],
   "source": [
    "mirtrons = [ pri for pri in allpris if s1.loc[pri,'Note'].find('Mirtron')>=0 ]\n",
    "capped = [ pri for pri in allpris if s1.loc[pri,'Note'].find('Capped miRNA')>=0 ]\n",
    "drosensitive = [ pri for pri in allpris if s1.loc[pri,'Note'].find('DROSHA KO-sensitive')>=0 ]\n",
    "fclipdetected = [ pri for pri in allpris if s1.loc[pri,'Note'].find('fCLIP site-determined')>=0 ]\n",
    "dbmirs = [ pri for pri in allpris if s1.loc[pri,'Note'].find('MirGeneDB')>=0 ]\n",
    "print len(mirtrons), len(capped), len(drosensitive), len(fclipdetected), len(dbmirs)"
   ]
  },
  {
   "cell_type": "code",
   "execution_count": 10,
   "metadata": {},
   "outputs": [
    {
     "name": "stdout",
     "output_type": "stream",
     "text": [
      "1881\n"
     ]
    }
   ],
   "source": [
    "priseqs = dict(s2['Construct sequence'])\n",
    "print len(priseqs)"
   ]
  },
  {
   "cell_type": "code",
   "execution_count": null,
   "metadata": {},
   "outputs": [],
   "source": []
  }
 ],
 "metadata": {
  "kernelspec": {
   "display_name": "Python 2",
   "language": "python",
   "name": "python2"
  },
  "language_info": {
   "codemirror_mode": {
    "name": "ipython",
    "version": 2
   },
   "file_extension": ".py",
   "mimetype": "text/x-python",
   "name": "python",
   "nbconvert_exporter": "python",
   "pygments_lexer": "ipython2",
   "version": "2.7.18"
  }
 },
 "nbformat": 4,
 "nbformat_minor": 2
}
