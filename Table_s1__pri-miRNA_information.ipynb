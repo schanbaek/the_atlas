{
 "cells": [
  {
   "cell_type": "markdown",
   "metadata": {},
   "source": [
    "# Supplementary Table 1. Pri-miRNA information\n",
    "1. mature miRNAs that derive from a pri-miRNA\n",
    "2. mature miRNA sequences\n",
    "3. DROSHA dependency - DROSHA KO-sensitive, DROSHA fCLIP-detected, Mirtrons, Capped\n",
    "4. MirGeneDB  \n",
    "5. Build table"
   ]
  },
  {
   "cell_type": "code",
   "execution_count": 2,
   "metadata": {},
   "outputs": [
    {
     "name": "stdout",
     "output_type": "stream",
     "text": [
      "Last revised by Seungchan Baek at 2020-10-12.\n"
     ]
    }
   ],
   "source": [
    "import time\n",
    "today = time.strftime('%Y-%m-%d')\n",
    "name = 'Seungchan Baek'\n",
    "print 'Last revised by %s at %s.' % (name, today)"
   ]
  },
  {
   "cell_type": "code",
   "execution_count": 3,
   "metadata": {},
   "outputs": [
    {
     "name": "stdout",
     "output_type": "stream",
     "text": [
      "/casa/bsc/projects/1_DCS/2004_paper_prep\n"
     ]
    }
   ],
   "source": [
    "home = '/casa/bsc/projects/1_DCS/2004_paper_prep/'\n",
    "%cd $home"
   ]
  },
  {
   "cell_type": "code",
   "execution_count": 4,
   "metadata": {},
   "outputs": [],
   "source": [
    "from __future__ import division\n",
    "from Bio import SeqIO\n",
    "from collections import defaultdict\n",
    "import pandas as pd\n",
    "import numpy as np"
   ]
  },
  {
   "cell_type": "markdown",
   "metadata": {},
   "source": [
    "### 1. mature miRNAs that derive from a pri-miRNA"
   ]
  },
  {
   "cell_type": "code",
   "execution_count": 5,
   "metadata": {},
   "outputs": [],
   "source": [
    "def parse_line(row):\n",
    "    for s in row['attr'].split(';'):\n",
    "        tag, value = s.split('=')\n",
    "        row[tag] = value\n",
    "    return row"
   ]
  },
  {
   "cell_type": "code",
   "execution_count": 6,
   "metadata": {},
   "outputs": [
    {
     "data": {
      "text/html": [
       "<div>\n",
       "<style scoped>\n",
       "    .dataframe tbody tr th:only-of-type {\n",
       "        vertical-align: middle;\n",
       "    }\n",
       "\n",
       "    .dataframe tbody tr th {\n",
       "        vertical-align: top;\n",
       "    }\n",
       "\n",
       "    .dataframe thead th {\n",
       "        text-align: right;\n",
       "    }\n",
       "</style>\n",
       "<table border=\"1\" class=\"dataframe\">\n",
       "  <thead>\n",
       "    <tr style=\"text-align: right;\">\n",
       "      <th></th>\n",
       "      <th>Alias</th>\n",
       "      <th>Derives_from</th>\n",
       "      <th>ID</th>\n",
       "      <th>Name</th>\n",
       "      <th>chr</th>\n",
       "      <th>end</th>\n",
       "      <th>kind</th>\n",
       "      <th>start</th>\n",
       "      <th>strand</th>\n",
       "    </tr>\n",
       "  </thead>\n",
       "  <tbody>\n",
       "    <tr>\n",
       "      <th>0</th>\n",
       "      <td>MI0022705</td>\n",
       "      <td>NaN</td>\n",
       "      <td>MI0022705</td>\n",
       "      <td>hsa-mir-6859-1</td>\n",
       "      <td>chr1</td>\n",
       "      <td>17436</td>\n",
       "      <td>miRNA_primary_transcript</td>\n",
       "      <td>17369</td>\n",
       "      <td>-</td>\n",
       "    </tr>\n",
       "    <tr>\n",
       "      <th>1</th>\n",
       "      <td>MIMAT0027618</td>\n",
       "      <td>MI0022705</td>\n",
       "      <td>MIMAT0027618</td>\n",
       "      <td>hsa-miR-6859-5p</td>\n",
       "      <td>chr1</td>\n",
       "      <td>17431</td>\n",
       "      <td>miRNA</td>\n",
       "      <td>17409</td>\n",
       "      <td>-</td>\n",
       "    </tr>\n",
       "    <tr>\n",
       "      <th>2</th>\n",
       "      <td>MIMAT0027619</td>\n",
       "      <td>MI0022705</td>\n",
       "      <td>MIMAT0027619</td>\n",
       "      <td>hsa-miR-6859-3p</td>\n",
       "      <td>chr1</td>\n",
       "      <td>17391</td>\n",
       "      <td>miRNA</td>\n",
       "      <td>17369</td>\n",
       "      <td>-</td>\n",
       "    </tr>\n",
       "  </tbody>\n",
       "</table>\n",
       "</div>"
      ],
      "text/plain": [
       "          Alias Derives_from            ID             Name   chr    end  \\\n",
       "0     MI0022705          NaN     MI0022705   hsa-mir-6859-1  chr1  17436   \n",
       "1  MIMAT0027618    MI0022705  MIMAT0027618  hsa-miR-6859-5p  chr1  17431   \n",
       "2  MIMAT0027619    MI0022705  MIMAT0027619  hsa-miR-6859-3p  chr1  17391   \n",
       "\n",
       "                       kind  start strand  \n",
       "0  miRNA_primary_transcript  17369      -  \n",
       "1                     miRNA  17409      -  \n",
       "2                     miRNA  17369      -  "
      ]
     },
     "execution_count": 6,
     "metadata": {},
     "output_type": "execute_result"
    }
   ],
   "source": [
    "# miBRase v21 gff file\n",
    "gff = 'supplementary/human_mirbase-v21.gff3'\n",
    "anntbl = pd.read_table(gff, header=12, sep='\\t', usecols=[0,2,3,4,6,8], \n",
    "                       names=['chr','kind','start','end','strand','attr'])\n",
    "anntbl = anntbl.apply(parse_line, axis=1).drop(['attr'], axis=1)\n",
    "anntbl.head(3)"
   ]
  },
  {
   "cell_type": "code",
   "execution_count": 7,
   "metadata": {},
   "outputs": [
    {
     "name": "stdout",
     "output_type": "stream",
     "text": [
      "1881\n"
     ]
    }
   ],
   "source": [
    "annpri = anntbl[anntbl['kind']=='miRNA_primary_transcript'].set_index('Name')\n",
    "allpris = sorted(annpri.index)\n",
    "print len(allpris)"
   ]
  },
  {
   "cell_type": "code",
   "execution_count": 8,
   "metadata": {},
   "outputs": [],
   "source": [
    "# pri-mature matching\n",
    "primat = {}\n",
    "for pri, row in annpri.iterrows():\n",
    "    matureDerives = anntbl[anntbl['Derives_from']==row['ID']]\n",
    "    primat[pri] = matureDerives['Name'].tolist()"
   ]
  },
  {
   "cell_type": "code",
   "execution_count": 9,
   "metadata": {},
   "outputs": [
    {
     "name": "stdout",
     "output_type": "stream",
     "text": [
      "28645\n"
     ]
    }
   ],
   "source": [
    "# hairpin sequence\n",
    "pri = 'supplementary/hairpin_mirbase-v21.fa'\n",
    "priseqs = { s.id:str(s.seq) for s in SeqIO.parse(pri, 'fasta') }\n",
    "print len(priseqs)"
   ]
  },
  {
   "cell_type": "markdown",
   "metadata": {},
   "source": [
    "### 2. mature miRNA sequences"
   ]
  },
  {
   "cell_type": "code",
   "execution_count": 10,
   "metadata": {},
   "outputs": [
    {
     "name": "stdout",
     "output_type": "stream",
     "text": [
      "35828 ACAUACUUCUUUAUAUGCCCAU\n"
     ]
    }
   ],
   "source": [
    "# miRBase v21 mature sequence fasta file\n",
    "mature = 'supplementary/mature_mirbase-v21.fa'\n",
    "matureseqs = { s.id:str(s.seq) for s in SeqIO.parse(mature, 'fasta') }\n",
    "print len(matureseqs), matureseqs['hsa-miR-1-5p']"
   ]
  },
  {
   "cell_type": "markdown",
   "metadata": {},
   "source": [
    "### 3. DROSHA-dependency"
   ]
  },
  {
   "cell_type": "code",
   "execution_count": 11,
   "metadata": {},
   "outputs": [
    {
     "name": "stdout",
     "output_type": "stream",
     "text": [
      "11 239\n"
     ]
    }
   ],
   "source": [
    "## DROSHA-independent pri-miRNAs: mirtrons & capped \n",
    "# Kim et al. (2017) table s1.\n",
    "grpexcel = pd.ExcelFile('supplementary/Kim_2017_s1.xlsx')\n",
    "grptbl = grpexcel.parse('Sheet1', index_col=0)\n",
    "grptbl.index = [ 'hsa-%s'%i.strip() for i in grptbl.index ]\n",
    "capped = grptbl[grptbl['DROSHA dependency']=='Capped miRNA'].index\n",
    "mirtrons = grptbl[grptbl['DROSHA dependency']=='Mirtron'].index\n",
    "print len(capped), len(mirtrons)"
   ]
  },
  {
   "cell_type": "code",
   "execution_count": 12,
   "metadata": {},
   "outputs": [
    {
     "name": "stdout",
     "output_type": "stream",
     "text": [
      "157\n"
     ]
    }
   ],
   "source": [
    "## DROSHA-dependent pri-miRNAs: DROSHA KO-sensitive\n",
    "# Kim et al. (2016) PNAS\n",
    "koexcel = pd.ExcelFile('supplementary/Kim_2016_s1.xlsx')\n",
    "droko = koexcel.parse('DroKO', index_col=0)\n",
    "drosensi = droko[droko['Group'].apply(lambda x: x in [1,2,4])].index\n",
    "drosensitive = [ pri for pri in allpris if set.intersection(set(primat[pri]),set(drosensi)) ]\n",
    "print len(drosensitive)"
   ]
  },
  {
   "cell_type": "code",
   "execution_count": 13,
   "metadata": {},
   "outputs": [
    {
     "name": "stdout",
     "output_type": "stream",
     "text": [
      "281\n"
     ]
    }
   ],
   "source": [
    "## DROSHA-dependent pri-miRNAs: DROSHA fCLIP-detected\n",
    "# Kim et al. (2017) Mol. Cell\n",
    "fclipexcel = pd.ExcelFile('supplementary/Kim_2017_s2.xlsx')\n",
    "f293t = fclipexcel.parse('HEK293T_miRBase', index_col=0)\n",
    "fhela = fclipexcel.parse('HeLa_miRBase', index_col=0)\n",
    "mirs293t = f293t[(f293t['Group5p']!='Unidentified')&(f293t['Group3p']!='Unidentified')].index\n",
    "mirshela = fhela[(fhela['Group5p']!='Unidentified')&(fhela['Group3p']!='Unidentified')].index\n",
    "fclipmirs = [ mir for mir in allpris if mir in mirs293t or mir in mirshela ]\n",
    "print len(fclipmirs)"
   ]
  },
  {
   "cell_type": "markdown",
   "metadata": {},
   "source": [
    "### 4. MirGeneDB"
   ]
  },
  {
   "cell_type": "code",
   "execution_count": 14,
   "metadata": {},
   "outputs": [
    {
     "name": "stdout",
     "output_type": "stream",
     "text": [
      "519\n"
     ]
    }
   ],
   "source": [
    "dbv1f = 'resources/mirgenedb_v1.gff'\n",
    "dbv1 = pd.read_table(dbv1f, sep='\\t', header=2, usecols=[0,2,3,4,6,8], \n",
    "                     names=['chr','type','start','end','strand','info'])\n",
    "dbv1['db id'] = dbv1['info'].apply(lambda x:x.split(';')[0].split('=')[1]) # Hsa-Let-7-P1_pre\n",
    "dbv1['db name'] = dbv1['db id'].apply(lambda x:x.split('_')[0]) # Hsa-Let-7-P1\n",
    "dbv1pre = dbv1[dbv1['type']=='miRNA_precursor']\n",
    "dbv1pre = dbv1pre[dbv1pre['info'].apply(lambda x:x.find('Alias')>=0)]\n",
    "dbv1pre['mb name'] = dbv1pre['info'].apply(lambda x:x.split(';')[1].split('=')[1])\n",
    "dbmirs = dbv1pre['mb name'].tolist()\n",
    "print len(dbmirs)"
   ]
  },
  {
   "cell_type": "markdown",
   "metadata": {},
   "source": [
    "### 5. Build table"
   ]
  },
  {
   "cell_type": "code",
   "execution_count": 15,
   "metadata": {},
   "outputs": [],
   "source": [
    "## encode miRBase structure\n",
    "strfile = 'supplementary/mirbase-v21.str'\n",
    "strinfos = defaultdict(list)\n",
    "mir = ''\n",
    "for l in open(strfile, 'rt'):\n",
    "    if l.startswith('>'):\n",
    "        mir = l.split()[0][1:]\n",
    "    else:\n",
    "        strinfos[mir].append(l.replace('\\n',''))"
   ]
  },
  {
   "cell_type": "code",
   "execution_count": 16,
   "metadata": {},
   "outputs": [],
   "source": [
    "def concat_seq(infos, nucs):\n",
    "    ss5, ds5, match, ds3, ss3 = infos\n",
    "    seq = ''\n",
    "    if ds5[0] in nucs:\n",
    "        ss5 = '- '+ss5\n",
    "    if ds3[0] in nucs:\n",
    "        ss3 = '- '+ss3\n",
    "        \n",
    "    for s5, d5 in zip(ss5.split(), ds5.split()):\n",
    "        seq += s5+d5\n",
    "    seq += match[-1]\n",
    "    for d3, s3 in zip(ds3.split()[::-1], ss3.split()[::-1]):\n",
    "        seq += d3[::-1]+s3[::-1]    \n",
    "    seq = seq.replace('-','').replace('|','').replace(' ','')\n",
    "    return seq"
   ]
  },
  {
   "cell_type": "code",
   "execution_count": 17,
   "metadata": {},
   "outputs": [],
   "source": [
    "def get_new_str(mir):\n",
    "    nucs = 'ACGUacgu'\n",
    "    ss5, ds5, match, ds3, ss3 = strinfos[mir][1:6]\n",
    "    newinfo = [ '', '', '', '', '' ]\n",
    "    \n",
    "    for ss, ssnew, oppo, index in [ (ss5,'',ss3,0), (ss3,'',ss5,4) ]:\n",
    "        for i,s in enumerate(ss):\n",
    "            if s in nucs and i<match.find('|'): ssnew += 'F'\n",
    "            elif s in nucs and i>match.rfind('|'): ssnew += 'L'\n",
    "            elif s in nucs and oppo[i] in nucs: ssnew += 'S'\n",
    "            elif s in nucs: ssnew += 'A'\n",
    "            else: ssnew += s\n",
    "        newinfo[index] = ssnew\n",
    "    \n",
    "    for ds, dsnew, index in [ (ds5,'',1), (ds3,'',3) ]:\n",
    "        for i,s in enumerate(ds):\n",
    "            if s in nucs and i>match.rfind('|'): dsnew += 'L'\n",
    "            elif s in nucs: dsnew += 'M'\n",
    "            else: dsnew += s\n",
    "        newinfo[index] = dsnew\n",
    "    \n",
    "    if match[-1] in nucs: newinfo[2] = match[:-1] + 'L'\n",
    "    else: newinfo[2] = match   \n",
    "    return concat_seq(newinfo, 'FLSAM')"
   ]
  },
  {
   "cell_type": "code",
   "execution_count": 18,
   "metadata": {},
   "outputs": [],
   "source": [
    "def determine_arm(pri, priseq, matseq):\n",
    "    loopstart = get_new_str(pri).find('L')\n",
    "    if priseq.find(matseq)==-1:\n",
    "        return 'error'\n",
    "    if priseq.find(matseq)<loopstart:\n",
    "        return '5p'\n",
    "    return '3p'"
   ]
  },
  {
   "cell_type": "code",
   "execution_count": 19,
   "metadata": {},
   "outputs": [],
   "source": [
    "# sanity check\n",
    "for pri in primat:\n",
    "    for mat in primat[pri]:\n",
    "        priseq = priseqs[pri]\n",
    "        matseq = matureseqs[mat]\n",
    "        if determine_arm(pri, priseq, matseq)=='error':\n",
    "            print pri, mat"
   ]
  },
  {
   "cell_type": "code",
   "execution_count": 36,
   "metadata": {},
   "outputs": [],
   "source": [
    "cols = [ 'Pri-miRNA','5p mature','5p sequence','3p mature','3p sequence' ]\n",
    "tbl = pd.DataFrame(columns=cols)\n",
    "tbl['Pri-miRNA'] = allpris\n",
    "tbl = tbl.set_index('Pri-miRNA').sort_index().fillna('n.a.')"
   ]
  },
  {
   "cell_type": "code",
   "execution_count": 37,
   "metadata": {},
   "outputs": [],
   "source": [
    "for pri in primat:\n",
    "    for mat in primat[pri]:\n",
    "        priseq = priseqs[pri]\n",
    "        matseq = matureseqs[mat]\n",
    "        if mat.endswith('5p') or determine_arm(pri, priseq, matseq)=='5p':\n",
    "            tbl.loc[pri, '5p mature'] = mat\n",
    "            tbl.loc[pri, '5p sequence'] = matureseqs[mat]\n",
    "        elif mat.endswith('3p') or determine_arm(pri, priseq, matseq)=='3p':\n",
    "            tbl.loc[pri, '3p mature'] = mat\n",
    "            tbl.loc[pri, '3p sequence'] = matureseqs[mat]"
   ]
  },
  {
   "cell_type": "code",
   "execution_count": 38,
   "metadata": {},
   "outputs": [],
   "source": [
    "notes = defaultdict(list)\n",
    "\n",
    "# MirGeneDB\n",
    "for pri in dbmirs:\n",
    "    notes[pri].append('MirGeneDB')\n",
    "    \n",
    "# DROSHA-independent\n",
    "for pri in mirtrons:\n",
    "    notes[pri].append('Mirtron')\n",
    "for pri in capped:\n",
    "    notes[pri].append('Capped miRNA')\n",
    "    \n",
    "# DROSHA-dependent\n",
    "for pri in drosensitive:\n",
    "    notes[pri].append('DROSHA KO-sensitive')\n",
    "for pri in fclipmirs:\n",
    "    notes[pri].append('fCLIP site-determined')"
   ]
  },
  {
   "cell_type": "code",
   "execution_count": 39,
   "metadata": {},
   "outputs": [],
   "source": [
    "for pri in notes:\n",
    "    tbl.loc[pri, 'Note'] = ', '.join(notes[pri])\n",
    "tbl = tbl.fillna(' ')"
   ]
  },
  {
   "cell_type": "code",
   "execution_count": 40,
   "metadata": {},
   "outputs": [],
   "source": [
    "tbl.to_csv('resources/201012_s1_pri-info.csv')"
   ]
  },
  {
   "cell_type": "code",
   "execution_count": 41,
   "metadata": {},
   "outputs": [],
   "source": [
    "out = open('supplementary/201012_s1_pri-info.csv', 'wt')\n",
    "description = 'Supplementary Table 1. Pri-miRNA information\\n\\n\\n\\n\\n'\n",
    "out.write(description)\n",
    "for l in open('resources/201012_s1_pri-info.csv', 'rt'):\n",
    "    out.write(l)\n",
    "out.close()"
   ]
  },
  {
   "cell_type": "code",
   "execution_count": null,
   "metadata": {},
   "outputs": [],
   "source": []
  }
 ],
 "metadata": {
  "kernelspec": {
   "display_name": "Python 2",
   "language": "python",
   "name": "python2"
  },
  "language_info": {
   "codemirror_mode": {
    "name": "ipython",
    "version": 2
   },
   "file_extension": ".py",
   "mimetype": "text/x-python",
   "name": "python",
   "nbconvert_exporter": "python",
   "pygments_lexer": "ipython2",
   "version": "2.7.18"
  }
 },
 "nbformat": 4,
 "nbformat_minor": 2
}
