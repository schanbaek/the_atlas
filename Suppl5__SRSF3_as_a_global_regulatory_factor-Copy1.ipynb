{
 "cells": [
  {
   "cell_type": "markdown",
   "metadata": {},
   "source": [
    "# Supplementary Figure 5. SRSF3 is a global regulatory factor\n",
    "A. Cleavage pattern changes   \n",
    "C. Composition of clusters  \n",
    "D. Cluster V  \n",
    "E. Classification changes in detail  \n",
    "F. CNNC and SRSF3-mediated change  \n",
    "G. Secondary structure of SRSF3-rescued miRNAs"
   ]
  },
  {
   "cell_type": "code",
   "execution_count": 1,
   "metadata": {},
   "outputs": [
    {
     "name": "stdout",
     "output_type": "stream",
     "text": [
      "Last revised by Seungchan Baek at 2020-10-13.\n"
     ]
    }
   ],
   "source": [
    "import time\n",
    "today = time.strftime('%Y-%m-%d')\n",
    "name = 'Seungchan Baek'\n",
    "print 'Last revised by %s at %s.' % (name, today)"
   ]
  },
  {
   "cell_type": "code",
   "execution_count": 2,
   "metadata": {},
   "outputs": [
    {
     "name": "stdout",
     "output_type": "stream",
     "text": [
      "/casa/bsc/projects/1_DCS/2004_paper_prep\n"
     ]
    }
   ],
   "source": [
    "home = '/casa/bsc/projects/1_DCS/2004_paper_prep/'\n",
    "utilpath = '/casa/bsc/notebooks/'\n",
    "%cd $home"
   ]
  },
  {
   "cell_type": "code",
   "execution_count": 3,
   "metadata": {},
   "outputs": [
    {
     "name": "stdout",
     "output_type": "stream",
     "text": [
      "resultpath: results/201013/\n"
     ]
    }
   ],
   "source": [
    "from __future__ import division\n",
    "import sys; sys.path.append(utilpath)\n",
    "from util import *\n",
    "from basic import gen_result_dir\n",
    "resultpath = gen_result_dir('results/')\n",
    "print 'resultpath:', resultpath"
   ]
  },
  {
   "cell_type": "code",
   "execution_count": 4,
   "metadata": {},
   "outputs": [],
   "source": [
    "import pandas as pd\n",
    "import numpy as np\n",
    "import re\n",
    "from matplotlib import pyplot as plt\n",
    "from matplotlib import lines, gridspec\n",
    "from collections import defaultdict, Counter\n",
    "%matplotlib inline"
   ]
  },
  {
   "cell_type": "code",
   "execution_count": 5,
   "metadata": {},
   "outputs": [],
   "source": [
    "LIBRARIES = [ 'set1', 'set2', 'set3', 'set4', 'set5' ]"
   ]
  },
  {
   "cell_type": "markdown",
   "metadata": {},
   "source": [
    "#### Import supplementary tables"
   ]
  },
  {
   "cell_type": "code",
   "execution_count": 6,
   "metadata": {},
   "outputs": [
    {
     "name": "stdout",
     "output_type": "stream",
     "text": [
      "s1:\t5p mature, 5p sequence, 3p mature, 3p sequence, Note\n",
      "s2:\tChr, Start, End, Strand, Construct sequence, 100way phyloP scores (pre-miRNA -/+ 100nt)\n",
      "s5:\t117, 118, 119, 120, 121, 122, 123, 124, 125, symbolized structure\n",
      "s6:\tRelative position from miRBase site, Cleavage Specificity, Cleavage Imbalance, Cleavage type\n",
      "s7:\tChr, miRBase 5' site, miRBase 3' site, IVP 5' site, IVP 3' site, fCLIP 5' site, fCLIP 3' site, Strand, Type, IVP PCS, fCLIP PCS\n",
      "s8:\tChr, 5' cleavage site, 3' cleavage site, Strand, Cleavage type, CP_wo_SRSF3, CP_w_SRSF3, CS_wo_SRSF3, CS_w_SRSF3, Productive_wo_SRSF3, Productive_w_SRSF3, Alternative_wo_SRSF3, Alternative_w_SRSF3, Nick_wo_SRSF3, Nick_w_SRSF3, Inverted_wo_SRSF3, Inverted_w_SRSF3\n"
     ]
    }
   ],
   "source": [
    "s1 = pd.read_csv('supplementary/201012_s1_pri-info.csv', header=1, index_col=0)\n",
    "s2 = pd.read_csv('supplementary/201012_s2_pri-construct.csv', header=1, index_col=0)\n",
    "s5 = pd.read_csv('supplementary/201012_s5_pri-structure.csv', header=1, index_col=0)\n",
    "s6 = pd.read_csv('supplementary/201012_s6_cleavage-patterns.csv', header=1, index_col=0)\n",
    "s7 = pd.read_csv('supplementary/201012_s7_cleavage-sites.csv', header=1, index_col=0)\n",
    "s8 = pd.read_csv('supplementary/201012_s8_cleavage-patterns-srsf3.csv', header=1, index_col=0)\n",
    "print 's1:\\t%s'%', '.join(list(s1.columns))\n",
    "print 's2:\\t%s'%', '.join(list(s2.columns)[:6])\n",
    "print 's5:\\t%s'%', '.join(list(s5.columns)[-10:])\n",
    "print 's6:\\t%s'%', '.join(list(s6.columns)[-4:])\n",
    "print 's7:\\t%s'%', '.join(list(s7.columns))\n",
    "print 's8:\\t%s'%', '.join(list(s8.columns))"
   ]
  },
  {
   "cell_type": "code",
   "execution_count": 7,
   "metadata": {},
   "outputs": [],
   "source": [
    "def get_pre_position(pri):\n",
    "    constructseq = s2.loc[pri, 'Construct sequence'].replace('T','U')\n",
    "    seq5p = s1.loc[pri, '5p sequence']\n",
    "    seq3p = s1.loc[pri, '3p sequence']\n",
    "    if seq5p=='n.a.' or constructseq.find(seq5p)==-1:\n",
    "        prestart = 0\n",
    "    else:\n",
    "        prestart = constructseq.find(seq5p)+1\n",
    "    if seq3p=='n.a.' or constructseq.find(seq3p)==-1:\n",
    "        preend = 125\n",
    "    else:\n",
    "        preend = constructseq.rfind(seq3p)+len(seq3p)\n",
    "    return prestart, preend"
   ]
  },
  {
   "cell_type": "code",
   "execution_count": 8,
   "metadata": {},
   "outputs": [
    {
     "name": "stdout",
     "output_type": "stream",
     "text": [
      "1881\n"
     ]
    }
   ],
   "source": [
    "allpris = s1.index\n",
    "preposition = { pri:get_pre_position(pri) for pri in allpris }\n",
    "print len(preposition)"
   ]
  },
  {
   "cell_type": "code",
   "execution_count": 9,
   "metadata": {},
   "outputs": [
    {
     "name": "stdout",
     "output_type": "stream",
     "text": [
      "239 11 157 281 519\n"
     ]
    }
   ],
   "source": [
    "mirtrons = [ pri for pri in allpris if s1.loc[pri,'Note'].find('Mirtron')>=0 ]\n",
    "capped = [ pri for pri in allpris if s1.loc[pri,'Note'].find('Capped miRNA')>=0 ]\n",
    "drosensitive = [ pri for pri in allpris if s1.loc[pri,'Note'].find('DROSHA KO-sensitive')>=0 ]\n",
    "fclipdetected = [ pri for pri in allpris if s1.loc[pri,'Note'].find('fCLIP site-determined')>=0 ]\n",
    "dbmirs = [ pri for pri in allpris if s1.loc[pri,'Note'].find('MirGeneDB')>=0 ]\n",
    "print len(mirtrons), len(capped), len(drosensitive), len(fclipdetected), len(dbmirs)"
   ]
  },
  {
   "cell_type": "code",
   "execution_count": 10,
   "metadata": {},
   "outputs": [
    {
     "name": "stdout",
     "output_type": "stream",
     "text": [
      "1881\n"
     ]
    }
   ],
   "source": [
    "constseqs = dict(s2['Construct sequence'])\n",
    "print len(constseqs)"
   ]
  },
  {
   "cell_type": "code",
   "execution_count": 11,
   "metadata": {},
   "outputs": [
    {
     "name": "stdout",
     "output_type": "stream",
     "text": [
      "Productive: 512, Unproductive: 1304\n",
      "Single: 445, Multiple: 67, Inverted: 156, Nick: 107, Non-specific: 1041\n",
      "5' nick: 72, 3' nick: 35\n"
     ]
    }
   ],
   "source": [
    "singlemp = set(s6[s6['Cleavage type']=='single'].index)\n",
    "multimp = set(s6[s6['Cleavage type']=='multiple'].index)\n",
    "invertedmp = set(s6[s6['Cleavage type']=='inverted'].index)\n",
    "nick5mp = set(s6[s6['Cleavage type']=='nick5'].index)\n",
    "nick3mp = set(s6[s6['Cleavage type']=='nick3'].index)\n",
    "nickmp = list(nick5mp) + list(nick3mp)\n",
    "nonspecmp = set(s6[s6['Cleavage type']=='non-specific'].index)\n",
    "dcsmirsmp = list(singlemp) + list(multimp)\n",
    "nodcsmp = list(invertedmp) + list(nickmp) + list(nonspecmp)\n",
    "print 'Productive: %s, Unproductive: %s' % (len(dcsmirsmp), len(nodcsmp))\n",
    "print 'Single: %s, Multiple: %s, Inverted: %s, Nick: %s, Non-specific: %s'\\\n",
    "% (len(singlemp), len(multimp), len(invertedmp), len(nickmp), len(nonspecmp))\n",
    "print \"5' nick: %s, 3' nick: %s\" % (len(nick5mp), len(nick3mp))"
   ]
  },
  {
   "cell_type": "markdown",
   "metadata": {},
   "source": [
    "# A. Cleavage pattern changes"
   ]
  },
  {
   "cell_type": "code",
   "execution_count": 12,
   "metadata": {},
   "outputs": [],
   "source": [
    "attributes = ['Productive','Alternative','Nick','Inverted']"
   ]
  },
  {
   "cell_type": "code",
   "execution_count": 13,
   "metadata": {},
   "outputs": [
    {
     "data": {
      "text/html": [
       "<div>\n",
       "<style scoped>\n",
       "    .dataframe tbody tr th:only-of-type {\n",
       "        vertical-align: middle;\n",
       "    }\n",
       "\n",
       "    .dataframe tbody tr th {\n",
       "        vertical-align: top;\n",
       "    }\n",
       "\n",
       "    .dataframe thead th {\n",
       "        text-align: right;\n",
       "    }\n",
       "</style>\n",
       "<table border=\"1\" class=\"dataframe\">\n",
       "  <thead>\n",
       "    <tr style=\"text-align: right;\">\n",
       "      <th></th>\n",
       "      <th>Productive</th>\n",
       "      <th>Alternative</th>\n",
       "      <th>Nick</th>\n",
       "      <th>Inverted</th>\n",
       "    </tr>\n",
       "    <tr>\n",
       "      <th>Pri-miRNA</th>\n",
       "      <th></th>\n",
       "      <th></th>\n",
       "      <th></th>\n",
       "      <th></th>\n",
       "    </tr>\n",
       "  </thead>\n",
       "  <tbody>\n",
       "    <tr>\n",
       "      <th>hsa-let-7a-1</th>\n",
       "      <td>5.141934</td>\n",
       "      <td>-0.025331</td>\n",
       "      <td>0.041494</td>\n",
       "      <td>0.000691</td>\n",
       "    </tr>\n",
       "    <tr>\n",
       "      <th>hsa-let-7a-2</th>\n",
       "      <td>4.916338</td>\n",
       "      <td>0.037195</td>\n",
       "      <td>-0.159983</td>\n",
       "      <td>0.034052</td>\n",
       "    </tr>\n",
       "    <tr>\n",
       "      <th>hsa-let-7a-3</th>\n",
       "      <td>4.404454</td>\n",
       "      <td>0.004157</td>\n",
       "      <td>0.011206</td>\n",
       "      <td>-0.023819</td>\n",
       "    </tr>\n",
       "    <tr>\n",
       "      <th>hsa-let-7b</th>\n",
       "      <td>5.734622</td>\n",
       "      <td>-0.014259</td>\n",
       "      <td>-0.006870</td>\n",
       "      <td>-0.016782</td>\n",
       "    </tr>\n",
       "    <tr>\n",
       "      <th>hsa-let-7c</th>\n",
       "      <td>7.646225</td>\n",
       "      <td>0.029231</td>\n",
       "      <td>0.040335</td>\n",
       "      <td>-0.605388</td>\n",
       "    </tr>\n",
       "  </tbody>\n",
       "</table>\n",
       "</div>"
      ],
      "text/plain": [
       "              Productive  Alternative      Nick  Inverted\n",
       "Pri-miRNA                                                \n",
       "hsa-let-7a-1    5.141934    -0.025331  0.041494  0.000691\n",
       "hsa-let-7a-2    4.916338     0.037195 -0.159983  0.034052\n",
       "hsa-let-7a-3    4.404454     0.004157  0.011206 -0.023819\n",
       "hsa-let-7b      5.734622    -0.014259 -0.006870 -0.016782\n",
       "hsa-let-7c      7.646225     0.029231  0.040335 -0.605388"
      ]
     },
     "execution_count": 13,
     "metadata": {},
     "output_type": "execute_result"
    }
   ],
   "source": [
    "summtbl = s8.reindex(s8['Productive_wo_SRSF3'].dropna().index)\n",
    "difftbl = pd.DataFrame()\n",
    "for attri in attributes:\n",
    "    if attri=='Nick':\n",
    "        difftbl[attri] = np.log2((abs(summtbl['%s_w_SRSF3'%attri])+1)/\\\n",
    "                                 (abs(summtbl['%s_wo_SRSF3'%attri])+1))\n",
    "    else:\n",
    "        difftbl[attri] = np.log2((summtbl['%s_w_SRSF3'%attri]+1)/\\\n",
    "                                 (summtbl['%s_wo_SRSF3'%attri]+1))\n",
    "difftbl.head()"
   ]
  },
  {
   "cell_type": "code",
   "execution_count": 14,
   "metadata": {},
   "outputs": [],
   "source": [
    "bind = defaultdict(lambda: np.arange(-.62,.63,.04))\n",
    "bind['Productive'] = np.arange(-.75,8.86,.3)\n",
    "xsl, ysl = [], []\n",
    "for attri in attributes:\n",
    "    vs,ts = np.histogram(difftbl[attri], bins=bind[attri])\n",
    "    xsl.append((ts[1:]+ts[:-1])/2)\n",
    "    ysl.append(vs/vs.sum())\n",
    "labels = attributes"
   ]
  },
  {
   "cell_type": "code",
   "execution_count": 15,
   "metadata": {},
   "outputs": [],
   "source": [
    "def draw_sig(ax,xs,ys):\n",
    "    for x in xs:\n",
    "        ax.plot([x,x],[0,max(ys)*.15],color='k',lw=2)\n",
    "        ax.scatter([x],[max(ys)*.15],s=20,color='k',zorder=2)"
   ]
  },
  {
   "cell_type": "code",
   "execution_count": 16,
   "metadata": {},
   "outputs": [
    {
     "data": {
      "text/plain": [
       "Text(-0.1,0.5,u'Fraction')"
      ]
     },
     "execution_count": 16,
     "metadata": {},
     "output_type": "execute_result"
    },
    {
     "data": {
      "image/png": "[encoded data removed]",
      "text/plain": [
       "<matplotlib.figure.Figure at 0x7f33969f1290>"
      ]
     },
     "metadata": {},
     "output_type": "display_data"
    }
   ],
   "source": [
    "fig = plt.figure(figsize=(3.8,6.5))\n",
    "gs1 = gridspec.GridSpec(1,1); gs1.update(left=.04, right=.96, top=.98, bottom=.8)\n",
    "ax1 = fig.add_subplot(gs1[0])\n",
    "gs2 = gridspec.GridSpec(3,1); gs2.update(left=.04, right=.96, top=.7, bottom=.02,hspace=.35)\n",
    "ax2 = fig.add_subplot(gs2[0]); ax3 = fig.add_subplot(gs2[1]); ax4 = fig.add_subplot(gs2[2])\n",
    "axes = [ax1,ax2,ax3,ax4]\n",
    "for ax,xs,ys,label in zip(axes,xsl,ysl,labels):\n",
    "    ymax = max(ys)\n",
    "    xmin, xmax = min(xs), max(xs)\n",
    "    xlen = xmax-xmin\n",
    "    ax.text(min(xs),ymax*1.1,'%s processing'%label,fontsize=12)\n",
    "    ax.grid(ls='-',lw=.5,zorder=-1)\n",
    "    ax.spines['left'].set_bounds(0,ymax*1.02)\n",
    "    ax.set_xlim(xmin-.02*xlen,xmax+.01*xlen)\n",
    "    ax.set_ylim(ymax*-.03, ymax*1.02)\n",
    "    ax.step(xs,ys,color='black',where='mid',zorder=2)\n",
    "    ax.bar(xs,ys,color='#ababab',width=xs[1]-xs[0],alpha=.4,lw=0,zorder=2)\n",
    "    \n",
    "for ax in [ax2,ax3]:\n",
    "    ax.set_xticklabels([])\n",
    "\n",
    "let7d_alt = difftbl.loc['hsa-let-7d','Alternative']\n",
    "mir142_alt = difftbl.loc['hsa-mir-142','Alternative']\n",
    "mir17_nick = difftbl.loc['hsa-mir-17','Nick']\n",
    "draw_sig(ax2,[let7d_alt, mir142_alt],ysl[1])\n",
    "draw_sig(ax3,[mir17_nick],ysl[2])\n",
    "axes[1].text(let7d_alt,.1,'pri-let-7d',ha='center',fontsize=11)\n",
    "axes[1].text(mir142_alt,.1,'pri-mir-142',ha='center',fontsize=11)\n",
    "axes[2].text(mir17_nick,.06,'pri-mir-17',ha='center',fontsize=11)\n",
    "fig.text(.5,-.05,'log2 fold change', fontsize=12,ha='center')\n",
    "fig.text(-.1,.5,'Fraction',fontsize=12,va='center',rotation=90)\n",
    "#fig.savefig(resultpath + '200917_s5a__cleavage_pattern_change.pdf')#,dpi=300)"
   ]
  },
  {
   "cell_type": "markdown",
   "metadata": {},
   "source": [
    "# C. Composition of clusters"
   ]
  },
  {
   "cell_type": "code",
   "execution_count": 17,
   "metadata": {},
   "outputs": [],
   "source": [
    "from sklearn.cluster import AgglomerativeClustering"
   ]
  },
  {
   "cell_type": "code",
   "execution_count": 18,
   "metadata": {},
   "outputs": [
    {
     "name": "stdout",
     "output_type": "stream",
     "text": [
      "753\n"
     ]
    },
    {
     "data": {
      "text/html": [
       "<div>\n",
       "<style scoped>\n",
       "    .dataframe tbody tr th:only-of-type {\n",
       "        vertical-align: middle;\n",
       "    }\n",
       "\n",
       "    .dataframe tbody tr th {\n",
       "        vertical-align: top;\n",
       "    }\n",
       "\n",
       "    .dataframe thead th {\n",
       "        text-align: right;\n",
       "    }\n",
       "</style>\n",
       "<table border=\"1\" class=\"dataframe\">\n",
       "  <thead>\n",
       "    <tr style=\"text-align: right;\">\n",
       "      <th></th>\n",
       "      <th>Alternative</th>\n",
       "      <th>Nick</th>\n",
       "      <th>Inverted</th>\n",
       "    </tr>\n",
       "    <tr>\n",
       "      <th>Pri-miRNA</th>\n",
       "      <th></th>\n",
       "      <th></th>\n",
       "      <th></th>\n",
       "    </tr>\n",
       "  </thead>\n",
       "  <tbody>\n",
       "    <tr>\n",
       "      <th>hsa-let-7a-1</th>\n",
       "      <td>-0.050661</td>\n",
       "      <td>0.041494</td>\n",
       "      <td>0.000691</td>\n",
       "    </tr>\n",
       "  </tbody>\n",
       "</table>\n",
       "</div>"
      ],
      "text/plain": [
       "              Alternative      Nick  Inverted\n",
       "Pri-miRNA                                    \n",
       "hsa-let-7a-1    -0.050661  0.041494  0.000691"
      ]
     },
     "execution_count": 18,
     "metadata": {},
     "output_type": "execute_result"
    }
   ],
   "source": [
    "cpcut = 3\n",
    "diffcls = difftbl[difftbl['Productive']>cpcut].iloc[:,1:]\n",
    "diffcls['Alternative'] = diffcls['Alternative']*2\n",
    "print len(diffcls)\n",
    "diffcls.head(1)"
   ]
  },
  {
   "cell_type": "code",
   "execution_count": 19,
   "metadata": {},
   "outputs": [],
   "source": [
    "x = np.array(diffcls)\n",
    "ncls = 11\n",
    "result = AgglomerativeClustering(n_clusters=ncls,affinity='euclidean',linkage='ward').fit(x)"
   ]
  },
  {
   "cell_type": "code",
   "execution_count": 20,
   "metadata": {},
   "outputs": [],
   "source": [
    "clstd = dict(zip(diffcls.index, result.labels_))\n",
    "mls = { i:[m for m,c in clstd.items() if c==i] for i in range(ncls) }\n",
    "clsinp = difftbl.reindex(mls[0]).iloc[:,1:]\n",
    "for i in range(1,ncls):\n",
    "    clsinp = clsinp.append(difftbl.reindex(mls[i]).iloc[:,1:])"
   ]
  },
  {
   "cell_type": "code",
   "execution_count": 21,
   "metadata": {},
   "outputs": [],
   "source": [
    "subml1 = [ m for m in clstd if clstd[m]==1 ]\n",
    "subcluster = AgglomerativeClustering(n_clusters=2).fit(diffcls.reindex(subml1))\n",
    "subml1 = sorted(subml1, key=lambda x:-subcluster.labels_[subml1.index(x)])\n",
    "\n",
    "cls1 = [ m for m in clstd if clstd[m]==2 ]\n",
    "cls2 = [ m for m in clstd if clstd[m]==5 ]\n",
    "cls3 = [ m for m in clstd if clstd[m]==8 ]+[ m for m in clstd if clstd[m]==0 ]\n",
    "cls4 = subml1+[ m for m in clstd if clstd[m]==6 ]\n",
    "cls5 = [ m for m in clstd if clstd[m]==3 ]\n",
    "cls6 = [ m for m in clstd if clstd[m]==9 ]+[ m for m in clstd if clstd[m]==4 ]+\\\n",
    "       [ m for m in clstd if clstd[m]==10 ]+[ m for m in clstd if clstd[m]==7 ]"
   ]
  },
  {
   "cell_type": "code",
   "execution_count": 22,
   "metadata": {},
   "outputs": [],
   "source": [
    "clsl = [cls1,cls2,cls3,cls4,cls5,cls6]\n",
    "clsinp = difftbl.reindex(clsl[0]).iloc[:,1:]\n",
    "for ml in clsl[1:]:\n",
    "    clsinp = clsinp.append(difftbl.reindex(ml).iloc[:,1:])"
   ]
  },
  {
   "cell_type": "code",
   "execution_count": 23,
   "metadata": {},
   "outputs": [],
   "source": [
    "ctypes = ['Single','Alternative','Nick','Inverted','No']\n",
    "colors = '#1b9e77 #7570b3 #e7298a #d95f02 #ababab'.split()\n",
    "cls = [singlemp,multimp,nickmp,invertedmp,nonspecmp]\n",
    "xsl = [ [ len([m for m in ml if m in cl])/len(ml) for ml in clsl ] for cl in cls ]\n",
    "ys = range(len(clsl))"
   ]
  },
  {
   "cell_type": "code",
   "execution_count": 24,
   "metadata": {},
   "outputs": [
    {
     "data": {
      "text/plain": [
       "<matplotlib.legend.Legend at 0x7f3397264850>"
      ]
     },
     "execution_count": 24,
     "metadata": {},
     "output_type": "execute_result"
    },
    {
     "data": {
      "image/png": "[encoded data removed]",
      "text/plain": [
       "<matplotlib.figure.Figure at 0x7f3397119c90>"
      ]
     },
     "metadata": {},
     "output_type": "display_data"
    }
   ],
   "source": [
    "fig, ax = plt.subplots(1,1,figsize=(4,2.5))\n",
    "left = np.array([0.]*len(clsl))\n",
    "for xs,c,label in zip(xsl,colors,ctypes):\n",
    "    ax.barh(ys,xs,left=left,color=c,lw=1,edgecolor='w',alpha=.8,height=.85,zorder=2)\n",
    "    ax.barh([-1],[-1],color=c,alpha=.9,label=label)\n",
    "    left+=np.array(xs)\n",
    "ax.set_yticks(ys)\n",
    "ax.set_yticklabels(['I','II','III','IV','V','VI','VII'], fontsize=12, ha='center')\n",
    "ax.set_xlabel('Fraction', fontsize=12)\n",
    "ax.set_xlim(0,1)\n",
    "ax.set_ylim(-.6,5.6)\n",
    "ax.tick_params(left='off')\n",
    "ax.xaxis.grid(ls='-',lw=.5)\n",
    "ax.invert_yaxis()\n",
    "ax.spines['left'].set_visible(False)\n",
    "ax.legend(loc=(-.15,1.02), ncol=5, handlelength=1, prop={'size':11}, \n",
    "          handletextpad=.4, columnspacing=1)\n",
    "#fig.savefig(resultpath + '200917_s5b_cluster_composition.pdf')#,dpi=300)"
   ]
  },
  {
   "cell_type": "markdown",
   "metadata": {},
   "source": [
    "# D. Cluster V"
   ]
  },
  {
   "cell_type": "code",
   "execution_count": 25,
   "metadata": {},
   "outputs": [],
   "source": [
    "mp = [ s8.loc[m,'Nick_wo_SRSF3'] for m in cls5 ]\n",
    "srsf3 = [ s8.loc[m,'Nick_w_SRSF3'] for m in cls5 ]\n",
    "bins = np.arange(-1.02,1.03,.04)\n",
    "ysl = [np.histogram(vs,bins=bins)[0].cumsum()/np.histogram(vs,bins=bins)[0].sum() \n",
    "       for vs in [mp,srsf3]]\n",
    "xs = np.arange(-1,1.01,.02)"
   ]
  },
  {
   "cell_type": "code",
   "execution_count": 26,
   "metadata": {
    "scrolled": true
   },
   "outputs": [
    {
     "data": {
      "text/plain": [
       "Text(0.5,-0.45,u'Cluster V\\n(n = 82)')"
      ]
     },
     "execution_count": 26,
     "metadata": {},
     "output_type": "execute_result"
    },
    {
     "data": {
      "image/png": "[encoded data removed]",
      "text/plain": [
       "<matplotlib.figure.Figure at 0x7f339711fed0>"
      ]
     },
     "metadata": {},
     "output_type": "display_data"
    }
   ],
   "source": [
    "fig, ax = plt.subplots(1,1,figsize=(3,3))\n",
    "ax.scatter(mp, srsf3,s=20,edgecolor='k',facecolor='#969696', alpha=.8, lw=1, zorder=2)\n",
    "ax.set_title('5$^\\prime$ cleavage - 3$^\\prime$ cleavage', fontsize=12)\n",
    "ax.set_xlabel('Microprocessor', fontsize=12)\n",
    "ax.set_ylabel('Microprocessor + SRSF3', fontsize=12)\n",
    "ax.set_xlim(-.5,.5)\n",
    "ax.set_ylim(-.5,.5)\n",
    "ax.plot([-1,1],[-1,1],'k--',lw=.5)\n",
    "ax.grid(ls='-',lw=.5)\n",
    "\n",
    "ax.arrow(-.1,-.08,-.04,.04,width=.01,length_includes_head=True,head_length=.02,head_width=.03,\n",
    "        color='black')\n",
    "ax.arrow(.1,.08,.04,-.04,width=.01,length_includes_head=True,head_length=.02,head_width=.03,\n",
    "        color='black')\n",
    "ax.text(-.28,-.02,'More RIIIDb\\ncleavage',ha='center')\n",
    "ax.text(.3,.02,'More RIIIDa\\ncleavage',ha='center',va='top')\n",
    "ax.text(.5,-.45,'Cluster V\\n(n = %s)'%len(cls5),ha='right',linespacing=.9)\n",
    "#fig.savefig(resultpath + '200918_s5c_clusterV.png',dpi=300)"
   ]
  },
  {
   "cell_type": "markdown",
   "metadata": {},
   "source": [
    "# E. Classification changes in detail"
   ]
  },
  {
   "cell_type": "code",
   "execution_count": 27,
   "metadata": {},
   "outputs": [
    {
     "name": "stdout",
     "output_type": "stream",
     "text": [
      "Productive: 681, Unproductive: 1064\n",
      "Single: 589, Multiple: 92, Inverted: 102, Nick: 52, Non-specific: 910\n",
      "5' nick: 26, 3' nick: 26\n"
     ]
    }
   ],
   "source": [
    "single = set(s8[s8['Cleavage type']=='single'].index)\n",
    "multi = set(s8[s8['Cleavage type']=='multiple'].index)\n",
    "inverted = set(s8[s8['Cleavage type']=='inverted'].index)\n",
    "nick5 = set(s8[s8['Cleavage type']=='nick5'].index)\n",
    "nick3 = set(s8[s8['Cleavage type']=='nick3'].index)\n",
    "nick = list(nick5) + list(nick3)\n",
    "nonspec = set(s8[s8['Cleavage type']=='non-specific'].index)\n",
    "dcsmirs = list(single) + list(multi)\n",
    "nodcs = list(inverted) + list(nick) + list(nonspec)\n",
    "print 'Productive: %s, Unproductive: %s' % (len(dcsmirs), len(nodcs))\n",
    "print 'Single: %s, Multiple: %s, Inverted: %s, Nick: %s, Non-specific: %s'\\\n",
    "% (len(single), len(multi), len(inverted), len(nick), len(nonspec))\n",
    "print \"5' nick: %s, 3' nick: %s\" % (len(nick5), len(nick3))"
   ]
  },
  {
   "cell_type": "code",
   "execution_count": 28,
   "metadata": {},
   "outputs": [
    {
     "name": "stdout",
     "output_type": "stream",
     "text": [
      "[381, 32, 24, 33, 37, 37, 137, 14, 66, 798, 152, 34] 1745\n"
     ]
    }
   ],
   "source": [
    "stos = set(singlemp)&set(single)\n",
    "stoa = set(singlemp)&set(multi)\n",
    "atos = set(multimp)&set(single)\n",
    "atoa = set(multimp)&set(multi)\n",
    "\n",
    "itop = set(invertedmp)&set(dcsmirs)\n",
    "ntop = set(nickmp)&set(dcsmirs)\n",
    "notop = set(nonspecmp)&set(dcsmirs)\n",
    "\n",
    "nton = set(nickmp)&set(nick)\n",
    "itoi = set(invertedmp)&set(inverted)\n",
    "notono = set(nonspecmp)&set(nonspec)\n",
    "nptonp = itoi|nton|notono\n",
    "nptonp = (set(nodcsmp)&set(nodcs))-nptonp\n",
    "\n",
    "stonp = set(singlemp)&set(nodcs)\n",
    "atonp = set(multimp)&set(nodcs)\n",
    "ptonp = set(dcsmirsmp)&set(nodcs)\n",
    "\n",
    "ptops = [stos,atoa,stoa,atos]\n",
    "nptops = [itop,ntop,notop]\n",
    "nptonps = [nton,itoi,notono,nptonp]\n",
    "ptonps = [ptonp]# [stonp,atonp]\n",
    "print map(len,ptops+nptops+nptonps+ptonps), sum(map(len,ptops+nptops+nptonps+ptonps))"
   ]
  },
  {
   "cell_type": "code",
   "execution_count": 29,
   "metadata": {},
   "outputs": [],
   "source": [
    "xs = map(len,ptops+nptops+nptonps)#+ptonps)\n",
    "ys = [0,1,2,3,4.5,5.5,6.5,8,9,10,11]#,12.5]\n",
    "mplabel = ['single','alternative','single','alternative','inverted','nick','no',\n",
    "           'nick','inverted','no','non-productive','productive']\n",
    "srlabel = ['single','alternative','alternative','single','productive','productive','productive',\n",
    "           'nick','inverted','no','non-productive','non-productive']\n",
    "labels = ['single','alternative','nick','inverted','no']"
   ]
  },
  {
   "cell_type": "code",
   "execution_count": 30,
   "metadata": {},
   "outputs": [],
   "source": [
    "labeld = {l:[l] for l in labels}\n",
    "labeld['productive'] = ['single','alternative']\n",
    "labeld['non-productive'] = ['inverted','nick','no']\n",
    "colors = ['#e6550d','#424242','#732a06']\n",
    "ctlabels = ['with Microprocessor only','with Microprocessor+SRSF3','unchanged']"
   ]
  },
  {
   "cell_type": "code",
   "execution_count": 31,
   "metadata": {},
   "outputs": [
    {
     "data": {
      "image/png": "[encoded data removed]",
      "text/plain": [
       "<matplotlib.figure.Figure at 0x7f33ee871510>"
      ]
     },
     "metadata": {},
     "output_type": "display_data"
    }
   ],
   "source": [
    "fig = plt.figure(figsize=(3.5,3.8))\n",
    "gs = gridspec.GridSpec(1, 2, width_ratios=(2,3))\n",
    "ax1 = fig.add_subplot(gs[0])\n",
    "ax2 = fig.add_subplot(gs[1])\n",
    "for label, i in zip(labels,range(5)):\n",
    "    cs = []\n",
    "    for j in range(len(ys)):\n",
    "        if label in labeld[mplabel[j]] and label in labeld[srlabel[j]]: cs.append('#732a06')\n",
    "        elif label in labeld[mplabel[j]]: cs.append('#424242')\n",
    "        elif label in labeld[srlabel[j]]: cs.append('#e6550d')\n",
    "        else: cs.append('#dcdcdc')\n",
    "    ax1.scatter([i]*len(ys),ys,s=180,color=cs,alpha=.8,lw=1,zorder=2)\n",
    "for ctlabel, color in zip(ctlabels,colors):\n",
    "    ax1.scatter([-5],[-5],s=80,color=color,alpha=.8,label='Cleavage type %s'%ctlabel)\n",
    "ax1.legend(loc=(-.2,1.03),handletextpad=.3)\n",
    "\n",
    "ax1.set_xlim(-.5,4.5); ax1.set_xticks([])\n",
    "ax1.set_ylim(-.5,11.5); ax1.set_yticks([])\n",
    "ax1.spines['left'].set_visible(False); ax1.spines['bottom'].set_visible(False)\n",
    "ax1.invert_yaxis()\n",
    "ax1.text(-1.5,1.5,'P-to-P',va='center',ha='center',rotation=90,fontsize=11)\n",
    "ax1.text(-1.5,5.5,'NP-to-P',va='center',ha='center',rotation=90,fontsize=11)\n",
    "ax1.text(-1.5,9.5,'NP-to-NP',va='center',ha='center',rotation=90,fontsize=11)\n",
    "\n",
    "for i,label in zip(range(5),labels):\n",
    "    ax1.text(i+.3,12,label,rotation=50,ha='right',fontsize=11)\n",
    "    \n",
    "ax2.barh(ys,xs,color='#ababab',height=.7, lw=0, edgecolor='k', zorder=2)\n",
    "ax2.plot([210,220],[.5,-.5],lw=2,color='w',zorder=3)\n",
    "ax2.plot([210,220],[10.5,9.5],lw=2,color='w',zorder=3)\n",
    "ax2.text(260,0,'381',va='center')\n",
    "ax2.text(260,10,'798',va='center')\n",
    "ax2.set_xticks([50,150,250],minor=True)\n",
    "ax2.set_yticks([])\n",
    "ax2.set_xlim(0,255)\n",
    "ax2.set_ylim(-.5,11.5)\n",
    "ax2.invert_yaxis()\n",
    "ax2.xaxis.grid(ls='-',lw=.5,which='both')\n",
    "\n",
    "fig.subplots_adjust(wspace=.05)\n",
    "#fig.savefig(resultpath+'200923_s5d_cleavage_type_change.pdf')#,dpi=300)"
   ]
  },
  {
   "cell_type": "code",
   "execution_count": 32,
   "metadata": {},
   "outputs": [
    {
     "data": {
      "text/html": [
       "<div>\n",
       "<style scoped>\n",
       "    .dataframe tbody tr th:only-of-type {\n",
       "        vertical-align: middle;\n",
       "    }\n",
       "\n",
       "    .dataframe tbody tr th {\n",
       "        vertical-align: top;\n",
       "    }\n",
       "\n",
       "    .dataframe thead th {\n",
       "        text-align: right;\n",
       "    }\n",
       "</style>\n",
       "<table border=\"1\" class=\"dataframe\">\n",
       "  <thead>\n",
       "    <tr style=\"text-align: right;\">\n",
       "      <th></th>\n",
       "      <th>single</th>\n",
       "      <th>alternative</th>\n",
       "      <th>nick</th>\n",
       "      <th>inverted</th>\n",
       "      <th>no</th>\n",
       "    </tr>\n",
       "  </thead>\n",
       "  <tbody>\n",
       "    <tr>\n",
       "      <th>single</th>\n",
       "      <td>381</td>\n",
       "      <td>24</td>\n",
       "      <td>7</td>\n",
       "      <td>1</td>\n",
       "      <td>24</td>\n",
       "    </tr>\n",
       "    <tr>\n",
       "      <th>alternative</th>\n",
       "      <td>33</td>\n",
       "      <td>32</td>\n",
       "      <td>1</td>\n",
       "      <td>0</td>\n",
       "      <td>1</td>\n",
       "    </tr>\n",
       "    <tr>\n",
       "      <th>nick</th>\n",
       "      <td>31</td>\n",
       "      <td>6</td>\n",
       "      <td>14</td>\n",
       "      <td>4</td>\n",
       "      <td>49</td>\n",
       "    </tr>\n",
       "    <tr>\n",
       "      <th>inverted</th>\n",
       "      <td>33</td>\n",
       "      <td>4</td>\n",
       "      <td>6</td>\n",
       "      <td>66</td>\n",
       "      <td>38</td>\n",
       "    </tr>\n",
       "    <tr>\n",
       "      <th>no</th>\n",
       "      <td>111</td>\n",
       "      <td>26</td>\n",
       "      <td>24</td>\n",
       "      <td>31</td>\n",
       "      <td>798</td>\n",
       "    </tr>\n",
       "  </tbody>\n",
       "</table>\n",
       "</div>"
      ],
      "text/plain": [
       "             single  alternative  nick  inverted   no\n",
       "single          381           24     7         1   24\n",
       "alternative      33           32     1         0    1\n",
       "nick             31            6    14         4   49\n",
       "inverted         33            4     6        66   38\n",
       "no              111           26    24        31  798"
      ]
     },
     "execution_count": 32,
     "metadata": {},
     "output_type": "execute_result"
    }
   ],
   "source": [
    "ctypetbl = pd.DataFrame()\n",
    "for l1, ml1 in zip(labels,[singlemp,multimp,nickmp,invertedmp,nonspecmp]):\n",
    "    for l2, ml2 in zip(labels,[single,multi,nick,inverted,nonspec]):\n",
    "        ctypetbl.loc[l1,l2] = len(set(ml1)&set(ml2))\n",
    "ctypetbl.astype(int)#.to_csv(resultpath + '200924_cleavage_type_change.csv')"
   ]
  },
  {
   "cell_type": "markdown",
   "metadata": {},
   "source": [
    "# F. CNNC and SRSF3-mediated change"
   ]
  },
  {
   "cell_type": "code",
   "execution_count": 33,
   "metadata": {},
   "outputs": [],
   "source": [
    "def clv_to_relative_pos(mir, c5, c3):\n",
    "    ps, pe, strand = s2.loc[mir, ['Start','End','Strand']]\n",
    "    if strand=='+':\n",
    "        return c5-ps+1, c3-ps+1\n",
    "    return pe-c5+1, pe-c3+1"
   ]
  },
  {
   "cell_type": "code",
   "execution_count": 37,
   "metadata": {},
   "outputs": [],
   "source": [
    "def has_cnnc(mir):\n",
    "    pres, pree = s8.loc[mir,[\"5' cleavage site\",\"3' cleavage site\"]].astype(float)\n",
    "    rels, rele = clv_to_relative_pos(mir, int(pres), int(pree))\n",
    "    f3seq = constseqs[mir][rele:]\n",
    "    return bool(re.search('C[A-Z][A-Z]C', f3seq[15:min(len(f3seq),21)]))"
   ]
  },
  {
   "cell_type": "code",
   "execution_count": 35,
   "metadata": {
    "scrolled": true
   },
   "outputs": [
    {
     "name": "stdout",
     "output_type": "stream",
     "text": [
      "211\n"
     ]
    }
   ],
   "source": [
    "nptop = itop|ntop|notop\n",
    "print len(nptop)"
   ]
  },
  {
   "cell_type": "code",
   "execution_count": 38,
   "metadata": {},
   "outputs": [
    {
     "name": "stdout",
     "output_type": "stream",
     "text": [
      "[116, 95]\n"
     ]
    }
   ],
   "source": [
    "ntpcnnc = [ m for m in nptop if has_cnnc(m) ]\n",
    "ntpnocn = [ m for m in nptop if m not in ntpcnnc ]\n",
    "data = [ len(ntpcnnc), len(ntpnocn) ]\n",
    "frac = [ data[0]/len(nptop)*100, data[1]/len(nptop)*100 ]\n",
    "colors = [ '#1b9e77', '#757575']\n",
    "labels = ['w/ CNNC', 'w/o CNNC']\n",
    "title = '211 miRNAs that become productive by SRSF3'\n",
    "print data"
   ]
  },
  {
   "cell_type": "code",
   "execution_count": 39,
   "metadata": {},
   "outputs": [
    {
     "data": {
      "text/plain": [
       "Text(-1.1,1.2,u'211 miRNAs that become productive by SRSF3')"
      ]
     },
     "execution_count": 39,
     "metadata": {},
     "output_type": "execute_result"
    },
    {
     "data": {
      "image/png": "[encoded data removed]",
      "text/plain": [
       "<matplotlib.figure.Figure at 0x7f3380478bd0>"
      ]
     },
     "metadata": {},
     "output_type": "display_data"
    }
   ],
   "source": [
    "fig, ax = plt.subplots(1, 1, figsize=(2.5,2.5))\n",
    "\n",
    "ps, ts = ax.pie(data, colors=colors, explode=[.02]*2, startangle=-10, textprops={'fontsize':12})\n",
    "for p in ps:\n",
    "    p.set_linewidth(1.3)\n",
    "    p.set_edgecolor('white')\n",
    "\n",
    "ax.text(0,.35,'w/ CNNC',fontsize=13,weight='bold',ha='center',color='w')\n",
    "ax.text(.02,-.55,'w/o CNNC',fontsize=13,weight='bold',ha='center',color='w')\n",
    "ax.annotate('\\n%s (%.0f%%)'%(data[0],frac[0]), xy=(.7,.45), xytext=(1.1,.5), fontsize=12,\n",
    "           arrowprops={'arrowstyle':'-','lw':1.3},va='bottom')\n",
    "ax.annotate('%s (%.0f%%)\\n'%(data[1],frac[1]), xy=(.7,-.4), xytext=(1.1,-.55), fontsize=12,\n",
    "           arrowprops={'arrowstyle':'-','lw':1.3},va='top')\n",
    "ax.text(-1.1,1.2,title,fontsize=12)\n",
    "#fig.savefig(resultpath + '200923_s5f_nptop_cnnc_v2.png',dpi=300)"
   ]
  },
  {
   "cell_type": "markdown",
   "metadata": {},
   "source": [
    "# S5G. Secondary structure of SRSF3-rescued miRNAs"
   ]
  },
  {
   "cell_type": "code",
   "execution_count": 40,
   "metadata": {},
   "outputs": [],
   "source": [
    "def get_str_info(mir):\n",
    "    ctinfo = [ (int(i),pair) for i,pair in s5.iloc[:,:125].loc[mir].items() ]\n",
    "    return ctinfo"
   ]
  },
  {
   "cell_type": "code",
   "execution_count": 41,
   "metadata": {},
   "outputs": [],
   "source": [
    "def adjust_ct(strinfo, ajs, aje):\n",
    "    newinfo = [ 1 if i<=ajs<pair or 0<pair<=ajs<i else 0 for i,pair in strinfo ] \n",
    "    return zip(range(1,126), newinfo)"
   ]
  },
  {
   "cell_type": "code",
   "execution_count": 42,
   "metadata": {},
   "outputs": [
    {
     "name": "stdout",
     "output_type": "stream",
     "text": [
      "470 211 1030\n"
     ]
    }
   ],
   "source": [
    "ptop = set(dcsmirsmp)&set(dcsmirs)\n",
    "nptop = set(nodcsmp)&set(dcsmirs)\n",
    "nptonp = set(nodcsmp)&set(nodcs)\n",
    "print len(ptop), len(nptop), len(nptonp)"
   ]
  },
  {
   "cell_type": "code",
   "execution_count": 43,
   "metadata": {},
   "outputs": [
    {
     "name": "stdout",
     "output_type": "stream",
     "text": [
      "681\n"
     ]
    }
   ],
   "source": [
    "minss = 1\n",
    "optiaj = 22\n",
    "apicaljcs = {}\n",
    "for mir in ptop|nptop:\n",
    "    ps, pe = preposition[mir]\n",
    "    constseq = constseqs[mir]\n",
    "    strinfo = get_str_info(mir)\n",
    "    usteml, ajpos = find_apical_junction(mir, minss, ps, pe, constseq, strinfo, optiaj)\n",
    "    if usteml:\n",
    "        apicaljcs[mir] = ajpos\n",
    "print len(apicaljcs)\n",
    "strtmirs = sorted(apicaljcs.keys())"
   ]
  },
  {
   "cell_type": "code",
   "execution_count": 44,
   "metadata": {},
   "outputs": [],
   "source": [
    "bpfreq5 = pd.DataFrame(index=strtmirs, columns=range(-125,126))\n",
    "for mir in strtmirs:\n",
    "    ajst, ajen = apicaljcs[mir]\n",
    "    strinfo = adjust_ct(get_str_info(mir), ajst, ajen)\n",
    "    pres, pree = s8.loc[mir,[\"5' cleavage site\",\"3' cleavage site\"]].astype(float)\n",
    "    rels, rele = clv_to_relative_pos(mir, int(pres), int(pree))\n",
    "    bpfreq5.loc[mir] = pd.Series({i-rels:p for i,p in strinfo})\n",
    "bpfreq5 = bpfreq5[bpfreq5.fillna(0).sum(axis=1)>0]"
   ]
  },
  {
   "cell_type": "code",
   "execution_count": 45,
   "metadata": {},
   "outputs": [],
   "source": [
    "def list_basal_jcs(infos, minss, lastunp, init=1): # [ (1, 124), (2, 123), ... ]\n",
    "    jcpos, dist = [], init\n",
    "    for uppair, lowpair in zip(infos[:-1], infos[1:]):\n",
    "        jcsize = abs(uppair[0]-lowpair[0])+abs(lowpair[1]-uppair[1])-2\n",
    "        if jcsize>=minss:\n",
    "            jcpos.append((dist,uppair,jcsize))\n",
    "        dist += calculate_dist(uppair, lowpair)\n",
    "    jcpos.append((dist,infos[-1],lastunp))\n",
    "    return jcpos"
   ]
  },
  {
   "cell_type": "code",
   "execution_count": 48,
   "metadata": {},
   "outputs": [],
   "source": [
    "bjposes = {}\n",
    "for mir in strtmirs:\n",
    "    pres, pree = s8.loc[mir,[\"5' cleavage site\",\"3' cleavage site\"]].astype(float)\n",
    "    cs, ce = clv_to_relative_pos(mir, int(pres), int(pree))\n",
    "    lsinfo = [ (s,e) for s,e in get_str_info(mir) if s<cs<e ][::-1]\n",
    "    ls1st5, ls1st3 = lsinfo[0]\n",
    "    us1st3 = [ (s,e) for s,e in get_str_info(mir) if cs<=s<e ][0][1]\n",
    "    init = min(cs-ls1st5, ls1st3-us1st3)\n",
    "    bjs = list_basal_jcs(lsinfo, minss, 3.5, init) \n",
    "    if bjs:\n",
    "        bjposes[mir] = min(bjs[::-1], key=lambda x:abs(x[0]-13))[1][0]-cs\n",
    "    else:\n",
    "        bjposes[mir] = 0\n",
    "        print mir"
   ]
  },
  {
   "cell_type": "code",
   "execution_count": 49,
   "metadata": {},
   "outputs": [],
   "source": [
    "xmin, xmax = -18, 21\n",
    "xpos = np.arange(xmin, xmax+1)\n",
    "mls =  [ nptop, ptop ]\n",
    "labels = [ 'NP-to-P', 'P-to-P' ]\n",
    "ysl1 = [ bpfreq5.loc[ml,xpos].mean()*100 for ml in mls ]\n",
    "ysl2 = [ [len([m for m in ml if bjposes[m]==x])/len(ml)*100 for x in xpos] for ml in mls ]\n",
    "cs = '#de2d26 #424242'.split()\n",
    "zs = [2,2]"
   ]
  },
  {
   "cell_type": "code",
   "execution_count": 50,
   "metadata": {},
   "outputs": [
    {
     "data": {
      "image/png": "[encoded data removed]",
      "text/plain": [
       "<matplotlib.figure.Figure at 0x7f3380262c90>"
      ]
     },
     "metadata": {},
     "output_type": "display_data"
    }
   ],
   "source": [
    "fig, (ax1,ax2) = plt.subplots(2,1,figsize=(6,3.5))\n",
    "\n",
    "for ys1,ys2,c,z,label,ml in zip(ysl1,ysl2,cs,zs,labels,mls):\n",
    "    ax1.errorbar(xpos, ys1, color=c, zorder=z, marker='o', ms=2.5,\n",
    "                 label='%s (%s)'%(label,len(ml)))\n",
    "    ax2.step(xpos, ys2, color=c, zorder=z, where='mid') \n",
    "    \n",
    "for ax in [ax1,ax2]:\n",
    "    ax.set_xlim(xmin-.5, xmax+.5)\n",
    "    ax.set_xticks(range(-15,1,5)+range(4,20,5))\n",
    "    ax.tick_params(width=1.3, which='both')\n",
    "    ax.grid(ls='-', which='both')\n",
    "    \n",
    "ax1.set_xticklabels([-15,-10,-5,'+1','+5','+10','+15','+20']); ax2.set_xticklabels([])\n",
    "ax1.set_ylabel('Base-pair\\nprobability (%)', fontsize=11)\n",
    "ax1.xaxis.tick_top(); ax1.xaxis.set_label_position('top')\n",
    "ax1.set_ylim(35,97)\n",
    "ax1.spines['top'].set_visible(True); ax1.spines['bottom'].set_visible(False)\n",
    "ax1.spines['left'].set_bounds(35,95); ax1.spines['top'].set_bounds(xmin,xmax)\n",
    "ax1.legend(loc=(.72,.02), handlelength=1, handletextpad=.5, labelspacing=.4, prop={'size':11})\n",
    "sq1 = plt.Rectangle((xmin-.1,35), xmax-xmin+.1, 65.5, fc='w')\n",
    "ax1.add_patch(sq1); ax1.grid(clip_path=sq1, which='both', ls='-', alpha=.5)\n",
    "\n",
    "ax2.set_ylabel('Basal junction (%)')\n",
    "ax2.set_ylim(-.5, 38); ax2.spines['left'].set_bounds(0,38)\n",
    "ax2.set_zorder(-1)\n",
    "    \n",
    "fig.subplots_adjust(hspace=.15)\n",
    "#fig.delaxes(ax2)\n",
    "#fig.savefig(resultpath + '200929_f5f__nptop_ptop_structure_v2.pdf')#,dpi=300)"
   ]
  },
  {
   "cell_type": "code",
   "execution_count": null,
   "metadata": {},
   "outputs": [],
   "source": []
  }
 ],
 "metadata": {
  "kernelspec": {
   "display_name": "Python 2",
   "language": "python",
   "name": "python2"
  },
  "language_info": {
   "codemirror_mode": {
    "name": "ipython",
    "version": 2
   },
   "file_extension": ".py",
   "mimetype": "text/x-python",
   "name": "python",
   "nbconvert_exporter": "python",
   "pygments_lexer": "ipython2",
   "version": "2.7.18"
  }
 },
 "nbformat": 4,
 "nbformat_minor": 2
}
