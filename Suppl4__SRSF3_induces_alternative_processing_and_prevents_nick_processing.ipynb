{
 "cells": [
  {
   "cell_type": "markdown",
   "metadata": {},
   "source": [
    "# Supplementary figure 4. SRSF3 induces alternative processing and prevents nick processing\n",
    "A. Conservation of mir-142 CNNC   \n",
    "B. Conservation of mir-17 CNNC  \n",
    "C. TCGA analysis"
   ]
  },
  {
   "cell_type": "code",
   "execution_count": 1,
   "metadata": {},
   "outputs": [
    {
     "name": "stdout",
     "output_type": "stream",
     "text": [
      "Last revised by Seungchan Baek at 2020-10-13.\n"
     ]
    }
   ],
   "source": [
    "import time\n",
    "today = time.strftime('%Y-%m-%d')\n",
    "name = 'Seungchan Baek'\n",
    "print 'Last revised by %s at %s.' % (name, today)"
   ]
  },
  {
   "cell_type": "code",
   "execution_count": 2,
   "metadata": {},
   "outputs": [
    {
     "name": "stdout",
     "output_type": "stream",
     "text": [
      "/casa/bsc/projects/1_DCS/2004_paper_prep\n"
     ]
    }
   ],
   "source": [
    "home = '/casa/bsc/projects/1_DCS/2004_paper_prep/'\n",
    "%cd $home"
   ]
  },
  {
   "cell_type": "code",
   "execution_count": 3,
   "metadata": {},
   "outputs": [
    {
     "name": "stdout",
     "output_type": "stream",
     "text": [
      "resultpath: results/201013/\n"
     ]
    }
   ],
   "source": [
    "from __future__ import division\n",
    "import sys; sys.path.append('/casa/bsc/notebooks/')\n",
    "from util import *\n",
    "from basic import gen_result_dir\n",
    "resultpath = gen_result_dir('results/')\n",
    "print 'resultpath:', resultpath"
   ]
  },
  {
   "cell_type": "code",
   "execution_count": 4,
   "metadata": {},
   "outputs": [],
   "source": [
    "import pandas as pd\n",
    "import numpy as np\n",
    "import re\n",
    "import gzip\n",
    "from matplotlib import pyplot as plt\n",
    "from matplotlib import gridspec, lines\n",
    "from scipy.stats import rankdata, spearmanr, sem, pearsonr\n",
    "from os import listdir\n",
    "%matplotlib inline"
   ]
  },
  {
   "cell_type": "code",
   "execution_count": 5,
   "metadata": {},
   "outputs": [],
   "source": [
    "LIBRARIES = [ 'set1', 'set2', 'set3', 'set4', 'set5' ]"
   ]
  },
  {
   "cell_type": "markdown",
   "metadata": {},
   "source": [
    "#### Import supplementary tables"
   ]
  },
  {
   "cell_type": "code",
   "execution_count": 6,
   "metadata": {},
   "outputs": [
    {
     "name": "stdout",
     "output_type": "stream",
     "text": [
      "s1:\t5p mature, 5p sequence, 3p mature, 3p sequence, Note\n",
      "s2:\tChr, Start, End, Strand, Construct sequence, 100way phyloP scores (pre-miRNA -/+ 100nt)\n"
     ]
    }
   ],
   "source": [
    "s1 = pd.read_csv('supplementary/201012_s1_pri-info.csv', header=1, index_col=0)\n",
    "s2 = pd.read_csv('supplementary/201012_s2_pri-construct.csv', header=1, index_col=0)\n",
    "print 's1:\\t%s'%', '.join(list(s1.columns))\n",
    "print 's2:\\t%s'%', '.join(list(s2.columns)[:6])"
   ]
  },
  {
   "cell_type": "code",
   "execution_count": 7,
   "metadata": {},
   "outputs": [
    {
     "name": "stdout",
     "output_type": "stream",
     "text": [
      "1881\n"
     ]
    }
   ],
   "source": [
    "constseqs = dict(s2['Construct sequence'])\n",
    "print len(constseqs)"
   ]
  },
  {
   "cell_type": "code",
   "execution_count": 8,
   "metadata": {},
   "outputs": [],
   "source": [
    "phypris = {}\n",
    "for pri in ['hsa-mir-142','hsa-mir-17']:\n",
    "    phypri = s2.loc[pri, '100way phyloP scores (pre-miRNA -/+ 100nt)'][1:-1]\n",
    "    phypri = map(float, phypri.split(', '))\n",
    "    phypris[pri] = phypri"
   ]
  },
  {
   "cell_type": "code",
   "execution_count": 9,
   "metadata": {},
   "outputs": [],
   "source": [
    "def mirbase_to_relative_pos(mir, c5, c3):\n",
    "    ps, pe, strand = s2.loc[mir, ['Start','End','Strand']]\n",
    "    if strand=='+':\n",
    "        return c5-ps+1, c3-ps+1\n",
    "    return pe-c3+1, pe-c5+1"
   ]
  },
  {
   "cell_type": "markdown",
   "metadata": {},
   "source": [
    "# A. Conservation of mir-142 CNNC"
   ]
  },
  {
   "cell_type": "code",
   "execution_count": 10,
   "metadata": {},
   "outputs": [],
   "source": [
    "window = 30\n",
    "mir = 'hsa-mir-142'"
   ]
  },
  {
   "cell_type": "code",
   "execution_count": 11,
   "metadata": {},
   "outputs": [
    {
     "name": "stdout",
     "output_type": "stream",
     "text": [
      "[15, 27, 29]\n"
     ]
    }
   ],
   "source": [
    "ch, st, en, strand = get_pre_annot(mir)\n",
    "rst, ren = mirbase_to_relative_pos(mir, st, en)\n",
    "f3seq = constseqs[mir][ren:]\n",
    "cnncpos = [ s.start() for s in re.finditer(r'(?=C[A-Z][A-Z]C)', f3seq) ]\n",
    "print cnncpos"
   ]
  },
  {
   "cell_type": "code",
   "execution_count": 12,
   "metadata": {},
   "outputs": [],
   "source": [
    "cnncpos = 15\n",
    "colors = ['#ababab']*window\n",
    "for pos in range(cnncpos,cnncpos+4):\n",
    "    colors[pos] = '#d95f02'\n",
    "xs = range(window)\n",
    "ys = phypris[mir][-100:-100+window]\n",
    "width = .7\n",
    "lw = 1\n",
    "xmin, xmax = -1, window-.5\n",
    "ymax = max(ys)"
   ]
  },
  {
   "cell_type": "code",
   "execution_count": 13,
   "metadata": {},
   "outputs": [
    {
     "data": {
      "image/png": "[encoded data removed]",
      "text/plain": [
       "<matplotlib.figure.Figure at 0x7f81cfbd47d0>"
      ]
     },
     "metadata": {},
     "output_type": "display_data"
    }
   ],
   "source": [
    "fig, ax = plt.subplots(1, 1, figsize=(4,1.2))\n",
    "ax.bar(xs, ys, color=colors, width=width, lw=lw, edgecolor='k')\n",
    "\n",
    "ax.set_xlim(xmin, xmax)\n",
    "ax.set_xticks([])\n",
    "ax.set_ylabel('phyloP score', fontsize=12)\n",
    "ax.spines['bottom'].set_visible(False)\n",
    "#fig.savefig(resultpath + '200609_s4a_cnnc_mir142_tmp.pdf')"
   ]
  },
  {
   "cell_type": "markdown",
   "metadata": {},
   "source": [
    "# C. Conservation of mir-17 CNNC"
   ]
  },
  {
   "cell_type": "code",
   "execution_count": 15,
   "metadata": {},
   "outputs": [],
   "source": [
    "window = 30\n",
    "mir = 'hsa-mir-17'"
   ]
  },
  {
   "cell_type": "code",
   "execution_count": 16,
   "metadata": {},
   "outputs": [
    {
     "name": "stdout",
     "output_type": "stream",
     "text": [
      "[11, 17]\n"
     ]
    }
   ],
   "source": [
    "ch, st, en, strand = get_pre_annot(mir)\n",
    "rst, ren = mirbase_to_relative_pos(mir, st, en)\n",
    "f3seq = constseqs[mir][ren:]\n",
    "cnncpos = [ s.start() for s in re.finditer('C[A-Z][A-Z]C', f3seq) ]\n",
    "print cnncpos"
   ]
  },
  {
   "cell_type": "code",
   "execution_count": 17,
   "metadata": {},
   "outputs": [],
   "source": [
    "cnncpos = 17\n",
    "colors = ['#ababab']*window\n",
    "for pos in range(cnncpos,cnncpos+4):\n",
    "    colors[pos] = '#d95f02'\n",
    "xs = range(window)\n",
    "ys = phypris[mir][-100:-100+window]\n",
    "width = .7\n",
    "lw = 1\n",
    "xmin, xmax = -1, window-.5\n",
    "ymax = max(ys)"
   ]
  },
  {
   "cell_type": "code",
   "execution_count": 18,
   "metadata": {},
   "outputs": [
    {
     "data": {
      "image/png": "[encoded data removed]",
      "text/plain": [
       "<matplotlib.figure.Figure at 0x7f81cf222cd0>"
      ]
     },
     "metadata": {},
     "output_type": "display_data"
    }
   ],
   "source": [
    "fig, ax = plt.subplots(1, 1, figsize=(4,1.2))\n",
    "ax.bar(xs, ys, color=colors, width=width, lw=lw, edgecolor='k')\n",
    "\n",
    "ax.set_xlim(xmin, xmax)\n",
    "ax.set_ylim(-.1,int(ymax)+1)\n",
    "ax.set_xticks([])\n",
    "ax.set_ylabel('phyloP score', fontsize=12)\n",
    "ax.spines['bottom'].set_visible(False)\n",
    "ax.spines['left'].set_bounds(0, int(ymax)+1)\n",
    "#fig.savefig(resultpath + '200609_s4a_cnnc_mir142_tmp.pdf')"
   ]
  },
  {
   "cell_type": "markdown",
   "metadata": {},
   "source": [
    "# D. SRSF3-miRNA associations from TCGA data"
   ]
  },
  {
   "cell_type": "code",
   "execution_count": 21,
   "metadata": {},
   "outputs": [],
   "source": [
    "rcutoff = 20\n",
    "ncancer = 10\n",
    "nmirs = 200"
   ]
  },
  {
   "cell_type": "code",
   "execution_count": 22,
   "metadata": {},
   "outputs": [
    {
     "name": "stdout",
     "output_type": "stream",
     "text": [
      "32\n"
     ]
    }
   ],
   "source": [
    "tcgapath = 'supplementary/TCGA'\n",
    "cancers = [ fo for fo in listdir(tcgapath) if not fo.startswith('.') ]\n",
    "print len(cancers)"
   ]
  },
  {
   "cell_type": "code",
   "execution_count": 23,
   "metadata": {},
   "outputs": [],
   "source": [
    "exptbls = {}\n",
    "for cancer in cancers:\n",
    "    fname = [ f for f in listdir('%s/%s'%(tcgapath,cancer)) if f.endswith('uq') ][0]\n",
    "    tbl = pd.read_table('%s/%s/%s'%(tcgapath, cancer, fname), index_col=0)\n",
    "    tbl.index = [ i.split('|')[0] for i in tbl.index ]\n",
    "    exptbls[cancer] = tbl"
   ]
  },
  {
   "cell_type": "code",
   "execution_count": 24,
   "metadata": {},
   "outputs": [
    {
     "data": {
      "text/html": [
       "<div>\n",
       "<style scoped>\n",
       "    .dataframe tbody tr th:only-of-type {\n",
       "        vertical-align: middle;\n",
       "    }\n",
       "\n",
       "    .dataframe tbody tr th {\n",
       "        vertical-align: top;\n",
       "    }\n",
       "\n",
       "    .dataframe thead th {\n",
       "        text-align: right;\n",
       "    }\n",
       "</style>\n",
       "<table border=\"1\" class=\"dataframe\">\n",
       "  <thead>\n",
       "    <tr style=\"text-align: right;\">\n",
       "      <th></th>\n",
       "      <th>TCGA-OR-A5JA</th>\n",
       "      <th>TCGA-OR-A5J8</th>\n",
       "      <th>TCGA-P6-A5OF</th>\n",
       "      <th>TCGA-OR-A5KY</th>\n",
       "      <th>TCGA-OR-A5J2</th>\n",
       "    </tr>\n",
       "  </thead>\n",
       "  <tbody>\n",
       "    <tr>\n",
       "      <th>hsa-let-7a-2-3p</th>\n",
       "      <td>1.220924</td>\n",
       "      <td>18.821130</td>\n",
       "      <td>1.490880</td>\n",
       "      <td>5.130637</td>\n",
       "      <td>11.001915</td>\n",
       "    </tr>\n",
       "    <tr>\n",
       "      <th>hsa-let-7a-3p</th>\n",
       "      <td>61.938421</td>\n",
       "      <td>128.709081</td>\n",
       "      <td>54.603492</td>\n",
       "      <td>122.202445</td>\n",
       "      <td>110.125961</td>\n",
       "    </tr>\n",
       "    <tr>\n",
       "      <th>hsa-let-7a-5p</th>\n",
       "      <td>8644.111665</td>\n",
       "      <td>19745.914013</td>\n",
       "      <td>42408.960445</td>\n",
       "      <td>36843.518996</td>\n",
       "      <td>20807.219702</td>\n",
       "    </tr>\n",
       "  </tbody>\n",
       "</table>\n",
       "</div>"
      ],
      "text/plain": [
       "                 TCGA-OR-A5JA  TCGA-OR-A5J8  TCGA-P6-A5OF  TCGA-OR-A5KY  \\\n",
       "hsa-let-7a-2-3p      1.220924     18.821130      1.490880      5.130637   \n",
       "hsa-let-7a-3p       61.938421    128.709081     54.603492    122.202445   \n",
       "hsa-let-7a-5p     8644.111665  19745.914013  42408.960445  36843.518996   \n",
       "\n",
       "                 TCGA-OR-A5J2  \n",
       "hsa-let-7a-2-3p     11.001915  \n",
       "hsa-let-7a-3p      110.125961  \n",
       "hsa-let-7a-5p    20807.219702  "
      ]
     },
     "execution_count": 24,
     "metadata": {},
     "output_type": "execute_result"
    }
   ],
   "source": [
    "exptbls['acc'].iloc[:3,:5]"
   ]
  },
  {
   "cell_type": "code",
   "execution_count": 25,
   "metadata": {},
   "outputs": [],
   "source": [
    "def get_corrs(protein, rcutoff):\n",
    "    tblr, tblp = pd.DataFrame(), pd.DataFrame()\n",
    "    for cancer in cancers:\n",
    "        exps = exptbls[cancer]\n",
    "        if protein not in exps.index:\n",
    "            continue\n",
    "        mats = [ m for m in exps.index if m.startswith('hsa-') and ' ' not in m ]\n",
    "        robust = sorted(mats, key=lambda x: np.average(exps.loc[x]))[-nmirs:]\n",
    "        for m in robust:\n",
    "            r, p = spearmanr(exps.loc[protein], exps.loc[m])\n",
    "            tblr.loc[m, cancer] = r\n",
    "            tblp.loc[m, cancer] = p\n",
    "    return tblr, tblp"
   ]
  },
  {
   "cell_type": "code",
   "execution_count": 26,
   "metadata": {},
   "outputs": [],
   "source": [
    "proteins = [ 'SFRS3' ]#, 'ERH', 'SAFB2', 'LIN28B' ]\n",
    "corrtbls = {}\n",
    "for p in proteins:\n",
    "    tr = get_corrs(p, rcutoff)[0]\n",
    "    tr = tr[tr.apply(lambda x: len(x.dropna())>=ncancer, axis=1)]\n",
    "    tr['average'] = tr.mean(axis=1)\n",
    "    tr['sem'] = tr.apply(lambda x: sem(x.dropna()[:-1]), axis=1)\n",
    "    corrtbls[p] = tr.sort_values('average')"
   ]
  },
  {
   "cell_type": "markdown",
   "metadata": {},
   "source": [
    "#### SRSF3"
   ]
  },
  {
   "cell_type": "code",
   "execution_count": 27,
   "metadata": {},
   "outputs": [
    {
     "name": "stdout",
     "output_type": "stream",
     "text": [
      "Index([u'hsa-miR-25-3p', u'hsa-miR-17-3p', u'hsa-miR-93-5p', u'hsa-miR-92a-3p',\n",
      "       u'hsa-miR-106b-5p', u'hsa-miR-15b-3p', u'hsa-miR-19a-3p',\n",
      "       u'hsa-miR-19b-3p', u'hsa-miR-20a-5p', u'hsa-miR-17-5p'],\n",
      "      dtype='object')\n"
     ]
    }
   ],
   "source": [
    "protein = 'SFRS3'\n",
    "print corrtbls[protein].index[-10:]"
   ]
  },
  {
   "cell_type": "code",
   "execution_count": 30,
   "metadata": {},
   "outputs": [],
   "source": [
    "title = 'SRSF3'\n",
    "ys = corrtbls[protein]['average'].tolist()\n",
    "xs = range(len(ys))\n",
    "yerrs = corrtbls[protein]['sem'].tolist()\n",
    "xmin, xmax = -5, len(xs)+1\n",
    "ymin, ymax = -max(map(abs, ys))-.01, max(map(abs, ys))+.01\n",
    "lw = 1.8\n",
    "s = 10\n",
    "color = 'black'\n",
    "zoom = 10\n",
    "zoomwhich = 'top'\n",
    "colors = ['black','tab:red'] + ['black']*7 + ['tab:red']\n",
    "txts = [ m.replace('hsa-miR-','') for m in corrtbls[protein].index[-zoom:] ]"
   ]
  },
  {
   "cell_type": "code",
   "execution_count": 31,
   "metadata": {},
   "outputs": [
    {
     "data": {
      "image/png": "[encoded data removed]",
      "text/plain": [
       "<matplotlib.figure.Figure at 0x7f81c06f5c10>"
      ]
     },
     "metadata": {},
     "output_type": "display_data"
    }
   ],
   "source": [
    "fig, ax = plt.subplots(1, 1, figsize=(3,2))\n",
    "ax.plot(xs, ys, lw=lw, c=color)\n",
    "\n",
    "ax.set_xlim(xmin, xmax)\n",
    "ax.set_ylim(ymin, ymax)\n",
    "ax.set_xlabel('miRNAs', fontsize=12)\n",
    "ax.set_ylabel(r'Average $R_s$', fontsize=12)\n",
    "ax.spines['bottom'].set_bounds(0, len(ys))\n",
    "ax.set_title(title, fontsize=12)\n",
    "gr = plt.Rectangle((xmin,ymin), xmax-xmin, ymax-ymin, fc='w'); ax.add_patch(gr)\n",
    "ax.yaxis.grid(ls='-', lw=.5, clip_path=gr)\n",
    "\n",
    "if zoomwhich=='top':\n",
    "    ymid, ymin2, ymax2 = 0, 0, max(np.array(ys[-zoom:])+np.array(yerrs[-zoom:]))+.02\n",
    "    sq = plt.Rectangle((len(xs)-zoom,ymid), zoom+1, ymax-ymid, lw=1, ls='--', \n",
    "                       edgecolor='k', facecolor='None')\n",
    "    l1 = lines.Line2D([xmax,xmax+15], [ymid,-.08], lw=1, ls='--', color='k')\n",
    "    l2 = lines.Line2D([xmax,xmax+15], [ymax,ymax+.017], lw=1, ls='--', color='k')\n",
    "    ax2loc = [.96, .4, .5, .5]\n",
    "    yzoom = ys[-zoom:]\n",
    "    ezoom = yerrs[-zoom:]\n",
    "    \n",
    "else: # bottom\n",
    "    ymid, ymin2, ymax2 = ys[zoom], ymin, ys[zoom]\n",
    "    sq = plt.Rectangle((-1,ymid), zoom+1, ymin-ymid-.01, lw=1, ls='--', \n",
    "                       edgecolor='k', color='None')\n",
    "    l1 = lines.Line2D([zoom,xmax+16], [ymid,0], lw=1, color='k', ls='--')\n",
    "    l2 = lines.Line2D([zoom,xmax+16], [ymin,ymin], lw=1, color='k', ls='--')\n",
    "    ax2loc = [.96, .14, .5, .5]\n",
    "    yzoom = ys[:zoom]\n",
    "    ezoom = ys[:zoom]\n",
    "       \n",
    "sq.set_clip_on(False); ax.add_patch(sq); sq.set_zorder(3)\n",
    "l1.set_clip_on(False); ax.add_line(l1)\n",
    "l2.set_clip_on(False); ax.add_line(l2)\n",
    "\n",
    "ax2 = fig.add_axes(ax2loc, ax)\n",
    "ax2.scatter(range(zoom), yzoom, s=s, color=colors)\n",
    "ax2.errorbar(range(zoom), yzoom, yerr=ezoom, lw=0, elinewidth=1, ecolor=colors)\n",
    "ax2.set_xlim(-.8, zoom-.2)\n",
    "ax2.set_ylim(ymin2, ymax2)\n",
    "ax2.set_xticks([])\n",
    "ax2.set_yticks([])\n",
    "\n",
    "if zoomwhich=='top':\n",
    "    ax2.spines['top'].set_visible(True)\n",
    "    ax2.spines['right'].set_visible(True)\n",
    "    for i, mir, y, c, err in zip(range(zoom), txts, yzoom, colors, ezoom):\n",
    "        ax2.text(i-.3, y-err-.01, mir, fontsize=10, rotation=90, va='top', color=c)\n",
    "else:\n",
    "    for i, mir, y, c, err in zip(range(zoom), txts, yzoom, colors, ezoom):\n",
    "        ax2.text(i-.3, y+err+.01, mir, fontsize=10, rotation=90, va='bottom', color=c)\n",
    "#fig.savefig(resultpath + '200617_s4_tcga_%s.pdf'%title)"
   ]
  },
  {
   "cell_type": "code",
   "execution_count": null,
   "metadata": {},
   "outputs": [],
   "source": []
  }
 ],
 "metadata": {
  "kernelspec": {
   "display_name": "Python 2",
   "language": "python",
   "name": "python2"
  },
  "language_info": {
   "codemirror_mode": {
    "name": "ipython",
    "version": 2
   },
   "file_extension": ".py",
   "mimetype": "text/x-python",
   "name": "python",
   "nbconvert_exporter": "python",
   "pygments_lexer": "ipython2",
   "version": "2.7.18"
  }
 },
 "nbformat": 4,
 "nbformat_minor": 2
}
