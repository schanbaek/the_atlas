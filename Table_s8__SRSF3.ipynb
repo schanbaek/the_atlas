{
 "cells": [
  {
   "cell_type": "markdown",
   "metadata": {},
   "source": [
    "# Supplementary Table 8. Microprocessor IVP with SRSF3\n",
    "1. List up pri-miRNAs with redundant construct sequence\n",
    "2. Build table\n",
    "3. Add redundant pri-miRNAs"
   ]
  },
  {
   "cell_type": "code",
   "execution_count": 1,
   "metadata": {},
   "outputs": [
    {
     "name": "stdout",
     "output_type": "stream",
     "text": [
      "Last revised by Seungchan Baek at 2020-10-13.\n"
     ]
    }
   ],
   "source": [
    "import time\n",
    "today = time.strftime('%Y-%m-%d')\n",
    "name = 'Seungchan Baek'\n",
    "print 'Last revised by %s at %s.' % (name, today)"
   ]
  },
  {
   "cell_type": "code",
   "execution_count": 2,
   "metadata": {},
   "outputs": [
    {
     "name": "stdout",
     "output_type": "stream",
     "text": [
      "/casa/bsc/projects/1_DCS/2004_paper_prep\n"
     ]
    }
   ],
   "source": [
    "home = '/casa/bsc/projects/1_DCS/2004_paper_prep/'\n",
    "%cd $home"
   ]
  },
  {
   "cell_type": "code",
   "execution_count": 3,
   "metadata": {},
   "outputs": [],
   "source": [
    "utilpath = '/casa/bsc/notebooks/'\n",
    "import sys; sys.path.append(utilpath)\n",
    "from util import *"
   ]
  },
  {
   "cell_type": "code",
   "execution_count": 4,
   "metadata": {},
   "outputs": [
    {
     "name": "stdout",
     "output_type": "stream",
     "text": [
      "resultpath: results/201013/\n"
     ]
    }
   ],
   "source": [
    "from basic import gen_result_dir\n",
    "resultpath = gen_result_dir('results/')\n",
    "print 'resultpath:', resultpath"
   ]
  },
  {
   "cell_type": "code",
   "execution_count": 5,
   "metadata": {},
   "outputs": [],
   "source": [
    "from __future__ import division\n",
    "import pandas as pd\n",
    "import numpy as np\n",
    "import re\n",
    "import gzip\n",
    "from matplotlib import pyplot as plt\n",
    "from collections import defaultdict, Counter\n",
    "%matplotlib inline"
   ]
  },
  {
   "cell_type": "markdown",
   "metadata": {},
   "source": [
    "### 1. List up pri-miRNAs with redundant construct sequence"
   ]
  },
  {
   "cell_type": "code",
   "execution_count": 6,
   "metadata": {},
   "outputs": [
    {
     "name": "stdout",
     "output_type": "stream",
     "text": [
      "s1:\t5p mature, 5p sequence, 3p mature, 3p sequence, Note\n",
      "s2:\tChr, Start, End, Strand, Construct sequence, 100way phyloP scores (pre-miRNA -/+ 100nt)\n",
      "s6:\tRelative position from miRBase site, Cleavage Specificity, Cleavage Imbalance, Cleavage type\n"
     ]
    }
   ],
   "source": [
    "s1 = pd.read_csv('supplementary/201012_s1_pri-info.csv', header=1, index_col=0)\n",
    "s2 = pd.read_csv('supplementary/201012_s2_pri-construct.csv', index_col=0, header=1)\n",
    "s6 = pd.read_csv('supplementary/201012_s6_cleavage-patterns.csv', header=1, index_col=0)\n",
    "print 's1:\\t%s'%', '.join(list(s1.columns))\n",
    "print 's2:\\t%s'%', '.join(list(s2.columns)[:6])\n",
    "print 's6:\\t%s'%', '.join(list(s6.columns)[-4:])"
   ]
  },
  {
   "cell_type": "code",
   "execution_count": 7,
   "metadata": {},
   "outputs": [
    {
     "name": "stdout",
     "output_type": "stream",
     "text": [
      "Productive: 512, Unproductive: 1304\n",
      "Single: 445, Multiple: 67, Inverted: 156, Nick: 107, Non-specific: 1041\n",
      "5' nick: 72, 3' nick: 35\n"
     ]
    }
   ],
   "source": [
    "singlemp = set(s6[s6['Cleavage type']=='single'].index)\n",
    "multimp = set(s6[s6['Cleavage type']=='multiple'].index)\n",
    "invertedmp = set(s6[s6['Cleavage type']=='inverted'].index)\n",
    "nick5mp = set(s6[s6['Cleavage type']=='nick5'].index)\n",
    "nick3mp = set(s6[s6['Cleavage type']=='nick3'].index)\n",
    "nickmp = list(nick5mp) + list(nick3mp)\n",
    "nonspecmp = set(s6[s6['Cleavage type']=='non-specific'].index)\n",
    "dcsmirsmp = list(singlemp) + list(multimp)\n",
    "nodcsmp = list(invertedmp) + list(nickmp) + list(nonspecmp)\n",
    "print 'Productive: %s, Unproductive: %s' % (len(dcsmirsmp), len(nodcsmp))\n",
    "print 'Single: %s, Multiple: %s, Inverted: %s, Nick: %s, Non-specific: %s'\\\n",
    "% (len(singlemp), len(multimp), len(invertedmp), len(nickmp), len(nonspecmp))\n",
    "print \"5' nick: %s, 3' nick: %s\" % (len(nick5mp), len(nick3mp))"
   ]
  },
  {
   "cell_type": "code",
   "execution_count": 8,
   "metadata": {},
   "outputs": [],
   "source": [
    "def get_pre_position(pri):\n",
    "    constructseq = s2.loc[pri, 'Construct sequence'].replace('T','U')\n",
    "    seq5p = s1.loc[pri, '5p sequence']\n",
    "    seq3p = s1.loc[pri, '3p sequence']\n",
    "    if seq5p=='n.a.' or constructseq.find(seq5p)==-1:\n",
    "        prestart = 0\n",
    "    else:\n",
    "        prestart = constructseq.find(seq5p)+1\n",
    "    if seq3p=='n.a.' or constructseq.find(seq3p)==-1:\n",
    "        preend = 0\n",
    "    else:\n",
    "        preend = constructseq.rfind(seq3p)+len(seq3p)\n",
    "    return prestart, preend"
   ]
  },
  {
   "cell_type": "code",
   "execution_count": 9,
   "metadata": {},
   "outputs": [],
   "source": [
    "allpris = list(s2.index)\n",
    "preposition = { pri:get_pre_position(pri) for pri in allpris }"
   ]
  },
  {
   "cell_type": "code",
   "execution_count": 10,
   "metadata": {},
   "outputs": [
    {
     "name": "stdout",
     "output_type": "stream",
     "text": [
      "25\n"
     ]
    }
   ],
   "source": [
    "redund = s2[s2['Note'].apply(lambda x: str(x).find('Same construct')>=0)]\n",
    "repreRedund = defaultdict(list)\n",
    "for pri, note in dict(redund['Note']).items():\n",
    "    repre = note.split()[-1]\n",
    "    repreRedund[repre].append(pri)\n",
    "print len(repreRedund)"
   ]
  },
  {
   "cell_type": "markdown",
   "metadata": {},
   "source": [
    "### 2. Input"
   ]
  },
  {
   "cell_type": "code",
   "execution_count": 11,
   "metadata": {},
   "outputs": [],
   "source": [
    "rcutoff = 30"
   ]
  },
  {
   "cell_type": "code",
   "execution_count": 12,
   "metadata": {},
   "outputs": [],
   "source": [
    "allinputs = [ 'input' ]\n",
    "inptbl = pd.DataFrame(columns=['Pri-miRNA']+allinputs)\n",
    "inptbl['Pri-miRNA'] = allpris\n",
    "inptbl = inptbl.set_index('Pri-miRNA').fillna(0)"
   ]
  },
  {
   "cell_type": "code",
   "execution_count": 13,
   "metadata": {},
   "outputs": [],
   "source": [
    "for lib in allinputs:\n",
    "    txt = 'srsf3/alignments/%s.txt.gz' % lib\n",
    "    mirs = !zcat $txt | cut -d\" \" -f1\n",
    "    adjmirs = [ 'hsa-mir-1302-11' if m=='hsa-mir-1302-2' else m for m in mirs ]\n",
    "    mircnts = pd.Series(Counter(adjmirs))\n",
    "    inptbl[lib].update(mircnts)"
   ]
  },
  {
   "cell_type": "code",
   "execution_count": 14,
   "metadata": {},
   "outputs": [],
   "source": [
    "for pri in inptbl.index:\n",
    "    if pri in repreRedund:\n",
    "        for pri2 in repreRedund[pri]:\n",
    "            inptbl.loc[pri2] = inptbl.loc[pri]"
   ]
  },
  {
   "cell_type": "code",
   "execution_count": 15,
   "metadata": {},
   "outputs": [
    {
     "data": {
      "text/html": [
       "<div>\n",
       "<style scoped>\n",
       "    .dataframe tbody tr th:only-of-type {\n",
       "        vertical-align: middle;\n",
       "    }\n",
       "\n",
       "    .dataframe tbody tr th {\n",
       "        vertical-align: top;\n",
       "    }\n",
       "\n",
       "    .dataframe thead th {\n",
       "        text-align: right;\n",
       "    }\n",
       "</style>\n",
       "<table border=\"1\" class=\"dataframe\">\n",
       "  <thead>\n",
       "    <tr style=\"text-align: right;\">\n",
       "      <th></th>\n",
       "      <th>input</th>\n",
       "    </tr>\n",
       "    <tr>\n",
       "      <th>Pri-miRNA</th>\n",
       "      <th></th>\n",
       "    </tr>\n",
       "  </thead>\n",
       "  <tbody>\n",
       "    <tr>\n",
       "      <th>hsa-let-7a-1</th>\n",
       "      <td>706</td>\n",
       "    </tr>\n",
       "    <tr>\n",
       "      <th>hsa-let-7a-2</th>\n",
       "      <td>2225</td>\n",
       "    </tr>\n",
       "    <tr>\n",
       "      <th>hsa-let-7a-3</th>\n",
       "      <td>2916</td>\n",
       "    </tr>\n",
       "  </tbody>\n",
       "</table>\n",
       "</div>"
      ],
      "text/plain": [
       "              input\n",
       "Pri-miRNA          \n",
       "hsa-let-7a-1    706\n",
       "hsa-let-7a-2   2225\n",
       "hsa-let-7a-3   2916"
      ]
     },
     "execution_count": 15,
     "metadata": {},
     "output_type": "execute_result"
    }
   ],
   "source": [
    "inptbl.head(3)"
   ]
  },
  {
   "cell_type": "code",
   "execution_count": 16,
   "metadata": {},
   "outputs": [
    {
     "name": "stdout",
     "output_type": "stream",
     "text": [
      "1749\n"
     ]
    }
   ],
   "source": [
    "rcutoff = 30\n",
    "suffinps = sorted([ mir for mir in allpris if inptbl.loc[mir, 'input']>=rcutoff ])\n",
    "print len(suffinps)"
   ]
  },
  {
   "cell_type": "markdown",
   "metadata": {},
   "source": [
    "### 3. Cleavage products"
   ]
  },
  {
   "cell_type": "code",
   "execution_count": 17,
   "metadata": {},
   "outputs": [],
   "source": [
    "def cigar_to_len(cigar):\n",
    "    nums = re.split('[A-Z]', cigar)[:-1]\n",
    "    strs = re.split('[0-9]+', cigar)[1:]\n",
    "    rlen = sum([int(number) for number, cigStr in zip(nums, strs) if cigStr in 'DM'])\n",
    "    return rlen"
   ]
  },
  {
   "cell_type": "code",
   "execution_count": 18,
   "metadata": {},
   "outputs": [],
   "source": [
    "allclvs = 'cleaved-1 cleaved-2'.split()\n",
    "adaptlen = 20"
   ]
  },
  {
   "cell_type": "code",
   "execution_count": 19,
   "metadata": {},
   "outputs": [],
   "source": [
    "d = {}\n",
    "for lib in allclvs:\n",
    "    summaryfile = 'srsf3/alignments/%s.txt.gz' % lib\n",
    "    tbl = pd.read_table(gzip.open(summaryfile, 'rb'), sep=' ',\n",
    "                        names=['Pri-miRNA', 'start_R2', 'cigar', 'start_R1'])\n",
    "    tbl['rstart'] = tbl['start_R1'].apply(lambda x: max(1, x-adaptlen))\n",
    "    tbl['rlen'] = tbl['cigar'].apply(cigar_to_len)\n",
    "    tbl['rend_tmp'] = tbl['start_R2']+tbl['rlen']-1\n",
    "    tbl['rend'] = tbl['rend_tmp'].apply(lambda x: min(125, x-adaptlen))\n",
    "    cnttbl = tbl.groupby(['Pri-miRNA', 'rstart', 'rend']).size()\n",
    "    d[lib] = cnttbl"
   ]
  },
  {
   "cell_type": "code",
   "execution_count": 20,
   "metadata": {},
   "outputs": [],
   "source": [
    "clvtbl = pd.DataFrame(d).fillna(0).astype(int).reset_index()\n",
    "unclv = clvtbl[(clvtbl['rstart']==1)&(clvtbl['rend']==125)]\n",
    "clvtbl = clvtbl.drop(unclv.index)"
   ]
  },
  {
   "cell_type": "code",
   "execution_count": 21,
   "metadata": {},
   "outputs": [
    {
     "name": "stdout",
     "output_type": "stream",
     "text": [
      "1876\n"
     ]
    },
    {
     "data": {
      "text/html": [
       "<div>\n",
       "<style scoped>\n",
       "    .dataframe tbody tr th:only-of-type {\n",
       "        vertical-align: middle;\n",
       "    }\n",
       "\n",
       "    .dataframe tbody tr th {\n",
       "        vertical-align: top;\n",
       "    }\n",
       "\n",
       "    .dataframe thead th {\n",
       "        text-align: right;\n",
       "    }\n",
       "</style>\n",
       "<table border=\"1\" class=\"dataframe\">\n",
       "  <thead>\n",
       "    <tr style=\"text-align: right;\">\n",
       "      <th></th>\n",
       "      <th>Pri-miRNA</th>\n",
       "      <th>rstart</th>\n",
       "      <th>rend</th>\n",
       "      <th>cleaved-1</th>\n",
       "      <th>cleaved-2</th>\n",
       "    </tr>\n",
       "  </thead>\n",
       "  <tbody>\n",
       "    <tr>\n",
       "      <th>0</th>\n",
       "      <td>hsa-let-7a-1</td>\n",
       "      <td>1</td>\n",
       "      <td>7</td>\n",
       "      <td>1</td>\n",
       "      <td>0</td>\n",
       "    </tr>\n",
       "    <tr>\n",
       "      <th>1</th>\n",
       "      <td>hsa-let-7a-1</td>\n",
       "      <td>1</td>\n",
       "      <td>10</td>\n",
       "      <td>2</td>\n",
       "      <td>1</td>\n",
       "    </tr>\n",
       "    <tr>\n",
       "      <th>2</th>\n",
       "      <td>hsa-let-7a-1</td>\n",
       "      <td>1</td>\n",
       "      <td>11</td>\n",
       "      <td>1</td>\n",
       "      <td>0</td>\n",
       "    </tr>\n",
       "    <tr>\n",
       "      <th>3</th>\n",
       "      <td>hsa-let-7a-1</td>\n",
       "      <td>1</td>\n",
       "      <td>12</td>\n",
       "      <td>0</td>\n",
       "      <td>2</td>\n",
       "    </tr>\n",
       "    <tr>\n",
       "      <th>4</th>\n",
       "      <td>hsa-let-7a-1</td>\n",
       "      <td>1</td>\n",
       "      <td>13</td>\n",
       "      <td>24</td>\n",
       "      <td>17</td>\n",
       "    </tr>\n",
       "  </tbody>\n",
       "</table>\n",
       "</div>"
      ],
      "text/plain": [
       "      Pri-miRNA  rstart  rend  cleaved-1  cleaved-2\n",
       "0  hsa-let-7a-1       1     7          1          0\n",
       "1  hsa-let-7a-1       1    10          2          1\n",
       "2  hsa-let-7a-1       1    11          1          0\n",
       "3  hsa-let-7a-1       1    12          0          2\n",
       "4  hsa-let-7a-1       1    13         24         17"
      ]
     },
     "execution_count": 21,
     "metadata": {},
     "output_type": "execute_result"
    }
   ],
   "source": [
    "for pri in set(clvtbl['Pri-miRNA']):\n",
    "    if pri in repreRedund:\n",
    "        for pri2 in repreRedund[pri]:\n",
    "            new = clvtbl[clvtbl['Pri-miRNA']==pri].copy()\n",
    "            new['Pri-miRNA'] = pri2\n",
    "            clvtbl = clvtbl.append(new)\n",
    "clvtbl = clvtbl.sort_values(['Pri-miRNA', 'rstart', 'rend'])\n",
    "print len(set(clvtbl['Pri-miRNA']))\n",
    "clvtbl.head()"
   ]
  },
  {
   "cell_type": "markdown",
   "metadata": {},
   "source": [
    "### 4. Cleavage productivity"
   ]
  },
  {
   "cell_type": "code",
   "execution_count": 22,
   "metadata": {},
   "outputs": [],
   "source": [
    "window = 3"
   ]
  },
  {
   "cell_type": "code",
   "execution_count": 23,
   "metadata": {},
   "outputs": [],
   "source": [
    "clvtbl['cleaved'] = clvtbl['cleaved-1']+clvtbl['cleaved-2']"
   ]
  },
  {
   "cell_type": "code",
   "execution_count": 24,
   "metadata": {},
   "outputs": [],
   "source": [
    "start, mid, end = 1, 63, 125\n",
    "clv5f = clvtbl[(clvtbl['rstart']==start)&(clvtbl['rend']<mid)].set_index('Pri-miRNA')\n",
    "clv3f = clvtbl[(clvtbl['rstart']>mid)&(clvtbl['rend']==end)].set_index('Pri-miRNA')\n",
    "clvhn = clvtbl[(clvtbl['rstart']<mid)&(clvtbl['rend']>mid)]\n",
    "clvn5 = clvhn[clvhn['rstart']==start]\n",
    "clvn3 = clvhn[clvhn['rend']==end]\n",
    "clvh = clvhn.drop(clvn5.index).drop(clvn3.index).set_index('Pri-miRNA')\n",
    "clvn5 = clvn5.set_index('Pri-miRNA'); clvn3 = clvn3.set_index('Pri-miRNA')"
   ]
  },
  {
   "cell_type": "code",
   "execution_count": 25,
   "metadata": {},
   "outputs": [],
   "source": [
    "def fill_unfound(tbl):\n",
    "    found = set(tbl.index)\n",
    "    unfound = [ mir for mir in allpris if mir not in found ]\n",
    "    fill = pd.DataFrame(index=unfound, columns=tbl.columns).fillna(0)\n",
    "    return tbl.append(fill)"
   ]
  },
  {
   "cell_type": "code",
   "execution_count": 26,
   "metadata": {},
   "outputs": [],
   "source": [
    "clvtbl = fill_unfound(clvtbl.set_index('Pri-miRNA'))\n",
    "clv5f = fill_unfound(clv5f)\n",
    "clv3f = fill_unfound(clv3f)\n",
    "clvh = fill_unfound(clvh)\n",
    "clvn5 = fill_unfound(clvn5)\n",
    "clvn3 = fill_unfound(clvn3)"
   ]
  },
  {
   "cell_type": "code",
   "execution_count": 27,
   "metadata": {},
   "outputs": [],
   "source": [
    "def get_clv_all(mir):\n",
    "    clv5 = clv5f.loc[mir, 'cleaved']\n",
    "    clv3 = clv3f.loc[mir, 'cleaved']\n",
    "    return int(round((clv5.sum()+clv3.sum())/2, 0))"
   ]
  },
  {
   "cell_type": "code",
   "execution_count": 28,
   "metadata": {},
   "outputs": [
    {
     "name": "stdout",
     "output_type": "stream",
     "text": [
      "6676\n"
     ]
    }
   ],
   "source": [
    "clvcnts = { mir:get_clv_all(mir) for mir in suffinps }\n",
    "print clvcnts['hsa-let-7a-1']"
   ]
  },
  {
   "cell_type": "code",
   "execution_count": 29,
   "metadata": {},
   "outputs": [],
   "source": [
    "def get_clv_prod(mir, window):\n",
    "    ps, pe = preposition[mir]\n",
    "    if ps==0 and pe==0:\n",
    "        return -1\n",
    "    clv5 = clv5f.loc[[mir]].reset_index().set_index('rend')['cleaved']\n",
    "    clv3 = clv3f.loc[[mir]].reset_index().set_index('rstart')['cleaved']\n",
    "    if ps and pe:\n",
    "        prod5 = clv5.reindex(range(ps-1-window,ps+window)).sum()\n",
    "        prod3 = clv3.reindex(range(pe+1-window,pe+2+window)).sum()\n",
    "        prod = round((prod5+prod3)/2, 0)\n",
    "    elif ps:\n",
    "        prod = clv5.reindex(range(ps-1-window,ps+window)).sum()\n",
    "    else:\n",
    "        prod = clv3.reindex(range(pe+1-window,pe+2+window)).sum()\n",
    "    return int(prod)"
   ]
  },
  {
   "cell_type": "code",
   "execution_count": 30,
   "metadata": {},
   "outputs": [
    {
     "name": "stdout",
     "output_type": "stream",
     "text": [
      "6608\n"
     ]
    }
   ],
   "source": [
    "prodcnts = { mir:get_clv_prod(mir,window) for mir in suffinps }\n",
    "print prodcnts['hsa-let-7a-1']"
   ]
  },
  {
   "cell_type": "code",
   "execution_count": 31,
   "metadata": {},
   "outputs": [],
   "source": [
    "def get_clv_inv(mir, window):\n",
    "    ps, pe = preposition[mir]\n",
    "    if ps==0 and pe==0:\n",
    "        return -1\n",
    "    invs = ps+11\n",
    "    inve = pe-11\n",
    "    clv5 = clv5f.loc[[mir]].reset_index().set_index('rend')['cleaved']\n",
    "    clv3 = clv3f.loc[[mir]].reset_index().set_index('rstart')['cleaved']\n",
    "    if ps and pe:\n",
    "        prod5 = clv5.reindex(range(invs-1-window,invs+window)).sum()\n",
    "        prod3 = clv3.reindex(range(inve+1-window,inve+2+window)).sum()\n",
    "        prod = round((prod5+prod3)/2, 0)\n",
    "    elif ps:\n",
    "        prod = clv5.reindex(range(invs-1-window,invs+window)).sum()\n",
    "    else:\n",
    "        prod = clv3.reindex(range(inve+1-window,inve+2+window)).sum()\n",
    "    return int(prod)"
   ]
  },
  {
   "cell_type": "code",
   "execution_count": 32,
   "metadata": {},
   "outputs": [
    {
     "name": "stdout",
     "output_type": "stream",
     "text": [
      "8\n"
     ]
    }
   ],
   "source": [
    "invcnts = { mir:get_clv_inv(mir,window) for mir in suffinps }\n",
    "print invcnts['hsa-let-7a-1']"
   ]
  },
  {
   "cell_type": "code",
   "execution_count": 33,
   "metadata": {},
   "outputs": [],
   "source": [
    "def get_productivity(mir, window):\n",
    "    clv = get_clv_all(mir)\n",
    "    prod = get_clv_prod(mir, window)\n",
    "    if prod<0: return -999\n",
    "    if clv==0: return 0\n",
    "    inp = inptbl.loc[mir, 'input']\n",
    "    return (prod/inp)*(prod/clv)"
   ]
  },
  {
   "cell_type": "code",
   "execution_count": 34,
   "metadata": {},
   "outputs": [
    {
     "name": "stdout",
     "output_type": "stream",
     "text": [
      "0.00794248445143798\n"
     ]
    }
   ],
   "source": [
    "## norm\n",
    "norm = 'hsa-mir-6788'\n",
    "norms = get_productivity(norm, window)\n",
    "print norms"
   ]
  },
  {
   "cell_type": "code",
   "execution_count": 35,
   "metadata": {},
   "outputs": [],
   "source": [
    "normprods = {}\n",
    "for mir in suffinps:\n",
    "    prod = get_productivity(mir, window)\n",
    "    if prod>-999:\n",
    "        normprods[mir] = np.log2(prod/norms+1)"
   ]
  },
  {
   "cell_type": "markdown",
   "metadata": {},
   "source": [
    "### 5. Cleavage specificity"
   ]
  },
  {
   "cell_type": "code",
   "execution_count": 37,
   "metadata": {},
   "outputs": [],
   "source": [
    "rcutoff = 30\n",
    "fcutoff = .01"
   ]
  },
  {
   "cell_type": "code",
   "execution_count": 38,
   "metadata": {},
   "outputs": [],
   "source": [
    "def get_frac_5frag(mir):\n",
    "    sub = clv5f.loc[[mir]].set_index('rend')\n",
    "    return (sub/sub.sum())"
   ]
  },
  {
   "cell_type": "code",
   "execution_count": 39,
   "metadata": {},
   "outputs": [],
   "source": [
    "def get_frac_3frag(mir):\n",
    "    sub = clv3f.loc[[mir]].set_index('rstart')\n",
    "    return (sub/sub.sum())"
   ]
  },
  {
   "cell_type": "code",
   "execution_count": 40,
   "metadata": {},
   "outputs": [],
   "source": [
    "def get_frac_hairpin(mir):\n",
    "    sub = clvh.loc[[mir]].set_index(['rstart','rend'])\n",
    "    return (sub/sub.sum())"
   ]
  },
  {
   "cell_type": "code",
   "execution_count": 41,
   "metadata": {},
   "outputs": [],
   "source": [
    "def filter_frac(frac, fcutoff):\n",
    "    return frac[frac>=fcutoff]"
   ]
  },
  {
   "cell_type": "code",
   "execution_count": 42,
   "metadata": {},
   "outputs": [],
   "source": [
    "def add_specificity(row):\n",
    "    row['cleavage specificity'] = np.log2((row['5frag']+row['hairpin']+row['3frag'])/3+1)\n",
    "    return row"
   ]
  },
  {
   "cell_type": "code",
   "execution_count": 43,
   "metadata": {},
   "outputs": [],
   "source": [
    "def add_diff(row):\n",
    "    if row['pstart'] and row['pend']:\n",
    "        row['diff'] = min([row['hstart']-row['pstart'], row['pend']-row['hend']], key=abs)\n",
    "    elif row['pstart']:\n",
    "        row['diff'] = row['hstart'] - row['pstart'] \n",
    "    else:\n",
    "        row['diff'] = row['pend'] - row['hend']\n",
    "    return row"
   ]
  },
  {
   "cell_type": "code",
   "execution_count": 44,
   "metadata": {},
   "outputs": [],
   "source": [
    "def drop_duplicates(sortedtbl):\n",
    "    if len(sortedtbl)<=1:\n",
    "        return sortedtbl\n",
    "    hs = sortedtbl['hstart'].tolist()[0]\n",
    "    he = sortedtbl['hend'].tolist()[0]\n",
    "    sub = sortedtbl.iloc[1:]\n",
    "    sub = sub[(sub['hstart']!=hs)&(sub['hend']!=he)]\n",
    "    return sortedtbl.iloc[:1].append(drop_duplicates(sub))"
   ]
  },
  {
   "cell_type": "code",
   "execution_count": 45,
   "metadata": {},
   "outputs": [],
   "source": [
    "frac5f = { mir:get_frac_5frag(mir) for mir in allpris } \n",
    "frac3f = { mir:get_frac_3frag(mir) for mir in allpris } \n",
    "frachpn = { mir:get_frac_hairpin(mir) for mir in allpris }"
   ]
  },
  {
   "cell_type": "code",
   "execution_count": 46,
   "metadata": {},
   "outputs": [],
   "source": [
    "COLS = [ 'miRNA', 'pstart', 'pend', 'hstart', 'hend', '5frag', '3frag', 'hairpin', \n",
    "         'cleavage specificity', 'diff' ]\n",
    "def get_dcs(mir, rcutoff, fcutoff, lib):\n",
    "    ps, pe = preposition[mir]\n",
    "    clvsites = pd.DataFrame({0:dict(zip(COLS,[mir,ps,pe,1,125,0,0,0,0,99]))}).T[COLS]\n",
    "    clv5, clv3, clvhpn = [ f[mir][lib] if c.loc[mir,lib].sum()>=rcutoff else pd.Series()\n",
    "                           for f,c in zip([frac5f,frac3f,frachpn], [clv5f,clv3f,clvh]) ]\n",
    "    if sum(map(bool, [clv5.to_dict(),clv3.to_dict(),clvhpn.to_dict()]))<2:\n",
    "        return clvsites\n",
    "    clv52 = defaultdict(float); clv52.update(clv5)\n",
    "    clv32 = defaultdict(float); clv32.update(clv3)\n",
    "    clvhpn2 = defaultdict(float); clvhpn2.update(clvhpn)\n",
    "    for c5, frac5 in filter_frac(clv5, fcutoff).items():\n",
    "        for c3, frac3 in filter_frac(clv3, fcutoff).items():\n",
    "            row = dict(zip(COLS,[mir,ps,pe,c5+1,c3-1,frac5,frac3,clvhpn2[(c5+1,c3-1)]]))\n",
    "            clvsites = clvsites.append(row, ignore_index=True)\n",
    "    for (c5,c3), frach in filter_frac(clvhpn, fcutoff).items():\n",
    "        row = dict(zip(COLS,[mir,ps,pe,c5,c3,clv52[c5-1],clv32[c3+1],frach]))\n",
    "        clvsites = clvsites.append(row, ignore_index=True)\n",
    "    cs = clvsites.apply(add_specificity,axis=1).sort_values('cleavage specificity').iloc[::-1]\n",
    "    return drop_duplicates(cs).apply(add_diff,axis=1)"
   ]
  },
  {
   "cell_type": "code",
   "execution_count": 47,
   "metadata": {},
   "outputs": [
    {
     "data": {
      "text/html": [
       "<div>\n",
       "<style scoped>\n",
       "    .dataframe tbody tr th:only-of-type {\n",
       "        vertical-align: middle;\n",
       "    }\n",
       "\n",
       "    .dataframe tbody tr th {\n",
       "        vertical-align: top;\n",
       "    }\n",
       "\n",
       "    .dataframe thead th {\n",
       "        text-align: right;\n",
       "    }\n",
       "</style>\n",
       "<table border=\"1\" class=\"dataframe\">\n",
       "  <thead>\n",
       "    <tr style=\"text-align: right;\">\n",
       "      <th></th>\n",
       "      <th>miRNA</th>\n",
       "      <th>pstart</th>\n",
       "      <th>pend</th>\n",
       "      <th>hstart</th>\n",
       "      <th>hend</th>\n",
       "      <th>5frag</th>\n",
       "      <th>3frag</th>\n",
       "      <th>hairpin</th>\n",
       "      <th>cleavage specificity</th>\n",
       "      <th>diff</th>\n",
       "    </tr>\n",
       "  </thead>\n",
       "  <tbody>\n",
       "    <tr>\n",
       "      <th>11</th>\n",
       "      <td>hsa-let-7d</td>\n",
       "      <td>23</td>\n",
       "      <td>98</td>\n",
       "      <td>23</td>\n",
       "      <td>97</td>\n",
       "      <td>0.855623</td>\n",
       "      <td>0.877309</td>\n",
       "      <td>0.660441</td>\n",
       "      <td>0.846226</td>\n",
       "      <td>0</td>\n",
       "    </tr>\n",
       "    <tr>\n",
       "      <th>1</th>\n",
       "      <td>hsa-let-7d</td>\n",
       "      <td>23</td>\n",
       "      <td>98</td>\n",
       "      <td>22</td>\n",
       "      <td>96</td>\n",
       "      <td>0.071350</td>\n",
       "      <td>0.056300</td>\n",
       "      <td>0.000340</td>\n",
       "      <td>0.060273</td>\n",
       "      <td>-1</td>\n",
       "    </tr>\n",
       "    <tr>\n",
       "      <th>9</th>\n",
       "      <td>hsa-let-7d</td>\n",
       "      <td>23</td>\n",
       "      <td>98</td>\n",
       "      <td>24</td>\n",
       "      <td>98</td>\n",
       "      <td>0.050041</td>\n",
       "      <td>0.046503</td>\n",
       "      <td>0.001358</td>\n",
       "      <td>0.046329</td>\n",
       "      <td>0</td>\n",
       "    </tr>\n",
       "    <tr>\n",
       "      <th>14</th>\n",
       "      <td>hsa-let-7d</td>\n",
       "      <td>23</td>\n",
       "      <td>98</td>\n",
       "      <td>45</td>\n",
       "      <td>76</td>\n",
       "      <td>0.000217</td>\n",
       "      <td>0.000024</td>\n",
       "      <td>0.019694</td>\n",
       "      <td>0.009556</td>\n",
       "      <td>22</td>\n",
       "    </tr>\n",
       "    <tr>\n",
       "      <th>0</th>\n",
       "      <td>hsa-let-7d</td>\n",
       "      <td>23</td>\n",
       "      <td>98</td>\n",
       "      <td>1</td>\n",
       "      <td>125</td>\n",
       "      <td>0.000000</td>\n",
       "      <td>0.000000</td>\n",
       "      <td>0.000000</td>\n",
       "      <td>0.000000</td>\n",
       "      <td>-22</td>\n",
       "    </tr>\n",
       "  </tbody>\n",
       "</table>\n",
       "</div>"
      ],
      "text/plain": [
       "         miRNA  pstart  pend  hstart  hend     5frag     3frag   hairpin  \\\n",
       "11  hsa-let-7d      23    98      23    97  0.855623  0.877309  0.660441   \n",
       "1   hsa-let-7d      23    98      22    96  0.071350  0.056300  0.000340   \n",
       "9   hsa-let-7d      23    98      24    98  0.050041  0.046503  0.001358   \n",
       "14  hsa-let-7d      23    98      45    76  0.000217  0.000024  0.019694   \n",
       "0   hsa-let-7d      23    98       1   125  0.000000  0.000000  0.000000   \n",
       "\n",
       "    cleavage specificity  diff  \n",
       "11              0.846226     0  \n",
       "1               0.060273    -1  \n",
       "9               0.046329     0  \n",
       "14              0.009556    22  \n",
       "0               0.000000   -22  "
      ]
     },
     "execution_count": 47,
     "metadata": {},
     "output_type": "execute_result"
    }
   ],
   "source": [
    "get_dcs('hsa-let-7d', rcutoff, fcutoff, 'cleaved')"
   ]
  },
  {
   "cell_type": "code",
   "execution_count": 48,
   "metadata": {},
   "outputs": [
    {
     "name": "stdout",
     "output_type": "stream",
     "text": [
      "Mon Oct 12 15:23:43 2020\n",
      "Mon Oct 12 15:50:44 2020\n",
      "# of all sites:\t21625\n",
      "# of miRNAs:\t1749\n"
     ]
    }
   ],
   "source": [
    "print time.ctime()\n",
    "clvall = pd.DataFrame(columns=COLS)\n",
    "for mir in suffinps:\n",
    "    clvall = clvall.append(get_dcs(mir, rcutoff, fcutoff, 'cleaved'), ignore_index=True)\n",
    "clvall = clvall[COLS]\n",
    "print time.ctime()\n",
    "print '# of all sites:\\t%s' % len(clvall)\n",
    "print '# of miRNAs:\\t%s' % len(set(clvall['miRNA']))"
   ]
  },
  {
   "cell_type": "code",
   "execution_count": 36,
   "metadata": {},
   "outputs": [],
   "source": [
    "#clvall.to_csv('results/201013/201013_cleavage_specificity_SRSF3.csv')\n",
    "clvall = pd.read_csv('results/201013/201013_cleavage_specificity_SRSF3.csv', index_col=0)"
   ]
  },
  {
   "cell_type": "code",
   "execution_count": 37,
   "metadata": {},
   "outputs": [
    {
     "data": {
      "text/html": [
       "<div>\n",
       "<style scoped>\n",
       "    .dataframe tbody tr th:only-of-type {\n",
       "        vertical-align: middle;\n",
       "    }\n",
       "\n",
       "    .dataframe tbody tr th {\n",
       "        vertical-align: top;\n",
       "    }\n",
       "\n",
       "    .dataframe thead th {\n",
       "        text-align: right;\n",
       "    }\n",
       "</style>\n",
       "<table border=\"1\" class=\"dataframe\">\n",
       "  <thead>\n",
       "    <tr style=\"text-align: right;\">\n",
       "      <th></th>\n",
       "      <th>miRNA</th>\n",
       "      <th>pstart</th>\n",
       "      <th>pend</th>\n",
       "      <th>hstart</th>\n",
       "      <th>hend</th>\n",
       "      <th>5frag</th>\n",
       "      <th>3frag</th>\n",
       "      <th>hairpin</th>\n",
       "      <th>cleavage specificity</th>\n",
       "      <th>diff</th>\n",
       "    </tr>\n",
       "  </thead>\n",
       "  <tbody>\n",
       "    <tr>\n",
       "      <th>0</th>\n",
       "      <td>hsa-let-7a-1</td>\n",
       "      <td>25</td>\n",
       "      <td>96</td>\n",
       "      <td>25</td>\n",
       "      <td>96</td>\n",
       "      <td>0.938626</td>\n",
       "      <td>0.977131</td>\n",
       "      <td>0.706897</td>\n",
       "      <td>0.906288</td>\n",
       "      <td>0</td>\n",
       "    </tr>\n",
       "    <tr>\n",
       "      <th>1</th>\n",
       "      <td>hsa-let-7a-1</td>\n",
       "      <td>25</td>\n",
       "      <td>96</td>\n",
       "      <td>42</td>\n",
       "      <td>80</td>\n",
       "      <td>0.000229</td>\n",
       "      <td>0.000000</td>\n",
       "      <td>0.017241</td>\n",
       "      <td>0.008377</td>\n",
       "      <td>16</td>\n",
       "    </tr>\n",
       "    <tr>\n",
       "      <th>2</th>\n",
       "      <td>hsa-let-7a-1</td>\n",
       "      <td>25</td>\n",
       "      <td>96</td>\n",
       "      <td>47</td>\n",
       "      <td>75</td>\n",
       "      <td>0.000000</td>\n",
       "      <td>0.000000</td>\n",
       "      <td>0.017241</td>\n",
       "      <td>0.008268</td>\n",
       "      <td>21</td>\n",
       "    </tr>\n",
       "    <tr>\n",
       "      <th>3</th>\n",
       "      <td>hsa-let-7a-1</td>\n",
       "      <td>25</td>\n",
       "      <td>96</td>\n",
       "      <td>1</td>\n",
       "      <td>125</td>\n",
       "      <td>0.000000</td>\n",
       "      <td>0.000000</td>\n",
       "      <td>0.000000</td>\n",
       "      <td>0.000000</td>\n",
       "      <td>-24</td>\n",
       "    </tr>\n",
       "    <tr>\n",
       "      <th>4</th>\n",
       "      <td>hsa-let-7a-2</td>\n",
       "      <td>28</td>\n",
       "      <td>94</td>\n",
       "      <td>28</td>\n",
       "      <td>94</td>\n",
       "      <td>0.844472</td>\n",
       "      <td>0.959026</td>\n",
       "      <td>0.446768</td>\n",
       "      <td>0.807428</td>\n",
       "      <td>0</td>\n",
       "    </tr>\n",
       "  </tbody>\n",
       "</table>\n",
       "</div>"
      ],
      "text/plain": [
       "          miRNA  pstart  pend  hstart  hend     5frag     3frag   hairpin  \\\n",
       "0  hsa-let-7a-1      25    96      25    96  0.938626  0.977131  0.706897   \n",
       "1  hsa-let-7a-1      25    96      42    80  0.000229  0.000000  0.017241   \n",
       "2  hsa-let-7a-1      25    96      47    75  0.000000  0.000000  0.017241   \n",
       "3  hsa-let-7a-1      25    96       1   125  0.000000  0.000000  0.000000   \n",
       "4  hsa-let-7a-2      28    94      28    94  0.844472  0.959026  0.446768   \n",
       "\n",
       "   cleavage specificity  diff  \n",
       "0              0.906288     0  \n",
       "1              0.008377    16  \n",
       "2              0.008268    21  \n",
       "3              0.000000   -24  \n",
       "4              0.807428     0  "
      ]
     },
     "execution_count": 37,
     "metadata": {},
     "output_type": "execute_result"
    }
   ],
   "source": [
    "clvall.head()"
   ]
  },
  {
   "cell_type": "markdown",
   "metadata": {},
   "source": [
    "### 6. Cleavage type"
   ]
  },
  {
   "cell_type": "code",
   "execution_count": 38,
   "metadata": {},
   "outputs": [],
   "source": [
    "window = 3\n",
    "offset = 11\n",
    "procut = 1.4\n",
    "specut = .42\n",
    "altcut = .26\n",
    "imbcut = .2"
   ]
  },
  {
   "cell_type": "code",
   "execution_count": 39,
   "metadata": {},
   "outputs": [
    {
     "name": "stdout",
     "output_type": "stream",
     "text": [
      "1746\n"
     ]
    }
   ],
   "source": [
    "overlap = [ mir for mir in set(clvall['miRNA']) if mir in normprods ]\n",
    "print len(overlap)"
   ]
  },
  {
   "cell_type": "code",
   "execution_count": 40,
   "metadata": {},
   "outputs": [],
   "source": [
    "def get_dcs_all(procut, specut, window):\n",
    "    clvpro = clvall[abs(clvall['diff'])<=window]\n",
    "    clvsig = clvpro[clvpro['cleavage specificity']>=specut]\n",
    "    return [ mir for mir in set(clvsig['miRNA']) if normprods[mir]>=procut ]"
   ]
  },
  {
   "cell_type": "code",
   "execution_count": 41,
   "metadata": {},
   "outputs": [],
   "source": [
    "def get_dcs_multi(procut, specut, altcut, window):\n",
    "    clvpro = clvall[abs(clvall['diff'])<=window]\n",
    "    clvsig = clvpro[clvpro['cleavage specificity']>=specut]\n",
    "    clvcnts = Counter(clvpro[clvpro['cleavage specificity']>=altcut]['miRNA'])\n",
    "    return [ mir for mir in set(clvsig['miRNA']) if normprods[mir]>=procut and clvcnts[mir]>1 ]"
   ]
  },
  {
   "cell_type": "code",
   "execution_count": 42,
   "metadata": {},
   "outputs": [],
   "source": [
    "def get_dcs_single(procut, specut, altcut, window):\n",
    "    dcsmirs = get_dcs_all(procut, specut, window)\n",
    "    multi = get_dcs_multi(procut, specut, altcut, window)\n",
    "    return [ mir for mir in dcsmirs if mir not in multi ]"
   ]
  },
  {
   "cell_type": "code",
   "execution_count": 43,
   "metadata": {},
   "outputs": [],
   "source": [
    "def get_invert(specut, offset, window, mirexc):\n",
    "    clvinv = clvall[abs(clvall['diff']-offset)<=window]\n",
    "    clvsig = clvinv[clvinv['cleavage specificity']>=specut]\n",
    "    return [ mir for mir in set(clvsig['miRNA']) if mir not in mirexc ]"
   ]
  },
  {
   "cell_type": "code",
   "execution_count": 44,
   "metadata": {},
   "outputs": [],
   "source": [
    "def get_nick5(imbcut, window, mirexc):\n",
    "    clvpro = clvall[(abs(clvall['diff'])<=window)&(clvall['3frag']>0)]\n",
    "    clvn5 = clvpro[(clvpro['5frag']-clvpro['3frag'])>=imbcut]\n",
    "    return [ mir for mir in set(clvn5['miRNA']) if mir not in mirexc ]"
   ]
  },
  {
   "cell_type": "code",
   "execution_count": 45,
   "metadata": {},
   "outputs": [],
   "source": [
    "def get_nick3(imbcut, window, mirexc):\n",
    "    clvpro = clvall[(abs(clvall['diff'])<=window)&(clvall['5frag']>0)]\n",
    "    clvn3 = clvpro[(clvpro['3frag']-clvpro['5frag'])>=imbcut]\n",
    "    return [ mir for mir in set(clvn3['miRNA']) if mir not in mirexc ]"
   ]
  },
  {
   "cell_type": "code",
   "execution_count": 46,
   "metadata": {},
   "outputs": [
    {
     "name": "stdout",
     "output_type": "stream",
     "text": [
      "Productive: 681, Unproductive: 1065\n",
      "Single: 589, Multiple: 92, Inverted: 102, Nick: 52, Non-specific: 911\n",
      "5' nick: 26, 3' nick: 26\n"
     ]
    }
   ],
   "source": [
    "dcsmirs = get_dcs_all(procut, specut, window)\n",
    "single = get_dcs_single(procut, specut, altcut, window)\n",
    "multi = get_dcs_multi(procut, specut, altcut, window)\n",
    "\n",
    "nick5 = get_nick5(imbcut, window, dcsmirs)\n",
    "nick3 = get_nick3(imbcut, window, dcsmirs+nick5)\n",
    "nick = list(set(nick5+nick3))\n",
    "\n",
    "inverted = get_invert(specut, offset, window, dcsmirs+nick)\n",
    "nodcs = [ mir for mir in overlap if mir not in dcsmirs ]\n",
    "nonspec = [ mir for mir in nodcs if mir not in inverted+nick ]\n",
    "\n",
    "print 'Productive: %s, Unproductive: %s' % (len(dcsmirs), len(nodcs))\n",
    "print 'Single: %s, Multiple: %s, Inverted: %s, Nick: %s, Non-specific: %s'\\\n",
    "% (len(single), len(multi), len(inverted), len(nick), len(nonspec))\n",
    "print \"5' nick: %s, 3' nick: %s\" % (len(nick5), len(nick3))"
   ]
  },
  {
   "cell_type": "code",
   "execution_count": 47,
   "metadata": {},
   "outputs": [
    {
     "name": "stdout",
     "output_type": "stream",
     "text": [
      "let-7a-1 in unique: True\n",
      "mir-342 in multiple: True\n",
      "mir-17 in single: True\n",
      "mir-15a in single: True\n"
     ]
    }
   ],
   "source": [
    "print 'let-7a-1 in unique:', 'hsa-let-7a-1' in single\n",
    "print 'mir-342 in multiple:', 'hsa-mir-342' in multi\n",
    "print 'mir-17 in single:', 'hsa-mir-17' in single\n",
    "print 'mir-15a in single:', 'hsa-mir-15a' in single"
   ]
  },
  {
   "cell_type": "code",
   "execution_count": 48,
   "metadata": {},
   "outputs": [
    {
     "name": "stdout",
     "output_type": "stream",
     "text": [
      "1746\n"
     ]
    }
   ],
   "source": [
    "clvtypes = {}\n",
    "clvtypes.update({mir:'single' for mir in single})\n",
    "clvtypes.update({mir:'multiple' for mir in multi})\n",
    "clvtypes.update({mir:'inverted' for mir in inverted})\n",
    "clvtypes.update({mir:'nick5' for mir in nick5})\n",
    "clvtypes.update({mir:'nick3' for mir in nick3})\n",
    "clvtypes.update({mir:'non-specific' for mir in nonspec})\n",
    "print len(clvtypes)"
   ]
  },
  {
   "cell_type": "markdown",
   "metadata": {},
   "source": [
    "### 7. Comparison with Data w/o SRSF"
   ]
  },
  {
   "cell_type": "code",
   "execution_count": 51,
   "metadata": {},
   "outputs": [],
   "source": [
    "s6uniq = s6[~s6.index.duplicated()]\n",
    "productive_wo_srsf3 = {m:2**cp-1 for m,cp in s6uniq['Cleavage Productivity'].items()}\n",
    "productive_w_srsf3 = {m:2**cp-1 for m,cp in normprods.items()}"
   ]
  },
  {
   "cell_type": "code",
   "execution_count": 52,
   "metadata": {},
   "outputs": [],
   "source": [
    "s6clv = s6[s6['Cleavage Specificity']>0].reset_index()\n",
    "alternative_wo_srsf3 = { m:2**sorted(grp['Cleavage Specificity'])[-2]-1\n",
    "                         if len(grp)>1 else 0 for m,grp in s6clv.groupby('Pri-miRNA') }\n",
    "s8clv = clvall[(clvall['diff'].apply(abs)<=window)&(clvall['cleavage specificity']>0)]\n",
    "alternative_w_srsf3 = { m:2**sorted(grp['cleavage specificity'])[-2]-1\n",
    "                        if len(grp)>1 else 0 for m,grp in s8clv.groupby('miRNA') }"
   ]
  },
  {
   "cell_type": "code",
   "execution_count": 53,
   "metadata": {},
   "outputs": [],
   "source": [
    "nick_wo_srsf3 = { m:grp['Cleavage Imbalance'].sum() for m,grp in s6clv.groupby('Pri-miRNA') }\n",
    "nick_w_srsf3 = { m:(grp['5frag']-grp['3frag']).sum() for m,grp in s8clv.groupby('miRNA') }"
   ]
  },
  {
   "cell_type": "code",
   "execution_count": 54,
   "metadata": {},
   "outputs": [],
   "source": [
    "s6det = s6uniq[s6uniq['Cleaved']>0]\n",
    "inv_wo_srsf3 = (s6det['Inversely cleaved']/s6det['Cleaved']).to_dict()\n",
    "inv_w_srsf3 = { m:invcnts[m]/clvcnts[m] for m in suffinps if clvcnts[m]>0 }"
   ]
  },
  {
   "cell_type": "code",
   "execution_count": 55,
   "metadata": {},
   "outputs": [
    {
     "name": "stdout",
     "output_type": "stream",
     "text": [
      "1502\n"
     ]
    }
   ],
   "source": [
    "ovpro = set(productive_wo_srsf3.keys())&set(productive_w_srsf3.keys())\n",
    "ovalt = set(alternative_wo_srsf3.keys())&set(alternative_w_srsf3.keys())\n",
    "ovnic = set(nick_wo_srsf3.keys())&set(nick_w_srsf3.keys())\n",
    "ovinv = set(inv_wo_srsf3.keys())&set(inv_w_srsf3.keys())\n",
    "ovall = ovpro&ovalt&ovnic&ovinv\n",
    "print len(ovall)"
   ]
  },
  {
   "cell_type": "markdown",
   "metadata": {},
   "source": [
    "### 8. Build table"
   ]
  },
  {
   "cell_type": "code",
   "execution_count": 56,
   "metadata": {},
   "outputs": [
    {
     "name": "stdout",
     "output_type": "stream",
     "text": [
      "1816 1816\n"
     ]
    }
   ],
   "source": [
    "prosmp = s6['Cleavage Productivity'].to_dict()\n",
    "proclv = s6[abs(s6['Relative position from miRBase site'])<=window]\\\n",
    ".sort_values('Cleavage Specificity')\n",
    "spesmp = proclv[~proclv.index.duplicated(keep='last')]['Cleavage Specificity'].to_dict()\n",
    "print len(prosmp), len(spesmp)"
   ]
  },
  {
   "cell_type": "code",
   "execution_count": 57,
   "metadata": {},
   "outputs": [
    {
     "name": "stdout",
     "output_type": "stream",
     "text": [
      "1571\n"
     ]
    },
    {
     "data": {
      "text/html": [
       "<div>\n",
       "<style scoped>\n",
       "    .dataframe tbody tr th:only-of-type {\n",
       "        vertical-align: middle;\n",
       "    }\n",
       "\n",
       "    .dataframe tbody tr th {\n",
       "        vertical-align: top;\n",
       "    }\n",
       "\n",
       "    .dataframe thead th {\n",
       "        text-align: right;\n",
       "    }\n",
       "</style>\n",
       "<table border=\"1\" class=\"dataframe\">\n",
       "  <thead>\n",
       "    <tr style=\"text-align: right;\">\n",
       "      <th></th>\n",
       "      <th>pstart</th>\n",
       "      <th>pend</th>\n",
       "      <th>hstart</th>\n",
       "      <th>hend</th>\n",
       "      <th>5frag</th>\n",
       "      <th>3frag</th>\n",
       "      <th>hairpin</th>\n",
       "      <th>cleavage specificity</th>\n",
       "      <th>diff</th>\n",
       "    </tr>\n",
       "    <tr>\n",
       "      <th>miRNA</th>\n",
       "      <th></th>\n",
       "      <th></th>\n",
       "      <th></th>\n",
       "      <th></th>\n",
       "      <th></th>\n",
       "      <th></th>\n",
       "      <th></th>\n",
       "      <th></th>\n",
       "      <th></th>\n",
       "    </tr>\n",
       "  </thead>\n",
       "  <tbody>\n",
       "    <tr>\n",
       "      <th>hsa-mir-144</th>\n",
       "      <td>33</td>\n",
       "      <td>89</td>\n",
       "      <td>33</td>\n",
       "      <td>90</td>\n",
       "      <td>0.968697</td>\n",
       "      <td>0.980164</td>\n",
       "      <td>0.951562</td>\n",
       "      <td>0.975856</td>\n",
       "      <td>0</td>\n",
       "    </tr>\n",
       "    <tr>\n",
       "      <th>hsa-mir-7-3</th>\n",
       "      <td>31</td>\n",
       "      <td>125</td>\n",
       "      <td>31</td>\n",
       "      <td>90</td>\n",
       "      <td>0.981457</td>\n",
       "      <td>0.973863</td>\n",
       "      <td>0.918292</td>\n",
       "      <td>0.969286</td>\n",
       "      <td>0</td>\n",
       "    </tr>\n",
       "    <tr>\n",
       "      <th>hsa-mir-125a</th>\n",
       "      <td>31</td>\n",
       "      <td>90</td>\n",
       "      <td>31</td>\n",
       "      <td>90</td>\n",
       "      <td>0.980695</td>\n",
       "      <td>0.963694</td>\n",
       "      <td>0.925631</td>\n",
       "      <td>0.968403</td>\n",
       "      <td>0</td>\n",
       "    </tr>\n",
       "    <tr>\n",
       "      <th>hsa-mir-514b</th>\n",
       "      <td>33</td>\n",
       "      <td>90</td>\n",
       "      <td>33</td>\n",
       "      <td>90</td>\n",
       "      <td>0.967912</td>\n",
       "      <td>0.972678</td>\n",
       "      <td>0.917978</td>\n",
       "      <td>0.965585</td>\n",
       "      <td>0</td>\n",
       "    </tr>\n",
       "    <tr>\n",
       "      <th>hsa-mir-302b</th>\n",
       "      <td>32</td>\n",
       "      <td>90</td>\n",
       "      <td>32</td>\n",
       "      <td>90</td>\n",
       "      <td>0.937693</td>\n",
       "      <td>0.978191</td>\n",
       "      <td>0.941980</td>\n",
       "      <td>0.965412</td>\n",
       "      <td>0</td>\n",
       "    </tr>\n",
       "  </tbody>\n",
       "</table>\n",
       "</div>"
      ],
      "text/plain": [
       "              pstart  pend  hstart  hend     5frag     3frag   hairpin  \\\n",
       "miRNA                                                                    \n",
       "hsa-mir-144       33    89      33    90  0.968697  0.980164  0.951562   \n",
       "hsa-mir-7-3       31   125      31    90  0.981457  0.973863  0.918292   \n",
       "hsa-mir-125a      31    90      31    90  0.980695  0.963694  0.925631   \n",
       "hsa-mir-514b      33    90      33    90  0.967912  0.972678  0.917978   \n",
       "hsa-mir-302b      32    90      32    90  0.937693  0.978191  0.941980   \n",
       "\n",
       "              cleavage specificity  diff  \n",
       "miRNA                                     \n",
       "hsa-mir-144               0.975856     0  \n",
       "hsa-mir-7-3               0.969286     0  \n",
       "hsa-mir-125a              0.968403     0  \n",
       "hsa-mir-514b              0.965585     0  \n",
       "hsa-mir-302b              0.965412     0  "
      ]
     },
     "execution_count": 57,
     "metadata": {},
     "output_type": "execute_result"
    }
   ],
   "source": [
    "clvpro = clvall[(clvall['diff'].apply(abs)<=window)&(clvall['cleavage specificity']>0)]\n",
    "clvmax = clvpro.sort_values('cleavage specificity', ascending=False).drop_duplicates('miRNA')\\\n",
    ".set_index('miRNA')\n",
    "print len(clvmax)\n",
    "clvmax.head()"
   ]
  },
  {
   "cell_type": "code",
   "execution_count": 58,
   "metadata": {},
   "outputs": [
    {
     "name": "stdout",
     "output_type": "stream",
     "text": [
      "1745 1570 175\n"
     ]
    }
   ],
   "source": [
    "mlist = [ mir for mir in overlap if mir in prosmp.keys() ]\n",
    "mlistpro = [ mir for mir in mlist if mir in clvmax.index ]\n",
    "mlistnp = [ mir for mir in mlist if mir not in clvmax.index ]\n",
    "print len(mlist), len(mlistpro), len(mlistnp)"
   ]
  },
  {
   "cell_type": "code",
   "execution_count": 59,
   "metadata": {},
   "outputs": [],
   "source": [
    "def get_clv_info(mir, hstart, hend):\n",
    "    chrom, pstart, pend, strand = s2.loc[mir,['Chr','Start','End','Strand']]\n",
    "    if strand=='+':\n",
    "        clv5 = pstart+hstart-1\n",
    "        clv3 = pstart+hend-1\n",
    "    else:\n",
    "        clv5 = pend-hstart+1\n",
    "        clv3 = pend-hend+1\n",
    "    return chrom, clv5, clv3, strand"
   ]
  },
  {
   "cell_type": "code",
   "execution_count": 60,
   "metadata": {},
   "outputs": [],
   "source": [
    "cols = [ 'Pri-miRNA', 'Chr', \"5' cleavage site\", \"3' cleavage site\", 'Strand', 'Cleavage type',\n",
    "         'CP_wo_SRSF3', 'CP_w_SRSF3', 'CS_wo_SRSF3', 'CS_w_SRSF3', 'Productive_wo_SRSF3',\n",
    "         'Productive_w_SRSF3', 'Alternative_wo_SRSF3', 'Alternative_w_SRSF3', 'Nick_wo_SRSF3',\n",
    "         'Nick_w_SRSF3', 'Inverted_wo_SRSF3', 'Inverted_w_SRSF3' ]"
   ]
  },
  {
   "cell_type": "code",
   "execution_count": 61,
   "metadata": {},
   "outputs": [],
   "source": [
    "tbl = pd.DataFrame(columns=cols)\n",
    "for mir in mlistpro:\n",
    "    hs, he, mcs = clvmax.loc[mir,['hstart','hend','cleavage specificity']]\n",
    "    chrom, cs5, cs3, strand = get_clv_info(mir, hs, he)\n",
    "    ctype = clvtypes[mir]\n",
    "    cp_wo_srsf3 = prosmp[mir]\n",
    "    cp_w_srsf3 = normprods[mir]\n",
    "    cs_wo_srsf3 = spesmp[mir]\n",
    "    cs_w_srsf3 = mcs\n",
    "    if mir in ovall:\n",
    "        tbl = tbl.append(dict(zip(cols,[mir,chrom,cs5,cs3,strand,ctype,cp_wo_srsf3,cp_w_srsf3, \n",
    "                    cs_wo_srsf3,cs_w_srsf3,productive_wo_srsf3[mir],productive_w_srsf3[mir],\n",
    "                    alternative_wo_srsf3[mir],alternative_w_srsf3[mir],nick_wo_srsf3[mir],\n",
    "                    nick_w_srsf3[mir],inv_wo_srsf3[mir],inv_w_srsf3[mir]])),ignore_index=True)\n",
    "    else:\n",
    "        tbl = tbl.append(dict(zip(cols,[mir,chrom,cs5,cs3,strand,ctype,cp_wo_srsf3,cp_w_srsf3, \n",
    "                    cs_wo_srsf3,cs_w_srsf3])),ignore_index=True)"
   ]
  },
  {
   "cell_type": "code",
   "execution_count": 62,
   "metadata": {},
   "outputs": [],
   "source": [
    "for mir in mlistnp:\n",
    "    cp_wo_srsf3 = prosmp[mir]\n",
    "    cp_w_srsf3 = normprods[mir]\n",
    "    cs_wo_srsf3 = spesmp[mir]\n",
    "    ctype = clvtypes[mir]\n",
    "    tbl = tbl.append(dict(zip(cols,[mir,'n.a.','n.a.','n.a.','n.a.',ctype,cp_wo_srsf3,cp_w_srsf3,\n",
    "                        cs_wo_srsf3,0])), ignore_index=True)"
   ]
  },
  {
   "cell_type": "code",
   "execution_count": 63,
   "metadata": {},
   "outputs": [
    {
     "name": "stdout",
     "output_type": "stream",
     "text": [
      "1745\n"
     ]
    }
   ],
   "source": [
    "tbl = tbl.sort_values('Pri-miRNA').set_index('Pri-miRNA')\n",
    "print len(set(tbl.index))"
   ]
  },
  {
   "cell_type": "code",
   "execution_count": 64,
   "metadata": {},
   "outputs": [
    {
     "data": {
      "text/html": [
       "<div>\n",
       "<style scoped>\n",
       "    .dataframe tbody tr th:only-of-type {\n",
       "        vertical-align: middle;\n",
       "    }\n",
       "\n",
       "    .dataframe tbody tr th {\n",
       "        vertical-align: top;\n",
       "    }\n",
       "\n",
       "    .dataframe thead th {\n",
       "        text-align: right;\n",
       "    }\n",
       "</style>\n",
       "<table border=\"1\" class=\"dataframe\">\n",
       "  <thead>\n",
       "    <tr style=\"text-align: right;\">\n",
       "      <th></th>\n",
       "      <th>Chr</th>\n",
       "      <th>5' cleavage site</th>\n",
       "      <th>3' cleavage site</th>\n",
       "      <th>Strand</th>\n",
       "      <th>Cleavage type</th>\n",
       "      <th>CP_wo_SRSF3</th>\n",
       "      <th>CP_w_SRSF3</th>\n",
       "      <th>CS_wo_SRSF3</th>\n",
       "      <th>CS_w_SRSF3</th>\n",
       "      <th>Productive_wo_SRSF3</th>\n",
       "      <th>Productive_w_SRSF3</th>\n",
       "      <th>Alternative_wo_SRSF3</th>\n",
       "      <th>Alternative_w_SRSF3</th>\n",
       "      <th>Nick_wo_SRSF3</th>\n",
       "      <th>Nick_w_SRSF3</th>\n",
       "      <th>Inverted_wo_SRSF3</th>\n",
       "      <th>Inverted_w_SRSF3</th>\n",
       "    </tr>\n",
       "    <tr>\n",
       "      <th>Pri-miRNA</th>\n",
       "      <th></th>\n",
       "      <th></th>\n",
       "      <th></th>\n",
       "      <th></th>\n",
       "      <th></th>\n",
       "      <th></th>\n",
       "      <th></th>\n",
       "      <th></th>\n",
       "      <th></th>\n",
       "      <th></th>\n",
       "      <th></th>\n",
       "      <th></th>\n",
       "      <th></th>\n",
       "      <th></th>\n",
       "      <th></th>\n",
       "      <th></th>\n",
       "      <th></th>\n",
       "    </tr>\n",
       "  </thead>\n",
       "  <tbody>\n",
       "    <tr>\n",
       "      <th>hsa-let-7a-1</th>\n",
       "      <td>chr9</td>\n",
       "      <td>9.4176e+07</td>\n",
       "      <td>9.4176e+07</td>\n",
       "      <td>+</td>\n",
       "      <td>single</td>\n",
       "      <td>5.047200</td>\n",
       "      <td>10.189134</td>\n",
       "      <td>0.912688</td>\n",
       "      <td>0.906288</td>\n",
       "      <td>32.064234</td>\n",
       "      <td>1166.440704</td>\n",
       "      <td>0.017713</td>\n",
       "      <td>0</td>\n",
       "      <td>-0.009062</td>\n",
       "      <td>-0.038505</td>\n",
       "      <td>0.000719</td>\n",
       "      <td>0.001198</td>\n",
       "    </tr>\n",
       "    <tr>\n",
       "      <th>hsa-let-7a-2</th>\n",
       "      <td>chr11</td>\n",
       "      <td>1.22147e+08</td>\n",
       "      <td>1.22147e+08</td>\n",
       "      <td>-</td>\n",
       "      <td>single</td>\n",
       "      <td>4.199327</td>\n",
       "      <td>9.115665</td>\n",
       "      <td>0.838326</td>\n",
       "      <td>0.807428</td>\n",
       "      <td>17.370601</td>\n",
       "      <td>553.738930</td>\n",
       "      <td>0.000000</td>\n",
       "      <td>0.0261171</td>\n",
       "      <td>-0.184113</td>\n",
       "      <td>-0.059823</td>\n",
       "      <td>0.015811</td>\n",
       "      <td>0.040072</td>\n",
       "    </tr>\n",
       "    <tr>\n",
       "      <th>hsa-let-7a-3</th>\n",
       "      <td>chr22</td>\n",
       "      <td>4.61128e+07</td>\n",
       "      <td>4.61128e+07</td>\n",
       "      <td>+</td>\n",
       "      <td>single</td>\n",
       "      <td>2.405940</td>\n",
       "      <td>6.810394</td>\n",
       "      <td>0.584654</td>\n",
       "      <td>0.709306</td>\n",
       "      <td>4.299808</td>\n",
       "      <td>111.236207</td>\n",
       "      <td>0.095455</td>\n",
       "      <td>0.0986152</td>\n",
       "      <td>0.001902</td>\n",
       "      <td>0.009714</td>\n",
       "      <td>0.022172</td>\n",
       "      <td>0.005435</td>\n",
       "    </tr>\n",
       "    <tr>\n",
       "      <th>hsa-let-7b</th>\n",
       "      <td>chr22</td>\n",
       "      <td>4.61137e+07</td>\n",
       "      <td>4.61138e+07</td>\n",
       "      <td>+</td>\n",
       "      <td>single</td>\n",
       "      <td>3.906021</td>\n",
       "      <td>9.640643</td>\n",
       "      <td>0.821828</td>\n",
       "      <td>0.817137</td>\n",
       "      <td>13.990958</td>\n",
       "      <td>797.220308</td>\n",
       "      <td>0.009933</td>\n",
       "      <td>0</td>\n",
       "      <td>-0.030746</td>\n",
       "      <td>-0.025850</td>\n",
       "      <td>0.015024</td>\n",
       "      <td>0.003285</td>\n",
       "    </tr>\n",
       "    <tr>\n",
       "      <th>hsa-let-7c</th>\n",
       "      <td>chr21</td>\n",
       "      <td>1.65398e+07</td>\n",
       "      <td>1.65399e+07</td>\n",
       "      <td>+</td>\n",
       "      <td>single</td>\n",
       "      <td>0.553681</td>\n",
       "      <td>8.199906</td>\n",
       "      <td>0.163190</td>\n",
       "      <td>0.738939</td>\n",
       "      <td>0.467826</td>\n",
       "      <td>293.047554</td>\n",
       "      <td>0.008762</td>\n",
       "      <td>0.029409</td>\n",
       "      <td>0.050677</td>\n",
       "      <td>-0.080467</td>\n",
       "      <td>0.561295</td>\n",
       "      <td>0.026231</td>\n",
       "    </tr>\n",
       "  </tbody>\n",
       "</table>\n",
       "</div>"
      ],
      "text/plain": [
       "                Chr 5' cleavage site 3' cleavage site Strand Cleavage type  \\\n",
       "Pri-miRNA                                                                    \n",
       "hsa-let-7a-1   chr9       9.4176e+07       9.4176e+07      +        single   \n",
       "hsa-let-7a-2  chr11      1.22147e+08      1.22147e+08      -        single   \n",
       "hsa-let-7a-3  chr22      4.61128e+07      4.61128e+07      +        single   \n",
       "hsa-let-7b    chr22      4.61137e+07      4.61138e+07      +        single   \n",
       "hsa-let-7c    chr21      1.65398e+07      1.65399e+07      +        single   \n",
       "\n",
       "              CP_wo_SRSF3  CP_w_SRSF3  CS_wo_SRSF3  CS_w_SRSF3  \\\n",
       "Pri-miRNA                                                        \n",
       "hsa-let-7a-1     5.047200   10.189134     0.912688    0.906288   \n",
       "hsa-let-7a-2     4.199327    9.115665     0.838326    0.807428   \n",
       "hsa-let-7a-3     2.405940    6.810394     0.584654    0.709306   \n",
       "hsa-let-7b       3.906021    9.640643     0.821828    0.817137   \n",
       "hsa-let-7c       0.553681    8.199906     0.163190    0.738939   \n",
       "\n",
       "              Productive_wo_SRSF3  Productive_w_SRSF3  Alternative_wo_SRSF3  \\\n",
       "Pri-miRNA                                                                     \n",
       "hsa-let-7a-1            32.064234         1166.440704              0.017713   \n",
       "hsa-let-7a-2            17.370601          553.738930              0.000000   \n",
       "hsa-let-7a-3             4.299808          111.236207              0.095455   \n",
       "hsa-let-7b              13.990958          797.220308              0.009933   \n",
       "hsa-let-7c               0.467826          293.047554              0.008762   \n",
       "\n",
       "             Alternative_w_SRSF3  Nick_wo_SRSF3  Nick_w_SRSF3  \\\n",
       "Pri-miRNA                                                       \n",
       "hsa-let-7a-1                   0      -0.009062     -0.038505   \n",
       "hsa-let-7a-2           0.0261171      -0.184113     -0.059823   \n",
       "hsa-let-7a-3           0.0986152       0.001902      0.009714   \n",
       "hsa-let-7b                     0      -0.030746     -0.025850   \n",
       "hsa-let-7c              0.029409       0.050677     -0.080467   \n",
       "\n",
       "              Inverted_wo_SRSF3  Inverted_w_SRSF3  \n",
       "Pri-miRNA                                          \n",
       "hsa-let-7a-1           0.000719          0.001198  \n",
       "hsa-let-7a-2           0.015811          0.040072  \n",
       "hsa-let-7a-3           0.022172          0.005435  \n",
       "hsa-let-7b             0.015024          0.003285  \n",
       "hsa-let-7c             0.561295          0.026231  "
      ]
     },
     "execution_count": 64,
     "metadata": {},
     "output_type": "execute_result"
    }
   ],
   "source": [
    "tbl.head()"
   ]
  },
  {
   "cell_type": "code",
   "execution_count": 65,
   "metadata": {},
   "outputs": [],
   "source": [
    "tbl.to_csv('resources/201012_s8_cleavage-patterns-srsf3.csv')"
   ]
  },
  {
   "cell_type": "code",
   "execution_count": 66,
   "metadata": {},
   "outputs": [],
   "source": [
    "out = open('supplementary/201012_s8_cleavage-patterns-srsf3.csv', 'wt')\n",
    "description = 'Supplementary Table 8. Microprocessor IVP with SRSF3 \\n\\n\\n\\n\\n'\n",
    "out.write(description)\n",
    "for l in open('resources/201012_s8_cleavage-patterns-srsf3.csv', 'rt'):\n",
    "    out.write(l)\n",
    "out.close()"
   ]
  },
  {
   "cell_type": "code",
   "execution_count": null,
   "metadata": {},
   "outputs": [],
   "source": []
  }
 ],
 "metadata": {
  "kernelspec": {
   "display_name": "Python 2",
   "language": "python",
   "name": "python2"
  },
  "language_info": {
   "codemirror_mode": {
    "name": "ipython",
    "version": 2
   },
   "file_extension": ".py",
   "mimetype": "text/x-python",
   "name": "python",
   "nbconvert_exporter": "python",
   "pygments_lexer": "ipython2",
   "version": "2.7.18"
  }
 },
 "nbformat": 4,
 "nbformat_minor": 2
}
