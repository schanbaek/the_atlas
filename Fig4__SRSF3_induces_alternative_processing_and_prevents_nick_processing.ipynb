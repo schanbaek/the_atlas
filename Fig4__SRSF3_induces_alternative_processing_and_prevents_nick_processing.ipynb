{
 "cells": [
  {
   "cell_type": "markdown",
   "metadata": {},
   "source": [
    "# Figure 4. SRSF3 induces alternative processing and prevents nick processing\n",
    "B. Volcano plot for pri-mir-142 from MS"
   ]
  },
  {
   "cell_type": "code",
   "execution_count": 1,
   "metadata": {},
   "outputs": [
    {
     "name": "stdout",
     "output_type": "stream",
     "text": [
      "Last revised by Seungchan Baek at 2020-10-13.\n"
     ]
    }
   ],
   "source": [
    "import time\n",
    "today = time.strftime('%Y-%m-%d')\n",
    "name = 'Seungchan Baek'\n",
    "print 'Last revised by %s at %s.' % (name, today)"
   ]
  },
  {
   "cell_type": "code",
   "execution_count": 2,
   "metadata": {},
   "outputs": [
    {
     "name": "stdout",
     "output_type": "stream",
     "text": [
      "/casa/bsc/projects/1_DCS/2004_paper_prep\n"
     ]
    }
   ],
   "source": [
    "home = '/casa/bsc/projects/1_DCS/2004_paper_prep/'\n",
    "%cd $home"
   ]
  },
  {
   "cell_type": "code",
   "execution_count": 3,
   "metadata": {},
   "outputs": [
    {
     "name": "stdout",
     "output_type": "stream",
     "text": [
      "resultpath: results/201013/\n"
     ]
    }
   ],
   "source": [
    "from __future__ import division\n",
    "import sys; sys.path.append('/casa/bsc/notebooks/')\n",
    "from basic import gen_result_dir\n",
    "resultpath = gen_result_dir('results/')\n",
    "print 'resultpath:', resultpath"
   ]
  },
  {
   "cell_type": "code",
   "execution_count": 4,
   "metadata": {},
   "outputs": [],
   "source": [
    "import pandas as pd\n",
    "import numpy as np\n",
    "from matplotlib import pyplot as plt\n",
    "%matplotlib inline"
   ]
  },
  {
   "cell_type": "markdown",
   "metadata": {},
   "source": [
    "# B. Volcano plot for pri-mir-142 from MS"
   ]
  },
  {
   "cell_type": "code",
   "execution_count": 5,
   "metadata": {
    "scrolled": true
   },
   "outputs": [
    {
     "data": {
      "text/html": [
       "<div>\n",
       "<style scoped>\n",
       "    .dataframe tbody tr th:only-of-type {\n",
       "        vertical-align: middle;\n",
       "    }\n",
       "\n",
       "    .dataframe tbody tr th {\n",
       "        vertical-align: top;\n",
       "    }\n",
       "\n",
       "    .dataframe thead th {\n",
       "        text-align: right;\n",
       "    }\n",
       "</style>\n",
       "<table border=\"1\" class=\"dataframe\">\n",
       "  <thead>\n",
       "    <tr style=\"text-align: right;\">\n",
       "      <th></th>\n",
       "      <th>log2FC</th>\n",
       "      <th>AveExpr</th>\n",
       "      <th>EffSize</th>\n",
       "      <th>t</th>\n",
       "      <th>P.Value</th>\n",
       "      <th>adj.P.Val</th>\n",
       "    </tr>\n",
       "    <tr>\n",
       "      <th>genes</th>\n",
       "      <th></th>\n",
       "      <th></th>\n",
       "      <th></th>\n",
       "      <th></th>\n",
       "      <th></th>\n",
       "      <th></th>\n",
       "    </tr>\n",
       "  </thead>\n",
       "  <tbody>\n",
       "    <tr>\n",
       "      <th>SRSF3</th>\n",
       "      <td>4.649891</td>\n",
       "      <td>12.020791</td>\n",
       "      <td>9.739940</td>\n",
       "      <td>13.001981</td>\n",
       "      <td>0.000010</td>\n",
       "      <td>0.001701</td>\n",
       "    </tr>\n",
       "    <tr>\n",
       "      <th>ILF3</th>\n",
       "      <td>4.082434</td>\n",
       "      <td>12.248714</td>\n",
       "      <td>6.107925</td>\n",
       "      <td>10.546350</td>\n",
       "      <td>0.000036</td>\n",
       "      <td>0.001959</td>\n",
       "    </tr>\n",
       "    <tr>\n",
       "      <th>RPL27A</th>\n",
       "      <td>3.240463</td>\n",
       "      <td>10.678164</td>\n",
       "      <td>6.697254</td>\n",
       "      <td>10.749487</td>\n",
       "      <td>0.000032</td>\n",
       "      <td>0.001959</td>\n",
       "    </tr>\n",
       "    <tr>\n",
       "      <th>ILF2</th>\n",
       "      <td>2.909337</td>\n",
       "      <td>13.197674</td>\n",
       "      <td>4.615101</td>\n",
       "      <td>8.245620</td>\n",
       "      <td>0.000150</td>\n",
       "      <td>0.006120</td>\n",
       "    </tr>\n",
       "    <tr>\n",
       "      <th>RPL17</th>\n",
       "      <td>3.308482</td>\n",
       "      <td>14.909315</td>\n",
       "      <td>3.277623</td>\n",
       "      <td>5.867361</td>\n",
       "      <td>0.000988</td>\n",
       "      <td>0.014647</td>\n",
       "    </tr>\n",
       "  </tbody>\n",
       "</table>\n",
       "</div>"
      ],
      "text/plain": [
       "          log2FC    AveExpr   EffSize          t   P.Value  adj.P.Val\n",
       "genes                                                                \n",
       "SRSF3   4.649891  12.020791  9.739940  13.001981  0.000010   0.001701\n",
       "ILF3    4.082434  12.248714  6.107925  10.546350  0.000036   0.001959\n",
       "RPL27A  3.240463  10.678164  6.697254  10.749487  0.000032   0.001959\n",
       "ILF2    2.909337  13.197674  4.615101   8.245620  0.000150   0.006120\n",
       "RPL17   3.308482  14.909315  3.277623   5.867361  0.000988   0.014647"
      ]
     },
     "execution_count": 5,
     "metadata": {},
     "output_type": "execute_result"
    }
   ],
   "source": [
    "mstbl = pd.read_csv('supplementary/MS/142_vs_No bait_all.csv', index_col=0)\n",
    "mstbl.head()"
   ]
  },
  {
   "cell_type": "code",
   "execution_count": 6,
   "metadata": {},
   "outputs": [],
   "source": [
    "xs = mstbl['log2FC']\n",
    "ys = -np.log10(mstbl['adj.P.Val'])\n",
    "lw = .8\n",
    "s = 15\n",
    "color, ecolor, colorsub = '#464646', 'black', 'tab:red'\n",
    "alpha = .7\n",
    "proteins = mstbl[(mstbl['log2FC']>=2)&(mstbl['adj.P.Val']<.05)].index\n",
    "xssub = mstbl.loc[proteins, 'log2FC']\n",
    "yssub = -np.log10(mstbl.loc[proteins,'adj.P.Val'])\n",
    "ymin, ymax = -.1, 3\n",
    "xmin, xmax = -3.7, 5\n",
    "cutx, cuty = 2, -np.log10(.005)"
   ]
  },
  {
   "cell_type": "code",
   "execution_count": 7,
   "metadata": {},
   "outputs": [
    {
     "data": {
      "text/plain": [
       "Text(3.9,1.45,u'HNRNPH2; RPL35')"
      ]
     },
     "execution_count": 7,
     "metadata": {},
     "output_type": "execute_result"
    },
    {
     "data": {
      "image/png": "[encoded data removed]",
      "text/plain": [
       "<matplotlib.figure.Figure at 0x7f6f3dcc1490>"
      ]
     },
     "metadata": {},
     "output_type": "display_data"
    }
   ],
   "source": [
    "fig, ax = plt.subplots(1, 1, figsize=(3,3))\n",
    "ax.scatter(xs, ys, s=s, facecolor=color, edgecolor=ecolor, lw=lw, alpha=alpha, zorder=2)\n",
    "ax.scatter(xssub, yssub, s=s, color=colorsub, alpha=alpha, zorder=2)\n",
    "\n",
    "ax.set_xlim(xmin, xmax)\n",
    "ax.set_ylim(ymin, ymax)\n",
    "ax.set_xlabel('Protein enrichment\\n(log2 mir-142/no bait)', fontsize=12)\n",
    "ax.set_ylabel('-log10 (adj. p-value)', fontsize=12)\n",
    "ax.spines['left'].set_bounds(0, ymax)\n",
    "\n",
    "sq = plt.Rectangle((xmin,-.03), xmax-xmin, ymax+.05, fc='white', alpha=.3); ax.add_patch(sq)\n",
    "ax.grid(ls='-', lw=.5, clip_path=sq)\n",
    "ax.axhline(-np.log10(.05),color='k',ls='--',lw=1)\n",
    "ax.axvline(2,color='k',ls='--',lw=1)\n",
    "ax.text(4.9, 2.8, 'SRSF3'); ax.text(4.05,2.45,'ILF3')\n",
    "ax.text(3.2,2.15,'ILF2'); ax.text(3.6,1.9,'RPL26; RPS9')\n",
    "ax.text(1.4,2.8,'RPL27A',bbox={'pad':0,'facecolor':'w','alpha':.8,'lw':0})\n",
    "ax.text(1.6,1.8,'RPL17',bbox={'pad':0,'facecolor':'w','alpha':.8,'lw':0})\n",
    "ax.text(2.1,1.5,'RPS6',ha='right',bbox={'pad':.1,'facecolor':'w','alpha':.8,'lw':0})\n",
    "ax.text(2.5,1.33,'GNL3',bbox={'pad':.1,'facecolor':'w','alpha':.8,'lw':0})\n",
    "ax.plot([3.4,4.25], [1.63, 1.7], 'k--', lw=1)\n",
    "ax.text(4.3, 1.65, 'ADAR'); ax.text(3.9,1.45,'HNRNPH2; RPL35')\n",
    "#fig.savefig(resultpath+'200924_f4b__ms_enrichment_mir142.pdf')"
   ]
  },
  {
   "cell_type": "markdown",
   "metadata": {},
   "source": [
    "# E. Volcano plot for pri-mir-17 from MS"
   ]
  },
  {
   "cell_type": "code",
   "execution_count": 8,
   "metadata": {
    "scrolled": true
   },
   "outputs": [
    {
     "data": {
      "text/html": [
       "<div>\n",
       "<style scoped>\n",
       "    .dataframe tbody tr th:only-of-type {\n",
       "        vertical-align: middle;\n",
       "    }\n",
       "\n",
       "    .dataframe tbody tr th {\n",
       "        vertical-align: top;\n",
       "    }\n",
       "\n",
       "    .dataframe thead th {\n",
       "        text-align: right;\n",
       "    }\n",
       "</style>\n",
       "<table border=\"1\" class=\"dataframe\">\n",
       "  <thead>\n",
       "    <tr style=\"text-align: right;\">\n",
       "      <th></th>\n",
       "      <th>log2FC</th>\n",
       "      <th>AveExpr</th>\n",
       "      <th>EffSize</th>\n",
       "      <th>t</th>\n",
       "      <th>P.Value</th>\n",
       "      <th>adj.P.Val</th>\n",
       "    </tr>\n",
       "    <tr>\n",
       "      <th>genes</th>\n",
       "      <th></th>\n",
       "      <th></th>\n",
       "      <th></th>\n",
       "      <th></th>\n",
       "      <th></th>\n",
       "      <th></th>\n",
       "    </tr>\n",
       "  </thead>\n",
       "  <tbody>\n",
       "    <tr>\n",
       "      <th>GNL3</th>\n",
       "      <td>3.489669</td>\n",
       "      <td>9.693243</td>\n",
       "      <td>7.231195</td>\n",
       "      <td>7.632254</td>\n",
       "      <td>0.000239</td>\n",
       "      <td>0.005522</td>\n",
       "    </tr>\n",
       "    <tr>\n",
       "      <th>RBM39</th>\n",
       "      <td>-3.791433</td>\n",
       "      <td>8.446697</td>\n",
       "      <td>7.572127</td>\n",
       "      <td>-8.003826</td>\n",
       "      <td>0.000183</td>\n",
       "      <td>0.005522</td>\n",
       "    </tr>\n",
       "    <tr>\n",
       "      <th>RPL35</th>\n",
       "      <td>4.458971</td>\n",
       "      <td>13.482809</td>\n",
       "      <td>6.200467</td>\n",
       "      <td>9.076313</td>\n",
       "      <td>0.000089</td>\n",
       "      <td>0.005522</td>\n",
       "    </tr>\n",
       "    <tr>\n",
       "      <th>RPL27A</th>\n",
       "      <td>2.511979</td>\n",
       "      <td>10.383807</td>\n",
       "      <td>6.258778</td>\n",
       "      <td>8.254291</td>\n",
       "      <td>0.000153</td>\n",
       "      <td>0.005522</td>\n",
       "    </tr>\n",
       "    <tr>\n",
       "      <th>HNRNPM</th>\n",
       "      <td>2.594470</td>\n",
       "      <td>15.165240</td>\n",
       "      <td>5.951707</td>\n",
       "      <td>9.579872</td>\n",
       "      <td>0.000065</td>\n",
       "      <td>0.005522</td>\n",
       "    </tr>\n",
       "  </tbody>\n",
       "</table>\n",
       "</div>"
      ],
      "text/plain": [
       "          log2FC    AveExpr   EffSize         t   P.Value  adj.P.Val\n",
       "genes                                                               \n",
       "GNL3    3.489669   9.693243  7.231195  7.632254  0.000239   0.005522\n",
       "RBM39  -3.791433   8.446697  7.572127 -8.003826  0.000183   0.005522\n",
       "RPL35   4.458971  13.482809  6.200467  9.076313  0.000089   0.005522\n",
       "RPL27A  2.511979  10.383807  6.258778  8.254291  0.000153   0.005522\n",
       "HNRNPM  2.594470  15.165240  5.951707  9.579872  0.000065   0.005522"
      ]
     },
     "execution_count": 8,
     "metadata": {},
     "output_type": "execute_result"
    }
   ],
   "source": [
    "mstbl = pd.read_csv('supplementary/MS/17_vs_No bait_all.csv', index_col=0)\n",
    "mstbl.head()"
   ]
  },
  {
   "cell_type": "code",
   "execution_count": 9,
   "metadata": {},
   "outputs": [],
   "source": [
    "xs = mstbl['log2FC']\n",
    "ys = -np.log10(mstbl['adj.P.Val'])\n",
    "lw = .8\n",
    "s = 15\n",
    "color, ecolor, colorsub = '#464646', 'black', 'tab:red'\n",
    "alpha = .7\n",
    "proteins = mstbl[(mstbl['log2FC']>=2)&(mstbl['adj.P.Val']<.05)].index\n",
    "xssub = mstbl.loc[proteins, 'log2FC']\n",
    "yssub = -np.log10(mstbl.loc[proteins,'adj.P.Val'])\n",
    "ymin, ymax = -.07, 2.4\n",
    "xmin, xmax = -3.7, 5\n",
    "cutx, cuty = 2, -np.log10(.005)"
   ]
  },
  {
   "cell_type": "code",
   "execution_count": 10,
   "metadata": {
    "scrolled": true
   },
   "outputs": [
    {
     "data": {
      "text/html": [
       "<div>\n",
       "<style scoped>\n",
       "    .dataframe tbody tr th:only-of-type {\n",
       "        vertical-align: middle;\n",
       "    }\n",
       "\n",
       "    .dataframe tbody tr th {\n",
       "        vertical-align: top;\n",
       "    }\n",
       "\n",
       "    .dataframe thead th {\n",
       "        text-align: right;\n",
       "    }\n",
       "</style>\n",
       "<table border=\"1\" class=\"dataframe\">\n",
       "  <thead>\n",
       "    <tr style=\"text-align: right;\">\n",
       "      <th></th>\n",
       "      <th>log2FC</th>\n",
       "      <th>AveExpr</th>\n",
       "      <th>EffSize</th>\n",
       "      <th>t</th>\n",
       "      <th>P.Value</th>\n",
       "      <th>adj.P.Val</th>\n",
       "    </tr>\n",
       "    <tr>\n",
       "      <th>genes</th>\n",
       "      <th></th>\n",
       "      <th></th>\n",
       "      <th></th>\n",
       "      <th></th>\n",
       "      <th></th>\n",
       "      <th></th>\n",
       "    </tr>\n",
       "  </thead>\n",
       "  <tbody>\n",
       "    <tr>\n",
       "      <th>HIST1H1C</th>\n",
       "      <td>2.275204</td>\n",
       "      <td>12.969666</td>\n",
       "      <td>4.914891</td>\n",
       "      <td>7.826909</td>\n",
       "      <td>0.000207</td>\n",
       "      <td>0.005522</td>\n",
       "    </tr>\n",
       "    <tr>\n",
       "      <th>RPL27A</th>\n",
       "      <td>2.511979</td>\n",
       "      <td>10.383807</td>\n",
       "      <td>6.258778</td>\n",
       "      <td>8.254291</td>\n",
       "      <td>0.000153</td>\n",
       "      <td>0.005522</td>\n",
       "    </tr>\n",
       "    <tr>\n",
       "      <th>HNRNPM</th>\n",
       "      <td>2.594470</td>\n",
       "      <td>15.165240</td>\n",
       "      <td>5.951707</td>\n",
       "      <td>9.579872</td>\n",
       "      <td>0.000065</td>\n",
       "      <td>0.005522</td>\n",
       "    </tr>\n",
       "    <tr>\n",
       "      <th>GNL3</th>\n",
       "      <td>3.489669</td>\n",
       "      <td>9.693243</td>\n",
       "      <td>7.231195</td>\n",
       "      <td>7.632254</td>\n",
       "      <td>0.000239</td>\n",
       "      <td>0.005522</td>\n",
       "    </tr>\n",
       "    <tr>\n",
       "      <th>RPL35</th>\n",
       "      <td>4.458971</td>\n",
       "      <td>13.482809</td>\n",
       "      <td>6.200467</td>\n",
       "      <td>9.076313</td>\n",
       "      <td>0.000089</td>\n",
       "      <td>0.005522</td>\n",
       "    </tr>\n",
       "    <tr>\n",
       "      <th>TRA2B</th>\n",
       "      <td>4.722037</td>\n",
       "      <td>11.217765</td>\n",
       "      <td>5.006066</td>\n",
       "      <td>7.322286</td>\n",
       "      <td>0.000301</td>\n",
       "      <td>0.006093</td>\n",
       "    </tr>\n",
       "    <tr>\n",
       "      <th>RPS6</th>\n",
       "      <td>2.522442</td>\n",
       "      <td>13.548230</td>\n",
       "      <td>4.276460</td>\n",
       "      <td>7.020278</td>\n",
       "      <td>0.000380</td>\n",
       "      <td>0.006363</td>\n",
       "    </tr>\n",
       "    <tr>\n",
       "      <th>TRA2A</th>\n",
       "      <td>3.214741</td>\n",
       "      <td>7.740962</td>\n",
       "      <td>6.057833</td>\n",
       "      <td>6.978928</td>\n",
       "      <td>0.000393</td>\n",
       "      <td>0.006363</td>\n",
       "    </tr>\n",
       "    <tr>\n",
       "      <th>HIST1H4A</th>\n",
       "      <td>2.280144</td>\n",
       "      <td>15.316241</td>\n",
       "      <td>4.356849</td>\n",
       "      <td>6.622807</td>\n",
       "      <td>0.000524</td>\n",
       "      <td>0.007714</td>\n",
       "    </tr>\n",
       "    <tr>\n",
       "      <th>RPL17</th>\n",
       "      <td>3.462908</td>\n",
       "      <td>14.930159</td>\n",
       "      <td>3.349051</td>\n",
       "      <td>5.423465</td>\n",
       "      <td>0.001522</td>\n",
       "      <td>0.015406</td>\n",
       "    </tr>\n",
       "    <tr>\n",
       "      <th>RPS9</th>\n",
       "      <td>4.343491</td>\n",
       "      <td>12.314782</td>\n",
       "      <td>3.407818</td>\n",
       "      <td>5.194498</td>\n",
       "      <td>0.001901</td>\n",
       "      <td>0.017772</td>\n",
       "    </tr>\n",
       "    <tr>\n",
       "      <th>RPL26</th>\n",
       "      <td>3.446738</td>\n",
       "      <td>12.455076</td>\n",
       "      <td>2.559592</td>\n",
       "      <td>4.016399</td>\n",
       "      <td>0.006693</td>\n",
       "      <td>0.043991</td>\n",
       "    </tr>\n",
       "    <tr>\n",
       "      <th>SRSF3</th>\n",
       "      <td>2.392470</td>\n",
       "      <td>10.781518</td>\n",
       "      <td>2.888200</td>\n",
       "      <td>3.913179</td>\n",
       "      <td>0.007546</td>\n",
       "      <td>0.045274</td>\n",
       "    </tr>\n",
       "  </tbody>\n",
       "</table>\n",
       "</div>"
      ],
      "text/plain": [
       "            log2FC    AveExpr   EffSize         t   P.Value  adj.P.Val\n",
       "genes                                                                 \n",
       "HIST1H1C  2.275204  12.969666  4.914891  7.826909  0.000207   0.005522\n",
       "RPL27A    2.511979  10.383807  6.258778  8.254291  0.000153   0.005522\n",
       "HNRNPM    2.594470  15.165240  5.951707  9.579872  0.000065   0.005522\n",
       "GNL3      3.489669   9.693243  7.231195  7.632254  0.000239   0.005522\n",
       "RPL35     4.458971  13.482809  6.200467  9.076313  0.000089   0.005522\n",
       "TRA2B     4.722037  11.217765  5.006066  7.322286  0.000301   0.006093\n",
       "RPS6      2.522442  13.548230  4.276460  7.020278  0.000380   0.006363\n",
       "TRA2A     3.214741   7.740962  6.057833  6.978928  0.000393   0.006363\n",
       "HIST1H4A  2.280144  15.316241  4.356849  6.622807  0.000524   0.007714\n",
       "RPL17     3.462908  14.930159  3.349051  5.423465  0.001522   0.015406\n",
       "RPS9      4.343491  12.314782  3.407818  5.194498  0.001901   0.017772\n",
       "RPL26     3.446738  12.455076  2.559592  4.016399  0.006693   0.043991\n",
       "SRSF3     2.392470  10.781518  2.888200  3.913179  0.007546   0.045274"
      ]
     },
     "execution_count": 10,
     "metadata": {},
     "output_type": "execute_result"
    }
   ],
   "source": [
    "mstbl[(mstbl['log2FC']>2)&(mstbl['adj.P.Val']<.05)].sort_values(['adj.P.Val','log2FC'])"
   ]
  },
  {
   "cell_type": "code",
   "execution_count": 11,
   "metadata": {},
   "outputs": [
    {
     "data": {
      "text/plain": [
       "Text(2.6,1.1,u'SRSF3')"
      ]
     },
     "execution_count": 11,
     "metadata": {},
     "output_type": "execute_result"
    },
    {
     "data": {
      "image/png": "[encoded data removed]",
      "text/plain": [
       "<matplotlib.figure.Figure at 0x7f6f3b231f10>"
      ]
     },
     "metadata": {},
     "output_type": "display_data"
    }
   ],
   "source": [
    "fig, ax = plt.subplots(1, 1, figsize=(3,3))\n",
    "ax.scatter(xs, ys, s=s, facecolor=color, edgecolor=ecolor, lw=lw, alpha=alpha, zorder=2)\n",
    "ax.scatter(xssub, yssub, s=s, color=colorsub, alpha=alpha, zorder=2)\n",
    "\n",
    "ax.set_xlim(xmin, xmax)\n",
    "ax.set_ylim(ymin, ymax)\n",
    "ax.set_xlabel('Protein enrichment\\n(log2 mir-17/no bait)', fontsize=12)\n",
    "ax.set_ylabel('log10 q-value', fontsize=12)\n",
    "ax.spines['left'].set_bounds(0, ymax)\n",
    "ax.axhline(-np.log10(.05),color='k',ls='--',lw=1)\n",
    "ax.axvline(2,color='k',ls='--',lw=1)\n",
    "sq = plt.Rectangle((xmin,-.03), xmax-xmin, ymax+.05, fc='white', alpha=.3); ax.add_patch(sq)\n",
    "ax.grid(ls='-', lw=.5, clip_path=sq)\n",
    "\n",
    "ax.text(5,2.15,'TRA2B'); ax.text(4.6,2.31,'RPL35'); ax.text(3.1,2.33,'GNL3')\n",
    "ax.text(3.1,2.02,'TRA2A'); ax.text(2.05,1.64,'RPL17'); ax.text(4.5,1.7,'RPS9')\n",
    "ax.text(3.6,1.33,'RPL26'); ax.text(2.5,1.88,'RPS6'); ax.plot([2.55,2.7],[2.17,2],'k--',lw=1)\n",
    "ax.text(2.1,2.19,'HIST1H1C',ha='right',bbox={'pad':.1,'facecolor':'w','alpha':.8,'lw':0})\n",
    "ax.text(2.1,2,'HIST1H4A',ha='right',bbox={'pad':.1,'facecolor':'w','alpha':.8,'lw':0})\n",
    "ax.text(1.7,2.35,'RPL27A\\nHNRNPM', bbox={'pad':.1,'facecolor':'w','alpha':.8,'lw':0},\n",
    "        ha='center',linespacing=.9)\n",
    "ax.plot([2.45,2.6],[1.32,1.2],'k--',lw=1)\n",
    "ax.text(2.6, 1.1, 'SRSF3', bbox={'pad':.1,'facecolor':'w','alpha':.8,'lw':0})\n",
    "#fig.savefig(resultpath+'200909_f4e__ms_enrichment_mir17.pdf')"
   ]
  },
  {
   "cell_type": "code",
   "execution_count": null,
   "metadata": {},
   "outputs": [],
   "source": []
  }
 ],
 "metadata": {
  "kernelspec": {
   "display_name": "Python 2",
   "language": "python",
   "name": "python2"
  },
  "language_info": {
   "codemirror_mode": {
    "name": "ipython",
    "version": 2
   },
   "file_extension": ".py",
   "mimetype": "text/x-python",
   "name": "python",
   "nbconvert_exporter": "python",
   "pygments_lexer": "ipython2",
   "version": "2.7.18"
  }
 },
 "nbformat": 4,
 "nbformat_minor": 2
}
